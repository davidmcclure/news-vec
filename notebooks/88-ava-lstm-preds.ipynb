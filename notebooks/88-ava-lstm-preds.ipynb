{
 "cells": [
  {
   "cell_type": "code",
   "execution_count": 10,
   "metadata": {},
   "outputs": [],
   "source": [
    "from annoy import AnnoyIndex\n",
    "from tqdm import tqdm\n",
    "\n",
    "from news_vec.encoder import read_preds"
   ]
  },
  {
   "cell_type": "code",
   "execution_count": 3,
   "metadata": {},
   "outputs": [
    {
     "name": "stderr",
     "output_type": "stream",
     "text": [
      "100%|██████████| 430/430 [00:23<00:00, 20.19it/s]\n"
     ]
    }
   ],
   "source": [
    "df, embeds = read_preds('../data/ava-preds/')"
   ]
  },
  {
   "cell_type": "code",
   "execution_count": 49,
   "metadata": {},
   "outputs": [],
   "source": [
    "bf = df[df.domain=='dailykos.com']"
   ]
  },
  {
   "cell_type": "code",
   "execution_count": 50,
   "metadata": {},
   "outputs": [],
   "source": [
    "idx = AnnoyIndex(embeds.shape[1])"
   ]
  },
  {
   "cell_type": "code",
   "execution_count": 51,
   "metadata": {},
   "outputs": [
    {
     "name": "stderr",
     "output_type": "stream",
     "text": [
      "100%|██████████| 26860/26860 [00:02<00:00, 10360.42it/s]\n"
     ]
    },
    {
     "data": {
      "text/plain": [
       "True"
      ]
     },
     "execution_count": 51,
     "metadata": {},
     "output_type": "execute_result"
    }
   ],
   "source": [
    "for i in tqdm(bf.index):\n",
    "    idx.add_item(i, embeds[i])\n",
    "    \n",
    "idx.build(10)"
   ]
  },
  {
   "cell_type": "code",
   "execution_count": 52,
   "metadata": {},
   "outputs": [],
   "source": [
    "b10_mean = embeds[bf[bf.ts_bucket==9].index].mean(0)\n",
    "b1_mean = embeds[bf[bf.ts_bucket==0].index].mean(0)"
   ]
  },
  {
   "cell_type": "code",
   "execution_count": 54,
   "metadata": {},
   "outputs": [
    {
     "name": "stdout",
     "output_type": "stream",
     "text": [
      "Open thread for night owls : In Alabama , a memorial to lynching victims draws local ire\n",
      "Rightwing Star Declares He 's Too Healthy For Insurance : Guess What Happened .\n",
      "Energy Transfer Partners Pipeline Explodes in Pennsylvania\n",
      "Kansas prepares to lose another hospital - Brownback scrambles for a solution\n",
      "Ancient America : Life in a California Rock Shelter\n",
      "In Kansas , Hope , Joy , Tears and a night of Women Warriors\n",
      "After assisting in Mexico quake relief , Chef José Andrés has served 350,000 meals in Puerto Rico\n",
      "Midday open thread : Methane rule in limbo again ; Pulse survivors — social media sites abet terrorism\n",
      "Ex Trump Lawyer Dowd Dangled Pardons for Flynn & Manafort\n",
      "Man who sued South Carolina to replace Confederate Flags : ' Look , there 's Martin Luther c**n '\n",
      "Paul Ryan the Trump Russia colluder : ' What 's said in the family stays in the family '\n",
      "This week in the war on workers : McDonald 's made a splash with raises in 2015 , but in 2018 ...\n",
      "Miami state senator under fire for calling colleagues n*ggas as if quoting rap lyrics ( he was n't )\n",
      "The Unaffordable Care Act : AARP 's eye popping cost projections for near seniors\n",
      "Palo Alto schools become ' sanctuaries ' for students\n",
      "After serving over two million meals in Puerto Rico , Chef Andrés ' work ' may change how aid is given '\n",
      "Palo Alto schools become ' sanctuaries ' for students\n",
      "Judge in Manafort trial bolsters argument for the defense\n",
      "New U.S. attorney dismantles northern Ohio civil rights unit\n",
      "Kansas opens food pantry in Sedgwick County courthouse - for employees\n"
     ]
    }
   ],
   "source": [
    "for i in idx.get_nns_by_vector(b10_mean - b1_mean, 20):\n",
    "    print(df.iloc[i].title)"
   ]
  },
  {
   "cell_type": "code",
   "execution_count": null,
   "metadata": {},
   "outputs": [],
   "source": []
  }
 ],
 "metadata": {
  "kernelspec": {
   "display_name": "Python 3",
   "language": "python",
   "name": "python3"
  },
  "language_info": {
   "codemirror_mode": {
    "name": "ipython",
    "version": 3
   },
   "file_extension": ".py",
   "mimetype": "text/x-python",
   "name": "python",
   "nbconvert_exporter": "python",
   "pygments_lexer": "ipython3",
   "version": "3.7.0"
  }
 },
 "nbformat": 4,
 "nbformat_minor": 2
}
