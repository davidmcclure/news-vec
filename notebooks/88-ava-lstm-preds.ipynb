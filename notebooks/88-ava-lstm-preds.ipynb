{
 "cells": [
  {
   "cell_type": "code",
   "execution_count": 1,
   "metadata": {},
   "outputs": [],
   "source": [
    "from annoy import AnnoyIndex\n",
    "from tqdm import tqdm\n",
    "\n",
    "from news_vec.encoder import read_preds"
   ]
  },
  {
   "cell_type": "code",
   "execution_count": 2,
   "metadata": {},
   "outputs": [
    {
     "name": "stderr",
     "output_type": "stream",
     "text": [
      "100%|██████████| 430/430 [00:22<00:00, 24.58it/s]\n"
     ]
    }
   ],
   "source": [
    "df, embeds = read_preds('../data/ava-preds/')"
   ]
  },
  {
   "cell_type": "code",
   "execution_count": 3,
   "metadata": {},
   "outputs": [],
   "source": [
    "bf = df[df.domain=='foxnews.com']"
   ]
  },
  {
   "cell_type": "code",
   "execution_count": 4,
   "metadata": {},
   "outputs": [],
   "source": [
    "idx = AnnoyIndex(embeds.shape[1])"
   ]
  },
  {
   "cell_type": "code",
   "execution_count": 5,
   "metadata": {},
   "outputs": [
    {
     "name": "stderr",
     "output_type": "stream",
     "text": [
      "100%|██████████| 26860/26860 [00:02<00:00, 11132.59it/s]\n"
     ]
    },
    {
     "data": {
      "text/plain": [
       "True"
      ]
     },
     "execution_count": 5,
     "metadata": {},
     "output_type": "execute_result"
    }
   ],
   "source": [
    "for i in tqdm(bf.index):\n",
    "    idx.add_item(i, embeds[i])\n",
    "    \n",
    "idx.build(10)"
   ]
  },
  {
   "cell_type": "code",
   "execution_count": 6,
   "metadata": {},
   "outputs": [],
   "source": [
    "b10_mean = embeds[bf[bf.ts_bucket==9].index].mean(0)\n",
    "b1_mean = embeds[bf[bf.ts_bucket==0].index].mean(0)"
   ]
  },
  {
   "cell_type": "code",
   "execution_count": 7,
   "metadata": {},
   "outputs": [
    {
     "name": "stdout",
     "output_type": "stream",
     "text": [
      "Marine Corps sergeant 's mysterious murder in California leaves wife ' speechless , ' pleading for answers\n",
      "' Star Trek ' star George Takei says U.S. family separation policy is worse than Japanese internment camps\n",
      "Hurricane Harvey strengthens to Category 2 storm , Texas officials urge residents to ' Get out now '\n",
      "Texas kidney recipient to get life saving organ from stranger answering ' divine call ' to donate\n",
      "Beto O'Rourke reportedly tried to flee scene before 1998 drunken driving arrest , witness said\n",
      "Austin serial bomber may have other devices ' out there , ' cops uncover ' treasure trove of information '\n",
      "Family of Ohio teen crushed by minivan seat storms out of meeting , says councilman ' crossed the line '\n",
      "Outrage grows over Oklahoma judge who reportedly let several child rapists off without prison time\n",
      "Jennifer Lawrence shut down by Delta crew after grabbing loudspeaker to lead plane in Eagles chant\n",
      "Garbage truck driver drank beers before fatally striking Australian tourist in New York City , cops say\n",
      "San Diego begins ' sanitary street washing ' of downtown after pooping homeless people cause deadly hepatitis outbreak\n",
      "Body recovered near California cliff crash site , may be one of the missing Hart children\n",
      "Confession of Pennsylvania farm quadruple murderer heard in chilling video , details killing man with backhoe\n",
      "Southern California medical building blast killed day spa owner , was the result of explosive package : officials\n",
      "Florida school accused of offering students ' front of lunch line pass ' for $ 100 ; parents outraged\n",
      "Rachel Dolezal , also known as Nkechi Diallo , booked and released on welfare fraud , other charges\n",
      "Seattle homeless crisis leaves Jewish cemetery dealing with parked RVs , leftover needles , trash\n",
      "Maxim introduces newcomer Olivia Burns as fan voted cover girl , raises money for wounded veterans\n",
      "Marine vet 's promotion to sergeant officially recognized 73 years after sinking of USS Indianapolis\n",
      "California mudslide victims include founder of Catholic school , ' first lady ' of luxury real estate\n"
     ]
    }
   ],
   "source": [
    "for i in idx.get_nns_by_vector(b10_mean - b1_mean, 20):\n",
    "    print(df.iloc[i].title)"
   ]
  },
  {
   "cell_type": "code",
   "execution_count": null,
   "metadata": {},
   "outputs": [],
   "source": []
  }
 ],
 "metadata": {
  "kernelspec": {
   "display_name": "Python 3",
   "language": "python",
   "name": "python3"
  },
  "language_info": {
   "codemirror_mode": {
    "name": "ipython",
    "version": 3
   },
   "file_extension": ".py",
   "mimetype": "text/x-python",
   "name": "python",
   "nbconvert_exporter": "python",
   "pygments_lexer": "ipython3",
   "version": "3.7.0"
  }
 },
 "nbformat": 4,
 "nbformat_minor": 2
}
