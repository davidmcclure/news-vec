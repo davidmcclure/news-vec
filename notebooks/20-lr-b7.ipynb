{
 "cells": [
  {
   "cell_type": "code",
   "execution_count": 107,
   "metadata": {},
   "outputs": [],
   "source": [
    "import warnings\n",
    "import gzip\n",
    "import ujson\n",
    "\n",
    "import pandas as pd\n",
    "import numpy as np\n",
    "\n",
    "from glob import glob\n",
    "from itertools import islice\n",
    "from tqdm import tqdm\n",
    "from boltons.iterutils import windowed\n",
    "from collections import Counter\n",
    "\n",
    "from sklearn.feature_extraction import DictVectorizer\n",
    "from sklearn.linear_model import LogisticRegression\n",
    "from sklearn.model_selection import train_test_split\n",
    "from sklearn import metrics\n",
    "\n",
    "from news_vec import logger\n",
    "from news_vec.title_clf import clean_headline"
   ]
  },
  {
   "cell_type": "code",
   "execution_count": 108,
   "metadata": {},
   "outputs": [],
   "source": [
    "import matplotlib as mpl\n",
    "import matplotlib.pyplot as plt\n",
    "import altair as alt\n",
    "import seaborn as sns\n",
    "\n",
    "mpl.style.use('seaborn-muted')\n",
    "sns.set(style=\"whitegrid\")\n",
    "\n",
    "%matplotlib inline"
   ]
  },
  {
   "cell_type": "code",
   "execution_count": 109,
   "metadata": {},
   "outputs": [],
   "source": [
    "warnings.simplefilter('ignore')"
   ]
  },
  {
   "cell_type": "code",
   "execution_count": 110,
   "metadata": {},
   "outputs": [],
   "source": [
    "class Line:\n",
    "\n",
    "    def __init__(self, tokens, label, lower=True):\n",
    "        self.tokens = [t.lower() for t in tokens] if lower else tokens\n",
    "        self.label = label\n",
    "\n",
    "    def __repr__(self):\n",
    "\n",
    "        pattern = '{cls_name}<{token_count} tokens -> {label}>'\n",
    "\n",
    "        return pattern.format(\n",
    "            cls_name=self.__class__.__name__,\n",
    "            token_count=len(self.tokens),\n",
    "            label=self.label,\n",
    "        )\n",
    "    \n",
    "    def ngrams_iter(self, n, vocab=None):\n",
    "        for ng in windowed(self.tokens, n):\n",
    "            if not vocab or ng in vocab:\n",
    "                yield ng\n",
    "    \n",
    "    def features_iter(self, vocab):\n",
    "        yield from Counter(self.ngrams_iter(1, vocab)).items()\n",
    "        yield from Counter(self.ngrams_iter(2, vocab)).items()\n",
    "        yield from Counter(self.ngrams_iter(3, vocab)).items()\n",
    "        \n",
    "    def x(self, vocab):\n",
    "        return dict(self.features_iter(vocab))"
   ]
  },
  {
   "cell_type": "code",
   "execution_count": 111,
   "metadata": {},
   "outputs": [],
   "source": [
    "def read_json_lines(root, lower=True):\n",
    "    \"\"\"Generate links from a JSON corpus.\n",
    "\n",
    "    Yields: list<str>\n",
    "    \"\"\"\n",
    "    for path in glob('%s/**/*.gz' % root, recursive=True):\n",
    "        with gzip.open(path) as fh:\n",
    "            for line in fh:\n",
    "\n",
    "                data = ujson.loads(line)\n",
    "\n",
    "                tokens = data.get('tokens')\n",
    "                tokens = clean_headline(tokens)\n",
    "\n",
    "                if not tokens:\n",
    "                    continue\n",
    "\n",
    "                yield Line(tokens, data['label'], lower=lower)"
   ]
  },
  {
   "cell_type": "code",
   "execution_count": 112,
   "metadata": {},
   "outputs": [],
   "source": [
    "class Corpus:\n",
    "\n",
    "    def __init__(self, root, skim=None, lower=True):\n",
    "        \"\"\"Read lines.\n",
    "        \"\"\"\n",
    "        logger.info('Parsing line corpus.')\n",
    "\n",
    "        lines_iter = islice(read_json_lines(root, lower), skim)\n",
    "\n",
    "        self.lines = list(tqdm(lines_iter))\n",
    "\n",
    "    def __repr__(self):\n",
    "\n",
    "        pattern = '{cls_name}<{line_count} lines>'\n",
    "\n",
    "        return pattern.format(\n",
    "            cls_name=self.__class__.__name__,\n",
    "            line_count=len(self),\n",
    "        )\n",
    "\n",
    "    def __len__(self):\n",
    "        return len(self.lines)\n",
    "\n",
    "    def __iter__(self):\n",
    "        return iter(self.lines)\n",
    "    \n",
    "    def ngram_counts(self, n):\n",
    "        \"\"\"Collect all ngram -> count.\n",
    "        \"\"\"\n",
    "        logger.info('Gathering %d-gram counts.' % n)\n",
    "\n",
    "        counts = Counter()\n",
    "        for line in tqdm(self):\n",
    "            counts.update(line.ngrams_iter(n))\n",
    "\n",
    "        return counts\n",
    "\n",
    "    def topk_ngrams(self, n, k):\n",
    "        counts = self.ngram_counts(n)\n",
    "        return [ng for ng, _ in counts.most_common(k)]\n",
    "    \n",
    "    def x_iter(self, vocab):\n",
    "        for line in tqdm(self):\n",
    "            yield line.x(vocab)"
   ]
  },
  {
   "cell_type": "code",
   "execution_count": 113,
   "metadata": {},
   "outputs": [
    {
     "name": "stderr",
     "output_type": "stream",
     "text": [
      "2018-12-04 12:19:35,929 | INFO : Parsing line corpus.\n",
      "807811it [00:24, 33615.40it/s]\n"
     ]
    }
   ],
   "source": [
    "c = Corpus('../data/titles-b7.json/')"
   ]
  },
  {
   "cell_type": "code",
   "execution_count": 114,
   "metadata": {},
   "outputs": [
    {
     "name": "stderr",
     "output_type": "stream",
     "text": [
      "2018-12-04 12:20:07,265 | INFO : Gathering 1-gram counts.\n",
      "100%|██████████| 807811/807811 [00:06<00:00, 119858.08it/s]\n",
      "2018-12-04 12:20:14,055 | INFO : Gathering 2-gram counts.\n",
      "100%|██████████| 807811/807811 [00:09<00:00, 82754.04it/s]\n",
      "2018-12-04 12:20:24,228 | INFO : Gathering 3-gram counts.\n",
      "100%|██████████| 807811/807811 [00:09<00:00, 88119.53it/s]\n"
     ]
    }
   ],
   "source": [
    "vocab = set(\n",
    "    c.topk_ngrams(1, 5000) +\n",
    "    c.topk_ngrams(2, 5000) +\n",
    "    c.topk_ngrams(3, 5000)\n",
    ")"
   ]
  },
  {
   "cell_type": "code",
   "execution_count": 115,
   "metadata": {},
   "outputs": [
    {
     "name": "stderr",
     "output_type": "stream",
     "text": [
      "100%|██████████| 807811/807811 [00:27<00:00, 29725.81it/s]\n"
     ]
    }
   ],
   "source": [
    "xs = list(c.x_iter(vocab))"
   ]
  },
  {
   "cell_type": "code",
   "execution_count": 116,
   "metadata": {},
   "outputs": [],
   "source": [
    "dv = DictVectorizer()\n",
    "X = dv.fit_transform(xs)"
   ]
  },
  {
   "cell_type": "code",
   "execution_count": 117,
   "metadata": {},
   "outputs": [
    {
     "data": {
      "text/plain": [
       "<807811x15000 sparse matrix of type '<class 'numpy.float64'>'\n",
       "\twith 8260452 stored elements in Compressed Sparse Row format>"
      ]
     },
     "execution_count": 117,
     "metadata": {},
     "output_type": "execute_result"
    }
   ],
   "source": [
    "X"
   ]
  },
  {
   "cell_type": "code",
   "execution_count": 118,
   "metadata": {},
   "outputs": [],
   "source": [
    "y = [line.label for line in c]"
   ]
  },
  {
   "cell_type": "code",
   "execution_count": 119,
   "metadata": {},
   "outputs": [],
   "source": [
    "X_train, X_test, y_train, y_test = train_test_split(X, y, test_size=0.2)"
   ]
  },
  {
   "cell_type": "code",
   "execution_count": 120,
   "metadata": {},
   "outputs": [],
   "source": [
    "model = LogisticRegression(verbose=True, multi_class='multinomial', solver='sag', n_jobs=-1)"
   ]
  },
  {
   "cell_type": "code",
   "execution_count": 121,
   "metadata": {},
   "outputs": [
    {
     "name": "stderr",
     "output_type": "stream",
     "text": [
      "[Parallel(n_jobs=-1)]: Using backend ThreadingBackend with 8 concurrent workers.\n"
     ]
    },
    {
     "name": "stdout",
     "output_type": "stream",
     "text": [
      "max_iter reached after 82 seconds\n"
     ]
    },
    {
     "name": "stderr",
     "output_type": "stream",
     "text": [
      "[Parallel(n_jobs=-1)]: Done   1 out of   1 | elapsed:  1.4min finished\n"
     ]
    }
   ],
   "source": [
    "fit = model.fit(X_train, y_train)"
   ]
  },
  {
   "cell_type": "code",
   "execution_count": 100,
   "metadata": {},
   "outputs": [],
   "source": [
    "y_pred = fit.predict(X_test)"
   ]
  },
  {
   "cell_type": "code",
   "execution_count": 101,
   "metadata": {},
   "outputs": [
    {
     "name": "stdout",
     "output_type": "stream",
     "text": [
      "                    precision    recall  f1-score   support\n",
      "\n",
      "        apnews.com       0.42      0.49      0.46     23106\n",
      "     breitbart.com       0.54      0.55      0.55     23005\n",
      "           cnn.com       0.40      0.42      0.41     22823\n",
      "       foxnews.com       0.41      0.34      0.37     23237\n",
      "huffingtonpost.com       0.54      0.55      0.55     23170\n",
      "       nytimes.com       0.47      0.37      0.41     22901\n",
      "       reuters.com       0.61      0.70      0.65     23321\n",
      "\n",
      "         micro avg       0.49      0.49      0.49    161563\n",
      "         macro avg       0.49      0.49      0.49    161563\n",
      "      weighted avg       0.49      0.49      0.49    161563\n",
      "\n"
     ]
    }
   ],
   "source": [
    "print(metrics.classification_report(y_test, y_pred))"
   ]
  },
  {
   "cell_type": "code",
   "execution_count": 102,
   "metadata": {},
   "outputs": [],
   "source": [
    "cm = metrics.confusion_matrix(y_test, y_pred, labels=fit.classes_)\n",
    "cm = cm / cm.sum(1)"
   ]
  },
  {
   "cell_type": "code",
   "execution_count": 103,
   "metadata": {},
   "outputs": [],
   "source": [
    "np.fill_diagonal(cm, 0)"
   ]
  },
  {
   "cell_type": "code",
   "execution_count": 104,
   "metadata": {},
   "outputs": [],
   "source": [
    "rows = [\n",
    "    (fit.classes_[x], fit.classes_[y], cm[x, y])\n",
    "    for x in range(cm.shape[0])\n",
    "    for y in range(cm.shape[1])\n",
    "]"
   ]
  },
  {
   "cell_type": "code",
   "execution_count": 105,
   "metadata": {},
   "outputs": [],
   "source": [
    "cm_df = pd.DataFrame(rows, columns=('x', 'y', 'z'))"
   ]
  },
  {
   "cell_type": "code",
   "execution_count": 106,
   "metadata": {},
   "outputs": [
    {
     "data": {
      "application/vnd.vegalite.v2+json": {
       "$schema": "https://vega.github.io/schema/vega-lite/v2.6.0.json",
       "config": {
        "axis": {
         "labelFontSize": 16
        },
        "view": {
         "height": 300,
         "width": 400
        }
       },
       "data": {
        "name": "data-67c1e9194c00f74ac58d418dd3c8c9f3"
       },
       "datasets": {
        "data-67c1e9194c00f74ac58d418dd3c8c9f3": [
         {
          "x": "apnews.com",
          "y": "apnews.com",
          "z": 0
         },
         {
          "x": "apnews.com",
          "y": "breitbart.com",
          "z": 0.057074549011084545
         },
         {
          "x": "apnews.com",
          "y": "cnn.com",
          "z": 0.11089690224773255
         },
         {
          "x": "apnews.com",
          "y": "foxnews.com",
          "z": 0.11421439944915436
         },
         {
          "x": "apnews.com",
          "y": "huffingtonpost.com",
          "z": 0.03793698748381528
         },
         {
          "x": "apnews.com",
          "y": "nytimes.com",
          "z": 0.08680843631282477
         },
         {
          "x": "apnews.com",
          "y": "reuters.com",
          "z": 0.09883795720595172
         },
         {
          "x": "breitbart.com",
          "y": "apnews.com",
          "z": 0.07153985977668138
         },
         {
          "x": "breitbart.com",
          "y": "breitbart.com",
          "z": 0
         },
         {
          "x": "breitbart.com",
          "y": "cnn.com",
          "z": 0.0886824694387241
         },
         {
          "x": "breitbart.com",
          "y": "foxnews.com",
          "z": 0.1018634074966648
         },
         {
          "x": "breitbart.com",
          "y": "huffingtonpost.com",
          "z": 0.07781614156236513
         },
         {
          "x": "breitbart.com",
          "y": "nytimes.com",
          "z": 0.04423387624994542
         },
         {
          "x": "breitbart.com",
          "y": "reuters.com",
          "z": 0.06552034646884781
         },
         {
          "x": "cnn.com",
          "y": "apnews.com",
          "z": 0.12109408811564096
         },
         {
          "x": "cnn.com",
          "y": "breitbart.com",
          "z": 0.07976526841990872
         },
         {
          "x": "cnn.com",
          "y": "cnn.com",
          "z": 0
         },
         {
          "x": "cnn.com",
          "y": "foxnews.com",
          "z": 0.1089211171838017
         },
         {
          "x": "cnn.com",
          "y": "huffingtonpost.com",
          "z": 0.13754855416486836
         },
         {
          "x": "cnn.com",
          "y": "nytimes.com",
          "z": 0.07196192306012839
         },
         {
          "x": "cnn.com",
          "y": "reuters.com",
          "z": 0.055829509883795723
         },
         {
          "x": "foxnews.com",
          "y": "apnews.com",
          "z": 0.1826365446204449
         },
         {
          "x": "foxnews.com",
          "y": "breitbart.com",
          "z": 0.1338839382742882
         },
         {
          "x": "foxnews.com",
          "y": "cnn.com",
          "z": 0.14213731761819218
         },
         {
          "x": "foxnews.com",
          "y": "foxnews.com",
          "z": 0
         },
         {
          "x": "foxnews.com",
          "y": "huffingtonpost.com",
          "z": 0.09503668536901165
         },
         {
          "x": "foxnews.com",
          "y": "nytimes.com",
          "z": 0.05401510851054539
         },
         {
          "x": "foxnews.com",
          "y": "reuters.com",
          "z": 0.056644226233866474
         },
         {
          "x": "huffingtonpost.com",
          "y": "apnews.com",
          "z": 0.04661126980005193
         },
         {
          "x": "huffingtonpost.com",
          "y": "breitbart.com",
          "z": 0.08702455987828733
         },
         {
          "x": "huffingtonpost.com",
          "y": "cnn.com",
          "z": 0.12807255838408624
         },
         {
          "x": "huffingtonpost.com",
          "y": "foxnews.com",
          "z": 0.0659293368334983
         },
         {
          "x": "huffingtonpost.com",
          "y": "huffingtonpost.com",
          "z": 0
         },
         {
          "x": "huffingtonpost.com",
          "y": "nytimes.com",
          "z": 0.10021396445570062
         },
         {
          "x": "huffingtonpost.com",
          "y": "reuters.com",
          "z": 0.02306933664937181
         },
         {
          "x": "nytimes.com",
          "y": "apnews.com",
          "z": 0.16069419198476587
         },
         {
          "x": "nytimes.com",
          "y": "breitbart.com",
          "z": 0.052814605520539015
         },
         {
          "x": "nytimes.com",
          "y": "cnn.com",
          "z": 0.10305393681812207
         },
         {
          "x": "nytimes.com",
          "y": "foxnews.com",
          "z": 0.05676292120325343
         },
         {
          "x": "nytimes.com",
          "y": "huffingtonpost.com",
          "z": 0.10673284419507985
         },
         {
          "x": "nytimes.com",
          "y": "nytimes.com",
          "z": 0
         },
         {
          "x": "nytimes.com",
          "y": "reuters.com",
          "z": 0.14257536126238154
         },
         {
          "x": "reuters.com",
          "y": "apnews.com",
          "z": 0.09214056954903488
         },
         {
          "x": "reuters.com",
          "y": "breitbart.com",
          "z": 0.049250163008041734
         },
         {
          "x": "reuters.com",
          "y": "cnn.com",
          "z": 0.05266617009157429
         },
         {
          "x": "reuters.com",
          "y": "foxnews.com",
          "z": 0.035503722511511814
         },
         {
          "x": "reuters.com",
          "y": "huffingtonpost.com",
          "z": 0.017695295640914977
         },
         {
          "x": "reuters.com",
          "y": "nytimes.com",
          "z": 0.061132701628749835
         },
         {
          "x": "reuters.com",
          "y": "reuters.com",
          "z": 0
         }
        ]
       },
       "encoding": {
        "color": {
         "field": "z",
         "type": "quantitative"
        },
        "tooltip": {
         "field": "x",
         "type": "nominal"
        },
        "x": {
         "field": "x",
         "type": "ordinal"
        },
        "y": {
         "field": "y",
         "type": "ordinal"
        }
       },
       "height": 400,
       "mark": "rect",
       "width": 400
      },
      "image/png": "[encoded data removed]",
      "text/plain": [
       "<VegaLite 2 object>\n",
       "\n",
       "If you see this message, it means the renderer has not been properly enabled\n",
       "for the frontend that you are using. For more information, see\n",
       "https://altair-viz.github.io/user_guide/troubleshooting.html\n"
      ]
     },
     "execution_count": 106,
     "metadata": {},
     "output_type": "execute_result"
    }
   ],
   "source": [
    "(alt\n",
    "    .Chart(cm_df, width=400, height=400)\n",
    "    .configure_axis(labelFontSize=16)\n",
    "    .mark_rect()\n",
    "    .encode(x='x:O', y='y:O', color='z:Q', tooltip='x'))"
   ]
  },
  {
   "cell_type": "code",
   "execution_count": null,
   "metadata": {},
   "outputs": [],
   "source": []
  }
 ],
 "metadata": {
  "kernelspec": {
   "display_name": "Python 3",
   "language": "python",
   "name": "python3"
  },
  "language_info": {
   "codemirror_mode": {
    "name": "ipython",
    "version": 3
   },
   "file_extension": ".py",
   "mimetype": "text/x-python",
   "name": "python",
   "nbconvert_exporter": "python",
   "pygments_lexer": "ipython3",
   "version": "3.7.0"
  }
 },
 "nbformat": 4,
 "nbformat_minor": 2
}
