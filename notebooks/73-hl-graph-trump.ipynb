{
 "cells": [
  {
   "cell_type": "code",
   "execution_count": 25,
   "metadata": {},
   "outputs": [],
   "source": [
    "import pandas as pd\n",
    "import numpy as np\n",
    "\n",
    "from tqdm import tqdm\n",
    "from itertools import combinations\n",
    "\n",
    "from news_vec.corpus import Corpus\n",
    "\n",
    "from sklearn.model_selection import cross_val_score\n",
    "from sklearn.feature_extraction.text import TfidfVectorizer\n",
    "from sklearn.svm import LinearSVC\n",
    "from sklearn.pipeline import Pipeline\n",
    "from sklearn import metrics"
   ]
  },
  {
   "cell_type": "code",
   "execution_count": 2,
   "metadata": {},
   "outputs": [],
   "source": [
    "import matplotlib as mpl\n",
    "import matplotlib.pyplot as plt\n",
    "import altair as alt\n",
    "import seaborn as sns\n",
    "\n",
    "mpl.style.use('seaborn-muted')\n",
    "sns.set(style=\"whitegrid\")\n",
    "\n",
    "%matplotlib inline"
   ]
  },
  {
   "cell_type": "code",
   "execution_count": 16,
   "metadata": {},
   "outputs": [
    {
     "name": "stderr",
     "output_type": "stream",
     "text": [
      "2018-12-28 17:00:38,728 | INFO : Reading headlines.\n",
      "1225511it [00:23, 53116.06it/s]\n"
     ]
    }
   ],
   "source": [
    "corpus = Corpus('../data/clf-headlines.json/')"
   ]
  },
  {
   "cell_type": "code",
   "execution_count": 17,
   "metadata": {},
   "outputs": [
    {
     "name": "stderr",
     "output_type": "stream",
     "text": [
      "/Users/dclure/.local/share/virtualenvs/news-vec-AvAtlVxK/lib/python3.7/site-packages/ipykernel_launcher.py:1: UserWarning: Boolean Series key will be reindexed to match DataFrame index.\n",
      "  \"\"\"Entry point for launching an IPython kernel.\n"
     ]
    }
   ],
   "source": [
    "corpus.df = corpus.df[corpus.df.clf_tokens.apply(lambda ts: 'trump' in ts)][corpus.df.domain.isin(['cnn.com', 'foxnews.com', 'nytimes.com', 'apnews.com'])]"
   ]
  },
  {
   "cell_type": "code",
   "execution_count": 19,
   "metadata": {},
   "outputs": [],
   "source": [
    "def a_vs_b(a, b, n=10, verbose=True):\n",
    "    \n",
    "    df = corpus.sample_ab(a, b)\n",
    "    \n",
    "    tv = TfidfVectorizer(\n",
    "        analyzer='word',\n",
    "        tokenizer=lambda x: x,\n",
    "        preprocessor=lambda x: x,\n",
    "        token_pattern=None,\n",
    "        ngram_range=(1,3)\n",
    "    )\n",
    "    \n",
    "    clf = LinearSVC()\n",
    "    \n",
    "    X = tv.fit_transform(df.clf_tokens)\n",
    "    \n",
    "    return cross_val_score(clf, X, df.domain, cv=n, n_jobs=-1, verbose=verbose)"
   ]
  },
  {
   "cell_type": "code",
   "execution_count": 22,
   "metadata": {},
   "outputs": [
    {
     "name": "stderr",
     "output_type": "stream",
     "text": [
      "[Parallel(n_jobs=-1)]: Using backend LokyBackend with 8 concurrent workers.\n",
      "[Parallel(n_jobs=-1)]: Done  34 tasks      | elapsed:    2.7s\n",
      "[Parallel(n_jobs=-1)]: Done 100 out of 100 | elapsed:    6.2s finished\n"
     ]
    },
    {
     "data": {
      "text/plain": [
       "array([0.76724138, 0.75      , 0.8362069 , 0.80172414, 0.69827586,\n",
       "       0.72413793, 0.73275862, 0.76724138, 0.75      , 0.65517241,\n",
       "       0.81034483, 0.84482759, 0.82758621, 0.78448276, 0.79310345,\n",
       "       0.79310345, 0.77586207, 0.79310345, 0.6637931 , 0.78448276,\n",
       "       0.84482759, 0.79310345, 0.75      , 0.75862069, 0.79310345,\n",
       "       0.77586207, 0.75862069, 0.74137931, 0.81034483, 0.81896552,\n",
       "       0.69827586, 0.73275862, 0.81896552, 0.79310345, 0.81034483,\n",
       "       0.75      , 0.73275862, 0.81034483, 0.78448276, 0.79310345,\n",
       "       0.8245614 , 0.72807018, 0.75438596, 0.80701754, 0.80701754,\n",
       "       0.79824561, 0.83333333, 0.8245614 , 0.74561404, 0.84210526,\n",
       "       0.83333333, 0.6754386 , 0.83333333, 0.78947368, 0.8245614 ,\n",
       "       0.84210526, 0.79824561, 0.84210526, 0.8245614 , 0.78947368,\n",
       "       0.84210526, 0.80701754, 0.79824561, 0.78070175, 0.78947368,\n",
       "       0.74561404, 0.79824561, 0.80701754, 0.84210526, 0.9122807 ,\n",
       "       0.78947368, 0.79824561, 0.79824561, 0.8245614 , 0.78070175,\n",
       "       0.75438596, 0.75438596, 0.78947368, 0.84210526, 0.75438596,\n",
       "       0.72807018, 0.84210526, 0.80701754, 0.85964912, 0.81578947,\n",
       "       0.80701754, 0.77192982, 0.8245614 , 0.84210526, 0.80701754,\n",
       "       0.81578947, 0.84210526, 0.77192982, 0.85087719, 0.8245614 ,\n",
       "       0.83333333, 0.78070175, 0.84210526, 0.8245614 , 0.79824561])"
      ]
     },
     "execution_count": 22,
     "metadata": {},
     "output_type": "execute_result"
    }
   ],
   "source": [
    "a_vs_b('nytimes.com', 'foxnews.com', 100)"
   ]
  },
  {
   "cell_type": "code",
   "execution_count": 23,
   "metadata": {},
   "outputs": [],
   "source": [
    "domains = corpus.df.domain.unique()"
   ]
  },
  {
   "cell_type": "code",
   "execution_count": 26,
   "metadata": {},
   "outputs": [],
   "source": [
    "pairs = list(combinations(domains, 2))"
   ]
  },
  {
   "cell_type": "code",
   "execution_count": 27,
   "metadata": {},
   "outputs": [
    {
     "name": "stderr",
     "output_type": "stream",
     "text": [
      "100%|██████████| 6/6 [00:43<00:00,  7.22s/it]\n"
     ]
    }
   ],
   "source": [
    "rows = []\n",
    "for a, b in tqdm(pairs):\n",
    "    scores = a_vs_b(a, b, 100, verbose=False)\n",
    "    for s in scores:\n",
    "        rows.append((a, b, s))"
   ]
  },
  {
   "cell_type": "code",
   "execution_count": 28,
   "metadata": {},
   "outputs": [],
   "source": [
    "score_df = pd.DataFrame(rows, columns=('d1', 'd2', 'acc'))"
   ]
  },
  {
   "cell_type": "code",
   "execution_count": 29,
   "metadata": {},
   "outputs": [],
   "source": [
    "score_df['pair'] = score_df[['d1', 'd2']].apply(lambda x: f'{x[0]} - {x[1]}', axis=1)"
   ]
  },
  {
   "cell_type": "code",
   "execution_count": 30,
   "metadata": {},
   "outputs": [
    {
     "data": {
      "text/html": [
       "<div>\n",
       "<style scoped>\n",
       "    .dataframe tbody tr th:only-of-type {\n",
       "        vertical-align: middle;\n",
       "    }\n",
       "\n",
       "    .dataframe tbody tr th {\n",
       "        vertical-align: top;\n",
       "    }\n",
       "\n",
       "    .dataframe thead th {\n",
       "        text-align: right;\n",
       "    }\n",
       "</style>\n",
       "<table border=\"1\" class=\"dataframe\">\n",
       "  <thead>\n",
       "    <tr style=\"text-align: right;\">\n",
       "      <th></th>\n",
       "      <th>d1</th>\n",
       "      <th>d2</th>\n",
       "      <th>acc</th>\n",
       "      <th>pair</th>\n",
       "    </tr>\n",
       "  </thead>\n",
       "  <tbody>\n",
       "    <tr>\n",
       "      <th>0</th>\n",
       "      <td>cnn.com</td>\n",
       "      <td>nytimes.com</td>\n",
       "      <td>0.681034</td>\n",
       "      <td>cnn.com - nytimes.com</td>\n",
       "    </tr>\n",
       "    <tr>\n",
       "      <th>1</th>\n",
       "      <td>cnn.com</td>\n",
       "      <td>nytimes.com</td>\n",
       "      <td>0.741379</td>\n",
       "      <td>cnn.com - nytimes.com</td>\n",
       "    </tr>\n",
       "    <tr>\n",
       "      <th>2</th>\n",
       "      <td>cnn.com</td>\n",
       "      <td>nytimes.com</td>\n",
       "      <td>0.689655</td>\n",
       "      <td>cnn.com - nytimes.com</td>\n",
       "    </tr>\n",
       "    <tr>\n",
       "      <th>3</th>\n",
       "      <td>cnn.com</td>\n",
       "      <td>nytimes.com</td>\n",
       "      <td>0.706897</td>\n",
       "      <td>cnn.com - nytimes.com</td>\n",
       "    </tr>\n",
       "    <tr>\n",
       "      <th>4</th>\n",
       "      <td>cnn.com</td>\n",
       "      <td>nytimes.com</td>\n",
       "      <td>0.741379</td>\n",
       "      <td>cnn.com - nytimes.com</td>\n",
       "    </tr>\n",
       "    <tr>\n",
       "      <th>5</th>\n",
       "      <td>cnn.com</td>\n",
       "      <td>nytimes.com</td>\n",
       "      <td>0.750000</td>\n",
       "      <td>cnn.com - nytimes.com</td>\n",
       "    </tr>\n",
       "    <tr>\n",
       "      <th>6</th>\n",
       "      <td>cnn.com</td>\n",
       "      <td>nytimes.com</td>\n",
       "      <td>0.750000</td>\n",
       "      <td>cnn.com - nytimes.com</td>\n",
       "    </tr>\n",
       "    <tr>\n",
       "      <th>7</th>\n",
       "      <td>cnn.com</td>\n",
       "      <td>nytimes.com</td>\n",
       "      <td>0.784483</td>\n",
       "      <td>cnn.com - nytimes.com</td>\n",
       "    </tr>\n",
       "    <tr>\n",
       "      <th>8</th>\n",
       "      <td>cnn.com</td>\n",
       "      <td>nytimes.com</td>\n",
       "      <td>0.698276</td>\n",
       "      <td>cnn.com - nytimes.com</td>\n",
       "    </tr>\n",
       "    <tr>\n",
       "      <th>9</th>\n",
       "      <td>cnn.com</td>\n",
       "      <td>nytimes.com</td>\n",
       "      <td>0.724138</td>\n",
       "      <td>cnn.com - nytimes.com</td>\n",
       "    </tr>\n",
       "  </tbody>\n",
       "</table>\n",
       "</div>"
      ],
      "text/plain": [
       "        d1           d2       acc                   pair\n",
       "0  cnn.com  nytimes.com  0.681034  cnn.com - nytimes.com\n",
       "1  cnn.com  nytimes.com  0.741379  cnn.com - nytimes.com\n",
       "2  cnn.com  nytimes.com  0.689655  cnn.com - nytimes.com\n",
       "3  cnn.com  nytimes.com  0.706897  cnn.com - nytimes.com\n",
       "4  cnn.com  nytimes.com  0.741379  cnn.com - nytimes.com\n",
       "5  cnn.com  nytimes.com  0.750000  cnn.com - nytimes.com\n",
       "6  cnn.com  nytimes.com  0.750000  cnn.com - nytimes.com\n",
       "7  cnn.com  nytimes.com  0.784483  cnn.com - nytimes.com\n",
       "8  cnn.com  nytimes.com  0.698276  cnn.com - nytimes.com\n",
       "9  cnn.com  nytimes.com  0.724138  cnn.com - nytimes.com"
      ]
     },
     "execution_count": 30,
     "metadata": {},
     "output_type": "execute_result"
    }
   ],
   "source": [
    "score_df.head(10)"
   ]
  },
  {
   "cell_type": "code",
   "execution_count": 31,
   "metadata": {},
   "outputs": [
    {
     "data": {
      "text/plain": [
       "600"
      ]
     },
     "execution_count": 31,
     "metadata": {},
     "output_type": "execute_result"
    }
   ],
   "source": [
    "len(score_df)"
   ]
  },
  {
   "cell_type": "code",
   "execution_count": 32,
   "metadata": {},
   "outputs": [],
   "source": [
    "order = score_df.groupby('pair').mean().acc.sort_values(ascending=False).index"
   ]
  },
  {
   "cell_type": "code",
   "execution_count": 34,
   "metadata": {},
   "outputs": [
    {
     "data": {
      "text/plain": [
       "<matplotlib.axes._subplots.AxesSubplot at 0x1de62db00>"
      ]
     },
     "execution_count": 34,
     "metadata": {},
     "output_type": "execute_result"
    },
    {
     "data": {
      "image/png": "[encoded data removed]",
      "text/plain": [
       "<Figure size 360x360 with 1 Axes>"
      ]
     },
     "metadata": {
      "needs_background": "light"
     },
     "output_type": "display_data"
    }
   ],
   "source": [
    "plt.figure(figsize=(5,5))\n",
    "sns.stripplot(x='acc', y='pair', data=score_df, order=order, s=2)"
   ]
  },
  {
   "cell_type": "code",
   "execution_count": null,
   "metadata": {},
   "outputs": [],
   "source": []
  }
 ],
 "metadata": {
  "kernelspec": {
   "display_name": "Python 3",
   "language": "python",
   "name": "python3"
  },
  "language_info": {
   "codemirror_mode": {
    "name": "ipython",
    "version": 3
   },
   "file_extension": ".py",
   "mimetype": "text/x-python",
   "name": "python",
   "nbconvert_exporter": "python",
   "pygments_lexer": "ipython3",
   "version": "3.7.0"
  }
 },
 "nbformat": 4,
 "nbformat_minor": 2
}
