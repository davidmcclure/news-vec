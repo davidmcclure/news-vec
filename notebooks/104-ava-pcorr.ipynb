{
 "cells": [
  {
   "cell_type": "code",
   "execution_count": 1,
   "metadata": {},
   "outputs": [],
   "source": [
    "import pandas as pd\n",
    "import numpy as np\n",
    "\n",
    "from itertools import combinations\n",
    "from scipy import stats\n",
    "from collections import Counter\n",
    "\n",
    "from sklearn.linear_model import LogisticRegression\n",
    "from sklearn.svm import LinearSVC\n",
    "from sklearn.feature_extraction.text import TfidfVectorizer\n",
    "from sklearn.model_selection import train_test_split\n",
    "from sklearn import metrics\n",
    "\n",
    "from news_vec.corpus import HeadlineDataset, Corpus\n",
    "from news_vec.encoder import read_preds"
   ]
  },
  {
   "cell_type": "code",
   "execution_count": 2,
   "metadata": {},
   "outputs": [],
   "source": [
    "import matplotlib as mpl\n",
    "import matplotlib.pyplot as plt\n",
    "import altair as alt\n",
    "import seaborn as sns\n",
    "\n",
    "mpl.style.use('seaborn-muted')\n",
    "sns.set(style=\"whitegrid\")"
   ]
  },
  {
   "cell_type": "code",
   "execution_count": 3,
   "metadata": {},
   "outputs": [],
   "source": [
    "ds = HeadlineDataset.load('../data/ava.p')"
   ]
  },
  {
   "cell_type": "code",
   "execution_count": 4,
   "metadata": {},
   "outputs": [
    {
     "data": {
      "text/plain": [
       "HeadlineDataset<225696/28212/28212>"
      ]
     },
     "execution_count": 4,
     "metadata": {},
     "output_type": "execute_result"
    }
   ],
   "source": [
    "ds"
   ]
  },
  {
   "cell_type": "code",
   "execution_count": 5,
   "metadata": {},
   "outputs": [],
   "source": [
    "train_df = pd.DataFrame([r for r, _ in ds.train])\n",
    "test_df = pd.DataFrame([r for r, _ in ds.test])"
   ]
  },
  {
   "cell_type": "code",
   "execution_count": 6,
   "metadata": {},
   "outputs": [],
   "source": [
    "X_train, y_train = train_df.clf_tokens, train_df.domain"
   ]
  },
  {
   "cell_type": "code",
   "execution_count": 7,
   "metadata": {},
   "outputs": [],
   "source": [
    "X_test, y_test = test_df.clf_tokens, test_df.domain"
   ]
  },
  {
   "cell_type": "code",
   "execution_count": 8,
   "metadata": {},
   "outputs": [],
   "source": [
    "tv = TfidfVectorizer(\n",
    "    analyzer='word',\n",
    "    tokenizer=lambda x: x,\n",
    "    preprocessor=lambda x: x,\n",
    "    ngram_range=(1,3),\n",
    "    token_pattern=None,\n",
    ")"
   ]
  },
  {
   "cell_type": "code",
   "execution_count": 9,
   "metadata": {},
   "outputs": [],
   "source": [
    "X_train = tv.fit_transform(X_train)\n",
    "X_test = tv.transform(X_test)"
   ]
  },
  {
   "cell_type": "code",
   "execution_count": 10,
   "metadata": {},
   "outputs": [
    {
     "name": "stderr",
     "output_type": "stream",
     "text": [
      "[Parallel(n_jobs=-1)]: Using backend ThreadingBackend with 8 concurrent workers.\n"
     ]
    },
    {
     "name": "stdout",
     "output_type": "stream",
     "text": [
      "convergence after 20 epochs took 27 seconds\n"
     ]
    },
    {
     "name": "stderr",
     "output_type": "stream",
     "text": [
      "[Parallel(n_jobs=-1)]: Done   1 out of   1 | elapsed:   28.4s finished\n"
     ]
    }
   ],
   "source": [
    "clf = LogisticRegression(solver='sag', multi_class='multinomial', verbose=True, n_jobs=-1)\n",
    "fit = clf.fit(X_train, y_train)"
   ]
  },
  {
   "cell_type": "code",
   "execution_count": 11,
   "metadata": {},
   "outputs": [],
   "source": [
    "y_test_pred = fit.predict(X_test)\n",
    "acc = metrics.accuracy_score(y_test, y_test_pred)"
   ]
  },
  {
   "cell_type": "code",
   "execution_count": 12,
   "metadata": {},
   "outputs": [
    {
     "data": {
      "text/plain": [
       "0.35463632496809866"
      ]
     },
     "execution_count": 12,
     "metadata": {},
     "output_type": "execute_result"
    }
   ],
   "source": [
    "acc"
   ]
  },
  {
   "cell_type": "code",
   "execution_count": 13,
   "metadata": {},
   "outputs": [],
   "source": [
    "preds = fit.predict_proba(X_test)"
   ]
  },
  {
   "cell_type": "code",
   "execution_count": 14,
   "metadata": {},
   "outputs": [
    {
     "data": {
      "text/plain": [
       "array([[0.02478921, 0.02878849, 0.03348038, ..., 0.0170325 , 0.07497745,\n",
       "        0.01816498],\n",
       "       [0.04781053, 0.37706885, 0.0456596 , ..., 0.01488209, 0.03939159,\n",
       "        0.07429986],\n",
       "       [0.13820373, 0.04148529, 0.06777497, ..., 0.01915928, 0.04815307,\n",
       "        0.03420666],\n",
       "       ...,\n",
       "       [0.19643635, 0.03019237, 0.03837875, ..., 0.03660435, 0.21132459,\n",
       "        0.0281072 ],\n",
       "       [0.00322233, 0.02538073, 0.01163462, ..., 0.02521029, 0.20927343,\n",
       "        0.00333474],\n",
       "       [0.00514983, 0.01577472, 0.01578081, ..., 0.0040776 , 0.06088447,\n",
       "        0.00855814]])"
      ]
     },
     "execution_count": 14,
     "metadata": {},
     "output_type": "execute_result"
    }
   ],
   "source": [
    "preds"
   ]
  },
  {
   "cell_type": "code",
   "execution_count": 15,
   "metadata": {},
   "outputs": [
    {
     "data": {
      "text/plain": [
       "array(['apnews.com', 'bloomberg.com', 'breitbart.com', 'buzzfeed.com',\n",
       "       'cnn.com', 'dailycaller.com', 'dailykos.com', 'foxnews.com',\n",
       "       'huffingtonpost.com', 'msnbc.com', 'npr.org', 'nytimes.com',\n",
       "       'thehill.com', 'washingtonpost.com', 'wsj.com'], dtype=object)"
      ]
     },
     "execution_count": 15,
     "metadata": {},
     "output_type": "execute_result"
    }
   ],
   "source": [
    "fit.classes_"
   ]
  },
  {
   "cell_type": "code",
   "execution_count": 18,
   "metadata": {},
   "outputs": [
    {
     "name": "stdout",
     "output_type": "stream",
     "text": [
      "apnews.com bloomberg.com (-0.046729391097314714, 4.0681606443376236e-15)\n",
      "apnews.com breitbart.com (0.05278007334865178, 7.251969352167192e-19)\n",
      "apnews.com buzzfeed.com (-0.23143861143720848, 0.0)\n",
      "apnews.com cnn.com (0.1390076153604599, 1.0145494406834358e-121)\n",
      "apnews.com dailycaller.com (-0.07700190781812016, 2.2822701644480736e-38)\n",
      "apnews.com dailykos.com (-0.23301377475770513, 0.0)\n",
      "apnews.com foxnews.com (0.3532960466991273, 0.0)\n",
      "apnews.com huffingtonpost.com (-0.16959673446117504, 4.6631593728870214e-181)\n",
      "apnews.com msnbc.com (-0.1449978612688328, 2.248940404931962e-132)\n",
      "apnews.com npr.org (0.06521520104300214, 5.629295727724336e-28)\n",
      "apnews.com nytimes.com (-0.025393206383857392, 1.993206289257466e-05)\n",
      "apnews.com thehill.com (-0.018269963590636824, 0.0021490498388104834)\n",
      "apnews.com washingtonpost.com (-0.17180172207918687, 8.191452089396561e-186)\n",
      "apnews.com wsj.com (0.014841160428090226, 0.012673604481253221)\n",
      "bloomberg.com breitbart.com (-0.12105169102471722, 1.4628492587519549e-92)\n",
      "bloomberg.com buzzfeed.com (-0.16145671550700386, 4.6004908821296036e-164)\n",
      "bloomberg.com cnn.com (-0.07537973272831636, 7.772531894286002e-37)\n",
      "bloomberg.com dailycaller.com (-0.18343940385364993, 5.421730464861032e-212)\n",
      "bloomberg.com dailykos.com (-0.21243270314542684, 3.005202030476968e-285)\n",
      "bloomberg.com foxnews.com (-0.14734380861898394, 1.1276415903905207e-136)\n",
      "bloomberg.com huffingtonpost.com (-0.20555428129106706, 8.10580081486728e-267)\n",
      "bloomberg.com msnbc.com (-0.17496354882415913, 9.571175716537313e-193)\n",
      "bloomberg.com npr.org (-0.1136863499202211, 8.537447565350373e-82)\n",
      "bloomberg.com nytimes.com (-0.06902082773801069, 3.8254676551592986e-31)\n",
      "bloomberg.com thehill.com (-0.16402171820761804, 2.527915867826373e-169)\n",
      "bloomberg.com washingtonpost.com (-0.1725140614029003, 2.307933927132798e-187)\n",
      "bloomberg.com wsj.com (0.4058058911846068, 0.0)\n",
      "breitbart.com buzzfeed.com (-0.2167737522421348, 3.195450651970021e-297)\n",
      "breitbart.com cnn.com (-0.028438963197045093, 1.7750164771996915e-06)\n",
      "breitbart.com dailycaller.com (0.21267892566681246, 6.394984190601869e-286)\n",
      "breitbart.com dailykos.com (-0.07788640536918238, 3.229878008725005e-39)\n",
      "breitbart.com foxnews.com (0.13831457627229063, 1.6175231791894277e-120)\n",
      "breitbart.com huffingtonpost.com (-0.12326473588062115, 6.238996281129326e-96)\n",
      "breitbart.com msnbc.com (-0.08480734029400634, 3.3810292925965987e-46)\n",
      "breitbart.com npr.org (-0.11746623725679828, 3.108009143449816e-87)\n",
      "breitbart.com nytimes.com (-0.14520269960644544, 9.536667807966743e-133)\n",
      "breitbart.com thehill.com (0.07346657040839999, 4.525962044375782e-35)\n",
      "breitbart.com washingtonpost.com (-0.17126920763180487, 1.1688082572025685e-184)\n",
      "breitbart.com wsj.com (-0.10041728739192249, 3.8935603472816554e-64)\n",
      "buzzfeed.com cnn.com (-0.2448547751051112, 0.0)\n",
      "buzzfeed.com dailycaller.com (-0.187139565091451, 1.0646745650916436e-220)\n",
      "buzzfeed.com dailykos.com (-0.10777526077792977, 1.1832072698030047e-73)\n",
      "buzzfeed.com foxnews.com (-0.2296214964353859, 0.0)\n",
      "buzzfeed.com huffingtonpost.com (0.12373752274239981, 1.1668667368573335e-96)\n",
      "buzzfeed.com msnbc.com (-0.20291326607582766, 6.460908295317866e-260)\n",
      "buzzfeed.com npr.org (-0.15079632260248224, 3.9211363767342173e-143)\n",
      "buzzfeed.com nytimes.com (-0.08744453741349184, 5.156906082254436e-49)\n",
      "buzzfeed.com thehill.com (-0.2570679519655964, 0.0)\n",
      "buzzfeed.com washingtonpost.com (-0.04836873659697386, 4.3421339259871676e-16)\n",
      "buzzfeed.com wsj.com (-0.210015344023519, 1.073053930932587e-278)\n",
      "cnn.com dailycaller.com (0.013087437491805227, 0.027933519414974604)\n",
      "cnn.com dailykos.com (-0.17469608823565455, 3.737397496658462e-192)\n",
      "cnn.com foxnews.com (0.15601169282361507, 3.4714914418742486e-153)\n",
      "cnn.com huffingtonpost.com (0.02247882827716974, 0.00015939895097290754)\n",
      "cnn.com msnbc.com (0.04710061131290681, 2.4673172528211213e-15)\n",
      "cnn.com npr.org (0.061271419543630246, 6.99997018527227e-25)\n",
      "cnn.com nytimes.com (0.0018247443189065987, 0.7592403136242647)\n",
      "cnn.com thehill.com (0.023989232041906606, 5.583965791177063e-05)\n",
      "cnn.com washingtonpost.com (-0.03698505633179883, 5.164625835325116e-10)\n",
      "cnn.com wsj.com (-0.0020934271784390918, 0.7251339161597351)\n",
      "dailycaller.com dailykos.com (-0.0022442417630476083, 0.7062209972121756)\n",
      "dailycaller.com foxnews.com (0.14040824471634433, 3.6046125500521093e-124)\n",
      "dailycaller.com huffingtonpost.com (-0.0423853999457775, 1.0628079153466942e-12)\n",
      "dailycaller.com msnbc.com (-0.04921029407871617, 1.337166134603953e-16)\n",
      "dailycaller.com npr.org (-0.13872911347469807, 3.092317923761599e-121)\n",
      "dailycaller.com nytimes.com (-0.16562430655946578, 1.180426893181519e-172)\n",
      "dailycaller.com thehill.com (0.1487219400418888, 3.1098449633076045e-139)\n",
      "dailycaller.com washingtonpost.com (-0.04580827454518159, 1.3837055262953485e-14)\n",
      "dailycaller.com wsj.com (-0.17129712160122498, 1.0170110566117162e-184)\n",
      "dailykos.com foxnews.com (-0.20443940645075714, 6.823399783840607e-264)\n",
      "dailykos.com huffingtonpost.com (0.00317078469860496, 0.5943407483916968)\n",
      "dailykos.com msnbc.com (0.11496296749565044, 1.3023830356844437e-83)\n",
      "dailykos.com npr.org (-0.1278881603653081, 3.5651683360064894e-103)\n",
      "dailykos.com nytimes.com (-0.1113251551305963, 1.7246178403714029e-78)\n",
      "dailykos.com thehill.com (-0.0011282429513539912, 0.8497039481219211)\n",
      "dailykos.com washingtonpost.com (0.125915441178047, 4.7429946555148e-100)\n",
      "dailykos.com wsj.com (-0.2237481529218413, 5.1329745e-317)\n",
      "foxnews.com huffingtonpost.com (-0.09561370300888203, 2.727503116385875e-58)\n",
      "foxnews.com msnbc.com (-0.12046427625153232, 1.1200034120605995e-91)\n",
      "foxnews.com npr.org (0.01084050047970402, 0.06863883111650727)\n",
      "foxnews.com nytimes.com (-0.09728971017766139, 2.686480471643587e-60)\n",
      "foxnews.com thehill.com (0.010437699256862573, 0.07957956952797546)\n",
      "foxnews.com washingtonpost.com (-0.13239926865738733, 1.661085296920926e-110)\n",
      "foxnews.com wsj.com (-0.11615058883920466, 2.5478975155271118e-85)\n",
      "huffingtonpost.com msnbc.com (-0.16499250732113638, 2.4502246657249167e-171)\n",
      "huffingtonpost.com npr.org (0.0698034450399982, 8.111442591638336e-32)\n",
      "huffingtonpost.com nytimes.com (0.09941273645810979, 6.866843783503291e-63)\n",
      "huffingtonpost.com thehill.com (-0.2000686212281491, 1.3669384753017704e-252)\n",
      "huffingtonpost.com washingtonpost.com (0.12207337087583539, 4.1413179164245134e-94)\n",
      "huffingtonpost.com wsj.com (-0.14561564872405555, 1.6850745555810738e-133)\n",
      "msnbc.com npr.org (-0.17477562873163935, 2.493053558087363e-192)\n",
      "msnbc.com nytimes.com (-0.2055401309090485, 8.831448347209308e-267)\n",
      "msnbc.com thehill.com (0.23795033625988976, 0.0)\n",
      "msnbc.com washingtonpost.com (-0.08180660868764683, 4.251950593564244e-43)\n",
      "msnbc.com wsj.com (-0.19316907715438683, 2.751783776777931e-235)\n",
      "npr.org nytimes.com (0.31085652729293944, 0.0)\n",
      "npr.org thehill.com (-0.18747425747780352, 1.7000863317199426e-221)\n",
      "npr.org washingtonpost.com (0.1318538155064432, 1.320727193833382e-109)\n",
      "npr.org wsj.com (0.05297046165799742, 5.43563758447145e-19)\n",
      "nytimes.com thehill.com (-0.252117886577162, 0.0)\n",
      "nytimes.com washingtonpost.com (0.16591852168350021, 2.863207206630164e-173)\n",
      "nytimes.com wsj.com (0.09655266343389025, 2.069897352236334e-59)\n",
      "thehill.com washingtonpost.com (-0.179917504713294, 7.06760956904483e-204)\n",
      "thehill.com wsj.com (-0.1382533042525272, 2.064770031479428e-120)\n",
      "washingtonpost.com wsj.com (-0.12389565317336126, 6.650607618669469e-97)\n"
     ]
    }
   ],
   "source": [
    "for i1, i2 in combinations(range(len(fit.classes_)), 2):\n",
    "    print(fit.classes_[i1], fit.classes_[i2], stats.pearsonr(preds[:,i1], preds[:,i2]))"
   ]
  },
  {
   "cell_type": "code",
   "execution_count": null,
   "metadata": {},
   "outputs": [],
   "source": []
  }
 ],
 "metadata": {
  "kernelspec": {
   "display_name": "Python 3",
   "language": "python",
   "name": "python3"
  },
  "language_info": {
   "codemirror_mode": {
    "name": "ipython",
    "version": 3
   },
   "file_extension": ".py",
   "mimetype": "text/x-python",
   "name": "python",
   "nbconvert_exporter": "python",
   "pygments_lexer": "ipython3",
   "version": "3.7.0"
  }
 },
 "nbformat": 4,
 "nbformat_minor": 2
}
