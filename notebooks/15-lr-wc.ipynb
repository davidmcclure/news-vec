{
 "cells": [
  {
   "cell_type": "code",
   "execution_count": 1,
   "metadata": {},
   "outputs": [],
   "source": [
    "import warnings\n",
    "import gzip\n",
    "import ujson\n",
    "\n",
    "import pandas as pd\n",
    "import numpy as np\n",
    "\n",
    "from glob import glob\n",
    "from itertools import islice\n",
    "from tqdm import tqdm\n",
    "from boltons.iterutils import windowed\n",
    "from collections import Counter\n",
    "\n",
    "from sklearn.feature_extraction import DictVectorizer\n",
    "from sklearn.linear_model import LogisticRegression\n",
    "from sklearn.model_selection import train_test_split\n",
    "from sklearn import metrics\n",
    "\n",
    "from news_vec import logger\n",
    "from news_vec.title_clf import clean_headline"
   ]
  },
  {
   "cell_type": "code",
   "execution_count": 2,
   "metadata": {},
   "outputs": [],
   "source": [
    "import matplotlib as mpl\n",
    "import matplotlib.pyplot as plt\n",
    "import altair as alt\n",
    "import seaborn as sns\n",
    "\n",
    "mpl.style.use('seaborn-muted')\n",
    "sns.set(style=\"whitegrid\")\n",
    "\n",
    "%matplotlib inline"
   ]
  },
  {
   "cell_type": "code",
   "execution_count": 3,
   "metadata": {},
   "outputs": [],
   "source": [
    "warnings.simplefilter('ignore')"
   ]
  },
  {
   "cell_type": "code",
   "execution_count": 12,
   "metadata": {},
   "outputs": [],
   "source": [
    "class Line:\n",
    "\n",
    "    def __init__(self, tokens, label, lower=True):\n",
    "        self.tokens = [t.lower() for t in tokens] if lower else tokens\n",
    "        self.label = label\n",
    "\n",
    "    def __repr__(self):\n",
    "\n",
    "        pattern = '{cls_name}<{token_count} tokens -> {label}>'\n",
    "\n",
    "        return pattern.format(\n",
    "            cls_name=self.__class__.__name__,\n",
    "            token_count=len(self.tokens),\n",
    "            label=self.label,\n",
    "        )\n",
    "    \n",
    "    def ngrams(self, n):\n",
    "        return windowed(self.tokens, n)\n",
    "                \n",
    "    def ngram_keys_iter(self, n, vocab=None):\n",
    "        for ng in self.ngrams(n):\n",
    "            if not vocab or ng in vocab:\n",
    "                yield '_' + '_'.join(ng)\n",
    "                \n",
    "    def ngram_counts_iter(self, n, vocab=None):\n",
    "        yield from Counter(self.ngram_keys_iter(n, vocab)).items()\n",
    "    \n",
    "    def features_iter(self, vocab):\n",
    "        yield from self.ngram_counts_iter(1, vocab)\n",
    "        yield from self.ngram_counts_iter(2, vocab)\n",
    "        yield from self.ngram_counts_iter(3, vocab)\n",
    "        yield ('wc', len(self.tokens))\n",
    "        \n",
    "    def x(self, vocab):\n",
    "        return dict(self.features_iter(vocab))"
   ]
  },
  {
   "cell_type": "code",
   "execution_count": 13,
   "metadata": {},
   "outputs": [],
   "source": [
    "def read_json_lines(root, lower=True):\n",
    "    \"\"\"Generate links from a JSON corpus.\n",
    "\n",
    "    Yields: list<str>\n",
    "    \"\"\"\n",
    "    for path in glob('%s/*.gz' % root):\n",
    "        with gzip.open(path) as fh:\n",
    "            for line in fh:\n",
    "\n",
    "                data = ujson.loads(line)\n",
    "\n",
    "                tokens = data.get('tokens')\n",
    "                tokens = clean_headline(tokens)\n",
    "\n",
    "                if not tokens:\n",
    "                    continue\n",
    "\n",
    "                yield Line(tokens, data['label'], lower=lower)"
   ]
  },
  {
   "cell_type": "code",
   "execution_count": 17,
   "metadata": {},
   "outputs": [],
   "source": [
    "class Corpus:\n",
    "\n",
    "    def __init__(self, root, skim=None, lower=True):\n",
    "        \"\"\"Read lines.\n",
    "        \"\"\"\n",
    "        logger.info('Parsing line corpus.')\n",
    "\n",
    "        lines_iter = islice(read_json_lines(root, lower), skim)\n",
    "\n",
    "        self.lines = list(tqdm(lines_iter))\n",
    "\n",
    "    def __repr__(self):\n",
    "\n",
    "        pattern = '{cls_name}<{line_count} lines>'\n",
    "\n",
    "        return pattern.format(\n",
    "            cls_name=self.__class__.__name__,\n",
    "            line_count=len(self),\n",
    "        )\n",
    "\n",
    "    def __len__(self):\n",
    "        return len(self.lines)\n",
    "\n",
    "    def __iter__(self):\n",
    "        return iter(self.lines)\n",
    "    \n",
    "    def ngram_counts(self, n):\n",
    "        \"\"\"Collect all ngram -> count.\n",
    "        \"\"\"\n",
    "        logger.info('Gathering %d-gram counts.' % n)\n",
    "\n",
    "        counts = Counter()\n",
    "        for line in tqdm(self):\n",
    "            counts.update(line.ngrams(n))\n",
    "\n",
    "        return counts\n",
    "\n",
    "    def topk_ngrams(self, n, k):\n",
    "        counts = self.ngram_counts(n)\n",
    "        return [ng for ng, _ in counts.most_common(k)]\n",
    "    \n",
    "    def x_iter(self, vocab):\n",
    "        for line in tqdm(self):\n",
    "            yield line.x(vocab)"
   ]
  },
  {
   "cell_type": "code",
   "execution_count": 29,
   "metadata": {},
   "outputs": [
    {
     "name": "stderr",
     "output_type": "stream",
     "text": [
      "2018-11-30 15:24:34,891 | INFO : Parsing line corpus.\n",
      "2123078it [00:53, 39500.39it/s]\n"
     ]
    }
   ],
   "source": [
    "c = Corpus('../data/titles-50k.json/')"
   ]
  },
  {
   "cell_type": "code",
   "execution_count": 30,
   "metadata": {},
   "outputs": [
    {
     "name": "stderr",
     "output_type": "stream",
     "text": [
      "2018-11-30 15:25:28,656 | INFO : Gathering 1-gram counts.\n",
      "100%|██████████| 2123078/2123078 [00:15<00:00, 133497.10it/s]\n",
      "2018-11-30 15:25:44,625 | INFO : Gathering 2-gram counts.\n",
      "100%|██████████| 2123078/2123078 [00:24<00:00, 86164.16it/s]\n",
      "2018-11-30 15:26:10,088 | INFO : Gathering 3-gram counts.\n",
      "100%|██████████| 2123078/2123078 [00:23<00:00, 91753.14it/s]\n"
     ]
    }
   ],
   "source": [
    "vocab = set(\n",
    "    c.topk_ngrams(1, 5000) +\n",
    "    c.topk_ngrams(2, 5000) +\n",
    "    c.topk_ngrams(3, 5000)\n",
    ")"
   ]
  },
  {
   "cell_type": "code",
   "execution_count": 31,
   "metadata": {},
   "outputs": [
    {
     "name": "stderr",
     "output_type": "stream",
     "text": [
      "100%|██████████| 2123078/2123078 [01:09<00:00, 30504.97it/s]\n"
     ]
    }
   ],
   "source": [
    "xs = list(c.x_iter(vocab))"
   ]
  },
  {
   "cell_type": "code",
   "execution_count": 32,
   "metadata": {},
   "outputs": [],
   "source": [
    "dv = DictVectorizer()\n",
    "X = dv.fit_transform(xs)"
   ]
  },
  {
   "cell_type": "code",
   "execution_count": 33,
   "metadata": {},
   "outputs": [
    {
     "data": {
      "text/plain": [
       "<2123078x15001 sparse matrix of type '<class 'numpy.float64'>'\n",
       "\twith 25264178 stored elements in Compressed Sparse Row format>"
      ]
     },
     "execution_count": 33,
     "metadata": {},
     "output_type": "execute_result"
    }
   ],
   "source": [
    "X"
   ]
  },
  {
   "cell_type": "code",
   "execution_count": 34,
   "metadata": {},
   "outputs": [],
   "source": [
    "y = [line.label for line in c]"
   ]
  },
  {
   "cell_type": "code",
   "execution_count": 35,
   "metadata": {},
   "outputs": [],
   "source": [
    "X_train, X_test, y_train, y_test = train_test_split(X, y, test_size=0.2)"
   ]
  },
  {
   "cell_type": "code",
   "execution_count": 36,
   "metadata": {},
   "outputs": [],
   "source": [
    "model = LogisticRegression(verbose=True, multi_class='multinomial', solver='sag', n_jobs=-1)"
   ]
  },
  {
   "cell_type": "code",
   "execution_count": 37,
   "metadata": {},
   "outputs": [
    {
     "name": "stderr",
     "output_type": "stream",
     "text": [
      "[Parallel(n_jobs=-1)]: Using backend ThreadingBackend with 8 concurrent workers.\n"
     ]
    },
    {
     "name": "stdout",
     "output_type": "stream",
     "text": [
      "max_iter reached after 640 seconds\n"
     ]
    },
    {
     "name": "stderr",
     "output_type": "stream",
     "text": [
      "[Parallel(n_jobs=-1)]: Done   1 out of   1 | elapsed: 10.7min finished\n"
     ]
    }
   ],
   "source": [
    "fit = model.fit(X_train, y_train)"
   ]
  },
  {
   "cell_type": "code",
   "execution_count": 38,
   "metadata": {},
   "outputs": [],
   "source": [
    "y_pred = fit.predict(X_test)"
   ]
  },
  {
   "cell_type": "code",
   "execution_count": 39,
   "metadata": {},
   "outputs": [
    {
     "name": "stdout",
     "output_type": "stream",
     "text": [
      "                        precision    recall  f1-score   support\n",
      "\n",
      "            apnews.com       0.16      0.18      0.17     10094\n",
      "             bbc.co.uk       0.33      0.41      0.36     10055\n",
      "         bloomberg.com       0.30      0.29      0.29     10178\n",
      "         breitbart.com       0.22      0.24      0.23     10133\n",
      "   businessinsider.com       0.28      0.34      0.30     10242\n",
      "          buzzfeed.com       0.44      0.60      0.51     10057\n",
      "                cbc.ca       0.38      0.48      0.42     10102\n",
      "           cbsnews.com       0.16      0.12      0.14     10269\n",
      "              cnbc.com       0.29      0.28      0.28     10057\n",
      "               cnn.com       0.17      0.06      0.09     10241\n",
      "       dailycaller.com       0.26      0.22      0.24     10207\n",
      "          dailykos.com       0.31      0.39      0.34     10205\n",
      "            forbes.com       0.22      0.28      0.24     10043\n",
      "           foxnews.com       0.15      0.08      0.11     10013\n",
      "                ft.com       0.30      0.35      0.33     10031\n",
      "    huffingtonpost.com       0.16      0.09      0.12     10106\n",
      "               inc.com       0.46      0.69      0.55     10086\n",
      "     independent.co.uk       0.23      0.26      0.24     10145\n",
      "               msn.com       0.14      0.05      0.07     10085\n",
      "           nbcnews.com       0.18      0.07      0.10     10141\n",
      "          newsweek.com       0.23      0.25      0.24     10204\n",
      "               npr.org       0.18      0.15      0.16     10202\n",
      "       nydailynews.com       0.27      0.24      0.26     10166\n",
      "            nypost.com       0.22      0.27      0.24     10125\n",
      "           nytimes.com       0.22      0.11      0.14      9974\n",
      "          rawstory.com       0.28      0.35      0.31     10177\n",
      "           reuters.com       0.27      0.39      0.32     10181\n",
      "                rt.com       0.37      0.39      0.38      9993\n",
      "       sputniknews.com       0.29      0.45      0.35     10066\n",
      "       telegraph.co.uk       0.42      0.33      0.37     10036\n",
      "       theguardian.com       0.19      0.13      0.16     10150\n",
      "           thehill.com       0.21      0.29      0.24      9901\n",
      "        thetimes.co.uk       0.23      0.29      0.26     10163\n",
      "              time.com       0.23      0.17      0.19     10240\n",
      "          usatoday.com       0.29      0.31      0.30     10135\n",
      "           variety.com       0.41      0.62      0.49     10138\n",
      "              vice.com       0.22      0.35      0.27     10080\n",
      "washingtonexaminer.com       0.20      0.25      0.22     10008\n",
      "    washingtonpost.com       0.29      0.16      0.21     10218\n",
      "   washingtontimes.com       0.23      0.24      0.23     10014\n",
      "               wsj.com       0.23      0.15      0.18      9962\n",
      "             yahoo.com       0.21      0.04      0.07      9993\n",
      "\n",
      "             micro avg       0.27      0.27      0.27    424616\n",
      "             macro avg       0.26      0.27      0.26    424616\n",
      "          weighted avg       0.26      0.27      0.26    424616\n",
      "\n"
     ]
    }
   ],
   "source": [
    "print(metrics.classification_report(y_test, y_pred))"
   ]
  },
  {
   "cell_type": "code",
   "execution_count": 40,
   "metadata": {},
   "outputs": [],
   "source": [
    "cm = metrics.confusion_matrix(y_test, y_pred, labels=fit.classes_)\n",
    "cm = cm / cm.sum(1)"
   ]
  },
  {
   "cell_type": "code",
   "execution_count": 44,
   "metadata": {},
   "outputs": [],
   "source": [
    "np.fill_diagonal(cm, 0)"
   ]
  },
  {
   "cell_type": "code",
   "execution_count": 45,
   "metadata": {},
   "outputs": [],
   "source": [
    "rows = [\n",
    "    (fit.classes_[x], fit.classes_[y], cm[x, y])\n",
    "    for x in range(cm.shape[0])\n",
    "    for y in range(cm.shape[1])\n",
    "]"
   ]
  },
  {
   "cell_type": "code",
   "execution_count": 46,
   "metadata": {},
   "outputs": [],
   "source": [
    "cm_df = pd.DataFrame(rows, columns=('x', 'y', 'z'))"
   ]
  },
  {
   "cell_type": "code",
   "execution_count": 47,
   "metadata": {},
   "outputs": [
    {
     "data": {
      "application/vnd.vegalite.v2+json": {
       "$schema": "https://vega.github.io/schema/vega-lite/v2.6.0.json",
       "config": {
        "view": {
         "height": 300,
         "width": 400
        }
       },
       "data": {
        "name": "data-53cc56061e7704bcdc114a45027fa27c"
       },
       "datasets": {
        "data-53cc56061e7704bcdc114a45027fa27c": [
         {
          "x": "apnews.com",
          "y": "apnews.com",
          "z": 0
         },
         {
          "x": "apnews.com",
          "y": "bbc.co.uk",
          "z": 0.01979114868224764
         },
         {
          "x": "apnews.com",
          "y": "bloomberg.com",
          "z": 0.01768520337983887
         },
         {
          "x": "apnews.com",
          "y": "breitbart.com",
          "z": 0.022599427612750418
         },
         {
          "x": "apnews.com",
          "y": "businessinsider.com",
          "z": 0.0046865846514352666
         },
         {
          "x": "apnews.com",
          "y": "buzzfeed.com",
          "z": 0.004872228298697425
         },
         {
          "x": "apnews.com",
          "y": "cbc.ca",
          "z": 0.0349435755295981
         },
         {
          "x": "apnews.com",
          "y": "cbsnews.com",
          "z": 0.029993183367416496
         },
         {
          "x": "apnews.com",
          "y": "cnbc.com",
          "z": 0.012926319976136025
         },
         {
          "x": "apnews.com",
          "y": "cnn.com",
          "z": 0.01122937213162777
         },
         {
          "x": "apnews.com",
          "y": "dailycaller.com",
          "z": 0.005682374840795533
         },
         {
          "x": "apnews.com",
          "y": "dailykos.com",
          "z": 0.01499265066144047
         },
         {
          "x": "apnews.com",
          "y": "forbes.com",
          "z": 0.008164890968834014
         },
         {
          "x": "apnews.com",
          "y": "foxnews.com",
          "z": 0.027763906921002696
         },
         {
          "x": "apnews.com",
          "y": "ft.com",
          "z": 0.014255806998305254
         },
         {
          "x": "apnews.com",
          "y": "huffingtonpost.com",
          "z": 0.003166435780724322
         },
         {
          "x": "apnews.com",
          "y": "inc.com",
          "z": 0.005155661312710688
         },
         {
          "x": "apnews.com",
          "y": "independent.co.uk",
          "z": 0.009462789551503203
         },
         {
          "x": "apnews.com",
          "y": "msn.com",
          "z": 0.0074367873078829945
         },
         {
          "x": "apnews.com",
          "y": "nbcnews.com",
          "z": 0.012128981362784735
         },
         {
          "x": "apnews.com",
          "y": "newsweek.com",
          "z": 0.0071540572324578595
         },
         {
          "x": "apnews.com",
          "y": "npr.org",
          "z": 0.022446579102136835
         },
         {
          "x": "apnews.com",
          "y": "nydailynews.com",
          "z": 0.027542789691127285
         },
         {
          "x": "apnews.com",
          "y": "nypost.com",
          "z": 0.03298765432098765
         },
         {
          "x": "apnews.com",
          "y": "nytimes.com",
          "z": 0.015339883697613795
         },
         {
          "x": "apnews.com",
          "y": "rawstory.com",
          "z": 0.016802594084700796
         },
         {
          "x": "apnews.com",
          "y": "reuters.com",
          "z": 0.04478931342697181
         },
         {
          "x": "apnews.com",
          "y": "rt.com",
          "z": 0.024817372160512358
         },
         {
          "x": "apnews.com",
          "y": "sputniknews.com",
          "z": 0.06556725610967613
         },
         {
          "x": "apnews.com",
          "y": "telegraph.co.uk",
          "z": 0.007174172977281785
         },
         {
          "x": "apnews.com",
          "y": "theguardian.com",
          "z": 0.010246305418719211
         },
         {
          "x": "apnews.com",
          "y": "thehill.com",
          "z": 0.051711948288051715
         },
         {
          "x": "apnews.com",
          "y": "thetimes.co.uk",
          "z": 0.013381875430483125
         },
         {
          "x": "apnews.com",
          "y": "time.com",
          "z": 0.00791015625
         },
         {
          "x": "apnews.com",
          "y": "usatoday.com",
          "z": 0.05209669462259497
         },
         {
          "x": "apnews.com",
          "y": "variety.com",
          "z": 0.02179917143420793
         },
         {
          "x": "apnews.com",
          "y": "vice.com",
          "z": 0.008333333333333333
         },
         {
          "x": "apnews.com",
          "y": "washingtonexaminer.com",
          "z": 0.021083133493205435
         },
         {
          "x": "apnews.com",
          "y": "washingtonpost.com",
          "z": 0.005578391074574281
         },
         {
          "x": "apnews.com",
          "y": "washingtontimes.com",
          "z": 0.07998801677651288
         },
         {
          "x": "apnews.com",
          "y": "wsj.com",
          "z": 0.007227464364585425
         },
         {
          "x": "apnews.com",
          "y": "yahoo.com",
          "z": 0.004303012108475933
         },
         {
          "x": "bbc.co.uk",
          "y": "apnews.com",
          "z": 0.028036457301367147
         },
         {
          "x": "bbc.co.uk",
          "y": "bbc.co.uk",
          "z": 0
         },
         {
          "x": "bbc.co.uk",
          "y": "bloomberg.com",
          "z": 0.008940852819807428
         },
         {
          "x": "bbc.co.uk",
          "y": "breitbart.com",
          "z": 0.008585808743708675
         },
         {
          "x": "bbc.co.uk",
          "y": "businessinsider.com",
          "z": 0.004393673110720563
         },
         {
          "x": "bbc.co.uk",
          "y": "buzzfeed.com",
          "z": 0.013324052898478671
         },
         {
          "x": "bbc.co.uk",
          "y": "cbc.ca",
          "z": 0.029103147891506632
         },
         {
          "x": "bbc.co.uk",
          "y": "cbsnews.com",
          "z": 0.006621871652546499
         },
         {
          "x": "bbc.co.uk",
          "y": "cnbc.com",
          "z": 0.004474495376354777
         },
         {
          "x": "bbc.co.uk",
          "y": "cnn.com",
          "z": 0.008690557562738014
         },
         {
          "x": "bbc.co.uk",
          "y": "dailycaller.com",
          "z": 0.0016655236602331734
         },
         {
          "x": "bbc.co.uk",
          "y": "dailykos.com",
          "z": 0.005977462028417442
         },
         {
          "x": "bbc.co.uk",
          "y": "forbes.com",
          "z": 0.01951608085233496
         },
         {
          "x": "bbc.co.uk",
          "y": "foxnews.com",
          "z": 0.005293118945371018
         },
         {
          "x": "bbc.co.uk",
          "y": "ft.com",
          "z": 0.030405742199182535
         },
         {
          "x": "bbc.co.uk",
          "y": "huffingtonpost.com",
          "z": 0.009499307342172967
         },
         {
          "x": "bbc.co.uk",
          "y": "inc.com",
          "z": 0.00793178663493952
         },
         {
          "x": "bbc.co.uk",
          "y": "independent.co.uk",
          "z": 0.021488417939871857
         },
         {
          "x": "bbc.co.uk",
          "y": "msn.com",
          "z": 0.006544372830937035
         },
         {
          "x": "bbc.co.uk",
          "y": "nbcnews.com",
          "z": 0.0035499457647174834
         },
         {
          "x": "bbc.co.uk",
          "y": "newsweek.com",
          "z": 0.0075460603684829475
         },
         {
          "x": "bbc.co.uk",
          "y": "npr.org",
          "z": 0.017839639286414428
         },
         {
          "x": "bbc.co.uk",
          "y": "nydailynews.com",
          "z": 0.010722014558331694
         },
         {
          "x": "bbc.co.uk",
          "y": "nypost.com",
          "z": 0.02745679012345679
         },
         {
          "x": "bbc.co.uk",
          "y": "nytimes.com",
          "z": 0.009725285742931623
         },
         {
          "x": "bbc.co.uk",
          "y": "rawstory.com",
          "z": 0.0021617372506632605
         },
         {
          "x": "bbc.co.uk",
          "y": "reuters.com",
          "z": 0.024260878106276397
         },
         {
          "x": "bbc.co.uk",
          "y": "rt.com",
          "z": 0.011708195737015911
         },
         {
          "x": "bbc.co.uk",
          "y": "sputniknews.com",
          "z": 0.02294853963838665
         },
         {
          "x": "bbc.co.uk",
          "y": "telegraph.co.uk",
          "z": 0.020526106018333996
         },
         {
          "x": "bbc.co.uk",
          "y": "theguardian.com",
          "z": 0.03477832512315271
         },
         {
          "x": "bbc.co.uk",
          "y": "thehill.com",
          "z": 0.006766993233006767
         },
         {
          "x": "bbc.co.uk",
          "y": "thetimes.co.uk",
          "z": 0.06267834300895404
         },
         {
          "x": "bbc.co.uk",
          "y": "time.com",
          "z": 0.00634765625
         },
         {
          "x": "bbc.co.uk",
          "y": "usatoday.com",
          "z": 0.02220029600394672
         },
         {
          "x": "bbc.co.uk",
          "y": "variety.com",
          "z": 0.02347603077530085
         },
         {
          "x": "bbc.co.uk",
          "y": "vice.com",
          "z": 0.02857142857142857
         },
         {
          "x": "bbc.co.uk",
          "y": "washingtonexaminer.com",
          "z": 0.002797761790567546
         },
         {
          "x": "bbc.co.uk",
          "y": "washingtonpost.com",
          "z": 0.0022509297318457624
         },
         {
          "x": "bbc.co.uk",
          "y": "washingtontimes.com",
          "z": 0.01128420211703615
         },
         {
          "x": "bbc.co.uk",
          "y": "wsj.com",
          "z": 0.004818309576390283
         },
         {
          "x": "bbc.co.uk",
          "y": "yahoo.com",
          "z": 0.004303012108475933
         },
         {
          "x": "bloomberg.com",
          "y": "apnews.com",
          "z": 0.01486031305726174
         },
         {
          "x": "bloomberg.com",
          "y": "bbc.co.uk",
          "z": 0.012729985082048732
         },
         {
          "x": "bloomberg.com",
          "y": "bloomberg.com",
          "z": 0
         },
         {
          "x": "bloomberg.com",
          "y": "breitbart.com",
          "z": 0.009276620941478337
         },
         {
          "x": "bloomberg.com",
          "y": "businessinsider.com",
          "z": 0.020601445030267528
         },
         {
          "x": "bloomberg.com",
          "y": "buzzfeed.com",
          "z": 0.005965993835139704
         },
         {
          "x": "bloomberg.com",
          "y": "cbc.ca",
          "z": 0.014056622450999801
         },
         {
          "x": "bloomberg.com",
          "y": "cbsnews.com",
          "z": 0.008569480962118998
         },
         {
          "x": "bloomberg.com",
          "y": "cnbc.com",
          "z": 0.05707467435616983
         },
         {
          "x": "bloomberg.com",
          "y": "cnn.com",
          "z": 0.00644468313641246
         },
         {
          "x": "bloomberg.com",
          "y": "dailycaller.com",
          "z": 0.011658665621632213
         },
         {
          "x": "bloomberg.com",
          "y": "dailykos.com",
          "z": 0.012640862322390985
         },
         {
          "x": "bloomberg.com",
          "y": "forbes.com",
          "z": 0.03494971622025291
         },
         {
          "x": "bloomberg.com",
          "y": "foxnews.com",
          "z": 0.004793768101468091
         },
         {
          "x": "bloomberg.com",
          "y": "ft.com",
          "z": 0.07606420097697139
         },
         {
          "x": "bloomberg.com",
          "y": "huffingtonpost.com",
          "z": 0.0035622402533148625
         },
         {
          "x": "bloomberg.com",
          "y": "inc.com",
          "z": 0.012195121951219513
         },
         {
          "x": "bloomberg.com",
          "y": "independent.co.uk",
          "z": 0.0068013799901429275
         },
         {
          "x": "bloomberg.com",
          "y": "msn.com",
          "z": 0.003569657907783837
         },
         {
          "x": "bloomberg.com",
          "y": "nbcnews.com",
          "z": 0.005127699437925254
         },
         {
          "x": "bloomberg.com",
          "y": "newsweek.com",
          "z": 0.011662093296746374
         },
         {
          "x": "bloomberg.com",
          "y": "npr.org",
          "z": 0.013134679474612821
         },
         {
          "x": "bloomberg.com",
          "y": "nydailynews.com",
          "z": 0.0065905961046626
         },
         {
          "x": "bloomberg.com",
          "y": "nypost.com",
          "z": 0.016098765432098764
         },
         {
          "x": "bloomberg.com",
          "y": "nytimes.com",
          "z": 0.00892320032083417
         },
         {
          "x": "bloomberg.com",
          "y": "rawstory.com",
          "z": 0.012872162719858504
         },
         {
          "x": "bloomberg.com",
          "y": "reuters.com",
          "z": 0.09684706806796975
         },
         {
          "x": "bloomberg.com",
          "y": "rt.com",
          "z": 0.012008405884118884
         },
         {
          "x": "bloomberg.com",
          "y": "sputniknews.com",
          "z": 0.020961653089608585
         },
         {
          "x": "bloomberg.com",
          "y": "telegraph.co.uk",
          "z": 0.008469509764846552
         },
         {
          "x": "bloomberg.com",
          "y": "theguardian.com",
          "z": 0.0069950738916256154
         },
         {
          "x": "bloomberg.com",
          "y": "thehill.com",
          "z": 0.022522977477022522
         },
         {
          "x": "bloomberg.com",
          "y": "thetimes.co.uk",
          "z": 0.019187247859883894
         },
         {
          "x": "bloomberg.com",
          "y": "time.com",
          "z": 0.00859375
         },
         {
          "x": "bloomberg.com",
          "y": "usatoday.com",
          "z": 0.004538727183029107
         },
         {
          "x": "bloomberg.com",
          "y": "variety.com",
          "z": 0.01686723219569935
         },
         {
          "x": "bloomberg.com",
          "y": "vice.com",
          "z": 0.01646825396825397
         },
         {
          "x": "bloomberg.com",
          "y": "washingtonexaminer.com",
          "z": 0.01858513189448441
         },
         {
          "x": "bloomberg.com",
          "y": "washingtonpost.com",
          "z": 0.010569583088667059
         },
         {
          "x": "bloomberg.com",
          "y": "washingtontimes.com",
          "z": 0.011983223487118035
         },
         {
          "x": "bloomberg.com",
          "y": "wsj.com",
          "z": 0.05039148765308171
         },
         {
          "x": "bloomberg.com",
          "y": "yahoo.com",
          "z": 0.005303712598819173
         },
         {
          "x": "breitbart.com",
          "y": "apnews.com",
          "z": 0.021894194571032297
         },
         {
          "x": "breitbart.com",
          "y": "bbc.co.uk",
          "z": 0.011934361014420686
         },
         {
          "x": "breitbart.com",
          "y": "bloomberg.com",
          "z": 0.010119866378463353
         },
         {
          "x": "breitbart.com",
          "y": "breitbart.com",
          "z": 0
         },
         {
          "x": "breitbart.com",
          "y": "businessinsider.com",
          "z": 0.01034954110525288
         },
         {
          "x": "breitbart.com",
          "y": "buzzfeed.com",
          "z": 0.00984388982798051
         },
         {
          "x": "breitbart.com",
          "y": "cbc.ca",
          "z": 0.014056622450999801
         },
         {
          "x": "breitbart.com",
          "y": "cbsnews.com",
          "z": 0.014509689356315122
         },
         {
          "x": "breitbart.com",
          "y": "cnbc.com",
          "z": 0.013125186437307349
         },
         {
          "x": "breitbart.com",
          "y": "cnn.com",
          "z": 0.00888585099111415
         },
         {
          "x": "breitbart.com",
          "y": "dailycaller.com",
          "z": 0.04683060644655628
         },
         {
          "x": "breitbart.com",
          "y": "dailykos.com",
          "z": 0.040470357667809896
         },
         {
          "x": "breitbart.com",
          "y": "forbes.com",
          "z": 0.007567459922333964
         },
         {
          "x": "breitbart.com",
          "y": "foxnews.com",
          "z": 0.018376111055627684
         },
         {
          "x": "breitbart.com",
          "y": "ft.com",
          "z": 0.01136476921543216
         },
         {
          "x": "breitbart.com",
          "y": "huffingtonpost.com",
          "z": 0.009598258460320601
         },
         {
          "x": "breitbart.com",
          "y": "inc.com",
          "z": 0.003866745984533016
         },
         {
          "x": "breitbart.com",
          "y": "independent.co.uk",
          "z": 0.026121241991128634
         },
         {
          "x": "breitbart.com",
          "y": "msn.com",
          "z": 0.00436291522062469
         },
         {
          "x": "breitbart.com",
          "y": "nbcnews.com",
          "z": 0.007297110738585938
         },
         {
          "x": "breitbart.com",
          "y": "newsweek.com",
          "z": 0.017052136417091336
         },
         {
          "x": "breitbart.com",
          "y": "npr.org",
          "z": 0.011664379533424819
         },
         {
          "x": "breitbart.com",
          "y": "nydailynews.com",
          "z": 0.01839464882943144
         },
         {
          "x": "breitbart.com",
          "y": "nypost.com",
          "z": 0.021135802469135802
         },
         {
          "x": "breitbart.com",
          "y": "nytimes.com",
          "z": 0.005113294565871266
         },
         {
          "x": "breitbart.com",
          "y": "rawstory.com",
          "z": 0.041171268546723004
         },
         {
          "x": "breitbart.com",
          "y": "reuters.com",
          "z": 0.031136430606030843
         },
         {
          "x": "breitbart.com",
          "y": "rt.com",
          "z": 0.02411688181727209
         },
         {
          "x": "breitbart.com",
          "y": "sputniknews.com",
          "z": 0.04361215974567852
         },
         {
          "x": "breitbart.com",
          "y": "telegraph.co.uk",
          "z": 0.007871662016739736
         },
         {
          "x": "breitbart.com",
          "y": "theguardian.com",
          "z": 0.01064039408866995
         },
         {
          "x": "breitbart.com",
          "y": "thehill.com",
          "z": 0.05504494495505505
         },
         {
          "x": "breitbart.com",
          "y": "thetimes.co.uk",
          "z": 0.019187247859883894
         },
         {
          "x": "breitbart.com",
          "y": "time.com",
          "z": 0.01005859375
         },
         {
          "x": "breitbart.com",
          "y": "usatoday.com",
          "z": 0.015293537247163296
         },
         {
          "x": "breitbart.com",
          "y": "variety.com",
          "z": 0.021404616295127243
         },
         {
          "x": "breitbart.com",
          "y": "vice.com",
          "z": 0.014087301587301588
         },
         {
          "x": "breitbart.com",
          "y": "washingtonexaminer.com",
          "z": 0.06245003996802558
         },
         {
          "x": "breitbart.com",
          "y": "washingtonpost.com",
          "z": 0.007046388725778039
         },
         {
          "x": "breitbart.com",
          "y": "washingtontimes.com",
          "z": 0.03125624126223287
         },
         {
          "x": "breitbart.com",
          "y": "wsj.com",
          "z": 0.006223649869504116
         },
         {
          "x": "breitbart.com",
          "y": "yahoo.com",
          "z": 0.002701891323926749
         },
         {
          "x": "businessinsider.com",
          "y": "apnews.com",
          "z": 0.0049534376857539135
         },
         {
          "x": "businessinsider.com",
          "y": "bbc.co.uk",
          "z": 0.0044753853804077575
         },
         {
          "x": "businessinsider.com",
          "y": "bloomberg.com",
          "z": 0.02004323049715072
         },
         {
          "x": "businessinsider.com",
          "y": "breitbart.com",
          "z": 0.006809434520872397
         },
         {
          "x": "businessinsider.com",
          "y": "businessinsider.com",
          "z": 0
         },
         {
          "x": "businessinsider.com",
          "y": "buzzfeed.com",
          "z": 0.05359451128567167
         },
         {
          "x": "businessinsider.com",
          "y": "cbc.ca",
          "z": 0.012769748564640665
         },
         {
          "x": "businessinsider.com",
          "y": "cbsnews.com",
          "z": 0.004284740481059499
         },
         {
          "x": "businessinsider.com",
          "y": "cnbc.com",
          "z": 0.0542905438997713
         },
         {
          "x": "businessinsider.com",
          "y": "cnn.com",
          "z": 0.0030270481398300946
         },
         {
          "x": "businessinsider.com",
          "y": "dailycaller.com",
          "z": 0.009601254041344176
         },
         {
          "x": "businessinsider.com",
          "y": "dailykos.com",
          "z": 0.019598236158745713
         },
         {
          "x": "businessinsider.com",
          "y": "forbes.com",
          "z": 0.04470775664642039
         },
         {
          "x": "businessinsider.com",
          "y": "foxnews.com",
          "z": 0.0034954559073204832
         },
         {
          "x": "businessinsider.com",
          "y": "ft.com",
          "z": 0.013358588376034293
         },
         {
          "x": "businessinsider.com",
          "y": "huffingtonpost.com",
          "z": 0.009697209578468237
         },
         {
          "x": "businessinsider.com",
          "y": "inc.com",
          "z": 0.0603807257584771
         },
         {
          "x": "businessinsider.com",
          "y": "independent.co.uk",
          "z": 0.03233119763430261
         },
         {
          "x": "businessinsider.com",
          "y": "msn.com",
          "z": 0.00872583044124938
         },
         {
          "x": "businessinsider.com",
          "y": "nbcnews.com",
          "z": 0.0027610689281135983
         },
         {
          "x": "businessinsider.com",
          "y": "newsweek.com",
          "z": 0.03841630733045864
         },
         {
          "x": "businessinsider.com",
          "y": "npr.org",
          "z": 0.004900999803960008
         },
         {
          "x": "businessinsider.com",
          "y": "nydailynews.com",
          "z": 0.004131418453669093
         },
         {
          "x": "businessinsider.com",
          "y": "nypost.com",
          "z": 0.015506172839506173
         },
         {
          "x": "businessinsider.com",
          "y": "nytimes.com",
          "z": 0.003408863043914177
         },
         {
          "x": "businessinsider.com",
          "y": "rawstory.com",
          "z": 0.018571288198879828
         },
         {
          "x": "businessinsider.com",
          "y": "reuters.com",
          "z": 0.022099990177782143
         },
         {
          "x": "businessinsider.com",
          "y": "rt.com",
          "z": 0.007405183628539978
         },
         {
          "x": "businessinsider.com",
          "y": "sputniknews.com",
          "z": 0.014206238823763163
         },
         {
          "x": "businessinsider.com",
          "y": "telegraph.co.uk",
          "z": 0.01265444400159426
         },
         {
          "x": "businessinsider.com",
          "y": "theguardian.com",
          "z": 0.0051231527093596055
         },
         {
          "x": "businessinsider.com",
          "y": "thehill.com",
          "z": 0.007877992122007878
         },
         {
          "x": "businessinsider.com",
          "y": "thetimes.co.uk",
          "z": 0.011413952573059136
         },
         {
          "x": "businessinsider.com",
          "y": "time.com",
          "z": 0.02373046875
         },
         {
          "x": "businessinsider.com",
          "y": "usatoday.com",
          "z": 0.013714849531327084
         },
         {
          "x": "businessinsider.com",
          "y": "variety.com",
          "z": 0.01745906490432038
         },
         {
          "x": "businessinsider.com",
          "y": "vice.com",
          "z": 0.035515873015873015
         },
         {
          "x": "businessinsider.com",
          "y": "washingtonexaminer.com",
          "z": 0.019884092725819345
         },
         {
          "x": "businessinsider.com",
          "y": "washingtonpost.com",
          "z": 0.004306126443531024
         },
         {
          "x": "businessinsider.com",
          "y": "washingtontimes.com",
          "z": 0.004194128220491312
         },
         {
          "x": "businessinsider.com",
          "y": "wsj.com",
          "z": 0.008733186107207387
         },
         {
          "x": "businessinsider.com",
          "y": "yahoo.com",
          "z": 0.009006304413089163
         },
         {
          "x": "buzzfeed.com",
          "y": "apnews.com",
          "z": 0.0012878937982960174
         },
         {
          "x": "buzzfeed.com",
          "y": "bbc.co.uk",
          "z": 0.00905022376926902
         },
         {
          "x": "buzzfeed.com",
          "y": "bloomberg.com",
          "z": 0.001375515818431912
         },
         {
          "x": "buzzfeed.com",
          "y": "breitbart.com",
          "z": 0.004934372841211882
         },
         {
          "x": "buzzfeed.com",
          "y": "businessinsider.com",
          "z": 0.042765084944346804
         },
         {
          "x": "buzzfeed.com",
          "y": "buzzfeed.com",
          "z": 0
         },
         {
          "x": "buzzfeed.com",
          "y": "cbc.ca",
          "z": 0.007028311225499901
         },
         {
          "x": "buzzfeed.com",
          "y": "cbsnews.com",
          "z": 0.0025318921024442497
         },
         {
          "x": "buzzfeed.com",
          "y": "cnbc.com",
          "z": 0.005071094759868748
         },
         {
          "x": "buzzfeed.com",
          "y": "cnn.com",
          "z": 0.0016599941411971487
         },
         {
          "x": "buzzfeed.com",
          "y": "dailycaller.com",
          "z": 0.007641814441069854
         },
         {
          "x": "buzzfeed.com",
          "y": "dailykos.com",
          "z": 0.01705046545810877
         },
         {
          "x": "buzzfeed.com",
          "y": "forbes.com",
          "z": 0.013840485910584486
         },
         {
          "x": "buzzfeed.com",
          "y": "foxnews.com",
          "z": 0.0014980525317087785
         },
         {
          "x": "buzzfeed.com",
          "y": "ft.com",
          "z": 0.0011962914963612801
         },
         {
          "x": "buzzfeed.com",
          "y": "huffingtonpost.com",
          "z": 0.016920641203245598
         },
         {
          "x": "buzzfeed.com",
          "y": "inc.com",
          "z": 0.023497917906008327
         },
         {
          "x": "buzzfeed.com",
          "y": "independent.co.uk",
          "z": 0.02759980285855101
         },
         {
          "x": "buzzfeed.com",
          "y": "msn.com",
          "z": 0.00842835894893406
         },
         {
          "x": "buzzfeed.com",
          "y": "nbcnews.com",
          "z": 0.0024652401143871413
         },
         {
          "x": "buzzfeed.com",
          "y": "newsweek.com",
          "z": 0.02391219129753038
         },
         {
          "x": "buzzfeed.com",
          "y": "npr.org",
          "z": 0.00646931974122721
         },
         {
          "x": "buzzfeed.com",
          "y": "nydailynews.com",
          "z": 0.0029510131811922094
         },
         {
          "x": "buzzfeed.com",
          "y": "nypost.com",
          "z": 0.010765432098765432
         },
         {
          "x": "buzzfeed.com",
          "y": "nytimes.com",
          "z": 0.002506516944054542
         },
         {
          "x": "buzzfeed.com",
          "y": "rawstory.com",
          "z": 0.013658248992826963
         },
         {
          "x": "buzzfeed.com",
          "y": "reuters.com",
          "z": 0.0016697770356546508
         },
         {
          "x": "buzzfeed.com",
          "y": "rt.com",
          "z": 0.003402381667167017
         },
         {
          "x": "buzzfeed.com",
          "y": "sputniknews.com",
          "z": 0.0032783628054838068
         },
         {
          "x": "buzzfeed.com",
          "y": "telegraph.co.uk",
          "z": 0.005579912315663611
         },
         {
          "x": "buzzfeed.com",
          "y": "theguardian.com",
          "z": 0.0064039408866995075
         },
         {
          "x": "buzzfeed.com",
          "y": "thehill.com",
          "z": 0.002726997273002727
         },
         {
          "x": "buzzfeed.com",
          "y": "thetimes.co.uk",
          "z": 0.006592541572370363
         },
         {
          "x": "buzzfeed.com",
          "y": "time.com",
          "z": 0.01875
         },
         {
          "x": "buzzfeed.com",
          "y": "usatoday.com",
          "z": 0.006512086827824371
         },
         {
          "x": "buzzfeed.com",
          "y": "variety.com",
          "z": 0.010159794831327678
         },
         {
          "x": "buzzfeed.com",
          "y": "vice.com",
          "z": 0.05704365079365079
         },
         {
          "x": "buzzfeed.com",
          "y": "washingtonexaminer.com",
          "z": 0.008393285371702638
         },
         {
          "x": "buzzfeed.com",
          "y": "washingtonpost.com",
          "z": 0.008807985907222548
         },
         {
          "x": "buzzfeed.com",
          "y": "washingtontimes.com",
          "z": 0.0014979029358897543
         },
         {
          "x": "buzzfeed.com",
          "y": "wsj.com",
          "z": 0.0015057217426219635
         },
         {
          "x": "buzzfeed.com",
          "y": "yahoo.com",
          "z": 0.0014009806864805363
         },
         {
          "x": "cbc.ca",
          "y": "apnews.com",
          "z": 0.02684763225678621
         },
         {
          "x": "cbc.ca",
          "y": "bbc.co.uk",
          "z": 0.030333167578319244
         },
         {
          "x": "cbc.ca",
          "y": "bloomberg.com",
          "z": 0.00844959717036746
         },
         {
          "x": "cbc.ca",
          "y": "breitbart.com",
          "z": 0.009473995855126814
         },
         {
          "x": "cbc.ca",
          "y": "businessinsider.com",
          "z": 0.009666080843585237
         },
         {
          "x": "cbc.ca",
          "y": "buzzfeed.com",
          "z": 0.0127274535149647
         },
         {
          "x": "cbc.ca",
          "y": "cbc.ca",
          "z": 0
         },
         {
          "x": "cbc.ca",
          "y": "cbsnews.com",
          "z": 0.014022787028921999
         },
         {
          "x": "cbc.ca",
          "y": "cnbc.com",
          "z": 0.009943323058566173
         },
         {
          "x": "cbc.ca",
          "y": "cnn.com",
          "z": 0.002343521140513622
         },
         {
          "x": "cbc.ca",
          "y": "dailycaller.com",
          "z": 0.004702655040658372
         },
         {
          "x": "cbc.ca",
          "y": "dailykos.com",
          "z": 0.0064674179323860855
         },
         {
          "x": "cbc.ca",
          "y": "forbes.com",
          "z": 0.020213083739918352
         },
         {
          "x": "cbc.ca",
          "y": "foxnews.com",
          "z": 0.009287925696594427
         },
         {
          "x": "cbc.ca",
          "y": "ft.com",
          "z": 0.009470641012860133
         },
         {
          "x": "cbc.ca",
          "y": "huffingtonpost.com",
          "z": 0.012269938650306749
         },
         {
          "x": "cbc.ca",
          "y": "inc.com",
          "z": 0.013682331945270671
         },
         {
          "x": "cbc.ca",
          "y": "independent.co.uk",
          "z": 0.01488417939871858
         },
         {
          "x": "cbc.ca",
          "y": "msn.com",
          "z": 0.006941001487357461
         },
         {
          "x": "cbc.ca",
          "y": "nbcnews.com",
          "z": 0.004634651415047826
         },
         {
          "x": "cbc.ca",
          "y": "newsweek.com",
          "z": 0.011858094864758919
         },
         {
          "x": "cbc.ca",
          "y": "npr.org",
          "z": 0.02381885904724564
         },
         {
          "x": "cbc.ca",
          "y": "nydailynews.com",
          "z": 0.014656698799921306
         },
         {
          "x": "cbc.ca",
          "y": "nypost.com",
          "z": 0.025777777777777778
         },
         {
          "x": "cbc.ca",
          "y": "nytimes.com",
          "z": 0.00832163625426108
         },
         {
          "x": "cbc.ca",
          "y": "rawstory.com",
          "z": 0.0035373882283580623
         },
         {
          "x": "cbc.ca",
          "y": "reuters.com",
          "z": 0.022198212356350062
         },
         {
          "x": "cbc.ca",
          "y": "rt.com",
          "z": 0.007305113579505654
         },
         {
          "x": "cbc.ca",
          "y": "sputniknews.com",
          "z": 0.013312139876813034
         },
         {
          "x": "cbc.ca",
          "y": "telegraph.co.uk",
          "z": 0.010063770426464728
         },
         {
          "x": "cbc.ca",
          "y": "theguardian.com",
          "z": 0.01438423645320197
         },
         {
          "x": "cbc.ca",
          "y": "thehill.com",
          "z": 0.005958994041005959
         },
         {
          "x": "cbc.ca",
          "y": "thetimes.co.uk",
          "z": 0.018498474859785497
         },
         {
          "x": "cbc.ca",
          "y": "time.com",
          "z": 0.0072265625
         },
         {
          "x": "cbc.ca",
          "y": "usatoday.com",
          "z": 0.023976319684262455
         },
         {
          "x": "cbc.ca",
          "y": "variety.com",
          "z": 0.017163148550009864
         },
         {
          "x": "cbc.ca",
          "y": "vice.com",
          "z": 0.03283730158730159
         },
         {
          "x": "cbc.ca",
          "y": "washingtonexaminer.com",
          "z": 0.004996003197442046
         },
         {
          "x": "cbc.ca",
          "y": "washingtonpost.com",
          "z": 0.003327461342728518
         },
         {
          "x": "cbc.ca",
          "y": "washingtontimes.com",
          "z": 0.016976233273417216
         },
         {
          "x": "cbc.ca",
          "y": "wsj.com",
          "z": 0.00451716522786589
         },
         {
          "x": "cbc.ca",
          "y": "yahoo.com",
          "z": 0.003702591814269989
         },
         {
          "x": "cbsnews.com",
          "y": "apnews.com",
          "z": 0.04685952050723202
         },
         {
          "x": "cbsnews.com",
          "y": "bbc.co.uk",
          "z": 0.024465440079562407
         },
         {
          "x": "cbsnews.com",
          "y": "bloomberg.com",
          "z": 0.015130674002751032
         },
         {
          "x": "cbsnews.com",
          "y": "breitbart.com",
          "z": 0.024573176749235173
         },
         {
          "x": "cbsnews.com",
          "y": "businessinsider.com",
          "z": 0.01425502831478227
         },
         {
          "x": "cbsnews.com",
          "y": "buzzfeed.com",
          "z": 0.00865069106095257
         },
         {
          "x": "cbsnews.com",
          "y": "cbc.ca",
          "z": 0.033062759849534745
         },
         {
          "x": "cbsnews.com",
          "y": "cbsnews.com",
          "z": 0
         },
         {
          "x": "cbsnews.com",
          "y": "cnbc.com",
          "z": 0.016207616585462863
         },
         {
          "x": "cbsnews.com",
          "y": "cnn.com",
          "z": 0.01327995312957719
         },
         {
          "x": "cbsnews.com",
          "y": "dailycaller.com",
          "z": 0.011070833741549917
         },
         {
          "x": "cbsnews.com",
          "y": "dailykos.com",
          "z": 0.02253797158255757
         },
         {
          "x": "cbsnews.com",
          "y": "forbes.com",
          "z": 0.024594244747585384
         },
         {
          "x": "cbsnews.com",
          "y": "foxnews.com",
          "z": 0.03914910616198941
         },
         {
          "x": "cbsnews.com",
          "y": "ft.com",
          "z": 0.009470641012860133
         },
         {
          "x": "cbsnews.com",
          "y": "huffingtonpost.com",
          "z": 0.009697209578468237
         },
         {
          "x": "cbsnews.com",
          "y": "inc.com",
          "z": 0.011699385286535793
         },
         {
          "x": "cbsnews.com",
          "y": "independent.co.uk",
          "z": 0.01330704780680138
         },
         {
          "x": "cbsnews.com",
          "y": "msn.com",
          "z": 0.011303916707982151
         },
         {
          "x": "cbsnews.com",
          "y": "nbcnews.com",
          "z": 0.019524701705946158
         },
         {
          "x": "cbsnews.com",
          "y": "newsweek.com",
          "z": 0.03057624460995688
         },
         {
          "x": "cbsnews.com",
          "y": "npr.org",
          "z": 0.03646343854146246
         },
         {
          "x": "cbsnews.com",
          "y": "nydailynews.com",
          "z": 0.038559905567578205
         },
         {
          "x": "cbsnews.com",
          "y": "nypost.com",
          "z": 0.04148148148148148
         },
         {
          "x": "cbsnews.com",
          "y": "nytimes.com",
          "z": 0.01132945658712653
         },
         {
          "x": "cbsnews.com",
          "y": "rawstory.com",
          "z": 0.022698241131964232
         },
         {
          "x": "cbsnews.com",
          "y": "reuters.com",
          "z": 0.02799332089185738
         },
         {
          "x": "cbsnews.com",
          "y": "rt.com",
          "z": 0.017011908335835085
         },
         {
          "x": "cbsnews.com",
          "y": "sputniknews.com",
          "z": 0.020067554142658456
         },
         {
          "x": "cbsnews.com",
          "y": "telegraph.co.uk",
          "z": 0.0062774013551215625
         },
         {
          "x": "cbsnews.com",
          "y": "theguardian.com",
          "z": 0.00935960591133005
         },
         {
          "x": "cbsnews.com",
          "y": "thehill.com",
          "z": 0.03979396020603979
         },
         {
          "x": "cbsnews.com",
          "y": "thetimes.co.uk",
          "z": 0.01446423300206632
         },
         {
          "x": "cbsnews.com",
          "y": "time.com",
          "z": 0.02109375
         },
         {
          "x": "cbsnews.com",
          "y": "usatoday.com",
          "z": 0.017957572767636903
         },
         {
          "x": "cbsnews.com",
          "y": "variety.com",
          "z": 0.031268494772144405
         },
         {
          "x": "cbsnews.com",
          "y": "vice.com",
          "z": 0.025595238095238095
         },
         {
          "x": "cbsnews.com",
          "y": "washingtonexaminer.com",
          "z": 0.050959232613908875
         },
         {
          "x": "cbsnews.com",
          "y": "washingtonpost.com",
          "z": 0.007535721276179292
         },
         {
          "x": "cbsnews.com",
          "y": "washingtontimes.com",
          "z": 0.03944477731176353
         },
         {
          "x": "cbsnews.com",
          "y": "wsj.com",
          "z": 0.010339289299337482
         },
         {
          "x": "cbsnews.com",
          "y": "yahoo.com",
          "z": 0.003702591814269989
         },
         {
          "x": "cnbc.com",
          "y": "apnews.com",
          "z": 0.01426590053497127
         },
         {
          "x": "cnbc.com",
          "y": "bbc.co.uk",
          "z": 0.007558428642466435
         },
         {
          "x": "cnbc.com",
          "y": "bloomberg.com",
          "z": 0.051287089801532716
         },
         {
          "x": "cnbc.com",
          "y": "breitbart.com",
          "z": 0.009671370768775289
         },
         {
          "x": "cnbc.com",
          "y": "businessinsider.com",
          "z": 0.08240578012107011
         },
         {
          "x": "cnbc.com",
          "y": "buzzfeed.com",
          "z": 0.010838222133837129
         },
         {
          "x": "cnbc.com",
          "y": "cbc.ca",
          "z": 0.006830330627598496
         },
         {
          "x": "cnbc.com",
          "y": "cbsnews.com",
          "z": 0.010030187944298373
         },
         {
          "x": "cnbc.com",
          "y": "cnbc.com",
          "z": 0
         },
         {
          "x": "cnbc.com",
          "y": "cnn.com",
          "z": 0.007323503564105068
         },
         {
          "x": "cnbc.com",
          "y": "dailycaller.com",
          "z": 0.00773978642108357
         },
         {
          "x": "cnbc.com",
          "y": "dailykos.com",
          "z": 0.018618324350808426
         },
         {
          "x": "cnbc.com",
          "y": "forbes.com",
          "z": 0.05018420790600418
         },
         {
          "x": "cnbc.com",
          "y": "foxnews.com",
          "z": 0.005892339958054529
         },
         {
          "x": "cnbc.com",
          "y": "ft.com",
          "z": 0.05492971787458877
         },
         {
          "x": "cnbc.com",
          "y": "huffingtonpost.com",
          "z": 0.005046507025529388
         },
         {
          "x": "cnbc.com",
          "y": "inc.com",
          "z": 0.0470949831449534
         },
         {
          "x": "cnbc.com",
          "y": "independent.co.uk",
          "z": 0.011039921143420403
         },
         {
          "x": "cnbc.com",
          "y": "msn.com",
          "z": 0.003371343579573624
         },
         {
          "x": "cnbc.com",
          "y": "nbcnews.com",
          "z": 0.0047332610196233115
         },
         {
          "x": "cnbc.com",
          "y": "newsweek.com",
          "z": 0.014700117600940808
         },
         {
          "x": "cnbc.com",
          "y": "npr.org",
          "z": 0.008037639678494413
         },
         {
          "x": "cnbc.com",
          "y": "nydailynews.com",
          "z": 0.004426519771788314
         },
         {
          "x": "cnbc.com",
          "y": "nypost.com",
          "z": 0.010962962962962963
         },
         {
          "x": "cnbc.com",
          "y": "nytimes.com",
          "z": 0.004411469821535993
         },
         {
          "x": "cnbc.com",
          "y": "rawstory.com",
          "z": 0.014640856834037536
         },
         {
          "x": "cnbc.com",
          "y": "reuters.com",
          "z": 0.04812886749828111
         },
         {
          "x": "cnbc.com",
          "y": "rt.com",
          "z": 0.007405183628539978
         },
         {
          "x": "cnbc.com",
          "y": "sputniknews.com",
          "z": 0.02384263858533678
         },
         {
          "x": "cnbc.com",
          "y": "telegraph.co.uk",
          "z": 0.007672379434037465
         },
         {
          "x": "cnbc.com",
          "y": "theguardian.com",
          "z": 0.006305418719211823
         },
         {
          "x": "cnbc.com",
          "y": "thehill.com",
          "z": 0.023734976265023734
         },
         {
          "x": "cnbc.com",
          "y": "thetimes.co.uk",
          "z": 0.01259470628751353
         },
         {
          "x": "cnbc.com",
          "y": "time.com",
          "z": 0.01708984375
         },
         {
          "x": "cnbc.com",
          "y": "usatoday.com",
          "z": 0.009077454366058214
         },
         {
          "x": "cnbc.com",
          "y": "variety.com",
          "z": 0.011935292957190768
         },
         {
          "x": "cnbc.com",
          "y": "vice.com",
          "z": 0.01636904761904762
         },
         {
          "x": "cnbc.com",
          "y": "washingtonexaminer.com",
          "z": 0.026378896882494004
         },
         {
          "x": "cnbc.com",
          "y": "washingtonpost.com",
          "z": 0.006654922685457036
         },
         {
          "x": "cnbc.com",
          "y": "washingtontimes.com",
          "z": 0.006590772917914919
         },
         {
          "x": "cnbc.com",
          "y": "wsj.com",
          "z": 0.026701465569162818
         },
         {
          "x": "cnbc.com",
          "y": "yahoo.com",
          "z": 0.004102872010407285
         },
         {
          "x": "cnn.com",
          "y": "apnews.com",
          "z": 0.03467406380027739
         },
         {
          "x": "cnn.com",
          "y": "bbc.co.uk",
          "z": 0.028841372451516658
         },
         {
          "x": "cnn.com",
          "y": "bloomberg.com",
          "z": 0.019158970328158775
         },
         {
          "x": "cnn.com",
          "y": "breitbart.com",
          "z": 0.023092864896871606
         },
         {
          "x": "cnn.com",
          "y": "businessinsider.com",
          "z": 0.017281780902167546
         },
         {
          "x": "cnn.com",
          "y": "buzzfeed.com",
          "z": 0.02127871134533161
         },
         {
          "x": "cnn.com",
          "y": "cbc.ca",
          "z": 0.017917244110077214
         },
         {
          "x": "cnn.com",
          "y": "cbsnews.com",
          "z": 0.033109358262732494
         },
         {
          "x": "cnn.com",
          "y": "cnbc.com",
          "z": 0.018792880580690067
         },
         {
          "x": "cnn.com",
          "y": "cnn.com",
          "z": 0
         },
         {
          "x": "cnn.com",
          "y": "dailycaller.com",
          "z": 0.013324189281865387
         },
         {
          "x": "cnn.com",
          "y": "dailykos.com",
          "z": 0.033708966193042623
         },
         {
          "x": "cnn.com",
          "y": "forbes.com",
          "z": 0.02698396893358558
         },
         {
          "x": "cnn.com",
          "y": "foxnews.com",
          "z": 0.02426845101368221
         },
         {
          "x": "cnn.com",
          "y": "ft.com",
          "z": 0.015352407536636426
         },
         {
          "x": "cnn.com",
          "y": "huffingtonpost.com",
          "z": 0.02068078369285573
         },
         {
          "x": "cnn.com",
          "y": "inc.com",
          "z": 0.019234582589728336
         },
         {
          "x": "cnn.com",
          "y": "independent.co.uk",
          "z": 0.013405618531296204
         },
         {
          "x": "cnn.com",
          "y": "msn.com",
          "z": 0.012097174020823005
         },
         {
          "x": "cnn.com",
          "y": "nbcnews.com",
          "z": 0.01203037175820925
         },
         {
          "x": "cnn.com",
          "y": "newsweek.com",
          "z": 0.02773422187377499
         },
         {
          "x": "cnn.com",
          "y": "npr.org",
          "z": 0.029798078808076847
         },
         {
          "x": "cnn.com",
          "y": "nydailynews.com",
          "z": 0.014066496163682864
         },
         {
          "x": "cnn.com",
          "y": "nypost.com",
          "z": 0.03585185185185185
         },
         {
          "x": "cnn.com",
          "y": "nytimes.com",
          "z": 0.011830759975937436
         },
         {
          "x": "cnn.com",
          "y": "rawstory.com",
          "z": 0.026530411712685466
         },
         {
          "x": "cnn.com",
          "y": "reuters.com",
          "z": 0.021707101463510462
         },
         {
          "x": "cnn.com",
          "y": "rt.com",
          "z": 0.020514360052036426
         },
         {
          "x": "cnn.com",
          "y": "sputniknews.com",
          "z": 0.04102920723226704
         },
         {
          "x": "cnn.com",
          "y": "telegraph.co.uk",
          "z": 0.009764846552411319
         },
         {
          "x": "cnn.com",
          "y": "theguardian.com",
          "z": 0.014876847290640394
         },
         {
          "x": "cnn.com",
          "y": "thehill.com",
          "z": 0.08029491970508029
         },
         {
          "x": "cnn.com",
          "y": "thetimes.co.uk",
          "z": 0.018301682574043097
         },
         {
          "x": "cnn.com",
          "y": "time.com",
          "z": 0.0279296875
         },
         {
          "x": "cnn.com",
          "y": "usatoday.com",
          "z": 0.016082881105081402
         },
         {
          "x": "cnn.com",
          "y": "variety.com",
          "z": 0.021503255079897414
         },
         {
          "x": "cnn.com",
          "y": "vice.com",
          "z": 0.03571428571428571
         },
         {
          "x": "cnn.com",
          "y": "washingtonexaminer.com",
          "z": 0.047362110311750596
         },
         {
          "x": "cnn.com",
          "y": "washingtonpost.com",
          "z": 0.005186925034253278
         },
         {
          "x": "cnn.com",
          "y": "washingtontimes.com",
          "z": 0.024266027561414022
         },
         {
          "x": "cnn.com",
          "y": "wsj.com",
          "z": 0.010439670748845614
         },
         {
          "x": "cnn.com",
          "y": "yahoo.com",
          "z": 0.003402381667167017
         },
         {
          "x": "dailycaller.com",
          "y": "apnews.com",
          "z": 0.012383594214384784
         },
         {
          "x": "dailycaller.com",
          "y": "bbc.co.uk",
          "z": 0.00765788165091994
         },
         {
          "x": "dailycaller.com",
          "y": "bloomberg.com",
          "z": 0.009137355079583416
         },
         {
          "x": "dailycaller.com",
          "y": "breitbart.com",
          "z": 0.05625185038981546
         },
         {
          "x": "dailycaller.com",
          "y": "businessinsider.com",
          "z": 0.01982034758836165
         },
         {
          "x": "dailycaller.com",
          "y": "buzzfeed.com",
          "z": 0.017102515660733817
         },
         {
          "x": "dailycaller.com",
          "y": "cbc.ca",
          "z": 0.014947535141556128
         },
         {
          "x": "dailycaller.com",
          "y": "cbsnews.com",
          "z": 0.012367319115785374
         },
         {
          "x": "dailycaller.com",
          "y": "cnbc.com",
          "z": 0.013920652281992641
         },
         {
          "x": "dailycaller.com",
          "y": "cnn.com",
          "z": 0.007225856849917001
         },
         {
          "x": "dailycaller.com",
          "y": "dailycaller.com",
          "z": 0
         },
         {
          "x": "dailycaller.com",
          "y": "dailykos.com",
          "z": 0.030377266046055854
         },
         {
          "x": "dailycaller.com",
          "y": "forbes.com",
          "z": 0.009658468585084139
         },
         {
          "x": "dailycaller.com",
          "y": "foxnews.com",
          "z": 0.017976630380505343
         },
         {
          "x": "dailycaller.com",
          "y": "ft.com",
          "z": 0.009769713886950453
         },
         {
          "x": "dailycaller.com",
          "y": "huffingtonpost.com",
          "z": 0.00742133386107263
         },
         {
          "x": "dailycaller.com",
          "y": "inc.com",
          "z": 0.007733491969066032
         },
         {
          "x": "dailycaller.com",
          "y": "independent.co.uk",
          "z": 0.016362740266140957
         },
         {
          "x": "dailycaller.com",
          "y": "msn.com",
          "z": 0.004858701041150223
         },
         {
          "x": "dailycaller.com",
          "y": "nbcnews.com",
          "z": 0.008776254807218224
         },
         {
          "x": "dailycaller.com",
          "y": "newsweek.com",
          "z": 0.027832222657781264
         },
         {
          "x": "dailycaller.com",
          "y": "npr.org",
          "z": 0.011272299549108017
         },
         {
          "x": "dailycaller.com",
          "y": "nydailynews.com",
          "z": 0.0187881172535904
         },
         {
          "x": "dailycaller.com",
          "y": "nypost.com",
          "z": 0.020641975308641976
         },
         {
          "x": "dailycaller.com",
          "y": "nytimes.com",
          "z": 0.00421094846601163
         },
         {
          "x": "dailycaller.com",
          "y": "rawstory.com",
          "z": 0.06927385280534538
         },
         {
          "x": "dailycaller.com",
          "y": "reuters.com",
          "z": 0.008545329535409095
         },
         {
          "x": "dailycaller.com",
          "y": "rt.com",
          "z": 0.019713799659761833
         },
         {
          "x": "dailycaller.com",
          "y": "sputniknews.com",
          "z": 0.02483608185972581
         },
         {
          "x": "dailycaller.com",
          "y": "telegraph.co.uk",
          "z": 0.006476683937823834
         },
         {
          "x": "dailycaller.com",
          "y": "theguardian.com",
          "z": 0.008374384236453201
         },
         {
          "x": "dailycaller.com",
          "y": "thehill.com",
          "z": 0.06524593475406525
         },
         {
          "x": "dailycaller.com",
          "y": "thetimes.co.uk",
          "z": 0.019088851717012693
         },
         {
          "x": "dailycaller.com",
          "y": "time.com",
          "z": 0.015234375
         },
         {
          "x": "dailycaller.com",
          "y": "usatoday.com",
          "z": 0.014010853478046374
         },
         {
          "x": "dailycaller.com",
          "y": "variety.com",
          "z": 0.023377391990530676
         },
         {
          "x": "dailycaller.com",
          "y": "vice.com",
          "z": 0.030357142857142857
         },
         {
          "x": "dailycaller.com",
          "y": "washingtonexaminer.com",
          "z": 0.05505595523581135
         },
         {
          "x": "dailycaller.com",
          "y": "washingtonpost.com",
          "z": 0.02192209825797612
         },
         {
          "x": "dailycaller.com",
          "y": "washingtontimes.com",
          "z": 0.02696225284601558
         },
         {
          "x": "dailycaller.com",
          "y": "wsj.com",
          "z": 0.012848825537040755
         },
         {
          "x": "dailycaller.com",
          "y": "yahoo.com",
          "z": 0.003202241569098369
         },
         {
          "x": "dailykos.com",
          "y": "apnews.com",
          "z": 0.008123637804636418
         },
         {
          "x": "dailykos.com",
          "y": "bbc.co.uk",
          "z": 0.018000994530084535
         },
         {
          "x": "dailykos.com",
          "y": "bloomberg.com",
          "z": 0.004028296325407742
         },
         {
          "x": "dailykos.com",
          "y": "breitbart.com",
          "z": 0.023684989637817032
         },
         {
          "x": "dailykos.com",
          "y": "businessinsider.com",
          "z": 0.01942979886740871
         },
         {
          "x": "dailykos.com",
          "y": "buzzfeed.com",
          "z": 0.016505916277219847
         },
         {
          "x": "dailykos.com",
          "y": "cbc.ca",
          "z": 0.00801821421500693
         },
         {
          "x": "dailykos.com",
          "y": "cbsnews.com",
          "z": 0.007595676307332749
         },
         {
          "x": "dailykos.com",
          "y": "cnbc.com",
          "z": 0.009545590136223525
         },
         {
          "x": "dailykos.com",
          "y": "cnn.com",
          "z": 0.014354066985645933
         },
         {
          "x": "dailykos.com",
          "y": "dailycaller.com",
          "z": 0.019398452042715782
         },
         {
          "x": "dailykos.com",
          "y": "dailykos.com",
          "z": 0
         },
         {
          "x": "dailykos.com",
          "y": "forbes.com",
          "z": 0.01164990540675097
         },
         {
          "x": "dailykos.com",
          "y": "foxnews.com",
          "z": 0.009188055527813842
         },
         {
          "x": "dailykos.com",
          "y": "ft.com",
          "z": 0.003688565447113947
         },
         {
          "x": "dailykos.com",
          "y": "huffingtonpost.com",
          "z": 0.021967148228774984
         },
         {
          "x": "dailykos.com",
          "y": "inc.com",
          "z": 0.008526670632559984
         },
         {
          "x": "dailykos.com",
          "y": "independent.co.uk",
          "z": 0.016264169541646133
         },
         {
          "x": "dailykos.com",
          "y": "msn.com",
          "z": 0.002478929102627665
         },
         {
          "x": "dailykos.com",
          "y": "nbcnews.com",
          "z": 0.01134010452618085
         },
         {
          "x": "dailykos.com",
          "y": "newsweek.com",
          "z": 0.03871030968247746
         },
         {
          "x": "dailykos.com",
          "y": "npr.org",
          "z": 0.022250539109978436
         },
         {
          "x": "dailykos.com",
          "y": "nydailynews.com",
          "z": 0.006984064528821562
         },
         {
          "x": "dailykos.com",
          "y": "nypost.com",
          "z": 0.0061234567901234565
         },
         {
          "x": "dailykos.com",
          "y": "nytimes.com",
          "z": 0.013635452175656707
         },
         {
          "x": "dailykos.com",
          "y": "rawstory.com",
          "z": 0.061019946939176575
         },
         {
          "x": "dailykos.com",
          "y": "reuters.com",
          "z": 0.010215106571063746
         },
         {
          "x": "dailykos.com",
          "y": "rt.com",
          "z": 0.00920644451115781
         },
         {
          "x": "dailykos.com",
          "y": "sputniknews.com",
          "z": 0.008642956487184581
         },
         {
          "x": "dailykos.com",
          "y": "telegraph.co.uk",
          "z": 0.005978477481068154
         },
         {
          "x": "dailykos.com",
          "y": "theguardian.com",
          "z": 0.009064039408866995
         },
         {
          "x": "dailykos.com",
          "y": "thehill.com",
          "z": 0.03464296535703464
         },
         {
          "x": "dailykos.com",
          "y": "thetimes.co.uk",
          "z": 0.009150841287021549
         },
         {
          "x": "dailykos.com",
          "y": "time.com",
          "z": 0.01015625
         },
         {
          "x": "dailykos.com",
          "y": "usatoday.com",
          "z": 0.0063147508633448445
         },
         {
          "x": "dailykos.com",
          "y": "variety.com",
          "z": 0.004734661668968239
         },
         {
          "x": "dailykos.com",
          "y": "vice.com",
          "z": 0.023015873015873017
         },
         {
          "x": "dailykos.com",
          "y": "washingtonexaminer.com",
          "z": 0.05945243804956035
         },
         {
          "x": "dailykos.com",
          "y": "washingtonpost.com",
          "z": 0.024075161479741633
         },
         {
          "x": "dailykos.com",
          "y": "washingtontimes.com",
          "z": 0.015578190533253445
         },
         {
          "x": "dailykos.com",
          "y": "wsj.com",
          "z": 0.003814495081308974
         },
         {
          "x": "dailykos.com",
          "y": "yahoo.com",
          "z": 0.0019013309316521566
         },
         {
          "x": "forbes.com",
          "y": "apnews.com",
          "z": 0.004656231424608678
         },
         {
          "x": "forbes.com",
          "y": "bbc.co.uk",
          "z": 0.017304823470909995
         },
         {
          "x": "forbes.com",
          "y": "bloomberg.com",
          "z": 0.0234820200432305
         },
         {
          "x": "forbes.com",
          "y": "breitbart.com",
          "z": 0.005822559952630021
         },
         {
          "x": "forbes.com",
          "y": "businessinsider.com",
          "z": 0.04979496192149971
         },
         {
          "x": "forbes.com",
          "y": "buzzfeed.com",
          "z": 0.018693447350104406
         },
         {
          "x": "forbes.com",
          "y": "cbc.ca",
          "z": 0.01118590378142942
         },
         {
          "x": "forbes.com",
          "y": "cbsnews.com",
          "z": 0.0032135553607946245
         },
         {
          "x": "forbes.com",
          "y": "cnbc.com",
          "z": 0.03798349408372278
         },
         {
          "x": "forbes.com",
          "y": "cnn.com",
          "z": 0.005077629137779514
         },
         {
          "x": "forbes.com",
          "y": "dailycaller.com",
          "z": 0.002351327520329186
         },
         {
          "x": "forbes.com",
          "y": "dailykos.com",
          "z": 0.014110730034296913
         },
         {
          "x": "forbes.com",
          "y": "forbes.com",
          "z": 0
         },
         {
          "x": "forbes.com",
          "y": "foxnews.com",
          "z": 0.001997403375611705
         },
         {
          "x": "forbes.com",
          "y": "ft.com",
          "z": 0.02482304854949656
         },
         {
          "x": "forbes.com",
          "y": "huffingtonpost.com",
          "z": 0.02404512170987532
         },
         {
          "x": "forbes.com",
          "y": "inc.com",
          "z": 0.15328177672020624
         },
         {
          "x": "forbes.com",
          "y": "independent.co.uk",
          "z": 0.01054706752094628
         },
         {
          "x": "forbes.com",
          "y": "msn.com",
          "z": 0.006147744174516609
         },
         {
          "x": "forbes.com",
          "y": "nbcnews.com",
          "z": 0.0032541169509910264
         },
         {
          "x": "forbes.com",
          "y": "newsweek.com",
          "z": 0.019502156017248137
         },
         {
          "x": "forbes.com",
          "y": "npr.org",
          "z": 0.01832973926681043
         },
         {
          "x": "forbes.com",
          "y": "nydailynews.com",
          "z": 0.004229785559708834
         },
         {
          "x": "forbes.com",
          "y": "nypost.com",
          "z": 0.015703703703703702
         },
         {
          "x": "forbes.com",
          "y": "nytimes.com",
          "z": 0.010627631842791257
         },
         {
          "x": "forbes.com",
          "y": "rawstory.com",
          "z": 0.0022599980347843174
         },
         {
          "x": "forbes.com",
          "y": "reuters.com",
          "z": 0.012179550142422158
         },
         {
          "x": "forbes.com",
          "y": "rt.com",
          "z": 0.006104272991093765
         },
         {
          "x": "forbes.com",
          "y": "sputniknews.com",
          "z": 0.0076495132127955496
         },
         {
          "x": "forbes.com",
          "y": "telegraph.co.uk",
          "z": 0.012853726584296532
         },
         {
          "x": "forbes.com",
          "y": "theguardian.com",
          "z": 0.01438423645320197
         },
         {
          "x": "forbes.com",
          "y": "thehill.com",
          "z": 0.008988991011008989
         },
         {
          "x": "forbes.com",
          "y": "thetimes.co.uk",
          "z": 0.012693102430384729
         },
         {
          "x": "forbes.com",
          "y": "time.com",
          "z": 0.01611328125
         },
         {
          "x": "forbes.com",
          "y": "usatoday.com",
          "z": 0.02624568327577701
         },
         {
          "x": "forbes.com",
          "y": "variety.com",
          "z": 0.028013414874728745
         },
         {
          "x": "forbes.com",
          "y": "vice.com",
          "z": 0.03898809523809524
         },
         {
          "x": "forbes.com",
          "y": "washingtonexaminer.com",
          "z": 0.009492406075139887
         },
         {
          "x": "forbes.com",
          "y": "washingtonpost.com",
          "z": 0.0037189273830495204
         },
         {
          "x": "forbes.com",
          "y": "washingtontimes.com",
          "z": 0.008587976832434592
         },
         {
          "x": "forbes.com",
          "y": "wsj.com",
          "z": 0.014756073077695242
         },
         {
          "x": "forbes.com",
          "y": "yahoo.com",
          "z": 0.005904132893025118
         },
         {
          "x": "foxnews.com",
          "y": "apnews.com",
          "z": 0.06459282742223103
         },
         {
          "x": "foxnews.com",
          "y": "bbc.co.uk",
          "z": 0.019691695673794134
         },
         {
          "x": "foxnews.com",
          "y": "bloomberg.com",
          "z": 0.007958341520927491
         },
         {
          "x": "foxnews.com",
          "y": "breitbart.com",
          "z": 0.038685483075101154
         },
         {
          "x": "foxnews.com",
          "y": "businessinsider.com",
          "z": 0.011911735989064635
         },
         {
          "x": "foxnews.com",
          "y": "buzzfeed.com",
          "z": 0.011434821517351099
         },
         {
          "x": "foxnews.com",
          "y": "cbc.ca",
          "z": 0.027024351613541872
         },
         {
          "x": "foxnews.com",
          "y": "cbsnews.com",
          "z": 0.04722952575713312
         },
         {
          "x": "foxnews.com",
          "y": "cnbc.com",
          "z": 0.010241622750323158
         },
         {
          "x": "foxnews.com",
          "y": "cnn.com",
          "z": 0.011327018845815839
         },
         {
          "x": "foxnews.com",
          "y": "dailycaller.com",
          "z": 0.031057117664347995
         },
         {
          "x": "foxnews.com",
          "y": "dailykos.com",
          "z": 0.026849583537481625
         },
         {
          "x": "foxnews.com",
          "y": "forbes.com",
          "z": 0.014736632480334562
         },
         {
          "x": "foxnews.com",
          "y": "foxnews.com",
          "z": 0
         },
         {
          "x": "foxnews.com",
          "y": "ft.com",
          "z": 0.005881766523776293
         },
         {
          "x": "foxnews.com",
          "y": "huffingtonpost.com",
          "z": 0.012170987532159113
         },
         {
          "x": "foxnews.com",
          "y": "inc.com",
          "z": 0.009815585960737656
         },
         {
          "x": "foxnews.com",
          "y": "independent.co.uk",
          "z": 0.01330704780680138
         },
         {
          "x": "foxnews.com",
          "y": "msn.com",
          "z": 0.01308874566187407
         },
         {
          "x": "foxnews.com",
          "y": "nbcnews.com",
          "z": 0.013706735035992505
         },
         {
          "x": "foxnews.com",
          "y": "newsweek.com",
          "z": 0.023618188945511563
         },
         {
          "x": "foxnews.com",
          "y": "npr.org",
          "z": 0.020486179180552833
         },
         {
          "x": "foxnews.com",
          "y": "nydailynews.com",
          "z": 0.03187094235687586
         },
         {
          "x": "foxnews.com",
          "y": "nypost.com",
          "z": 0.04128395061728395
         },
         {
          "x": "foxnews.com",
          "y": "nytimes.com",
          "z": 0.008822939643071986
         },
         {
          "x": "foxnews.com",
          "y": "rawstory.com",
          "z": 0.020831286233664145
         },
         {
          "x": "foxnews.com",
          "y": "reuters.com",
          "z": 0.028680876141832824
         },
         {
          "x": "foxnews.com",
          "y": "rt.com",
          "z": 0.022916041228860203
         },
         {
          "x": "foxnews.com",
          "y": "sputniknews.com",
          "z": 0.0460957679316511
         },
         {
          "x": "foxnews.com",
          "y": "telegraph.co.uk",
          "z": 0.0074730968513351936
         },
         {
          "x": "foxnews.com",
          "y": "theguardian.com",
          "z": 0.009458128078817733
         },
         {
          "x": "foxnews.com",
          "y": "thehill.com",
          "z": 0.057771942228057774
         },
         {
          "x": "foxnews.com",
          "y": "thetimes.co.uk",
          "z": 0.012693102430384729
         },
         {
          "x": "foxnews.com",
          "y": "time.com",
          "z": 0.015625
         },
         {
          "x": "foxnews.com",
          "y": "usatoday.com",
          "z": 0.027725703009373458
         },
         {
          "x": "foxnews.com",
          "y": "variety.com",
          "z": 0.027421582166107714
         },
         {
          "x": "foxnews.com",
          "y": "vice.com",
          "z": 0.015674603174603174
         },
         {
          "x": "foxnews.com",
          "y": "washingtonexaminer.com",
          "z": 0.047362110311750596
         },
         {
          "x": "foxnews.com",
          "y": "washingtonpost.com",
          "z": 0.006654922685457036
         },
         {
          "x": "foxnews.com",
          "y": "washingtontimes.com",
          "z": 0.03555022967845017
         },
         {
          "x": "foxnews.com",
          "y": "wsj.com",
          "z": 0.005420598273439069
         },
         {
          "x": "foxnews.com",
          "y": "yahoo.com",
          "z": 0.003602521765235665
         },
         {
          "x": "ft.com",
          "y": "apnews.com",
          "z": 0.013176144244105409
         },
         {
          "x": "ft.com",
          "y": "bbc.co.uk",
          "z": 0.03092988562904028
         },
         {
          "x": "ft.com",
          "y": "bloomberg.com",
          "z": 0.05089408528198074
         },
         {
          "x": "ft.com",
          "y": "breitbart.com",
          "z": 0.007796309089114773
         },
         {
          "x": "ft.com",
          "y": "businessinsider.com",
          "z": 0.008982620581917594
         },
         {
          "x": "ft.com",
          "y": "buzzfeed.com",
          "z": 0.00288356368698419
         },
         {
          "x": "ft.com",
          "y": "cbc.ca",
          "z": 0.010591961987725202
         },
         {
          "x": "ft.com",
          "y": "cbsnews.com",
          "z": 0.0037004576881877497
         },
         {
          "x": "ft.com",
          "y": "cnbc.com",
          "z": 0.03171920055682609
         },
         {
          "x": "ft.com",
          "y": "cnn.com",
          "z": 0.004687042281027244
         },
         {
          "x": "ft.com",
          "y": "dailycaller.com",
          "z": 0.004212795140589792
         },
         {
          "x": "ft.com",
          "y": "dailykos.com",
          "z": 0.0039196472317491425
         },
         {
          "x": "ft.com",
          "y": "forbes.com",
          "z": 0.030070696007169172
         },
         {
          "x": "ft.com",
          "y": "foxnews.com",
          "z": 0.0027963647258563867
         },
         {
          "x": "ft.com",
          "y": "ft.com",
          "z": 0
         },
         {
          "x": "ft.com",
          "y": "huffingtonpost.com",
          "z": 0.006332871561448644
         },
         {
          "x": "ft.com",
          "y": "inc.com",
          "z": 0.00793178663493952
         },
         {
          "x": "ft.com",
          "y": "independent.co.uk",
          "z": 0.020009857072449483
         },
         {
          "x": "ft.com",
          "y": "msn.com",
          "z": 0.0019831432821021317
         },
         {
          "x": "ft.com",
          "y": "nbcnews.com",
          "z": 0.0023666305098116558
         },
         {
          "x": "ft.com",
          "y": "newsweek.com",
          "z": 0.0051940415523324185
         },
         {
          "x": "ft.com",
          "y": "npr.org",
          "z": 0.014899039404038424
         },
         {
          "x": "ft.com",
          "y": "nydailynews.com",
          "z": 0.0016722408026755853
         },
         {
          "x": "ft.com",
          "y": "nypost.com",
          "z": 0.005432098765432099
         },
         {
          "x": "ft.com",
          "y": "nytimes.com",
          "z": 0.0120312813314618
         },
         {
          "x": "ft.com",
          "y": "rawstory.com",
          "z": 0.00835216665028987
         },
         {
          "x": "ft.com",
          "y": "reuters.com",
          "z": 0.05716530792652981
         },
         {
          "x": "ft.com",
          "y": "rt.com",
          "z": 0.017812468728109678
         },
         {
          "x": "ft.com",
          "y": "sputniknews.com",
          "z": 0.04023445261275581
         },
         {
          "x": "ft.com",
          "y": "telegraph.co.uk",
          "z": 0.015643682742128337
         },
         {
          "x": "ft.com",
          "y": "theguardian.com",
          "z": 0.025812807881773397
         },
         {
          "x": "ft.com",
          "y": "thehill.com",
          "z": 0.013735986264013737
         },
         {
          "x": "ft.com",
          "y": "thetimes.co.uk",
          "z": 0.0698612614385516
         },
         {
          "x": "ft.com",
          "y": "time.com",
          "z": 0.0033203125
         },
         {
          "x": "ft.com",
          "y": "usatoday.com",
          "z": 0.004045387271830291
         },
         {
          "x": "ft.com",
          "y": "variety.com",
          "z": 0.020122312093115012
         },
         {
          "x": "ft.com",
          "y": "vice.com",
          "z": 0.019146825396825398
         },
         {
          "x": "ft.com",
          "y": "washingtonexaminer.com",
          "z": 0.006294964028776978
         },
         {
          "x": "ft.com",
          "y": "washingtonpost.com",
          "z": 0.004110393423370522
         },
         {
          "x": "ft.com",
          "y": "washingtontimes.com",
          "z": 0.008987417615338526
         },
         {
          "x": "ft.com",
          "y": "wsj.com",
          "z": 0.03985143545472797
         },
         {
          "x": "ft.com",
          "y": "yahoo.com",
          "z": 0.002501751225858101
         },
         {
          "x": "huffingtonpost.com",
          "y": "apnews.com",
          "z": 0.011293837923518922
         },
         {
          "x": "huffingtonpost.com",
          "y": "bbc.co.uk",
          "z": 0.024465440079562407
         },
         {
          "x": "huffingtonpost.com",
          "y": "bloomberg.com",
          "z": 0.004421300844959717
         },
         {
          "x": "huffingtonpost.com",
          "y": "breitbart.com",
          "z": 0.018651929339780913
         },
         {
          "x": "huffingtonpost.com",
          "y": "businessinsider.com",
          "z": 0.026850224565514547
         },
         {
          "x": "huffingtonpost.com",
          "y": "buzzfeed.com",
          "z": 0.06562593218653674
         },
         {
          "x": "huffingtonpost.com",
          "y": "cbc.ca",
          "z": 0.014947535141556128
         },
         {
          "x": "huffingtonpost.com",
          "y": "cbsnews.com",
          "z": 0.010906612133605999
         },
         {
          "x": "huffingtonpost.com",
          "y": "cnbc.com",
          "z": 0.00745749229392463
         },
         {
          "x": "huffingtonpost.com",
          "y": "cnn.com",
          "z": 0.010545845132311297
         },
         {
          "x": "huffingtonpost.com",
          "y": "dailycaller.com",
          "z": 0.01596943274223572
         },
         {
          "x": "huffingtonpost.com",
          "y": "dailykos.com",
          "z": 0.04654581087702107
         },
         {
          "x": "huffingtonpost.com",
          "y": "forbes.com",
          "z": 0.05844867071592154
         },
         {
          "x": "huffingtonpost.com",
          "y": "foxnews.com",
          "z": 0.007390392489763308
         },
         {
          "x": "huffingtonpost.com",
          "y": "ft.com",
          "z": 0.009969095803010667
         },
         {
          "x": "huffingtonpost.com",
          "y": "huffingtonpost.com",
          "z": 0
         },
         {
          "x": "huffingtonpost.com",
          "y": "inc.com",
          "z": 0.08417608566329565
         },
         {
          "x": "huffingtonpost.com",
          "y": "independent.co.uk",
          "z": 0.016264169541646133
         },
         {
          "x": "huffingtonpost.com",
          "y": "msn.com",
          "z": 0.009419930589985127
         },
         {
          "x": "huffingtonpost.com",
          "y": "nbcnews.com",
          "z": 0.012523419781086677
         },
         {
          "x": "huffingtonpost.com",
          "y": "newsweek.com",
          "z": 0.029498235985887886
         },
         {
          "x": "huffingtonpost.com",
          "y": "npr.org",
          "z": 0.029602038815918448
         },
         {
          "x": "huffingtonpost.com",
          "y": "nydailynews.com",
          "z": 0.015443635648239229
         },
         {
          "x": "huffingtonpost.com",
          "y": "nypost.com",
          "z": 0.028641975308641977
         },
         {
          "x": "huffingtonpost.com",
          "y": "nytimes.com",
          "z": 0.012432324042510528
         },
         {
          "x": "huffingtonpost.com",
          "y": "rawstory.com",
          "z": 0.02820084504274344
         },
         {
          "x": "huffingtonpost.com",
          "y": "reuters.com",
          "z": 0.009625773499656222
         },
         {
          "x": "huffingtonpost.com",
          "y": "rt.com",
          "z": 0.010407285099569698
         },
         {
          "x": "huffingtonpost.com",
          "y": "sputniknews.com",
          "z": 0.010033777071329228
         },
         {
          "x": "huffingtonpost.com",
          "y": "telegraph.co.uk",
          "z": 0.00827022718214428
         },
         {
          "x": "huffingtonpost.com",
          "y": "theguardian.com",
          "z": 0.018029556650246307
         },
         {
          "x": "huffingtonpost.com",
          "y": "thehill.com",
          "z": 0.022825977174022825
         },
         {
          "x": "huffingtonpost.com",
          "y": "thetimes.co.uk",
          "z": 0.022040736003148678
         },
         {
          "x": "huffingtonpost.com",
          "y": "time.com",
          "z": 0.03349609375
         },
         {
          "x": "huffingtonpost.com",
          "y": "usatoday.com",
          "z": 0.013320177602368031
         },
         {
          "x": "huffingtonpost.com",
          "y": "variety.com",
          "z": 0.024363779838232392
         },
         {
          "x": "huffingtonpost.com",
          "y": "vice.com",
          "z": 0.06884920634920635
         },
         {
          "x": "huffingtonpost.com",
          "y": "washingtonexaminer.com",
          "z": 0.024880095923261392
         },
         {
          "x": "huffingtonpost.com",
          "y": "washingtonpost.com",
          "z": 0.01448424349187708
         },
         {
          "x": "huffingtonpost.com",
          "y": "washingtontimes.com",
          "z": 0.01378070701018574
         },
         {
          "x": "huffingtonpost.com",
          "y": "wsj.com",
          "z": 0.009335474804256174
         },
         {
          "x": "huffingtonpost.com",
          "y": "yahoo.com",
          "z": 0.0031021715200640447
         },
         {
          "x": "inc.com",
          "y": "apnews.com",
          "z": 0.0005944125222904696
         },
         {
          "x": "inc.com",
          "y": "bbc.co.uk",
          "z": 0.0046742913973147684
         },
         {
          "x": "inc.com",
          "y": "bloomberg.com",
          "z": 0.003340538416191786
         },
         {
          "x": "inc.com",
          "y": "breitbart.com",
          "z": 0.0010855620250666141
         },
         {
          "x": "inc.com",
          "y": "businessinsider.com",
          "z": 0.04530365163054091
         },
         {
          "x": "inc.com",
          "y": "buzzfeed.com",
          "z": 0.027940737794570944
         },
         {
          "x": "inc.com",
          "y": "cbc.ca",
          "z": 0.002276776875866165
         },
         {
          "x": "inc.com",
          "y": "cbsnews.com",
          "z": 0.0006816632583503749
         },
         {
          "x": "inc.com",
          "y": "cnbc.com",
          "z": 0.015312717510191906
         },
         {
          "x": "inc.com",
          "y": "cnn.com",
          "z": 0.0008788204276926081
         },
         {
          "x": "inc.com",
          "y": "dailycaller.com",
          "z": 0.0005878318800822965
         },
         {
          "x": "inc.com",
          "y": "dailykos.com",
          "z": 0.004997550220480157
         },
         {
          "x": "inc.com",
          "y": "forbes.com",
          "z": 0.09100866275017425
         },
         {
          "x": "inc.com",
          "y": "foxnews.com",
          "z": 0.0006990911814640967
         },
         {
          "x": "inc.com",
          "y": "ft.com",
          "z": 0.0030904196989333067
         },
         {
          "x": "inc.com",
          "y": "huffingtonpost.com",
          "z": 0.015337423312883436
         },
         {
          "x": "inc.com",
          "y": "inc.com",
          "z": 0
         },
         {
          "x": "inc.com",
          "y": "independent.co.uk",
          "z": 0.004238541153277477
         },
         {
          "x": "inc.com",
          "y": "msn.com",
          "z": 0.0013882002974714923
         },
         {
          "x": "inc.com",
          "y": "nbcnews.com",
          "z": 0.0010847056503303421
         },
         {
          "x": "inc.com",
          "y": "newsweek.com",
          "z": 0.005684045472363779
         },
         {
          "x": "inc.com",
          "y": "npr.org",
          "z": 0.004704959811801608
         },
         {
          "x": "inc.com",
          "y": "nydailynews.com",
          "z": 0.0008853039543576628
         },
         {
          "x": "inc.com",
          "y": "nypost.com",
          "z": 0.0066172839506172835
         },
         {
          "x": "inc.com",
          "y": "nytimes.com",
          "z": 0.0023059955885301785
         },
         {
          "x": "inc.com",
          "y": "rawstory.com",
          "z": 0.0004913039206052865
         },
         {
          "x": "inc.com",
          "y": "reuters.com",
          "z": 0.0020626657499263333
         },
         {
          "x": "inc.com",
          "y": "rt.com",
          "z": 0.0016011207845491844
         },
         {
          "x": "inc.com",
          "y": "sputniknews.com",
          "z": 0.0008940989469501292
         },
         {
          "x": "inc.com",
          "y": "telegraph.co.uk",
          "z": 0.006775607811877242
         },
         {
          "x": "inc.com",
          "y": "theguardian.com",
          "z": 0.0038423645320197044
         },
         {
          "x": "inc.com",
          "y": "thehill.com",
          "z": 0.001413998586001414
         },
         {
          "x": "inc.com",
          "y": "thetimes.co.uk",
          "z": 0.003345468857620781
         },
         {
          "x": "inc.com",
          "y": "time.com",
          "z": 0.014453125
         },
         {
          "x": "inc.com",
          "y": "usatoday.com",
          "z": 0.004144055254070054
         },
         {
          "x": "inc.com",
          "y": "variety.com",
          "z": 0.003255079897415664
         },
         {
          "x": "inc.com",
          "y": "vice.com",
          "z": 0.016964285714285713
         },
         {
          "x": "inc.com",
          "y": "washingtonexaminer.com",
          "z": 0.0015987210231814548
         },
         {
          "x": "inc.com",
          "y": "washingtonpost.com",
          "z": 0.0024466627520062633
         },
         {
          "x": "inc.com",
          "y": "washingtontimes.com",
          "z": 0.0013980427401637707
         },
         {
          "x": "inc.com",
          "y": "wsj.com",
          "z": 0.0027102991367195343
         },
         {
          "x": "inc.com",
          "y": "yahoo.com",
          "z": 0.0017011908335835084
         },
         {
          "x": "independent.co.uk",
          "y": "apnews.com",
          "z": 0.00851991281949673
         },
         {
          "x": "independent.co.uk",
          "y": "bbc.co.uk",
          "z": 0.025957235206364993
         },
         {
          "x": "independent.co.uk",
          "y": "bloomberg.com",
          "z": 0.006681076832383572
         },
         {
          "x": "independent.co.uk",
          "y": "breitbart.com",
          "z": 0.021908615414980757
         },
         {
          "x": "independent.co.uk",
          "y": "businessinsider.com",
          "z": 0.043546182386252685
         },
         {
          "x": "independent.co.uk",
          "y": "buzzfeed.com",
          "z": 0.0275430048722283
         },
         {
          "x": "independent.co.uk",
          "y": "cbc.ca",
          "z": 0.020787962779647593
         },
         {
          "x": "independent.co.uk",
          "y": "cbsnews.com",
          "z": 0.009056383289512124
         },
         {
          "x": "independent.co.uk",
          "y": "cnbc.com",
          "z": 0.010042756289151834
         },
         {
          "x": "independent.co.uk",
          "y": "cnn.com",
          "z": 0.002245874426325554
         },
         {
          "x": "independent.co.uk",
          "y": "dailycaller.com",
          "z": 0.008327618301165867
         },
         {
          "x": "independent.co.uk",
          "y": "dailykos.com",
          "z": 0.012738853503184714
         },
         {
          "x": "independent.co.uk",
          "y": "forbes.com",
          "z": 0.019615652693418303
         },
         {
          "x": "independent.co.uk",
          "y": "foxnews.com",
          "z": 0.005792469789273944
         },
         {
          "x": "independent.co.uk",
          "y": "ft.com",
          "z": 0.024125211843285813
         },
         {
          "x": "independent.co.uk",
          "y": "huffingtonpost.com",
          "z": 0.012269938650306749
         },
         {
          "x": "independent.co.uk",
          "y": "inc.com",
          "z": 0.014178068609954393
         },
         {
          "x": "independent.co.uk",
          "y": "independent.co.uk",
          "z": 0
         },
         {
          "x": "independent.co.uk",
          "y": "msn.com",
          "z": 0.010708973723351512
         },
         {
          "x": "independent.co.uk",
          "y": "nbcnews.com",
          "z": 0.0041416033921703975
         },
         {
          "x": "independent.co.uk",
          "y": "newsweek.com",
          "z": 0.041748333986671896
         },
         {
          "x": "independent.co.uk",
          "y": "npr.org",
          "z": 0.008723779651048815
         },
         {
          "x": "independent.co.uk",
          "y": "nydailynews.com",
          "z": 0.012099154042888059
         },
         {
          "x": "independent.co.uk",
          "y": "nypost.com",
          "z": 0.026271604938271603
         },
         {
          "x": "independent.co.uk",
          "y": "nytimes.com",
          "z": 0.005714858632444355
         },
         {
          "x": "independent.co.uk",
          "y": "rawstory.com",
          "z": 0.022599980347843177
         },
         {
          "x": "independent.co.uk",
          "y": "reuters.com",
          "z": 0.011786661428150477
         },
         {
          "x": "independent.co.uk",
          "y": "rt.com",
          "z": 0.02211548083658561
         },
         {
          "x": "independent.co.uk",
          "y": "sputniknews.com",
          "z": 0.022749850983508842
         },
         {
          "x": "independent.co.uk",
          "y": "telegraph.co.uk",
          "z": 0.04453965723395775
         },
         {
          "x": "independent.co.uk",
          "y": "theguardian.com",
          "z": 0.0341871921182266
         },
         {
          "x": "independent.co.uk",
          "y": "thehill.com",
          "z": 0.006160993839006161
         },
         {
          "x": "independent.co.uk",
          "y": "thetimes.co.uk",
          "z": 0.05677457443668208
         },
         {
          "x": "independent.co.uk",
          "y": "time.com",
          "z": 0.018359375
         },
         {
          "x": "independent.co.uk",
          "y": "usatoday.com",
          "z": 0.014208189442525901
         },
         {
          "x": "independent.co.uk",
          "y": "variety.com",
          "z": 0.02663247188794634
         },
         {
          "x": "independent.co.uk",
          "y": "vice.com",
          "z": 0.05119047619047619
         },
         {
          "x": "independent.co.uk",
          "y": "washingtonexaminer.com",
          "z": 0.008992805755395683
         },
         {
          "x": "independent.co.uk",
          "y": "washingtonpost.com",
          "z": 0.004403992953611274
         },
         {
          "x": "independent.co.uk",
          "y": "washingtontimes.com",
          "z": 0.00908727781106451
         },
         {
          "x": "independent.co.uk",
          "y": "wsj.com",
          "z": 0.0028106805862276652
         },
         {
          "x": "independent.co.uk",
          "y": "yahoo.com",
          "z": 0.0031021715200640447
         },
         {
          "x": "msn.com",
          "y": "apnews.com",
          "z": 0.035169407568852784
         },
         {
          "x": "msn.com",
          "y": "bbc.co.uk",
          "z": 0.029438090502237692
         },
         {
          "x": "msn.com",
          "y": "bloomberg.com",
          "z": 0.0171939477303989
         },
         {
          "x": "msn.com",
          "y": "breitbart.com",
          "z": 0.01746767985789006
         },
         {
          "x": "msn.com",
          "y": "businessinsider.com",
          "z": 0.038566686194102716
         },
         {
          "x": "msn.com",
          "y": "buzzfeed.com",
          "z": 0.04524211991647609
         },
         {
          "x": "msn.com",
          "y": "cbc.ca",
          "z": 0.04147693526034449
         },
         {
          "x": "msn.com",
          "y": "cbsnews.com",
          "z": 0.025124160093485247
         },
         {
          "x": "msn.com",
          "y": "cnbc.com",
          "z": 0.019986079347718008
         },
         {
          "x": "msn.com",
          "y": "cnn.com",
          "z": 0.011912899130944244
         },
         {
          "x": "msn.com",
          "y": "dailycaller.com",
          "z": 0.011462721661604782
         },
         {
          "x": "msn.com",
          "y": "dailykos.com",
          "z": 0.016462518373346398
         },
         {
          "x": "msn.com",
          "y": "forbes.com",
          "z": 0.02618739420491885
         },
         {
          "x": "msn.com",
          "y": "foxnews.com",
          "z": 0.01577948666733247
         },
         {
          "x": "msn.com",
          "y": "ft.com",
          "z": 0.014156116040275148
         },
         {
          "x": "msn.com",
          "y": "huffingtonpost.com",
          "z": 0.01365525430437364
         },
         {
          "x": "msn.com",
          "y": "inc.com",
          "z": 0.026075748562363672
         },
         {
          "x": "msn.com",
          "y": "independent.co.uk",
          "z": 0.036274026614095616
         },
         {
          "x": "msn.com",
          "y": "msn.com",
          "z": 0
         },
         {
          "x": "msn.com",
          "y": "nbcnews.com",
          "z": 0.010255398875850507
         },
         {
          "x": "msn.com",
          "y": "newsweek.com",
          "z": 0.025970207761662093
         },
         {
          "x": "msn.com",
          "y": "npr.org",
          "z": 0.016173299353068025
         },
         {
          "x": "msn.com",
          "y": "nydailynews.com",
          "z": 0.026460751524690143
         },
         {
          "x": "msn.com",
          "y": "nypost.com",
          "z": 0.04
         },
         {
          "x": "msn.com",
          "y": "nytimes.com",
          "z": 0.010627631842791257
         },
         {
          "x": "msn.com",
          "y": "rawstory.com",
          "z": 0.019750417608332516
         },
         {
          "x": "msn.com",
          "y": "reuters.com",
          "z": 0.028287987427561143
         },
         {
          "x": "msn.com",
          "y": "rt.com",
          "z": 0.01741218853197238
         },
         {
          "x": "msn.com",
          "y": "sputniknews.com",
          "z": 0.027518378700576197
         },
         {
          "x": "msn.com",
          "y": "telegraph.co.uk",
          "z": 0.01783579115185333
         },
         {
          "x": "msn.com",
          "y": "theguardian.com",
          "z": 0.01123152709359606
         },
         {
          "x": "msn.com",
          "y": "thehill.com",
          "z": 0.031006968993031007
         },
         {
          "x": "msn.com",
          "y": "thetimes.co.uk",
          "z": 0.026173374003739053
         },
         {
          "x": "msn.com",
          "y": "time.com",
          "z": 0.02431640625
         },
         {
          "x": "msn.com",
          "y": "usatoday.com",
          "z": 0.04292057227429699
         },
         {
          "x": "msn.com",
          "y": "variety.com",
          "z": 0.029591635431051488
         },
         {
          "x": "msn.com",
          "y": "vice.com",
          "z": 0.034523809523809526
         },
         {
          "x": "msn.com",
          "y": "washingtonexaminer.com",
          "z": 0.017885691446842527
         },
         {
          "x": "msn.com",
          "y": "washingtonpost.com",
          "z": 0.013994910941475827
         },
         {
          "x": "msn.com",
          "y": "washingtontimes.com",
          "z": 0.018074695426403036
         },
         {
          "x": "msn.com",
          "y": "wsj.com",
          "z": 0.011242722344910661
         },
         {
          "x": "msn.com",
          "y": "yahoo.com",
          "z": 0.00770539377564295
         },
         {
          "x": "nbcnews.com",
          "y": "apnews.com",
          "z": 0.03318803249455122
         },
         {
          "x": "nbcnews.com",
          "y": "bbc.co.uk",
          "z": 0.01531576330183988
         },
         {
          "x": "nbcnews.com",
          "y": "bloomberg.com",
          "z": 0.014148162703871094
         },
         {
          "x": "nbcnews.com",
          "y": "breitbart.com",
          "z": 0.03700779630908912
         },
         {
          "x": "nbcnews.com",
          "y": "businessinsider.com",
          "z": 0.01737941808240578
         },
         {
          "x": "nbcnews.com",
          "y": "buzzfeed.com",
          "z": 0.015213284279606245
         },
         {
          "x": "nbcnews.com",
          "y": "cbc.ca",
          "z": 0.026133438922985548
         },
         {
          "x": "nbcnews.com",
          "y": "cbsnews.com",
          "z": 0.05131950530723537
         },
         {
          "x": "nbcnews.com",
          "y": "cnbc.com",
          "z": 0.013324052898478671
         },
         {
          "x": "nbcnews.com",
          "y": "cnn.com",
          "z": 0.014158773557269798
         },
         {
          "x": "nbcnews.com",
          "y": "dailycaller.com",
          "z": 0.01900656412266092
         },
         {
          "x": "nbcnews.com",
          "y": "dailykos.com",
          "z": 0.039000489955903966
         },
         {
          "x": "nbcnews.com",
          "y": "forbes.com",
          "z": 0.0220053768794185
         },
         {
          "x": "nbcnews.com",
          "y": "foxnews.com",
          "z": 0.02936182962149206
         },
         {
          "x": "nbcnews.com",
          "y": "ft.com",
          "z": 0.00508423885953544
         },
         {
          "x": "nbcnews.com",
          "y": "huffingtonpost.com",
          "z": 0.01701959232139323
         },
         {
          "x": "nbcnews.com",
          "y": "inc.com",
          "z": 0.02181241324608368
         },
         {
          "x": "nbcnews.com",
          "y": "independent.co.uk",
          "z": 0.01409561360275998
         },
         {
          "x": "nbcnews.com",
          "y": "msn.com",
          "z": 0.009221616261774913
         },
         {
          "x": "nbcnews.com",
          "y": "nbcnews.com",
          "z": 0
         },
         {
          "x": "nbcnews.com",
          "y": "newsweek.com",
          "z": 0.03567228537828303
         },
         {
          "x": "nbcnews.com",
          "y": "npr.org",
          "z": 0.03244461870221525
         },
         {
          "x": "nbcnews.com",
          "y": "nydailynews.com",
          "z": 0.026657485736769623
         },
         {
          "x": "nbcnews.com",
          "y": "nypost.com",
          "z": 0.02982716049382716
         },
         {
          "x": "nbcnews.com",
          "y": "nytimes.com",
          "z": 0.011128935231602166
         },
         {
          "x": "nbcnews.com",
          "y": "rawstory.com",
          "z": 0.0303625822934067
         },
         {
          "x": "nbcnews.com",
          "y": "reuters.com",
          "z": 0.030055986641783716
         },
         {
          "x": "nbcnews.com",
          "y": "rt.com",
          "z": 0.015811067747423198
         },
         {
          "x": "nbcnews.com",
          "y": "sputniknews.com",
          "z": 0.021259686071925292
         },
         {
          "x": "nbcnews.com",
          "y": "telegraph.co.uk",
          "z": 0.00827022718214428
         },
         {
          "x": "nbcnews.com",
          "y": "theguardian.com",
          "z": 0.009655172413793104
         },
         {
          "x": "nbcnews.com",
          "y": "thehill.com",
          "z": 0.05524694475305525
         },
         {
          "x": "nbcnews.com",
          "y": "thetimes.co.uk",
          "z": 0.01584177900226311
         },
         {
          "x": "nbcnews.com",
          "y": "time.com",
          "z": 0.02578125
         },
         {
          "x": "nbcnews.com",
          "y": "usatoday.com",
          "z": 0.013813517513566848
         },
         {
          "x": "nbcnews.com",
          "y": "variety.com",
          "z": 0.021996449003748274
         },
         {
          "x": "nbcnews.com",
          "y": "vice.com",
          "z": 0.03134920634920635
         },
         {
          "x": "nbcnews.com",
          "y": "washingtonexaminer.com",
          "z": 0.04196642685851319
         },
         {
          "x": "nbcnews.com",
          "y": "washingtonpost.com",
          "z": 0.015854374633000587
         },
         {
          "x": "nbcnews.com",
          "y": "washingtontimes.com",
          "z": 0.03445176752546435
         },
         {
          "x": "nbcnews.com",
          "y": "wsj.com",
          "z": 0.010439670748845614
         },
         {
          "x": "nbcnews.com",
          "y": "yahoo.com",
          "z": 0.0019013309316521566
         },
         {
          "x": "newsweek.com",
          "y": "apnews.com",
          "z": 0.0068357440063404
         },
         {
          "x": "newsweek.com",
          "y": "bbc.co.uk",
          "z": 0.008055693684733963
         },
         {
          "x": "newsweek.com",
          "y": "bloomberg.com",
          "z": 0.009432108469247396
         },
         {
          "x": "newsweek.com",
          "y": "breitbart.com",
          "z": 0.026250863515247212
         },
         {
          "x": "newsweek.com",
          "y": "businessinsider.com",
          "z": 0.04462019136887327
         },
         {
          "x": "newsweek.com",
          "y": "buzzfeed.com",
          "z": 0.022273043651188228
         },
         {
          "x": "newsweek.com",
          "y": "cbc.ca",
          "z": 0.014650564244704019
         },
         {
          "x": "newsweek.com",
          "y": "cbsnews.com",
          "z": 0.017333722855195247
         },
         {
          "x": "newsweek.com",
          "y": "cnbc.com",
          "z": 0.012429153823207716
         },
         {
          "x": "newsweek.com",
          "y": "cnn.com",
          "z": 0.006737623278976663
         },
         {
          "x": "newsweek.com",
          "y": "dailycaller.com",
          "z": 0.023121387283236993
         },
         {
          "x": "newsweek.com",
          "y": "dailykos.com",
          "z": 0.04350808427241548
         },
         {
          "x": "newsweek.com",
          "y": "forbes.com",
          "z": 0.025888678681668824
         },
         {
          "x": "newsweek.com",
          "y": "foxnews.com",
          "z": 0.011884550084889643
         },
         {
          "x": "newsweek.com",
          "y": "ft.com",
          "z": 0.005483002691655867
         },
         {
          "x": "newsweek.com",
          "y": "huffingtonpost.com",
          "z": 0.010191965169206412
         },
         {
          "x": "newsweek.com",
          "y": "inc.com",
          "z": 0.009518143961927425
         },
         {
          "x": "newsweek.com",
          "y": "independent.co.uk",
          "z": 0.045342533267619514
         },
         {
          "x": "newsweek.com",
          "y": "msn.com",
          "z": 0.01080813088745662
         },
         {
          "x": "newsweek.com",
          "y": "nbcnews.com",
          "z": 0.010945666107878907
         },
         {
          "x": "newsweek.com",
          "y": "newsweek.com",
          "z": 0
         },
         {
          "x": "newsweek.com",
          "y": "npr.org",
          "z": 0.015977259360909626
         },
         {
          "x": "newsweek.com",
          "y": "nydailynews.com",
          "z": 0.01288609089120598
         },
         {
          "x": "newsweek.com",
          "y": "nypost.com",
          "z": 0.0214320987654321
         },
         {
          "x": "newsweek.com",
          "y": "nytimes.com",
          "z": 0.006316422699017445
         },
         {
          "x": "newsweek.com",
          "y": "rawstory.com",
          "z": 0.05119386852707085
         },
         {
          "x": "newsweek.com",
          "y": "reuters.com",
          "z": 0.015911992928003143
         },
         {
          "x": "newsweek.com",
          "y": "rt.com",
          "z": 0.01641148804162914
         },
         {
          "x": "newsweek.com",
          "y": "sputniknews.com",
          "z": 0.01967017683290284
         },
         {
          "x": "newsweek.com",
          "y": "telegraph.co.uk",
          "z": 0.011558389796731766
         },
         {
          "x": "newsweek.com",
          "y": "theguardian.com",
          "z": 0.010738916256157636
         },
         {
          "x": "newsweek.com",
          "y": "thehill.com",
          "z": 0.012826987173012828
         },
         {
          "x": "newsweek.com",
          "y": "thetimes.co.uk",
          "z": 0.015448194430778314
         },
         {
          "x": "newsweek.com",
          "y": "time.com",
          "z": 0.0265625
         },
         {
          "x": "newsweek.com",
          "y": "usatoday.com",
          "z": 0.012826837691169216
         },
         {
          "x": "newsweek.com",
          "y": "variety.com",
          "z": 0.01805089761294141
         },
         {
          "x": "newsweek.com",
          "y": "vice.com",
          "z": 0.04484126984126984
         },
         {
          "x": "newsweek.com",
          "y": "washingtonexaminer.com",
          "z": 0.03407274180655476
         },
         {
          "x": "newsweek.com",
          "y": "washingtonpost.com",
          "z": 0.021041299667253866
         },
         {
          "x": "newsweek.com",
          "y": "washingtontimes.com",
          "z": 0.010685040942680248
         },
         {
          "x": "newsweek.com",
          "y": "wsj.com",
          "z": 0.007428227263601686
         },
         {
          "x": "newsweek.com",
          "y": "yahoo.com",
          "z": 0.003402381667167017
         },
         {
          "x": "npr.org",
          "y": "apnews.com",
          "z": 0.03368337626312661
         },
         {
          "x": "npr.org",
          "y": "bbc.co.uk",
          "z": 0.03779214321233217
         },
         {
          "x": "npr.org",
          "y": "bloomberg.com",
          "z": 0.013460404794655139
         },
         {
          "x": "npr.org",
          "y": "breitbart.com",
          "z": 0.020230928648968718
         },
         {
          "x": "npr.org",
          "y": "businessinsider.com",
          "z": 0.017086506541691075
         },
         {
          "x": "npr.org",
          "y": "buzzfeed.com",
          "z": 0.018792880580690067
         },
         {
          "x": "npr.org",
          "y": "cbc.ca",
          "z": 0.030390021777865768
         },
         {
          "x": "npr.org",
          "y": "cbsnews.com",
          "z": 0.030285324763852373
         },
         {
          "x": "npr.org",
          "y": "cnbc.com",
          "z": 0.01441781843492095
         },
         {
          "x": "npr.org",
          "y": "cnn.com",
          "z": 0.01044819841812323
         },
         {
          "x": "npr.org",
          "y": "dailycaller.com",
          "z": 0.006760066620946409
         },
         {
          "x": "npr.org",
          "y": "dailykos.com",
          "z": 0.03949044585987261
         },
         {
          "x": "npr.org",
          "y": "forbes.com",
          "z": 0.03345613860400279
         },
         {
          "x": "npr.org",
          "y": "foxnews.com",
          "z": 0.01637870768001598
         },
         {
          "x": "npr.org",
          "y": "ft.com",
          "z": 0.0104675505931612
         },
         {
          "x": "npr.org",
          "y": "huffingtonpost.com",
          "z": 0.024243023946170592
         },
         {
          "x": "npr.org",
          "y": "inc.com",
          "z": 0.01784651992861392
         },
         {
          "x": "npr.org",
          "y": "independent.co.uk",
          "z": 0.012025628388368655
         },
         {
          "x": "npr.org",
          "y": "msn.com",
          "z": 0.006246901338621716
         },
         {
          "x": "npr.org",
          "y": "nbcnews.com",
          "z": 0.01705946159155902
         },
         {
          "x": "npr.org",
          "y": "newsweek.com",
          "z": 0.030772246177969424
         },
         {
          "x": "npr.org",
          "y": "npr.org",
          "z": 0
         },
         {
          "x": "npr.org",
          "y": "nydailynews.com",
          "z": 0.011213850088530396
         },
         {
          "x": "npr.org",
          "y": "nypost.com",
          "z": 0.01619753086419753
         },
         {
          "x": "npr.org",
          "y": "nytimes.com",
          "z": 0.030378985361941047
         },
         {
          "x": "npr.org",
          "y": "rawstory.com",
          "z": 0.01198781566276899
         },
         {
          "x": "npr.org",
          "y": "reuters.com",
          "z": 0.028484431784696986
         },
         {
          "x": "npr.org",
          "y": "rt.com",
          "z": 0.010607425197638347
         },
         {
          "x": "npr.org",
          "y": "sputniknews.com",
          "z": 0.02056427577985297
         },
         {
          "x": "npr.org",
          "y": "telegraph.co.uk",
          "z": 0.007672379434037465
         },
         {
          "x": "npr.org",
          "y": "theguardian.com",
          "z": 0.017438423645320198
         },
         {
          "x": "npr.org",
          "y": "thehill.com",
          "z": 0.028380971619028382
         },
         {
          "x": "npr.org",
          "y": "thetimes.co.uk",
          "z": 0.018596871002656695
         },
         {
          "x": "npr.org",
          "y": "time.com",
          "z": 0.0203125
         },
         {
          "x": "npr.org",
          "y": "usatoday.com",
          "z": 0.01766156882091761
         },
         {
          "x": "npr.org",
          "y": "variety.com",
          "z": 0.027618859735648055
         },
         {
          "x": "npr.org",
          "y": "vice.com",
          "z": 0.06160714285714286
         },
         {
          "x": "npr.org",
          "y": "washingtonexaminer.com",
          "z": 0.0341726618705036
         },
         {
          "x": "npr.org",
          "y": "washingtonpost.com",
          "z": 0.013505578391074574
         },
         {
          "x": "npr.org",
          "y": "washingtontimes.com",
          "z": 0.027960854803275415
         },
         {
          "x": "npr.org",
          "y": "wsj.com",
          "z": 0.012045773940975708
         },
         {
          "x": "npr.org",
          "y": "yahoo.com",
          "z": 0.0023016111277894525
         },
         {
          "x": "nydailynews.com",
          "y": "apnews.com",
          "z": 0.032098276203685355
         },
         {
          "x": "nydailynews.com",
          "y": "bbc.co.uk",
          "z": 0.018398806563898557
         },
         {
          "x": "nydailynews.com",
          "y": "bloomberg.com",
          "z": 0.006779327962271566
         },
         {
          "x": "nydailynews.com",
          "y": "breitbart.com",
          "z": 0.02220467778545347
         },
         {
          "x": "nydailynews.com",
          "y": "businessinsider.com",
          "z": 0.00995899238429994
         },
         {
          "x": "nydailynews.com",
          "y": "buzzfeed.com",
          "z": 0.00984388982798051
         },
         {
          "x": "nydailynews.com",
          "y": "cbc.ca",
          "z": 0.02870718669570382
         },
         {
          "x": "nydailynews.com",
          "y": "cbsnews.com",
          "z": 0.03223293407342487
         },
         {
          "x": "nydailynews.com",
          "y": "cnbc.com",
          "z": 0.004772795068111763
         },
         {
          "x": "nydailynews.com",
          "y": "cnn.com",
          "z": 0.007323503564105068
         },
         {
          "x": "nydailynews.com",
          "y": "dailycaller.com",
          "z": 0.014303909082002547
         },
         {
          "x": "nydailynews.com",
          "y": "dailykos.com",
          "z": 0.012934835864772171
         },
         {
          "x": "nydailynews.com",
          "y": "forbes.com",
          "z": 0.010753758837000896
         },
         {
          "x": "nydailynews.com",
          "y": "foxnews.com",
          "z": 0.02307000898831519
         },
         {
          "x": "nydailynews.com",
          "y": "ft.com",
          "z": 0.005183929817565547
         },
         {
          "x": "nydailynews.com",
          "y": "huffingtonpost.com",
          "z": 0.007916089451810805
         },
         {
          "x": "nydailynews.com",
          "y": "inc.com",
          "z": 0.0033710093198492963
         },
         {
          "x": "nydailynews.com",
          "y": "independent.co.uk",
          "z": 0.015968457368161656
         },
         {
          "x": "nydailynews.com",
          "y": "msn.com",
          "z": 0.012394645513138325
         },
         {
          "x": "nydailynews.com",
          "y": "nbcnews.com",
          "z": 0.010354008480425994
         },
         {
          "x": "nydailynews.com",
          "y": "newsweek.com",
          "z": 0.014602116816934536
         },
         {
          "x": "nydailynews.com",
          "y": "npr.org",
          "z": 0.012056459517741619
         },
         {
          "x": "nydailynews.com",
          "y": "nydailynews.com",
          "z": 0
         },
         {
          "x": "nydailynews.com",
          "y": "nypost.com",
          "z": 0.10567901234567902
         },
         {
          "x": "nydailynews.com",
          "y": "nytimes.com",
          "z": 0.007319029476639262
         },
         {
          "x": "nydailynews.com",
          "y": "rawstory.com",
          "z": 0.03193475483934362
         },
         {
          "x": "nydailynews.com",
          "y": "reuters.com",
          "z": 0.016010215106571062
         },
         {
          "x": "nydailynews.com",
          "y": "rt.com",
          "z": 0.013509456619633743
         },
         {
          "x": "nydailynews.com",
          "y": "sputniknews.com",
          "z": 0.015696403735346712
         },
         {
          "x": "nydailynews.com",
          "y": "telegraph.co.uk",
          "z": 0.008569151056197688
         },
         {
          "x": "nydailynews.com",
          "y": "theguardian.com",
          "z": 0.008078817733990148
         },
         {
          "x": "nydailynews.com",
          "y": "thehill.com",
          "z": 0.02524997475002525
         },
         {
          "x": "nydailynews.com",
          "y": "thetimes.co.uk",
          "z": 0.01643215585949031
         },
         {
          "x": "nydailynews.com",
          "y": "time.com",
          "z": 0.01611328125
         },
         {
          "x": "nydailynews.com",
          "y": "usatoday.com",
          "z": 0.05505673408978786
         },
         {
          "x": "nydailynews.com",
          "y": "variety.com",
          "z": 0.04063917932531071
         },
         {
          "x": "nydailynews.com",
          "y": "vice.com",
          "z": 0.019444444444444445
         },
         {
          "x": "nydailynews.com",
          "y": "washingtonexaminer.com",
          "z": 0.02048361310951239
         },
         {
          "x": "nydailynews.com",
          "y": "washingtonpost.com",
          "z": 0.007535721276179292
         },
         {
          "x": "nydailynews.com",
          "y": "washingtontimes.com",
          "z": 0.029059316956261235
         },
         {
          "x": "nydailynews.com",
          "y": "wsj.com",
          "z": 0.00782975306163421
         },
         {
          "x": "nydailynews.com",
          "y": "yahoo.com",
          "z": 0.003802661863304313
         },
         {
          "x": "nypost.com",
          "y": "apnews.com",
          "z": 0.026649494749356052
         },
         {
          "x": "nypost.com",
          "y": "bbc.co.uk",
          "z": 0.014321233217304823
         },
         {
          "x": "nypost.com",
          "y": "bloomberg.com",
          "z": 0.011790135586559246
         },
         {
          "x": "nypost.com",
          "y": "breitbart.com",
          "z": 0.018947991710253628
         },
         {
          "x": "nypost.com",
          "y": "businessinsider.com",
          "z": 0.020601445030267528
         },
         {
          "x": "nypost.com",
          "y": "buzzfeed.com",
          "z": 0.022770209804116537
         },
         {
          "x": "nypost.com",
          "y": "cbc.ca",
          "z": 0.026034448624034843
         },
         {
          "x": "nypost.com",
          "y": "cbsnews.com",
          "z": 0.021034180543382998
         },
         {
          "x": "nypost.com",
          "y": "cnbc.com",
          "z": 0.012926319976136025
         },
         {
          "x": "nypost.com",
          "y": "cnn.com",
          "z": 0.007128210135728933
         },
         {
          "x": "nypost.com",
          "y": "dailycaller.com",
          "z": 0.016753208582345448
         },
         {
          "x": "nypost.com",
          "y": "dailykos.com",
          "z": 0.01224889759921607
         },
         {
          "x": "nypost.com",
          "y": "forbes.com",
          "z": 0.019217365329084933
         },
         {
          "x": "nypost.com",
          "y": "foxnews.com",
          "z": 0.01637870768001598
         },
         {
          "x": "nypost.com",
          "y": "ft.com",
          "z": 0.009769713886950453
         },
         {
          "x": "nypost.com",
          "y": "huffingtonpost.com",
          "z": 0.009796160696615873
         },
         {
          "x": "nypost.com",
          "y": "inc.com",
          "z": 0.015962720602815783
         },
         {
          "x": "nypost.com",
          "y": "independent.co.uk",
          "z": 0.01784130113356333
         },
         {
          "x": "nypost.com",
          "y": "msn.com",
          "z": 0.011601388200297472
         },
         {
          "x": "nypost.com",
          "y": "nbcnews.com",
          "z": 0.006902672320283996
         },
         {
          "x": "nypost.com",
          "y": "newsweek.com",
          "z": 0.012838102704821639
         },
         {
          "x": "nypost.com",
          "y": "npr.org",
          "z": 0.009115859635365615
         },
         {
          "x": "nypost.com",
          "y": "nydailynews.com",
          "z": 0.08154633090694471
         },
         {
          "x": "nypost.com",
          "y": "nypost.com",
          "z": 0
         },
         {
          "x": "nypost.com",
          "y": "nytimes.com",
          "z": 0.0054140765991578105
         },
         {
          "x": "nypost.com",
          "y": "rawstory.com",
          "z": 0.021813894074874718
         },
         {
          "x": "nypost.com",
          "y": "reuters.com",
          "z": 0.009429329142520381
         },
         {
          "x": "nypost.com",
          "y": "rt.com",
          "z": 0.012008405884118884
         },
         {
          "x": "nypost.com",
          "y": "sputniknews.com",
          "z": 0.020067554142658456
         },
         {
          "x": "nypost.com",
          "y": "telegraph.co.uk",
          "z": 0.007772020725388601
         },
         {
          "x": "nypost.com",
          "y": "theguardian.com",
          "z": 0.009064039408866995
         },
         {
          "x": "nypost.com",
          "y": "thehill.com",
          "z": 0.025754974245025757
         },
         {
          "x": "nypost.com",
          "y": "thetimes.co.uk",
          "z": 0.017711305716815902
         },
         {
          "x": "nypost.com",
          "y": "time.com",
          "z": 0.016796875
         },
         {
          "x": "nypost.com",
          "y": "usatoday.com",
          "z": 0.04292057227429699
         },
         {
          "x": "nypost.com",
          "y": "variety.com",
          "z": 0.018346813967251924
         },
         {
          "x": "nypost.com",
          "y": "vice.com",
          "z": 0.047817460317460314
         },
         {
          "x": "nypost.com",
          "y": "washingtonexaminer.com",
          "z": 0.023081534772182253
         },
         {
          "x": "nypost.com",
          "y": "washingtonpost.com",
          "z": 0.003327461342728518
         },
         {
          "x": "nypost.com",
          "y": "washingtontimes.com",
          "z": 0.013680846814459757
         },
         {
          "x": "nypost.com",
          "y": "wsj.com",
          "z": 0.0069263200160610315
         },
         {
          "x": "nypost.com",
          "y": "yahoo.com",
          "z": 0.003002101471029721
         },
         {
          "x": "nytimes.com",
          "y": "apnews.com",
          "z": 0.053893402021002575
         },
         {
          "x": "nytimes.com",
          "y": "bbc.co.uk",
          "z": 0.03590253605171556
         },
         {
          "x": "nytimes.com",
          "y": "bloomberg.com",
          "z": 0.025250540381214385
         },
         {
          "x": "nytimes.com",
          "y": "breitbart.com",
          "z": 0.016382117832823447
         },
         {
          "x": "nytimes.com",
          "y": "businessinsider.com",
          "z": 0.011033001366920524
         },
         {
          "x": "nytimes.com",
          "y": "buzzfeed.com",
          "z": 0.00974445659739485
         },
         {
          "x": "nytimes.com",
          "y": "cbc.ca",
          "z": 0.021480894872302515
         },
         {
          "x": "nytimes.com",
          "y": "cbsnews.com",
          "z": 0.016652059596844872
         },
         {
          "x": "nytimes.com",
          "y": "cnbc.com",
          "z": 0.015909316893705876
         },
         {
          "x": "nytimes.com",
          "y": "cnn.com",
          "z": 0.008983497705302216
         },
         {
          "x": "nytimes.com",
          "y": "dailycaller.com",
          "z": 0.011364749681591065
         },
         {
          "x": "nytimes.com",
          "y": "dailykos.com",
          "z": 0.022341989220970113
         },
         {
          "x": "nytimes.com",
          "y": "forbes.com",
          "z": 0.022204520561585183
         },
         {
          "x": "nytimes.com",
          "y": "foxnews.com",
          "z": 0.011085588734644962
         },
         {
          "x": "nytimes.com",
          "y": "ft.com",
          "z": 0.025919649087827734
         },
         {
          "x": "nytimes.com",
          "y": "huffingtonpost.com",
          "z": 0.01741539679398377
         },
         {
          "x": "nytimes.com",
          "y": "inc.com",
          "z": 0.010608764624231609
         },
         {
          "x": "nytimes.com",
          "y": "independent.co.uk",
          "z": 0.008969935929029078
         },
         {
          "x": "nytimes.com",
          "y": "msn.com",
          "z": 0.005850272682201289
         },
         {
          "x": "nytimes.com",
          "y": "nbcnews.com",
          "z": 0.007297110738585938
         },
         {
          "x": "nytimes.com",
          "y": "newsweek.com",
          "z": 0.01568012544100353
         },
         {
          "x": "nytimes.com",
          "y": "npr.org",
          "z": 0.03812977847480886
         },
         {
          "x": "nytimes.com",
          "y": "nydailynews.com",
          "z": 0.01809954751131222
         },
         {
          "x": "nytimes.com",
          "y": "nypost.com",
          "z": 0.02123456790123457
         },
         {
          "x": "nytimes.com",
          "y": "nytimes.com",
          "z": 0
         },
         {
          "x": "nytimes.com",
          "y": "rawstory.com",
          "z": 0.01483737840227965
         },
         {
          "x": "nytimes.com",
          "y": "reuters.com",
          "z": 0.07337196739023671
         },
         {
          "x": "nytimes.com",
          "y": "rt.com",
          "z": 0.014310017011908337
         },
         {
          "x": "nytimes.com",
          "y": "sputniknews.com",
          "z": 0.028710510629843037
         },
         {
          "x": "nytimes.com",
          "y": "telegraph.co.uk",
          "z": 0.00827022718214428
         },
         {
          "x": "nytimes.com",
          "y": "theguardian.com",
          "z": 0.02039408866995074
         },
         {
          "x": "nytimes.com",
          "y": "thehill.com",
          "z": 0.019492980507019492
         },
         {
          "x": "nytimes.com",
          "y": "thetimes.co.uk",
          "z": 0.029420446718488636
         },
         {
          "x": "nytimes.com",
          "y": "time.com",
          "z": 0.0107421875
         },
         {
          "x": "nytimes.com",
          "y": "usatoday.com",
          "z": 0.03344844597927973
         },
         {
          "x": "nytimes.com",
          "y": "variety.com",
          "z": 0.029986190570132177
         },
         {
          "x": "nytimes.com",
          "y": "vice.com",
          "z": 0.03898809523809524
         },
         {
          "x": "nytimes.com",
          "y": "washingtonexaminer.com",
          "z": 0.012589928057553957
         },
         {
          "x": "nytimes.com",
          "y": "washingtonpost.com",
          "z": 0.026815423761988647
         },
         {
          "x": "nytimes.com",
          "y": "washingtontimes.com",
          "z": 0.03305372478530058
         },
         {
          "x": "nytimes.com",
          "y": "wsj.com",
          "z": 0.032423208191126277
         },
         {
          "x": "nytimes.com",
          "y": "yahoo.com",
          "z": 0.003402381667167017
         },
         {
          "x": "rawstory.com",
          "y": "apnews.com",
          "z": 0.024767188428769567
         },
         {
          "x": "rawstory.com",
          "y": "bbc.co.uk",
          "z": 0.0023868722028841374
         },
         {
          "x": "rawstory.com",
          "y": "bloomberg.com",
          "z": 0.006288072312831598
         },
         {
          "x": "rawstory.com",
          "y": "breitbart.com",
          "z": 0.028224612651731963
         },
         {
          "x": "rawstory.com",
          "y": "businessinsider.com",
          "z": 0.016012497559070495
         },
         {
          "x": "rawstory.com",
          "y": "buzzfeed.com",
          "z": 0.014815551357263597
         },
         {
          "x": "rawstory.com",
          "y": "cbc.ca",
          "z": 0.007721243318154821
         },
         {
          "x": "rawstory.com",
          "y": "cbsnews.com",
          "z": 0.015775635407537247
         },
         {
          "x": "rawstory.com",
          "y": "cnbc.com",
          "z": 0.008451824599781247
         },
         {
          "x": "rawstory.com",
          "y": "cnn.com",
          "z": 0.006932916707352798
         },
         {
          "x": "rawstory.com",
          "y": "dailycaller.com",
          "z": 0.04967179386695405
         },
         {
          "x": "rawstory.com",
          "y": "dailykos.com",
          "z": 0.04919157275845174
         },
         {
          "x": "rawstory.com",
          "y": "forbes.com",
          "z": 0.005874738623917156
         },
         {
          "x": "rawstory.com",
          "y": "foxnews.com",
          "z": 0.011784679916109058
         },
         {
          "x": "rawstory.com",
          "y": "ft.com",
          "z": 0.00508423885953544
         },
         {
          "x": "rawstory.com",
          "y": "huffingtonpost.com",
          "z": 0.009994062932911142
         },
         {
          "x": "rawstory.com",
          "y": "inc.com",
          "z": 0.00297441998810232
         },
         {
          "x": "rawstory.com",
          "y": "independent.co.uk",
          "z": 0.017151306062099556
         },
         {
          "x": "rawstory.com",
          "y": "msn.com",
          "z": 0.00466038671294001
         },
         {
          "x": "rawstory.com",
          "y": "nbcnews.com",
          "z": 0.008579035598067252
         },
         {
          "x": "rawstory.com",
          "y": "newsweek.com",
          "z": 0.039984319874559
         },
         {
          "x": "rawstory.com",
          "y": "npr.org",
          "z": 0.009998039600078416
         },
         {
          "x": "rawstory.com",
          "y": "nydailynews.com",
          "z": 0.02154239622270313
         },
         {
          "x": "rawstory.com",
          "y": "nypost.com",
          "z": 0.019654320987654322
         },
         {
          "x": "rawstory.com",
          "y": "nytimes.com",
          "z": 0.0029075596551032686
         },
         {
          "x": "rawstory.com",
          "y": "rawstory.com",
          "z": 0
         },
         {
          "x": "rawstory.com",
          "y": "reuters.com",
          "z": 0.010215106571063746
         },
         {
          "x": "rawstory.com",
          "y": "rt.com",
          "z": 0.01621134794356049
         },
         {
          "x": "rawstory.com",
          "y": "sputniknews.com",
          "z": 0.02424001589509239
         },
         {
          "x": "rawstory.com",
          "y": "telegraph.co.uk",
          "z": 0.005280988441610204
         },
         {
          "x": "rawstory.com",
          "y": "theguardian.com",
          "z": 0.004433497536945813
         },
         {
          "x": "rawstory.com",
          "y": "thehill.com",
          "z": 0.04999495000504999
         },
         {
          "x": "rawstory.com",
          "y": "thetimes.co.uk",
          "z": 0.011905933287415134
         },
         {
          "x": "rawstory.com",
          "y": "time.com",
          "z": 0.0123046875
         },
         {
          "x": "rawstory.com",
          "y": "usatoday.com",
          "z": 0.004736063147508633
         },
         {
          "x": "rawstory.com",
          "y": "variety.com",
          "z": 0.011047543894259222
         },
         {
          "x": "rawstory.com",
          "y": "vice.com",
          "z": 0.01994047619047619
         },
         {
          "x": "rawstory.com",
          "y": "washingtonexaminer.com",
          "z": 0.0478617106314948
         },
         {
          "x": "rawstory.com",
          "y": "washingtonpost.com",
          "z": 0.013994910941475827
         },
         {
          "x": "rawstory.com",
          "y": "washingtontimes.com",
          "z": 0.022069103255442382
         },
         {
          "x": "rawstory.com",
          "y": "wsj.com",
          "z": 0.008130897410158603
         },
         {
          "x": "rawstory.com",
          "y": "yahoo.com",
          "z": 0.0015010507355148605
         },
         {
          "x": "reuters.com",
          "y": "apnews.com",
          "z": 0.03744798890429958
         },
         {
          "x": "reuters.com",
          "y": "bbc.co.uk",
          "z": 0.01810044753853804
         },
         {
          "x": "reuters.com",
          "y": "bloomberg.com",
          "z": 0.06386323442719591
         },
         {
          "x": "reuters.com",
          "y": "breitbart.com",
          "z": 0.023290239810520082
         },
         {
          "x": "reuters.com",
          "y": "businessinsider.com",
          "z": 0.005858230814294083
         },
         {
          "x": "reuters.com",
          "y": "buzzfeed.com",
          "z": 0.0012926319976136024
         },
         {
          "x": "reuters.com",
          "y": "cbc.ca",
          "z": 0.024747574737675707
         },
         {
          "x": "reuters.com",
          "y": "cbsnews.com",
          "z": 0.015483494011101374
         },
         {
          "x": "reuters.com",
          "y": "cnbc.com",
          "z": 0.02634980610520036
         },
         {
          "x": "reuters.com",
          "y": "cnn.com",
          "z": 0.004101161995898838
         },
         {
          "x": "reuters.com",
          "y": "dailycaller.com",
          "z": 0.002449299500342902
         },
         {
          "x": "reuters.com",
          "y": "dailykos.com",
          "z": 0.005291523762861343
         },
         {
          "x": "reuters.com",
          "y": "forbes.com",
          "z": 0.009857612267250822
         },
         {
          "x": "reuters.com",
          "y": "foxnews.com",
          "z": 0.0076900029961050635
         },
         {
          "x": "reuters.com",
          "y": "ft.com",
          "z": 0.06101086631442528
         },
         {
          "x": "reuters.com",
          "y": "huffingtonpost.com",
          "z": 0.001187413417771621
         },
         {
          "x": "reuters.com",
          "y": "inc.com",
          "z": 0.001784651992861392
         },
         {
          "x": "reuters.com",
          "y": "independent.co.uk",
          "z": 0.009758501724987679
         },
         {
          "x": "reuters.com",
          "y": "msn.com",
          "z": 0.0032721864154685175
         },
         {
          "x": "reuters.com",
          "y": "nbcnews.com",
          "z": 0.007001281924859481
         },
         {
          "x": "reuters.com",
          "y": "newsweek.com",
          "z": 0.006468051744413956
         },
         {
          "x": "reuters.com",
          "y": "npr.org",
          "z": 0.008625759654969613
         },
         {
          "x": "reuters.com",
          "y": "nydailynews.com",
          "z": 0.006984064528821562
         },
         {
          "x": "reuters.com",
          "y": "nypost.com",
          "z": 0.00928395061728395
         },
         {
          "x": "reuters.com",
          "y": "nytimes.com",
          "z": 0.009324243031882895
         },
         {
          "x": "reuters.com",
          "y": "rawstory.com",
          "z": 0.0047165176378107495
         },
         {
          "x": "reuters.com",
          "y": "reuters.com",
          "z": 0
         },
         {
          "x": "reuters.com",
          "y": "rt.com",
          "z": 0.018613029120384268
         },
         {
          "x": "reuters.com",
          "y": "sputniknews.com",
          "z": 0.060898072720047686
         },
         {
          "x": "reuters.com",
          "y": "telegraph.co.uk",
          "z": 0.01046233559186927
         },
         {
          "x": "reuters.com",
          "y": "theguardian.com",
          "z": 0.014088669950738916
         },
         {
          "x": "reuters.com",
          "y": "thehill.com",
          "z": 0.017775982224017776
         },
         {
          "x": "reuters.com",
          "y": "thetimes.co.uk",
          "z": 0.019187247859883894
         },
         {
          "x": "reuters.com",
          "y": "time.com",
          "z": 0.00166015625
         },
         {
          "x": "reuters.com",
          "y": "usatoday.com",
          "z": 0.012432165762210163
         },
         {
          "x": "reuters.com",
          "y": "variety.com",
          "z": 0.020122312093115012
         },
         {
          "x": "reuters.com",
          "y": "vice.com",
          "z": 0.004067460317460318
         },
         {
          "x": "reuters.com",
          "y": "washingtonexaminer.com",
          "z": 0.008393285371702638
         },
         {
          "x": "reuters.com",
          "y": "washingtonpost.com",
          "z": 0.002153063221765512
         },
         {
          "x": "reuters.com",
          "y": "washingtontimes.com",
          "z": 0.015278609946075494
         },
         {
          "x": "reuters.com",
          "y": "wsj.com",
          "z": 0.02459345512949207
         },
         {
          "x": "reuters.com",
          "y": "yahoo.com",
          "z": 0.0058040628439907935
         },
         {
          "x": "rt.com",
          "y": "apnews.com",
          "z": 0.0250643946899148
         },
         {
          "x": "rt.com",
          "y": "bbc.co.uk",
          "z": 0.012928891098955743
         },
         {
          "x": "rt.com",
          "y": "bloomberg.com",
          "z": 0.011790135586559246
         },
         {
          "x": "rt.com",
          "y": "breitbart.com",
          "z": 0.030198361788216718
         },
         {
          "x": "rt.com",
          "y": "businessinsider.com",
          "z": 0.004588947471197032
         },
         {
          "x": "rt.com",
          "y": "buzzfeed.com",
          "z": 0.0033807298399124988
         },
         {
          "x": "rt.com",
          "y": "cbc.ca",
          "z": 0.013165709760443477
         },
         {
          "x": "rt.com",
          "y": "cbsnews.com",
          "z": 0.009640666082383873
         },
         {
          "x": "rt.com",
          "y": "cnbc.com",
          "z": 0.012429153823207716
         },
         {
          "x": "rt.com",
          "y": "cnn.com",
          "z": 0.0037105751391465678
         },
         {
          "x": "rt.com",
          "y": "dailycaller.com",
          "z": 0.014695797002057412
         },
         {
          "x": "rt.com",
          "y": "dailykos.com",
          "z": 0.006565409113179814
         },
         {
          "x": "rt.com",
          "y": "forbes.com",
          "z": 0.005576023100667131
         },
         {
          "x": "rt.com",
          "y": "foxnews.com",
          "z": 0.011185458903425547
         },
         {
          "x": "rt.com",
          "y": "ft.com",
          "z": 0.022231083640713786
         },
         {
          "x": "rt.com",
          "y": "huffingtonpost.com",
          "z": 0.0021769245992479713
         },
         {
          "x": "rt.com",
          "y": "inc.com",
          "z": 0.001883799325798136
         },
         {
          "x": "rt.com",
          "y": "independent.co.uk",
          "z": 0.02681123706259241
         },
         {
          "x": "rt.com",
          "y": "msn.com",
          "z": 0.004462072384729797
         },
         {
          "x": "rt.com",
          "y": "nbcnews.com",
          "z": 0.0047332610196233115
         },
         {
          "x": "rt.com",
          "y": "newsweek.com",
          "z": 0.009800078400627205
         },
         {
          "x": "rt.com",
          "y": "npr.org",
          "z": 0.004214859831405607
         },
         {
          "x": "rt.com",
          "y": "nydailynews.com",
          "z": 0.010426913240212473
         },
         {
          "x": "rt.com",
          "y": "nypost.com",
          "z": 0.013827160493827161
         },
         {
          "x": "rt.com",
          "y": "nytimes.com",
          "z": 0.00421094846601163
         },
         {
          "x": "rt.com",
          "y": "rawstory.com",
          "z": 0.018964331335364057
         },
         {
          "x": "rt.com",
          "y": "reuters.com",
          "z": 0.025341322070523524
         },
         {
          "x": "rt.com",
          "y": "rt.com",
          "z": 0
         },
         {
          "x": "rt.com",
          "y": "sputniknews.com",
          "z": 0.1535863302205444
         },
         {
          "x": "rt.com",
          "y": "telegraph.co.uk",
          "z": 0.007174172977281785
         },
         {
          "x": "rt.com",
          "y": "theguardian.com",
          "z": 0.01064039408866995
         },
         {
          "x": "rt.com",
          "y": "thehill.com",
          "z": 0.014846985153014847
         },
         {
          "x": "rt.com",
          "y": "thetimes.co.uk",
          "z": 0.03040440814720063
         },
         {
          "x": "rt.com",
          "y": "time.com",
          "z": 0.003125
         },
         {
          "x": "rt.com",
          "y": "usatoday.com",
          "z": 0.00493339911198816
         },
         {
          "x": "rt.com",
          "y": "variety.com",
          "z": 0.01085026632471888
         },
         {
          "x": "rt.com",
          "y": "vice.com",
          "z": 0.01011904761904762
         },
         {
          "x": "rt.com",
          "y": "washingtonexaminer.com",
          "z": 0.00979216626698641
         },
         {
          "x": "rt.com",
          "y": "washingtonpost.com",
          "z": 0.006067723624975534
         },
         {
          "x": "rt.com",
          "y": "washingtontimes.com",
          "z": 0.014180147793089674
         },
         {
          "x": "rt.com",
          "y": "wsj.com",
          "z": 0.005420598273439069
         },
         {
          "x": "rt.com",
          "y": "yahoo.com",
          "z": 0.003902731912338637
         },
         {
          "x": "sputniknews.com",
          "y": "apnews.com",
          "z": 0.02397463839904894
         },
         {
          "x": "sputniknews.com",
          "y": "bbc.co.uk",
          "z": 0.015415216310293387
         },
         {
          "x": "sputniknews.com",
          "y": "bloomberg.com",
          "z": 0.012084888976223226
         },
         {
          "x": "sputniknews.com",
          "y": "breitbart.com",
          "z": 0.02713905062666535
         },
         {
          "x": "sputniknews.com",
          "y": "businessinsider.com",
          "z": 0.006639328256199961
         },
         {
          "x": "sputniknews.com",
          "y": "buzzfeed.com",
          "z": 0.003679029531669484
         },
         {
          "x": "sputniknews.com",
          "y": "cbc.ca",
          "z": 0.013957632152049098
         },
         {
          "x": "sputniknews.com",
          "y": "cbsnews.com",
          "z": 0.007595676307332749
         },
         {
          "x": "sputniknews.com",
          "y": "cnbc.com",
          "z": 0.010042756289151834
         },
         {
          "x": "sputniknews.com",
          "y": "cnn.com",
          "z": 0.006151742993848257
         },
         {
          "x": "sputniknews.com",
          "y": "dailycaller.com",
          "z": 0.007053982560987558
         },
         {
          "x": "sputniknews.com",
          "y": "dailykos.com",
          "z": 0.010485056344928956
         },
         {
          "x": "sputniknews.com",
          "y": "forbes.com",
          "z": 0.01095290251916758
         },
         {
          "x": "sputniknews.com",
          "y": "foxnews.com",
          "z": 0.009887146709277938
         },
         {
          "x": "sputniknews.com",
          "y": "ft.com",
          "z": 0.02482304854949656
         },
         {
          "x": "sputniknews.com",
          "y": "huffingtonpost.com",
          "z": 0.0036611913714624973
         },
         {
          "x": "sputniknews.com",
          "y": "inc.com",
          "z": 0.002875272655165576
         },
         {
          "x": "sputniknews.com",
          "y": "independent.co.uk",
          "z": 0.01665845243962543
         },
         {
          "x": "sputniknews.com",
          "y": "msn.com",
          "z": 0.006841844323252355
         },
         {
          "x": "sputniknews.com",
          "y": "nbcnews.com",
          "z": 0.0043388226013213686
         },
         {
          "x": "sputniknews.com",
          "y": "newsweek.com",
          "z": 0.012152097216777734
         },
         {
          "x": "sputniknews.com",
          "y": "npr.org",
          "z": 0.006959419721623211
         },
         {
          "x": "sputniknews.com",
          "y": "nydailynews.com",
          "z": 0.006492228998622861
         },
         {
          "x": "sputniknews.com",
          "y": "nypost.com",
          "z": 0.015012345679012346
         },
         {
          "x": "sputniknews.com",
          "y": "nytimes.com",
          "z": 0.0038099057549629035
         },
         {
          "x": "sputniknews.com",
          "y": "rawstory.com",
          "z": 0.016900854868821855
         },
         {
          "x": "sputniknews.com",
          "y": "reuters.com",
          "z": 0.043414202927020924
         },
         {
          "x": "sputniknews.com",
          "y": "rt.com",
          "z": 0.0953667567297108
         },
         {
          "x": "sputniknews.com",
          "y": "sputniknews.com",
          "z": 0
         },
         {
          "x": "sputniknews.com",
          "y": "telegraph.co.uk",
          "z": 0.007174172977281785
         },
         {
          "x": "sputniknews.com",
          "y": "theguardian.com",
          "z": 0.012315270935960592
         },
         {
          "x": "sputniknews.com",
          "y": "thehill.com",
          "z": 0.017674982325017675
         },
         {
          "x": "sputniknews.com",
          "y": "thetimes.co.uk",
          "z": 0.016825740430975105
         },
         {
          "x": "sputniknews.com",
          "y": "time.com",
          "z": 0.00302734375
         },
         {
          "x": "sputniknews.com",
          "y": "usatoday.com",
          "z": 0.005624074987666502
         },
         {
          "x": "sputniknews.com",
          "y": "variety.com",
          "z": 0.008680213059775104
         },
         {
          "x": "sputniknews.com",
          "y": "vice.com",
          "z": 0.012698412698412698
         },
         {
          "x": "sputniknews.com",
          "y": "washingtonexaminer.com",
          "z": 0.014688249400479617
         },
         {
          "x": "sputniknews.com",
          "y": "washingtonpost.com",
          "z": 0.00362106087296927
         },
         {
          "x": "sputniknews.com",
          "y": "washingtontimes.com",
          "z": 0.009187138006790493
         },
         {
          "x": "sputniknews.com",
          "y": "wsj.com",
          "z": 0.005922505520979723
         },
         {
          "x": "sputniknews.com",
          "y": "yahoo.com",
          "z": 0.004102872010407285
         },
         {
          "x": "telegraph.co.uk",
          "y": "apnews.com",
          "z": 0.007529225282345948
         },
         {
          "x": "telegraph.co.uk",
          "y": "bbc.co.uk",
          "z": 0.03490800596718051
         },
         {
          "x": "telegraph.co.uk",
          "y": "bloomberg.com",
          "z": 0.009137355079583416
         },
         {
          "x": "telegraph.co.uk",
          "y": "breitbart.com",
          "z": 0.01381624395539327
         },
         {
          "x": "telegraph.co.uk",
          "y": "businessinsider.com",
          "z": 0.018746338605741066
         },
         {
          "x": "telegraph.co.uk",
          "y": "buzzfeed.com",
          "z": 0.02088097842298896
         },
         {
          "x": "telegraph.co.uk",
          "y": "cbc.ca",
          "z": 0.01722431201742229
         },
         {
          "x": "telegraph.co.uk",
          "y": "cbsnews.com",
          "z": 0.004479501412016749
         },
         {
          "x": "telegraph.co.uk",
          "y": "cnbc.com",
          "z": 0.009645023366809188
         },
         {
          "x": "telegraph.co.uk",
          "y": "cnn.com",
          "z": 0.0036129284249585003
         },
         {
          "x": "telegraph.co.uk",
          "y": "dailycaller.com",
          "z": 0.002449299500342902
         },
         {
          "x": "telegraph.co.uk",
          "y": "dailykos.com",
          "z": 0.0075453209211171
         },
         {
          "x": "telegraph.co.uk",
          "y": "forbes.com",
          "z": 0.03295827939858608
         },
         {
          "x": "telegraph.co.uk",
          "y": "foxnews.com",
          "z": 0.003295715569759313
         },
         {
          "x": "telegraph.co.uk",
          "y": "ft.com",
          "z": 0.03529059914265776
         },
         {
          "x": "telegraph.co.uk",
          "y": "huffingtonpost.com",
          "z": 0.010884622996239858
         },
         {
          "x": "telegraph.co.uk",
          "y": "inc.com",
          "z": 0.013979773944080905
         },
         {
          "x": "telegraph.co.uk",
          "y": "independent.co.uk",
          "z": 0.10606209955643174
         },
         {
          "x": "telegraph.co.uk",
          "y": "msn.com",
          "z": 0.010907288051561725
         },
         {
          "x": "telegraph.co.uk",
          "y": "nbcnews.com",
          "z": 0.0020708016960851987
         },
         {
          "x": "telegraph.co.uk",
          "y": "newsweek.com",
          "z": 0.017542140337122696
         },
         {
          "x": "telegraph.co.uk",
          "y": "npr.org",
          "z": 0.007449519702019212
         },
         {
          "x": "telegraph.co.uk",
          "y": "nydailynews.com",
          "z": 0.00619712768050364
         },
         {
          "x": "telegraph.co.uk",
          "y": "nypost.com",
          "z": 0.014617283950617285
         },
         {
          "x": "telegraph.co.uk",
          "y": "nytimes.com",
          "z": 0.0040104271104872665
         },
         {
          "x": "telegraph.co.uk",
          "y": "rawstory.com",
          "z": 0.0056008646949002655
         },
         {
          "x": "telegraph.co.uk",
          "y": "reuters.com",
          "z": 0.014340438070916412
         },
         {
          "x": "telegraph.co.uk",
          "y": "rt.com",
          "z": 0.014009806864805364
         },
         {
          "x": "telegraph.co.uk",
          "y": "sputniknews.com",
          "z": 0.019173455195708324
         },
         {
          "x": "telegraph.co.uk",
          "y": "telegraph.co.uk",
          "z": 0
         },
         {
          "x": "telegraph.co.uk",
          "y": "theguardian.com",
          "z": 0.034482758620689655
         },
         {
          "x": "telegraph.co.uk",
          "y": "thehill.com",
          "z": 0.003635996364003636
         },
         {
          "x": "telegraph.co.uk",
          "y": "thetimes.co.uk",
          "z": 0.07084522286726361
         },
         {
          "x": "telegraph.co.uk",
          "y": "time.com",
          "z": 0.008984375
         },
         {
          "x": "telegraph.co.uk",
          "y": "usatoday.com",
          "z": 0.010261470152935373
         },
         {
          "x": "telegraph.co.uk",
          "y": "variety.com",
          "z": 0.015190372854606431
         },
         {
          "x": "telegraph.co.uk",
          "y": "vice.com",
          "z": 0.03244047619047619
         },
         {
          "x": "telegraph.co.uk",
          "y": "washingtonexaminer.com",
          "z": 0.004096722621902478
         },
         {
          "x": "telegraph.co.uk",
          "y": "washingtonpost.com",
          "z": 0.0026423957721667646
         },
         {
          "x": "telegraph.co.uk",
          "y": "washingtontimes.com",
          "z": 0.005292590373477132
         },
         {
          "x": "telegraph.co.uk",
          "y": "wsj.com",
          "z": 0.00451716522786589
         },
         {
          "x": "telegraph.co.uk",
          "y": "yahoo.com",
          "z": 0.0031021715200640447
         },
         {
          "x": "theguardian.com",
          "y": "apnews.com",
          "z": 0.016841688131563306
         },
         {
          "x": "theguardian.com",
          "y": "bbc.co.uk",
          "z": 0.06036797613127797
         },
         {
          "x": "theguardian.com",
          "y": "bloomberg.com",
          "z": 0.008154843780703478
         },
         {
          "x": "theguardian.com",
          "y": "breitbart.com",
          "z": 0.02003355373532024
         },
         {
          "x": "theguardian.com",
          "y": "businessinsider.com",
          "z": 0.013766842413591095
         },
         {
          "x": "theguardian.com",
          "y": "buzzfeed.com",
          "z": 0.020383812270060656
         },
         {
          "x": "theguardian.com",
          "y": "cbc.ca",
          "z": 0.029994060582062956
         },
         {
          "x": "theguardian.com",
          "y": "cbsnews.com",
          "z": 0.007790437238289999
         },
         {
          "x": "theguardian.com",
          "y": "cnbc.com",
          "z": 0.009147857213880879
         },
         {
          "x": "theguardian.com",
          "y": "cnn.com",
          "z": 0.0076164437066692705
         },
         {
          "x": "theguardian.com",
          "y": "dailycaller.com",
          "z": 0.006760066620946409
         },
         {
          "x": "theguardian.com",
          "y": "dailykos.com",
          "z": 0.015972562469377755
         },
         {
          "x": "theguardian.com",
          "y": "forbes.com",
          "z": 0.032659563875336056
         },
         {
          "x": "theguardian.com",
          "y": "foxnews.com",
          "z": 0.006791171477079796
         },
         {
          "x": "theguardian.com",
          "y": "ft.com",
          "z": 0.03897916458977171
         },
         {
          "x": "theguardian.com",
          "y": "huffingtonpost.com",
          "z": 0.020581832574708095
         },
         {
          "x": "theguardian.com",
          "y": "inc.com",
          "z": 0.015169541939321832
         },
         {
          "x": "theguardian.com",
          "y": "independent.co.uk",
          "z": 0.07037949728930508
         },
         {
          "x": "theguardian.com",
          "y": "msn.com",
          "z": 0.006643529995042142
         },
         {
          "x": "theguardian.com",
          "y": "nbcnews.com",
          "z": 0.005029089833349768
         },
         {
          "x": "theguardian.com",
          "y": "newsweek.com",
          "z": 0.016170129361034888
         },
         {
          "x": "theguardian.com",
          "y": "npr.org",
          "z": 0.019996079200156832
         },
         {
          "x": "theguardian.com",
          "y": "nydailynews.com",
          "z": 0.0073775329529805235
         },
         {
          "x": "theguardian.com",
          "y": "nypost.com",
          "z": 0.020839506172839507
         },
         {
          "x": "theguardian.com",
          "y": "nytimes.com",
          "z": 0.013234409464607981
         },
         {
          "x": "theguardian.com",
          "y": "rawstory.com",
          "z": 0.010415643116832072
         },
         {
          "x": "theguardian.com",
          "y": "reuters.com",
          "z": 0.02455554464198016
         },
         {
          "x": "theguardian.com",
          "y": "rt.com",
          "z": 0.018713099169418594
         },
         {
          "x": "theguardian.com",
          "y": "sputniknews.com",
          "z": 0.03039936419630439
         },
         {
          "x": "theguardian.com",
          "y": "telegraph.co.uk",
          "z": 0.03706656038262256
         },
         {
          "x": "theguardian.com",
          "y": "theguardian.com",
          "z": 0
         },
         {
          "x": "theguardian.com",
          "y": "thehill.com",
          "z": 0.0100999899000101
         },
         {
          "x": "theguardian.com",
          "y": "thetimes.co.uk",
          "z": 0.09829774672832825
         },
         {
          "x": "theguardian.com",
          "y": "time.com",
          "z": 0.009375
         },
         {
          "x": "theguardian.com",
          "y": "usatoday.com",
          "z": 0.014997533300444005
         },
         {
          "x": "theguardian.com",
          "y": "variety.com",
          "z": 0.030380745709212863
         },
         {
          "x": "theguardian.com",
          "y": "vice.com",
          "z": 0.05238095238095238
         },
         {
          "x": "theguardian.com",
          "y": "washingtonexaminer.com",
          "z": 0.008093525179856115
         },
         {
          "x": "theguardian.com",
          "y": "washingtonpost.com",
          "z": 0.010080250538265806
         },
         {
          "x": "theguardian.com",
          "y": "washingtontimes.com",
          "z": 0.010485320551228281
         },
         {
          "x": "theguardian.com",
          "y": "wsj.com",
          "z": 0.009636619152780567
         },
         {
          "x": "theguardian.com",
          "y": "yahoo.com",
          "z": 0.003302311618132693
         },
         {
          "x": "thehill.com",
          "y": "apnews.com",
          "z": 0.02407370715276402
         },
         {
          "x": "thehill.com",
          "y": "bbc.co.uk",
          "z": 0.008055693684733963
         },
         {
          "x": "thehill.com",
          "y": "bloomberg.com",
          "z": 0.012772646885439182
         },
         {
          "x": "thehill.com",
          "y": "breitbart.com",
          "z": 0.037895983420507255
         },
         {
          "x": "thehill.com",
          "y": "businessinsider.com",
          "z": 0.01034954110525288
         },
         {
          "x": "thehill.com",
          "y": "buzzfeed.com",
          "z": 0.0080540916774386
         },
         {
          "x": "thehill.com",
          "y": "cbc.ca",
          "z": 0.009404078400316769
         },
         {
          "x": "thehill.com",
          "y": "cbsnews.com",
          "z": 0.014607069821793748
         },
         {
          "x": "thehill.com",
          "y": "cnbc.com",
          "z": 0.014119518743163965
         },
         {
          "x": "thehill.com",
          "y": "cnn.com",
          "z": 0.019919929694365783
         },
         {
          "x": "thehill.com",
          "y": "dailycaller.com",
          "z": 0.0365435485451161
         },
         {
          "x": "thehill.com",
          "y": "dailykos.com",
          "z": 0.03674669279764821
         },
         {
          "x": "thehill.com",
          "y": "forbes.com",
          "z": 0.014836204321417903
         },
         {
          "x": "thehill.com",
          "y": "foxnews.com",
          "z": 0.01597922700489364
         },
         {
          "x": "thehill.com",
          "y": "ft.com",
          "z": 0.013458279334064401
         },
         {
          "x": "thehill.com",
          "y": "huffingtonpost.com",
          "z": 0.00742133386107263
         },
         {
          "x": "thehill.com",
          "y": "inc.com",
          "z": 0.003172714653975808
         },
         {
          "x": "thehill.com",
          "y": "independent.co.uk",
          "z": 0.006111384918679152
         },
         {
          "x": "thehill.com",
          "y": "msn.com",
          "z": 0.001685671789786812
         },
         {
          "x": "thehill.com",
          "y": "nbcnews.com",
          "z": 0.00838181638891628
         },
         {
          "x": "thehill.com",
          "y": "newsweek.com",
          "z": 0.014896119168953352
         },
         {
          "x": "thehill.com",
          "y": "npr.org",
          "z": 0.01764359929425603
         },
         {
          "x": "thehill.com",
          "y": "nydailynews.com",
          "z": 0.008951406649616368
         },
         {
          "x": "thehill.com",
          "y": "nypost.com",
          "z": 0.012641975308641975
         },
         {
          "x": "thehill.com",
          "y": "nytimes.com",
          "z": 0.004311209143773812
         },
         {
          "x": "thehill.com",
          "y": "rawstory.com",
          "z": 0.05925125282499755
         },
         {
          "x": "thehill.com",
          "y": "reuters.com",
          "z": 0.012572438856693841
         },
         {
          "x": "thehill.com",
          "y": "rt.com",
          "z": 0.0129090363254278
         },
         {
          "x": "thehill.com",
          "y": "sputniknews.com",
          "z": 0.033280349692032585
         },
         {
          "x": "thehill.com",
          "y": "telegraph.co.uk",
          "z": 0.005679553607014747
         },
         {
          "x": "thehill.com",
          "y": "theguardian.com",
          "z": 0.007881773399014778
         },
         {
          "x": "thehill.com",
          "y": "thehill.com",
          "z": 0
         },
         {
          "x": "thehill.com",
          "y": "thetimes.co.uk",
          "z": 0.014857817573551117
         },
         {
          "x": "thehill.com",
          "y": "time.com",
          "z": 0.00654296875
         },
         {
          "x": "thehill.com",
          "y": "usatoday.com",
          "z": 0.008584114454859399
         },
         {
          "x": "thehill.com",
          "y": "variety.com",
          "z": 0.011836654172420595
         },
         {
          "x": "thehill.com",
          "y": "vice.com",
          "z": 0.014781746031746031
         },
         {
          "x": "thehill.com",
          "y": "washingtonexaminer.com",
          "z": 0.09162669864108713
         },
         {
          "x": "thehill.com",
          "y": "washingtonpost.com",
          "z": 0.010471716578586808
         },
         {
          "x": "thehill.com",
          "y": "washingtontimes.com",
          "z": 0.02836029558617935
         },
         {
          "x": "thehill.com",
          "y": "wsj.com",
          "z": 0.015157598875727766
         },
         {
          "x": "thehill.com",
          "y": "yahoo.com",
          "z": 0.0013009106374462123
         },
         {
          "x": "thetimes.co.uk",
          "y": "apnews.com",
          "z": 0.014959381810976818
         },
         {
          "x": "thetimes.co.uk",
          "y": "bbc.co.uk",
          "z": 0.050919940328194926
         },
         {
          "x": "thetimes.co.uk",
          "y": "bloomberg.com",
          "z": 0.014639418353311062
         },
         {
          "x": "thetimes.co.uk",
          "y": "breitbart.com",
          "z": 0.01845455442613244
         },
         {
          "x": "thetimes.co.uk",
          "y": "businessinsider.com",
          "z": 0.009470806483108768
         },
         {
          "x": "thetimes.co.uk",
          "y": "buzzfeed.com",
          "z": 0.012329720592622054
         },
         {
          "x": "thetimes.co.uk",
          "y": "cbc.ca",
          "z": 0.02128291427440111
         },
         {
          "x": "thetimes.co.uk",
          "y": "cbsnews.com",
          "z": 0.0038952186191449994
         },
         {
          "x": "thetimes.co.uk",
          "y": "cnbc.com",
          "z": 0.007954658446852938
         },
         {
          "x": "thetimes.co.uk",
          "y": "cnn.com",
          "z": 0.0037105751391465678
         },
         {
          "x": "thetimes.co.uk",
          "y": "dailycaller.com",
          "z": 0.010287057901440189
         },
         {
          "x": "thetimes.co.uk",
          "y": "dailykos.com",
          "z": 0.006565409113179814
         },
         {
          "x": "thetimes.co.uk",
          "y": "forbes.com",
          "z": 0.02379767001891865
         },
         {
          "x": "thetimes.co.uk",
          "y": "foxnews.com",
          "z": 0.005392989114151603
         },
         {
          "x": "thetimes.co.uk",
          "y": "ft.com",
          "z": 0.06469943176153922
         },
         {
          "x": "thetimes.co.uk",
          "y": "huffingtonpost.com",
          "z": 0.012962596477340193
         },
         {
          "x": "thetimes.co.uk",
          "y": "inc.com",
          "z": 0.008824112631370217
         },
         {
          "x": "thetimes.co.uk",
          "y": "independent.co.uk",
          "z": 0.05115820601281419
         },
         {
          "x": "thetimes.co.uk",
          "y": "msn.com",
          "z": 0.006445215666831929
         },
         {
          "x": "thetimes.co.uk",
          "y": "nbcnews.com",
          "z": 0.0038457745784439405
         },
         {
          "x": "thetimes.co.uk",
          "y": "newsweek.com",
          "z": 0.009898079184633478
         },
         {
          "x": "thetimes.co.uk",
          "y": "npr.org",
          "z": 0.01235051950597922
         },
         {
          "x": "thetimes.co.uk",
          "y": "nydailynews.com",
          "z": 0.0073775329529805235
         },
         {
          "x": "thetimes.co.uk",
          "y": "nypost.com",
          "z": 0.02508641975308642
         },
         {
          "x": "thetimes.co.uk",
          "y": "nytimes.com",
          "z": 0.012833366753559254
         },
         {
          "x": "thetimes.co.uk",
          "y": "rawstory.com",
          "z": 0.007860862729684583
         },
         {
          "x": "thetimes.co.uk",
          "y": "reuters.com",
          "z": 0.017778214320793635
         },
         {
          "x": "thetimes.co.uk",
          "y": "rt.com",
          "z": 0.023516461523066145
         },
         {
          "x": "thetimes.co.uk",
          "y": "sputniknews.com",
          "z": 0.02294853963838665
         },
         {
          "x": "thetimes.co.uk",
          "y": "telegraph.co.uk",
          "z": 0.04015544041450777
         },
         {
          "x": "thetimes.co.uk",
          "y": "theguardian.com",
          "z": 0.04798029556650246
         },
         {
          "x": "thetimes.co.uk",
          "y": "thehill.com",
          "z": 0.008685991314008686
         },
         {
          "x": "thetimes.co.uk",
          "y": "thetimes.co.uk",
          "z": 0
         },
         {
          "x": "thetimes.co.uk",
          "y": "time.com",
          "z": 0.00634765625
         },
         {
          "x": "thetimes.co.uk",
          "y": "usatoday.com",
          "z": 0.009274790330537741
         },
         {
          "x": "thetimes.co.uk",
          "y": "variety.com",
          "z": 0.02475833497731308
         },
         {
          "x": "thetimes.co.uk",
          "y": "vice.com",
          "z": 0.041567460317460315
         },
         {
          "x": "thetimes.co.uk",
          "y": "washingtonexaminer.com",
          "z": 0.002398081534772182
         },
         {
          "x": "thetimes.co.uk",
          "y": "washingtonpost.com",
          "z": 0.008710119397142299
         },
         {
          "x": "thetimes.co.uk",
          "y": "washingtontimes.com",
          "z": 0.012083083682844019
         },
         {
          "x": "thetimes.co.uk",
          "y": "wsj.com",
          "z": 0.015759887572776552
         },
         {
          "x": "thetimes.co.uk",
          "y": "yahoo.com",
          "z": 0.0022015410787551287
         },
         {
          "x": "time.com",
          "y": "apnews.com",
          "z": 0.016247275609272836
         },
         {
          "x": "time.com",
          "y": "bbc.co.uk",
          "z": 0.012431626056688214
         },
         {
          "x": "time.com",
          "y": "bloomberg.com",
          "z": 0.00953035959913539
         },
         {
          "x": "time.com",
          "y": "breitbart.com",
          "z": 0.017862429685187014
         },
         {
          "x": "time.com",
          "y": "businessinsider.com",
          "z": 0.04764694395625854
         },
         {
          "x": "time.com",
          "y": "buzzfeed.com",
          "z": 0.04921944913990255
         },
         {
          "x": "time.com",
          "y": "cbc.ca",
          "z": 0.015145515739457533
         },
         {
          "x": "time.com",
          "y": "cbsnews.com",
          "z": 0.029214139643587496
         },
         {
          "x": "time.com",
          "y": "cnbc.com",
          "z": 0.015710450432534554
         },
         {
          "x": "time.com",
          "y": "cnn.com",
          "z": 0.0078117371350454054
         },
         {
          "x": "time.com",
          "y": "dailycaller.com",
          "z": 0.0140099931419614
         },
         {
          "x": "time.com",
          "y": "dailykos.com",
          "z": 0.02038216560509554
         },
         {
          "x": "time.com",
          "y": "forbes.com",
          "z": 0.0327591357164194
         },
         {
          "x": "time.com",
          "y": "foxnews.com",
          "z": 0.013881953460501348
         },
         {
          "x": "time.com",
          "y": "ft.com",
          "z": 0.0044860931113548
         },
         {
          "x": "time.com",
          "y": "huffingtonpost.com",
          "z": 0.027607361963190184
         },
         {
          "x": "time.com",
          "y": "inc.com",
          "z": 0.06176878841959151
         },
         {
          "x": "time.com",
          "y": "independent.co.uk",
          "z": 0.021586988664366685
         },
         {
          "x": "time.com",
          "y": "msn.com",
          "z": 0.014972731779871096
         },
         {
          "x": "time.com",
          "y": "nbcnews.com",
          "z": 0.012128981362784735
         },
         {
          "x": "time.com",
          "y": "newsweek.com",
          "z": 0.04037632301058409
         },
         {
          "x": "time.com",
          "y": "npr.org",
          "z": 0.01960399921584003
         },
         {
          "x": "time.com",
          "y": "nydailynews.com",
          "z": 0.016033838284477672
         },
         {
          "x": "time.com",
          "y": "nypost.com",
          "z": 0.035555555555555556
         },
         {
          "x": "time.com",
          "y": "nytimes.com",
          "z": 0.00892320032083417
         },
         {
          "x": "time.com",
          "y": "rawstory.com",
          "z": 0.02102780780190626
         },
         {
          "x": "time.com",
          "y": "reuters.com",
          "z": 0.018171103035065316
         },
         {
          "x": "time.com",
          "y": "rt.com",
          "z": 0.008005603922745921
         },
         {
          "x": "time.com",
          "y": "sputniknews.com",
          "z": 0.014007550168885356
         },
         {
          "x": "time.com",
          "y": "telegraph.co.uk",
          "z": 0.008868074930251097
         },
         {
          "x": "time.com",
          "y": "theguardian.com",
          "z": 0.010443349753694582
         },
         {
          "x": "time.com",
          "y": "thehill.com",
          "z": 0.015755984244015756
         },
         {
          "x": "time.com",
          "y": "thetimes.co.uk",
          "z": 0.01603857128800551
         },
         {
          "x": "time.com",
          "y": "time.com",
          "z": 0
         },
         {
          "x": "time.com",
          "y": "usatoday.com",
          "z": 0.015293537247163296
         },
         {
          "x": "time.com",
          "y": "variety.com",
          "z": 0.021996449003748274
         },
         {
          "x": "time.com",
          "y": "vice.com",
          "z": 0.05932539682539682
         },
         {
          "x": "time.com",
          "y": "washingtonexaminer.com",
          "z": 0.024580335731414868
         },
         {
          "x": "time.com",
          "y": "washingtonpost.com",
          "z": 0.01458211000195733
         },
         {
          "x": "time.com",
          "y": "washingtontimes.com",
          "z": 0.014679448771719592
         },
         {
          "x": "time.com",
          "y": "wsj.com",
          "z": 0.009536237703272435
         },
         {
          "x": "time.com",
          "y": "yahoo.com",
          "z": 0.003402381667167017
         },
         {
          "x": "usatoday.com",
          "y": "apnews.com",
          "z": 0.04507628294036061
         },
         {
          "x": "usatoday.com",
          "y": "bbc.co.uk",
          "z": 0.01949278965688712
         },
         {
          "x": "usatoday.com",
          "y": "bloomberg.com",
          "z": 0.008646099430143446
         },
         {
          "x": "usatoday.com",
          "y": "breitbart.com",
          "z": 0.01578999309187802
         },
         {
          "x": "usatoday.com",
          "y": "businessinsider.com",
          "z": 0.019722710408123414
         },
         {
          "x": "usatoday.com",
          "y": "buzzfeed.com",
          "z": 0.022173610420602567
         },
         {
          "x": "usatoday.com",
          "y": "cbc.ca",
          "z": 0.021777865769154622
         },
         {
          "x": "usatoday.com",
          "y": "cbsnews.com",
          "z": 0.0183075275099815
         },
         {
          "x": "usatoday.com",
          "y": "cnbc.com",
          "z": 0.014020085512578304
         },
         {
          "x": "usatoday.com",
          "y": "cnn.com",
          "z": 0.006639976564788595
         },
         {
          "x": "usatoday.com",
          "y": "dailycaller.com",
          "z": 0.0066620946409326936
         },
         {
          "x": "usatoday.com",
          "y": "dailykos.com",
          "z": 0.015384615384615385
         },
         {
          "x": "usatoday.com",
          "y": "forbes.com",
          "z": 0.029672408642835806
         },
         {
          "x": "usatoday.com",
          "y": "foxnews.com",
          "z": 0.012284030760011985
         },
         {
          "x": "usatoday.com",
          "y": "ft.com",
          "z": 0.006778985146047254
         },
         {
          "x": "usatoday.com",
          "y": "huffingtonpost.com",
          "z": 0.01365525430437364
         },
         {
          "x": "usatoday.com",
          "y": "inc.com",
          "z": 0.021415823914336704
         },
         {
          "x": "usatoday.com",
          "y": "independent.co.uk",
          "z": 0.012518482010842779
         },
         {
          "x": "usatoday.com",
          "y": "msn.com",
          "z": 0.011799702528507684
         },
         {
          "x": "usatoday.com",
          "y": "nbcnews.com",
          "z": 0.00838181638891628
         },
         {
          "x": "usatoday.com",
          "y": "newsweek.com",
          "z": 0.01803214425715406
         },
         {
          "x": "usatoday.com",
          "y": "npr.org",
          "z": 0.017937659282493627
         },
         {
          "x": "usatoday.com",
          "y": "nydailynews.com",
          "z": 0.0309856384025182
         },
         {
          "x": "usatoday.com",
          "y": "nypost.com",
          "z": 0.037530864197530864
         },
         {
          "x": "usatoday.com",
          "y": "nytimes.com",
          "z": 0.010326849809504712
         },
         {
          "x": "usatoday.com",
          "y": "rawstory.com",
          "z": 0.008548688218531985
         },
         {
          "x": "usatoday.com",
          "y": "reuters.com",
          "z": 0.017188881249386112
         },
         {
          "x": "usatoday.com",
          "y": "rt.com",
          "z": 0.006804763334334034
         },
         {
          "x": "usatoday.com",
          "y": "sputniknews.com",
          "z": 0.01072918736340155
         },
         {
          "x": "usatoday.com",
          "y": "telegraph.co.uk",
          "z": 0.008868074930251097
         },
         {
          "x": "usatoday.com",
          "y": "theguardian.com",
          "z": 0.010541871921182265
         },
         {
          "x": "usatoday.com",
          "y": "thehill.com",
          "z": 0.015654984345015655
         },
         {
          "x": "usatoday.com",
          "y": "thetimes.co.uk",
          "z": 0.014759421430679917
         },
         {
          "x": "usatoday.com",
          "y": "time.com",
          "z": 0.01806640625
         },
         {
          "x": "usatoday.com",
          "y": "usatoday.com",
          "z": 0
         },
         {
          "x": "usatoday.com",
          "y": "variety.com",
          "z": 0.034030380745709216
         },
         {
          "x": "usatoday.com",
          "y": "vice.com",
          "z": 0.02787698412698413
         },
         {
          "x": "usatoday.com",
          "y": "washingtonexaminer.com",
          "z": 0.016486810551558755
         },
         {
          "x": "usatoday.com",
          "y": "washingtonpost.com",
          "z": 0.01066744959874731
         },
         {
          "x": "usatoday.com",
          "y": "washingtontimes.com",
          "z": 0.026063511084481725
         },
         {
          "x": "usatoday.com",
          "y": "wsj.com",
          "z": 0.008331660309174864
         },
         {
          "x": "usatoday.com",
          "y": "yahoo.com",
          "z": 0.007405183628539978
         },
         {
          "x": "variety.com",
          "y": "apnews.com",
          "z": 0.008123637804636418
         },
         {
          "x": "variety.com",
          "y": "bbc.co.uk",
          "z": 0.02973644952759821
         },
         {
          "x": "variety.com",
          "y": "bloomberg.com",
          "z": 0.008842601689919434
         },
         {
          "x": "variety.com",
          "y": "breitbart.com",
          "z": 0.0070068094345208725
         },
         {
          "x": "variety.com",
          "y": "businessinsider.com",
          "z": 0.008884983401679359
         },
         {
          "x": "variety.com",
          "y": "buzzfeed.com",
          "z": 0.00636372675748235
         },
         {
          "x": "variety.com",
          "y": "cbc.ca",
          "z": 0.009701049297168878
         },
         {
          "x": "variety.com",
          "y": "cbsnews.com",
          "z": 0.004771642808452625
         },
         {
          "x": "variety.com",
          "y": "cnbc.com",
          "z": 0.008252958138609923
         },
         {
          "x": "variety.com",
          "y": "cnn.com",
          "z": 0.0033199882823942975
         },
         {
          "x": "variety.com",
          "y": "dailycaller.com",
          "z": 0.009307338101303027
         },
         {
          "x": "variety.com",
          "y": "dailykos.com",
          "z": 0.0032337089661930427
         },
         {
          "x": "variety.com",
          "y": "forbes.com",
          "z": 0.017624215871751468
         },
         {
          "x": "variety.com",
          "y": "foxnews.com",
          "z": 0.004294417257565165
         },
         {
          "x": "variety.com",
          "y": "ft.com",
          "z": 0.013557970292094507
         },
         {
          "x": "variety.com",
          "y": "huffingtonpost.com",
          "z": 0.006233920443301009
         },
         {
          "x": "variety.com",
          "y": "inc.com",
          "z": 0.0049573666468372005
         },
         {
          "x": "variety.com",
          "y": "independent.co.uk",
          "z": 0.008969935929029078
         },
         {
          "x": "variety.com",
          "y": "msn.com",
          "z": 0.004164600892414477
         },
         {
          "x": "variety.com",
          "y": "nbcnews.com",
          "z": 0.0023666305098116558
         },
         {
          "x": "variety.com",
          "y": "newsweek.com",
          "z": 0.005684045472363779
         },
         {
          "x": "variety.com",
          "y": "npr.org",
          "z": 0.011468339541266418
         },
         {
          "x": "variety.com",
          "y": "nydailynews.com",
          "z": 0.014459964587841826
         },
         {
          "x": "variety.com",
          "y": "nypost.com",
          "z": 0.007802469135802469
         },
         {
          "x": "variety.com",
          "y": "nytimes.com",
          "z": 0.00962502506516944
         },
         {
          "x": "variety.com",
          "y": "rawstory.com",
          "z": 0.01159477252628476
         },
         {
          "x": "variety.com",
          "y": "reuters.com",
          "z": 0.01060799528533543
         },
         {
          "x": "variety.com",
          "y": "rt.com",
          "z": 0.007505253677574302
         },
         {
          "x": "variety.com",
          "y": "sputniknews.com",
          "z": 0.007252135903039936
         },
         {
          "x": "variety.com",
          "y": "telegraph.co.uk",
          "z": 0.004882423276205659
         },
         {
          "x": "variety.com",
          "y": "theguardian.com",
          "z": 0.010738916256157636
         },
         {
          "x": "variety.com",
          "y": "thehill.com",
          "z": 0.00605999394000606
         },
         {
          "x": "variety.com",
          "y": "thetimes.co.uk",
          "z": 0.014956213716422317
         },
         {
          "x": "variety.com",
          "y": "time.com",
          "z": 0.0091796875
         },
         {
          "x": "variety.com",
          "y": "usatoday.com",
          "z": 0.01726689689195856
         },
         {
          "x": "variety.com",
          "y": "variety.com",
          "z": 0
         },
         {
          "x": "variety.com",
          "y": "vice.com",
          "z": 0.028075396825396826
         },
         {
          "x": "variety.com",
          "y": "washingtonexaminer.com",
          "z": 0.0035971223021582736
         },
         {
          "x": "variety.com",
          "y": "washingtonpost.com",
          "z": 0.006654922685457036
         },
         {
          "x": "variety.com",
          "y": "washingtontimes.com",
          "z": 0.012282804074295986
         },
         {
          "x": "variety.com",
          "y": "wsj.com",
          "z": 0.012447299739008232
         },
         {
          "x": "variety.com",
          "y": "yahoo.com",
          "z": 0.0029020314219953968
         },
         {
          "x": "vice.com",
          "y": "apnews.com",
          "z": 0.005547850208044383
         },
         {
          "x": "vice.com",
          "y": "bbc.co.uk",
          "z": 0.02486325211337643
         },
         {
          "x": "vice.com",
          "y": "bloomberg.com",
          "z": 0.0053055610139516604
         },
         {
          "x": "vice.com",
          "y": "breitbart.com",
          "z": 0.009868745682423763
         },
         {
          "x": "vice.com",
          "y": "businessinsider.com",
          "z": 0.0421792618629174
         },
         {
          "x": "vice.com",
          "y": "buzzfeed.com",
          "z": 0.05260017897981505
         },
         {
          "x": "vice.com",
          "y": "cbc.ca",
          "z": 0.02484656503662641
         },
         {
          "x": "vice.com",
          "y": "cbsnews.com",
          "z": 0.00408997955010225
         },
         {
          "x": "vice.com",
          "y": "cnbc.com",
          "z": 0.007556925524510291
         },
         {
          "x": "vice.com",
          "y": "cnn.com",
          "z": 0.004784688995215311
         },
         {
          "x": "vice.com",
          "y": "dailycaller.com",
          "z": 0.017341040462427744
         },
         {
          "x": "vice.com",
          "y": "dailykos.com",
          "z": 0.02038216560509554
         },
         {
          "x": "vice.com",
          "y": "forbes.com",
          "z": 0.02937369311958578
         },
         {
          "x": "vice.com",
          "y": "foxnews.com",
          "z": 0.0023968840507340456
         },
         {
          "x": "vice.com",
          "y": "ft.com",
          "z": 0.006180839397866613
         },
         {
          "x": "vice.com",
          "y": "huffingtonpost.com",
          "z": 0.028201068672075995
         },
         {
          "x": "vice.com",
          "y": "inc.com",
          "z": 0.020126908586159033
         },
         {
          "x": "vice.com",
          "y": "independent.co.uk",
          "z": 0.02543124691966486
         },
         {
          "x": "vice.com",
          "y": "msn.com",
          "z": 0.0057511155180961825
         },
         {
          "x": "vice.com",
          "y": "nbcnews.com",
          "z": 0.004930480228774283
         },
         {
          "x": "vice.com",
          "y": "newsweek.com",
          "z": 0.029890239121912975
         },
         {
          "x": "vice.com",
          "y": "npr.org",
          "z": 0.021858459125661634
         },
         {
          "x": "vice.com",
          "y": "nydailynews.com",
          "z": 0.008164469801298447
         },
         {
          "x": "vice.com",
          "y": "nypost.com",
          "z": 0.03446913580246914
         },
         {
          "x": "vice.com",
          "y": "nytimes.com",
          "z": 0.010627631842791257
         },
         {
          "x": "vice.com",
          "y": "rawstory.com",
          "z": 0.01807998427827454
         },
         {
          "x": "vice.com",
          "y": "reuters.com",
          "z": 0.00461644239269227
         },
         {
          "x": "vice.com",
          "y": "rt.com",
          "z": 0.012308616031221855
         },
         {
          "x": "vice.com",
          "y": "sputniknews.com",
          "z": 0.01102722034571826
         },
         {
          "x": "vice.com",
          "y": "telegraph.co.uk",
          "z": 0.009067357512953367
         },
         {
          "x": "vice.com",
          "y": "theguardian.com",
          "z": 0.020492610837438422
         },
         {
          "x": "vice.com",
          "y": "thehill.com",
          "z": 0.005655994344005656
         },
         {
          "x": "vice.com",
          "y": "thetimes.co.uk",
          "z": 0.02272950900324707
         },
         {
          "x": "vice.com",
          "y": "time.com",
          "z": 0.02314453125
         },
         {
          "x": "vice.com",
          "y": "usatoday.com",
          "z": 0.018253576714356193
         },
         {
          "x": "vice.com",
          "y": "variety.com",
          "z": 0.025152890116393767
         },
         {
          "x": "vice.com",
          "y": "vice.com",
          "z": 0
         },
         {
          "x": "vice.com",
          "y": "washingtonexaminer.com",
          "z": 0.008393285371702638
         },
         {
          "x": "vice.com",
          "y": "washingtonpost.com",
          "z": 0.007535721276179292
         },
         {
          "x": "vice.com",
          "y": "washingtontimes.com",
          "z": 0.005292590373477132
         },
         {
          "x": "vice.com",
          "y": "wsj.com",
          "z": 0.007628990162617948
         },
         {
          "x": "vice.com",
          "y": "yahoo.com",
          "z": 0.003602521765235665
         },
         {
          "x": "washingtonexaminer.com",
          "y": "apnews.com",
          "z": 0.01703982563899346
         },
         {
          "x": "washingtonexaminer.com",
          "y": "bbc.co.uk",
          "z": 0.006464445549477871
         },
         {
          "x": "washingtonexaminer.com",
          "y": "bloomberg.com",
          "z": 0.011495382196895264
         },
         {
          "x": "washingtonexaminer.com",
          "y": "breitbart.com",
          "z": 0.051218790091779334
         },
         {
          "x": "washingtonexaminer.com",
          "y": "businessinsider.com",
          "z": 0.013473930872876391
         },
         {
          "x": "washingtonexaminer.com",
          "y": "buzzfeed.com",
          "z": 0.011434821517351099
         },
         {
          "x": "washingtonexaminer.com",
          "y": "cbc.ca",
          "z": 0.008612156008711146
         },
         {
          "x": "washingtonexaminer.com",
          "y": "cbsnews.com",
          "z": 0.018502288440938746
         },
         {
          "x": "washingtonexaminer.com",
          "y": "cnbc.com",
          "z": 0.016903649199562495
         },
         {
          "x": "washingtonexaminer.com",
          "y": "cnn.com",
          "z": 0.0180646421247925
         },
         {
          "x": "washingtonexaminer.com",
          "y": "dailycaller.com",
          "z": 0.0378171842852944
         },
         {
          "x": "washingtonexaminer.com",
          "y": "dailykos.com",
          "z": 0.0655560999510044
         },
         {
          "x": "washingtonexaminer.com",
          "y": "forbes.com",
          "z": 0.01214776461216768
         },
         {
          "x": "washingtonexaminer.com",
          "y": "foxnews.com",
          "z": 0.017577149705383002
         },
         {
          "x": "washingtonexaminer.com",
          "y": "ft.com",
          "z": 0.006978367062107467
         },
         {
          "x": "washingtonexaminer.com",
          "y": "huffingtonpost.com",
          "z": 0.012665743122897288
         },
         {
          "x": "washingtonexaminer.com",
          "y": "inc.com",
          "z": 0.0049573666468372005
         },
         {
          "x": "washingtonexaminer.com",
          "y": "independent.co.uk",
          "z": 0.008477082306554954
         },
         {
          "x": "washingtonexaminer.com",
          "y": "msn.com",
          "z": 0.002280614774417452
         },
         {
          "x": "washingtonexaminer.com",
          "y": "nbcnews.com",
          "z": 0.010156789271275023
         },
         {
          "x": "washingtonexaminer.com",
          "y": "newsweek.com",
          "z": 0.02724421795374363
         },
         {
          "x": "washingtonexaminer.com",
          "y": "npr.org",
          "z": 0.014212899431484023
         },
         {
          "x": "washingtonexaminer.com",
          "y": "nydailynews.com",
          "z": 0.010918748770411175
         },
         {
          "x": "washingtonexaminer.com",
          "y": "nypost.com",
          "z": 0.01362962962962963
         },
         {
          "x": "washingtonexaminer.com",
          "y": "nytimes.com",
          "z": 0.004511730499298175
         },
         {
          "x": "washingtonexaminer.com",
          "y": "rawstory.com",
          "z": 0.05040778225410239
         },
         {
          "x": "washingtonexaminer.com",
          "y": "reuters.com",
          "z": 0.010411550928199587
         },
         {
          "x": "washingtonexaminer.com",
          "y": "rt.com",
          "z": 0.009006304413089163
         },
         {
          "x": "washingtonexaminer.com",
          "y": "sputniknews.com",
          "z": 0.0337770713292271
         },
         {
          "x": "washingtonexaminer.com",
          "y": "telegraph.co.uk",
          "z": 0.004882423276205659
         },
         {
          "x": "washingtonexaminer.com",
          "y": "theguardian.com",
          "z": 0.005024630541871921
         },
         {
          "x": "washingtonexaminer.com",
          "y": "thehill.com",
          "z": 0.10948389051610949
         },
         {
          "x": "washingtonexaminer.com",
          "y": "thetimes.co.uk",
          "z": 0.009839614287119944
         },
         {
          "x": "washingtonexaminer.com",
          "y": "time.com",
          "z": 0.01083984375
         },
         {
          "x": "washingtonexaminer.com",
          "y": "usatoday.com",
          "z": 0.007696102614701529
         },
         {
          "x": "washingtonexaminer.com",
          "y": "variety.com",
          "z": 0.008778851844545275
         },
         {
          "x": "washingtonexaminer.com",
          "y": "vice.com",
          "z": 0.016170634920634922
         },
         {
          "x": "washingtonexaminer.com",
          "y": "washingtonexaminer.com",
          "z": 0
         },
         {
          "x": "washingtonexaminer.com",
          "y": "washingtonpost.com",
          "z": 0.009688784497944804
         },
         {
          "x": "washingtonexaminer.com",
          "y": "washingtontimes.com",
          "z": 0.02616337128020771
         },
         {
          "x": "washingtonexaminer.com",
          "y": "wsj.com",
          "z": 0.0069263200160610315
         },
         {
          "x": "washingtonexaminer.com",
          "y": "yahoo.com",
          "z": 0.0017011908335835084
         },
         {
          "x": "washingtonpost.com",
          "y": "apnews.com",
          "z": 0.03774519516544482
         },
         {
          "x": "washingtonpost.com",
          "y": "bbc.co.uk",
          "z": 0.02028841372451517
         },
         {
          "x": "washingtonpost.com",
          "y": "bloomberg.com",
          "z": 0.009825112988799371
         },
         {
          "x": "washingtonpost.com",
          "y": "breitbart.com",
          "z": 0.01924405408072634
         },
         {
          "x": "washingtonpost.com",
          "y": "businessinsider.com",
          "z": 0.02069908221050576
         },
         {
          "x": "washingtonpost.com",
          "y": "buzzfeed.com",
          "z": 0.015710450432534554
         },
         {
          "x": "washingtonpost.com",
          "y": "cbc.ca",
          "z": 0.020490991882795486
         },
         {
          "x": "washingtonpost.com",
          "y": "cbsnews.com",
          "z": 0.015678254942058625
         },
         {
          "x": "washingtonpost.com",
          "y": "cnbc.com",
          "z": 0.012429153823207716
         },
         {
          "x": "washingtonpost.com",
          "y": "cnn.com",
          "z": 0.00800703056342154
         },
         {
          "x": "washingtonpost.com",
          "y": "dailycaller.com",
          "z": 0.03673949250514353
         },
         {
          "x": "washingtonpost.com",
          "y": "dailykos.com",
          "z": 0.04468397844194023
         },
         {
          "x": "washingtonpost.com",
          "y": "forbes.com",
          "z": 0.018221646918251518
         },
         {
          "x": "washingtonpost.com",
          "y": "foxnews.com",
          "z": 0.011784679916109058
         },
         {
          "x": "washingtonpost.com",
          "y": "ft.com",
          "z": 0.00986940484498056
         },
         {
          "x": "washingtonpost.com",
          "y": "huffingtonpost.com",
          "z": 0.014150009895111814
         },
         {
          "x": "washingtonpost.com",
          "y": "inc.com",
          "z": 0.009914733293674401
         },
         {
          "x": "washingtonpost.com",
          "y": "independent.co.uk",
          "z": 0.01291276490882208
         },
         {
          "x": "washingtonpost.com",
          "y": "msn.com",
          "z": 0.00495785820525533
         },
         {
          "x": "washingtonpost.com",
          "y": "nbcnews.com",
          "z": 0.009663741248397594
         },
         {
          "x": "washingtonpost.com",
          "y": "newsweek.com",
          "z": 0.042630341042728344
         },
         {
          "x": "washingtonpost.com",
          "y": "npr.org",
          "z": 0.029896098804156047
         },
         {
          "x": "washingtonpost.com",
          "y": "nydailynews.com",
          "z": 0.011213850088530396
         },
         {
          "x": "washingtonpost.com",
          "y": "nypost.com",
          "z": 0.013135802469135802
         },
         {
          "x": "washingtonpost.com",
          "y": "nytimes.com",
          "z": 0.01975135351914979
         },
         {
          "x": "washingtonpost.com",
          "y": "rawstory.com",
          "z": 0.04303822344502309
         },
         {
          "x": "washingtonpost.com",
          "y": "reuters.com",
          "z": 0.02779687653472154
         },
         {
          "x": "washingtonpost.com",
          "y": "rt.com",
          "z": 0.01611127789452617
         },
         {
          "x": "washingtonpost.com",
          "y": "sputniknews.com",
          "z": 0.030200675541426584
         },
         {
          "x": "washingtonpost.com",
          "y": "telegraph.co.uk",
          "z": 0.006476683937823834
         },
         {
          "x": "washingtonpost.com",
          "y": "theguardian.com",
          "z": 0.013300492610837438
         },
         {
          "x": "washingtonpost.com",
          "y": "thehill.com",
          "z": 0.028986971013028988
         },
         {
          "x": "washingtonpost.com",
          "y": "thetimes.co.uk",
          "z": 0.02095837843156548
         },
         {
          "x": "washingtonpost.com",
          "y": "time.com",
          "z": 0.019921875
         },
         {
          "x": "washingtonpost.com",
          "y": "usatoday.com",
          "z": 0.03334977799703996
         },
         {
          "x": "washingtonpost.com",
          "y": "variety.com",
          "z": 0.020714144801736042
         },
         {
          "x": "washingtonpost.com",
          "y": "vice.com",
          "z": 0.03521825396825397
         },
         {
          "x": "washingtonpost.com",
          "y": "washingtonexaminer.com",
          "z": 0.027677857713828937
         },
         {
          "x": "washingtonpost.com",
          "y": "washingtonpost.com",
          "z": 0
         },
         {
          "x": "washingtonpost.com",
          "y": "washingtontimes.com",
          "z": 0.03165568204513681
         },
         {
          "x": "washingtonpost.com",
          "y": "wsj.com",
          "z": 0.01907247540654487
         },
         {
          "x": "washingtonpost.com",
          "y": "yahoo.com",
          "z": 0.0031021715200640447
         },
         {
          "x": "washingtontimes.com",
          "y": "apnews.com",
          "z": 0.0769764216366158
         },
         {
          "x": "washingtontimes.com",
          "y": "bbc.co.uk",
          "z": 0.017105917454002983
         },
         {
          "x": "washingtontimes.com",
          "y": "bloomberg.com",
          "z": 0.010807624287679308
         },
         {
          "x": "washingtontimes.com",
          "y": "breitbart.com",
          "z": 0.03365242277706503
         },
         {
          "x": "washingtontimes.com",
          "y": "businessinsider.com",
          "z": 0.004491310290958797
         },
         {
          "x": "washingtontimes.com",
          "y": "buzzfeed.com",
          "z": 0.0034801630704981604
         },
         {
          "x": "washingtontimes.com",
          "y": "cbc.ca",
          "z": 0.039992080776083946
         },
         {
          "x": "washingtontimes.com",
          "y": "cbsnews.com",
          "z": 0.021423702405297496
         },
         {
          "x": "washingtontimes.com",
          "y": "cnbc.com",
          "z": 0.009147857213880879
         },
         {
          "x": "washingtontimes.com",
          "y": "cnn.com",
          "z": 0.0053705692803437165
         },
         {
          "x": "washingtontimes.com",
          "y": "dailycaller.com",
          "z": 0.027432154403840503
         },
         {
          "x": "washingtontimes.com",
          "y": "dailykos.com",
          "z": 0.015286624203821656
         },
         {
          "x": "washingtontimes.com",
          "y": "forbes.com",
          "z": 0.008065319127750673
         },
         {
          "x": "washingtontimes.com",
          "y": "foxnews.com",
          "z": 0.017377409367821832
         },
         {
          "x": "washingtontimes.com",
          "y": "ft.com",
          "z": 0.013458279334064401
         },
         {
          "x": "washingtontimes.com",
          "y": "huffingtonpost.com",
          "z": 0.0048486047892341184
         },
         {
          "x": "washingtontimes.com",
          "y": "inc.com",
          "z": 0.002181241324608368
         },
         {
          "x": "washingtontimes.com",
          "y": "independent.co.uk",
          "z": 0.009758501724987679
         },
         {
          "x": "washingtontimes.com",
          "y": "msn.com",
          "z": 0.005057015369360436
         },
         {
          "x": "washingtontimes.com",
          "y": "nbcnews.com",
          "z": 0.007198501134010452
         },
         {
          "x": "washingtontimes.com",
          "y": "newsweek.com",
          "z": 0.009212073696589572
         },
         {
          "x": "washingtontimes.com",
          "y": "npr.org",
          "z": 0.017349539306018427
         },
         {
          "x": "washingtontimes.com",
          "y": "nydailynews.com",
          "z": 0.0263623844186504
         },
         {
          "x": "washingtontimes.com",
          "y": "nypost.com",
          "z": 0.022024691358024692
         },
         {
          "x": "washingtontimes.com",
          "y": "nytimes.com",
          "z": 0.013134148786845799
         },
         {
          "x": "washingtontimes.com",
          "y": "rawstory.com",
          "z": 0.021519111722511544
         },
         {
          "x": "washingtontimes.com",
          "y": "reuters.com",
          "z": 0.02907376485610451
         },
         {
          "x": "washingtontimes.com",
          "y": "rt.com",
          "z": 0.019513659561693184
         },
         {
          "x": "washingtontimes.com",
          "y": "sputniknews.com",
          "z": 0.029107887939598648
         },
         {
          "x": "washingtontimes.com",
          "y": "telegraph.co.uk",
          "z": 0.0062774013551215625
         },
         {
          "x": "washingtontimes.com",
          "y": "theguardian.com",
          "z": 0.00729064039408867
         },
         {
          "x": "washingtontimes.com",
          "y": "thehill.com",
          "z": 0.038076961923038076
         },
         {
          "x": "washingtontimes.com",
          "y": "thetimes.co.uk",
          "z": 0.020171209288595886
         },
         {
          "x": "washingtontimes.com",
          "y": "time.com",
          "z": 0.0072265625
         },
         {
          "x": "washingtontimes.com",
          "y": "usatoday.com",
          "z": 0.034040453872718306
         },
         {
          "x": "washingtontimes.com",
          "y": "variety.com",
          "z": 0.032452160189386466
         },
         {
          "x": "washingtontimes.com",
          "y": "vice.com",
          "z": 0.009821428571428571
         },
         {
          "x": "washingtontimes.com",
          "y": "washingtonexaminer.com",
          "z": 0.036370903277378096
         },
         {
          "x": "washingtontimes.com",
          "y": "washingtonpost.com",
          "z": 0.02016050107653161
         },
         {
          "x": "washingtontimes.com",
          "y": "washingtontimes.com",
          "z": 0
         },
         {
          "x": "washingtontimes.com",
          "y": "wsj.com",
          "z": 0.020477815699658702
         },
         {
          "x": "washingtontimes.com",
          "y": "yahoo.com",
          "z": 0.0022015410787551287
         },
         {
          "x": "wsj.com",
          "y": "apnews.com",
          "z": 0.01783237566871409
         },
         {
          "x": "wsj.com",
          "y": "bbc.co.uk",
          "z": 0.017006464445549478
         },
         {
          "x": "wsj.com",
          "y": "bloomberg.com",
          "z": 0.0686775397917076
         },
         {
          "x": "wsj.com",
          "y": "breitbart.com",
          "z": 0.015296555807756834
         },
         {
          "x": "wsj.com",
          "y": "businessinsider.com",
          "z": 0.014743214215973443
         },
         {
          "x": "wsj.com",
          "y": "buzzfeed.com",
          "z": 0.00636372675748235
         },
         {
          "x": "wsj.com",
          "y": "cbc.ca",
          "z": 0.014749554543654722
         },
         {
          "x": "wsj.com",
          "y": "cbsnews.com",
          "z": 0.012172558184828123
         },
         {
          "x": "wsj.com",
          "y": "cnbc.com",
          "z": 0.033210699015611016
         },
         {
          "x": "wsj.com",
          "y": "cnn.com",
          "z": 0.008397617420173812
         },
         {
          "x": "wsj.com",
          "y": "dailycaller.com",
          "z": 0.013520133241892818
         },
         {
          "x": "wsj.com",
          "y": "dailykos.com",
          "z": 0.012052915237628614
         },
         {
          "x": "wsj.com",
          "y": "forbes.com",
          "z": 0.05337050682067111
         },
         {
          "x": "wsj.com",
          "y": "foxnews.com",
          "z": 0.004793768101468091
         },
         {
          "x": "wsj.com",
          "y": "ft.com",
          "z": 0.08583391486392185
         },
         {
          "x": "wsj.com",
          "y": "huffingtonpost.com",
          "z": 0.009994062932911142
         },
         {
          "x": "wsj.com",
          "y": "inc.com",
          "z": 0.016260162601626018
         },
         {
          "x": "wsj.com",
          "y": "independent.co.uk",
          "z": 0.004337111877772301
         },
         {
          "x": "wsj.com",
          "y": "msn.com",
          "z": 0.003173029251363411
         },
         {
          "x": "wsj.com",
          "y": "nbcnews.com",
          "z": 0.006015185879104625
         },
         {
          "x": "wsj.com",
          "y": "newsweek.com",
          "z": 0.011172089376715013
         },
         {
          "x": "wsj.com",
          "y": "npr.org",
          "z": 0.026073318957067243
         },
         {
          "x": "wsj.com",
          "y": "nydailynews.com",
          "z": 0.014558331693881566
         },
         {
          "x": "wsj.com",
          "y": "nypost.com",
          "z": 0.012049382716049382
         },
         {
          "x": "wsj.com",
          "y": "nytimes.com",
          "z": 0.021255263685582514
         },
         {
          "x": "wsj.com",
          "y": "rawstory.com",
          "z": 0.012184337231011104
         },
         {
          "x": "wsj.com",
          "y": "reuters.com",
          "z": 0.06443374914055594
         },
         {
          "x": "wsj.com",
          "y": "rt.com",
          "z": 0.012708896227359151
         },
         {
          "x": "wsj.com",
          "y": "sputniknews.com",
          "z": 0.01718656864693026
         },
         {
          "x": "wsj.com",
          "y": "telegraph.co.uk",
          "z": 0.005579912315663611
         },
         {
          "x": "wsj.com",
          "y": "theguardian.com",
          "z": 0.017733990147783252
         },
         {
          "x": "wsj.com",
          "y": "thehill.com",
          "z": 0.02514897485102515
         },
         {
          "x": "wsj.com",
          "y": "thetimes.co.uk",
          "z": 0.02863327757551904
         },
         {
          "x": "wsj.com",
          "y": "time.com",
          "z": 0.0091796875
         },
         {
          "x": "wsj.com",
          "y": "usatoday.com",
          "z": 0.008288110508140108
         },
         {
          "x": "wsj.com",
          "y": "variety.com",
          "z": 0.031268494772144405
         },
         {
          "x": "wsj.com",
          "y": "vice.com",
          "z": 0.02638888888888889
         },
         {
          "x": "wsj.com",
          "y": "washingtonexaminer.com",
          "z": 0.017585931254996003
         },
         {
          "x": "wsj.com",
          "y": "washingtonpost.com",
          "z": 0.01810530436484635
         },
         {
          "x": "wsj.com",
          "y": "washingtontimes.com",
          "z": 0.037347713201517876
         },
         {
          "x": "wsj.com",
          "y": "wsj.com",
          "z": 0
         },
         {
          "x": "wsj.com",
          "y": "yahoo.com",
          "z": 0.003202241569098369
         },
         {
          "x": "yahoo.com",
          "y": "apnews.com",
          "z": 0.04042005151575193
         },
         {
          "x": "yahoo.com",
          "y": "bbc.co.uk",
          "z": 0.025857782197911485
         },
         {
          "x": "yahoo.com",
          "y": "bloomberg.com",
          "z": 0.020436235016702692
         },
         {
          "x": "yahoo.com",
          "y": "breitbart.com",
          "z": 0.018947991710253628
         },
         {
          "x": "yahoo.com",
          "y": "businessinsider.com",
          "z": 0.03915250927553212
         },
         {
          "x": "yahoo.com",
          "y": "buzzfeed.com",
          "z": 0.021577011037088596
         },
         {
          "x": "yahoo.com",
          "y": "cbc.ca",
          "z": 0.03425064343694318
         },
         {
          "x": "yahoo.com",
          "y": "cbsnews.com",
          "z": 0.019378712630246372
         },
         {
          "x": "yahoo.com",
          "y": "cnbc.com",
          "z": 0.02823903748632793
         },
         {
          "x": "yahoo.com",
          "y": "cnn.com",
          "z": 0.005077629137779514
         },
         {
          "x": "yahoo.com",
          "y": "dailycaller.com",
          "z": 0.012148525521700794
         },
         {
          "x": "yahoo.com",
          "y": "dailykos.com",
          "z": 0.0233219010289074
         },
         {
          "x": "yahoo.com",
          "y": "forbes.com",
          "z": 0.030966842576919246
         },
         {
          "x": "yahoo.com",
          "y": "foxnews.com",
          "z": 0.013981823629281933
         },
         {
          "x": "yahoo.com",
          "y": "ft.com",
          "z": 0.01824344531950952
         },
         {
          "x": "yahoo.com",
          "y": "huffingtonpost.com",
          "z": 0.009796160696615873
         },
         {
          "x": "yahoo.com",
          "y": "inc.com",
          "z": 0.0148720999405116
         },
         {
          "x": "yahoo.com",
          "y": "independent.co.uk",
          "z": 0.029078363725973385
         },
         {
          "x": "yahoo.com",
          "y": "msn.com",
          "z": 0.014873574615765989
         },
         {
          "x": "yahoo.com",
          "y": "nbcnews.com",
          "z": 0.007691549156887881
         },
         {
          "x": "yahoo.com",
          "y": "newsweek.com",
          "z": 0.027146217169737356
         },
         {
          "x": "yahoo.com",
          "y": "npr.org",
          "z": 0.01235051950597922
         },
         {
          "x": "yahoo.com",
          "y": "nydailynews.com",
          "z": 0.021739130434782608
         },
         {
          "x": "yahoo.com",
          "y": "nypost.com",
          "z": 0.034074074074074076
         },
         {
          "x": "yahoo.com",
          "y": "nytimes.com",
          "z": 0.00832163625426108
         },
         {
          "x": "yahoo.com",
          "y": "rawstory.com",
          "z": 0.022206937211358947
         },
         {
          "x": "yahoo.com",
          "y": "reuters.com",
          "z": 0.057558196640801494
         },
         {
          "x": "yahoo.com",
          "y": "rt.com",
          "z": 0.022916041228860203
         },
         {
          "x": "yahoo.com",
          "y": "sputniknews.com",
          "z": 0.035167891913371746
         },
         {
          "x": "yahoo.com",
          "y": "telegraph.co.uk",
          "z": 0.012455161418891988
         },
         {
          "x": "yahoo.com",
          "y": "theguardian.com",
          "z": 0.015566502463054186
         },
         {
          "x": "yahoo.com",
          "y": "thehill.com",
          "z": 0.02423997576002424
         },
         {
          "x": "yahoo.com",
          "y": "thetimes.co.uk",
          "z": 0.019876020859982288
         },
         {
          "x": "yahoo.com",
          "y": "time.com",
          "z": 0.01845703125
         },
         {
          "x": "yahoo.com",
          "y": "usatoday.com",
          "z": 0.06334484459792797
         },
         {
          "x": "yahoo.com",
          "y": "variety.com",
          "z": 0.03856776484513711
         },
         {
          "x": "yahoo.com",
          "y": "vice.com",
          "z": 0.02400793650793651
         },
         {
          "x": "yahoo.com",
          "y": "washingtonexaminer.com",
          "z": 0.018884892086330936
         },
         {
          "x": "yahoo.com",
          "y": "washingtonpost.com",
          "z": 0.009786651008025053
         },
         {
          "x": "yahoo.com",
          "y": "washingtontimes.com",
          "z": 0.020271619732374676
         },
         {
          "x": "yahoo.com",
          "y": "wsj.com",
          "z": 0.013852640032122063
         },
         {
          "x": "yahoo.com",
          "y": "yahoo.com",
          "z": 0
         }
        ]
       },
       "encoding": {
        "color": {
         "field": "z",
         "type": "quantitative"
        },
        "tooltip": {
         "field": "x",
         "type": "nominal"
        },
        "x": {
         "field": "x",
         "type": "ordinal"
        },
        "y": {
         "field": "y",
         "type": "ordinal"
        }
       },
       "mark": "rect"
      },
      "image/png": "[encoded data removed]",
      "text/plain": [
       "<VegaLite 2 object>\n",
       "\n",
       "If you see this message, it means the renderer has not been properly enabled\n",
       "for the frontend that you are using. For more information, see\n",
       "https://altair-viz.github.io/user_guide/troubleshooting.html\n"
      ]
     },
     "execution_count": 47,
     "metadata": {},
     "output_type": "execute_result"
    }
   ],
   "source": [
    "alt.Chart(cm_df).mark_rect().encode(x='x:O', y='y:O', color='z:Q', tooltip='x')"
   ]
  },
  {
   "cell_type": "code",
   "execution_count": null,
   "metadata": {},
   "outputs": [],
   "source": []
  }
 ],
 "metadata": {
  "kernelspec": {
   "display_name": "Python 3",
   "language": "python",
   "name": "python3"
  },
  "language_info": {
   "codemirror_mode": {
    "name": "ipython",
    "version": 3
   },
   "file_extension": ".py",
   "mimetype": "text/x-python",
   "name": "python",
   "nbconvert_exporter": "python",
   "pygments_lexer": "ipython3",
   "version": "3.7.0"
  }
 },
 "nbformat": 4,
 "nbformat_minor": 2
}
