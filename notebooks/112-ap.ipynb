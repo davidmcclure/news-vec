{
 "cells": [
  {
   "cell_type": "code",
   "execution_count": 1,
   "metadata": {},
   "outputs": [],
   "source": [
    "import pandas as pd\n",
    "\n",
    "from collections import defaultdict, Counter\n",
    "\n",
    "from news_vec.utils import read_json_gz_lines"
   ]
  },
  {
   "cell_type": "code",
   "execution_count": 2,
   "metadata": {},
   "outputs": [],
   "source": [
    "pd.options.display.max_rows = 500"
   ]
  },
  {
   "cell_type": "code",
   "execution_count": 3,
   "metadata": {},
   "outputs": [],
   "source": [
    "df = pd.DataFrame(list(read_json_gz_lines('../data/clf-articles.json/')))"
   ]
  },
  {
   "cell_type": "code",
   "execution_count": 4,
   "metadata": {},
   "outputs": [],
   "source": [
    "df['tokens_key'] = df.clf_tokens.apply(lambda ts: tuple(ts))"
   ]
  },
  {
   "cell_type": "code",
   "execution_count": 5,
   "metadata": {},
   "outputs": [],
   "source": [
    "ap_hls = set(map(tuple, df[df.domain=='apnews.com'].clf_tokens))"
   ]
  },
  {
   "cell_type": "code",
   "execution_count": 6,
   "metadata": {},
   "outputs": [],
   "source": [
    "df['is_ap'] = df.clf_tokens.apply(lambda ts: tuple(ts) in ap_hls)"
   ]
  },
  {
   "cell_type": "code",
   "execution_count": 7,
   "metadata": {},
   "outputs": [
    {
     "name": "stdout",
     "output_type": "stream",
     "text": [
      "foxnews.com Trump to award first Medal of Honor to Vietnam Army medic\n",
      "foxnews.com Protection petitions filed for 2 girls in mutilation case\n",
      "washingtonpost.com Bill Cosby convicted of drugging and molesting a woman\n",
      "foxnews.com FBI seeks motive for fiery van crash at California air base\n",
      "foxnews.com Socialist utopia a hard sell as France swings right\n",
      "wsj.com Stan Kroenke Makes Offer to Take Full Ownership of Arsenal\n",
      "nytimes.com Criticism of US Sanctions Returns in Iran After Earthquake\n",
      "bloomberg.com Conway Suggests Surveillance of Trump Went Beyond Phones\n",
      "foxnews.com AP FACT CHECK : Iranian leaders on foreign hand in protests\n",
      "washingtonpost.com Gene Cernan , last astronaut on the moon , dies at 82\n",
      "washingtonpost.com The Latest : Saudi Arabia cuts diplomatic ties to Qatar\n",
      "bloomberg.com Christie : At Least I Did n't Dump Nachos on Cubs Fan\n",
      "breitbart.com Trump administration sides with Ohio on purging voter rolls - Breitbart\n",
      "washingtonpost.com AP Interview : Catalan chief to ask Spain for secession vote\n",
      "nytimes.com The Latest : Report : Port Arthur Flooding Situation Dire\n",
      "foxnews.com Mexico , 2 US states could see Colorado River cutback in 2020\n",
      "nytimes.com Current Miss America : Leadership Bullied , Silenced Me\n",
      "bloomberg.com Mike Huckabee Says He May Buy Home in West Bank Settlement\n",
      "wsj.com Report slams Airbnb in NYC for raising cost of housing\n",
      "foxnews.com Dutch anti Islam lawmaker cancels Prophet cartoon contest\n"
     ]
    }
   ],
   "source": [
    "for r in df[(df.is_ap==True)&(df.domain!='apnews.com')].head(20).itertuples():\n",
    "    print(r.domain, ' '.join(r.tokens))"
   ]
  },
  {
   "cell_type": "code",
   "execution_count": 8,
   "metadata": {},
   "outputs": [],
   "source": [
    "tokens_domains = defaultdict(set)\n",
    "\n",
    "for r in df.itertuples():\n",
    "    tokens_domains[r.tokens_key].add(r.domain)"
   ]
  },
  {
   "cell_type": "code",
   "execution_count": 9,
   "metadata": {},
   "outputs": [
    {
     "data": {
      "text/plain": [
       "[(1, 982699),\n",
       " (2, 10636),\n",
       " (3, 1143),\n",
       " (4, 128),\n",
       " (5, 21),\n",
       " (6, 8),\n",
       " (7, 4),\n",
       " (11, 1),\n",
       " (8, 1)]"
      ]
     },
     "execution_count": 9,
     "metadata": {},
     "output_type": "execute_result"
    }
   ],
   "source": [
    "Counter(map(len, tokens_domains.values())).most_common(10)"
   ]
  },
  {
   "cell_type": "code",
   "execution_count": 10,
   "metadata": {},
   "outputs": [
    {
     "data": {
      "text/plain": [
       "[(('foxnews.com', 'apnews.com'), 3242),\n",
       " (('washingtonpost.com', 'apnews.com'), 1856),\n",
       " (('nytimes.com', 'apnews.com'), 815),\n",
       " (('apnews.com', 'bloomberg.com'), 624),\n",
       " (('washingtonpost.com', 'foxnews.com'), 585),\n",
       " (('apnews.com', 'breitbart.com'), 488),\n",
       " (('thehill.com', 'breitbart.com'), 219),\n",
       " (('thehill.com', 'cnn.com'), 183),\n",
       " (('wsj.com', 'foxnews.com'), 183),\n",
       " (('washingtonpost.com', 'nytimes.com'), 155)]"
      ]
     },
     "execution_count": 10,
     "metadata": {},
     "output_type": "execute_result"
    }
   ],
   "source": [
    "Counter([tuple(ds) for ds in tokens_domains.values() if len(ds)==2]).most_common(10)"
   ]
  },
  {
   "cell_type": "code",
   "execution_count": 11,
   "metadata": {},
   "outputs": [
    {
     "data": {
      "text/plain": [
       "58317"
      ]
     },
     "execution_count": 11,
     "metadata": {},
     "output_type": "execute_result"
    }
   ],
   "source": [
    "len(df[df.domain=='apnews.com'])"
   ]
  },
  {
   "cell_type": "code",
   "execution_count": 12,
   "metadata": {},
   "outputs": [
    {
     "data": {
      "text/plain": [
       "112443"
      ]
     },
     "execution_count": 12,
     "metadata": {},
     "output_type": "execute_result"
    }
   ],
   "source": [
    "len(df[df.domain=='foxnews.com'])"
   ]
  },
  {
   "cell_type": "code",
   "execution_count": 13,
   "metadata": {},
   "outputs": [
    {
     "name": "stdout",
     "output_type": "stream",
     "text": [
      "trump will end north korea s threat to the american homeland in his first term\n",
      "trump has to assume his best friends will flip\n",
      "there will be a republican challenger to trump in #\n",
      "i do nt expect tariffs to have a big impact on the economy\n",
      "i regret not being president\n",
      "nra is a terrorist organization\n",
      "nearly half of white southerners feel like they re under attack\n",
      "comey firing exacerbates the erosion of trust in our institutions\n",
      "will you stop calling the press the enemy of the people\n",
      "it is in trump s best interest to sign russia sanctions bill\n",
      "i have a great chapter on russia in my book\n",
      "warren on taking dna test to prove native american heritage\n",
      "we re going to start renegotiating nafta\n",
      "we do not curate or censor based on viewpoint\n",
      "kathy griffin should be ashamed of herself\n",
      "nfl players have every right to take a knee\n",
      "presidents obama clinton were outplayed by north korea\n",
      "berkeley reverses decision to cancel ann coulter speech\n",
      "russia probe is not a witch hunt\n",
      "jim crow s nieces and nephews are in the white house\n",
      "drink contaminated water until you tap out or resign\n",
      "if you re a trump supporter do nt come to my show\n",
      "if there was any trump russia collusion it would have leaked months ago\n",
      "trump had his opportunity and he whiffed\n",
      "comey may be under investigation\n",
      "i am retiring from political commentary\n",
      "i m not comfortable with trump sending troops to southern border\n",
      "when i pray i kneel\n",
      "what is going on in our heads where we let that happen\n",
      "ginsburg refers to graham as one of the women of the senate\n",
      "sexual harassment allegations against trump remain very disturbing\n",
      "i think stormy daniels is telling the truth\n",
      "america is a gun happy country\n",
      "business group s poll shows support for gop tax law\n",
      "do nt even think about firing mueller\n",
      "do nt criticize immigration ban until you recognize the problems\n",
      "nobody will be worse off financially\n",
      "trump north korea threats the art of the bluff\n",
      "i would nt use the term witch hunt\n",
      "trump administration s lack of focus on election security an embarrassment\n",
      "send trump to a retirement home in moscow where he belongs\n",
      "fbi needs to stop running around on witch hunts\n",
      "kavanaugh must recuse himself from mueller related cases\n",
      "media spend too much time talking about themselves\n",
      "we do nt need to be building walls\n",
      "bannon to stick with moore say people close to breitbart chief\n",
      "you guys are getting played\n",
      "democracy dies in darkness\n",
      "it s time to move on\n",
      "do not walk the plank and vote for a bill that can not pass the senate\n",
      "kamala harris positions herself for white house run\n",
      "the fake news media is out of control\n",
      "we re right where we want to be\n",
      "media constantly wants to talk about something that does nt exist\n",
      "block gorsuch or face primaries\n",
      "spike lee wears god protect robert mueller shirt on cnn\n",
      "trump s first month makes it harder to call him mr president\n",
      "john kerry wo nt rule out # white house run\n",
      "trump has lied as no president of the united states in my lifetime has\n",
      "trump lawyer sues buzzfeed fusion gps for defamation over dossier\n",
      "trump makes it hard to give up cursing for lent\n",
      "every day i believe more in karma\n",
      "stop being so jealous of fox news\n",
      "teaching harder in the age of trump\n",
      "we re in impeachment territory\n",
      "five takeaways from the georgia special election\n",
      "i do nt honor him i do nt respect him\n",
      "why do you take so much money from the nra\n",
      "i need to make the military more lethal\n",
      "these women have been given fake jobs\n",
      "the president is a racist\n",
      "trump administration has done nothing\n",
      "if you ca nt come legally do nt come at all\n",
      "you get the politicians you deserve if you do nt vote\n",
      "trump s strategy is let the warfighters fight the war\n",
      "government has no business deporting immigrants who have been in us for years\n",
      "you could nt imagine a more juvenile response to a mass killing\n",
      "appeals court upholds texas voter id law\n",
      "we do nt want any more inexperienced trumps in the white house\n",
      "the fake news complex is collapsing\n",
      "it s a dangerous time for the first amendment\n",
      "no concerns about cohen cooperating with investigators\n",
      "trump s corporate tax rate goal may not be achievable\n",
      "i m never coming back on this show\n",
      "background checks offer false senses of security\n",
      "i did nt want to leave dhs but god punished me\n",
      "russia failed to live up to its commitments under the chemical weapons agreements\n",
      "take the guns first go through due process second\n",
      "breitbart charts path for # midterm races\n",
      "presidential leadership would be helpful\n",
      "it should be an abolish trump movement not an abolish ice movement\n",
      "all we have is hope\n",
      "our core values as a nation are under attack\n",
      "dems may use spending bills to restore obamacare subsidies\n",
      "new white house chief of staff needs to protect mueller from trump\n",
      "florida voters should nt monkey this up by voting for gillum\n",
      "trump is mentally unstable\n",
      "democrats want a government shutdown\n",
      "border tax probably would nt pass the senate\n",
      "trump right that there was surveillance\n",
      "willing to testify under oath\n",
      "democrats have totally abandoned daca\n",
      "trump a distraction in and of himself\n",
      "trump committed treason in helsinki\n",
      "no one questions the stability of the president\n",
      "i still do nt know that for a fact\n",
      "trump seems to get more enraged by female criticism\n",
      "trump has to retract wiretap claim or provide information\n",
      "lost the alabama race\n",
      "we ca nt be mean enough to trump\n",
      "no plans to run for president\n",
      "trump lawyer sends cease and desist letter to bannon\n",
      "all allegations should be treated seriously\n",
      "winners make policy and losers go home\n",
      "we all have a responsibility to not stay silent now\n",
      "trump pardoning manafort would be grounds for impeachment\n",
      "cnn s angela rye refuses to say trump is her president\n",
      "republicans are going to get tired of winning\n",
      "i did nt mean that trump committed treason\n",
      "i did nt vote for this president last november\n",
      "trump seems to harbor racist feelings\n",
      "attack on syria one of the president s finest hours\n",
      "republicans have a penchant for nazis\n",
      "i threaten trump supporters all the time\n",
      "i do nt think mueller probe is a witch hunt\n",
      "gillum wants to turn florida into venezuela\n",
      "america has to get rid of trump\n",
      "trudeau overreacting to tariffs\n",
      "doj let russian lawyer into us before she met with trump team\n",
      "new gop obamacare repeal bill gains momentum\n",
      "russia threatens to ban facebook\n",
      "i hope # brings more ethical leadership\n",
      "we ought to say thank you and welcome them\n",
      "trump approval at # percent\n",
      "ryan should replace nunes on intel chair\n",
      "we ve got to stop the administration from sabotaging the private insurance market\n",
      "marijuana is not a factor in the drug war\n",
      "anger at mueller burns hot on the right\n",
      "playboy model who goes on hannity voted for trump\n",
      "trump does nt want to meddle with medicare or social security\n",
      "trump has made concerted effort to divide people based on race\n",
      "i m basically a liberal jew\n",
      "the president of the united states is racist\n",
      "i wanted it burned in my eyes\n",
      "there are tears in the eyes of the statue of liberty\n",
      "trump job approval at # percent\n",
      "cohen claim that trump knew of trump tower meeting flat out untrue\n",
      "trump aide stephen miller rips wolff book as grotesque work of fiction\n",
      "fbi launches new clinton foundation investigation\n",
      "it s not wrongdoings\n",
      "this country is lost\n",
      "priebus bannon trash reports of division\n",
      "supreme court rules for texas in redistricting case\n",
      "let s put you in the ground\n",
      "if obama cured cancer trump would try to bring it back\n",
      "he does nt give a f\n",
      "i think about leaving the gop every morning when i wake up\n",
      "there is concern across europe about what trump might promise putin\n",
      "inconvenience to # percent of travelers a small price to pay\n",
      "trump rallies reflect spasms of a dying party\n",
      "it would be legitimate to investigate op ed author for criminal activity\n",
      "we have no smoking gun at this point\n",
      "this is not the way to run a government\n",
      "i have yet to see definitive evidence of collusion\n",
      "i have a regret that i am not president\n",
      "trump did not make a good deal on debt ceiling\n",
      "allegations against candidate falling apart\n",
      "obamacare supporters are the stupidest dumbass people i ve ever met\n",
      "trump wants to end legal immigration to the us\n",
      "trump serving as his own chief of staff could very well play out\n",
      "an embarrassment on the international stage\n",
      "we do nt have stars anymore\n",
      "do nt give us a reason to fight\n",
      "i would do it again in a heartbeat\n",
      "he s saying why do nt you talk less and go listen to america more\n",
      "trump did nt hear merkel s handshake request\n",
      "keith olbermann calls for immediate arrest of jared kushner\n",
      "vicente fox calls on trump to apologize to mexico\n",
      "almost impossible for me to work with trump\n",
      "who will check facebook s fact checkers\n",
      "i do nt know if i ll run in #\n",
      "we have provided enormous evidence of voter fraud\n",
      "trump did a great service for peace with jerusalem announcement\n",
      "what is the white house afraid of\n",
      "david hogg s attempt to end laura ingraham s career sets dangerous precedent\n",
      "i do nt know if trump can stitch the country back together again\n",
      "i want people in handcuffs\n",
      "trump will very likely fire sessions after midterms\n",
      "i m thinking about pulling ice out of california\n",
      "trump will take credit for jobs report whether he deserves it or not\n",
      "trump trying to force sanctuary cities into becoming fugitive slave catchers\n",
      "there is no such thing as obamacare anymore\n",
      "i m an admirer of steve bannon\n",
      "if trump does nt call himself a genius nobody else will\n",
      "stormy daniels lawyer claims client was threatened with physical harm\n",
      "right now i am undecided\n",
      "liberals would kill themselves if trump won nobel prize\n",
      "comey a man of integrity as far as i know\n",
      "you do nt deserve a bullet\n",
      "let s not be charlie brown to north korea s lucy\n",
      "i will never watch another nfl game due to anthem protests\n",
      "trump is a disgusting poor excuse of a man\n",
      "corker tweet criticizing trump incredibly irresponsible\n",
      "melania is trying to self deport from the white house\n",
      "the senate is starting from scratch on healthcare\n",
      "forget about replacing sessions during recess\n",
      "trump s tax plan a home run\n",
      "this was not the language used\n",
      "terrorists do not worship god they worship death\n",
      "i do nt believe journalists are the enemy of the people\n",
      "trump s moral authority is compromised\n",
      "we ll handle north korea\n",
      "game of thrones has nothing on this white house\n",
      "i am not talking about impeachment\n",
      "doj fbi irs cia were all involved in trying to take down donald trump\n",
      "he seems to think that the real victim is him\n",
      "we re here to stay\n",
      "trump should stop bragging about americans losing health insurance\n",
      "we wo nt tell the press what s in it\n"
     ]
    }
   ],
   "source": [
    "for ts, ds in tokens_domains.items():\n",
    "    if ds == {'breitbart.com', 'thehill.com'}:\n",
    "        print(' '.join(ts))"
   ]
  },
  {
   "cell_type": "code",
   "execution_count": null,
   "metadata": {},
   "outputs": [],
   "source": []
  }
 ],
 "metadata": {
  "kernelspec": {
   "display_name": "Python 3",
   "language": "python",
   "name": "python3"
  },
  "language_info": {
   "codemirror_mode": {
    "name": "ipython",
    "version": 3
   },
   "file_extension": ".py",
   "mimetype": "text/x-python",
   "name": "python",
   "nbconvert_exporter": "python",
   "pygments_lexer": "ipython3",
   "version": "3.7.0"
  }
 },
 "nbformat": 4,
 "nbformat_minor": 2
}
