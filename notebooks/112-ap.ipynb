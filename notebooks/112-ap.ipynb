{
 "cells": [
  {
   "cell_type": "code",
   "execution_count": 21,
   "metadata": {},
   "outputs": [],
   "source": [
    "import pandas as pd\n",
    "\n",
    "from collections import defaultdict, Counter\n",
    "from tqdm import tqdm\n",
    "\n",
    "from news_vec.utils import read_json_gz_lines"
   ]
  },
  {
   "cell_type": "code",
   "execution_count": 3,
   "metadata": {},
   "outputs": [],
   "source": [
    "pd.options.display.max_rows = 500"
   ]
  },
  {
   "cell_type": "code",
   "execution_count": 4,
   "metadata": {},
   "outputs": [],
   "source": [
    "df = pd.DataFrame(list(read_json_gz_lines('../data/clf-articles.json/')))"
   ]
  },
  {
   "cell_type": "code",
   "execution_count": 5,
   "metadata": {},
   "outputs": [],
   "source": [
    "df['tokens_key'] = df.clf_tokens.apply(lambda ts: tuple(ts))"
   ]
  },
  {
   "cell_type": "code",
   "execution_count": 6,
   "metadata": {},
   "outputs": [],
   "source": [
    "ap_hls = set(map(tuple, df[df.domain=='apnews.com'].clf_tokens))"
   ]
  },
  {
   "cell_type": "code",
   "execution_count": 7,
   "metadata": {},
   "outputs": [],
   "source": [
    "df['is_ap'] = df.clf_tokens.apply(lambda ts: tuple(ts) in ap_hls)"
   ]
  },
  {
   "cell_type": "code",
   "execution_count": 8,
   "metadata": {},
   "outputs": [
    {
     "name": "stdout",
     "output_type": "stream",
     "text": [
      "foxnews.com Trump to award first Medal of Honor to Vietnam Army medic\n",
      "foxnews.com Protection petitions filed for 2 girls in mutilation case\n",
      "washingtonpost.com Bill Cosby convicted of drugging and molesting a woman\n",
      "foxnews.com FBI seeks motive for fiery van crash at California air base\n",
      "foxnews.com Socialist utopia a hard sell as France swings right\n",
      "wsj.com Stan Kroenke Makes Offer to Take Full Ownership of Arsenal\n",
      "nytimes.com Criticism of US Sanctions Returns in Iran After Earthquake\n",
      "bloomberg.com Conway Suggests Surveillance of Trump Went Beyond Phones\n",
      "foxnews.com AP FACT CHECK : Iranian leaders on foreign hand in protests\n",
      "washingtonpost.com Gene Cernan , last astronaut on the moon , dies at 82\n",
      "washingtonpost.com The Latest : Saudi Arabia cuts diplomatic ties to Qatar\n",
      "bloomberg.com Christie : At Least I Did n't Dump Nachos on Cubs Fan\n",
      "breitbart.com Trump administration sides with Ohio on purging voter rolls - Breitbart\n",
      "washingtonpost.com AP Interview : Catalan chief to ask Spain for secession vote\n",
      "nytimes.com The Latest : Report : Port Arthur Flooding Situation Dire\n",
      "foxnews.com Mexico , 2 US states could see Colorado River cutback in 2020\n",
      "nytimes.com Current Miss America : Leadership Bullied , Silenced Me\n",
      "bloomberg.com Mike Huckabee Says He May Buy Home in West Bank Settlement\n",
      "wsj.com Report slams Airbnb in NYC for raising cost of housing\n",
      "foxnews.com Dutch anti Islam lawmaker cancels Prophet cartoon contest\n"
     ]
    }
   ],
   "source": [
    "for r in df[(df.is_ap==True)&(df.domain!='apnews.com')].head(20).itertuples():\n",
    "    print(r.domain, ' '.join(r.tokens))"
   ]
  },
  {
   "cell_type": "code",
   "execution_count": 22,
   "metadata": {},
   "outputs": [
    {
     "name": "stderr",
     "output_type": "stream",
     "text": [
      "1081790it [00:04, 230688.46it/s]\n"
     ]
    }
   ],
   "source": [
    "tokens_domains = defaultdict(set)\n",
    "\n",
    "for r in tqdm(df.itertuples()):\n",
    "    tokens_domains[r.tokens_key].add(r.domain)\n",
    "    \n",
    "df['domains'] = df.tokens_key.apply(lambda ts: tokens_domains[ts])"
   ]
  },
  {
   "cell_type": "code",
   "execution_count": 23,
   "metadata": {},
   "outputs": [
    {
     "data": {
      "text/plain": [
       "[(1, 982699),\n",
       " (2, 10636),\n",
       " (3, 1143),\n",
       " (4, 128),\n",
       " (5, 21),\n",
       " (6, 8),\n",
       " (7, 4),\n",
       " (11, 1),\n",
       " (8, 1)]"
      ]
     },
     "execution_count": 23,
     "metadata": {},
     "output_type": "execute_result"
    }
   ],
   "source": [
    "Counter(map(len, tokens_domains.values())).most_common(10)"
   ]
  },
  {
   "cell_type": "code",
   "execution_count": 24,
   "metadata": {},
   "outputs": [
    {
     "data": {
      "text/plain": [
       "[(('foxnews.com', 'apnews.com'), 3242),\n",
       " (('washingtonpost.com', 'apnews.com'), 1856),\n",
       " (('nytimes.com', 'apnews.com'), 815),\n",
       " (('bloomberg.com', 'apnews.com'), 624),\n",
       " (('washingtonpost.com', 'foxnews.com'), 585),\n",
       " (('breitbart.com', 'apnews.com'), 488),\n",
       " (('breitbart.com', 'thehill.com'), 219),\n",
       " (('cnn.com', 'thehill.com'), 183),\n",
       " (('wsj.com', 'foxnews.com'), 183),\n",
       " (('nytimes.com', 'foxnews.com'), 162)]"
      ]
     },
     "execution_count": 24,
     "metadata": {},
     "output_type": "execute_result"
    }
   ],
   "source": [
    "Counter([tuple(ds) for ds in tokens_domains.values() if len(ds)==2]).most_common(10)"
   ]
  },
  {
   "cell_type": "code",
   "execution_count": 25,
   "metadata": {},
   "outputs": [
    {
     "data": {
      "text/plain": [
       "58317"
      ]
     },
     "execution_count": 25,
     "metadata": {},
     "output_type": "execute_result"
    }
   ],
   "source": [
    "len(df[df.domain=='apnews.com'])"
   ]
  },
  {
   "cell_type": "code",
   "execution_count": 26,
   "metadata": {},
   "outputs": [
    {
     "data": {
      "text/plain": [
       "112443"
      ]
     },
     "execution_count": 26,
     "metadata": {},
     "output_type": "execute_result"
    }
   ],
   "source": [
    "len(df[df.domain=='foxnews.com'])"
   ]
  },
  {
   "cell_type": "code",
   "execution_count": 40,
   "metadata": {},
   "outputs": [
    {
     "name": "stdout",
     "output_type": "stream",
     "text": [
      "Pennsylvania Special Election : What to Watch for\n",
      "Venezuela protests : What you need to know\n",
      "Rapper Mac Miller dead at 26\n",
      "Billionaire banking heir Matthew Mellon dies at 54\n",
      "Pope on sex abuse : \" We showed no care for the little ones \" - Breitbart\n",
      "10 Things to Know for Today\n",
      "US shutting down Dakota Access oil pipeline protest camp\n",
      "Gov. Cuomo : America was never that great - CNN Video\n",
      "US general says nuclear launch order can be refused\n",
      "A look at attacks where vehicles have been used as weapons - Breitbart\n",
      "Opinion | The Syrian operation : The good , the bad and the ugly\n",
      "Giuliani To Mueller : ' Put Up Or Shut Up '\n",
      "Thousands march against election result in Honduras\n",
      "June Jobs Report : Everything You Need to Know\n",
      "Obama Awards Biden Presidential Medal of Freedom\n",
      "Pope Repeats ' Bridges Not Walls ' After Trump Travel Ban\n",
      "North Korea launches ballistic missile : Live updates\n",
      "The criminalization of blackness — and what we can do about it\n",
      "Women 's March on Washington\n",
      "French Parliamentary Elections : What to Watch For\n"
     ]
    }
   ],
   "source": [
    "for ts in df[df.domains.apply(len) > 3].head(20).tokens:\n",
    "    print(' '.join(ts))"
   ]
  },
  {
   "cell_type": "code",
   "execution_count": 43,
   "metadata": {},
   "outputs": [
    {
     "data": {
      "text/plain": [
       "20256"
      ]
     },
     "execution_count": 43,
     "metadata": {},
     "output_type": "execute_result"
    }
   ],
   "source": [
    "len(df[(df.is_ap==True)&(df.domains.apply(len)>1)])"
   ]
  },
  {
   "cell_type": "code",
   "execution_count": 44,
   "metadata": {},
   "outputs": [
    {
     "data": {
      "text/plain": [
       "29412"
      ]
     },
     "execution_count": 44,
     "metadata": {},
     "output_type": "execute_result"
    }
   ],
   "source": [
    "len(df[(df.domains.apply(len)>1)])"
   ]
  },
  {
   "cell_type": "code",
   "execution_count": 45,
   "metadata": {},
   "outputs": [
    {
     "data": {
      "text/plain": [
       "1081790"
      ]
     },
     "execution_count": 45,
     "metadata": {},
     "output_type": "execute_result"
    }
   ],
   "source": [
    "len(df)"
   ]
  },
  {
   "cell_type": "code",
   "execution_count": 46,
   "metadata": {},
   "outputs": [
    {
     "data": {
      "text/plain": [
       "10518"
      ]
     },
     "execution_count": 46,
     "metadata": {},
     "output_type": "execute_result"
    }
   ],
   "source": [
    "len(df[(df.domain=='apnews.com')&(df.domains.apply(len)>1)])"
   ]
  },
  {
   "cell_type": "code",
   "execution_count": null,
   "metadata": {},
   "outputs": [],
   "source": []
  }
 ],
 "metadata": {
  "kernelspec": {
   "display_name": "Python 3",
   "language": "python",
   "name": "python3"
  },
  "language_info": {
   "codemirror_mode": {
    "name": "ipython",
    "version": 3
   },
   "file_extension": ".py",
   "mimetype": "text/x-python",
   "name": "python",
   "nbconvert_exporter": "python",
   "pygments_lexer": "ipython3",
   "version": "3.7.0"
  }
 },
 "nbformat": 4,
 "nbformat_minor": 2
}
