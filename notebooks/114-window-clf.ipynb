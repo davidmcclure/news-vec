{
 "cells": [
  {
   "cell_type": "code",
   "execution_count": 9,
   "metadata": {},
   "outputs": [],
   "source": [
    "from collections import Counter\n",
    "from itertools import chain\n",
    "\n",
    "from news_vec.corpus import Corpus"
   ]
  },
  {
   "cell_type": "code",
   "execution_count": 14,
   "metadata": {},
   "outputs": [],
   "source": [
    "import matplotlib as mpl\n",
    "import matplotlib.pyplot as plt\n",
    "import altair as alt\n",
    "import seaborn as sns\n",
    "\n",
    "mpl.style.use('seaborn-muted')\n",
    "sns.set(style=\"whitegrid\")"
   ]
  },
  {
   "cell_type": "code",
   "execution_count": 3,
   "metadata": {},
   "outputs": [
    {
     "name": "stderr",
     "output_type": "stream",
     "text": [
      "2019-01-18 15:14:46,446 | INFO : Reading headlines.\n",
      "1081790it [00:15, 68173.44it/s]\n"
     ]
    }
   ],
   "source": [
    "c = Corpus('../data/clf-articles.json/')"
   ]
  },
  {
   "cell_type": "code",
   "execution_count": 17,
   "metadata": {},
   "outputs": [
    {
     "data": {
      "text/plain": [
       "<matplotlib.axes._subplots.AxesSubplot at 0x11e0d9cc0>"
      ]
     },
     "execution_count": 17,
     "metadata": {},
     "output_type": "execute_result"
    },
    {
     "data": {
      "image/png": "[encoded data removed]",
      "text/plain": [
       "<Figure size 720x360 with 1 Axes>"
      ]
     },
     "metadata": {
      "needs_background": "light"
     },
     "output_type": "display_data"
    }
   ],
   "source": [
    "plt.figure(figsize=(10,5))\n",
    "sns.countplot(list(chain(*c.df.windows)))"
   ]
  },
  {
   "cell_type": "code",
   "execution_count": 20,
   "metadata": {},
   "outputs": [],
   "source": [
    "c.df['clf_ratio'] = c.df.apply(lambda r: len(r.clf_tokens) / len(r.tokens), 1)"
   ]
  },
  {
   "cell_type": "code",
   "execution_count": 27,
   "metadata": {},
   "outputs": [
    {
     "name": "stdout",
     "output_type": "stream",
     "text": [
      "Trump warns Puerto Rico : ' We can not keep FEMA , the Military & the First Responders .   .   . forever ! ' the first responders forever\n",
      "Trump warns Puerto Rico : ' We can not keep FEMA , the Military & the First Responders .   .   . forever ! ' the first responders forever\n",
      "' I , Donald John Trump .   .   . ' : The 38 most momentous words President Trump said at his inauguration i donald john trump\n",
      "* * * LIVE AT 10 PM ET * * * Milo University of Washington : ' Cyberbullying Is n't Real ' - Breitbart cyberbullying is nt real\n",
      "Polling Mixed on Florida Senate - - CBS News YouGov : Scott + 5 , NBC News Marist : Nelson + 4 | Breitbart # nbc news marist\n",
      "CNN 's Zakaria on Immigration : Trump Seems ' Racist ' - GOP ' Ugly , ' ' Encouraging ' Bigotry ' - Breitbart gop ugly encouraging bigotry\n",
      "Asia Expert : Bannon ' Today 's Paul Revere ' on China—'The Bannon Express ' Putting ' Communists Giants ' & Globalists in ' Grave Danger ' - Breitbart bannon express putting communists giants\n",
      "NBC 's Allen : Dems ' Somewhat Desperate , ' ' Demoralized ' - ' See a Hero in Obama ' - Breitbart dems somewhat desperate demoralized\n",
      "Overnight Tech : Silicon Valley blasts Trump DACA decision | Zuckerberg calls it ' sad day ' for country | Apple 's Cook ' dismayed ' | Lenovo settles FTC privacy charges | Google faces blowback over think tank firing zuckerberg calls it sad day for country\n",
      "CNN 's Anderson Cooper Blasts Trump - ' You Tool ! Pathetic Loser ' ( Update : Hacked ? ) - Breitbart you tool pathetic loser\n",
      "' Never Trumper ' Bret Stephens : POTUS Supporters ' Idiots ' & Bigots , Should ' Admire ' Elites - Breitbart bigots should admire elites\n",
      "' Soon , ' ' Very Soon , ' ' Eventually ' : A Detailed List of Things Trump Said Would Happen soon very soon eventually\n",
      "Cooking with ' Friends ' : Eboni Williams ' Salmon Kebabs | In the Greenroom - Fox & Friends | Fox News eboni williams salmon kebabs\n",
      "Mom : ' Is He Jewish ? ' Me : ' No . ' Mom : ' Is He Smart ? ' is he jewish me\n",
      "John McCain Rips Trump Putin Presser : ' Pathetic , ' ' Disgraceful , ' ' Erratic , ' ' Painful ' pathetic disgraceful erratic painful\n",
      "Opinion | Mueller 's first question for Trump : \" WHAT . DID . YOU . DO ? ? ? ? \" what did you do\n",
      "Mom : ' Is He Jewish ? ' Me : ' No . ' Mom : ' Is He Smart ? ' is he jewish me\n",
      "Sen Grassley Disparages Middle Class as : \" spending every darn penny they have - on booze , or women , \" on booze or women\n",
      "* * * LIVE AT 9 PM ET * * * MILO at Cal Poly : ' No More Dead Babies ' no more dead babies\n",
      "' Never Trumper ' Bret Stephens : POTUS Supporters ' Idiots ' & Bigots , Should ' Admire ' Elites - Breitbart bigots should admire elites\n",
      "UPDATE : Fmr contestant : Ivanka confirmed Donald bursting in on naked girls : \" Yeah , he does that . \" yeah he does that\n",
      "' Never Trumper ' Bret Stephens : POTUS Supporters ' Idiots ' & Bigots , Should ' Admire ' Elites - Breitbart bigots should admire elites\n",
      "John Conyers ' Son And Appointed Successor : ' My N*ggas ' Deal Drugs , ' Dad Is A F***ing Player ' [ VIDEO ] Via dailycaller deal drugs dad is a\n",
      "Analysis | Trump insists that senators ( who won without him ) owe him loyalty ( that is n't returned ) that is nt returned\n",
      "Rep. Elijah Cummings : \" This is what they [ Trump and his allies ] tried to cover up . \" tried to cover up\n",
      "Hollywood Celebrates Samantha Bee Calling Ivanka Trump a ' C**t ' : ' Brilliant , ' ' Right on Target ' brilliant right on target\n",
      "' The Perfect Cake ' and ' Cake ' Reviews : Coconut , Carrot , Pound , Layer . . . coconut carrot pound layer\n",
      "Hollywood Celebrates Samantha Bee Calling Ivanka Trump a ' C**t ' : ' Brilliant , ' ' Right on Target ' brilliant right on target\n",
      "Fox News Judicial Analyst Rips Trump 's Lawyers : ' A Disgrace , ' ' Harmful , ' ' Sophomoric ' a disgrace harmful sophomoric\n",
      "Pollak at PolitiCon - Trump 's Win in Three Words : ' Trade , Immigration , and Islam ' - Breitbart trade immigration and islam\n",
      "The Doomsday Clock just advanced again : It 's now two and a - half minutes to ' midnight . ' half minutes to midnight\n",
      "Watch : All the Super Bowl Movie and TV Trailers - ' Jurassic Park , ' ' Star Wars , ' ' Mission : Impossible ' jurassic park star wars mission\n",
      "Levin Lauds Sanders : You Are ' Attractive , ' ' Courageous , ' ' Professional ' — Slams ' Dogs ' Of Media Via dailycaller you are attractive courageous professional\n",
      "SJWs Melt Down over Eli Roth 's ' Death Wish ' Trailer : ' Alt Right , ' ' Racist , ' ' Nakedly Fascist ' alt right racist nakedly fascist\n",
      "Trump on tax cuts , healthcare : ' We are all pushing hard - must get it right ! ' must get it right\n",
      "Advice , How To & Miscellaneous Books - Best Sellers - June 4 , 2017 - The New York Times the new york times\n",
      "Analysis | Why presidential candidates – like Trump – campaign as isolationists but — like Trump — govern as hawks campaign as isolationists but\n",
      "Trump Responds To Barcelona Terror Attack : ' Be Tough & Strong , We Love You ! ' Via dailycaller strong we love you\n",
      "Combined Print & E Book Fiction Books - Best Sellers - January 14 , 2018 - The New York Times the new york times\n",
      "Combined Print & E Book Nonfiction Books - Best Sellers - December 24 , 2017 - The New York Times the new york times\n",
      "Combined Print & E Book Nonfiction Books - Best Sellers - October 29 , 2017 - The New York Times the new york times\n",
      "Advice , How To & Miscellaneous Books - Best Sellers - September 3 , 2017 - The New York Times the new york times\n",
      "Ben Higgs , Tattooed , Talented , & Tenacious About His Work Ethic - A Good Man To Glean From ben higgs tattooed talented\n",
      "Combined Print & E Book Nonfiction Books - Best Sellers - June 4 , 2017 - The New York Times the new york times\n",
      "* * * LIVE AT 9 PM ET * * * MILO   CU Boulder : ' Why Ugly People Hate Me ' - Breitbart why ugly people hate me\n",
      "Real Time Economics : Trade Tensions Escalate ( Again ) | China 's Economy Advances | Employers Turn to Teens employers turn to teens\n",
      "Combined Print & E Book Fiction Books - Best Sellers - September 9 , 2018 - The New York Times the new york times\n",
      "Advice , How To & Miscellaneous Books - Best Sellers - September 10 , 2017 - The New York Times the new york times\n",
      "The Global Search for Education : 革新 , Innovación , Innovation , ابتكار , Inovação , инновация , イノベーション , নবপ্রবর্তিত বস্তু , Innovazione ! the global search for education\n",
      "Advice , How To & Miscellaneous Books - Best Sellers - October 29 , 2017 - The New York Times the new york times\n",
      "Combined Print & E Book Nonfiction Books - Best Sellers - November 26 , 2017 - The New York Times the new york times\n",
      "Combined Print & E Book Nonfiction Books - Best Sellers - February 4 , 2018 - The New York Times the new york times\n",
      "Combined Print & E Book Fiction Books - Best Sellers - June 25 , 2017 - The New York Times the new york times\n",
      "Review | At the Riggsby , playfulness — including a ' pot brownie ' — joins the supper club vibe including a pot brownie\n",
      "Advice , How To & Miscellaneous Books - Best Sellers - February 19 , 2017 - The New York Times the new york times\n",
      "John Lewis on Boycotting Inauguration : I ' Withdraw From Evil ' - Election Not ' Legitimate ' - Breitbart i withdraw from evil\n",
      "Advice , How To & Miscellaneous Books - Best Sellers - May 21 , 2017 - The New York Times the new york times\n",
      "Combined Print & E Book Fiction Books - Best Sellers - January 21 , 2018 - The New York Times the new york times\n",
      "Combined Print & E Book Nonfiction Books - Best Sellers - October 15 , 2017 - The New York Times the new york times\n",
      "Tucker 's Full Interview With Milo Yiannopoulos — ' What Is Hate Speech ? ' [ VIDEO ] Via dailycaller what is hate speech\n",
      "Fmr . U.S. attys & Fmr . Sr . FBI official : Trump may ( inadvertently ) lie with Mueller fmr sr fbi official\n",
      "Advice , How To & Miscellaneous Books - Best Sellers - October 1 , 2017 - The New York Times the new york times\n",
      "Steyn on Calls for Unity Post Shooting : ' We Do n't Actually Need Unity - We Need Robust , Civilized Disunity ' - Breitbart we need robust civilized disunity\n",
      "First Listen : Simone Dinnerstein & A Far Cry , ' Circles : Piano Concertos by Bach & Glass ' a far cry circles\n",
      "Combined Print & E Book Fiction Books - Best Sellers - December 10 , 2017 - The New York Times the new york times\n",
      "Combined Print & E Book Nonfiction Books - Best Sellers - October 22 , 2017 - The New York Times the new york times\n",
      "Advice , How To & Miscellaneous Books - Best Sellers - November 19 , 2017 - The New York Times the new york times\n",
      "Combined Print & E Book Fiction Books - Best Sellers - August 26 , 2018 - The New York Times the new york times\n",
      "Combined Print & E Book Nonfiction Books - Best Sellers - November 5 , 2017 - The New York Times the new york times\n",
      "Celebs Meltdown over Border Enforcement : ' Nazis , ' ' F**king Kidnappers , ' ' Torturing of Children ' kidnappers torturing of children\n",
      "Prez More Popular than Congress : Trump 40 % , Ryan 39 % , Pelosi 34 % , Schumer 31 % , McConnell 27 % prez more popular than congress\n",
      "Rep. Waters on Kanye 's Trump Praise : ' Sometimes Talks Out of Turn ' - ' Needs Assistance ' in ' Formulating Thoughts ' needs assistance in formulating thoughts\n",
      "Combined Print & E Book Nonfiction Books - Best Sellers - September 17 , 2017 - The New York Times the new york times\n",
      "Advice , How To & Miscellaneous Books - Best Sellers - January 7 , 2018 - The New York Times the new york times\n",
      "Combined Print & E Book Fiction Books - Best Sellers - September 17 , 2017 - The New York Times the new york times\n",
      "Skip Bayless on Titans ' Casey Saluting Anthem : ' Weak , ' ' Lost All Respect ' | Breitbart weak lost all respect\n",
      "Christie To MSNBC Host : ' These Are Important Words … Use Them Right ' [ VIDEO ] Via dailycaller these are important words\n",
      "CA 25 , 39 , 45 , 58 & 49 : Sen. Elizabeth Warren ( D. MA ) Helps The Blue Wave Hit California Hard ca # # # #\n",
      "Combined Print & E Book Fiction Books - Best Sellers - October 8 , 2017 - The New York Times the new york times\n",
      "Analysis | ' Sprawling , ' ' rorschachian , ' ' corrosive ' to democracy : Pennsylvania 's top court condemns state 's gerrymandered districts sprawling rorschachian corrosive to democracy\n",
      "Combined Print & E Book Fiction Books - Best Sellers - September 3 , 2017 - The New York Times the new york times\n",
      "Combined Print & E Book Nonfiction Books - Best Sellers - February 19 , 2017 - The New York Times the new york times\n",
      "Opinion | Janet Napolitano : Congress has the power — and the responsibility — to protect the ' dreamers ' to protect the dreamers\n",
      "Combined Print & E Book Nonfiction Books - Best Sellers - October 8 , 2017 - The New York Times the new york times\n",
      "Combined Print & E Book Fiction Books - Best Sellers - March 11 , 2018 - The New York Times the new york times\n",
      "What 's on TV Saturday : ' Hacksaw Ridge ' and ' Gone : The Forgotten Women of Ohio ' hacksaw ridge and gone\n",
      "South Korean military : North Korean missile flies 2,700 kilometers ( 1678 miles ) , with height of 550 km ( 341 miles ) with height of # km\n",
      "Analysis | From ' tone deaf ' to ' textbook ' : Experts review the United CEO 's first — and latest — apology from tone deaf to textbook\n",
      "Real Time Economics : The Fed 's Emerging Market Fallout | Oil and Politics Do n't Mix | Why Are Americans Working Longer ? why are americans working longer\n",
      "Chuck Todd : Bill O'Reilly Not a ' Traditional Conservative ' - ' Tone Setter , ' ' Anti Political Correctness ' - Breitbart tone setter anti political correctness\n",
      "Kurtz : Trump 's Attack on Todd ' A Mistake ' - ' Undignified , ' ' Not a Good Look ' | Breitbart undignified not a good look\n",
      "MOLINA CEO TO RYAN / TRUMP : \" You think I 'm f*cking with you ? I am not f*cking with you . \" with you i am not\n",
      "Real Time Economics : U.S. China Tensions Easing ? | ' Nowhere Near ' a Nafta Deal | Mortgage Rates Hit 7 Year High nowhere near a nafta deal\n",
      "ACA WEEK 4 : 3.2 million enrollments * confirmed * , 4.5 million * estimated* ... but what 's up w / WV ? but what s up w\n",
      "* * * LIVE WIRE * * * ' Harvey ' Moves Back to Gulf , 100K+ Ordered Evacuated in Advance of River Flooding harvey moves back to gulf\n",
      "Dem Rep Nadler : Abolishing ICE ' A Distraction ' - ' Not the Main Question ' | Breitbart not the main question\n",
      "Music Review : \" Future Telephone \" – Alternative , But Good , Jazz / Rock From Madeline Tasquin alternative but good jazz\n",
      "President Trump arrives at Mar a - Lago — the ' Winter White House ' — for the holidays the winter white house\n",
      "Listen to ' Dear Sugars ' : The Invisible Work ( Most ) Women Do — With Gemma Hartley listen to dear sugars\n",
      "' Disgraceful , ' ' Pushover , ' ' Deeply Troubled ' : Reaction To The Trump Putin Summit disgraceful pushover deeply troubled\n",
      "CNN 's Smerconish : ' If You Act Like a HansA**holeSolo , ' You Should Be Outed - Breitbart you should be outed\n",
      "Antifa Group : Give ' Self Important Little S**tstain ' David Hogg ' A Wedgie ' [ VIDEO ] david hogg a wedgie\n",
      "Analysis | George W. Bush 's speechwriter on Trump budget : ' Unrealistic , cruel and obscene . ' unrealistic cruel and obscene\n",
      "TN Sen : James Mackler ( D ) Hits Bob Corker 's ( R ) On Insider Trading Investigation on insider trading investigation\n",
      "Real Time Economics : China Tariffs | Korea Trade Pact | New York Fed Prez | Health Insurance Subsidies new york fed prez\n",
      "Nunes : DNC Lawsuit a ' Joke ' - - They Should   ' Sue Themselves ' | Breitbart they should sue themselves\n",
      "CNN 's Smerconish : ' If You Act Like a HansA**holeSolo , ' You Should Be Outed - Breitbart you should be outed\n",
      "5 things for September 11 : 9/11 , White House , Russia & China , Dallas shooting , trash china dallas shooting trash\n",
      "Arpaio Reacts to Trump Pardon : ' I Love That President - He Supports Law Enforcement ' - Breitbart he supports law enforcement\n",
      "Overnight Energy : Watchdogs unveil findings on EPA , Interior controversies | GAO says EPA violated law with soundproof booth | IG says Zinke could have avoided charter flight | GOP chair probes Pruitt 's four email addresses gop chair probes pruitt s four email addresses\n",
      "' Low IQ , ' ' SPECTACULAR , ' ' Dog ' : How Trump Tweets About African Americans low iq spectacular dog\n",
      "Analysis | Why not limit Neil Gorsuch — and all Supreme Court justices — to 18 year terms ? to # year terms\n",
      "DEAR ACA OPPONENTS w / employer provided healthcare : Either cough up $ 1,730/yr in taxes or STFU . in taxes or stfu\n",
      "Local news anchors trash new Sinclair propaganda plan : ' Manipulative . ' ' Everyone was uncomfortable . ' manipulative everyone was uncomfortable\n",
      "TN Sen : James Mackler ( D ) Hits Bob Corker 's ( R ) On Insider Trading Investigation on insider trading investigation\n",
      "The Story of Adelita : A ( Very ) Long Distance Love Affair ( With a Sea Turtle ) with a sea turtle\n",
      "Arpaio Reacts to Trump Pardon : ' I Love That President - He Supports Law Enforcement ' - Breitbart he supports law enforcement\n",
      "Breitbart News Daily : Fmr . FBI Counterterrorism Agent : ' Vast Majority ' of US Mosques / Islamic Centers Part of ' Jihadi Network ' - Breitbart islamic centers part of jihadi network\n",
      "Overnight Finance : Senate advances changes to Dodd Frank rollback | Trump blocks Broadcom deal | Trump trade adviser 's influence grows | Ryan tries to keep tax cuts in spotlight | Rumors swirl over Cohn replacement ryan tries to keep tax cuts in spotlight\n",
      "Project Veritas Undercover Investigation : CNN Producer Admits Network Hyping ' Mostly Bullsh*t ' Trump Russia Scandal for ' Ratings ' - Breitbart trump russia scandal for ratings\n",
      "CNN 's Baldwin on Delayed Briefing : ' Memo to the White House - - You Can not Avoid Us ' | Breitbart you can not avoid us\n",
      "Overnight Cybersecurity : Comey account rocks DC | Anticipation mounts for hearing | Intel chiefs dodge Trump questions | Trump names FBI pick intel chiefs dodge trump questions\n",
      "Feinstein : Trump ' Is Right ' On Iran — ' Let Me Be Very Clear … ' [ VIDEO ] Via dailycaller trump is right on iran\n",
      "Mike Pence Warns on Hurricane Irma : We Can Rebuild Cities , Buildings - ' We Can not Rebuild Lives ' - Breitbart we can not rebuild lives\n",
      "Real Time Economics : Trump Signs Off On Tariffs | China Slams U.S. Trade Policy | Hey , It 's Jobs Day ! hey it s jobs day\n",
      "Project Veritas Undercover Investigation : CNN Producer Admits Network Hyping ' Mostly Bullsh*t ' Trump Russia Scandal for ' Ratings ' - Breitbart trump russia scandal for ratings\n",
      "Trump 's talk — ' Muslim ban , ' ' Islam hates us ' — comes back to bite him in court again muslim ban islam hates us\n",
      "Dershowitz : 25th Amendment Not ' a Substitute for Impeachment ' - ' Dangerous ' to ' Medicalize ' Political Differences | Breitbart dangerous to medicalize political differences\n",
      "Project Veritas Undercover Investigation : CNN Producer Admits Network Hyping ' Mostly Bullsh*t ' Trump Russia Scandal for ' Ratings ' - Breitbart trump russia scandal for ratings\n",
      "Overnight Cybersecurity : White House wo n't block Comey testimony | Russians reportedly hacked US voting systems maker | Health industry gets cyber report card | Study finds hacks on the rise russians reportedly hacked us voting systems maker\n",
      "Overnight Finance : Dem seeks Treasury probe into Trump , Russia | Koch backed group floats border tax alternatives | Feds raid Caterpillar 's offices | Jobless claims near four decade low dem seeks treasury probe into trump russia\n",
      "Mark Levin : CNN Is Destroying the First Amendment - Jake Tapper Is ' Evil ' - Breitbart jake tapper is evil\n",
      "Hillicon Valley : Trump considers revoking Obama era officials ' security clearances | Record lobbying quarter for Facebook , Amazon | Why Hollywood wants Google hauled before Congress | New worries about supply chain cyber threats trump considers revoking obama era officials security clearances\n",
      "Seahawks Wide Receiver Doug Baldwin : Trump ' Is an Idiot -- Plain and Simple ' | Breitbart trump is an idiot\n",
      "' The Blacklist ' Recap : Season 4 , Episode 9 : ' Lipet 's Seafood Company ' lipet s seafood company\n",
      "Joe Scarborough : Trump is Like Pontius Pilate - - ' Letting Christians Get Slaughtered ' | Breitbart letting christians get slaughtered\n",
      "Analysis | From ' dishonest ' to ' truth ' : Opinions of Donna Brazile have changed dramatically from dishonest to truth\n",
      "MSNBC 's Nicolle Wallace Wonders : ' Are Republicans Dead Inside ? ' [ VIDEO ] Via dailycaller are republicans dead inside\n",
      "Abbreviated Pundit Round up : The danger to Texas ( and to the US ) is still there and to the us\n",
      "Opinion | ' So vote Roy Moore ? ' : ' Fox & Friends ' flusters Kellyanne Conway so vote roy moore\n",
      "Venezuela : Media Count 71 Deaths – over a Dozen Teens – in Anti Socialist Protests - Breitbart in anti socialist protests\n",
      "Perspective | Tom Petty & The Heartbreakers , ' American Girl ' : The Week In One Song the heartbreakers american girl\n",
      "Why did my 401(k ) earn 4 % last year when the S&P was up 10 % ? last year when the\n",
      "Trump Mocks ' Young ' Protester : ' Going Home To Mommy ' [ VIDEO ] Via dailycaller going home to mommy\n",
      "5 things for June 13 : Primaries , North Korea , AT&T Time Warner , Yemen , Macedonia time warner yemen macedonia\n",
      "* * * Live Updates * * * Super Tuesday Primaries : All Eyes on CA | Breitbart all eyes on ca\n",
      "Oregon court : Couple must ' debark ' dogs — cut their vocal cords — after neighbors complain couple must debark dogs\n",
      "SJW Backlash Against Google Staffer : ' I Would Beat The Sh*t Out Of Him ' - Breitbart i would beat the\n",
      "The new gimmick on ( and off ) Broadway : Enjoy the show — and pass the pierogi and pass the pierogi\n",
      "GOP Rep Collins : Charges Against Me ' Meritless ' - I 'm Staying on Ballot | Breitbart charges against me meritless\n",
      "Trump Tells CNN 's Jim Acosta — ' You Are Fake News ' [ VIDEO ] Via dailycaller you are fake news\n",
      "Delingpole : ' Harvey is What Climate Change Looks Like ... ' ( See Also : Katrina ; Sandy ; Matthew ; Every Storm Ever ... ) katrina sandy matthew every storm ever\n",
      "A Tale Of Friendship And Luck ( But Not Pecs ) , Propelled By ' The Room ' propelled by the room\n",
      "Real Time Economics : China 's Shopping List | Rising Costs Squeeze Businesses | California Insists On Solar california insists on solar\n",
      "Atlanta Gym Posts Policy : ' No F * * * * * * Cops ' Via dailycaller atlanta gym posts policy\n",
      "What 's on TV Monday : ' Meow Madness ' and ' Abortion : Stories Women Tell ' meow madness and abortion\n",
      "Trump 's ' Magic Wand ' : MacDonald Says Dow Up 20 % Since Dire Election Day Predictions trump s magic wand\n",
      "What 's on TV Monday : ' In a World … ' and ' The Workers Cup ' and the workers cup\n",
      "Analysis | Trump 's top economic adviser : ' Never believe the CBO … never believe them ' never believe the cbo\n",
      "' Sense8 ' Finale : Gorgeous , Sexy , Completely Nonsensical — Which Is To Say : Perfect gorgeous sexy completely nonsensical\n",
      "Writers in Portrait - The New York Times > Books > Slide Show > Slide 1 of 9 slide # of #\n",
      "Border Patrol Council VP : ' Obama Holdovers ' Keeping ' Catch & Release ' Alive and Well obama holdovers keeping catch\n",
      "Liberal Media Bias Gets KRAUTHAMMERED — ' Their Heads Would Explode … ' [ VIDEO ] Via dailycaller their heads would explode\n",
      "DARCY DONAVAN DEBUTS HER NEWEST SINGLE - \" IT 'S MY LIFE \" [ REMIX BY GALILEE ] it s my life\n",
      "CNN 's Symone Sanders : Blame ' Toxic Masculinity'—Not Illegal Immigration — for Mollie Tibbetts Murder | Breitbart for mollie tibbetts murder\n",
      "Of course they ' colluded ' - why else would 45 * mention ' collusion ' 16 times mention collusion # times\n",
      "Tucker Takes On INSANE Guest : ' Women Are Better , Unfortunately ' [ VIDEO ] Via dailycaller women are better unfortunately\n",
      "Sen Mike Lee On Jeff Flake : ' No One Is Indispensable ' [ VIDEO ] Via dailycaller no one is indispensable\n",
      "The Anti Trump : France 's Macron lectures Europe ( hint : migrants good , borders bad ) migrants good borders bad\n",
      "Venezuela : Media Count 71 Deaths – over a Dozen Teens – in Anti Socialist Protests - Breitbart in anti socialist protests\n",
      "Stephen Miller Defends Trump 's Executive Order : ' The Judiciary Is Not Supreme — All Options Are On The Table ' [ VIDEO ] Via dailycaller all options are on the table\n",
      "Sadie Robertson reveals secret battle with eating disorder : It was ' dark , ' ' ugly ' it was dark ugly\n",
      "Opinion | Dear Ruth Bader Ginsburg : If you need anything — blood , organs — take mine if you need anything\n",
      "' 416 , ' ' Witch , ' ' Not Creative ' : How Fires Get Their Names # witch not creative\n",
      "* * * Live Updates * * * Super Tuesday Primaries : All Eyes on CA | Breitbart all eyes on ca\n",
      "Patriots ( Ho Hum ) Win Again . Dion Lewis ( Who ? ) Shows the Way . win again dion lewis\n",
      "Hillicon Valley : Trump revokes Brennan 's security clearance | Twitter cracks down on InfoWars | AT&T hit with crypto lawsuit | DHS hosts election security exercise trump revokes brennan s security clearance\n",
      "Entertainment News | Latest News , Videos & Photos on Celebrities , Movies & Music | Fox News photos on celebrities movies\n",
      "Tucker Rips Civil Rights Attorney : ' You 're A Fascist ! ' [ VIDEO ] Via dailycaller you re a fascist\n",
      "FULL TEXT – MILO at Cal Poly State University : ' No More Dead Babies ' - Breitbart no more dead babies\n",
      "Howard Dean Tries To Compliment Alabama — ' Backward Blah Blah Blah ' [ VIDEO ] Via dailycaller backward blah blah blah\n",
      "French Filmmaker Luc Besson Blasts ' Captain America : ' ' Propaganda ' about American ' Supremacy ' propaganda about american supremacy\n",
      "Bon Jovi Leads 2018 Rock & Roll Hall of Fame Inductees : ' It 's About Time ' it s about time\n",
      "Autism Without Fear — Green Bay Edition : Erik Johnson , Time … and a Simpler Answer . and a simpler answer\n",
      "' The night America burned ' : The deadliest — and most overlooked — fire in U.S. history the night america burned\n",
      "Mark Levin : CNN Is Destroying the First Amendment - Jake Tapper Is ' Evil ' - Breitbart jake tapper is evil\n",
      "Oregon court : Couple must ' debark ' dogs — cut their vocal cords — after neighbors complain couple must debark dogs\n",
      "Steve Bannon : I Warned Ailes About Megyn Kelly — ' She 's the Devil ' - Breitbart she s the devil\n",
      "Abbreviated Pundit Round up : The danger to Texas ( and to the US ) is still there and to the us\n",
      "Review : Le Carré , the Con Man 's Son : Writer , Liar , Survivor , Spy writer liar survivor spy\n",
      "Maher to Hillary : You F*cked It Up ' - ' Stay in the Woods ' - Breitbart stay in the woods\n",
      "The Anti Trump : France 's Macron lectures Europe ( hint : migrants good , borders bad ) migrants good borders bad\n",
      "Whoopi Goldberg to Trump : ' Nobody Wiretapped Your Ass ! ' - Apologize to Obama - Breitbart nobody wiretapped your ass\n",
      "Steve Bannon : I Warned Ailes About Megyn Kelly — ' She 's the Devil ' - Breitbart she s the devil\n",
      "Trump on asking Comey to end Russia investigation : ' No , no . Next question . ' no no next question\n",
      "Addressing an American Public Health Crisis – the ' Pair of ACEs ' – for Real Community Change the pair of aces\n",
      "Geraldo Rivera To Frederica Wilson : ' Have You No Shame ? ' [ VIDEO ] Via dailycaller have you no shame\n",
      "Seahawks Wide Receiver Doug Baldwin : Trump ' Is an Idiot -- Plain and Simple ' | Breitbart trump is an idiot\n",
      "Democrat Goes After GOP In Fox News Segment : ' You Endorsed An Alleged Pedophile ! ' [ VIDEO ] Via dailycaller you endorsed an alleged pedophile\n",
      "House Intel Chair Nunes : Mueller 's Indictment ' Look   Ridiculous ' - - Leaves Out Targeting of GOP | Breitbart mueller s indictment look ridiculous\n"
     ]
    }
   ],
   "source": [
    "for r in c.df.sort_values('clf_ratio').head(200).itertuples():\n",
    "    print(' '.join(r.tokens), ' '.join(r.clf_tokens))"
   ]
  },
  {
   "cell_type": "code",
   "execution_count": 24,
   "metadata": {},
   "outputs": [
    {
     "data": {
      "text/plain": [
       "['pathetic', 'disgraceful', 'erratic', 'painful']"
      ]
     },
     "execution_count": 24,
     "metadata": {},
     "output_type": "execute_result"
    }
   ],
   "source": [
    "c.df.iloc[374545].clf_tokens"
   ]
  },
  {
   "cell_type": "code",
   "execution_count": 25,
   "metadata": {},
   "outputs": [
    {
     "data": {
      "text/plain": [
       "['John',\n",
       " 'McCain',\n",
       " 'Rips',\n",
       " 'Trump',\n",
       " 'Putin',\n",
       " 'Presser',\n",
       " ':',\n",
       " \"'\",\n",
       " 'Pathetic',\n",
       " ',',\n",
       " \"'\",\n",
       " \"'\",\n",
       " 'Disgraceful',\n",
       " ',',\n",
       " \"'\",\n",
       " \"'\",\n",
       " 'Erratic',\n",
       " ',',\n",
       " \"'\",\n",
       " \"'\",\n",
       " 'Painful',\n",
       " \"'\"]"
      ]
     },
     "execution_count": 25,
     "metadata": {},
     "output_type": "execute_result"
    }
   ],
   "source": [
    "c.df.iloc[374545].tokens"
   ]
  },
  {
   "cell_type": "code",
   "execution_count": null,
   "metadata": {},
   "outputs": [],
   "source": []
  }
 ],
 "metadata": {
  "kernelspec": {
   "display_name": "Python 3",
   "language": "python",
   "name": "python3"
  },
  "language_info": {
   "codemirror_mode": {
    "name": "ipython",
    "version": 3
   },
   "file_extension": ".py",
   "mimetype": "text/x-python",
   "name": "python",
   "nbconvert_exporter": "python",
   "pygments_lexer": "ipython3",
   "version": "3.7.0"
  }
 },
 "nbformat": 4,
 "nbformat_minor": 2
}
