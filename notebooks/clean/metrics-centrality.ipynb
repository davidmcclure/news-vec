{
 "cells": [
  {
   "cell_type": "code",
   "execution_count": 1,
   "metadata": {},
   "outputs": [],
   "source": [
    "import pickle\n",
    "import warnings\n",
    "import random\n",
    "import torch\n",
    "\n",
    "import numpy as np\n",
    "import pandas as pd\n",
    "\n",
    "from tqdm import tqdm\n",
    "from glob import glob\n",
    "from collections import OrderedDict\n",
    "from scipy.spatial import distance\n",
    "from scipy import stats\n",
    "from sklearn import decomposition\n",
    "from annoy import AnnoyIndex\n",
    "\n",
    "from torch.nn import functional as F"
   ]
  },
  {
   "cell_type": "code",
   "execution_count": 2,
   "metadata": {},
   "outputs": [],
   "source": [
    "import matplotlib as mpl\n",
    "import matplotlib.pyplot as plt\n",
    "import altair as alt\n",
    "import seaborn as sns\n",
    "\n",
    "mpl.style.use('seaborn-muted')\n",
    "sns.set(style=\"whitegrid\")\n",
    "\n",
    "%matplotlib inline"
   ]
  },
  {
   "cell_type": "code",
   "execution_count": 3,
   "metadata": {},
   "outputs": [],
   "source": [
    "warnings.simplefilter('ignore')\n",
    "alt.data_transformers.enable('default', max_rows=None)\n",
    "pd.options.display.max_rows = 200"
   ]
  },
  {
   "cell_type": "code",
   "execution_count": 4,
   "metadata": {},
   "outputs": [
    {
     "name": "stderr",
     "output_type": "stream",
     "text": [
      "100%|██████████| 66/66 [00:26<00:00,  2.52it/s]\n"
     ]
    }
   ],
   "source": [
    "embeds, rows = [], []\n",
    "\n",
    "for path in tqdm(glob('../../data/clean-embeds/*.p')):\n",
    "    with open(path, 'rb') as fh:\n",
    "        \n",
    "        lines = pickle.load(fh)\n",
    "\n",
    "        for line in lines:\n",
    "            title = ' '.join(line.pop('tokens'))\n",
    "            embeds.append(line.pop('embedding'))\n",
    "            rows.append(OrderedDict(title=title, **line))"
   ]
  },
  {
   "cell_type": "code",
   "execution_count": 5,
   "metadata": {},
   "outputs": [],
   "source": [
    "embeds = np.stack(embeds)"
   ]
  },
  {
   "cell_type": "code",
   "execution_count": 6,
   "metadata": {},
   "outputs": [],
   "source": [
    "df = pd.DataFrame(rows)"
   ]
  },
  {
   "cell_type": "code",
   "execution_count": 7,
   "metadata": {},
   "outputs": [
    {
     "data": {
      "text/plain": [
       "array(['dailycaller.com', 'bloomberg.com', 'thehill.com',\n",
       "       'huffingtonpost.com', 'dailykos.com', 'nytimes.com', 'cnn.com',\n",
       "       'wsj.com', 'apnews.com', 'breitbart.com', 'foxnews.com',\n",
       "       'washingtonpost.com', 'buzzfeed.com'], dtype=object)"
      ]
     },
     "execution_count": 7,
     "metadata": {},
     "output_type": "execute_result"
    }
   ],
   "source": [
    "df.label.unique()"
   ]
  },
  {
   "cell_type": "code",
   "execution_count": 8,
   "metadata": {},
   "outputs": [
    {
     "data": {
      "text/plain": [
       "(651589, 512)"
      ]
     },
     "execution_count": 8,
     "metadata": {},
     "output_type": "execute_result"
    }
   ],
   "source": [
    "embeds.shape"
   ]
  },
  {
   "cell_type": "code",
   "execution_count": 9,
   "metadata": {},
   "outputs": [],
   "source": [
    "center = embeds.mean(0)"
   ]
  },
  {
   "cell_type": "code",
   "execution_count": 10,
   "metadata": {},
   "outputs": [],
   "source": [
    "def ds_from_center(domain, metric):\n",
    "    \n",
    "    ds = []\n",
    "    for v in embeds[df[df.label==domain].index]:\n",
    "        ds.append(metric(center, v))\n",
    "        \n",
    "    return ds"
   ]
  },
  {
   "cell_type": "code",
   "execution_count": 11,
   "metadata": {},
   "outputs": [],
   "source": [
    "domains = df.label.unique()"
   ]
  },
  {
   "cell_type": "code",
   "execution_count": 19,
   "metadata": {},
   "outputs": [],
   "source": [
    "def plot_step_hist(ds):\n",
    "    \n",
    "    plt.figure(figsize=(15,10))\n",
    "\n",
    "    ys, x, _ = plt.hist(\n",
    "        ds.values(),\n",
    "        label=ds.keys(),\n",
    "        histtype='step',\n",
    "        bins=100,\n",
    "        linewidth=2,\n",
    "    )\n",
    "\n",
    "    plt.legend(loc='upper right')\n",
    "    \n",
    "    return x, ys"
   ]
  },
  {
   "cell_type": "code",
   "execution_count": 13,
   "metadata": {},
   "outputs": [],
   "source": [
    "def plot_step_hist_interactive(x, ys):\n",
    "\n",
    "    rows = []\n",
    "    for y, domain in zip(ys, ds.keys()):\n",
    "        for d, count in zip(x[:-1], y):\n",
    "            rows.append((domain, d, count))\n",
    "\n",
    "    hist_df = pd.DataFrame(rows, columns=('domain', 'd', 'count'))\n",
    "    \n",
    "    highlight = alt.selection(\n",
    "        type='single',\n",
    "        on='mouseover',\n",
    "        fields=['domain'],\n",
    "        nearest=True,\n",
    "    )\n",
    "\n",
    "    base = (alt\n",
    "        .Chart(hist_df, width=700, height=500)\n",
    "        .encode(x=alt.X('d', scale=alt.Scale(zero=False)), y='count', color='domain'))\n",
    "\n",
    "    points = (base\n",
    "        .mark_circle()\n",
    "        .encode(opacity=alt.value(0))\n",
    "        .add_selection(highlight)\n",
    "        .properties(width=600))\n",
    "\n",
    "    lines = (base\n",
    "        .mark_line()\n",
    "        .encode(size=alt.condition(~highlight, alt.value(2), alt.value(5)), tooltip='domain'))\n",
    "\n",
    "    return points + lines"
   ]
  },
  {
   "cell_type": "code",
   "execution_count": 14,
   "metadata": {},
   "outputs": [],
   "source": [
    "def plot_ds_violin(ds):\n",
    "\n",
    "    rows = []\n",
    "    for domain, dds in ds.items():\n",
    "        for d in dds:\n",
    "            rows.append((domain, d))\n",
    "            \n",
    "    ds_df = pd.DataFrame(rows, columns=('domain', 'd'))\n",
    "    \n",
    "    order = ds_df.groupby('domain').mean().sort_values('d', ascending=False).index\n",
    "    plt.figure(figsize=(5,10))\n",
    "    sns.violinplot(y='domain', x='d', data=ds_df.sample(frac=0.01), order=order)"
   ]
  },
  {
   "cell_type": "code",
   "execution_count": 15,
   "metadata": {},
   "outputs": [
    {
     "name": "stderr",
     "output_type": "stream",
     "text": [
      "100%|██████████| 13/13 [00:36<00:00,  2.78s/it]\n"
     ]
    }
   ],
   "source": [
    "ds = {\n",
    "    d: ds_from_center(d, distance.cosine)\n",
    "    for d in tqdm(domains)\n",
    "}"
   ]
  },
  {
   "cell_type": "code",
   "execution_count": 20,
   "metadata": {},
   "outputs": [
    {
     "data": {
      "image/png": "[encoded data removed]",
      "text/plain": [
       "<Figure size 1080x720 with 1 Axes>"
      ]
     },
     "metadata": {
      "needs_background": "light"
     },
     "output_type": "display_data"
    }
   ],
   "source": [
    "x, ys = plot_step_hist(ds)"
   ]
  },
  {
   "cell_type": "code",
   "execution_count": 21,
   "metadata": {},
   "outputs": [
    {
     "data": {
      "application/vnd.vegalite.v2+json": {
       "$schema": "https://vega.github.io/schema/vega-lite/v2.6.0.json",
       "config": {
        "view": {
         "height": 300,
         "width": 400
        }
       },
       "datasets": {
        "data-ab0f47f05dfcc4bf47f91ef847466569": [
         {
          "count": 0,
          "d": 0.045779407024383545,
          "domain": "dailycaller.com"
         },
         {
          "count": 0,
          "d": 0.0614128828048706,
          "domain": "dailycaller.com"
         },
         {
          "count": 1,
          "d": 0.07704635858535766,
          "domain": "dailycaller.com"
         },
         {
          "count": 4,
          "d": 0.09267983436584473,
          "domain": "dailycaller.com"
         },
         {
          "count": 2,
          "d": 0.10831331014633179,
          "domain": "dailycaller.com"
         },
         {
          "count": 11,
          "d": 0.12394678592681885,
          "domain": "dailycaller.com"
         },
         {
          "count": 20,
          "d": 0.13958026170730592,
          "domain": "dailycaller.com"
         },
         {
          "count": 28,
          "d": 0.155213737487793,
          "domain": "dailycaller.com"
         },
         {
          "count": 29,
          "d": 0.17084721326828003,
          "domain": "dailycaller.com"
         },
         {
          "count": 46,
          "d": 0.1864806890487671,
          "domain": "dailycaller.com"
         },
         {
          "count": 101,
          "d": 0.20211416482925415,
          "domain": "dailycaller.com"
         },
         {
          "count": 97,
          "d": 0.21774764060974122,
          "domain": "dailycaller.com"
         },
         {
          "count": 115,
          "d": 0.2333811163902283,
          "domain": "dailycaller.com"
         },
         {
          "count": 147,
          "d": 0.24901459217071534,
          "domain": "dailycaller.com"
         },
         {
          "count": 184,
          "d": 0.26464806795120244,
          "domain": "dailycaller.com"
         },
         {
          "count": 239,
          "d": 0.28028154373168945,
          "domain": "dailycaller.com"
         },
         {
          "count": 292,
          "d": 0.2959150195121765,
          "domain": "dailycaller.com"
         },
         {
          "count": 310,
          "d": 0.3115484952926636,
          "domain": "dailycaller.com"
         },
         {
          "count": 365,
          "d": 0.32718197107315067,
          "domain": "dailycaller.com"
         },
         {
          "count": 400,
          "d": 0.3428154468536377,
          "domain": "dailycaller.com"
         },
         {
          "count": 494,
          "d": 0.35844892263412476,
          "domain": "dailycaller.com"
         },
         {
          "count": 585,
          "d": 0.3740823984146118,
          "domain": "dailycaller.com"
         },
         {
          "count": 678,
          "d": 0.3897158741950989,
          "domain": "dailycaller.com"
         },
         {
          "count": 767,
          "d": 0.40534934997558597,
          "domain": "dailycaller.com"
         },
         {
          "count": 779,
          "d": 0.42098282575607304,
          "domain": "dailycaller.com"
         },
         {
          "count": 862,
          "d": 0.43661630153656006,
          "domain": "dailycaller.com"
         },
         {
          "count": 948,
          "d": 0.45224977731704713,
          "domain": "dailycaller.com"
         },
         {
          "count": 1049,
          "d": 0.4678832530975342,
          "domain": "dailycaller.com"
         },
         {
          "count": 1188,
          "d": 0.4835167288780213,
          "domain": "dailycaller.com"
         },
         {
          "count": 1278,
          "d": 0.49915020465850835,
          "domain": "dailycaller.com"
         },
         {
          "count": 1295,
          "d": 0.5147836804389954,
          "domain": "dailycaller.com"
         },
         {
          "count": 1426,
          "d": 0.5304171562194824,
          "domain": "dailycaller.com"
         },
         {
          "count": 1504,
          "d": 0.5460506319999695,
          "domain": "dailycaller.com"
         },
         {
          "count": 1503,
          "d": 0.5616841077804565,
          "domain": "dailycaller.com"
         },
         {
          "count": 1661,
          "d": 0.5773175835609436,
          "domain": "dailycaller.com"
         },
         {
          "count": 1652,
          "d": 0.5929510593414307,
          "domain": "dailycaller.com"
         },
         {
          "count": 1718,
          "d": 0.6085845351219178,
          "domain": "dailycaller.com"
         },
         {
          "count": 1656,
          "d": 0.6242180109024048,
          "domain": "dailycaller.com"
         },
         {
          "count": 1806,
          "d": 0.6398514866828918,
          "domain": "dailycaller.com"
         },
         {
          "count": 1678,
          "d": 0.655484962463379,
          "domain": "dailycaller.com"
         },
         {
          "count": 1721,
          "d": 0.671118438243866,
          "domain": "dailycaller.com"
         },
         {
          "count": 1731,
          "d": 0.6867519140243531,
          "domain": "dailycaller.com"
         },
         {
          "count": 1659,
          "d": 0.7023853898048401,
          "domain": "dailycaller.com"
         },
         {
          "count": 1688,
          "d": 0.7180188655853271,
          "domain": "dailycaller.com"
         },
         {
          "count": 1606,
          "d": 0.7336523413658143,
          "domain": "dailycaller.com"
         },
         {
          "count": 1473,
          "d": 0.7492858171463013,
          "domain": "dailycaller.com"
         },
         {
          "count": 1444,
          "d": 0.7649192929267884,
          "domain": "dailycaller.com"
         },
         {
          "count": 1390,
          "d": 0.7805527687072754,
          "domain": "dailycaller.com"
         },
         {
          "count": 1269,
          "d": 0.7961862444877625,
          "domain": "dailycaller.com"
         },
         {
          "count": 1144,
          "d": 0.8118197202682496,
          "domain": "dailycaller.com"
         },
         {
          "count": 1074,
          "d": 0.8274531960487366,
          "domain": "dailycaller.com"
         },
         {
          "count": 981,
          "d": 0.8430866718292237,
          "domain": "dailycaller.com"
         },
         {
          "count": 894,
          "d": 0.8587201476097107,
          "domain": "dailycaller.com"
         },
         {
          "count": 781,
          "d": 0.8743536233901978,
          "domain": "dailycaller.com"
         },
         {
          "count": 658,
          "d": 0.8899870991706849,
          "domain": "dailycaller.com"
         },
         {
          "count": 602,
          "d": 0.9056205749511719,
          "domain": "dailycaller.com"
         },
         {
          "count": 498,
          "d": 0.921254050731659,
          "domain": "dailycaller.com"
         },
         {
          "count": 397,
          "d": 0.936887526512146,
          "domain": "dailycaller.com"
         },
         {
          "count": 416,
          "d": 0.9525210022926331,
          "domain": "dailycaller.com"
         },
         {
          "count": 343,
          "d": 0.9681544780731202,
          "domain": "dailycaller.com"
         },
         {
          "count": 241,
          "d": 0.9837879538536072,
          "domain": "dailycaller.com"
         },
         {
          "count": 218,
          "d": 0.9994214296340943,
          "domain": "dailycaller.com"
         },
         {
          "count": 177,
          "d": 1.0150549054145812,
          "domain": "dailycaller.com"
         },
         {
          "count": 150,
          "d": 1.0306883811950684,
          "domain": "dailycaller.com"
         },
         {
          "count": 149,
          "d": 1.0463218569755555,
          "domain": "dailycaller.com"
         },
         {
          "count": 91,
          "d": 1.0619553327560425,
          "domain": "dailycaller.com"
         },
         {
          "count": 61,
          "d": 1.0775888085365295,
          "domain": "dailycaller.com"
         },
         {
          "count": 86,
          "d": 1.0932222843170167,
          "domain": "dailycaller.com"
         },
         {
          "count": 43,
          "d": 1.1088557600975038,
          "domain": "dailycaller.com"
         },
         {
          "count": 42,
          "d": 1.1244892358779908,
          "domain": "dailycaller.com"
         },
         {
          "count": 33,
          "d": 1.1401227116584778,
          "domain": "dailycaller.com"
         },
         {
          "count": 28,
          "d": 1.1557561874389648,
          "domain": "dailycaller.com"
         },
         {
          "count": 19,
          "d": 1.171389663219452,
          "domain": "dailycaller.com"
         },
         {
          "count": 25,
          "d": 1.187023138999939,
          "domain": "dailycaller.com"
         },
         {
          "count": 16,
          "d": 1.202656614780426,
          "domain": "dailycaller.com"
         },
         {
          "count": 8,
          "d": 1.218290090560913,
          "domain": "dailycaller.com"
         },
         {
          "count": 4,
          "d": 1.2339235663414,
          "domain": "dailycaller.com"
         },
         {
          "count": 5,
          "d": 1.2495570421218873,
          "domain": "dailycaller.com"
         },
         {
          "count": 11,
          "d": 1.2651905179023744,
          "domain": "dailycaller.com"
         },
         {
          "count": 0,
          "d": 1.2808239936828614,
          "domain": "dailycaller.com"
         },
         {
          "count": 2,
          "d": 1.2964574694633484,
          "domain": "dailycaller.com"
         },
         {
          "count": 1,
          "d": 1.3120909452438354,
          "domain": "dailycaller.com"
         },
         {
          "count": 2,
          "d": 1.3277244210243226,
          "domain": "dailycaller.com"
         },
         {
          "count": 0,
          "d": 1.3433578968048097,
          "domain": "dailycaller.com"
         },
         {
          "count": 0,
          "d": 1.3589913725852967,
          "domain": "dailycaller.com"
         },
         {
          "count": 0,
          "d": 1.3746248483657837,
          "domain": "dailycaller.com"
         },
         {
          "count": 1,
          "d": 1.3902583241462707,
          "domain": "dailycaller.com"
         },
         {
          "count": 0,
          "d": 1.405891799926758,
          "domain": "dailycaller.com"
         },
         {
          "count": 0,
          "d": 1.421525275707245,
          "domain": "dailycaller.com"
         },
         {
          "count": 0,
          "d": 1.437158751487732,
          "domain": "dailycaller.com"
         },
         {
          "count": 0,
          "d": 1.452792227268219,
          "domain": "dailycaller.com"
         },
         {
          "count": 0,
          "d": 1.468425703048706,
          "domain": "dailycaller.com"
         },
         {
          "count": 0,
          "d": 1.4840591788291932,
          "domain": "dailycaller.com"
         },
         {
          "count": 0,
          "d": 1.4996926546096803,
          "domain": "dailycaller.com"
         },
         {
          "count": 0,
          "d": 1.5153261303901673,
          "domain": "dailycaller.com"
         },
         {
          "count": 0,
          "d": 1.5309596061706543,
          "domain": "dailycaller.com"
         },
         {
          "count": 0,
          "d": 1.5465930819511415,
          "domain": "dailycaller.com"
         },
         {
          "count": 0,
          "d": 1.5622265577316286,
          "domain": "dailycaller.com"
         },
         {
          "count": 0,
          "d": 1.5778600335121156,
          "domain": "dailycaller.com"
         },
         {
          "count": 0,
          "d": 1.5934935092926026,
          "domain": "dailycaller.com"
         },
         {
          "count": 0,
          "d": 0.045779407024383545,
          "domain": "bloomberg.com"
         },
         {
          "count": 0,
          "d": 0.0614128828048706,
          "domain": "bloomberg.com"
         },
         {
          "count": 1,
          "d": 0.07704635858535766,
          "domain": "bloomberg.com"
         },
         {
          "count": 0,
          "d": 0.09267983436584473,
          "domain": "bloomberg.com"
         },
         {
          "count": 0,
          "d": 0.10831331014633179,
          "domain": "bloomberg.com"
         },
         {
          "count": 3,
          "d": 0.12394678592681885,
          "domain": "bloomberg.com"
         },
         {
          "count": 2,
          "d": 0.13958026170730592,
          "domain": "bloomberg.com"
         },
         {
          "count": 1,
          "d": 0.155213737487793,
          "domain": "bloomberg.com"
         },
         {
          "count": 3,
          "d": 0.17084721326828003,
          "domain": "bloomberg.com"
         },
         {
          "count": 11,
          "d": 0.1864806890487671,
          "domain": "bloomberg.com"
         },
         {
          "count": 14,
          "d": 0.20211416482925415,
          "domain": "bloomberg.com"
         },
         {
          "count": 14,
          "d": 0.21774764060974122,
          "domain": "bloomberg.com"
         },
         {
          "count": 20,
          "d": 0.2333811163902283,
          "domain": "bloomberg.com"
         },
         {
          "count": 39,
          "d": 0.24901459217071534,
          "domain": "bloomberg.com"
         },
         {
          "count": 40,
          "d": 0.26464806795120244,
          "domain": "bloomberg.com"
         },
         {
          "count": 50,
          "d": 0.28028154373168945,
          "domain": "bloomberg.com"
         },
         {
          "count": 83,
          "d": 0.2959150195121765,
          "domain": "bloomberg.com"
         },
         {
          "count": 89,
          "d": 0.3115484952926636,
          "domain": "bloomberg.com"
         },
         {
          "count": 87,
          "d": 0.32718197107315067,
          "domain": "bloomberg.com"
         },
         {
          "count": 129,
          "d": 0.3428154468536377,
          "domain": "bloomberg.com"
         },
         {
          "count": 150,
          "d": 0.35844892263412476,
          "domain": "bloomberg.com"
         },
         {
          "count": 189,
          "d": 0.3740823984146118,
          "domain": "bloomberg.com"
         },
         {
          "count": 215,
          "d": 0.3897158741950989,
          "domain": "bloomberg.com"
         },
         {
          "count": 296,
          "d": 0.40534934997558597,
          "domain": "bloomberg.com"
         },
         {
          "count": 338,
          "d": 0.42098282575607304,
          "domain": "bloomberg.com"
         },
         {
          "count": 391,
          "d": 0.43661630153656006,
          "domain": "bloomberg.com"
         },
         {
          "count": 476,
          "d": 0.45224977731704713,
          "domain": "bloomberg.com"
         },
         {
          "count": 594,
          "d": 0.4678832530975342,
          "domain": "bloomberg.com"
         },
         {
          "count": 684,
          "d": 0.4835167288780213,
          "domain": "bloomberg.com"
         },
         {
          "count": 684,
          "d": 0.49915020465850835,
          "domain": "bloomberg.com"
         },
         {
          "count": 780,
          "d": 0.5147836804389954,
          "domain": "bloomberg.com"
         },
         {
          "count": 869,
          "d": 0.5304171562194824,
          "domain": "bloomberg.com"
         },
         {
          "count": 1052,
          "d": 0.5460506319999695,
          "domain": "bloomberg.com"
         },
         {
          "count": 1114,
          "d": 0.5616841077804565,
          "domain": "bloomberg.com"
         },
         {
          "count": 1214,
          "d": 0.5773175835609436,
          "domain": "bloomberg.com"
         },
         {
          "count": 1328,
          "d": 0.5929510593414307,
          "domain": "bloomberg.com"
         },
         {
          "count": 1356,
          "d": 0.6085845351219178,
          "domain": "bloomberg.com"
         },
         {
          "count": 1419,
          "d": 0.6242180109024048,
          "domain": "bloomberg.com"
         },
         {
          "count": 1503,
          "d": 0.6398514866828918,
          "domain": "bloomberg.com"
         },
         {
          "count": 1612,
          "d": 0.655484962463379,
          "domain": "bloomberg.com"
         },
         {
          "count": 1689,
          "d": 0.671118438243866,
          "domain": "bloomberg.com"
         },
         {
          "count": 1856,
          "d": 0.6867519140243531,
          "domain": "bloomberg.com"
         },
         {
          "count": 1910,
          "d": 0.7023853898048401,
          "domain": "bloomberg.com"
         },
         {
          "count": 1958,
          "d": 0.7180188655853271,
          "domain": "bloomberg.com"
         },
         {
          "count": 1988,
          "d": 0.7336523413658143,
          "domain": "bloomberg.com"
         },
         {
          "count": 1988,
          "d": 0.7492858171463013,
          "domain": "bloomberg.com"
         },
         {
          "count": 1926,
          "d": 0.7649192929267884,
          "domain": "bloomberg.com"
         },
         {
          "count": 1948,
          "d": 0.7805527687072754,
          "domain": "bloomberg.com"
         },
         {
          "count": 1966,
          "d": 0.7961862444877625,
          "domain": "bloomberg.com"
         },
         {
          "count": 1798,
          "d": 0.8118197202682496,
          "domain": "bloomberg.com"
         },
         {
          "count": 1755,
          "d": 0.8274531960487366,
          "domain": "bloomberg.com"
         },
         {
          "count": 1622,
          "d": 0.8430866718292237,
          "domain": "bloomberg.com"
         },
         {
          "count": 1469,
          "d": 0.8587201476097107,
          "domain": "bloomberg.com"
         },
         {
          "count": 1368,
          "d": 0.8743536233901978,
          "domain": "bloomberg.com"
         },
         {
          "count": 1229,
          "d": 0.8899870991706849,
          "domain": "bloomberg.com"
         },
         {
          "count": 1087,
          "d": 0.9056205749511719,
          "domain": "bloomberg.com"
         },
         {
          "count": 877,
          "d": 0.921254050731659,
          "domain": "bloomberg.com"
         },
         {
          "count": 769,
          "d": 0.936887526512146,
          "domain": "bloomberg.com"
         },
         {
          "count": 674,
          "d": 0.9525210022926331,
          "domain": "bloomberg.com"
         },
         {
          "count": 570,
          "d": 0.9681544780731202,
          "domain": "bloomberg.com"
         },
         {
          "count": 443,
          "d": 0.9837879538536072,
          "domain": "bloomberg.com"
         },
         {
          "count": 435,
          "d": 0.9994214296340943,
          "domain": "bloomberg.com"
         },
         {
          "count": 299,
          "d": 1.0150549054145812,
          "domain": "bloomberg.com"
         },
         {
          "count": 288,
          "d": 1.0306883811950684,
          "domain": "bloomberg.com"
         },
         {
          "count": 222,
          "d": 1.0463218569755555,
          "domain": "bloomberg.com"
         },
         {
          "count": 193,
          "d": 1.0619553327560425,
          "domain": "bloomberg.com"
         },
         {
          "count": 146,
          "d": 1.0775888085365295,
          "domain": "bloomberg.com"
         },
         {
          "count": 111,
          "d": 1.0932222843170167,
          "domain": "bloomberg.com"
         },
         {
          "count": 121,
          "d": 1.1088557600975038,
          "domain": "bloomberg.com"
         },
         {
          "count": 108,
          "d": 1.1244892358779908,
          "domain": "bloomberg.com"
         },
         {
          "count": 71,
          "d": 1.1401227116584778,
          "domain": "bloomberg.com"
         },
         {
          "count": 62,
          "d": 1.1557561874389648,
          "domain": "bloomberg.com"
         },
         {
          "count": 45,
          "d": 1.171389663219452,
          "domain": "bloomberg.com"
         },
         {
          "count": 43,
          "d": 1.187023138999939,
          "domain": "bloomberg.com"
         },
         {
          "count": 32,
          "d": 1.202656614780426,
          "domain": "bloomberg.com"
         },
         {
          "count": 19,
          "d": 1.218290090560913,
          "domain": "bloomberg.com"
         },
         {
          "count": 15,
          "d": 1.2339235663414,
          "domain": "bloomberg.com"
         },
         {
          "count": 3,
          "d": 1.2495570421218873,
          "domain": "bloomberg.com"
         },
         {
          "count": 11,
          "d": 1.2651905179023744,
          "domain": "bloomberg.com"
         },
         {
          "count": 6,
          "d": 1.2808239936828614,
          "domain": "bloomberg.com"
         },
         {
          "count": 6,
          "d": 1.2964574694633484,
          "domain": "bloomberg.com"
         },
         {
          "count": 3,
          "d": 1.3120909452438354,
          "domain": "bloomberg.com"
         },
         {
          "count": 1,
          "d": 1.3277244210243226,
          "domain": "bloomberg.com"
         },
         {
          "count": 1,
          "d": 1.3433578968048097,
          "domain": "bloomberg.com"
         },
         {
          "count": 1,
          "d": 1.3589913725852967,
          "domain": "bloomberg.com"
         },
         {
          "count": 0,
          "d": 1.3746248483657837,
          "domain": "bloomberg.com"
         },
         {
          "count": 1,
          "d": 1.3902583241462707,
          "domain": "bloomberg.com"
         },
         {
          "count": 0,
          "d": 1.405891799926758,
          "domain": "bloomberg.com"
         },
         {
          "count": 0,
          "d": 1.421525275707245,
          "domain": "bloomberg.com"
         },
         {
          "count": 1,
          "d": 1.437158751487732,
          "domain": "bloomberg.com"
         },
         {
          "count": 1,
          "d": 1.452792227268219,
          "domain": "bloomberg.com"
         },
         {
          "count": 0,
          "d": 1.468425703048706,
          "domain": "bloomberg.com"
         },
         {
          "count": 0,
          "d": 1.4840591788291932,
          "domain": "bloomberg.com"
         },
         {
          "count": 0,
          "d": 1.4996926546096803,
          "domain": "bloomberg.com"
         },
         {
          "count": 0,
          "d": 1.5153261303901673,
          "domain": "bloomberg.com"
         },
         {
          "count": 0,
          "d": 1.5309596061706543,
          "domain": "bloomberg.com"
         },
         {
          "count": 0,
          "d": 1.5465930819511415,
          "domain": "bloomberg.com"
         },
         {
          "count": 0,
          "d": 1.5622265577316286,
          "domain": "bloomberg.com"
         },
         {
          "count": 0,
          "d": 1.5778600335121156,
          "domain": "bloomberg.com"
         },
         {
          "count": 0,
          "d": 1.5934935092926026,
          "domain": "bloomberg.com"
         },
         {
          "count": 0,
          "d": 0.045779407024383545,
          "domain": "thehill.com"
         },
         {
          "count": 0,
          "d": 0.0614128828048706,
          "domain": "thehill.com"
         },
         {
          "count": 0,
          "d": 0.07704635858535766,
          "domain": "thehill.com"
         },
         {
          "count": 3,
          "d": 0.09267983436584473,
          "domain": "thehill.com"
         },
         {
          "count": 0,
          "d": 0.10831331014633179,
          "domain": "thehill.com"
         },
         {
          "count": 3,
          "d": 0.12394678592681885,
          "domain": "thehill.com"
         },
         {
          "count": 4,
          "d": 0.13958026170730592,
          "domain": "thehill.com"
         },
         {
          "count": 11,
          "d": 0.155213737487793,
          "domain": "thehill.com"
         },
         {
          "count": 14,
          "d": 0.17084721326828003,
          "domain": "thehill.com"
         },
         {
          "count": 17,
          "d": 0.1864806890487671,
          "domain": "thehill.com"
         },
         {
          "count": 15,
          "d": 0.20211416482925415,
          "domain": "thehill.com"
         },
         {
          "count": 28,
          "d": 0.21774764060974122,
          "domain": "thehill.com"
         },
         {
          "count": 43,
          "d": 0.2333811163902283,
          "domain": "thehill.com"
         },
         {
          "count": 53,
          "d": 0.24901459217071534,
          "domain": "thehill.com"
         },
         {
          "count": 80,
          "d": 0.26464806795120244,
          "domain": "thehill.com"
         },
         {
          "count": 71,
          "d": 0.28028154373168945,
          "domain": "thehill.com"
         },
         {
          "count": 115,
          "d": 0.2959150195121765,
          "domain": "thehill.com"
         },
         {
          "count": 167,
          "d": 0.3115484952926636,
          "domain": "thehill.com"
         },
         {
          "count": 207,
          "d": 0.32718197107315067,
          "domain": "thehill.com"
         },
         {
          "count": 209,
          "d": 0.3428154468536377,
          "domain": "thehill.com"
         },
         {
          "count": 238,
          "d": 0.35844892263412476,
          "domain": "thehill.com"
         },
         {
          "count": 305,
          "d": 0.3740823984146118,
          "domain": "thehill.com"
         },
         {
          "count": 351,
          "d": 0.3897158741950989,
          "domain": "thehill.com"
         },
         {
          "count": 407,
          "d": 0.40534934997558597,
          "domain": "thehill.com"
         },
         {
          "count": 465,
          "d": 0.42098282575607304,
          "domain": "thehill.com"
         },
         {
          "count": 531,
          "d": 0.43661630153656006,
          "domain": "thehill.com"
         },
         {
          "count": 602,
          "d": 0.45224977731704713,
          "domain": "thehill.com"
         },
         {
          "count": 699,
          "d": 0.4678832530975342,
          "domain": "thehill.com"
         },
         {
          "count": 759,
          "d": 0.4835167288780213,
          "domain": "thehill.com"
         },
         {
          "count": 830,
          "d": 0.49915020465850835,
          "domain": "thehill.com"
         },
         {
          "count": 915,
          "d": 0.5147836804389954,
          "domain": "thehill.com"
         },
         {
          "count": 962,
          "d": 0.5304171562194824,
          "domain": "thehill.com"
         },
         {
          "count": 1043,
          "d": 0.5460506319999695,
          "domain": "thehill.com"
         },
         {
          "count": 1078,
          "d": 0.5616841077804565,
          "domain": "thehill.com"
         },
         {
          "count": 1283,
          "d": 0.5773175835609436,
          "domain": "thehill.com"
         },
         {
          "count": 1336,
          "d": 0.5929510593414307,
          "domain": "thehill.com"
         },
         {
          "count": 1385,
          "d": 0.6085845351219178,
          "domain": "thehill.com"
         },
         {
          "count": 1481,
          "d": 0.6242180109024048,
          "domain": "thehill.com"
         },
         {
          "count": 1563,
          "d": 0.6398514866828918,
          "domain": "thehill.com"
         },
         {
          "count": 1599,
          "d": 0.655484962463379,
          "domain": "thehill.com"
         },
         {
          "count": 1684,
          "d": 0.671118438243866,
          "domain": "thehill.com"
         },
         {
          "count": 1761,
          "d": 0.6867519140243531,
          "domain": "thehill.com"
         },
         {
          "count": 1819,
          "d": 0.7023853898048401,
          "domain": "thehill.com"
         },
         {
          "count": 1867,
          "d": 0.7180188655853271,
          "domain": "thehill.com"
         },
         {
          "count": 1885,
          "d": 0.7336523413658143,
          "domain": "thehill.com"
         },
         {
          "count": 1889,
          "d": 0.7492858171463013,
          "domain": "thehill.com"
         },
         {
          "count": 1842,
          "d": 0.7649192929267884,
          "domain": "thehill.com"
         },
         {
          "count": 1763,
          "d": 0.7805527687072754,
          "domain": "thehill.com"
         },
         {
          "count": 1771,
          "d": 0.7961862444877625,
          "domain": "thehill.com"
         },
         {
          "count": 1682,
          "d": 0.8118197202682496,
          "domain": "thehill.com"
         },
         {
          "count": 1624,
          "d": 0.8274531960487366,
          "domain": "thehill.com"
         },
         {
          "count": 1523,
          "d": 0.8430866718292237,
          "domain": "thehill.com"
         },
         {
          "count": 1377,
          "d": 0.8587201476097107,
          "domain": "thehill.com"
         },
         {
          "count": 1159,
          "d": 0.8743536233901978,
          "domain": "thehill.com"
         },
         {
          "count": 1096,
          "d": 0.8899870991706849,
          "domain": "thehill.com"
         },
         {
          "count": 1004,
          "d": 0.9056205749511719,
          "domain": "thehill.com"
         },
         {
          "count": 838,
          "d": 0.921254050731659,
          "domain": "thehill.com"
         },
         {
          "count": 761,
          "d": 0.936887526512146,
          "domain": "thehill.com"
         },
         {
          "count": 660,
          "d": 0.9525210022926331,
          "domain": "thehill.com"
         },
         {
          "count": 534,
          "d": 0.9681544780731202,
          "domain": "thehill.com"
         },
         {
          "count": 459,
          "d": 0.9837879538536072,
          "domain": "thehill.com"
         },
         {
          "count": 389,
          "d": 0.9994214296340943,
          "domain": "thehill.com"
         },
         {
          "count": 317,
          "d": 1.0150549054145812,
          "domain": "thehill.com"
         },
         {
          "count": 318,
          "d": 1.0306883811950684,
          "domain": "thehill.com"
         },
         {
          "count": 242,
          "d": 1.0463218569755555,
          "domain": "thehill.com"
         },
         {
          "count": 159,
          "d": 1.0619553327560425,
          "domain": "thehill.com"
         },
         {
          "count": 150,
          "d": 1.0775888085365295,
          "domain": "thehill.com"
         },
         {
          "count": 111,
          "d": 1.0932222843170167,
          "domain": "thehill.com"
         },
         {
          "count": 103,
          "d": 1.1088557600975038,
          "domain": "thehill.com"
         },
         {
          "count": 64,
          "d": 1.1244892358779908,
          "domain": "thehill.com"
         },
         {
          "count": 56,
          "d": 1.1401227116584778,
          "domain": "thehill.com"
         },
         {
          "count": 39,
          "d": 1.1557561874389648,
          "domain": "thehill.com"
         },
         {
          "count": 41,
          "d": 1.171389663219452,
          "domain": "thehill.com"
         },
         {
          "count": 21,
          "d": 1.187023138999939,
          "domain": "thehill.com"
         },
         {
          "count": 19,
          "d": 1.202656614780426,
          "domain": "thehill.com"
         },
         {
          "count": 17,
          "d": 1.218290090560913,
          "domain": "thehill.com"
         },
         {
          "count": 9,
          "d": 1.2339235663414,
          "domain": "thehill.com"
         },
         {
          "count": 10,
          "d": 1.2495570421218873,
          "domain": "thehill.com"
         },
         {
          "count": 8,
          "d": 1.2651905179023744,
          "domain": "thehill.com"
         },
         {
          "count": 10,
          "d": 1.2808239936828614,
          "domain": "thehill.com"
         },
         {
          "count": 0,
          "d": 1.2964574694633484,
          "domain": "thehill.com"
         },
         {
          "count": 1,
          "d": 1.3120909452438354,
          "domain": "thehill.com"
         },
         {
          "count": 1,
          "d": 1.3277244210243226,
          "domain": "thehill.com"
         },
         {
          "count": 2,
          "d": 1.3433578968048097,
          "domain": "thehill.com"
         },
         {
          "count": 2,
          "d": 1.3589913725852967,
          "domain": "thehill.com"
         },
         {
          "count": 0,
          "d": 1.3746248483657837,
          "domain": "thehill.com"
         },
         {
          "count": 0,
          "d": 1.3902583241462707,
          "domain": "thehill.com"
         },
         {
          "count": 1,
          "d": 1.405891799926758,
          "domain": "thehill.com"
         },
         {
          "count": 1,
          "d": 1.421525275707245,
          "domain": "thehill.com"
         },
         {
          "count": 1,
          "d": 1.437158751487732,
          "domain": "thehill.com"
         },
         {
          "count": 0,
          "d": 1.452792227268219,
          "domain": "thehill.com"
         },
         {
          "count": 0,
          "d": 1.468425703048706,
          "domain": "thehill.com"
         },
         {
          "count": 0,
          "d": 1.4840591788291932,
          "domain": "thehill.com"
         },
         {
          "count": 0,
          "d": 1.4996926546096803,
          "domain": "thehill.com"
         },
         {
          "count": 0,
          "d": 1.5153261303901673,
          "domain": "thehill.com"
         },
         {
          "count": 0,
          "d": 1.5309596061706543,
          "domain": "thehill.com"
         },
         {
          "count": 0,
          "d": 1.5465930819511415,
          "domain": "thehill.com"
         },
         {
          "count": 0,
          "d": 1.5622265577316286,
          "domain": "thehill.com"
         },
         {
          "count": 0,
          "d": 1.5778600335121156,
          "domain": "thehill.com"
         },
         {
          "count": 0,
          "d": 1.5934935092926026,
          "domain": "thehill.com"
         },
         {
          "count": 0,
          "d": 0.045779407024383545,
          "domain": "huffingtonpost.com"
         },
         {
          "count": 1,
          "d": 0.0614128828048706,
          "domain": "huffingtonpost.com"
         },
         {
          "count": 1,
          "d": 0.07704635858535766,
          "domain": "huffingtonpost.com"
         },
         {
          "count": 3,
          "d": 0.09267983436584473,
          "domain": "huffingtonpost.com"
         },
         {
          "count": 10,
          "d": 0.10831331014633179,
          "domain": "huffingtonpost.com"
         },
         {
          "count": 13,
          "d": 0.12394678592681885,
          "domain": "huffingtonpost.com"
         },
         {
          "count": 24,
          "d": 0.13958026170730592,
          "domain": "huffingtonpost.com"
         },
         {
          "count": 37,
          "d": 0.155213737487793,
          "domain": "huffingtonpost.com"
         },
         {
          "count": 52,
          "d": 0.17084721326828003,
          "domain": "huffingtonpost.com"
         },
         {
          "count": 69,
          "d": 0.1864806890487671,
          "domain": "huffingtonpost.com"
         },
         {
          "count": 83,
          "d": 0.20211416482925415,
          "domain": "huffingtonpost.com"
         },
         {
          "count": 121,
          "d": 0.21774764060974122,
          "domain": "huffingtonpost.com"
         },
         {
          "count": 173,
          "d": 0.2333811163902283,
          "domain": "huffingtonpost.com"
         },
         {
          "count": 210,
          "d": 0.24901459217071534,
          "domain": "huffingtonpost.com"
         },
         {
          "count": 209,
          "d": 0.26464806795120244,
          "domain": "huffingtonpost.com"
         },
         {
          "count": 277,
          "d": 0.28028154373168945,
          "domain": "huffingtonpost.com"
         },
         {
          "count": 319,
          "d": 0.2959150195121765,
          "domain": "huffingtonpost.com"
         },
         {
          "count": 395,
          "d": 0.3115484952926636,
          "domain": "huffingtonpost.com"
         },
         {
          "count": 442,
          "d": 0.32718197107315067,
          "domain": "huffingtonpost.com"
         },
         {
          "count": 505,
          "d": 0.3428154468536377,
          "domain": "huffingtonpost.com"
         },
         {
          "count": 650,
          "d": 0.35844892263412476,
          "domain": "huffingtonpost.com"
         },
         {
          "count": 676,
          "d": 0.3740823984146118,
          "domain": "huffingtonpost.com"
         },
         {
          "count": 816,
          "d": 0.3897158741950989,
          "domain": "huffingtonpost.com"
         },
         {
          "count": 1007,
          "d": 0.40534934997558597,
          "domain": "huffingtonpost.com"
         },
         {
          "count": 1141,
          "d": 0.42098282575607304,
          "domain": "huffingtonpost.com"
         },
         {
          "count": 1202,
          "d": 0.43661630153656006,
          "domain": "huffingtonpost.com"
         },
         {
          "count": 1308,
          "d": 0.45224977731704713,
          "domain": "huffingtonpost.com"
         },
         {
          "count": 1426,
          "d": 0.4678832530975342,
          "domain": "huffingtonpost.com"
         },
         {
          "count": 1503,
          "d": 0.4835167288780213,
          "domain": "huffingtonpost.com"
         },
         {
          "count": 1584,
          "d": 0.49915020465850835,
          "domain": "huffingtonpost.com"
         },
         {
          "count": 1676,
          "d": 0.5147836804389954,
          "domain": "huffingtonpost.com"
         },
         {
          "count": 1723,
          "d": 0.5304171562194824,
          "domain": "huffingtonpost.com"
         },
         {
          "count": 1781,
          "d": 0.5460506319999695,
          "domain": "huffingtonpost.com"
         },
         {
          "count": 1746,
          "d": 0.5616841077804565,
          "domain": "huffingtonpost.com"
         },
         {
          "count": 1813,
          "d": 0.5773175835609436,
          "domain": "huffingtonpost.com"
         },
         {
          "count": 1859,
          "d": 0.5929510593414307,
          "domain": "huffingtonpost.com"
         },
         {
          "count": 1900,
          "d": 0.6085845351219178,
          "domain": "huffingtonpost.com"
         },
         {
          "count": 1890,
          "d": 0.6242180109024048,
          "domain": "huffingtonpost.com"
         },
         {
          "count": 1780,
          "d": 0.6398514866828918,
          "domain": "huffingtonpost.com"
         },
         {
          "count": 1736,
          "d": 0.655484962463379,
          "domain": "huffingtonpost.com"
         },
         {
          "count": 1664,
          "d": 0.671118438243866,
          "domain": "huffingtonpost.com"
         },
         {
          "count": 1685,
          "d": 0.6867519140243531,
          "domain": "huffingtonpost.com"
         },
         {
          "count": 1571,
          "d": 0.7023853898048401,
          "domain": "huffingtonpost.com"
         },
         {
          "count": 1464,
          "d": 0.7180188655853271,
          "domain": "huffingtonpost.com"
         },
         {
          "count": 1293,
          "d": 0.7336523413658143,
          "domain": "huffingtonpost.com"
         },
         {
          "count": 1256,
          "d": 0.7492858171463013,
          "domain": "huffingtonpost.com"
         },
         {
          "count": 1074,
          "d": 0.7649192929267884,
          "domain": "huffingtonpost.com"
         },
         {
          "count": 1028,
          "d": 0.7805527687072754,
          "domain": "huffingtonpost.com"
         },
         {
          "count": 900,
          "d": 0.7961862444877625,
          "domain": "huffingtonpost.com"
         },
         {
          "count": 856,
          "d": 0.8118197202682496,
          "domain": "huffingtonpost.com"
         },
         {
          "count": 736,
          "d": 0.8274531960487366,
          "domain": "huffingtonpost.com"
         },
         {
          "count": 659,
          "d": 0.8430866718292237,
          "domain": "huffingtonpost.com"
         },
         {
          "count": 577,
          "d": 0.8587201476097107,
          "domain": "huffingtonpost.com"
         },
         {
          "count": 472,
          "d": 0.8743536233901978,
          "domain": "huffingtonpost.com"
         },
         {
          "count": 430,
          "d": 0.8899870991706849,
          "domain": "huffingtonpost.com"
         },
         {
          "count": 355,
          "d": 0.9056205749511719,
          "domain": "huffingtonpost.com"
         },
         {
          "count": 311,
          "d": 0.921254050731659,
          "domain": "huffingtonpost.com"
         },
         {
          "count": 272,
          "d": 0.936887526512146,
          "domain": "huffingtonpost.com"
         },
         {
          "count": 242,
          "d": 0.9525210022926331,
          "domain": "huffingtonpost.com"
         },
         {
          "count": 220,
          "d": 0.9681544780731202,
          "domain": "huffingtonpost.com"
         },
         {
          "count": 179,
          "d": 0.9837879538536072,
          "domain": "huffingtonpost.com"
         },
         {
          "count": 127,
          "d": 0.9994214296340943,
          "domain": "huffingtonpost.com"
         },
         {
          "count": 109,
          "d": 1.0150549054145812,
          "domain": "huffingtonpost.com"
         },
         {
          "count": 87,
          "d": 1.0306883811950684,
          "domain": "huffingtonpost.com"
         },
         {
          "count": 93,
          "d": 1.0463218569755555,
          "domain": "huffingtonpost.com"
         },
         {
          "count": 65,
          "d": 1.0619553327560425,
          "domain": "huffingtonpost.com"
         },
         {
          "count": 58,
          "d": 1.0775888085365295,
          "domain": "huffingtonpost.com"
         },
         {
          "count": 43,
          "d": 1.0932222843170167,
          "domain": "huffingtonpost.com"
         },
         {
          "count": 32,
          "d": 1.1088557600975038,
          "domain": "huffingtonpost.com"
         },
         {
          "count": 25,
          "d": 1.1244892358779908,
          "domain": "huffingtonpost.com"
         },
         {
          "count": 22,
          "d": 1.1401227116584778,
          "domain": "huffingtonpost.com"
         },
         {
          "count": 22,
          "d": 1.1557561874389648,
          "domain": "huffingtonpost.com"
         },
         {
          "count": 13,
          "d": 1.171389663219452,
          "domain": "huffingtonpost.com"
         },
         {
          "count": 27,
          "d": 1.187023138999939,
          "domain": "huffingtonpost.com"
         },
         {
          "count": 10,
          "d": 1.202656614780426,
          "domain": "huffingtonpost.com"
         },
         {
          "count": 8,
          "d": 1.218290090560913,
          "domain": "huffingtonpost.com"
         },
         {
          "count": 6,
          "d": 1.2339235663414,
          "domain": "huffingtonpost.com"
         },
         {
          "count": 1,
          "d": 1.2495570421218873,
          "domain": "huffingtonpost.com"
         },
         {
          "count": 5,
          "d": 1.2651905179023744,
          "domain": "huffingtonpost.com"
         },
         {
          "count": 1,
          "d": 1.2808239936828614,
          "domain": "huffingtonpost.com"
         },
         {
          "count": 3,
          "d": 1.2964574694633484,
          "domain": "huffingtonpost.com"
         },
         {
          "count": 1,
          "d": 1.3120909452438354,
          "domain": "huffingtonpost.com"
         },
         {
          "count": 1,
          "d": 1.3277244210243226,
          "domain": "huffingtonpost.com"
         },
         {
          "count": 1,
          "d": 1.3433578968048097,
          "domain": "huffingtonpost.com"
         },
         {
          "count": 3,
          "d": 1.3589913725852967,
          "domain": "huffingtonpost.com"
         },
         {
          "count": 1,
          "d": 1.3746248483657837,
          "domain": "huffingtonpost.com"
         },
         {
          "count": 0,
          "d": 1.3902583241462707,
          "domain": "huffingtonpost.com"
         },
         {
          "count": 0,
          "d": 1.405891799926758,
          "domain": "huffingtonpost.com"
         },
         {
          "count": 1,
          "d": 1.421525275707245,
          "domain": "huffingtonpost.com"
         },
         {
          "count": 0,
          "d": 1.437158751487732,
          "domain": "huffingtonpost.com"
         },
         {
          "count": 0,
          "d": 1.452792227268219,
          "domain": "huffingtonpost.com"
         },
         {
          "count": 0,
          "d": 1.468425703048706,
          "domain": "huffingtonpost.com"
         },
         {
          "count": 0,
          "d": 1.4840591788291932,
          "domain": "huffingtonpost.com"
         },
         {
          "count": 0,
          "d": 1.4996926546096803,
          "domain": "huffingtonpost.com"
         },
         {
          "count": 0,
          "d": 1.5153261303901673,
          "domain": "huffingtonpost.com"
         },
         {
          "count": 0,
          "d": 1.5309596061706543,
          "domain": "huffingtonpost.com"
         },
         {
          "count": 0,
          "d": 1.5465930819511415,
          "domain": "huffingtonpost.com"
         },
         {
          "count": 0,
          "d": 1.5622265577316286,
          "domain": "huffingtonpost.com"
         },
         {
          "count": 0,
          "d": 1.5778600335121156,
          "domain": "huffingtonpost.com"
         },
         {
          "count": 0,
          "d": 1.5934935092926026,
          "domain": "huffingtonpost.com"
         },
         {
          "count": 0,
          "d": 0.045779407024383545,
          "domain": "dailykos.com"
         },
         {
          "count": 0,
          "d": 0.0614128828048706,
          "domain": "dailykos.com"
         },
         {
          "count": 0,
          "d": 0.07704635858535766,
          "domain": "dailykos.com"
         },
         {
          "count": 0,
          "d": 0.09267983436584473,
          "domain": "dailykos.com"
         },
         {
          "count": 0,
          "d": 0.10831331014633179,
          "domain": "dailykos.com"
         },
         {
          "count": 1,
          "d": 0.12394678592681885,
          "domain": "dailykos.com"
         },
         {
          "count": 3,
          "d": 0.13958026170730592,
          "domain": "dailykos.com"
         },
         {
          "count": 3,
          "d": 0.155213737487793,
          "domain": "dailykos.com"
         },
         {
          "count": 7,
          "d": 0.17084721326828003,
          "domain": "dailykos.com"
         },
         {
          "count": 10,
          "d": 0.1864806890487671,
          "domain": "dailykos.com"
         },
         {
          "count": 11,
          "d": 0.20211416482925415,
          "domain": "dailykos.com"
         },
         {
          "count": 19,
          "d": 0.21774764060974122,
          "domain": "dailykos.com"
         },
         {
          "count": 29,
          "d": 0.2333811163902283,
          "domain": "dailykos.com"
         },
         {
          "count": 40,
          "d": 0.24901459217071534,
          "domain": "dailykos.com"
         },
         {
          "count": 41,
          "d": 0.26464806795120244,
          "domain": "dailykos.com"
         },
         {
          "count": 64,
          "d": 0.28028154373168945,
          "domain": "dailykos.com"
         },
         {
          "count": 54,
          "d": 0.2959150195121765,
          "domain": "dailykos.com"
         },
         {
          "count": 78,
          "d": 0.3115484952926636,
          "domain": "dailykos.com"
         },
         {
          "count": 86,
          "d": 0.32718197107315067,
          "domain": "dailykos.com"
         },
         {
          "count": 116,
          "d": 0.3428154468536377,
          "domain": "dailykos.com"
         },
         {
          "count": 161,
          "d": 0.35844892263412476,
          "domain": "dailykos.com"
         },
         {
          "count": 195,
          "d": 0.3740823984146118,
          "domain": "dailykos.com"
         },
         {
          "count": 231,
          "d": 0.3897158741950989,
          "domain": "dailykos.com"
         },
         {
          "count": 279,
          "d": 0.40534934997558597,
          "domain": "dailykos.com"
         },
         {
          "count": 310,
          "d": 0.42098282575607304,
          "domain": "dailykos.com"
         },
         {
          "count": 328,
          "d": 0.43661630153656006,
          "domain": "dailykos.com"
         },
         {
          "count": 441,
          "d": 0.45224977731704713,
          "domain": "dailykos.com"
         },
         {
          "count": 520,
          "d": 0.4678832530975342,
          "domain": "dailykos.com"
         },
         {
          "count": 623,
          "d": 0.4835167288780213,
          "domain": "dailykos.com"
         },
         {
          "count": 619,
          "d": 0.49915020465850835,
          "domain": "dailykos.com"
         },
         {
          "count": 712,
          "d": 0.5147836804389954,
          "domain": "dailykos.com"
         },
         {
          "count": 761,
          "d": 0.5304171562194824,
          "domain": "dailykos.com"
         },
         {
          "count": 889,
          "d": 0.5460506319999695,
          "domain": "dailykos.com"
         },
         {
          "count": 905,
          "d": 0.5616841077804565,
          "domain": "dailykos.com"
         },
         {
          "count": 1026,
          "d": 0.5773175835609436,
          "domain": "dailykos.com"
         },
         {
          "count": 1109,
          "d": 0.5929510593414307,
          "domain": "dailykos.com"
         },
         {
          "count": 1220,
          "d": 0.6085845351219178,
          "domain": "dailykos.com"
         },
         {
          "count": 1278,
          "d": 0.6242180109024048,
          "domain": "dailykos.com"
         },
         {
          "count": 1281,
          "d": 0.6398514866828918,
          "domain": "dailykos.com"
         },
         {
          "count": 1352,
          "d": 0.655484962463379,
          "domain": "dailykos.com"
         },
         {
          "count": 1452,
          "d": 0.671118438243866,
          "domain": "dailykos.com"
         },
         {
          "count": 1453,
          "d": 0.6867519140243531,
          "domain": "dailykos.com"
         },
         {
          "count": 1587,
          "d": 0.7023853898048401,
          "domain": "dailykos.com"
         },
         {
          "count": 1551,
          "d": 0.7180188655853271,
          "domain": "dailykos.com"
         },
         {
          "count": 1576,
          "d": 0.7336523413658143,
          "domain": "dailykos.com"
         },
         {
          "count": 1597,
          "d": 0.7492858171463013,
          "domain": "dailykos.com"
         },
         {
          "count": 1637,
          "d": 0.7649192929267884,
          "domain": "dailykos.com"
         },
         {
          "count": 1631,
          "d": 0.7805527687072754,
          "domain": "dailykos.com"
         },
         {
          "count": 1638,
          "d": 0.7961862444877625,
          "domain": "dailykos.com"
         },
         {
          "count": 1613,
          "d": 0.8118197202682496,
          "domain": "dailykos.com"
         },
         {
          "count": 1624,
          "d": 0.8274531960487366,
          "domain": "dailykos.com"
         },
         {
          "count": 1557,
          "d": 0.8430866718292237,
          "domain": "dailykos.com"
         },
         {
          "count": 1436,
          "d": 0.8587201476097107,
          "domain": "dailykos.com"
         },
         {
          "count": 1452,
          "d": 0.8743536233901978,
          "domain": "dailykos.com"
         },
         {
          "count": 1414,
          "d": 0.8899870991706849,
          "domain": "dailykos.com"
         },
         {
          "count": 1351,
          "d": 0.9056205749511719,
          "domain": "dailykos.com"
         },
         {
          "count": 1275,
          "d": 0.921254050731659,
          "domain": "dailykos.com"
         },
         {
          "count": 1154,
          "d": 0.936887526512146,
          "domain": "dailykos.com"
         },
         {
          "count": 1063,
          "d": 0.9525210022926331,
          "domain": "dailykos.com"
         },
         {
          "count": 945,
          "d": 0.9681544780731202,
          "domain": "dailykos.com"
         },
         {
          "count": 912,
          "d": 0.9837879538536072,
          "domain": "dailykos.com"
         },
         {
          "count": 831,
          "d": 0.9994214296340943,
          "domain": "dailykos.com"
         },
         {
          "count": 776,
          "d": 1.0150549054145812,
          "domain": "dailykos.com"
         },
         {
          "count": 639,
          "d": 1.0306883811950684,
          "domain": "dailykos.com"
         },
         {
          "count": 574,
          "d": 1.0463218569755555,
          "domain": "dailykos.com"
         },
         {
          "count": 485,
          "d": 1.0619553327560425,
          "domain": "dailykos.com"
         },
         {
          "count": 424,
          "d": 1.0775888085365295,
          "domain": "dailykos.com"
         },
         {
          "count": 375,
          "d": 1.0932222843170167,
          "domain": "dailykos.com"
         },
         {
          "count": 303,
          "d": 1.1088557600975038,
          "domain": "dailykos.com"
         },
         {
          "count": 244,
          "d": 1.1244892358779908,
          "domain": "dailykos.com"
         },
         {
          "count": 168,
          "d": 1.1401227116584778,
          "domain": "dailykos.com"
         },
         {
          "count": 151,
          "d": 1.1557561874389648,
          "domain": "dailykos.com"
         },
         {
          "count": 118,
          "d": 1.171389663219452,
          "domain": "dailykos.com"
         },
         {
          "count": 86,
          "d": 1.187023138999939,
          "domain": "dailykos.com"
         },
         {
          "count": 50,
          "d": 1.202656614780426,
          "domain": "dailykos.com"
         },
         {
          "count": 49,
          "d": 1.218290090560913,
          "domain": "dailykos.com"
         },
         {
          "count": 25,
          "d": 1.2339235663414,
          "domain": "dailykos.com"
         },
         {
          "count": 21,
          "d": 1.2495570421218873,
          "domain": "dailykos.com"
         },
         {
          "count": 20,
          "d": 1.2651905179023744,
          "domain": "dailykos.com"
         },
         {
          "count": 16,
          "d": 1.2808239936828614,
          "domain": "dailykos.com"
         },
         {
          "count": 13,
          "d": 1.2964574694633484,
          "domain": "dailykos.com"
         },
         {
          "count": 7,
          "d": 1.3120909452438354,
          "domain": "dailykos.com"
         },
         {
          "count": 6,
          "d": 1.3277244210243226,
          "domain": "dailykos.com"
         },
         {
          "count": 3,
          "d": 1.3433578968048097,
          "domain": "dailykos.com"
         },
         {
          "count": 3,
          "d": 1.3589913725852967,
          "domain": "dailykos.com"
         },
         {
          "count": 3,
          "d": 1.3746248483657837,
          "domain": "dailykos.com"
         },
         {
          "count": 2,
          "d": 1.3902583241462707,
          "domain": "dailykos.com"
         },
         {
          "count": 1,
          "d": 1.405891799926758,
          "domain": "dailykos.com"
         },
         {
          "count": 0,
          "d": 1.421525275707245,
          "domain": "dailykos.com"
         },
         {
          "count": 0,
          "d": 1.437158751487732,
          "domain": "dailykos.com"
         },
         {
          "count": 1,
          "d": 1.452792227268219,
          "domain": "dailykos.com"
         },
         {
          "count": 0,
          "d": 1.468425703048706,
          "domain": "dailykos.com"
         },
         {
          "count": 0,
          "d": 1.4840591788291932,
          "domain": "dailykos.com"
         },
         {
          "count": 0,
          "d": 1.4996926546096803,
          "domain": "dailykos.com"
         },
         {
          "count": 0,
          "d": 1.5153261303901673,
          "domain": "dailykos.com"
         },
         {
          "count": 0,
          "d": 1.5309596061706543,
          "domain": "dailykos.com"
         },
         {
          "count": 0,
          "d": 1.5465930819511415,
          "domain": "dailykos.com"
         },
         {
          "count": 1,
          "d": 1.5622265577316286,
          "domain": "dailykos.com"
         },
         {
          "count": 0,
          "d": 1.5778600335121156,
          "domain": "dailykos.com"
         },
         {
          "count": 0,
          "d": 1.5934935092926026,
          "domain": "dailykos.com"
         },
         {
          "count": 0,
          "d": 0.045779407024383545,
          "domain": "nytimes.com"
         },
         {
          "count": 2,
          "d": 0.0614128828048706,
          "domain": "nytimes.com"
         },
         {
          "count": 2,
          "d": 0.07704635858535766,
          "domain": "nytimes.com"
         },
         {
          "count": 6,
          "d": 0.09267983436584473,
          "domain": "nytimes.com"
         },
         {
          "count": 11,
          "d": 0.10831331014633179,
          "domain": "nytimes.com"
         },
         {
          "count": 30,
          "d": 0.12394678592681885,
          "domain": "nytimes.com"
         },
         {
          "count": 37,
          "d": 0.13958026170730592,
          "domain": "nytimes.com"
         },
         {
          "count": 45,
          "d": 0.155213737487793,
          "domain": "nytimes.com"
         },
         {
          "count": 85,
          "d": 0.17084721326828003,
          "domain": "nytimes.com"
         },
         {
          "count": 100,
          "d": 0.1864806890487671,
          "domain": "nytimes.com"
         },
         {
          "count": 132,
          "d": 0.20211416482925415,
          "domain": "nytimes.com"
         },
         {
          "count": 161,
          "d": 0.21774764060974122,
          "domain": "nytimes.com"
         },
         {
          "count": 204,
          "d": 0.2333811163902283,
          "domain": "nytimes.com"
         },
         {
          "count": 206,
          "d": 0.24901459217071534,
          "domain": "nytimes.com"
         },
         {
          "count": 259,
          "d": 0.26464806795120244,
          "domain": "nytimes.com"
         },
         {
          "count": 355,
          "d": 0.28028154373168945,
          "domain": "nytimes.com"
         },
         {
          "count": 378,
          "d": 0.2959150195121765,
          "domain": "nytimes.com"
         },
         {
          "count": 412,
          "d": 0.3115484952926636,
          "domain": "nytimes.com"
         },
         {
          "count": 497,
          "d": 0.32718197107315067,
          "domain": "nytimes.com"
         },
         {
          "count": 550,
          "d": 0.3428154468536377,
          "domain": "nytimes.com"
         },
         {
          "count": 708,
          "d": 0.35844892263412476,
          "domain": "nytimes.com"
         },
         {
          "count": 793,
          "d": 0.3740823984146118,
          "domain": "nytimes.com"
         },
         {
          "count": 864,
          "d": 0.3897158741950989,
          "domain": "nytimes.com"
         },
         {
          "count": 1011,
          "d": 0.40534934997558597,
          "domain": "nytimes.com"
         },
         {
          "count": 1198,
          "d": 0.42098282575607304,
          "domain": "nytimes.com"
         },
         {
          "count": 1328,
          "d": 0.43661630153656006,
          "domain": "nytimes.com"
         },
         {
          "count": 1457,
          "d": 0.45224977731704713,
          "domain": "nytimes.com"
         },
         {
          "count": 1591,
          "d": 0.4678832530975342,
          "domain": "nytimes.com"
         },
         {
          "count": 1775,
          "d": 0.4835167288780213,
          "domain": "nytimes.com"
         },
         {
          "count": 1770,
          "d": 0.49915020465850835,
          "domain": "nytimes.com"
         },
         {
          "count": 1913,
          "d": 0.5147836804389954,
          "domain": "nytimes.com"
         },
         {
          "count": 2036,
          "d": 0.5304171562194824,
          "domain": "nytimes.com"
         },
         {
          "count": 1998,
          "d": 0.5460506319999695,
          "domain": "nytimes.com"
         },
         {
          "count": 2073,
          "d": 0.5616841077804565,
          "domain": "nytimes.com"
         },
         {
          "count": 2076,
          "d": 0.5773175835609436,
          "domain": "nytimes.com"
         },
         {
          "count": 1905,
          "d": 0.5929510593414307,
          "domain": "nytimes.com"
         },
         {
          "count": 1939,
          "d": 0.6085845351219178,
          "domain": "nytimes.com"
         },
         {
          "count": 1810,
          "d": 0.6242180109024048,
          "domain": "nytimes.com"
         },
         {
          "count": 1800,
          "d": 0.6398514866828918,
          "domain": "nytimes.com"
         },
         {
          "count": 1615,
          "d": 0.655484962463379,
          "domain": "nytimes.com"
         },
         {
          "count": 1547,
          "d": 0.671118438243866,
          "domain": "nytimes.com"
         },
         {
          "count": 1434,
          "d": 0.6867519140243531,
          "domain": "nytimes.com"
         },
         {
          "count": 1298,
          "d": 0.7023853898048401,
          "domain": "nytimes.com"
         },
         {
          "count": 1132,
          "d": 0.7180188655853271,
          "domain": "nytimes.com"
         },
         {
          "count": 1032,
          "d": 0.7336523413658143,
          "domain": "nytimes.com"
         },
         {
          "count": 981,
          "d": 0.7492858171463013,
          "domain": "nytimes.com"
         },
         {
          "count": 868,
          "d": 0.7649192929267884,
          "domain": "nytimes.com"
         },
         {
          "count": 800,
          "d": 0.7805527687072754,
          "domain": "nytimes.com"
         },
         {
          "count": 743,
          "d": 0.7961862444877625,
          "domain": "nytimes.com"
         },
         {
          "count": 607,
          "d": 0.8118197202682496,
          "domain": "nytimes.com"
         },
         {
          "count": 570,
          "d": 0.8274531960487366,
          "domain": "nytimes.com"
         },
         {
          "count": 521,
          "d": 0.8430866718292237,
          "domain": "nytimes.com"
         },
         {
          "count": 471,
          "d": 0.8587201476097107,
          "domain": "nytimes.com"
         },
         {
          "count": 444,
          "d": 0.8743536233901978,
          "domain": "nytimes.com"
         },
         {
          "count": 368,
          "d": 0.8899870991706849,
          "domain": "nytimes.com"
         },
         {
          "count": 327,
          "d": 0.9056205749511719,
          "domain": "nytimes.com"
         },
         {
          "count": 329,
          "d": 0.921254050731659,
          "domain": "nytimes.com"
         },
         {
          "count": 277,
          "d": 0.936887526512146,
          "domain": "nytimes.com"
         },
         {
          "count": 232,
          "d": 0.9525210022926331,
          "domain": "nytimes.com"
         },
         {
          "count": 210,
          "d": 0.9681544780731202,
          "domain": "nytimes.com"
         },
         {
          "count": 177,
          "d": 0.9837879538536072,
          "domain": "nytimes.com"
         },
         {
          "count": 156,
          "d": 0.9994214296340943,
          "domain": "nytimes.com"
         },
         {
          "count": 118,
          "d": 1.0150549054145812,
          "domain": "nytimes.com"
         },
         {
          "count": 97,
          "d": 1.0306883811950684,
          "domain": "nytimes.com"
         },
         {
          "count": 92,
          "d": 1.0463218569755555,
          "domain": "nytimes.com"
         },
         {
          "count": 77,
          "d": 1.0619553327560425,
          "domain": "nytimes.com"
         },
         {
          "count": 64,
          "d": 1.0775888085365295,
          "domain": "nytimes.com"
         },
         {
          "count": 48,
          "d": 1.0932222843170167,
          "domain": "nytimes.com"
         },
         {
          "count": 37,
          "d": 1.1088557600975038,
          "domain": "nytimes.com"
         },
         {
          "count": 38,
          "d": 1.1244892358779908,
          "domain": "nytimes.com"
         },
         {
          "count": 18,
          "d": 1.1401227116584778,
          "domain": "nytimes.com"
         },
         {
          "count": 22,
          "d": 1.1557561874389648,
          "domain": "nytimes.com"
         },
         {
          "count": 15,
          "d": 1.171389663219452,
          "domain": "nytimes.com"
         },
         {
          "count": 13,
          "d": 1.187023138999939,
          "domain": "nytimes.com"
         },
         {
          "count": 10,
          "d": 1.202656614780426,
          "domain": "nytimes.com"
         },
         {
          "count": 3,
          "d": 1.218290090560913,
          "domain": "nytimes.com"
         },
         {
          "count": 5,
          "d": 1.2339235663414,
          "domain": "nytimes.com"
         },
         {
          "count": 4,
          "d": 1.2495570421218873,
          "domain": "nytimes.com"
         },
         {
          "count": 2,
          "d": 1.2651905179023744,
          "domain": "nytimes.com"
         },
         {
          "count": 5,
          "d": 1.2808239936828614,
          "domain": "nytimes.com"
         },
         {
          "count": 2,
          "d": 1.2964574694633484,
          "domain": "nytimes.com"
         },
         {
          "count": 0,
          "d": 1.3120909452438354,
          "domain": "nytimes.com"
         },
         {
          "count": 3,
          "d": 1.3277244210243226,
          "domain": "nytimes.com"
         },
         {
          "count": 0,
          "d": 1.3433578968048097,
          "domain": "nytimes.com"
         },
         {
          "count": 0,
          "d": 1.3589913725852967,
          "domain": "nytimes.com"
         },
         {
          "count": 0,
          "d": 1.3746248483657837,
          "domain": "nytimes.com"
         },
         {
          "count": 0,
          "d": 1.3902583241462707,
          "domain": "nytimes.com"
         },
         {
          "count": 0,
          "d": 1.405891799926758,
          "domain": "nytimes.com"
         },
         {
          "count": 0,
          "d": 1.421525275707245,
          "domain": "nytimes.com"
         },
         {
          "count": 1,
          "d": 1.437158751487732,
          "domain": "nytimes.com"
         },
         {
          "count": 0,
          "d": 1.452792227268219,
          "domain": "nytimes.com"
         },
         {
          "count": 0,
          "d": 1.468425703048706,
          "domain": "nytimes.com"
         },
         {
          "count": 0,
          "d": 1.4840591788291932,
          "domain": "nytimes.com"
         },
         {
          "count": 0,
          "d": 1.4996926546096803,
          "domain": "nytimes.com"
         },
         {
          "count": 0,
          "d": 1.5153261303901673,
          "domain": "nytimes.com"
         },
         {
          "count": 0,
          "d": 1.5309596061706543,
          "domain": "nytimes.com"
         },
         {
          "count": 0,
          "d": 1.5465930819511415,
          "domain": "nytimes.com"
         },
         {
          "count": 0,
          "d": 1.5622265577316286,
          "domain": "nytimes.com"
         },
         {
          "count": 0,
          "d": 1.5778600335121156,
          "domain": "nytimes.com"
         },
         {
          "count": 0,
          "d": 1.5934935092926026,
          "domain": "nytimes.com"
         },
         {
          "count": 0,
          "d": 0.045779407024383545,
          "domain": "cnn.com"
         },
         {
          "count": 0,
          "d": 0.0614128828048706,
          "domain": "cnn.com"
         },
         {
          "count": 0,
          "d": 0.07704635858535766,
          "domain": "cnn.com"
         },
         {
          "count": 3,
          "d": 0.09267983436584473,
          "domain": "cnn.com"
         },
         {
          "count": 4,
          "d": 0.10831331014633179,
          "domain": "cnn.com"
         },
         {
          "count": 9,
          "d": 0.12394678592681885,
          "domain": "cnn.com"
         },
         {
          "count": 18,
          "d": 0.13958026170730592,
          "domain": "cnn.com"
         },
         {
          "count": 36,
          "d": 0.155213737487793,
          "domain": "cnn.com"
         },
         {
          "count": 58,
          "d": 0.17084721326828003,
          "domain": "cnn.com"
         },
         {
          "count": 66,
          "d": 0.1864806890487671,
          "domain": "cnn.com"
         },
         {
          "count": 116,
          "d": 0.20211416482925415,
          "domain": "cnn.com"
         },
         {
          "count": 129,
          "d": 0.21774764060974122,
          "domain": "cnn.com"
         },
         {
          "count": 148,
          "d": 0.2333811163902283,
          "domain": "cnn.com"
         },
         {
          "count": 197,
          "d": 0.24901459217071534,
          "domain": "cnn.com"
         },
         {
          "count": 181,
          "d": 0.26464806795120244,
          "domain": "cnn.com"
         },
         {
          "count": 269,
          "d": 0.28028154373168945,
          "domain": "cnn.com"
         },
         {
          "count": 362,
          "d": 0.2959150195121765,
          "domain": "cnn.com"
         },
         {
          "count": 448,
          "d": 0.3115484952926636,
          "domain": "cnn.com"
         },
         {
          "count": 473,
          "d": 0.32718197107315067,
          "domain": "cnn.com"
         },
         {
          "count": 569,
          "d": 0.3428154468536377,
          "domain": "cnn.com"
         },
         {
          "count": 705,
          "d": 0.35844892263412476,
          "domain": "cnn.com"
         },
         {
          "count": 857,
          "d": 0.3740823984146118,
          "domain": "cnn.com"
         },
         {
          "count": 936,
          "d": 0.3897158741950989,
          "domain": "cnn.com"
         },
         {
          "count": 1066,
          "d": 0.40534934997558597,
          "domain": "cnn.com"
         },
         {
          "count": 1172,
          "d": 0.42098282575607304,
          "domain": "cnn.com"
         },
         {
          "count": 1180,
          "d": 0.43661630153656006,
          "domain": "cnn.com"
         },
         {
          "count": 1302,
          "d": 0.45224977731704713,
          "domain": "cnn.com"
         },
         {
          "count": 1288,
          "d": 0.4678832530975342,
          "domain": "cnn.com"
         },
         {
          "count": 1443,
          "d": 0.4835167288780213,
          "domain": "cnn.com"
         },
         {
          "count": 1421,
          "d": 0.49915020465850835,
          "domain": "cnn.com"
         },
         {
          "count": 1413,
          "d": 0.5147836804389954,
          "domain": "cnn.com"
         },
         {
          "count": 1408,
          "d": 0.5304171562194824,
          "domain": "cnn.com"
         },
         {
          "count": 1428,
          "d": 0.5460506319999695,
          "domain": "cnn.com"
         },
         {
          "count": 1434,
          "d": 0.5616841077804565,
          "domain": "cnn.com"
         },
         {
          "count": 1353,
          "d": 0.5773175835609436,
          "domain": "cnn.com"
         },
         {
          "count": 1319,
          "d": 0.5929510593414307,
          "domain": "cnn.com"
         },
         {
          "count": 1215,
          "d": 0.6085845351219178,
          "domain": "cnn.com"
         },
         {
          "count": 1321,
          "d": 0.6242180109024048,
          "domain": "cnn.com"
         },
         {
          "count": 1221,
          "d": 0.6398514866828918,
          "domain": "cnn.com"
         },
         {
          "count": 1160,
          "d": 0.655484962463379,
          "domain": "cnn.com"
         },
         {
          "count": 1180,
          "d": 0.671118438243866,
          "domain": "cnn.com"
         },
         {
          "count": 1154,
          "d": 0.6867519140243531,
          "domain": "cnn.com"
         },
         {
          "count": 1102,
          "d": 0.7023853898048401,
          "domain": "cnn.com"
         },
         {
          "count": 963,
          "d": 0.7180188655853271,
          "domain": "cnn.com"
         },
         {
          "count": 996,
          "d": 0.7336523413658143,
          "domain": "cnn.com"
         },
         {
          "count": 923,
          "d": 0.7492858171463013,
          "domain": "cnn.com"
         },
         {
          "count": 872,
          "d": 0.7649192929267884,
          "domain": "cnn.com"
         },
         {
          "count": 866,
          "d": 0.7805527687072754,
          "domain": "cnn.com"
         },
         {
          "count": 824,
          "d": 0.7961862444877625,
          "domain": "cnn.com"
         },
         {
          "count": 880,
          "d": 0.8118197202682496,
          "domain": "cnn.com"
         },
         {
          "count": 880,
          "d": 0.8274531960487366,
          "domain": "cnn.com"
         },
         {
          "count": 936,
          "d": 0.8430866718292237,
          "domain": "cnn.com"
         },
         {
          "count": 920,
          "d": 0.8587201476097107,
          "domain": "cnn.com"
         },
         {
          "count": 1057,
          "d": 0.8743536233901978,
          "domain": "cnn.com"
         },
         {
          "count": 997,
          "d": 0.8899870991706849,
          "domain": "cnn.com"
         },
         {
          "count": 994,
          "d": 0.9056205749511719,
          "domain": "cnn.com"
         },
         {
          "count": 911,
          "d": 0.921254050731659,
          "domain": "cnn.com"
         },
         {
          "count": 872,
          "d": 0.936887526512146,
          "domain": "cnn.com"
         },
         {
          "count": 790,
          "d": 0.9525210022926331,
          "domain": "cnn.com"
         },
         {
          "count": 678,
          "d": 0.9681544780731202,
          "domain": "cnn.com"
         },
         {
          "count": 559,
          "d": 0.9837879538536072,
          "domain": "cnn.com"
         },
         {
          "count": 488,
          "d": 0.9994214296340943,
          "domain": "cnn.com"
         },
         {
          "count": 449,
          "d": 1.0150549054145812,
          "domain": "cnn.com"
         },
         {
          "count": 375,
          "d": 1.0306883811950684,
          "domain": "cnn.com"
         },
         {
          "count": 305,
          "d": 1.0463218569755555,
          "domain": "cnn.com"
         },
         {
          "count": 276,
          "d": 1.0619553327560425,
          "domain": "cnn.com"
         },
         {
          "count": 198,
          "d": 1.0775888085365295,
          "domain": "cnn.com"
         },
         {
          "count": 174,
          "d": 1.0932222843170167,
          "domain": "cnn.com"
         },
         {
          "count": 143,
          "d": 1.1088557600975038,
          "domain": "cnn.com"
         },
         {
          "count": 113,
          "d": 1.1244892358779908,
          "domain": "cnn.com"
         },
         {
          "count": 82,
          "d": 1.1401227116584778,
          "domain": "cnn.com"
         },
         {
          "count": 80,
          "d": 1.1557561874389648,
          "domain": "cnn.com"
         },
         {
          "count": 77,
          "d": 1.171389663219452,
          "domain": "cnn.com"
         },
         {
          "count": 43,
          "d": 1.187023138999939,
          "domain": "cnn.com"
         },
         {
          "count": 46,
          "d": 1.202656614780426,
          "domain": "cnn.com"
         },
         {
          "count": 29,
          "d": 1.218290090560913,
          "domain": "cnn.com"
         },
         {
          "count": 22,
          "d": 1.2339235663414,
          "domain": "cnn.com"
         },
         {
          "count": 11,
          "d": 1.2495570421218873,
          "domain": "cnn.com"
         },
         {
          "count": 9,
          "d": 1.2651905179023744,
          "domain": "cnn.com"
         },
         {
          "count": 8,
          "d": 1.2808239936828614,
          "domain": "cnn.com"
         },
         {
          "count": 4,
          "d": 1.2964574694633484,
          "domain": "cnn.com"
         },
         {
          "count": 4,
          "d": 1.3120909452438354,
          "domain": "cnn.com"
         },
         {
          "count": 1,
          "d": 1.3277244210243226,
          "domain": "cnn.com"
         },
         {
          "count": 2,
          "d": 1.3433578968048097,
          "domain": "cnn.com"
         },
         {
          "count": 1,
          "d": 1.3589913725852967,
          "domain": "cnn.com"
         },
         {
          "count": 0,
          "d": 1.3746248483657837,
          "domain": "cnn.com"
         },
         {
          "count": 1,
          "d": 1.3902583241462707,
          "domain": "cnn.com"
         },
         {
          "count": 1,
          "d": 1.405891799926758,
          "domain": "cnn.com"
         },
         {
          "count": 0,
          "d": 1.421525275707245,
          "domain": "cnn.com"
         },
         {
          "count": 0,
          "d": 1.437158751487732,
          "domain": "cnn.com"
         },
         {
          "count": 0,
          "d": 1.452792227268219,
          "domain": "cnn.com"
         },
         {
          "count": 0,
          "d": 1.468425703048706,
          "domain": "cnn.com"
         },
         {
          "count": 0,
          "d": 1.4840591788291932,
          "domain": "cnn.com"
         },
         {
          "count": 0,
          "d": 1.4996926546096803,
          "domain": "cnn.com"
         },
         {
          "count": 0,
          "d": 1.5153261303901673,
          "domain": "cnn.com"
         },
         {
          "count": 0,
          "d": 1.5309596061706543,
          "domain": "cnn.com"
         },
         {
          "count": 0,
          "d": 1.5465930819511415,
          "domain": "cnn.com"
         },
         {
          "count": 0,
          "d": 1.5622265577316286,
          "domain": "cnn.com"
         },
         {
          "count": 0,
          "d": 1.5778600335121156,
          "domain": "cnn.com"
         },
         {
          "count": 0,
          "d": 1.5934935092926026,
          "domain": "cnn.com"
         },
         {
          "count": 0,
          "d": 0.045779407024383545,
          "domain": "wsj.com"
         },
         {
          "count": 0,
          "d": 0.0614128828048706,
          "domain": "wsj.com"
         },
         {
          "count": 1,
          "d": 0.07704635858535766,
          "domain": "wsj.com"
         },
         {
          "count": 3,
          "d": 0.09267983436584473,
          "domain": "wsj.com"
         },
         {
          "count": 4,
          "d": 0.10831331014633179,
          "domain": "wsj.com"
         },
         {
          "count": 8,
          "d": 0.12394678592681885,
          "domain": "wsj.com"
         },
         {
          "count": 16,
          "d": 0.13958026170730592,
          "domain": "wsj.com"
         },
         {
          "count": 18,
          "d": 0.155213737487793,
          "domain": "wsj.com"
         },
         {
          "count": 25,
          "d": 0.17084721326828003,
          "domain": "wsj.com"
         },
         {
          "count": 46,
          "d": 0.1864806890487671,
          "domain": "wsj.com"
         },
         {
          "count": 63,
          "d": 0.20211416482925415,
          "domain": "wsj.com"
         },
         {
          "count": 88,
          "d": 0.21774764060974122,
          "domain": "wsj.com"
         },
         {
          "count": 116,
          "d": 0.2333811163902283,
          "domain": "wsj.com"
         },
         {
          "count": 169,
          "d": 0.24901459217071534,
          "domain": "wsj.com"
         },
         {
          "count": 200,
          "d": 0.26464806795120244,
          "domain": "wsj.com"
         },
         {
          "count": 226,
          "d": 0.28028154373168945,
          "domain": "wsj.com"
         },
         {
          "count": 269,
          "d": 0.2959150195121765,
          "domain": "wsj.com"
         },
         {
          "count": 304,
          "d": 0.3115484952926636,
          "domain": "wsj.com"
         },
         {
          "count": 377,
          "d": 0.32718197107315067,
          "domain": "wsj.com"
         },
         {
          "count": 448,
          "d": 0.3428154468536377,
          "domain": "wsj.com"
         },
         {
          "count": 530,
          "d": 0.35844892263412476,
          "domain": "wsj.com"
         },
         {
          "count": 604,
          "d": 0.3740823984146118,
          "domain": "wsj.com"
         },
         {
          "count": 711,
          "d": 0.3897158741950989,
          "domain": "wsj.com"
         },
         {
          "count": 800,
          "d": 0.40534934997558597,
          "domain": "wsj.com"
         },
         {
          "count": 968,
          "d": 0.42098282575607304,
          "domain": "wsj.com"
         },
         {
          "count": 1044,
          "d": 0.43661630153656006,
          "domain": "wsj.com"
         },
         {
          "count": 1114,
          "d": 0.45224977731704713,
          "domain": "wsj.com"
         },
         {
          "count": 1274,
          "d": 0.4678832530975342,
          "domain": "wsj.com"
         },
         {
          "count": 1369,
          "d": 0.4835167288780213,
          "domain": "wsj.com"
         },
         {
          "count": 1429,
          "d": 0.49915020465850835,
          "domain": "wsj.com"
         },
         {
          "count": 1545,
          "d": 0.5147836804389954,
          "domain": "wsj.com"
         },
         {
          "count": 1598,
          "d": 0.5304171562194824,
          "domain": "wsj.com"
         },
         {
          "count": 1698,
          "d": 0.5460506319999695,
          "domain": "wsj.com"
         },
         {
          "count": 1791,
          "d": 0.5616841077804565,
          "domain": "wsj.com"
         },
         {
          "count": 1769,
          "d": 0.5773175835609436,
          "domain": "wsj.com"
         },
         {
          "count": 1830,
          "d": 0.5929510593414307,
          "domain": "wsj.com"
         },
         {
          "count": 1820,
          "d": 0.6085845351219178,
          "domain": "wsj.com"
         },
         {
          "count": 1876,
          "d": 0.6242180109024048,
          "domain": "wsj.com"
         },
         {
          "count": 1881,
          "d": 0.6398514866828918,
          "domain": "wsj.com"
         },
         {
          "count": 1951,
          "d": 0.655484962463379,
          "domain": "wsj.com"
         },
         {
          "count": 1840,
          "d": 0.671118438243866,
          "domain": "wsj.com"
         },
         {
          "count": 1703,
          "d": 0.6867519140243531,
          "domain": "wsj.com"
         },
         {
          "count": 1716,
          "d": 0.7023853898048401,
          "domain": "wsj.com"
         },
         {
          "count": 1596,
          "d": 0.7180188655853271,
          "domain": "wsj.com"
         },
         {
          "count": 1533,
          "d": 0.7336523413658143,
          "domain": "wsj.com"
         },
         {
          "count": 1439,
          "d": 0.7492858171463013,
          "domain": "wsj.com"
         },
         {
          "count": 1343,
          "d": 0.7649192929267884,
          "domain": "wsj.com"
         },
         {
          "count": 1242,
          "d": 0.7805527687072754,
          "domain": "wsj.com"
         },
         {
          "count": 1060,
          "d": 0.7961862444877625,
          "domain": "wsj.com"
         },
         {
          "count": 1034,
          "d": 0.8118197202682496,
          "domain": "wsj.com"
         },
         {
          "count": 915,
          "d": 0.8274531960487366,
          "domain": "wsj.com"
         },
         {
          "count": 789,
          "d": 0.8430866718292237,
          "domain": "wsj.com"
         },
         {
          "count": 684,
          "d": 0.8587201476097107,
          "domain": "wsj.com"
         },
         {
          "count": 593,
          "d": 0.8743536233901978,
          "domain": "wsj.com"
         },
         {
          "count": 508,
          "d": 0.8899870991706849,
          "domain": "wsj.com"
         },
         {
          "count": 464,
          "d": 0.9056205749511719,
          "domain": "wsj.com"
         },
         {
          "count": 331,
          "d": 0.921254050731659,
          "domain": "wsj.com"
         },
         {
          "count": 274,
          "d": 0.936887526512146,
          "domain": "wsj.com"
         },
         {
          "count": 207,
          "d": 0.9525210022926331,
          "domain": "wsj.com"
         },
         {
          "count": 195,
          "d": 0.9681544780731202,
          "domain": "wsj.com"
         },
         {
          "count": 142,
          "d": 0.9837879538536072,
          "domain": "wsj.com"
         },
         {
          "count": 136,
          "d": 0.9994214296340943,
          "domain": "wsj.com"
         },
         {
          "count": 97,
          "d": 1.0150549054145812,
          "domain": "wsj.com"
         },
         {
          "count": 98,
          "d": 1.0306883811950684,
          "domain": "wsj.com"
         },
         {
          "count": 57,
          "d": 1.0463218569755555,
          "domain": "wsj.com"
         },
         {
          "count": 50,
          "d": 1.0619553327560425,
          "domain": "wsj.com"
         },
         {
          "count": 30,
          "d": 1.0775888085365295,
          "domain": "wsj.com"
         },
         {
          "count": 33,
          "d": 1.0932222843170167,
          "domain": "wsj.com"
         },
         {
          "count": 27,
          "d": 1.1088557600975038,
          "domain": "wsj.com"
         },
         {
          "count": 22,
          "d": 1.1244892358779908,
          "domain": "wsj.com"
         },
         {
          "count": 20,
          "d": 1.1401227116584778,
          "domain": "wsj.com"
         },
         {
          "count": 11,
          "d": 1.1557561874389648,
          "domain": "wsj.com"
         },
         {
          "count": 9,
          "d": 1.171389663219452,
          "domain": "wsj.com"
         },
         {
          "count": 18,
          "d": 1.187023138999939,
          "domain": "wsj.com"
         },
         {
          "count": 10,
          "d": 1.202656614780426,
          "domain": "wsj.com"
         },
         {
          "count": 4,
          "d": 1.218290090560913,
          "domain": "wsj.com"
         },
         {
          "count": 2,
          "d": 1.2339235663414,
          "domain": "wsj.com"
         },
         {
          "count": 6,
          "d": 1.2495570421218873,
          "domain": "wsj.com"
         },
         {
          "count": 1,
          "d": 1.2651905179023744,
          "domain": "wsj.com"
         },
         {
          "count": 1,
          "d": 1.2808239936828614,
          "domain": "wsj.com"
         },
         {
          "count": 1,
          "d": 1.2964574694633484,
          "domain": "wsj.com"
         },
         {
          "count": 1,
          "d": 1.3120909452438354,
          "domain": "wsj.com"
         },
         {
          "count": 2,
          "d": 1.3277244210243226,
          "domain": "wsj.com"
         },
         {
          "count": 1,
          "d": 1.3433578968048097,
          "domain": "wsj.com"
         },
         {
          "count": 0,
          "d": 1.3589913725852967,
          "domain": "wsj.com"
         },
         {
          "count": 0,
          "d": 1.3746248483657837,
          "domain": "wsj.com"
         },
         {
          "count": 1,
          "d": 1.3902583241462707,
          "domain": "wsj.com"
         },
         {
          "count": 0,
          "d": 1.405891799926758,
          "domain": "wsj.com"
         },
         {
          "count": 0,
          "d": 1.421525275707245,
          "domain": "wsj.com"
         },
         {
          "count": 0,
          "d": 1.437158751487732,
          "domain": "wsj.com"
         },
         {
          "count": 0,
          "d": 1.452792227268219,
          "domain": "wsj.com"
         },
         {
          "count": 0,
          "d": 1.468425703048706,
          "domain": "wsj.com"
         },
         {
          "count": 0,
          "d": 1.4840591788291932,
          "domain": "wsj.com"
         },
         {
          "count": 0,
          "d": 1.4996926546096803,
          "domain": "wsj.com"
         },
         {
          "count": 0,
          "d": 1.5153261303901673,
          "domain": "wsj.com"
         },
         {
          "count": 0,
          "d": 1.5309596061706543,
          "domain": "wsj.com"
         },
         {
          "count": 0,
          "d": 1.5465930819511415,
          "domain": "wsj.com"
         },
         {
          "count": 0,
          "d": 1.5622265577316286,
          "domain": "wsj.com"
         },
         {
          "count": 0,
          "d": 1.5778600335121156,
          "domain": "wsj.com"
         },
         {
          "count": 0,
          "d": 1.5934935092926026,
          "domain": "wsj.com"
         },
         {
          "count": 0,
          "d": 0.045779407024383545,
          "domain": "apnews.com"
         },
         {
          "count": 0,
          "d": 0.0614128828048706,
          "domain": "apnews.com"
         },
         {
          "count": 0,
          "d": 0.07704635858535766,
          "domain": "apnews.com"
         },
         {
          "count": 0,
          "d": 0.09267983436584473,
          "domain": "apnews.com"
         },
         {
          "count": 0,
          "d": 0.10831331014633179,
          "domain": "apnews.com"
         },
         {
          "count": 1,
          "d": 0.12394678592681885,
          "domain": "apnews.com"
         },
         {
          "count": 0,
          "d": 0.13958026170730592,
          "domain": "apnews.com"
         },
         {
          "count": 1,
          "d": 0.155213737487793,
          "domain": "apnews.com"
         },
         {
          "count": 0,
          "d": 0.17084721326828003,
          "domain": "apnews.com"
         },
         {
          "count": 1,
          "d": 0.1864806890487671,
          "domain": "apnews.com"
         },
         {
          "count": 6,
          "d": 0.20211416482925415,
          "domain": "apnews.com"
         },
         {
          "count": 2,
          "d": 0.21774764060974122,
          "domain": "apnews.com"
         },
         {
          "count": 14,
          "d": 0.2333811163902283,
          "domain": "apnews.com"
         },
         {
          "count": 11,
          "d": 0.24901459217071534,
          "domain": "apnews.com"
         },
         {
          "count": 26,
          "d": 0.26464806795120244,
          "domain": "apnews.com"
         },
         {
          "count": 31,
          "d": 0.28028154373168945,
          "domain": "apnews.com"
         },
         {
          "count": 47,
          "d": 0.2959150195121765,
          "domain": "apnews.com"
         },
         {
          "count": 80,
          "d": 0.3115484952926636,
          "domain": "apnews.com"
         },
         {
          "count": 119,
          "d": 0.32718197107315067,
          "domain": "apnews.com"
         },
         {
          "count": 157,
          "d": 0.3428154468536377,
          "domain": "apnews.com"
         },
         {
          "count": 224,
          "d": 0.35844892263412476,
          "domain": "apnews.com"
         },
         {
          "count": 305,
          "d": 0.3740823984146118,
          "domain": "apnews.com"
         },
         {
          "count": 377,
          "d": 0.3897158741950989,
          "domain": "apnews.com"
         },
         {
          "count": 497,
          "d": 0.40534934997558597,
          "domain": "apnews.com"
         },
         {
          "count": 655,
          "d": 0.42098282575607304,
          "domain": "apnews.com"
         },
         {
          "count": 794,
          "d": 0.43661630153656006,
          "domain": "apnews.com"
         },
         {
          "count": 979,
          "d": 0.45224977731704713,
          "domain": "apnews.com"
         },
         {
          "count": 1110,
          "d": 0.4678832530975342,
          "domain": "apnews.com"
         },
         {
          "count": 1307,
          "d": 0.4835167288780213,
          "domain": "apnews.com"
         },
         {
          "count": 1465,
          "d": 0.49915020465850835,
          "domain": "apnews.com"
         },
         {
          "count": 1624,
          "d": 0.5147836804389954,
          "domain": "apnews.com"
         },
         {
          "count": 1803,
          "d": 0.5304171562194824,
          "domain": "apnews.com"
         },
         {
          "count": 1798,
          "d": 0.5460506319999695,
          "domain": "apnews.com"
         },
         {
          "count": 1953,
          "d": 0.5616841077804565,
          "domain": "apnews.com"
         },
         {
          "count": 1958,
          "d": 0.5773175835609436,
          "domain": "apnews.com"
         },
         {
          "count": 1887,
          "d": 0.5929510593414307,
          "domain": "apnews.com"
         },
         {
          "count": 1912,
          "d": 0.6085845351219178,
          "domain": "apnews.com"
         },
         {
          "count": 1981,
          "d": 0.6242180109024048,
          "domain": "apnews.com"
         },
         {
          "count": 1835,
          "d": 0.6398514866828918,
          "domain": "apnews.com"
         },
         {
          "count": 1713,
          "d": 0.655484962463379,
          "domain": "apnews.com"
         },
         {
          "count": 1537,
          "d": 0.671118438243866,
          "domain": "apnews.com"
         },
         {
          "count": 1448,
          "d": 0.6867519140243531,
          "domain": "apnews.com"
         },
         {
          "count": 1361,
          "d": 0.7023853898048401,
          "domain": "apnews.com"
         },
         {
          "count": 1222,
          "d": 0.7180188655853271,
          "domain": "apnews.com"
         },
         {
          "count": 1125,
          "d": 0.7336523413658143,
          "domain": "apnews.com"
         },
         {
          "count": 1085,
          "d": 0.7492858171463013,
          "domain": "apnews.com"
         },
         {
          "count": 1078,
          "d": 0.7649192929267884,
          "domain": "apnews.com"
         },
         {
          "count": 924,
          "d": 0.7805527687072754,
          "domain": "apnews.com"
         },
         {
          "count": 889,
          "d": 0.7961862444877625,
          "domain": "apnews.com"
         },
         {
          "count": 901,
          "d": 0.8118197202682496,
          "domain": "apnews.com"
         },
         {
          "count": 866,
          "d": 0.8274531960487366,
          "domain": "apnews.com"
         },
         {
          "count": 837,
          "d": 0.8430866718292237,
          "domain": "apnews.com"
         },
         {
          "count": 884,
          "d": 0.8587201476097107,
          "domain": "apnews.com"
         },
         {
          "count": 829,
          "d": 0.8743536233901978,
          "domain": "apnews.com"
         },
         {
          "count": 798,
          "d": 0.8899870991706849,
          "domain": "apnews.com"
         },
         {
          "count": 786,
          "d": 0.9056205749511719,
          "domain": "apnews.com"
         },
         {
          "count": 783,
          "d": 0.921254050731659,
          "domain": "apnews.com"
         },
         {
          "count": 772,
          "d": 0.936887526512146,
          "domain": "apnews.com"
         },
         {
          "count": 719,
          "d": 0.9525210022926331,
          "domain": "apnews.com"
         },
         {
          "count": 691,
          "d": 0.9681544780731202,
          "domain": "apnews.com"
         },
         {
          "count": 627,
          "d": 0.9837879538536072,
          "domain": "apnews.com"
         },
         {
          "count": 537,
          "d": 0.9994214296340943,
          "domain": "apnews.com"
         },
         {
          "count": 486,
          "d": 1.0150549054145812,
          "domain": "apnews.com"
         },
         {
          "count": 424,
          "d": 1.0306883811950684,
          "domain": "apnews.com"
         },
         {
          "count": 317,
          "d": 1.0463218569755555,
          "domain": "apnews.com"
         },
         {
          "count": 287,
          "d": 1.0619553327560425,
          "domain": "apnews.com"
         },
         {
          "count": 278,
          "d": 1.0775888085365295,
          "domain": "apnews.com"
         },
         {
          "count": 198,
          "d": 1.0932222843170167,
          "domain": "apnews.com"
         },
         {
          "count": 197,
          "d": 1.1088557600975038,
          "domain": "apnews.com"
         },
         {
          "count": 136,
          "d": 1.1244892358779908,
          "domain": "apnews.com"
         },
         {
          "count": 114,
          "d": 1.1401227116584778,
          "domain": "apnews.com"
         },
         {
          "count": 102,
          "d": 1.1557561874389648,
          "domain": "apnews.com"
         },
         {
          "count": 60,
          "d": 1.171389663219452,
          "domain": "apnews.com"
         },
         {
          "count": 75,
          "d": 1.187023138999939,
          "domain": "apnews.com"
         },
         {
          "count": 52,
          "d": 1.202656614780426,
          "domain": "apnews.com"
         },
         {
          "count": 37,
          "d": 1.218290090560913,
          "domain": "apnews.com"
         },
         {
          "count": 25,
          "d": 1.2339235663414,
          "domain": "apnews.com"
         },
         {
          "count": 29,
          "d": 1.2495570421218873,
          "domain": "apnews.com"
         },
         {
          "count": 15,
          "d": 1.2651905179023744,
          "domain": "apnews.com"
         },
         {
          "count": 11,
          "d": 1.2808239936828614,
          "domain": "apnews.com"
         },
         {
          "count": 5,
          "d": 1.2964574694633484,
          "domain": "apnews.com"
         },
         {
          "count": 5,
          "d": 1.3120909452438354,
          "domain": "apnews.com"
         },
         {
          "count": 3,
          "d": 1.3277244210243226,
          "domain": "apnews.com"
         },
         {
          "count": 1,
          "d": 1.3433578968048097,
          "domain": "apnews.com"
         },
         {
          "count": 2,
          "d": 1.3589913725852967,
          "domain": "apnews.com"
         },
         {
          "count": 1,
          "d": 1.3746248483657837,
          "domain": "apnews.com"
         },
         {
          "count": 2,
          "d": 1.3902583241462707,
          "domain": "apnews.com"
         },
         {
          "count": 0,
          "d": 1.405891799926758,
          "domain": "apnews.com"
         },
         {
          "count": 0,
          "d": 1.421525275707245,
          "domain": "apnews.com"
         },
         {
          "count": 1,
          "d": 1.437158751487732,
          "domain": "apnews.com"
         },
         {
          "count": 0,
          "d": 1.452792227268219,
          "domain": "apnews.com"
         },
         {
          "count": 0,
          "d": 1.468425703048706,
          "domain": "apnews.com"
         },
         {
          "count": 0,
          "d": 1.4840591788291932,
          "domain": "apnews.com"
         },
         {
          "count": 0,
          "d": 1.4996926546096803,
          "domain": "apnews.com"
         },
         {
          "count": 0,
          "d": 1.5153261303901673,
          "domain": "apnews.com"
         },
         {
          "count": 0,
          "d": 1.5309596061706543,
          "domain": "apnews.com"
         },
         {
          "count": 0,
          "d": 1.5465930819511415,
          "domain": "apnews.com"
         },
         {
          "count": 0,
          "d": 1.5622265577316286,
          "domain": "apnews.com"
         },
         {
          "count": 0,
          "d": 1.5778600335121156,
          "domain": "apnews.com"
         },
         {
          "count": 0,
          "d": 1.5934935092926026,
          "domain": "apnews.com"
         },
         {
          "count": 0,
          "d": 0.045779407024383545,
          "domain": "breitbart.com"
         },
         {
          "count": 0,
          "d": 0.0614128828048706,
          "domain": "breitbart.com"
         },
         {
          "count": 1,
          "d": 0.07704635858535766,
          "domain": "breitbart.com"
         },
         {
          "count": 2,
          "d": 0.09267983436584473,
          "domain": "breitbart.com"
         },
         {
          "count": 1,
          "d": 0.10831331014633179,
          "domain": "breitbart.com"
         },
         {
          "count": 9,
          "d": 0.12394678592681885,
          "domain": "breitbart.com"
         },
         {
          "count": 13,
          "d": 0.13958026170730592,
          "domain": "breitbart.com"
         },
         {
          "count": 24,
          "d": 0.155213737487793,
          "domain": "breitbart.com"
         },
         {
          "count": 42,
          "d": 0.17084721326828003,
          "domain": "breitbart.com"
         },
         {
          "count": 53,
          "d": 0.1864806890487671,
          "domain": "breitbart.com"
         },
         {
          "count": 58,
          "d": 0.20211416482925415,
          "domain": "breitbart.com"
         },
         {
          "count": 95,
          "d": 0.21774764060974122,
          "domain": "breitbart.com"
         },
         {
          "count": 105,
          "d": 0.2333811163902283,
          "domain": "breitbart.com"
         },
         {
          "count": 140,
          "d": 0.24901459217071534,
          "domain": "breitbart.com"
         },
         {
          "count": 166,
          "d": 0.26464806795120244,
          "domain": "breitbart.com"
         },
         {
          "count": 237,
          "d": 0.28028154373168945,
          "domain": "breitbart.com"
         },
         {
          "count": 294,
          "d": 0.2959150195121765,
          "domain": "breitbart.com"
         },
         {
          "count": 331,
          "d": 0.3115484952926636,
          "domain": "breitbart.com"
         },
         {
          "count": 335,
          "d": 0.32718197107315067,
          "domain": "breitbart.com"
         },
         {
          "count": 460,
          "d": 0.3428154468536377,
          "domain": "breitbart.com"
         },
         {
          "count": 543,
          "d": 0.35844892263412476,
          "domain": "breitbart.com"
         },
         {
          "count": 569,
          "d": 0.3740823984146118,
          "domain": "breitbart.com"
         },
         {
          "count": 685,
          "d": 0.3897158741950989,
          "domain": "breitbart.com"
         },
         {
          "count": 807,
          "d": 0.40534934997558597,
          "domain": "breitbart.com"
         },
         {
          "count": 919,
          "d": 0.42098282575607304,
          "domain": "breitbart.com"
         },
         {
          "count": 1001,
          "d": 0.43661630153656006,
          "domain": "breitbart.com"
         },
         {
          "count": 1104,
          "d": 0.45224977731704713,
          "domain": "breitbart.com"
         },
         {
          "count": 1192,
          "d": 0.4678832530975342,
          "domain": "breitbart.com"
         },
         {
          "count": 1324,
          "d": 0.4835167288780213,
          "domain": "breitbart.com"
         },
         {
          "count": 1467,
          "d": 0.49915020465850835,
          "domain": "breitbart.com"
         },
         {
          "count": 1455,
          "d": 0.5147836804389954,
          "domain": "breitbart.com"
         },
         {
          "count": 1615,
          "d": 0.5304171562194824,
          "domain": "breitbart.com"
         },
         {
          "count": 1605,
          "d": 0.5460506319999695,
          "domain": "breitbart.com"
         },
         {
          "count": 1696,
          "d": 0.5616841077804565,
          "domain": "breitbart.com"
         },
         {
          "count": 1718,
          "d": 0.5773175835609436,
          "domain": "breitbart.com"
         },
         {
          "count": 1762,
          "d": 0.5929510593414307,
          "domain": "breitbart.com"
         },
         {
          "count": 1759,
          "d": 0.6085845351219178,
          "domain": "breitbart.com"
         },
         {
          "count": 1688,
          "d": 0.6242180109024048,
          "domain": "breitbart.com"
         },
         {
          "count": 1777,
          "d": 0.6398514866828918,
          "domain": "breitbart.com"
         },
         {
          "count": 1694,
          "d": 0.655484962463379,
          "domain": "breitbart.com"
         },
         {
          "count": 1698,
          "d": 0.671118438243866,
          "domain": "breitbart.com"
         },
         {
          "count": 1578,
          "d": 0.6867519140243531,
          "domain": "breitbart.com"
         },
         {
          "count": 1610,
          "d": 0.7023853898048401,
          "domain": "breitbart.com"
         },
         {
          "count": 1521,
          "d": 0.7180188655853271,
          "domain": "breitbart.com"
         },
         {
          "count": 1488,
          "d": 0.7336523413658143,
          "domain": "breitbart.com"
         },
         {
          "count": 1386,
          "d": 0.7492858171463013,
          "domain": "breitbart.com"
         },
         {
          "count": 1362,
          "d": 0.7649192929267884,
          "domain": "breitbart.com"
         },
         {
          "count": 1270,
          "d": 0.7805527687072754,
          "domain": "breitbart.com"
         },
         {
          "count": 1127,
          "d": 0.7961862444877625,
          "domain": "breitbart.com"
         },
         {
          "count": 1081,
          "d": 0.8118197202682496,
          "domain": "breitbart.com"
         },
         {
          "count": 1041,
          "d": 0.8274531960487366,
          "domain": "breitbart.com"
         },
         {
          "count": 897,
          "d": 0.8430866718292237,
          "domain": "breitbart.com"
         },
         {
          "count": 844,
          "d": 0.8587201476097107,
          "domain": "breitbart.com"
         },
         {
          "count": 705,
          "d": 0.8743536233901978,
          "domain": "breitbart.com"
         },
         {
          "count": 639,
          "d": 0.8899870991706849,
          "domain": "breitbart.com"
         },
         {
          "count": 559,
          "d": 0.9056205749511719,
          "domain": "breitbart.com"
         },
         {
          "count": 436,
          "d": 0.921254050731659,
          "domain": "breitbart.com"
         },
         {
          "count": 395,
          "d": 0.936887526512146,
          "domain": "breitbart.com"
         },
         {
          "count": 338,
          "d": 0.9525210022926331,
          "domain": "breitbart.com"
         },
         {
          "count": 278,
          "d": 0.9681544780731202,
          "domain": "breitbart.com"
         },
         {
          "count": 254,
          "d": 0.9837879538536072,
          "domain": "breitbart.com"
         },
         {
          "count": 174,
          "d": 0.9994214296340943,
          "domain": "breitbart.com"
         },
         {
          "count": 140,
          "d": 1.0150549054145812,
          "domain": "breitbart.com"
         },
         {
          "count": 142,
          "d": 1.0306883811950684,
          "domain": "breitbart.com"
         },
         {
          "count": 91,
          "d": 1.0463218569755555,
          "domain": "breitbart.com"
         },
         {
          "count": 79,
          "d": 1.0619553327560425,
          "domain": "breitbart.com"
         },
         {
          "count": 61,
          "d": 1.0775888085365295,
          "domain": "breitbart.com"
         },
         {
          "count": 51,
          "d": 1.0932222843170167,
          "domain": "breitbart.com"
         },
         {
          "count": 45,
          "d": 1.1088557600975038,
          "domain": "breitbart.com"
         },
         {
          "count": 36,
          "d": 1.1244892358779908,
          "domain": "breitbart.com"
         },
         {
          "count": 37,
          "d": 1.1401227116584778,
          "domain": "breitbart.com"
         },
         {
          "count": 19,
          "d": 1.1557561874389648,
          "domain": "breitbart.com"
         },
         {
          "count": 12,
          "d": 1.171389663219452,
          "domain": "breitbart.com"
         },
         {
          "count": 15,
          "d": 1.187023138999939,
          "domain": "breitbart.com"
         },
         {
          "count": 9,
          "d": 1.202656614780426,
          "domain": "breitbart.com"
         },
         {
          "count": 4,
          "d": 1.218290090560913,
          "domain": "breitbart.com"
         },
         {
          "count": 3,
          "d": 1.2339235663414,
          "domain": "breitbart.com"
         },
         {
          "count": 4,
          "d": 1.2495570421218873,
          "domain": "breitbart.com"
         },
         {
          "count": 3,
          "d": 1.2651905179023744,
          "domain": "breitbart.com"
         },
         {
          "count": 2,
          "d": 1.2808239936828614,
          "domain": "breitbart.com"
         },
         {
          "count": 1,
          "d": 1.2964574694633484,
          "domain": "breitbart.com"
         },
         {
          "count": 1,
          "d": 1.3120909452438354,
          "domain": "breitbart.com"
         },
         {
          "count": 0,
          "d": 1.3277244210243226,
          "domain": "breitbart.com"
         },
         {
          "count": 0,
          "d": 1.3433578968048097,
          "domain": "breitbart.com"
         },
         {
          "count": 0,
          "d": 1.3589913725852967,
          "domain": "breitbart.com"
         },
         {
          "count": 0,
          "d": 1.3746248483657837,
          "domain": "breitbart.com"
         },
         {
          "count": 0,
          "d": 1.3902583241462707,
          "domain": "breitbart.com"
         },
         {
          "count": 1,
          "d": 1.405891799926758,
          "domain": "breitbart.com"
         },
         {
          "count": 0,
          "d": 1.421525275707245,
          "domain": "breitbart.com"
         },
         {
          "count": 0,
          "d": 1.437158751487732,
          "domain": "breitbart.com"
         },
         {
          "count": 0,
          "d": 1.452792227268219,
          "domain": "breitbart.com"
         },
         {
          "count": 0,
          "d": 1.468425703048706,
          "domain": "breitbart.com"
         },
         {
          "count": 0,
          "d": 1.4840591788291932,
          "domain": "breitbart.com"
         },
         {
          "count": 0,
          "d": 1.4996926546096803,
          "domain": "breitbart.com"
         },
         {
          "count": 0,
          "d": 1.5153261303901673,
          "domain": "breitbart.com"
         },
         {
          "count": 0,
          "d": 1.5309596061706543,
          "domain": "breitbart.com"
         },
         {
          "count": 0,
          "d": 1.5465930819511415,
          "domain": "breitbart.com"
         },
         {
          "count": 0,
          "d": 1.5622265577316286,
          "domain": "breitbart.com"
         },
         {
          "count": 0,
          "d": 1.5778600335121156,
          "domain": "breitbart.com"
         },
         {
          "count": 0,
          "d": 1.5934935092926026,
          "domain": "breitbart.com"
         },
         {
          "count": 0,
          "d": 0.045779407024383545,
          "domain": "foxnews.com"
         },
         {
          "count": 0,
          "d": 0.0614128828048706,
          "domain": "foxnews.com"
         },
         {
          "count": 4,
          "d": 0.07704635858535766,
          "domain": "foxnews.com"
         },
         {
          "count": 9,
          "d": 0.09267983436584473,
          "domain": "foxnews.com"
         },
         {
          "count": 13,
          "d": 0.10831331014633179,
          "domain": "foxnews.com"
         },
         {
          "count": 26,
          "d": 0.12394678592681885,
          "domain": "foxnews.com"
         },
         {
          "count": 47,
          "d": 0.13958026170730592,
          "domain": "foxnews.com"
         },
         {
          "count": 61,
          "d": 0.155213737487793,
          "domain": "foxnews.com"
         },
         {
          "count": 108,
          "d": 0.17084721326828003,
          "domain": "foxnews.com"
         },
         {
          "count": 149,
          "d": 0.1864806890487671,
          "domain": "foxnews.com"
         },
         {
          "count": 197,
          "d": 0.20211416482925415,
          "domain": "foxnews.com"
         },
         {
          "count": 281,
          "d": 0.21774764060974122,
          "domain": "foxnews.com"
         },
         {
          "count": 331,
          "d": 0.2333811163902283,
          "domain": "foxnews.com"
         },
         {
          "count": 419,
          "d": 0.24901459217071534,
          "domain": "foxnews.com"
         },
         {
          "count": 431,
          "d": 0.26464806795120244,
          "domain": "foxnews.com"
         },
         {
          "count": 549,
          "d": 0.28028154373168945,
          "domain": "foxnews.com"
         },
         {
          "count": 552,
          "d": 0.2959150195121765,
          "domain": "foxnews.com"
         },
         {
          "count": 618,
          "d": 0.3115484952926636,
          "domain": "foxnews.com"
         },
         {
          "count": 745,
          "d": 0.32718197107315067,
          "domain": "foxnews.com"
         },
         {
          "count": 781,
          "d": 0.3428154468536377,
          "domain": "foxnews.com"
         },
         {
          "count": 880,
          "d": 0.35844892263412476,
          "domain": "foxnews.com"
         },
         {
          "count": 1000,
          "d": 0.3740823984146118,
          "domain": "foxnews.com"
         },
         {
          "count": 1096,
          "d": 0.3897158741950989,
          "domain": "foxnews.com"
         },
         {
          "count": 1252,
          "d": 0.40534934997558597,
          "domain": "foxnews.com"
         },
         {
          "count": 1378,
          "d": 0.42098282575607304,
          "domain": "foxnews.com"
         },
         {
          "count": 1474,
          "d": 0.43661630153656006,
          "domain": "foxnews.com"
         },
         {
          "count": 1544,
          "d": 0.45224977731704713,
          "domain": "foxnews.com"
         },
         {
          "count": 1699,
          "d": 0.4678832530975342,
          "domain": "foxnews.com"
         },
         {
          "count": 1731,
          "d": 0.4835167288780213,
          "domain": "foxnews.com"
         },
         {
          "count": 1947,
          "d": 0.49915020465850835,
          "domain": "foxnews.com"
         },
         {
          "count": 1934,
          "d": 0.5147836804389954,
          "domain": "foxnews.com"
         },
         {
          "count": 1966,
          "d": 0.5304171562194824,
          "domain": "foxnews.com"
         },
         {
          "count": 1955,
          "d": 0.5460506319999695,
          "domain": "foxnews.com"
         },
         {
          "count": 1951,
          "d": 0.5616841077804565,
          "domain": "foxnews.com"
         },
         {
          "count": 1959,
          "d": 0.5773175835609436,
          "domain": "foxnews.com"
         },
         {
          "count": 1812,
          "d": 0.5929510593414307,
          "domain": "foxnews.com"
         },
         {
          "count": 1722,
          "d": 0.6085845351219178,
          "domain": "foxnews.com"
         },
         {
          "count": 1684,
          "d": 0.6242180109024048,
          "domain": "foxnews.com"
         },
         {
          "count": 1584,
          "d": 0.6398514866828918,
          "domain": "foxnews.com"
         },
         {
          "count": 1407,
          "d": 0.655484962463379,
          "domain": "foxnews.com"
         },
         {
          "count": 1356,
          "d": 0.671118438243866,
          "domain": "foxnews.com"
         },
         {
          "count": 1232,
          "d": 0.6867519140243531,
          "domain": "foxnews.com"
         },
         {
          "count": 1125,
          "d": 0.7023853898048401,
          "domain": "foxnews.com"
         },
         {
          "count": 1043,
          "d": 0.7180188655853271,
          "domain": "foxnews.com"
         },
         {
          "count": 926,
          "d": 0.7336523413658143,
          "domain": "foxnews.com"
         },
         {
          "count": 910,
          "d": 0.7492858171463013,
          "domain": "foxnews.com"
         },
         {
          "count": 844,
          "d": 0.7649192929267884,
          "domain": "foxnews.com"
         },
         {
          "count": 769,
          "d": 0.7805527687072754,
          "domain": "foxnews.com"
         },
         {
          "count": 641,
          "d": 0.7961862444877625,
          "domain": "foxnews.com"
         },
         {
          "count": 583,
          "d": 0.8118197202682496,
          "domain": "foxnews.com"
         },
         {
          "count": 501,
          "d": 0.8274531960487366,
          "domain": "foxnews.com"
         },
         {
          "count": 447,
          "d": 0.8430866718292237,
          "domain": "foxnews.com"
         },
         {
          "count": 384,
          "d": 0.8587201476097107,
          "domain": "foxnews.com"
         },
         {
          "count": 342,
          "d": 0.8743536233901978,
          "domain": "foxnews.com"
         },
         {
          "count": 276,
          "d": 0.8899870991706849,
          "domain": "foxnews.com"
         },
         {
          "count": 249,
          "d": 0.9056205749511719,
          "domain": "foxnews.com"
         },
         {
          "count": 203,
          "d": 0.921254050731659,
          "domain": "foxnews.com"
         },
         {
          "count": 158,
          "d": 0.936887526512146,
          "domain": "foxnews.com"
         },
         {
          "count": 134,
          "d": 0.9525210022926331,
          "domain": "foxnews.com"
         },
         {
          "count": 124,
          "d": 0.9681544780731202,
          "domain": "foxnews.com"
         },
         {
          "count": 103,
          "d": 0.9837879538536072,
          "domain": "foxnews.com"
         },
         {
          "count": 84,
          "d": 0.9994214296340943,
          "domain": "foxnews.com"
         },
         {
          "count": 59,
          "d": 1.0150549054145812,
          "domain": "foxnews.com"
         },
         {
          "count": 67,
          "d": 1.0306883811950684,
          "domain": "foxnews.com"
         },
         {
          "count": 41,
          "d": 1.0463218569755555,
          "domain": "foxnews.com"
         },
         {
          "count": 39,
          "d": 1.0619553327560425,
          "domain": "foxnews.com"
         },
         {
          "count": 31,
          "d": 1.0775888085365295,
          "domain": "foxnews.com"
         },
         {
          "count": 24,
          "d": 1.0932222843170167,
          "domain": "foxnews.com"
         },
         {
          "count": 18,
          "d": 1.1088557600975038,
          "domain": "foxnews.com"
         },
         {
          "count": 7,
          "d": 1.1244892358779908,
          "domain": "foxnews.com"
         },
         {
          "count": 10,
          "d": 1.1401227116584778,
          "domain": "foxnews.com"
         },
         {
          "count": 6,
          "d": 1.1557561874389648,
          "domain": "foxnews.com"
         },
         {
          "count": 8,
          "d": 1.171389663219452,
          "domain": "foxnews.com"
         },
         {
          "count": 5,
          "d": 1.187023138999939,
          "domain": "foxnews.com"
         },
         {
          "count": 6,
          "d": 1.202656614780426,
          "domain": "foxnews.com"
         },
         {
          "count": 3,
          "d": 1.218290090560913,
          "domain": "foxnews.com"
         },
         {
          "count": 2,
          "d": 1.2339235663414,
          "domain": "foxnews.com"
         },
         {
          "count": 2,
          "d": 1.2495570421218873,
          "domain": "foxnews.com"
         },
         {
          "count": 0,
          "d": 1.2651905179023744,
          "domain": "foxnews.com"
         },
         {
          "count": 1,
          "d": 1.2808239936828614,
          "domain": "foxnews.com"
         },
         {
          "count": 1,
          "d": 1.2964574694633484,
          "domain": "foxnews.com"
         },
         {
          "count": 0,
          "d": 1.3120909452438354,
          "domain": "foxnews.com"
         },
         {
          "count": 1,
          "d": 1.3277244210243226,
          "domain": "foxnews.com"
         },
         {
          "count": 0,
          "d": 1.3433578968048097,
          "domain": "foxnews.com"
         },
         {
          "count": 0,
          "d": 1.3589913725852967,
          "domain": "foxnews.com"
         },
         {
          "count": 1,
          "d": 1.3746248483657837,
          "domain": "foxnews.com"
         },
         {
          "count": 0,
          "d": 1.3902583241462707,
          "domain": "foxnews.com"
         },
         {
          "count": 0,
          "d": 1.405891799926758,
          "domain": "foxnews.com"
         },
         {
          "count": 0,
          "d": 1.421525275707245,
          "domain": "foxnews.com"
         },
         {
          "count": 0,
          "d": 1.437158751487732,
          "domain": "foxnews.com"
         },
         {
          "count": 0,
          "d": 1.452792227268219,
          "domain": "foxnews.com"
         },
         {
          "count": 0,
          "d": 1.468425703048706,
          "domain": "foxnews.com"
         },
         {
          "count": 0,
          "d": 1.4840591788291932,
          "domain": "foxnews.com"
         },
         {
          "count": 0,
          "d": 1.4996926546096803,
          "domain": "foxnews.com"
         },
         {
          "count": 0,
          "d": 1.5153261303901673,
          "domain": "foxnews.com"
         },
         {
          "count": 0,
          "d": 1.5309596061706543,
          "domain": "foxnews.com"
         },
         {
          "count": 0,
          "d": 1.5465930819511415,
          "domain": "foxnews.com"
         },
         {
          "count": 0,
          "d": 1.5622265577316286,
          "domain": "foxnews.com"
         },
         {
          "count": 0,
          "d": 1.5778600335121156,
          "domain": "foxnews.com"
         },
         {
          "count": 0,
          "d": 1.5934935092926026,
          "domain": "foxnews.com"
         },
         {
          "count": 1,
          "d": 0.045779407024383545,
          "domain": "washingtonpost.com"
         },
         {
          "count": 0,
          "d": 0.0614128828048706,
          "domain": "washingtonpost.com"
         },
         {
          "count": 1,
          "d": 0.07704635858535766,
          "domain": "washingtonpost.com"
         },
         {
          "count": 4,
          "d": 0.09267983436584473,
          "domain": "washingtonpost.com"
         },
         {
          "count": 11,
          "d": 0.10831331014633179,
          "domain": "washingtonpost.com"
         },
         {
          "count": 36,
          "d": 0.12394678592681885,
          "domain": "washingtonpost.com"
         },
         {
          "count": 41,
          "d": 0.13958026170730592,
          "domain": "washingtonpost.com"
         },
         {
          "count": 84,
          "d": 0.155213737487793,
          "domain": "washingtonpost.com"
         },
         {
          "count": 120,
          "d": 0.17084721326828003,
          "domain": "washingtonpost.com"
         },
         {
          "count": 138,
          "d": 0.1864806890487671,
          "domain": "washingtonpost.com"
         },
         {
          "count": 206,
          "d": 0.20211416482925415,
          "domain": "washingtonpost.com"
         },
         {
          "count": 266,
          "d": 0.21774764060974122,
          "domain": "washingtonpost.com"
         },
         {
          "count": 335,
          "d": 0.2333811163902283,
          "domain": "washingtonpost.com"
         },
         {
          "count": 369,
          "d": 0.24901459217071534,
          "domain": "washingtonpost.com"
         },
         {
          "count": 411,
          "d": 0.26464806795120244,
          "domain": "washingtonpost.com"
         },
         {
          "count": 466,
          "d": 0.28028154373168945,
          "domain": "washingtonpost.com"
         },
         {
          "count": 537,
          "d": 0.2959150195121765,
          "domain": "washingtonpost.com"
         },
         {
          "count": 656,
          "d": 0.3115484952926636,
          "domain": "washingtonpost.com"
         },
         {
          "count": 699,
          "d": 0.32718197107315067,
          "domain": "washingtonpost.com"
         },
         {
          "count": 799,
          "d": 0.3428154468536377,
          "domain": "washingtonpost.com"
         },
         {
          "count": 851,
          "d": 0.35844892263412476,
          "domain": "washingtonpost.com"
         },
         {
          "count": 1040,
          "d": 0.3740823984146118,
          "domain": "washingtonpost.com"
         },
         {
          "count": 1096,
          "d": 0.3897158741950989,
          "domain": "washingtonpost.com"
         },
         {
          "count": 1213,
          "d": 0.40534934997558597,
          "domain": "washingtonpost.com"
         },
         {
          "count": 1393,
          "d": 0.42098282575607304,
          "domain": "washingtonpost.com"
         },
         {
          "count": 1442,
          "d": 0.43661630153656006,
          "domain": "washingtonpost.com"
         },
         {
          "count": 1622,
          "d": 0.45224977731704713,
          "domain": "washingtonpost.com"
         },
         {
          "count": 1600,
          "d": 0.4678832530975342,
          "domain": "washingtonpost.com"
         },
         {
          "count": 1634,
          "d": 0.4835167288780213,
          "domain": "washingtonpost.com"
         },
         {
          "count": 1828,
          "d": 0.49915020465850835,
          "domain": "washingtonpost.com"
         },
         {
          "count": 1804,
          "d": 0.5147836804389954,
          "domain": "washingtonpost.com"
         },
         {
          "count": 1926,
          "d": 0.5304171562194824,
          "domain": "washingtonpost.com"
         },
         {
          "count": 1984,
          "d": 0.5460506319999695,
          "domain": "washingtonpost.com"
         },
         {
          "count": 1846,
          "d": 0.5616841077804565,
          "domain": "washingtonpost.com"
         },
         {
          "count": 1735,
          "d": 0.5773175835609436,
          "domain": "washingtonpost.com"
         },
         {
          "count": 1753,
          "d": 0.5929510593414307,
          "domain": "washingtonpost.com"
         },
         {
          "count": 1681,
          "d": 0.6085845351219178,
          "domain": "washingtonpost.com"
         },
         {
          "count": 1538,
          "d": 0.6242180109024048,
          "domain": "washingtonpost.com"
         },
         {
          "count": 1535,
          "d": 0.6398514866828918,
          "domain": "washingtonpost.com"
         },
         {
          "count": 1414,
          "d": 0.655484962463379,
          "domain": "washingtonpost.com"
         },
         {
          "count": 1259,
          "d": 0.671118438243866,
          "domain": "washingtonpost.com"
         },
         {
          "count": 1199,
          "d": 0.6867519140243531,
          "domain": "washingtonpost.com"
         },
         {
          "count": 1168,
          "d": 0.7023853898048401,
          "domain": "washingtonpost.com"
         },
         {
          "count": 1064,
          "d": 0.7180188655853271,
          "domain": "washingtonpost.com"
         },
         {
          "count": 1010,
          "d": 0.7336523413658143,
          "domain": "washingtonpost.com"
         },
         {
          "count": 927,
          "d": 0.7492858171463013,
          "domain": "washingtonpost.com"
         },
         {
          "count": 904,
          "d": 0.7649192929267884,
          "domain": "washingtonpost.com"
         },
         {
          "count": 809,
          "d": 0.7805527687072754,
          "domain": "washingtonpost.com"
         },
         {
          "count": 652,
          "d": 0.7961862444877625,
          "domain": "washingtonpost.com"
         },
         {
          "count": 644,
          "d": 0.8118197202682496,
          "domain": "washingtonpost.com"
         },
         {
          "count": 583,
          "d": 0.8274531960487366,
          "domain": "washingtonpost.com"
         },
         {
          "count": 548,
          "d": 0.8430866718292237,
          "domain": "washingtonpost.com"
         },
         {
          "count": 476,
          "d": 0.8587201476097107,
          "domain": "washingtonpost.com"
         },
         {
          "count": 392,
          "d": 0.8743536233901978,
          "domain": "washingtonpost.com"
         },
         {
          "count": 384,
          "d": 0.8899870991706849,
          "domain": "washingtonpost.com"
         },
         {
          "count": 304,
          "d": 0.9056205749511719,
          "domain": "washingtonpost.com"
         },
         {
          "count": 290,
          "d": 0.921254050731659,
          "domain": "washingtonpost.com"
         },
         {
          "count": 220,
          "d": 0.936887526512146,
          "domain": "washingtonpost.com"
         },
         {
          "count": 218,
          "d": 0.9525210022926331,
          "domain": "washingtonpost.com"
         },
         {
          "count": 196,
          "d": 0.9681544780731202,
          "domain": "washingtonpost.com"
         },
         {
          "count": 130,
          "d": 0.9837879538536072,
          "domain": "washingtonpost.com"
         },
         {
          "count": 109,
          "d": 0.9994214296340943,
          "domain": "washingtonpost.com"
         },
         {
          "count": 89,
          "d": 1.0150549054145812,
          "domain": "washingtonpost.com"
         },
         {
          "count": 87,
          "d": 1.0306883811950684,
          "domain": "washingtonpost.com"
         },
         {
          "count": 78,
          "d": 1.0463218569755555,
          "domain": "washingtonpost.com"
         },
         {
          "count": 55,
          "d": 1.0619553327560425,
          "domain": "washingtonpost.com"
         },
         {
          "count": 41,
          "d": 1.0775888085365295,
          "domain": "washingtonpost.com"
         },
         {
          "count": 35,
          "d": 1.0932222843170167,
          "domain": "washingtonpost.com"
         },
         {
          "count": 27,
          "d": 1.1088557600975038,
          "domain": "washingtonpost.com"
         },
         {
          "count": 17,
          "d": 1.1244892358779908,
          "domain": "washingtonpost.com"
         },
         {
          "count": 24,
          "d": 1.1401227116584778,
          "domain": "washingtonpost.com"
         },
         {
          "count": 17,
          "d": 1.1557561874389648,
          "domain": "washingtonpost.com"
         },
         {
          "count": 10,
          "d": 1.171389663219452,
          "domain": "washingtonpost.com"
         },
         {
          "count": 9,
          "d": 1.187023138999939,
          "domain": "washingtonpost.com"
         },
         {
          "count": 7,
          "d": 1.202656614780426,
          "domain": "washingtonpost.com"
         },
         {
          "count": 6,
          "d": 1.218290090560913,
          "domain": "washingtonpost.com"
         },
         {
          "count": 4,
          "d": 1.2339235663414,
          "domain": "washingtonpost.com"
         },
         {
          "count": 4,
          "d": 1.2495570421218873,
          "domain": "washingtonpost.com"
         },
         {
          "count": 2,
          "d": 1.2651905179023744,
          "domain": "washingtonpost.com"
         },
         {
          "count": 2,
          "d": 1.2808239936828614,
          "domain": "washingtonpost.com"
         },
         {
          "count": 0,
          "d": 1.2964574694633484,
          "domain": "washingtonpost.com"
         },
         {
          "count": 1,
          "d": 1.3120909452438354,
          "domain": "washingtonpost.com"
         },
         {
          "count": 1,
          "d": 1.3277244210243226,
          "domain": "washingtonpost.com"
         },
         {
          "count": 1,
          "d": 1.3433578968048097,
          "domain": "washingtonpost.com"
         },
         {
          "count": 0,
          "d": 1.3589913725852967,
          "domain": "washingtonpost.com"
         },
         {
          "count": 0,
          "d": 1.3746248483657837,
          "domain": "washingtonpost.com"
         },
         {
          "count": 0,
          "d": 1.3902583241462707,
          "domain": "washingtonpost.com"
         },
         {
          "count": 0,
          "d": 1.405891799926758,
          "domain": "washingtonpost.com"
         },
         {
          "count": 0,
          "d": 1.421525275707245,
          "domain": "washingtonpost.com"
         },
         {
          "count": 0,
          "d": 1.437158751487732,
          "domain": "washingtonpost.com"
         },
         {
          "count": 1,
          "d": 1.452792227268219,
          "domain": "washingtonpost.com"
         },
         {
          "count": 1,
          "d": 1.468425703048706,
          "domain": "washingtonpost.com"
         },
         {
          "count": 0,
          "d": 1.4840591788291932,
          "domain": "washingtonpost.com"
         },
         {
          "count": 0,
          "d": 1.4996926546096803,
          "domain": "washingtonpost.com"
         },
         {
          "count": 0,
          "d": 1.5153261303901673,
          "domain": "washingtonpost.com"
         },
         {
          "count": 0,
          "d": 1.5309596061706543,
          "domain": "washingtonpost.com"
         },
         {
          "count": 0,
          "d": 1.5465930819511415,
          "domain": "washingtonpost.com"
         },
         {
          "count": 0,
          "d": 1.5622265577316286,
          "domain": "washingtonpost.com"
         },
         {
          "count": 0,
          "d": 1.5778600335121156,
          "domain": "washingtonpost.com"
         },
         {
          "count": 0,
          "d": 1.5934935092926026,
          "domain": "washingtonpost.com"
         },
         {
          "count": 0,
          "d": 0.045779407024383545,
          "domain": "buzzfeed.com"
         },
         {
          "count": 0,
          "d": 0.0614128828048706,
          "domain": "buzzfeed.com"
         },
         {
          "count": 0,
          "d": 0.07704635858535766,
          "domain": "buzzfeed.com"
         },
         {
          "count": 0,
          "d": 0.09267983436584473,
          "domain": "buzzfeed.com"
         },
         {
          "count": 0,
          "d": 0.10831331014633179,
          "domain": "buzzfeed.com"
         },
         {
          "count": 0,
          "d": 0.12394678592681885,
          "domain": "buzzfeed.com"
         },
         {
          "count": 2,
          "d": 0.13958026170730592,
          "domain": "buzzfeed.com"
         },
         {
          "count": 2,
          "d": 0.155213737487793,
          "domain": "buzzfeed.com"
         },
         {
          "count": 3,
          "d": 0.17084721326828003,
          "domain": "buzzfeed.com"
         },
         {
          "count": 10,
          "d": 0.1864806890487671,
          "domain": "buzzfeed.com"
         },
         {
          "count": 13,
          "d": 0.20211416482925415,
          "domain": "buzzfeed.com"
         },
         {
          "count": 8,
          "d": 0.21774764060974122,
          "domain": "buzzfeed.com"
         },
         {
          "count": 15,
          "d": 0.2333811163902283,
          "domain": "buzzfeed.com"
         },
         {
          "count": 26,
          "d": 0.24901459217071534,
          "domain": "buzzfeed.com"
         },
         {
          "count": 34,
          "d": 0.26464806795120244,
          "domain": "buzzfeed.com"
         },
         {
          "count": 34,
          "d": 0.28028154373168945,
          "domain": "buzzfeed.com"
         },
         {
          "count": 44,
          "d": 0.2959150195121765,
          "domain": "buzzfeed.com"
         },
         {
          "count": 54,
          "d": 0.3115484952926636,
          "domain": "buzzfeed.com"
         },
         {
          "count": 68,
          "d": 0.32718197107315067,
          "domain": "buzzfeed.com"
         },
         {
          "count": 103,
          "d": 0.3428154468536377,
          "domain": "buzzfeed.com"
         },
         {
          "count": 91,
          "d": 0.35844892263412476,
          "domain": "buzzfeed.com"
         },
         {
          "count": 106,
          "d": 0.3740823984146118,
          "domain": "buzzfeed.com"
         },
         {
          "count": 121,
          "d": 0.3897158741950989,
          "domain": "buzzfeed.com"
         },
         {
          "count": 160,
          "d": 0.40534934997558597,
          "domain": "buzzfeed.com"
         },
         {
          "count": 168,
          "d": 0.42098282575607304,
          "domain": "buzzfeed.com"
         },
         {
          "count": 211,
          "d": 0.43661630153656006,
          "domain": "buzzfeed.com"
         },
         {
          "count": 269,
          "d": 0.45224977731704713,
          "domain": "buzzfeed.com"
         },
         {
          "count": 282,
          "d": 0.4678832530975342,
          "domain": "buzzfeed.com"
         },
         {
          "count": 345,
          "d": 0.4835167288780213,
          "domain": "buzzfeed.com"
         },
         {
          "count": 337,
          "d": 0.49915020465850835,
          "domain": "buzzfeed.com"
         },
         {
          "count": 422,
          "d": 0.5147836804389954,
          "domain": "buzzfeed.com"
         },
         {
          "count": 475,
          "d": 0.5304171562194824,
          "domain": "buzzfeed.com"
         },
         {
          "count": 496,
          "d": 0.5460506319999695,
          "domain": "buzzfeed.com"
         },
         {
          "count": 555,
          "d": 0.5616841077804565,
          "domain": "buzzfeed.com"
         },
         {
          "count": 600,
          "d": 0.5773175835609436,
          "domain": "buzzfeed.com"
         },
         {
          "count": 673,
          "d": 0.5929510593414307,
          "domain": "buzzfeed.com"
         },
         {
          "count": 718,
          "d": 0.6085845351219178,
          "domain": "buzzfeed.com"
         },
         {
          "count": 806,
          "d": 0.6242180109024048,
          "domain": "buzzfeed.com"
         },
         {
          "count": 804,
          "d": 0.6398514866828918,
          "domain": "buzzfeed.com"
         },
         {
          "count": 869,
          "d": 0.655484962463379,
          "domain": "buzzfeed.com"
         },
         {
          "count": 918,
          "d": 0.671118438243866,
          "domain": "buzzfeed.com"
         },
         {
          "count": 1085,
          "d": 0.6867519140243531,
          "domain": "buzzfeed.com"
         },
         {
          "count": 1060,
          "d": 0.7023853898048401,
          "domain": "buzzfeed.com"
         },
         {
          "count": 1186,
          "d": 0.7180188655853271,
          "domain": "buzzfeed.com"
         },
         {
          "count": 1212,
          "d": 0.7336523413658143,
          "domain": "buzzfeed.com"
         },
         {
          "count": 1283,
          "d": 0.7492858171463013,
          "domain": "buzzfeed.com"
         },
         {
          "count": 1288,
          "d": 0.7649192929267884,
          "domain": "buzzfeed.com"
         },
         {
          "count": 1333,
          "d": 0.7805527687072754,
          "domain": "buzzfeed.com"
         },
         {
          "count": 1333,
          "d": 0.7961862444877625,
          "domain": "buzzfeed.com"
         },
         {
          "count": 1241,
          "d": 0.8118197202682496,
          "domain": "buzzfeed.com"
         },
         {
          "count": 1398,
          "d": 0.8274531960487366,
          "domain": "buzzfeed.com"
         },
         {
          "count": 1344,
          "d": 0.8430866718292237,
          "domain": "buzzfeed.com"
         },
         {
          "count": 1387,
          "d": 0.8587201476097107,
          "domain": "buzzfeed.com"
         },
         {
          "count": 1426,
          "d": 0.8743536233901978,
          "domain": "buzzfeed.com"
         },
         {
          "count": 1404,
          "d": 0.8899870991706849,
          "domain": "buzzfeed.com"
         },
         {
          "count": 1372,
          "d": 0.9056205749511719,
          "domain": "buzzfeed.com"
         },
         {
          "count": 1358,
          "d": 0.921254050731659,
          "domain": "buzzfeed.com"
         },
         {
          "count": 1389,
          "d": 0.936887526512146,
          "domain": "buzzfeed.com"
         },
         {
          "count": 1332,
          "d": 0.9525210022926331,
          "domain": "buzzfeed.com"
         },
         {
          "count": 1278,
          "d": 0.9681544780731202,
          "domain": "buzzfeed.com"
         },
         {
          "count": 1168,
          "d": 0.9837879538536072,
          "domain": "buzzfeed.com"
         },
         {
          "count": 1188,
          "d": 0.9994214296340943,
          "domain": "buzzfeed.com"
         },
         {
          "count": 1071,
          "d": 1.0150549054145812,
          "domain": "buzzfeed.com"
         },
         {
          "count": 1036,
          "d": 1.0306883811950684,
          "domain": "buzzfeed.com"
         },
         {
          "count": 939,
          "d": 1.0463218569755555,
          "domain": "buzzfeed.com"
         },
         {
          "count": 879,
          "d": 1.0619553327560425,
          "domain": "buzzfeed.com"
         },
         {
          "count": 868,
          "d": 1.0775888085365295,
          "domain": "buzzfeed.com"
         },
         {
          "count": 748,
          "d": 1.0932222843170167,
          "domain": "buzzfeed.com"
         },
         {
          "count": 756,
          "d": 1.1088557600975038,
          "domain": "buzzfeed.com"
         },
         {
          "count": 737,
          "d": 1.1244892358779908,
          "domain": "buzzfeed.com"
         },
         {
          "count": 676,
          "d": 1.1401227116584778,
          "domain": "buzzfeed.com"
         },
         {
          "count": 607,
          "d": 1.1557561874389648,
          "domain": "buzzfeed.com"
         },
         {
          "count": 547,
          "d": 1.171389663219452,
          "domain": "buzzfeed.com"
         },
         {
          "count": 508,
          "d": 1.187023138999939,
          "domain": "buzzfeed.com"
         },
         {
          "count": 452,
          "d": 1.202656614780426,
          "domain": "buzzfeed.com"
         },
         {
          "count": 439,
          "d": 1.218290090560913,
          "domain": "buzzfeed.com"
         },
         {
          "count": 420,
          "d": 1.2339235663414,
          "domain": "buzzfeed.com"
         },
         {
          "count": 347,
          "d": 1.2495570421218873,
          "domain": "buzzfeed.com"
         },
         {
          "count": 302,
          "d": 1.2651905179023744,
          "domain": "buzzfeed.com"
         },
         {
          "count": 295,
          "d": 1.2808239936828614,
          "domain": "buzzfeed.com"
         },
         {
          "count": 246,
          "d": 1.2964574694633484,
          "domain": "buzzfeed.com"
         },
         {
          "count": 217,
          "d": 1.3120909452438354,
          "domain": "buzzfeed.com"
         },
         {
          "count": 215,
          "d": 1.3277244210243226,
          "domain": "buzzfeed.com"
         },
         {
          "count": 165,
          "d": 1.3433578968048097,
          "domain": "buzzfeed.com"
         },
         {
          "count": 171,
          "d": 1.3589913725852967,
          "domain": "buzzfeed.com"
         },
         {
          "count": 131,
          "d": 1.3746248483657837,
          "domain": "buzzfeed.com"
         },
         {
          "count": 104,
          "d": 1.3902583241462707,
          "domain": "buzzfeed.com"
         },
         {
          "count": 97,
          "d": 1.405891799926758,
          "domain": "buzzfeed.com"
         },
         {
          "count": 56,
          "d": 1.421525275707245,
          "domain": "buzzfeed.com"
         },
         {
          "count": 49,
          "d": 1.437158751487732,
          "domain": "buzzfeed.com"
         },
         {
          "count": 32,
          "d": 1.452792227268219,
          "domain": "buzzfeed.com"
         },
         {
          "count": 20,
          "d": 1.468425703048706,
          "domain": "buzzfeed.com"
         },
         {
          "count": 10,
          "d": 1.4840591788291932,
          "domain": "buzzfeed.com"
         },
         {
          "count": 8,
          "d": 1.4996926546096803,
          "domain": "buzzfeed.com"
         },
         {
          "count": 9,
          "d": 1.5153261303901673,
          "domain": "buzzfeed.com"
         },
         {
          "count": 3,
          "d": 1.5309596061706543,
          "domain": "buzzfeed.com"
         },
         {
          "count": 4,
          "d": 1.5465930819511415,
          "domain": "buzzfeed.com"
         },
         {
          "count": 1,
          "d": 1.5622265577316286,
          "domain": "buzzfeed.com"
         },
         {
          "count": 1,
          "d": 1.5778600335121156,
          "domain": "buzzfeed.com"
         },
         {
          "count": 1,
          "d": 1.5934935092926026,
          "domain": "buzzfeed.com"
         }
        ]
       },
       "layer": [
        {
         "data": {
          "name": "data-ab0f47f05dfcc4bf47f91ef847466569"
         },
         "encoding": {
          "color": {
           "field": "domain",
           "type": "nominal"
          },
          "opacity": {
           "value": 0
          },
          "x": {
           "field": "d",
           "scale": {
            "zero": false
           },
           "type": "quantitative"
          },
          "y": {
           "field": "count",
           "type": "quantitative"
          }
         },
         "height": 500,
         "mark": "circle",
         "selection": {
          "selector001": {
           "empty": "all",
           "fields": [
            "domain"
           ],
           "nearest": true,
           "on": "mouseover",
           "resolve": "global",
           "type": "single"
          }
         },
         "width": 600
        },
        {
         "data": {
          "name": "data-ab0f47f05dfcc4bf47f91ef847466569"
         },
         "encoding": {
          "color": {
           "field": "domain",
           "type": "nominal"
          },
          "size": {
           "condition": {
            "selection": {
             "not": "selector001"
            },
            "value": 2
           },
           "value": 5
          },
          "tooltip": {
           "field": "domain",
           "type": "nominal"
          },
          "x": {
           "field": "d",
           "scale": {
            "zero": false
           },
           "type": "quantitative"
          },
          "y": {
           "field": "count",
           "type": "quantitative"
          }
         },
         "height": 500,
         "mark": "line",
         "width": 700
        }
       ]
      },
      "image/png": "[encoded data removed]",
      "text/plain": [
       "<VegaLite 2 object>\n",
       "\n",
       "If you see this message, it means the renderer has not been properly enabled\n",
       "for the frontend that you are using. For more information, see\n",
       "https://altair-viz.github.io/user_guide/troubleshooting.html\n"
      ]
     },
     "execution_count": 21,
     "metadata": {},
     "output_type": "execute_result"
    }
   ],
   "source": [
    "plot_step_hist_interactive(x, ys)"
   ]
  },
  {
   "cell_type": "code",
   "execution_count": 22,
   "metadata": {},
   "outputs": [
    {
     "data": {
      "image/png": "[encoded data removed]",
      "text/plain": [
       "<Figure size 360x720 with 1 Axes>"
      ]
     },
     "metadata": {
      "needs_background": "light"
     },
     "output_type": "display_data"
    }
   ],
   "source": [
    "plot_ds_violin(ds)"
   ]
  },
  {
   "cell_type": "code",
   "execution_count": 23,
   "metadata": {},
   "outputs": [
    {
     "name": "stderr",
     "output_type": "stream",
     "text": [
      "100%|██████████| 13/13 [00:12<00:00,  1.06it/s]\n"
     ]
    }
   ],
   "source": [
    "ds = {\n",
    "    d: ds_from_center(d, distance.euclidean)\n",
    "    for d in tqdm(domains)\n",
    "}"
   ]
  },
  {
   "cell_type": "code",
   "execution_count": 24,
   "metadata": {},
   "outputs": [
    {
     "data": {
      "image/png": "[encoded data removed]",
      "text/plain": [
       "<Figure size 1080x720 with 1 Axes>"
      ]
     },
     "metadata": {
      "needs_background": "light"
     },
     "output_type": "display_data"
    }
   ],
   "source": [
    "x, ys = plot_step_hist(ds)"
   ]
  },
  {
   "cell_type": "code",
   "execution_count": 25,
   "metadata": {},
   "outputs": [
    {
     "data": {
      "application/vnd.vegalite.v2+json": {
       "$schema": "https://vega.github.io/schema/vega-lite/v2.6.0.json",
       "config": {
        "view": {
         "height": 300,
         "width": 400
        }
       },
       "datasets": {
        "data-944cd6e8a4d997cef2f68e1c5138cd37": [
         {
          "count": 0,
          "d": 1.850853681564331,
          "domain": "dailycaller.com"
         },
         {
          "count": 2,
          "d": 2.284809019565582,
          "domain": "dailycaller.com"
         },
         {
          "count": 12,
          "d": 2.7187643575668337,
          "domain": "dailycaller.com"
         },
         {
          "count": 30,
          "d": 3.1527196955680847,
          "domain": "dailycaller.com"
         },
         {
          "count": 98,
          "d": 3.5866750335693363,
          "domain": "dailycaller.com"
         },
         {
          "count": 192,
          "d": 4.020630371570587,
          "domain": "dailycaller.com"
         },
         {
          "count": 348,
          "d": 4.454585709571838,
          "domain": "dailycaller.com"
         },
         {
          "count": 600,
          "d": 4.88854104757309,
          "domain": "dailycaller.com"
         },
         {
          "count": 906,
          "d": 5.3224963855743415,
          "domain": "dailycaller.com"
         },
         {
          "count": 1186,
          "d": 5.7564517235755925,
          "domain": "dailycaller.com"
         },
         {
          "count": 1596,
          "d": 6.190407061576844,
          "domain": "dailycaller.com"
         },
         {
          "count": 1960,
          "d": 6.624362399578095,
          "domain": "dailycaller.com"
         },
         {
          "count": 2217,
          "d": 7.058317737579346,
          "domain": "dailycaller.com"
         },
         {
          "count": 2408,
          "d": 7.492273075580597,
          "domain": "dailycaller.com"
         },
         {
          "count": 2623,
          "d": 7.926228413581849,
          "domain": "dailycaller.com"
         },
         {
          "count": 2612,
          "d": 8.3601837515831,
          "domain": "dailycaller.com"
         },
         {
          "count": 2709,
          "d": 8.794139089584352,
          "domain": "dailycaller.com"
         },
         {
          "count": 2677,
          "d": 9.228094427585603,
          "domain": "dailycaller.com"
         },
         {
          "count": 2775,
          "d": 9.662049765586854,
          "domain": "dailycaller.com"
         },
         {
          "count": 2591,
          "d": 10.096005103588105,
          "domain": "dailycaller.com"
         },
         {
          "count": 2484,
          "d": 10.529960441589356,
          "domain": "dailycaller.com"
         },
         {
          "count": 2427,
          "d": 10.963915779590607,
          "domain": "dailycaller.com"
         },
         {
          "count": 2228,
          "d": 11.397871117591858,
          "domain": "dailycaller.com"
         },
         {
          "count": 2006,
          "d": 11.83182645559311,
          "domain": "dailycaller.com"
         },
         {
          "count": 1767,
          "d": 12.26578179359436,
          "domain": "dailycaller.com"
         },
         {
          "count": 1693,
          "d": 12.699737131595612,
          "domain": "dailycaller.com"
         },
         {
          "count": 1429,
          "d": 13.133692469596863,
          "domain": "dailycaller.com"
         },
         {
          "count": 1347,
          "d": 13.567647807598116,
          "domain": "dailycaller.com"
         },
         {
          "count": 1063,
          "d": 14.001603145599367,
          "domain": "dailycaller.com"
         },
         {
          "count": 987,
          "d": 14.435558483600618,
          "domain": "dailycaller.com"
         },
         {
          "count": 914,
          "d": 14.869513821601869,
          "domain": "dailycaller.com"
         },
         {
          "count": 682,
          "d": 15.30346915960312,
          "domain": "dailycaller.com"
         },
         {
          "count": 605,
          "d": 15.737424497604371,
          "domain": "dailycaller.com"
         },
         {
          "count": 515,
          "d": 16.17137983560562,
          "domain": "dailycaller.com"
         },
         {
          "count": 474,
          "d": 16.605335173606875,
          "domain": "dailycaller.com"
         },
         {
          "count": 357,
          "d": 17.039290511608122,
          "domain": "dailycaller.com"
         },
         {
          "count": 291,
          "d": 17.473245849609377,
          "domain": "dailycaller.com"
         },
         {
          "count": 250,
          "d": 17.907201187610628,
          "domain": "dailycaller.com"
         },
         {
          "count": 183,
          "d": 18.34115652561188,
          "domain": "dailycaller.com"
         },
         {
          "count": 169,
          "d": 18.77511186361313,
          "domain": "dailycaller.com"
         },
         {
          "count": 121,
          "d": 19.20906720161438,
          "domain": "dailycaller.com"
         },
         {
          "count": 96,
          "d": 19.643022539615632,
          "domain": "dailycaller.com"
         },
         {
          "count": 90,
          "d": 20.076977877616883,
          "domain": "dailycaller.com"
         },
         {
          "count": 74,
          "d": 20.510933215618135,
          "domain": "dailycaller.com"
         },
         {
          "count": 61,
          "d": 20.944888553619386,
          "domain": "dailycaller.com"
         },
         {
          "count": 52,
          "d": 21.378843891620637,
          "domain": "dailycaller.com"
         },
         {
          "count": 42,
          "d": 21.812799229621888,
          "domain": "dailycaller.com"
         },
         {
          "count": 32,
          "d": 22.24675456762314,
          "domain": "dailycaller.com"
         },
         {
          "count": 21,
          "d": 22.68070990562439,
          "domain": "dailycaller.com"
         },
         {
          "count": 23,
          "d": 23.11466524362564,
          "domain": "dailycaller.com"
         },
         {
          "count": 11,
          "d": 23.548620581626892,
          "domain": "dailycaller.com"
         },
         {
          "count": 16,
          "d": 23.982575919628143,
          "domain": "dailycaller.com"
         },
         {
          "count": 9,
          "d": 24.416531257629394,
          "domain": "dailycaller.com"
         },
         {
          "count": 8,
          "d": 24.850486595630645,
          "domain": "dailycaller.com"
         },
         {
          "count": 7,
          "d": 25.2844419336319,
          "domain": "dailycaller.com"
         },
         {
          "count": 5,
          "d": 25.71839727163315,
          "domain": "dailycaller.com"
         },
         {
          "count": 6,
          "d": 26.152352609634402,
          "domain": "dailycaller.com"
         },
         {
          "count": 6,
          "d": 26.586307947635653,
          "domain": "dailycaller.com"
         },
         {
          "count": 4,
          "d": 27.020263285636904,
          "domain": "dailycaller.com"
         },
         {
          "count": 2,
          "d": 27.454218623638155,
          "domain": "dailycaller.com"
         },
         {
          "count": 0,
          "d": 27.888173961639406,
          "domain": "dailycaller.com"
         },
         {
          "count": 0,
          "d": 28.322129299640658,
          "domain": "dailycaller.com"
         },
         {
          "count": 1,
          "d": 28.75608463764191,
          "domain": "dailycaller.com"
         },
         {
          "count": 0,
          "d": 29.19003997564316,
          "domain": "dailycaller.com"
         },
         {
          "count": 0,
          "d": 29.62399531364441,
          "domain": "dailycaller.com"
         },
         {
          "count": 0,
          "d": 30.057950651645662,
          "domain": "dailycaller.com"
         },
         {
          "count": 0,
          "d": 30.491905989646913,
          "domain": "dailycaller.com"
         },
         {
          "count": 0,
          "d": 30.925861327648164,
          "domain": "dailycaller.com"
         },
         {
          "count": 0,
          "d": 31.359816665649415,
          "domain": "dailycaller.com"
         },
         {
          "count": 0,
          "d": 31.793772003650666,
          "domain": "dailycaller.com"
         },
         {
          "count": 0,
          "d": 32.227727341651914,
          "domain": "dailycaller.com"
         },
         {
          "count": 0,
          "d": 32.66168267965317,
          "domain": "dailycaller.com"
         },
         {
          "count": 0,
          "d": 33.09563801765442,
          "domain": "dailycaller.com"
         },
         {
          "count": 0,
          "d": 33.52959335565567,
          "domain": "dailycaller.com"
         },
         {
          "count": 0,
          "d": 33.963548693656925,
          "domain": "dailycaller.com"
         },
         {
          "count": 0,
          "d": 34.39750403165817,
          "domain": "dailycaller.com"
         },
         {
          "count": 0,
          "d": 34.83145936965943,
          "domain": "dailycaller.com"
         },
         {
          "count": 0,
          "d": 35.265414707660675,
          "domain": "dailycaller.com"
         },
         {
          "count": 0,
          "d": 35.69937004566193,
          "domain": "dailycaller.com"
         },
         {
          "count": 0,
          "d": 36.13332538366318,
          "domain": "dailycaller.com"
         },
         {
          "count": 0,
          "d": 36.56728072166443,
          "domain": "dailycaller.com"
         },
         {
          "count": 0,
          "d": 37.00123605966568,
          "domain": "dailycaller.com"
         },
         {
          "count": 0,
          "d": 37.435191397666934,
          "domain": "dailycaller.com"
         },
         {
          "count": 0,
          "d": 37.86914673566818,
          "domain": "dailycaller.com"
         },
         {
          "count": 0,
          "d": 38.303102073669436,
          "domain": "dailycaller.com"
         },
         {
          "count": 0,
          "d": 38.73705741167068,
          "domain": "dailycaller.com"
         },
         {
          "count": 0,
          "d": 39.17101274967194,
          "domain": "dailycaller.com"
         },
         {
          "count": 0,
          "d": 39.60496808767319,
          "domain": "dailycaller.com"
         },
         {
          "count": 0,
          "d": 40.03892342567444,
          "domain": "dailycaller.com"
         },
         {
          "count": 0,
          "d": 40.472878763675695,
          "domain": "dailycaller.com"
         },
         {
          "count": 0,
          "d": 40.90683410167694,
          "domain": "dailycaller.com"
         },
         {
          "count": 0,
          "d": 41.3407894396782,
          "domain": "dailycaller.com"
         },
         {
          "count": 0,
          "d": 41.774744777679444,
          "domain": "dailycaller.com"
         },
         {
          "count": 0,
          "d": 42.2087001156807,
          "domain": "dailycaller.com"
         },
         {
          "count": 0,
          "d": 42.64265545368195,
          "domain": "dailycaller.com"
         },
         {
          "count": 0,
          "d": 43.0766107916832,
          "domain": "dailycaller.com"
         },
         {
          "count": 0,
          "d": 43.51056612968445,
          "domain": "dailycaller.com"
         },
         {
          "count": 0,
          "d": 43.9445214676857,
          "domain": "dailycaller.com"
         },
         {
          "count": 0,
          "d": 44.37847680568695,
          "domain": "dailycaller.com"
         },
         {
          "count": 0,
          "d": 44.812432143688206,
          "domain": "dailycaller.com"
         },
         {
          "count": 0,
          "d": 1.850853681564331,
          "domain": "bloomberg.com"
         },
         {
          "count": 0,
          "d": 2.284809019565582,
          "domain": "bloomberg.com"
         },
         {
          "count": 4,
          "d": 2.7187643575668337,
          "domain": "bloomberg.com"
         },
         {
          "count": 17,
          "d": 3.1527196955680847,
          "domain": "bloomberg.com"
         },
         {
          "count": 42,
          "d": 3.5866750335693363,
          "domain": "bloomberg.com"
         },
         {
          "count": 111,
          "d": 4.020630371570587,
          "domain": "bloomberg.com"
         },
         {
          "count": 220,
          "d": 4.454585709571838,
          "domain": "bloomberg.com"
         },
         {
          "count": 385,
          "d": 4.88854104757309,
          "domain": "bloomberg.com"
         },
         {
          "count": 519,
          "d": 5.3224963855743415,
          "domain": "bloomberg.com"
         },
         {
          "count": 845,
          "d": 5.7564517235755925,
          "domain": "bloomberg.com"
         },
         {
          "count": 1014,
          "d": 6.190407061576844,
          "domain": "bloomberg.com"
         },
         {
          "count": 1295,
          "d": 6.624362399578095,
          "domain": "bloomberg.com"
         },
         {
          "count": 1574,
          "d": 7.058317737579346,
          "domain": "bloomberg.com"
         },
         {
          "count": 1745,
          "d": 7.492273075580597,
          "domain": "bloomberg.com"
         },
         {
          "count": 2034,
          "d": 7.926228413581849,
          "domain": "bloomberg.com"
         },
         {
          "count": 2163,
          "d": 8.3601837515831,
          "domain": "bloomberg.com"
         },
         {
          "count": 2135,
          "d": 8.794139089584352,
          "domain": "bloomberg.com"
         },
         {
          "count": 2166,
          "d": 9.228094427585603,
          "domain": "bloomberg.com"
         },
         {
          "count": 2181,
          "d": 9.662049765586854,
          "domain": "bloomberg.com"
         },
         {
          "count": 2208,
          "d": 10.096005103588105,
          "domain": "bloomberg.com"
         },
         {
          "count": 2085,
          "d": 10.529960441589356,
          "domain": "bloomberg.com"
         },
         {
          "count": 1990,
          "d": 10.963915779590607,
          "domain": "bloomberg.com"
         },
         {
          "count": 1932,
          "d": 11.397871117591858,
          "domain": "bloomberg.com"
         },
         {
          "count": 1795,
          "d": 11.83182645559311,
          "domain": "bloomberg.com"
         },
         {
          "count": 1789,
          "d": 12.26578179359436,
          "domain": "bloomberg.com"
         },
         {
          "count": 1623,
          "d": 12.699737131595612,
          "domain": "bloomberg.com"
         },
         {
          "count": 1545,
          "d": 13.133692469596863,
          "domain": "bloomberg.com"
         },
         {
          "count": 1480,
          "d": 13.567647807598116,
          "domain": "bloomberg.com"
         },
         {
          "count": 1403,
          "d": 14.001603145599367,
          "domain": "bloomberg.com"
         },
         {
          "count": 1312,
          "d": 14.435558483600618,
          "domain": "bloomberg.com"
         },
         {
          "count": 1244,
          "d": 14.869513821601869,
          "domain": "bloomberg.com"
         },
         {
          "count": 1162,
          "d": 15.30346915960312,
          "domain": "bloomberg.com"
         },
         {
          "count": 1005,
          "d": 15.737424497604371,
          "domain": "bloomberg.com"
         },
         {
          "count": 950,
          "d": 16.17137983560562,
          "domain": "bloomberg.com"
         },
         {
          "count": 940,
          "d": 16.605335173606875,
          "domain": "bloomberg.com"
         },
         {
          "count": 841,
          "d": 17.039290511608122,
          "domain": "bloomberg.com"
         },
         {
          "count": 780,
          "d": 17.473245849609377,
          "domain": "bloomberg.com"
         },
         {
          "count": 707,
          "d": 17.907201187610628,
          "domain": "bloomberg.com"
         },
         {
          "count": 610,
          "d": 18.34115652561188,
          "domain": "bloomberg.com"
         },
         {
          "count": 563,
          "d": 18.77511186361313,
          "domain": "bloomberg.com"
         },
         {
          "count": 472,
          "d": 19.20906720161438,
          "domain": "bloomberg.com"
         },
         {
          "count": 453,
          "d": 19.643022539615632,
          "domain": "bloomberg.com"
         },
         {
          "count": 379,
          "d": 20.076977877616883,
          "domain": "bloomberg.com"
         },
         {
          "count": 360,
          "d": 20.510933215618135,
          "domain": "bloomberg.com"
         },
         {
          "count": 313,
          "d": 20.944888553619386,
          "domain": "bloomberg.com"
         },
         {
          "count": 253,
          "d": 21.378843891620637,
          "domain": "bloomberg.com"
         },
         {
          "count": 224,
          "d": 21.812799229621888,
          "domain": "bloomberg.com"
         },
         {
          "count": 183,
          "d": 22.24675456762314,
          "domain": "bloomberg.com"
         },
         {
          "count": 176,
          "d": 22.68070990562439,
          "domain": "bloomberg.com"
         },
         {
          "count": 150,
          "d": 23.11466524362564,
          "domain": "bloomberg.com"
         },
         {
          "count": 123,
          "d": 23.548620581626892,
          "domain": "bloomberg.com"
         },
         {
          "count": 80,
          "d": 23.982575919628143,
          "domain": "bloomberg.com"
         },
         {
          "count": 79,
          "d": 24.416531257629394,
          "domain": "bloomberg.com"
         },
         {
          "count": 64,
          "d": 24.850486595630645,
          "domain": "bloomberg.com"
         },
         {
          "count": 64,
          "d": 25.2844419336319,
          "domain": "bloomberg.com"
         },
         {
          "count": 40,
          "d": 25.71839727163315,
          "domain": "bloomberg.com"
         },
         {
          "count": 49,
          "d": 26.152352609634402,
          "domain": "bloomberg.com"
         },
         {
          "count": 20,
          "d": 26.586307947635653,
          "domain": "bloomberg.com"
         },
         {
          "count": 17,
          "d": 27.020263285636904,
          "domain": "bloomberg.com"
         },
         {
          "count": 18,
          "d": 27.454218623638155,
          "domain": "bloomberg.com"
         },
         {
          "count": 17,
          "d": 27.888173961639406,
          "domain": "bloomberg.com"
         },
         {
          "count": 12,
          "d": 28.322129299640658,
          "domain": "bloomberg.com"
         },
         {
          "count": 9,
          "d": 28.75608463764191,
          "domain": "bloomberg.com"
         },
         {
          "count": 10,
          "d": 29.19003997564316,
          "domain": "bloomberg.com"
         },
         {
          "count": 2,
          "d": 29.62399531364441,
          "domain": "bloomberg.com"
         },
         {
          "count": 1,
          "d": 30.057950651645662,
          "domain": "bloomberg.com"
         },
         {
          "count": 2,
          "d": 30.491905989646913,
          "domain": "bloomberg.com"
         },
         {
          "count": 0,
          "d": 30.925861327648164,
          "domain": "bloomberg.com"
         },
         {
          "count": 1,
          "d": 31.359816665649415,
          "domain": "bloomberg.com"
         },
         {
          "count": 0,
          "d": 31.793772003650666,
          "domain": "bloomberg.com"
         },
         {
          "count": 0,
          "d": 32.227727341651914,
          "domain": "bloomberg.com"
         },
         {
          "count": 0,
          "d": 32.66168267965317,
          "domain": "bloomberg.com"
         },
         {
          "count": 0,
          "d": 33.09563801765442,
          "domain": "bloomberg.com"
         },
         {
          "count": 0,
          "d": 33.52959335565567,
          "domain": "bloomberg.com"
         },
         {
          "count": 0,
          "d": 33.963548693656925,
          "domain": "bloomberg.com"
         },
         {
          "count": 0,
          "d": 34.39750403165817,
          "domain": "bloomberg.com"
         },
         {
          "count": 0,
          "d": 34.83145936965943,
          "domain": "bloomberg.com"
         },
         {
          "count": 0,
          "d": 35.265414707660675,
          "domain": "bloomberg.com"
         },
         {
          "count": 0,
          "d": 35.69937004566193,
          "domain": "bloomberg.com"
         },
         {
          "count": 0,
          "d": 36.13332538366318,
          "domain": "bloomberg.com"
         },
         {
          "count": 0,
          "d": 36.56728072166443,
          "domain": "bloomberg.com"
         },
         {
          "count": 0,
          "d": 37.00123605966568,
          "domain": "bloomberg.com"
         },
         {
          "count": 0,
          "d": 37.435191397666934,
          "domain": "bloomberg.com"
         },
         {
          "count": 0,
          "d": 37.86914673566818,
          "domain": "bloomberg.com"
         },
         {
          "count": 0,
          "d": 38.303102073669436,
          "domain": "bloomberg.com"
         },
         {
          "count": 0,
          "d": 38.73705741167068,
          "domain": "bloomberg.com"
         },
         {
          "count": 0,
          "d": 39.17101274967194,
          "domain": "bloomberg.com"
         },
         {
          "count": 0,
          "d": 39.60496808767319,
          "domain": "bloomberg.com"
         },
         {
          "count": 0,
          "d": 40.03892342567444,
          "domain": "bloomberg.com"
         },
         {
          "count": 0,
          "d": 40.472878763675695,
          "domain": "bloomberg.com"
         },
         {
          "count": 0,
          "d": 40.90683410167694,
          "domain": "bloomberg.com"
         },
         {
          "count": 0,
          "d": 41.3407894396782,
          "domain": "bloomberg.com"
         },
         {
          "count": 0,
          "d": 41.774744777679444,
          "domain": "bloomberg.com"
         },
         {
          "count": 0,
          "d": 42.2087001156807,
          "domain": "bloomberg.com"
         },
         {
          "count": 0,
          "d": 42.64265545368195,
          "domain": "bloomberg.com"
         },
         {
          "count": 0,
          "d": 43.0766107916832,
          "domain": "bloomberg.com"
         },
         {
          "count": 0,
          "d": 43.51056612968445,
          "domain": "bloomberg.com"
         },
         {
          "count": 0,
          "d": 43.9445214676857,
          "domain": "bloomberg.com"
         },
         {
          "count": 0,
          "d": 44.37847680568695,
          "domain": "bloomberg.com"
         },
         {
          "count": 0,
          "d": 44.812432143688206,
          "domain": "bloomberg.com"
         },
         {
          "count": 0,
          "d": 1.850853681564331,
          "domain": "thehill.com"
         },
         {
          "count": 2,
          "d": 2.284809019565582,
          "domain": "thehill.com"
         },
         {
          "count": 5,
          "d": 2.7187643575668337,
          "domain": "thehill.com"
         },
         {
          "count": 27,
          "d": 3.1527196955680847,
          "domain": "thehill.com"
         },
         {
          "count": 74,
          "d": 3.5866750335693363,
          "domain": "thehill.com"
         },
         {
          "count": 194,
          "d": 4.020630371570587,
          "domain": "thehill.com"
         },
         {
          "count": 344,
          "d": 4.454585709571838,
          "domain": "thehill.com"
         },
         {
          "count": 597,
          "d": 4.88854104757309,
          "domain": "thehill.com"
         },
         {
          "count": 859,
          "d": 5.3224963855743415,
          "domain": "thehill.com"
         },
         {
          "count": 1203,
          "d": 5.7564517235755925,
          "domain": "thehill.com"
         },
         {
          "count": 1605,
          "d": 6.190407061576844,
          "domain": "thehill.com"
         },
         {
          "count": 2061,
          "d": 6.624362399578095,
          "domain": "thehill.com"
         },
         {
          "count": 2433,
          "d": 7.058317737579346,
          "domain": "thehill.com"
         },
         {
          "count": 2820,
          "d": 7.492273075580597,
          "domain": "thehill.com"
         },
         {
          "count": 3100,
          "d": 7.926228413581849,
          "domain": "thehill.com"
         },
         {
          "count": 3280,
          "d": 8.3601837515831,
          "domain": "thehill.com"
         },
         {
          "count": 3349,
          "d": 8.794139089584352,
          "domain": "thehill.com"
         },
         {
          "count": 3235,
          "d": 9.228094427585603,
          "domain": "thehill.com"
         },
         {
          "count": 3202,
          "d": 9.662049765586854,
          "domain": "thehill.com"
         },
         {
          "count": 2987,
          "d": 10.096005103588105,
          "domain": "thehill.com"
         },
         {
          "count": 2765,
          "d": 10.529960441589356,
          "domain": "thehill.com"
         },
         {
          "count": 2507,
          "d": 10.963915779590607,
          "domain": "thehill.com"
         },
         {
          "count": 2132,
          "d": 11.397871117591858,
          "domain": "thehill.com"
         },
         {
          "count": 1850,
          "d": 11.83182645559311,
          "domain": "thehill.com"
         },
         {
          "count": 1622,
          "d": 12.26578179359436,
          "domain": "thehill.com"
         },
         {
          "count": 1411,
          "d": 12.699737131595612,
          "domain": "thehill.com"
         },
         {
          "count": 1136,
          "d": 13.133692469596863,
          "domain": "thehill.com"
         },
         {
          "count": 907,
          "d": 13.567647807598116,
          "domain": "thehill.com"
         },
         {
          "count": 773,
          "d": 14.001603145599367,
          "domain": "thehill.com"
         },
         {
          "count": 689,
          "d": 14.435558483600618,
          "domain": "thehill.com"
         },
         {
          "count": 560,
          "d": 14.869513821601869,
          "domain": "thehill.com"
         },
         {
          "count": 451,
          "d": 15.30346915960312,
          "domain": "thehill.com"
         },
         {
          "count": 379,
          "d": 15.737424497604371,
          "domain": "thehill.com"
         },
         {
          "count": 284,
          "d": 16.17137983560562,
          "domain": "thehill.com"
         },
         {
          "count": 265,
          "d": 16.605335173606875,
          "domain": "thehill.com"
         },
         {
          "count": 183,
          "d": 17.039290511608122,
          "domain": "thehill.com"
         },
         {
          "count": 155,
          "d": 17.473245849609377,
          "domain": "thehill.com"
         },
         {
          "count": 125,
          "d": 17.907201187610628,
          "domain": "thehill.com"
         },
         {
          "count": 104,
          "d": 18.34115652561188,
          "domain": "thehill.com"
         },
         {
          "count": 66,
          "d": 18.77511186361313,
          "domain": "thehill.com"
         },
         {
          "count": 62,
          "d": 19.20906720161438,
          "domain": "thehill.com"
         },
         {
          "count": 46,
          "d": 19.643022539615632,
          "domain": "thehill.com"
         },
         {
          "count": 35,
          "d": 20.076977877616883,
          "domain": "thehill.com"
         },
         {
          "count": 21,
          "d": 20.510933215618135,
          "domain": "thehill.com"
         },
         {
          "count": 18,
          "d": 20.944888553619386,
          "domain": "thehill.com"
         },
         {
          "count": 11,
          "d": 21.378843891620637,
          "domain": "thehill.com"
         },
         {
          "count": 7,
          "d": 21.812799229621888,
          "domain": "thehill.com"
         },
         {
          "count": 2,
          "d": 22.24675456762314,
          "domain": "thehill.com"
         },
         {
          "count": 6,
          "d": 22.68070990562439,
          "domain": "thehill.com"
         },
         {
          "count": 4,
          "d": 23.11466524362564,
          "domain": "thehill.com"
         },
         {
          "count": 3,
          "d": 23.548620581626892,
          "domain": "thehill.com"
         },
         {
          "count": 2,
          "d": 23.982575919628143,
          "domain": "thehill.com"
         },
         {
          "count": 1,
          "d": 24.416531257629394,
          "domain": "thehill.com"
         },
         {
          "count": 0,
          "d": 24.850486595630645,
          "domain": "thehill.com"
         },
         {
          "count": 2,
          "d": 25.2844419336319,
          "domain": "thehill.com"
         },
         {
          "count": 0,
          "d": 25.71839727163315,
          "domain": "thehill.com"
         },
         {
          "count": 0,
          "d": 26.152352609634402,
          "domain": "thehill.com"
         },
         {
          "count": 1,
          "d": 26.586307947635653,
          "domain": "thehill.com"
         },
         {
          "count": 0,
          "d": 27.020263285636904,
          "domain": "thehill.com"
         },
         {
          "count": 0,
          "d": 27.454218623638155,
          "domain": "thehill.com"
         },
         {
          "count": 0,
          "d": 27.888173961639406,
          "domain": "thehill.com"
         },
         {
          "count": 0,
          "d": 28.322129299640658,
          "domain": "thehill.com"
         },
         {
          "count": 0,
          "d": 28.75608463764191,
          "domain": "thehill.com"
         },
         {
          "count": 0,
          "d": 29.19003997564316,
          "domain": "thehill.com"
         },
         {
          "count": 0,
          "d": 29.62399531364441,
          "domain": "thehill.com"
         },
         {
          "count": 0,
          "d": 30.057950651645662,
          "domain": "thehill.com"
         },
         {
          "count": 0,
          "d": 30.491905989646913,
          "domain": "thehill.com"
         },
         {
          "count": 0,
          "d": 30.925861327648164,
          "domain": "thehill.com"
         },
         {
          "count": 0,
          "d": 31.359816665649415,
          "domain": "thehill.com"
         },
         {
          "count": 0,
          "d": 31.793772003650666,
          "domain": "thehill.com"
         },
         {
          "count": 0,
          "d": 32.227727341651914,
          "domain": "thehill.com"
         },
         {
          "count": 0,
          "d": 32.66168267965317,
          "domain": "thehill.com"
         },
         {
          "count": 0,
          "d": 33.09563801765442,
          "domain": "thehill.com"
         },
         {
          "count": 0,
          "d": 33.52959335565567,
          "domain": "thehill.com"
         },
         {
          "count": 0,
          "d": 33.963548693656925,
          "domain": "thehill.com"
         },
         {
          "count": 0,
          "d": 34.39750403165817,
          "domain": "thehill.com"
         },
         {
          "count": 0,
          "d": 34.83145936965943,
          "domain": "thehill.com"
         },
         {
          "count": 0,
          "d": 35.265414707660675,
          "domain": "thehill.com"
         },
         {
          "count": 0,
          "d": 35.69937004566193,
          "domain": "thehill.com"
         },
         {
          "count": 0,
          "d": 36.13332538366318,
          "domain": "thehill.com"
         },
         {
          "count": 0,
          "d": 36.56728072166443,
          "domain": "thehill.com"
         },
         {
          "count": 0,
          "d": 37.00123605966568,
          "domain": "thehill.com"
         },
         {
          "count": 0,
          "d": 37.435191397666934,
          "domain": "thehill.com"
         },
         {
          "count": 0,
          "d": 37.86914673566818,
          "domain": "thehill.com"
         },
         {
          "count": 0,
          "d": 38.303102073669436,
          "domain": "thehill.com"
         },
         {
          "count": 0,
          "d": 38.73705741167068,
          "domain": "thehill.com"
         },
         {
          "count": 0,
          "d": 39.17101274967194,
          "domain": "thehill.com"
         },
         {
          "count": 0,
          "d": 39.60496808767319,
          "domain": "thehill.com"
         },
         {
          "count": 0,
          "d": 40.03892342567444,
          "domain": "thehill.com"
         },
         {
          "count": 0,
          "d": 40.472878763675695,
          "domain": "thehill.com"
         },
         {
          "count": 0,
          "d": 40.90683410167694,
          "domain": "thehill.com"
         },
         {
          "count": 0,
          "d": 41.3407894396782,
          "domain": "thehill.com"
         },
         {
          "count": 0,
          "d": 41.774744777679444,
          "domain": "thehill.com"
         },
         {
          "count": 0,
          "d": 42.2087001156807,
          "domain": "thehill.com"
         },
         {
          "count": 0,
          "d": 42.64265545368195,
          "domain": "thehill.com"
         },
         {
          "count": 0,
          "d": 43.0766107916832,
          "domain": "thehill.com"
         },
         {
          "count": 0,
          "d": 43.51056612968445,
          "domain": "thehill.com"
         },
         {
          "count": 0,
          "d": 43.9445214676857,
          "domain": "thehill.com"
         },
         {
          "count": 0,
          "d": 44.37847680568695,
          "domain": "thehill.com"
         },
         {
          "count": 0,
          "d": 44.812432143688206,
          "domain": "thehill.com"
         },
         {
          "count": 1,
          "d": 1.850853681564331,
          "domain": "huffingtonpost.com"
         },
         {
          "count": 5,
          "d": 2.284809019565582,
          "domain": "huffingtonpost.com"
         },
         {
          "count": 2,
          "d": 2.7187643575668337,
          "domain": "huffingtonpost.com"
         },
         {
          "count": 31,
          "d": 3.1527196955680847,
          "domain": "huffingtonpost.com"
         },
         {
          "count": 78,
          "d": 3.5866750335693363,
          "domain": "huffingtonpost.com"
         },
         {
          "count": 228,
          "d": 4.020630371570587,
          "domain": "huffingtonpost.com"
         },
         {
          "count": 473,
          "d": 4.454585709571838,
          "domain": "huffingtonpost.com"
         },
         {
          "count": 758,
          "d": 4.88854104757309,
          "domain": "huffingtonpost.com"
         },
         {
          "count": 1166,
          "d": 5.3224963855743415,
          "domain": "huffingtonpost.com"
         },
         {
          "count": 1550,
          "d": 5.7564517235755925,
          "domain": "huffingtonpost.com"
         },
         {
          "count": 1905,
          "d": 6.190407061576844,
          "domain": "huffingtonpost.com"
         },
         {
          "count": 2236,
          "d": 6.624362399578095,
          "domain": "huffingtonpost.com"
         },
         {
          "count": 2523,
          "d": 7.058317737579346,
          "domain": "huffingtonpost.com"
         },
         {
          "count": 2854,
          "d": 7.492273075580597,
          "domain": "huffingtonpost.com"
         },
         {
          "count": 2908,
          "d": 7.926228413581849,
          "domain": "huffingtonpost.com"
         },
         {
          "count": 2910,
          "d": 8.3601837515831,
          "domain": "huffingtonpost.com"
         },
         {
          "count": 2954,
          "d": 8.794139089584352,
          "domain": "huffingtonpost.com"
         },
         {
          "count": 2809,
          "d": 9.228094427585603,
          "domain": "huffingtonpost.com"
         },
         {
          "count": 2723,
          "d": 9.662049765586854,
          "domain": "huffingtonpost.com"
         },
         {
          "count": 2650,
          "d": 10.096005103588105,
          "domain": "huffingtonpost.com"
         },
         {
          "count": 2419,
          "d": 10.529960441589356,
          "domain": "huffingtonpost.com"
         },
         {
          "count": 2221,
          "d": 10.963915779590607,
          "domain": "huffingtonpost.com"
         },
         {
          "count": 2071,
          "d": 11.397871117591858,
          "domain": "huffingtonpost.com"
         },
         {
          "count": 1763,
          "d": 11.83182645559311,
          "domain": "huffingtonpost.com"
         },
         {
          "count": 1622,
          "d": 12.26578179359436,
          "domain": "huffingtonpost.com"
         },
         {
          "count": 1435,
          "d": 12.699737131595612,
          "domain": "huffingtonpost.com"
         },
         {
          "count": 1197,
          "d": 13.133692469596863,
          "domain": "huffingtonpost.com"
         },
         {
          "count": 1017,
          "d": 13.567647807598116,
          "domain": "huffingtonpost.com"
         },
         {
          "count": 885,
          "d": 14.001603145599367,
          "domain": "huffingtonpost.com"
         },
         {
          "count": 794,
          "d": 14.435558483600618,
          "domain": "huffingtonpost.com"
         },
         {
          "count": 619,
          "d": 14.869513821601869,
          "domain": "huffingtonpost.com"
         },
         {
          "count": 582,
          "d": 15.30346915960312,
          "domain": "huffingtonpost.com"
         },
         {
          "count": 522,
          "d": 15.737424497604371,
          "domain": "huffingtonpost.com"
         },
         {
          "count": 387,
          "d": 16.17137983560562,
          "domain": "huffingtonpost.com"
         },
         {
          "count": 367,
          "d": 16.605335173606875,
          "domain": "huffingtonpost.com"
         },
         {
          "count": 302,
          "d": 17.039290511608122,
          "domain": "huffingtonpost.com"
         },
         {
          "count": 244,
          "d": 17.473245849609377,
          "domain": "huffingtonpost.com"
         },
         {
          "count": 192,
          "d": 17.907201187610628,
          "domain": "huffingtonpost.com"
         },
         {
          "count": 175,
          "d": 18.34115652561188,
          "domain": "huffingtonpost.com"
         },
         {
          "count": 138,
          "d": 18.77511186361313,
          "domain": "huffingtonpost.com"
         },
         {
          "count": 90,
          "d": 19.20906720161438,
          "domain": "huffingtonpost.com"
         },
         {
          "count": 90,
          "d": 19.643022539615632,
          "domain": "huffingtonpost.com"
         },
         {
          "count": 69,
          "d": 20.076977877616883,
          "domain": "huffingtonpost.com"
         },
         {
          "count": 43,
          "d": 20.510933215618135,
          "domain": "huffingtonpost.com"
         },
         {
          "count": 45,
          "d": 20.944888553619386,
          "domain": "huffingtonpost.com"
         },
         {
          "count": 35,
          "d": 21.378843891620637,
          "domain": "huffingtonpost.com"
         },
         {
          "count": 29,
          "d": 21.812799229621888,
          "domain": "huffingtonpost.com"
         },
         {
          "count": 17,
          "d": 22.24675456762314,
          "domain": "huffingtonpost.com"
         },
         {
          "count": 14,
          "d": 22.68070990562439,
          "domain": "huffingtonpost.com"
         },
         {
          "count": 4,
          "d": 23.11466524362564,
          "domain": "huffingtonpost.com"
         },
         {
          "count": 4,
          "d": 23.548620581626892,
          "domain": "huffingtonpost.com"
         },
         {
          "count": 3,
          "d": 23.982575919628143,
          "domain": "huffingtonpost.com"
         },
         {
          "count": 7,
          "d": 24.416531257629394,
          "domain": "huffingtonpost.com"
         },
         {
          "count": 1,
          "d": 24.850486595630645,
          "domain": "huffingtonpost.com"
         },
         {
          "count": 1,
          "d": 25.2844419336319,
          "domain": "huffingtonpost.com"
         },
         {
          "count": 0,
          "d": 25.71839727163315,
          "domain": "huffingtonpost.com"
         },
         {
          "count": 0,
          "d": 26.152352609634402,
          "domain": "huffingtonpost.com"
         },
         {
          "count": 2,
          "d": 26.586307947635653,
          "domain": "huffingtonpost.com"
         },
         {
          "count": 0,
          "d": 27.020263285636904,
          "domain": "huffingtonpost.com"
         },
         {
          "count": 0,
          "d": 27.454218623638155,
          "domain": "huffingtonpost.com"
         },
         {
          "count": 0,
          "d": 27.888173961639406,
          "domain": "huffingtonpost.com"
         },
         {
          "count": 0,
          "d": 28.322129299640658,
          "domain": "huffingtonpost.com"
         },
         {
          "count": 0,
          "d": 28.75608463764191,
          "domain": "huffingtonpost.com"
         },
         {
          "count": 0,
          "d": 29.19003997564316,
          "domain": "huffingtonpost.com"
         },
         {
          "count": 0,
          "d": 29.62399531364441,
          "domain": "huffingtonpost.com"
         },
         {
          "count": 0,
          "d": 30.057950651645662,
          "domain": "huffingtonpost.com"
         },
         {
          "count": 0,
          "d": 30.491905989646913,
          "domain": "huffingtonpost.com"
         },
         {
          "count": 0,
          "d": 30.925861327648164,
          "domain": "huffingtonpost.com"
         },
         {
          "count": 0,
          "d": 31.359816665649415,
          "domain": "huffingtonpost.com"
         },
         {
          "count": 0,
          "d": 31.793772003650666,
          "domain": "huffingtonpost.com"
         },
         {
          "count": 0,
          "d": 32.227727341651914,
          "domain": "huffingtonpost.com"
         },
         {
          "count": 0,
          "d": 32.66168267965317,
          "domain": "huffingtonpost.com"
         },
         {
          "count": 0,
          "d": 33.09563801765442,
          "domain": "huffingtonpost.com"
         },
         {
          "count": 0,
          "d": 33.52959335565567,
          "domain": "huffingtonpost.com"
         },
         {
          "count": 0,
          "d": 33.963548693656925,
          "domain": "huffingtonpost.com"
         },
         {
          "count": 0,
          "d": 34.39750403165817,
          "domain": "huffingtonpost.com"
         },
         {
          "count": 0,
          "d": 34.83145936965943,
          "domain": "huffingtonpost.com"
         },
         {
          "count": 0,
          "d": 35.265414707660675,
          "domain": "huffingtonpost.com"
         },
         {
          "count": 0,
          "d": 35.69937004566193,
          "domain": "huffingtonpost.com"
         },
         {
          "count": 0,
          "d": 36.13332538366318,
          "domain": "huffingtonpost.com"
         },
         {
          "count": 0,
          "d": 36.56728072166443,
          "domain": "huffingtonpost.com"
         },
         {
          "count": 0,
          "d": 37.00123605966568,
          "domain": "huffingtonpost.com"
         },
         {
          "count": 0,
          "d": 37.435191397666934,
          "domain": "huffingtonpost.com"
         },
         {
          "count": 0,
          "d": 37.86914673566818,
          "domain": "huffingtonpost.com"
         },
         {
          "count": 0,
          "d": 38.303102073669436,
          "domain": "huffingtonpost.com"
         },
         {
          "count": 0,
          "d": 38.73705741167068,
          "domain": "huffingtonpost.com"
         },
         {
          "count": 0,
          "d": 39.17101274967194,
          "domain": "huffingtonpost.com"
         },
         {
          "count": 0,
          "d": 39.60496808767319,
          "domain": "huffingtonpost.com"
         },
         {
          "count": 0,
          "d": 40.03892342567444,
          "domain": "huffingtonpost.com"
         },
         {
          "count": 0,
          "d": 40.472878763675695,
          "domain": "huffingtonpost.com"
         },
         {
          "count": 0,
          "d": 40.90683410167694,
          "domain": "huffingtonpost.com"
         },
         {
          "count": 0,
          "d": 41.3407894396782,
          "domain": "huffingtonpost.com"
         },
         {
          "count": 0,
          "d": 41.774744777679444,
          "domain": "huffingtonpost.com"
         },
         {
          "count": 0,
          "d": 42.2087001156807,
          "domain": "huffingtonpost.com"
         },
         {
          "count": 0,
          "d": 42.64265545368195,
          "domain": "huffingtonpost.com"
         },
         {
          "count": 0,
          "d": 43.0766107916832,
          "domain": "huffingtonpost.com"
         },
         {
          "count": 0,
          "d": 43.51056612968445,
          "domain": "huffingtonpost.com"
         },
         {
          "count": 0,
          "d": 43.9445214676857,
          "domain": "huffingtonpost.com"
         },
         {
          "count": 0,
          "d": 44.37847680568695,
          "domain": "huffingtonpost.com"
         },
         {
          "count": 0,
          "d": 44.812432143688206,
          "domain": "huffingtonpost.com"
         },
         {
          "count": 0,
          "d": 1.850853681564331,
          "domain": "dailykos.com"
         },
         {
          "count": 1,
          "d": 2.284809019565582,
          "domain": "dailykos.com"
         },
         {
          "count": 4,
          "d": 2.7187643575668337,
          "domain": "dailykos.com"
         },
         {
          "count": 20,
          "d": 3.1527196955680847,
          "domain": "dailykos.com"
         },
         {
          "count": 71,
          "d": 3.5866750335693363,
          "domain": "dailykos.com"
         },
         {
          "count": 179,
          "d": 4.020630371570587,
          "domain": "dailykos.com"
         },
         {
          "count": 362,
          "d": 4.454585709571838,
          "domain": "dailykos.com"
         },
         {
          "count": 584,
          "d": 4.88854104757309,
          "domain": "dailykos.com"
         },
         {
          "count": 845,
          "d": 5.3224963855743415,
          "domain": "dailykos.com"
         },
         {
          "count": 1250,
          "d": 5.7564517235755925,
          "domain": "dailykos.com"
         },
         {
          "count": 1532,
          "d": 6.190407061576844,
          "domain": "dailykos.com"
         },
         {
          "count": 1866,
          "d": 6.624362399578095,
          "domain": "dailykos.com"
         },
         {
          "count": 2162,
          "d": 7.058317737579346,
          "domain": "dailykos.com"
         },
         {
          "count": 2270,
          "d": 7.492273075580597,
          "domain": "dailykos.com"
         },
         {
          "count": 2374,
          "d": 7.926228413581849,
          "domain": "dailykos.com"
         },
         {
          "count": 2463,
          "d": 8.3601837515831,
          "domain": "dailykos.com"
         },
         {
          "count": 2377,
          "d": 8.794139089584352,
          "domain": "dailykos.com"
         },
         {
          "count": 2342,
          "d": 9.228094427585603,
          "domain": "dailykos.com"
         },
         {
          "count": 2287,
          "d": 9.662049765586854,
          "domain": "dailykos.com"
         },
         {
          "count": 2230,
          "d": 10.096005103588105,
          "domain": "dailykos.com"
         },
         {
          "count": 2190,
          "d": 10.529960441589356,
          "domain": "dailykos.com"
         },
         {
          "count": 2121,
          "d": 10.963915779590607,
          "domain": "dailykos.com"
         },
         {
          "count": 1944,
          "d": 11.397871117591858,
          "domain": "dailykos.com"
         },
         {
          "count": 1870,
          "d": 11.83182645559311,
          "domain": "dailykos.com"
         },
         {
          "count": 1862,
          "d": 12.26578179359436,
          "domain": "dailykos.com"
         },
         {
          "count": 1714,
          "d": 12.699737131595612,
          "domain": "dailykos.com"
         },
         {
          "count": 1627,
          "d": 13.133692469596863,
          "domain": "dailykos.com"
         },
         {
          "count": 1540,
          "d": 13.567647807598116,
          "domain": "dailykos.com"
         },
         {
          "count": 1331,
          "d": 14.001603145599367,
          "domain": "dailykos.com"
         },
         {
          "count": 1296,
          "d": 14.435558483600618,
          "domain": "dailykos.com"
         },
         {
          "count": 1100,
          "d": 14.869513821601869,
          "domain": "dailykos.com"
         },
         {
          "count": 1013,
          "d": 15.30346915960312,
          "domain": "dailykos.com"
         },
         {
          "count": 856,
          "d": 15.737424497604371,
          "domain": "dailykos.com"
         },
         {
          "count": 770,
          "d": 16.17137983560562,
          "domain": "dailykos.com"
         },
         {
          "count": 649,
          "d": 16.605335173606875,
          "domain": "dailykos.com"
         },
         {
          "count": 522,
          "d": 17.039290511608122,
          "domain": "dailykos.com"
         },
         {
          "count": 445,
          "d": 17.473245849609377,
          "domain": "dailykos.com"
         },
         {
          "count": 395,
          "d": 17.907201187610628,
          "domain": "dailykos.com"
         },
         {
          "count": 339,
          "d": 18.34115652561188,
          "domain": "dailykos.com"
         },
         {
          "count": 246,
          "d": 18.77511186361313,
          "domain": "dailykos.com"
         },
         {
          "count": 218,
          "d": 19.20906720161438,
          "domain": "dailykos.com"
         },
         {
          "count": 169,
          "d": 19.643022539615632,
          "domain": "dailykos.com"
         },
         {
          "count": 125,
          "d": 20.076977877616883,
          "domain": "dailykos.com"
         },
         {
          "count": 108,
          "d": 20.510933215618135,
          "domain": "dailykos.com"
         },
         {
          "count": 84,
          "d": 20.944888553619386,
          "domain": "dailykos.com"
         },
         {
          "count": 74,
          "d": 21.378843891620637,
          "domain": "dailykos.com"
         },
         {
          "count": 62,
          "d": 21.812799229621888,
          "domain": "dailykos.com"
         },
         {
          "count": 40,
          "d": 22.24675456762314,
          "domain": "dailykos.com"
         },
         {
          "count": 44,
          "d": 22.68070990562439,
          "domain": "dailykos.com"
         },
         {
          "count": 22,
          "d": 23.11466524362564,
          "domain": "dailykos.com"
         },
         {
          "count": 21,
          "d": 23.548620581626892,
          "domain": "dailykos.com"
         },
         {
          "count": 29,
          "d": 23.982575919628143,
          "domain": "dailykos.com"
         },
         {
          "count": 17,
          "d": 24.416531257629394,
          "domain": "dailykos.com"
         },
         {
          "count": 10,
          "d": 24.850486595630645,
          "domain": "dailykos.com"
         },
         {
          "count": 9,
          "d": 25.2844419336319,
          "domain": "dailykos.com"
         },
         {
          "count": 9,
          "d": 25.71839727163315,
          "domain": "dailykos.com"
         },
         {
          "count": 2,
          "d": 26.152352609634402,
          "domain": "dailykos.com"
         },
         {
          "count": 6,
          "d": 26.586307947635653,
          "domain": "dailykos.com"
         },
         {
          "count": 2,
          "d": 27.020263285636904,
          "domain": "dailykos.com"
         },
         {
          "count": 2,
          "d": 27.454218623638155,
          "domain": "dailykos.com"
         },
         {
          "count": 5,
          "d": 27.888173961639406,
          "domain": "dailykos.com"
         },
         {
          "count": 3,
          "d": 28.322129299640658,
          "domain": "dailykos.com"
         },
         {
          "count": 1,
          "d": 28.75608463764191,
          "domain": "dailykos.com"
         },
         {
          "count": 1,
          "d": 29.19003997564316,
          "domain": "dailykos.com"
         },
         {
          "count": 0,
          "d": 29.62399531364441,
          "domain": "dailykos.com"
         },
         {
          "count": 0,
          "d": 30.057950651645662,
          "domain": "dailykos.com"
         },
         {
          "count": 2,
          "d": 30.491905989646913,
          "domain": "dailykos.com"
         },
         {
          "count": 0,
          "d": 30.925861327648164,
          "domain": "dailykos.com"
         },
         {
          "count": 0,
          "d": 31.359816665649415,
          "domain": "dailykos.com"
         },
         {
          "count": 0,
          "d": 31.793772003650666,
          "domain": "dailykos.com"
         },
         {
          "count": 0,
          "d": 32.227727341651914,
          "domain": "dailykos.com"
         },
         {
          "count": 0,
          "d": 32.66168267965317,
          "domain": "dailykos.com"
         },
         {
          "count": 0,
          "d": 33.09563801765442,
          "domain": "dailykos.com"
         },
         {
          "count": 0,
          "d": 33.52959335565567,
          "domain": "dailykos.com"
         },
         {
          "count": 0,
          "d": 33.963548693656925,
          "domain": "dailykos.com"
         },
         {
          "count": 0,
          "d": 34.39750403165817,
          "domain": "dailykos.com"
         },
         {
          "count": 1,
          "d": 34.83145936965943,
          "domain": "dailykos.com"
         },
         {
          "count": 0,
          "d": 35.265414707660675,
          "domain": "dailykos.com"
         },
         {
          "count": 0,
          "d": 35.69937004566193,
          "domain": "dailykos.com"
         },
         {
          "count": 0,
          "d": 36.13332538366318,
          "domain": "dailykos.com"
         },
         {
          "count": 0,
          "d": 36.56728072166443,
          "domain": "dailykos.com"
         },
         {
          "count": 0,
          "d": 37.00123605966568,
          "domain": "dailykos.com"
         },
         {
          "count": 0,
          "d": 37.435191397666934,
          "domain": "dailykos.com"
         },
         {
          "count": 0,
          "d": 37.86914673566818,
          "domain": "dailykos.com"
         },
         {
          "count": 0,
          "d": 38.303102073669436,
          "domain": "dailykos.com"
         },
         {
          "count": 0,
          "d": 38.73705741167068,
          "domain": "dailykos.com"
         },
         {
          "count": 0,
          "d": 39.17101274967194,
          "domain": "dailykos.com"
         },
         {
          "count": 0,
          "d": 39.60496808767319,
          "domain": "dailykos.com"
         },
         {
          "count": 0,
          "d": 40.03892342567444,
          "domain": "dailykos.com"
         },
         {
          "count": 0,
          "d": 40.472878763675695,
          "domain": "dailykos.com"
         },
         {
          "count": 0,
          "d": 40.90683410167694,
          "domain": "dailykos.com"
         },
         {
          "count": 0,
          "d": 41.3407894396782,
          "domain": "dailykos.com"
         },
         {
          "count": 0,
          "d": 41.774744777679444,
          "domain": "dailykos.com"
         },
         {
          "count": 0,
          "d": 42.2087001156807,
          "domain": "dailykos.com"
         },
         {
          "count": 0,
          "d": 42.64265545368195,
          "domain": "dailykos.com"
         },
         {
          "count": 0,
          "d": 43.0766107916832,
          "domain": "dailykos.com"
         },
         {
          "count": 0,
          "d": 43.51056612968445,
          "domain": "dailykos.com"
         },
         {
          "count": 0,
          "d": 43.9445214676857,
          "domain": "dailykos.com"
         },
         {
          "count": 0,
          "d": 44.37847680568695,
          "domain": "dailykos.com"
         },
         {
          "count": 0,
          "d": 44.812432143688206,
          "domain": "dailykos.com"
         },
         {
          "count": 0,
          "d": 1.850853681564331,
          "domain": "nytimes.com"
         },
         {
          "count": 5,
          "d": 2.284809019565582,
          "domain": "nytimes.com"
         },
         {
          "count": 19,
          "d": 2.7187643575668337,
          "domain": "nytimes.com"
         },
         {
          "count": 44,
          "d": 3.1527196955680847,
          "domain": "nytimes.com"
         },
         {
          "count": 96,
          "d": 3.5866750335693363,
          "domain": "nytimes.com"
         },
         {
          "count": 264,
          "d": 4.020630371570587,
          "domain": "nytimes.com"
         },
         {
          "count": 463,
          "d": 4.454585709571838,
          "domain": "nytimes.com"
         },
         {
          "count": 809,
          "d": 4.88854104757309,
          "domain": "nytimes.com"
         },
         {
          "count": 1170,
          "d": 5.3224963855743415,
          "domain": "nytimes.com"
         },
         {
          "count": 1580,
          "d": 5.7564517235755925,
          "domain": "nytimes.com"
         },
         {
          "count": 1886,
          "d": 6.190407061576844,
          "domain": "nytimes.com"
         },
         {
          "count": 2352,
          "d": 6.624362399578095,
          "domain": "nytimes.com"
         },
         {
          "count": 2688,
          "d": 7.058317737579346,
          "domain": "nytimes.com"
         },
         {
          "count": 2831,
          "d": 7.492273075580597,
          "domain": "nytimes.com"
         },
         {
          "count": 3077,
          "d": 7.926228413581849,
          "domain": "nytimes.com"
         },
         {
          "count": 3109,
          "d": 8.3601837515831,
          "domain": "nytimes.com"
         },
         {
          "count": 3119,
          "d": 8.794139089584352,
          "domain": "nytimes.com"
         },
         {
          "count": 2924,
          "d": 9.228094427585603,
          "domain": "nytimes.com"
         },
         {
          "count": 2758,
          "d": 9.662049765586854,
          "domain": "nytimes.com"
         },
         {
          "count": 2540,
          "d": 10.096005103588105,
          "domain": "nytimes.com"
         },
         {
          "count": 2244,
          "d": 10.529960441589356,
          "domain": "nytimes.com"
         },
         {
          "count": 2047,
          "d": 10.963915779590607,
          "domain": "nytimes.com"
         },
         {
          "count": 1801,
          "d": 11.397871117591858,
          "domain": "nytimes.com"
         },
         {
          "count": 1644,
          "d": 11.83182645559311,
          "domain": "nytimes.com"
         },
         {
          "count": 1342,
          "d": 12.26578179359436,
          "domain": "nytimes.com"
         },
         {
          "count": 1206,
          "d": 12.699737131595612,
          "domain": "nytimes.com"
         },
         {
          "count": 1034,
          "d": 13.133692469596863,
          "domain": "nytimes.com"
         },
         {
          "count": 874,
          "d": 13.567647807598116,
          "domain": "nytimes.com"
         },
         {
          "count": 766,
          "d": 14.001603145599367,
          "domain": "nytimes.com"
         },
         {
          "count": 622,
          "d": 14.435558483600618,
          "domain": "nytimes.com"
         },
         {
          "count": 580,
          "d": 14.869513821601869,
          "domain": "nytimes.com"
         },
         {
          "count": 514,
          "d": 15.30346915960312,
          "domain": "nytimes.com"
         },
         {
          "count": 467,
          "d": 15.737424497604371,
          "domain": "nytimes.com"
         },
         {
          "count": 409,
          "d": 16.17137983560562,
          "domain": "nytimes.com"
         },
         {
          "count": 403,
          "d": 16.605335173606875,
          "domain": "nytimes.com"
         },
         {
          "count": 344,
          "d": 17.039290511608122,
          "domain": "nytimes.com"
         },
         {
          "count": 339,
          "d": 17.473245849609377,
          "domain": "nytimes.com"
         },
         {
          "count": 283,
          "d": 17.907201187610628,
          "domain": "nytimes.com"
         },
         {
          "count": 274,
          "d": 18.34115652561188,
          "domain": "nytimes.com"
         },
         {
          "count": 247,
          "d": 18.77511186361313,
          "domain": "nytimes.com"
         },
         {
          "count": 192,
          "d": 19.20906720161438,
          "domain": "nytimes.com"
         },
         {
          "count": 145,
          "d": 19.643022539615632,
          "domain": "nytimes.com"
         },
         {
          "count": 125,
          "d": 20.076977877616883,
          "domain": "nytimes.com"
         },
         {
          "count": 137,
          "d": 20.510933215618135,
          "domain": "nytimes.com"
         },
         {
          "count": 104,
          "d": 20.944888553619386,
          "domain": "nytimes.com"
         },
         {
          "count": 86,
          "d": 21.378843891620637,
          "domain": "nytimes.com"
         },
         {
          "count": 52,
          "d": 21.812799229621888,
          "domain": "nytimes.com"
         },
         {
          "count": 69,
          "d": 22.24675456762314,
          "domain": "nytimes.com"
         },
         {
          "count": 46,
          "d": 22.68070990562439,
          "domain": "nytimes.com"
         },
         {
          "count": 39,
          "d": 23.11466524362564,
          "domain": "nytimes.com"
         },
         {
          "count": 34,
          "d": 23.548620581626892,
          "domain": "nytimes.com"
         },
         {
          "count": 22,
          "d": 23.982575919628143,
          "domain": "nytimes.com"
         },
         {
          "count": 21,
          "d": 24.416531257629394,
          "domain": "nytimes.com"
         },
         {
          "count": 17,
          "d": 24.850486595630645,
          "domain": "nytimes.com"
         },
         {
          "count": 15,
          "d": 25.2844419336319,
          "domain": "nytimes.com"
         },
         {
          "count": 5,
          "d": 25.71839727163315,
          "domain": "nytimes.com"
         },
         {
          "count": 10,
          "d": 26.152352609634402,
          "domain": "nytimes.com"
         },
         {
          "count": 8,
          "d": 26.586307947635653,
          "domain": "nytimes.com"
         },
         {
          "count": 4,
          "d": 27.020263285636904,
          "domain": "nytimes.com"
         },
         {
          "count": 5,
          "d": 27.454218623638155,
          "domain": "nytimes.com"
         },
         {
          "count": 3,
          "d": 27.888173961639406,
          "domain": "nytimes.com"
         },
         {
          "count": 10,
          "d": 28.322129299640658,
          "domain": "nytimes.com"
         },
         {
          "count": 0,
          "d": 28.75608463764191,
          "domain": "nytimes.com"
         },
         {
          "count": 5,
          "d": 29.19003997564316,
          "domain": "nytimes.com"
         },
         {
          "count": 1,
          "d": 29.62399531364441,
          "domain": "nytimes.com"
         },
         {
          "count": 1,
          "d": 30.057950651645662,
          "domain": "nytimes.com"
         },
         {
          "count": 0,
          "d": 30.491905989646913,
          "domain": "nytimes.com"
         },
         {
          "count": 0,
          "d": 30.925861327648164,
          "domain": "nytimes.com"
         },
         {
          "count": 0,
          "d": 31.359816665649415,
          "domain": "nytimes.com"
         },
         {
          "count": 0,
          "d": 31.793772003650666,
          "domain": "nytimes.com"
         },
         {
          "count": 0,
          "d": 32.227727341651914,
          "domain": "nytimes.com"
         },
         {
          "count": 0,
          "d": 32.66168267965317,
          "domain": "nytimes.com"
         },
         {
          "count": 0,
          "d": 33.09563801765442,
          "domain": "nytimes.com"
         },
         {
          "count": 0,
          "d": 33.52959335565567,
          "domain": "nytimes.com"
         },
         {
          "count": 0,
          "d": 33.963548693656925,
          "domain": "nytimes.com"
         },
         {
          "count": 0,
          "d": 34.39750403165817,
          "domain": "nytimes.com"
         },
         {
          "count": 0,
          "d": 34.83145936965943,
          "domain": "nytimes.com"
         },
         {
          "count": 0,
          "d": 35.265414707660675,
          "domain": "nytimes.com"
         },
         {
          "count": 0,
          "d": 35.69937004566193,
          "domain": "nytimes.com"
         },
         {
          "count": 0,
          "d": 36.13332538366318,
          "domain": "nytimes.com"
         },
         {
          "count": 0,
          "d": 36.56728072166443,
          "domain": "nytimes.com"
         },
         {
          "count": 0,
          "d": 37.00123605966568,
          "domain": "nytimes.com"
         },
         {
          "count": 0,
          "d": 37.435191397666934,
          "domain": "nytimes.com"
         },
         {
          "count": 0,
          "d": 37.86914673566818,
          "domain": "nytimes.com"
         },
         {
          "count": 0,
          "d": 38.303102073669436,
          "domain": "nytimes.com"
         },
         {
          "count": 0,
          "d": 38.73705741167068,
          "domain": "nytimes.com"
         },
         {
          "count": 0,
          "d": 39.17101274967194,
          "domain": "nytimes.com"
         },
         {
          "count": 0,
          "d": 39.60496808767319,
          "domain": "nytimes.com"
         },
         {
          "count": 0,
          "d": 40.03892342567444,
          "domain": "nytimes.com"
         },
         {
          "count": 0,
          "d": 40.472878763675695,
          "domain": "nytimes.com"
         },
         {
          "count": 0,
          "d": 40.90683410167694,
          "domain": "nytimes.com"
         },
         {
          "count": 0,
          "d": 41.3407894396782,
          "domain": "nytimes.com"
         },
         {
          "count": 0,
          "d": 41.774744777679444,
          "domain": "nytimes.com"
         },
         {
          "count": 0,
          "d": 42.2087001156807,
          "domain": "nytimes.com"
         },
         {
          "count": 0,
          "d": 42.64265545368195,
          "domain": "nytimes.com"
         },
         {
          "count": 0,
          "d": 43.0766107916832,
          "domain": "nytimes.com"
         },
         {
          "count": 0,
          "d": 43.51056612968445,
          "domain": "nytimes.com"
         },
         {
          "count": 0,
          "d": 43.9445214676857,
          "domain": "nytimes.com"
         },
         {
          "count": 0,
          "d": 44.37847680568695,
          "domain": "nytimes.com"
         },
         {
          "count": 0,
          "d": 44.812432143688206,
          "domain": "nytimes.com"
         },
         {
          "count": 0,
          "d": 1.850853681564331,
          "domain": "cnn.com"
         },
         {
          "count": 1,
          "d": 2.284809019565582,
          "domain": "cnn.com"
         },
         {
          "count": 12,
          "d": 2.7187643575668337,
          "domain": "cnn.com"
         },
         {
          "count": 43,
          "d": 3.1527196955680847,
          "domain": "cnn.com"
         },
         {
          "count": 130,
          "d": 3.5866750335693363,
          "domain": "cnn.com"
         },
         {
          "count": 263,
          "d": 4.020630371570587,
          "domain": "cnn.com"
         },
         {
          "count": 495,
          "d": 4.454585709571838,
          "domain": "cnn.com"
         },
         {
          "count": 872,
          "d": 4.88854104757309,
          "domain": "cnn.com"
         },
         {
          "count": 1257,
          "d": 5.3224963855743415,
          "domain": "cnn.com"
         },
         {
          "count": 1719,
          "d": 5.7564517235755925,
          "domain": "cnn.com"
         },
         {
          "count": 2143,
          "d": 6.190407061576844,
          "domain": "cnn.com"
         },
         {
          "count": 2446,
          "d": 6.624362399578095,
          "domain": "cnn.com"
         },
         {
          "count": 2824,
          "d": 7.058317737579346,
          "domain": "cnn.com"
         },
         {
          "count": 2994,
          "d": 7.492273075580597,
          "domain": "cnn.com"
         },
         {
          "count": 3032,
          "d": 7.926228413581849,
          "domain": "cnn.com"
         },
         {
          "count": 3042,
          "d": 8.3601837515831,
          "domain": "cnn.com"
         },
         {
          "count": 2813,
          "d": 8.794139089584352,
          "domain": "cnn.com"
         },
         {
          "count": 2533,
          "d": 9.228094427585603,
          "domain": "cnn.com"
         },
         {
          "count": 2299,
          "d": 9.662049765586854,
          "domain": "cnn.com"
         },
         {
          "count": 1964,
          "d": 10.096005103588105,
          "domain": "cnn.com"
         },
         {
          "count": 1750,
          "d": 10.529960441589356,
          "domain": "cnn.com"
         },
         {
          "count": 1449,
          "d": 10.963915779590607,
          "domain": "cnn.com"
         },
         {
          "count": 1218,
          "d": 11.397871117591858,
          "domain": "cnn.com"
         },
         {
          "count": 1077,
          "d": 11.83182645559311,
          "domain": "cnn.com"
         },
         {
          "count": 818,
          "d": 12.26578179359436,
          "domain": "cnn.com"
         },
         {
          "count": 632,
          "d": 12.699737131595612,
          "domain": "cnn.com"
         },
         {
          "count": 639,
          "d": 13.133692469596863,
          "domain": "cnn.com"
         },
         {
          "count": 579,
          "d": 13.567647807598116,
          "domain": "cnn.com"
         },
         {
          "count": 523,
          "d": 14.001603145599367,
          "domain": "cnn.com"
         },
         {
          "count": 529,
          "d": 14.435558483600618,
          "domain": "cnn.com"
         },
         {
          "count": 612,
          "d": 14.869513821601869,
          "domain": "cnn.com"
         },
         {
          "count": 750,
          "d": 15.30346915960312,
          "domain": "cnn.com"
         },
         {
          "count": 849,
          "d": 15.737424497604371,
          "domain": "cnn.com"
         },
         {
          "count": 1095,
          "d": 16.17137983560562,
          "domain": "cnn.com"
         },
         {
          "count": 1086,
          "d": 16.605335173606875,
          "domain": "cnn.com"
         },
         {
          "count": 1114,
          "d": 17.039290511608122,
          "domain": "cnn.com"
         },
         {
          "count": 1113,
          "d": 17.473245849609377,
          "domain": "cnn.com"
         },
         {
          "count": 884,
          "d": 17.907201187610628,
          "domain": "cnn.com"
         },
         {
          "count": 727,
          "d": 18.34115652561188,
          "domain": "cnn.com"
         },
         {
          "count": 567,
          "d": 18.77511186361313,
          "domain": "cnn.com"
         },
         {
          "count": 402,
          "d": 19.20906720161438,
          "domain": "cnn.com"
         },
         {
          "count": 267,
          "d": 19.643022539615632,
          "domain": "cnn.com"
         },
         {
          "count": 178,
          "d": 20.076977877616883,
          "domain": "cnn.com"
         },
         {
          "count": 103,
          "d": 20.510933215618135,
          "domain": "cnn.com"
         },
         {
          "count": 82,
          "d": 20.944888553619386,
          "domain": "cnn.com"
         },
         {
          "count": 35,
          "d": 21.378843891620637,
          "domain": "cnn.com"
         },
         {
          "count": 21,
          "d": 21.812799229621888,
          "domain": "cnn.com"
         },
         {
          "count": 14,
          "d": 22.24675456762314,
          "domain": "cnn.com"
         },
         {
          "count": 5,
          "d": 22.68070990562439,
          "domain": "cnn.com"
         },
         {
          "count": 7,
          "d": 23.11466524362564,
          "domain": "cnn.com"
         },
         {
          "count": 6,
          "d": 23.548620581626892,
          "domain": "cnn.com"
         },
         {
          "count": 3,
          "d": 23.982575919628143,
          "domain": "cnn.com"
         },
         {
          "count": 2,
          "d": 24.416531257629394,
          "domain": "cnn.com"
         },
         {
          "count": 3,
          "d": 24.850486595630645,
          "domain": "cnn.com"
         },
         {
          "count": 1,
          "d": 25.2844419336319,
          "domain": "cnn.com"
         },
         {
          "count": 1,
          "d": 25.71839727163315,
          "domain": "cnn.com"
         },
         {
          "count": 0,
          "d": 26.152352609634402,
          "domain": "cnn.com"
         },
         {
          "count": 0,
          "d": 26.586307947635653,
          "domain": "cnn.com"
         },
         {
          "count": 1,
          "d": 27.020263285636904,
          "domain": "cnn.com"
         },
         {
          "count": 0,
          "d": 27.454218623638155,
          "domain": "cnn.com"
         },
         {
          "count": 0,
          "d": 27.888173961639406,
          "domain": "cnn.com"
         },
         {
          "count": 0,
          "d": 28.322129299640658,
          "domain": "cnn.com"
         },
         {
          "count": 0,
          "d": 28.75608463764191,
          "domain": "cnn.com"
         },
         {
          "count": 0,
          "d": 29.19003997564316,
          "domain": "cnn.com"
         },
         {
          "count": 0,
          "d": 29.62399531364441,
          "domain": "cnn.com"
         },
         {
          "count": 0,
          "d": 30.057950651645662,
          "domain": "cnn.com"
         },
         {
          "count": 0,
          "d": 30.491905989646913,
          "domain": "cnn.com"
         },
         {
          "count": 0,
          "d": 30.925861327648164,
          "domain": "cnn.com"
         },
         {
          "count": 0,
          "d": 31.359816665649415,
          "domain": "cnn.com"
         },
         {
          "count": 0,
          "d": 31.793772003650666,
          "domain": "cnn.com"
         },
         {
          "count": 0,
          "d": 32.227727341651914,
          "domain": "cnn.com"
         },
         {
          "count": 0,
          "d": 32.66168267965317,
          "domain": "cnn.com"
         },
         {
          "count": 0,
          "d": 33.09563801765442,
          "domain": "cnn.com"
         },
         {
          "count": 0,
          "d": 33.52959335565567,
          "domain": "cnn.com"
         },
         {
          "count": 0,
          "d": 33.963548693656925,
          "domain": "cnn.com"
         },
         {
          "count": 0,
          "d": 34.39750403165817,
          "domain": "cnn.com"
         },
         {
          "count": 0,
          "d": 34.83145936965943,
          "domain": "cnn.com"
         },
         {
          "count": 0,
          "d": 35.265414707660675,
          "domain": "cnn.com"
         },
         {
          "count": 0,
          "d": 35.69937004566193,
          "domain": "cnn.com"
         },
         {
          "count": 0,
          "d": 36.13332538366318,
          "domain": "cnn.com"
         },
         {
          "count": 0,
          "d": 36.56728072166443,
          "domain": "cnn.com"
         },
         {
          "count": 0,
          "d": 37.00123605966568,
          "domain": "cnn.com"
         },
         {
          "count": 0,
          "d": 37.435191397666934,
          "domain": "cnn.com"
         },
         {
          "count": 0,
          "d": 37.86914673566818,
          "domain": "cnn.com"
         },
         {
          "count": 0,
          "d": 38.303102073669436,
          "domain": "cnn.com"
         },
         {
          "count": 0,
          "d": 38.73705741167068,
          "domain": "cnn.com"
         },
         {
          "count": 0,
          "d": 39.17101274967194,
          "domain": "cnn.com"
         },
         {
          "count": 0,
          "d": 39.60496808767319,
          "domain": "cnn.com"
         },
         {
          "count": 0,
          "d": 40.03892342567444,
          "domain": "cnn.com"
         },
         {
          "count": 0,
          "d": 40.472878763675695,
          "domain": "cnn.com"
         },
         {
          "count": 0,
          "d": 40.90683410167694,
          "domain": "cnn.com"
         },
         {
          "count": 0,
          "d": 41.3407894396782,
          "domain": "cnn.com"
         },
         {
          "count": 0,
          "d": 41.774744777679444,
          "domain": "cnn.com"
         },
         {
          "count": 0,
          "d": 42.2087001156807,
          "domain": "cnn.com"
         },
         {
          "count": 0,
          "d": 42.64265545368195,
          "domain": "cnn.com"
         },
         {
          "count": 0,
          "d": 43.0766107916832,
          "domain": "cnn.com"
         },
         {
          "count": 0,
          "d": 43.51056612968445,
          "domain": "cnn.com"
         },
         {
          "count": 0,
          "d": 43.9445214676857,
          "domain": "cnn.com"
         },
         {
          "count": 0,
          "d": 44.37847680568695,
          "domain": "cnn.com"
         },
         {
          "count": 0,
          "d": 44.812432143688206,
          "domain": "cnn.com"
         },
         {
          "count": 0,
          "d": 1.850853681564331,
          "domain": "wsj.com"
         },
         {
          "count": 1,
          "d": 2.284809019565582,
          "domain": "wsj.com"
         },
         {
          "count": 4,
          "d": 2.7187643575668337,
          "domain": "wsj.com"
         },
         {
          "count": 27,
          "d": 3.1527196955680847,
          "domain": "wsj.com"
         },
         {
          "count": 74,
          "d": 3.5866750335693363,
          "domain": "wsj.com"
         },
         {
          "count": 176,
          "d": 4.020630371570587,
          "domain": "wsj.com"
         },
         {
          "count": 327,
          "d": 4.454585709571838,
          "domain": "wsj.com"
         },
         {
          "count": 599,
          "d": 4.88854104757309,
          "domain": "wsj.com"
         },
         {
          "count": 864,
          "d": 5.3224963855743415,
          "domain": "wsj.com"
         },
         {
          "count": 1264,
          "d": 5.7564517235755925,
          "domain": "wsj.com"
         },
         {
          "count": 1605,
          "d": 6.190407061576844,
          "domain": "wsj.com"
         },
         {
          "count": 1882,
          "d": 6.624362399578095,
          "domain": "wsj.com"
         },
         {
          "count": 2163,
          "d": 7.058317737579346,
          "domain": "wsj.com"
         },
         {
          "count": 2437,
          "d": 7.492273075580597,
          "domain": "wsj.com"
         },
         {
          "count": 2541,
          "d": 7.926228413581849,
          "domain": "wsj.com"
         },
         {
          "count": 2814,
          "d": 8.3601837515831,
          "domain": "wsj.com"
         },
         {
          "count": 2899,
          "d": 8.794139089584352,
          "domain": "wsj.com"
         },
         {
          "count": 2843,
          "d": 9.228094427585603,
          "domain": "wsj.com"
         },
         {
          "count": 2724,
          "d": 9.662049765586854,
          "domain": "wsj.com"
         },
         {
          "count": 2514,
          "d": 10.096005103588105,
          "domain": "wsj.com"
         },
         {
          "count": 2463,
          "d": 10.529960441589356,
          "domain": "wsj.com"
         },
         {
          "count": 2200,
          "d": 10.963915779590607,
          "domain": "wsj.com"
         },
         {
          "count": 2144,
          "d": 11.397871117591858,
          "domain": "wsj.com"
         },
         {
          "count": 1964,
          "d": 11.83182645559311,
          "domain": "wsj.com"
         },
         {
          "count": 1753,
          "d": 12.26578179359436,
          "domain": "wsj.com"
         },
         {
          "count": 1518,
          "d": 12.699737131595612,
          "domain": "wsj.com"
         },
         {
          "count": 1393,
          "d": 13.133692469596863,
          "domain": "wsj.com"
         },
         {
          "count": 1211,
          "d": 13.567647807598116,
          "domain": "wsj.com"
         },
         {
          "count": 1132,
          "d": 14.001603145599367,
          "domain": "wsj.com"
         },
         {
          "count": 1025,
          "d": 14.435558483600618,
          "domain": "wsj.com"
         },
         {
          "count": 848,
          "d": 14.869513821601869,
          "domain": "wsj.com"
         },
         {
          "count": 751,
          "d": 15.30346915960312,
          "domain": "wsj.com"
         },
         {
          "count": 655,
          "d": 15.737424497604371,
          "domain": "wsj.com"
         },
         {
          "count": 528,
          "d": 16.17137983560562,
          "domain": "wsj.com"
         },
         {
          "count": 470,
          "d": 16.605335173606875,
          "domain": "wsj.com"
         },
         {
          "count": 409,
          "d": 17.039290511608122,
          "domain": "wsj.com"
         },
         {
          "count": 358,
          "d": 17.473245849609377,
          "domain": "wsj.com"
         },
         {
          "count": 300,
          "d": 17.907201187610628,
          "domain": "wsj.com"
         },
         {
          "count": 249,
          "d": 18.34115652561188,
          "domain": "wsj.com"
         },
         {
          "count": 189,
          "d": 18.77511186361313,
          "domain": "wsj.com"
         },
         {
          "count": 190,
          "d": 19.20906720161438,
          "domain": "wsj.com"
         },
         {
          "count": 134,
          "d": 19.643022539615632,
          "domain": "wsj.com"
         },
         {
          "count": 125,
          "d": 20.076977877616883,
          "domain": "wsj.com"
         },
         {
          "count": 93,
          "d": 20.510933215618135,
          "domain": "wsj.com"
         },
         {
          "count": 86,
          "d": 20.944888553619386,
          "domain": "wsj.com"
         },
         {
          "count": 59,
          "d": 21.378843891620637,
          "domain": "wsj.com"
         },
         {
          "count": 41,
          "d": 21.812799229621888,
          "domain": "wsj.com"
         },
         {
          "count": 41,
          "d": 22.24675456762314,
          "domain": "wsj.com"
         },
         {
          "count": 36,
          "d": 22.68070990562439,
          "domain": "wsj.com"
         },
         {
          "count": 20,
          "d": 23.11466524362564,
          "domain": "wsj.com"
         },
         {
          "count": 22,
          "d": 23.548620581626892,
          "domain": "wsj.com"
         },
         {
          "count": 17,
          "d": 23.982575919628143,
          "domain": "wsj.com"
         },
         {
          "count": 15,
          "d": 24.416531257629394,
          "domain": "wsj.com"
         },
         {
          "count": 10,
          "d": 24.850486595630645,
          "domain": "wsj.com"
         },
         {
          "count": 5,
          "d": 25.2844419336319,
          "domain": "wsj.com"
         },
         {
          "count": 6,
          "d": 25.71839727163315,
          "domain": "wsj.com"
         },
         {
          "count": 3,
          "d": 26.152352609634402,
          "domain": "wsj.com"
         },
         {
          "count": 1,
          "d": 26.586307947635653,
          "domain": "wsj.com"
         },
         {
          "count": 2,
          "d": 27.020263285636904,
          "domain": "wsj.com"
         },
         {
          "count": 3,
          "d": 27.454218623638155,
          "domain": "wsj.com"
         },
         {
          "count": 1,
          "d": 27.888173961639406,
          "domain": "wsj.com"
         },
         {
          "count": 1,
          "d": 28.322129299640658,
          "domain": "wsj.com"
         },
         {
          "count": 0,
          "d": 28.75608463764191,
          "domain": "wsj.com"
         },
         {
          "count": 0,
          "d": 29.19003997564316,
          "domain": "wsj.com"
         },
         {
          "count": 0,
          "d": 29.62399531364441,
          "domain": "wsj.com"
         },
         {
          "count": 0,
          "d": 30.057950651645662,
          "domain": "wsj.com"
         },
         {
          "count": 0,
          "d": 30.491905989646913,
          "domain": "wsj.com"
         },
         {
          "count": 0,
          "d": 30.925861327648164,
          "domain": "wsj.com"
         },
         {
          "count": 0,
          "d": 31.359816665649415,
          "domain": "wsj.com"
         },
         {
          "count": 0,
          "d": 31.793772003650666,
          "domain": "wsj.com"
         },
         {
          "count": 0,
          "d": 32.227727341651914,
          "domain": "wsj.com"
         },
         {
          "count": 0,
          "d": 32.66168267965317,
          "domain": "wsj.com"
         },
         {
          "count": 0,
          "d": 33.09563801765442,
          "domain": "wsj.com"
         },
         {
          "count": 0,
          "d": 33.52959335565567,
          "domain": "wsj.com"
         },
         {
          "count": 0,
          "d": 33.963548693656925,
          "domain": "wsj.com"
         },
         {
          "count": 0,
          "d": 34.39750403165817,
          "domain": "wsj.com"
         },
         {
          "count": 0,
          "d": 34.83145936965943,
          "domain": "wsj.com"
         },
         {
          "count": 0,
          "d": 35.265414707660675,
          "domain": "wsj.com"
         },
         {
          "count": 0,
          "d": 35.69937004566193,
          "domain": "wsj.com"
         },
         {
          "count": 0,
          "d": 36.13332538366318,
          "domain": "wsj.com"
         },
         {
          "count": 0,
          "d": 36.56728072166443,
          "domain": "wsj.com"
         },
         {
          "count": 0,
          "d": 37.00123605966568,
          "domain": "wsj.com"
         },
         {
          "count": 0,
          "d": 37.435191397666934,
          "domain": "wsj.com"
         },
         {
          "count": 0,
          "d": 37.86914673566818,
          "domain": "wsj.com"
         },
         {
          "count": 0,
          "d": 38.303102073669436,
          "domain": "wsj.com"
         },
         {
          "count": 0,
          "d": 38.73705741167068,
          "domain": "wsj.com"
         },
         {
          "count": 0,
          "d": 39.17101274967194,
          "domain": "wsj.com"
         },
         {
          "count": 0,
          "d": 39.60496808767319,
          "domain": "wsj.com"
         },
         {
          "count": 0,
          "d": 40.03892342567444,
          "domain": "wsj.com"
         },
         {
          "count": 0,
          "d": 40.472878763675695,
          "domain": "wsj.com"
         },
         {
          "count": 0,
          "d": 40.90683410167694,
          "domain": "wsj.com"
         },
         {
          "count": 0,
          "d": 41.3407894396782,
          "domain": "wsj.com"
         },
         {
          "count": 0,
          "d": 41.774744777679444,
          "domain": "wsj.com"
         },
         {
          "count": 0,
          "d": 42.2087001156807,
          "domain": "wsj.com"
         },
         {
          "count": 0,
          "d": 42.64265545368195,
          "domain": "wsj.com"
         },
         {
          "count": 0,
          "d": 43.0766107916832,
          "domain": "wsj.com"
         },
         {
          "count": 0,
          "d": 43.51056612968445,
          "domain": "wsj.com"
         },
         {
          "count": 0,
          "d": 43.9445214676857,
          "domain": "wsj.com"
         },
         {
          "count": 0,
          "d": 44.37847680568695,
          "domain": "wsj.com"
         },
         {
          "count": 0,
          "d": 44.812432143688206,
          "domain": "wsj.com"
         },
         {
          "count": 0,
          "d": 1.850853681564331,
          "domain": "apnews.com"
         },
         {
          "count": 0,
          "d": 2.284809019565582,
          "domain": "apnews.com"
         },
         {
          "count": 6,
          "d": 2.7187643575668337,
          "domain": "apnews.com"
         },
         {
          "count": 10,
          "d": 3.1527196955680847,
          "domain": "apnews.com"
         },
         {
          "count": 25,
          "d": 3.5866750335693363,
          "domain": "apnews.com"
         },
         {
          "count": 90,
          "d": 4.020630371570587,
          "domain": "apnews.com"
         },
         {
          "count": 172,
          "d": 4.454585709571838,
          "domain": "apnews.com"
         },
         {
          "count": 300,
          "d": 4.88854104757309,
          "domain": "apnews.com"
         },
         {
          "count": 419,
          "d": 5.3224963855743415,
          "domain": "apnews.com"
         },
         {
          "count": 650,
          "d": 5.7564517235755925,
          "domain": "apnews.com"
         },
         {
          "count": 965,
          "d": 6.190407061576844,
          "domain": "apnews.com"
         },
         {
          "count": 1331,
          "d": 6.624362399578095,
          "domain": "apnews.com"
         },
         {
          "count": 1573,
          "d": 7.058317737579346,
          "domain": "apnews.com"
         },
         {
          "count": 1938,
          "d": 7.492273075580597,
          "domain": "apnews.com"
         },
         {
          "count": 2266,
          "d": 7.926228413581849,
          "domain": "apnews.com"
         },
         {
          "count": 2457,
          "d": 8.3601837515831,
          "domain": "apnews.com"
         },
         {
          "count": 2604,
          "d": 8.794139089584352,
          "domain": "apnews.com"
         },
         {
          "count": 2774,
          "d": 9.228094427585603,
          "domain": "apnews.com"
         },
         {
          "count": 2807,
          "d": 9.662049765586854,
          "domain": "apnews.com"
         },
         {
          "count": 2703,
          "d": 10.096005103588105,
          "domain": "apnews.com"
         },
         {
          "count": 2499,
          "d": 10.529960441589356,
          "domain": "apnews.com"
         },
         {
          "count": 2272,
          "d": 10.963915779590607,
          "domain": "apnews.com"
         },
         {
          "count": 2173,
          "d": 11.397871117591858,
          "domain": "apnews.com"
         },
         {
          "count": 1941,
          "d": 11.83182645559311,
          "domain": "apnews.com"
         },
         {
          "count": 1738,
          "d": 12.26578179359436,
          "domain": "apnews.com"
         },
         {
          "count": 1537,
          "d": 12.699737131595612,
          "domain": "apnews.com"
         },
         {
          "count": 1391,
          "d": 13.133692469596863,
          "domain": "apnews.com"
         },
         {
          "count": 1241,
          "d": 13.567647807598116,
          "domain": "apnews.com"
         },
         {
          "count": 1058,
          "d": 14.001603145599367,
          "domain": "apnews.com"
         },
         {
          "count": 1012,
          "d": 14.435558483600618,
          "domain": "apnews.com"
         },
         {
          "count": 934,
          "d": 14.869513821601869,
          "domain": "apnews.com"
         },
         {
          "count": 921,
          "d": 15.30346915960312,
          "domain": "apnews.com"
         },
         {
          "count": 905,
          "d": 15.737424497604371,
          "domain": "apnews.com"
         },
         {
          "count": 963,
          "d": 16.17137983560562,
          "domain": "apnews.com"
         },
         {
          "count": 1009,
          "d": 16.605335173606875,
          "domain": "apnews.com"
         },
         {
          "count": 1031,
          "d": 17.039290511608122,
          "domain": "apnews.com"
         },
         {
          "count": 917,
          "d": 17.473245849609377,
          "domain": "apnews.com"
         },
         {
          "count": 768,
          "d": 17.907201187610628,
          "domain": "apnews.com"
         },
         {
          "count": 648,
          "d": 18.34115652561188,
          "domain": "apnews.com"
         },
         {
          "count": 539,
          "d": 18.77511186361313,
          "domain": "apnews.com"
         },
         {
          "count": 431,
          "d": 19.20906720161438,
          "domain": "apnews.com"
         },
         {
          "count": 310,
          "d": 19.643022539615632,
          "domain": "apnews.com"
         },
         {
          "count": 234,
          "d": 20.076977877616883,
          "domain": "apnews.com"
         },
         {
          "count": 164,
          "d": 20.510933215618135,
          "domain": "apnews.com"
         },
         {
          "count": 112,
          "d": 20.944888553619386,
          "domain": "apnews.com"
         },
         {
          "count": 100,
          "d": 21.378843891620637,
          "domain": "apnews.com"
         },
         {
          "count": 64,
          "d": 21.812799229621888,
          "domain": "apnews.com"
         },
         {
          "count": 50,
          "d": 22.24675456762314,
          "domain": "apnews.com"
         },
         {
          "count": 50,
          "d": 22.68070990562439,
          "domain": "apnews.com"
         },
         {
          "count": 26,
          "d": 23.11466524362564,
          "domain": "apnews.com"
         },
         {
          "count": 37,
          "d": 23.548620581626892,
          "domain": "apnews.com"
         },
         {
          "count": 22,
          "d": 23.982575919628143,
          "domain": "apnews.com"
         },
         {
          "count": 22,
          "d": 24.416531257629394,
          "domain": "apnews.com"
         },
         {
          "count": 11,
          "d": 24.850486595630645,
          "domain": "apnews.com"
         },
         {
          "count": 7,
          "d": 25.2844419336319,
          "domain": "apnews.com"
         },
         {
          "count": 4,
          "d": 25.71839727163315,
          "domain": "apnews.com"
         },
         {
          "count": 2,
          "d": 26.152352609634402,
          "domain": "apnews.com"
         },
         {
          "count": 1,
          "d": 26.586307947635653,
          "domain": "apnews.com"
         },
         {
          "count": 0,
          "d": 27.020263285636904,
          "domain": "apnews.com"
         },
         {
          "count": 0,
          "d": 27.454218623638155,
          "domain": "apnews.com"
         },
         {
          "count": 1,
          "d": 27.888173961639406,
          "domain": "apnews.com"
         },
         {
          "count": 0,
          "d": 28.322129299640658,
          "domain": "apnews.com"
         },
         {
          "count": 0,
          "d": 28.75608463764191,
          "domain": "apnews.com"
         },
         {
          "count": 0,
          "d": 29.19003997564316,
          "domain": "apnews.com"
         },
         {
          "count": 0,
          "d": 29.62399531364441,
          "domain": "apnews.com"
         },
         {
          "count": 0,
          "d": 30.057950651645662,
          "domain": "apnews.com"
         },
         {
          "count": 0,
          "d": 30.491905989646913,
          "domain": "apnews.com"
         },
         {
          "count": 0,
          "d": 30.925861327648164,
          "domain": "apnews.com"
         },
         {
          "count": 0,
          "d": 31.359816665649415,
          "domain": "apnews.com"
         },
         {
          "count": 0,
          "d": 31.793772003650666,
          "domain": "apnews.com"
         },
         {
          "count": 0,
          "d": 32.227727341651914,
          "domain": "apnews.com"
         },
         {
          "count": 0,
          "d": 32.66168267965317,
          "domain": "apnews.com"
         },
         {
          "count": 0,
          "d": 33.09563801765442,
          "domain": "apnews.com"
         },
         {
          "count": 0,
          "d": 33.52959335565567,
          "domain": "apnews.com"
         },
         {
          "count": 0,
          "d": 33.963548693656925,
          "domain": "apnews.com"
         },
         {
          "count": 0,
          "d": 34.39750403165817,
          "domain": "apnews.com"
         },
         {
          "count": 0,
          "d": 34.83145936965943,
          "domain": "apnews.com"
         },
         {
          "count": 0,
          "d": 35.265414707660675,
          "domain": "apnews.com"
         },
         {
          "count": 0,
          "d": 35.69937004566193,
          "domain": "apnews.com"
         },
         {
          "count": 0,
          "d": 36.13332538366318,
          "domain": "apnews.com"
         },
         {
          "count": 0,
          "d": 36.56728072166443,
          "domain": "apnews.com"
         },
         {
          "count": 0,
          "d": 37.00123605966568,
          "domain": "apnews.com"
         },
         {
          "count": 0,
          "d": 37.435191397666934,
          "domain": "apnews.com"
         },
         {
          "count": 0,
          "d": 37.86914673566818,
          "domain": "apnews.com"
         },
         {
          "count": 0,
          "d": 38.303102073669436,
          "domain": "apnews.com"
         },
         {
          "count": 0,
          "d": 38.73705741167068,
          "domain": "apnews.com"
         },
         {
          "count": 0,
          "d": 39.17101274967194,
          "domain": "apnews.com"
         },
         {
          "count": 0,
          "d": 39.60496808767319,
          "domain": "apnews.com"
         },
         {
          "count": 0,
          "d": 40.03892342567444,
          "domain": "apnews.com"
         },
         {
          "count": 0,
          "d": 40.472878763675695,
          "domain": "apnews.com"
         },
         {
          "count": 0,
          "d": 40.90683410167694,
          "domain": "apnews.com"
         },
         {
          "count": 0,
          "d": 41.3407894396782,
          "domain": "apnews.com"
         },
         {
          "count": 0,
          "d": 41.774744777679444,
          "domain": "apnews.com"
         },
         {
          "count": 0,
          "d": 42.2087001156807,
          "domain": "apnews.com"
         },
         {
          "count": 0,
          "d": 42.64265545368195,
          "domain": "apnews.com"
         },
         {
          "count": 0,
          "d": 43.0766107916832,
          "domain": "apnews.com"
         },
         {
          "count": 0,
          "d": 43.51056612968445,
          "domain": "apnews.com"
         },
         {
          "count": 0,
          "d": 43.9445214676857,
          "domain": "apnews.com"
         },
         {
          "count": 0,
          "d": 44.37847680568695,
          "domain": "apnews.com"
         },
         {
          "count": 0,
          "d": 44.812432143688206,
          "domain": "apnews.com"
         },
         {
          "count": 1,
          "d": 1.850853681564331,
          "domain": "breitbart.com"
         },
         {
          "count": 2,
          "d": 2.284809019565582,
          "domain": "breitbart.com"
         },
         {
          "count": 4,
          "d": 2.7187643575668337,
          "domain": "breitbart.com"
         },
         {
          "count": 37,
          "d": 3.1527196955680847,
          "domain": "breitbart.com"
         },
         {
          "count": 76,
          "d": 3.5866750335693363,
          "domain": "breitbart.com"
         },
         {
          "count": 152,
          "d": 4.020630371570587,
          "domain": "breitbart.com"
         },
         {
          "count": 269,
          "d": 4.454585709571838,
          "domain": "breitbart.com"
         },
         {
          "count": 477,
          "d": 4.88854104757309,
          "domain": "breitbart.com"
         },
         {
          "count": 781,
          "d": 5.3224963855743415,
          "domain": "breitbart.com"
         },
         {
          "count": 1024,
          "d": 5.7564517235755925,
          "domain": "breitbart.com"
         },
         {
          "count": 1383,
          "d": 6.190407061576844,
          "domain": "breitbart.com"
         },
         {
          "count": 1688,
          "d": 6.624362399578095,
          "domain": "breitbart.com"
         },
         {
          "count": 2063,
          "d": 7.058317737579346,
          "domain": "breitbart.com"
         },
         {
          "count": 2252,
          "d": 7.492273075580597,
          "domain": "breitbart.com"
         },
         {
          "count": 2356,
          "d": 7.926228413581849,
          "domain": "breitbart.com"
         },
         {
          "count": 2633,
          "d": 8.3601837515831,
          "domain": "breitbart.com"
         },
         {
          "count": 2752,
          "d": 8.794139089584352,
          "domain": "breitbart.com"
         },
         {
          "count": 2772,
          "d": 9.228094427585603,
          "domain": "breitbart.com"
         },
         {
          "count": 2721,
          "d": 9.662049765586854,
          "domain": "breitbart.com"
         },
         {
          "count": 2686,
          "d": 10.096005103588105,
          "domain": "breitbart.com"
         },
         {
          "count": 2546,
          "d": 10.529960441589356,
          "domain": "breitbart.com"
         },
         {
          "count": 2489,
          "d": 10.963915779590607,
          "domain": "breitbart.com"
         },
         {
          "count": 2263,
          "d": 11.397871117591858,
          "domain": "breitbart.com"
         },
         {
          "count": 2066,
          "d": 11.83182645559311,
          "domain": "breitbart.com"
         },
         {
          "count": 1966,
          "d": 12.26578179359436,
          "domain": "breitbart.com"
         },
         {
          "count": 1698,
          "d": 12.699737131595612,
          "domain": "breitbart.com"
         },
         {
          "count": 1606,
          "d": 13.133692469596863,
          "domain": "breitbart.com"
         },
         {
          "count": 1430,
          "d": 13.567647807598116,
          "domain": "breitbart.com"
         },
         {
          "count": 1225,
          "d": 14.001603145599367,
          "domain": "breitbart.com"
         },
         {
          "count": 1067,
          "d": 14.435558483600618,
          "domain": "breitbart.com"
         },
         {
          "count": 849,
          "d": 14.869513821601869,
          "domain": "breitbart.com"
         },
         {
          "count": 783,
          "d": 15.30346915960312,
          "domain": "breitbart.com"
         },
         {
          "count": 693,
          "d": 15.737424497604371,
          "domain": "breitbart.com"
         },
         {
          "count": 603,
          "d": 16.17137983560562,
          "domain": "breitbart.com"
         },
         {
          "count": 529,
          "d": 16.605335173606875,
          "domain": "breitbart.com"
         },
         {
          "count": 381,
          "d": 17.039290511608122,
          "domain": "breitbart.com"
         },
         {
          "count": 356,
          "d": 17.473245849609377,
          "domain": "breitbart.com"
         },
         {
          "count": 280,
          "d": 17.907201187610628,
          "domain": "breitbart.com"
         },
         {
          "count": 240,
          "d": 18.34115652561188,
          "domain": "breitbart.com"
         },
         {
          "count": 171,
          "d": 18.77511186361313,
          "domain": "breitbart.com"
         },
         {
          "count": 172,
          "d": 19.20906720161438,
          "domain": "breitbart.com"
         },
         {
          "count": 122,
          "d": 19.643022539615632,
          "domain": "breitbart.com"
         },
         {
          "count": 114,
          "d": 20.076977877616883,
          "domain": "breitbart.com"
         },
         {
          "count": 85,
          "d": 20.510933215618135,
          "domain": "breitbart.com"
         },
         {
          "count": 70,
          "d": 20.944888553619386,
          "domain": "breitbart.com"
         },
         {
          "count": 72,
          "d": 21.378843891620637,
          "domain": "breitbart.com"
         },
         {
          "count": 57,
          "d": 21.812799229621888,
          "domain": "breitbart.com"
         },
         {
          "count": 36,
          "d": 22.24675456762314,
          "domain": "breitbart.com"
         },
         {
          "count": 18,
          "d": 22.68070990562439,
          "domain": "breitbart.com"
         },
         {
          "count": 18,
          "d": 23.11466524362564,
          "domain": "breitbart.com"
         },
         {
          "count": 10,
          "d": 23.548620581626892,
          "domain": "breitbart.com"
         },
         {
          "count": 12,
          "d": 23.982575919628143,
          "domain": "breitbart.com"
         },
         {
          "count": 10,
          "d": 24.416531257629394,
          "domain": "breitbart.com"
         },
         {
          "count": 6,
          "d": 24.850486595630645,
          "domain": "breitbart.com"
         },
         {
          "count": 4,
          "d": 25.2844419336319,
          "domain": "breitbart.com"
         },
         {
          "count": 4,
          "d": 25.71839727163315,
          "domain": "breitbart.com"
         },
         {
          "count": 1,
          "d": 26.152352609634402,
          "domain": "breitbart.com"
         },
         {
          "count": 1,
          "d": 26.586307947635653,
          "domain": "breitbart.com"
         },
         {
          "count": 0,
          "d": 27.020263285636904,
          "domain": "breitbart.com"
         },
         {
          "count": 1,
          "d": 27.454218623638155,
          "domain": "breitbart.com"
         },
         {
          "count": 0,
          "d": 27.888173961639406,
          "domain": "breitbart.com"
         },
         {
          "count": 0,
          "d": 28.322129299640658,
          "domain": "breitbart.com"
         },
         {
          "count": 0,
          "d": 28.75608463764191,
          "domain": "breitbart.com"
         },
         {
          "count": 0,
          "d": 29.19003997564316,
          "domain": "breitbart.com"
         },
         {
          "count": 0,
          "d": 29.62399531364441,
          "domain": "breitbart.com"
         },
         {
          "count": 0,
          "d": 30.057950651645662,
          "domain": "breitbart.com"
         },
         {
          "count": 0,
          "d": 30.491905989646913,
          "domain": "breitbart.com"
         },
         {
          "count": 0,
          "d": 30.925861327648164,
          "domain": "breitbart.com"
         },
         {
          "count": 0,
          "d": 31.359816665649415,
          "domain": "breitbart.com"
         },
         {
          "count": 0,
          "d": 31.793772003650666,
          "domain": "breitbart.com"
         },
         {
          "count": 0,
          "d": 32.227727341651914,
          "domain": "breitbart.com"
         },
         {
          "count": 0,
          "d": 32.66168267965317,
          "domain": "breitbart.com"
         },
         {
          "count": 0,
          "d": 33.09563801765442,
          "domain": "breitbart.com"
         },
         {
          "count": 0,
          "d": 33.52959335565567,
          "domain": "breitbart.com"
         },
         {
          "count": 0,
          "d": 33.963548693656925,
          "domain": "breitbart.com"
         },
         {
          "count": 0,
          "d": 34.39750403165817,
          "domain": "breitbart.com"
         },
         {
          "count": 0,
          "d": 34.83145936965943,
          "domain": "breitbart.com"
         },
         {
          "count": 0,
          "d": 35.265414707660675,
          "domain": "breitbart.com"
         },
         {
          "count": 0,
          "d": 35.69937004566193,
          "domain": "breitbart.com"
         },
         {
          "count": 0,
          "d": 36.13332538366318,
          "domain": "breitbart.com"
         },
         {
          "count": 0,
          "d": 36.56728072166443,
          "domain": "breitbart.com"
         },
         {
          "count": 0,
          "d": 37.00123605966568,
          "domain": "breitbart.com"
         },
         {
          "count": 0,
          "d": 37.435191397666934,
          "domain": "breitbart.com"
         },
         {
          "count": 0,
          "d": 37.86914673566818,
          "domain": "breitbart.com"
         },
         {
          "count": 0,
          "d": 38.303102073669436,
          "domain": "breitbart.com"
         },
         {
          "count": 0,
          "d": 38.73705741167068,
          "domain": "breitbart.com"
         },
         {
          "count": 0,
          "d": 39.17101274967194,
          "domain": "breitbart.com"
         },
         {
          "count": 0,
          "d": 39.60496808767319,
          "domain": "breitbart.com"
         },
         {
          "count": 0,
          "d": 40.03892342567444,
          "domain": "breitbart.com"
         },
         {
          "count": 0,
          "d": 40.472878763675695,
          "domain": "breitbart.com"
         },
         {
          "count": 0,
          "d": 40.90683410167694,
          "domain": "breitbart.com"
         },
         {
          "count": 0,
          "d": 41.3407894396782,
          "domain": "breitbart.com"
         },
         {
          "count": 0,
          "d": 41.774744777679444,
          "domain": "breitbart.com"
         },
         {
          "count": 0,
          "d": 42.2087001156807,
          "domain": "breitbart.com"
         },
         {
          "count": 0,
          "d": 42.64265545368195,
          "domain": "breitbart.com"
         },
         {
          "count": 0,
          "d": 43.0766107916832,
          "domain": "breitbart.com"
         },
         {
          "count": 0,
          "d": 43.51056612968445,
          "domain": "breitbart.com"
         },
         {
          "count": 0,
          "d": 43.9445214676857,
          "domain": "breitbart.com"
         },
         {
          "count": 0,
          "d": 44.37847680568695,
          "domain": "breitbart.com"
         },
         {
          "count": 0,
          "d": 44.812432143688206,
          "domain": "breitbart.com"
         },
         {
          "count": 0,
          "d": 1.850853681564331,
          "domain": "foxnews.com"
         },
         {
          "count": 0,
          "d": 2.284809019565582,
          "domain": "foxnews.com"
         },
         {
          "count": 12,
          "d": 2.7187643575668337,
          "domain": "foxnews.com"
         },
         {
          "count": 29,
          "d": 3.1527196955680847,
          "domain": "foxnews.com"
         },
         {
          "count": 75,
          "d": 3.5866750335693363,
          "domain": "foxnews.com"
         },
         {
          "count": 210,
          "d": 4.020630371570587,
          "domain": "foxnews.com"
         },
         {
          "count": 364,
          "d": 4.454585709571838,
          "domain": "foxnews.com"
         },
         {
          "count": 609,
          "d": 4.88854104757309,
          "domain": "foxnews.com"
         },
         {
          "count": 912,
          "d": 5.3224963855743415,
          "domain": "foxnews.com"
         },
         {
          "count": 1257,
          "d": 5.7564517235755925,
          "domain": "foxnews.com"
         },
         {
          "count": 1646,
          "d": 6.190407061576844,
          "domain": "foxnews.com"
         },
         {
          "count": 1931,
          "d": 6.624362399578095,
          "domain": "foxnews.com"
         },
         {
          "count": 2242,
          "d": 7.058317737579346,
          "domain": "foxnews.com"
         },
         {
          "count": 2462,
          "d": 7.492273075580597,
          "domain": "foxnews.com"
         },
         {
          "count": 2695,
          "d": 7.926228413581849,
          "domain": "foxnews.com"
         },
         {
          "count": 2795,
          "d": 8.3601837515831,
          "domain": "foxnews.com"
         },
         {
          "count": 3044,
          "d": 8.794139089584352,
          "domain": "foxnews.com"
         },
         {
          "count": 2910,
          "d": 9.228094427585603,
          "domain": "foxnews.com"
         },
         {
          "count": 2908,
          "d": 9.662049765586854,
          "domain": "foxnews.com"
         },
         {
          "count": 2778,
          "d": 10.096005103588105,
          "domain": "foxnews.com"
         },
         {
          "count": 2520,
          "d": 10.529960441589356,
          "domain": "foxnews.com"
         },
         {
          "count": 2495,
          "d": 10.963915779590607,
          "domain": "foxnews.com"
         },
         {
          "count": 2212,
          "d": 11.397871117591858,
          "domain": "foxnews.com"
         },
         {
          "count": 1968,
          "d": 11.83182645559311,
          "domain": "foxnews.com"
         },
         {
          "count": 1788,
          "d": 12.26578179359436,
          "domain": "foxnews.com"
         },
         {
          "count": 1595,
          "d": 12.699737131595612,
          "domain": "foxnews.com"
         },
         {
          "count": 1436,
          "d": 13.133692469596863,
          "domain": "foxnews.com"
         },
         {
          "count": 1225,
          "d": 13.567647807598116,
          "domain": "foxnews.com"
         },
         {
          "count": 1063,
          "d": 14.001603145599367,
          "domain": "foxnews.com"
         },
         {
          "count": 894,
          "d": 14.435558483600618,
          "domain": "foxnews.com"
         },
         {
          "count": 708,
          "d": 14.869513821601869,
          "domain": "foxnews.com"
         },
         {
          "count": 609,
          "d": 15.30346915960312,
          "domain": "foxnews.com"
         },
         {
          "count": 495,
          "d": 15.737424497604371,
          "domain": "foxnews.com"
         },
         {
          "count": 463,
          "d": 16.17137983560562,
          "domain": "foxnews.com"
         },
         {
          "count": 362,
          "d": 16.605335173606875,
          "domain": "foxnews.com"
         },
         {
          "count": 281,
          "d": 17.039290511608122,
          "domain": "foxnews.com"
         },
         {
          "count": 237,
          "d": 17.473245849609377,
          "domain": "foxnews.com"
         },
         {
          "count": 188,
          "d": 17.907201187610628,
          "domain": "foxnews.com"
         },
         {
          "count": 161,
          "d": 18.34115652561188,
          "domain": "foxnews.com"
         },
         {
          "count": 132,
          "d": 18.77511186361313,
          "domain": "foxnews.com"
         },
         {
          "count": 84,
          "d": 19.20906720161438,
          "domain": "foxnews.com"
         },
         {
          "count": 66,
          "d": 19.643022539615632,
          "domain": "foxnews.com"
         },
         {
          "count": 53,
          "d": 20.076977877616883,
          "domain": "foxnews.com"
         },
         {
          "count": 44,
          "d": 20.510933215618135,
          "domain": "foxnews.com"
         },
         {
          "count": 24,
          "d": 20.944888553619386,
          "domain": "foxnews.com"
         },
         {
          "count": 23,
          "d": 21.378843891620637,
          "domain": "foxnews.com"
         },
         {
          "count": 18,
          "d": 21.812799229621888,
          "domain": "foxnews.com"
         },
         {
          "count": 7,
          "d": 22.24675456762314,
          "domain": "foxnews.com"
         },
         {
          "count": 12,
          "d": 22.68070990562439,
          "domain": "foxnews.com"
         },
         {
          "count": 8,
          "d": 23.11466524362564,
          "domain": "foxnews.com"
         },
         {
          "count": 5,
          "d": 23.548620581626892,
          "domain": "foxnews.com"
         },
         {
          "count": 1,
          "d": 23.982575919628143,
          "domain": "foxnews.com"
         },
         {
          "count": 2,
          "d": 24.416531257629394,
          "domain": "foxnews.com"
         },
         {
          "count": 2,
          "d": 24.850486595630645,
          "domain": "foxnews.com"
         },
         {
          "count": 1,
          "d": 25.2844419336319,
          "domain": "foxnews.com"
         },
         {
          "count": 1,
          "d": 25.71839727163315,
          "domain": "foxnews.com"
         },
         {
          "count": 0,
          "d": 26.152352609634402,
          "domain": "foxnews.com"
         },
         {
          "count": 0,
          "d": 26.586307947635653,
          "domain": "foxnews.com"
         },
         {
          "count": 0,
          "d": 27.020263285636904,
          "domain": "foxnews.com"
         },
         {
          "count": 0,
          "d": 27.454218623638155,
          "domain": "foxnews.com"
         },
         {
          "count": 0,
          "d": 27.888173961639406,
          "domain": "foxnews.com"
         },
         {
          "count": 0,
          "d": 28.322129299640658,
          "domain": "foxnews.com"
         },
         {
          "count": 0,
          "d": 28.75608463764191,
          "domain": "foxnews.com"
         },
         {
          "count": 0,
          "d": 29.19003997564316,
          "domain": "foxnews.com"
         },
         {
          "count": 0,
          "d": 29.62399531364441,
          "domain": "foxnews.com"
         },
         {
          "count": 0,
          "d": 30.057950651645662,
          "domain": "foxnews.com"
         },
         {
          "count": 0,
          "d": 30.491905989646913,
          "domain": "foxnews.com"
         },
         {
          "count": 0,
          "d": 30.925861327648164,
          "domain": "foxnews.com"
         },
         {
          "count": 0,
          "d": 31.359816665649415,
          "domain": "foxnews.com"
         },
         {
          "count": 0,
          "d": 31.793772003650666,
          "domain": "foxnews.com"
         },
         {
          "count": 0,
          "d": 32.227727341651914,
          "domain": "foxnews.com"
         },
         {
          "count": 0,
          "d": 32.66168267965317,
          "domain": "foxnews.com"
         },
         {
          "count": 0,
          "d": 33.09563801765442,
          "domain": "foxnews.com"
         },
         {
          "count": 0,
          "d": 33.52959335565567,
          "domain": "foxnews.com"
         },
         {
          "count": 0,
          "d": 33.963548693656925,
          "domain": "foxnews.com"
         },
         {
          "count": 0,
          "d": 34.39750403165817,
          "domain": "foxnews.com"
         },
         {
          "count": 0,
          "d": 34.83145936965943,
          "domain": "foxnews.com"
         },
         {
          "count": 0,
          "d": 35.265414707660675,
          "domain": "foxnews.com"
         },
         {
          "count": 0,
          "d": 35.69937004566193,
          "domain": "foxnews.com"
         },
         {
          "count": 0,
          "d": 36.13332538366318,
          "domain": "foxnews.com"
         },
         {
          "count": 0,
          "d": 36.56728072166443,
          "domain": "foxnews.com"
         },
         {
          "count": 0,
          "d": 37.00123605966568,
          "domain": "foxnews.com"
         },
         {
          "count": 0,
          "d": 37.435191397666934,
          "domain": "foxnews.com"
         },
         {
          "count": 0,
          "d": 37.86914673566818,
          "domain": "foxnews.com"
         },
         {
          "count": 0,
          "d": 38.303102073669436,
          "domain": "foxnews.com"
         },
         {
          "count": 0,
          "d": 38.73705741167068,
          "domain": "foxnews.com"
         },
         {
          "count": 0,
          "d": 39.17101274967194,
          "domain": "foxnews.com"
         },
         {
          "count": 0,
          "d": 39.60496808767319,
          "domain": "foxnews.com"
         },
         {
          "count": 0,
          "d": 40.03892342567444,
          "domain": "foxnews.com"
         },
         {
          "count": 0,
          "d": 40.472878763675695,
          "domain": "foxnews.com"
         },
         {
          "count": 0,
          "d": 40.90683410167694,
          "domain": "foxnews.com"
         },
         {
          "count": 0,
          "d": 41.3407894396782,
          "domain": "foxnews.com"
         },
         {
          "count": 0,
          "d": 41.774744777679444,
          "domain": "foxnews.com"
         },
         {
          "count": 0,
          "d": 42.2087001156807,
          "domain": "foxnews.com"
         },
         {
          "count": 0,
          "d": 42.64265545368195,
          "domain": "foxnews.com"
         },
         {
          "count": 0,
          "d": 43.0766107916832,
          "domain": "foxnews.com"
         },
         {
          "count": 0,
          "d": 43.51056612968445,
          "domain": "foxnews.com"
         },
         {
          "count": 0,
          "d": 43.9445214676857,
          "domain": "foxnews.com"
         },
         {
          "count": 0,
          "d": 44.37847680568695,
          "domain": "foxnews.com"
         },
         {
          "count": 0,
          "d": 44.812432143688206,
          "domain": "foxnews.com"
         },
         {
          "count": 0,
          "d": 1.850853681564331,
          "domain": "washingtonpost.com"
         },
         {
          "count": 2,
          "d": 2.284809019565582,
          "domain": "washingtonpost.com"
         },
         {
          "count": 15,
          "d": 2.7187643575668337,
          "domain": "washingtonpost.com"
         },
         {
          "count": 46,
          "d": 3.1527196955680847,
          "domain": "washingtonpost.com"
         },
         {
          "count": 114,
          "d": 3.5866750335693363,
          "domain": "washingtonpost.com"
         },
         {
          "count": 264,
          "d": 4.020630371570587,
          "domain": "washingtonpost.com"
         },
         {
          "count": 472,
          "d": 4.454585709571838,
          "domain": "washingtonpost.com"
         },
         {
          "count": 785,
          "d": 4.88854104757309,
          "domain": "washingtonpost.com"
         },
         {
          "count": 1080,
          "d": 5.3224963855743415,
          "domain": "washingtonpost.com"
         },
         {
          "count": 1467,
          "d": 5.7564517235755925,
          "domain": "washingtonpost.com"
         },
         {
          "count": 1783,
          "d": 6.190407061576844,
          "domain": "washingtonpost.com"
         },
         {
          "count": 2057,
          "d": 6.624362399578095,
          "domain": "washingtonpost.com"
         },
         {
          "count": 2299,
          "d": 7.058317737579346,
          "domain": "washingtonpost.com"
         },
         {
          "count": 2450,
          "d": 7.492273075580597,
          "domain": "washingtonpost.com"
         },
         {
          "count": 2724,
          "d": 7.926228413581849,
          "domain": "washingtonpost.com"
         },
         {
          "count": 2755,
          "d": 8.3601837515831,
          "domain": "washingtonpost.com"
         },
         {
          "count": 2797,
          "d": 8.794139089584352,
          "domain": "washingtonpost.com"
         },
         {
          "count": 2713,
          "d": 9.228094427585603,
          "domain": "washingtonpost.com"
         },
         {
          "count": 2737,
          "d": 9.662049765586854,
          "domain": "washingtonpost.com"
         },
         {
          "count": 2607,
          "d": 10.096005103588105,
          "domain": "washingtonpost.com"
         },
         {
          "count": 2401,
          "d": 10.529960441589356,
          "domain": "washingtonpost.com"
         },
         {
          "count": 2224,
          "d": 10.963915779590607,
          "domain": "washingtonpost.com"
         },
         {
          "count": 2120,
          "d": 11.397871117591858,
          "domain": "washingtonpost.com"
         },
         {
          "count": 1941,
          "d": 11.83182645559311,
          "domain": "washingtonpost.com"
         },
         {
          "count": 1721,
          "d": 12.26578179359436,
          "domain": "washingtonpost.com"
         },
         {
          "count": 1498,
          "d": 12.699737131595612,
          "domain": "washingtonpost.com"
         },
         {
          "count": 1346,
          "d": 13.133692469596863,
          "domain": "washingtonpost.com"
         },
         {
          "count": 1159,
          "d": 13.567647807598116,
          "domain": "washingtonpost.com"
         },
         {
          "count": 1065,
          "d": 14.001603145599367,
          "domain": "washingtonpost.com"
         },
         {
          "count": 904,
          "d": 14.435558483600618,
          "domain": "washingtonpost.com"
         },
         {
          "count": 735,
          "d": 14.869513821601869,
          "domain": "washingtonpost.com"
         },
         {
          "count": 641,
          "d": 15.30346915960312,
          "domain": "washingtonpost.com"
         },
         {
          "count": 537,
          "d": 15.737424497604371,
          "domain": "washingtonpost.com"
         },
         {
          "count": 475,
          "d": 16.17137983560562,
          "domain": "washingtonpost.com"
         },
         {
          "count": 368,
          "d": 16.605335173606875,
          "domain": "washingtonpost.com"
         },
         {
          "count": 338,
          "d": 17.039290511608122,
          "domain": "washingtonpost.com"
         },
         {
          "count": 242,
          "d": 17.473245849609377,
          "domain": "washingtonpost.com"
         },
         {
          "count": 269,
          "d": 17.907201187610628,
          "domain": "washingtonpost.com"
         },
         {
          "count": 197,
          "d": 18.34115652561188,
          "domain": "washingtonpost.com"
         },
         {
          "count": 164,
          "d": 18.77511186361313,
          "domain": "washingtonpost.com"
         },
         {
          "count": 119,
          "d": 19.20906720161438,
          "domain": "washingtonpost.com"
         },
         {
          "count": 112,
          "d": 19.643022539615632,
          "domain": "washingtonpost.com"
         },
         {
          "count": 85,
          "d": 20.076977877616883,
          "domain": "washingtonpost.com"
         },
         {
          "count": 51,
          "d": 20.510933215618135,
          "domain": "washingtonpost.com"
         },
         {
          "count": 54,
          "d": 20.944888553619386,
          "domain": "washingtonpost.com"
         },
         {
          "count": 38,
          "d": 21.378843891620637,
          "domain": "washingtonpost.com"
         },
         {
          "count": 41,
          "d": 21.812799229621888,
          "domain": "washingtonpost.com"
         },
         {
          "count": 29,
          "d": 22.24675456762314,
          "domain": "washingtonpost.com"
         },
         {
          "count": 19,
          "d": 22.68070990562439,
          "domain": "washingtonpost.com"
         },
         {
          "count": 17,
          "d": 23.11466524362564,
          "domain": "washingtonpost.com"
         },
         {
          "count": 16,
          "d": 23.548620581626892,
          "domain": "washingtonpost.com"
         },
         {
          "count": 8,
          "d": 23.982575919628143,
          "domain": "washingtonpost.com"
         },
         {
          "count": 8,
          "d": 24.416531257629394,
          "domain": "washingtonpost.com"
         },
         {
          "count": 3,
          "d": 24.850486595630645,
          "domain": "washingtonpost.com"
         },
         {
          "count": 2,
          "d": 25.2844419336319,
          "domain": "washingtonpost.com"
         },
         {
          "count": 2,
          "d": 25.71839727163315,
          "domain": "washingtonpost.com"
         },
         {
          "count": 4,
          "d": 26.152352609634402,
          "domain": "washingtonpost.com"
         },
         {
          "count": 0,
          "d": 26.586307947635653,
          "domain": "washingtonpost.com"
         },
         {
          "count": 0,
          "d": 27.020263285636904,
          "domain": "washingtonpost.com"
         },
         {
          "count": 0,
          "d": 27.454218623638155,
          "domain": "washingtonpost.com"
         },
         {
          "count": 0,
          "d": 27.888173961639406,
          "domain": "washingtonpost.com"
         },
         {
          "count": 0,
          "d": 28.322129299640658,
          "domain": "washingtonpost.com"
         },
         {
          "count": 0,
          "d": 28.75608463764191,
          "domain": "washingtonpost.com"
         },
         {
          "count": 0,
          "d": 29.19003997564316,
          "domain": "washingtonpost.com"
         },
         {
          "count": 0,
          "d": 29.62399531364441,
          "domain": "washingtonpost.com"
         },
         {
          "count": 0,
          "d": 30.057950651645662,
          "domain": "washingtonpost.com"
         },
         {
          "count": 0,
          "d": 30.491905989646913,
          "domain": "washingtonpost.com"
         },
         {
          "count": 0,
          "d": 30.925861327648164,
          "domain": "washingtonpost.com"
         },
         {
          "count": 0,
          "d": 31.359816665649415,
          "domain": "washingtonpost.com"
         },
         {
          "count": 0,
          "d": 31.793772003650666,
          "domain": "washingtonpost.com"
         },
         {
          "count": 0,
          "d": 32.227727341651914,
          "domain": "washingtonpost.com"
         },
         {
          "count": 0,
          "d": 32.66168267965317,
          "domain": "washingtonpost.com"
         },
         {
          "count": 0,
          "d": 33.09563801765442,
          "domain": "washingtonpost.com"
         },
         {
          "count": 0,
          "d": 33.52959335565567,
          "domain": "washingtonpost.com"
         },
         {
          "count": 0,
          "d": 33.963548693656925,
          "domain": "washingtonpost.com"
         },
         {
          "count": 0,
          "d": 34.39750403165817,
          "domain": "washingtonpost.com"
         },
         {
          "count": 0,
          "d": 34.83145936965943,
          "domain": "washingtonpost.com"
         },
         {
          "count": 0,
          "d": 35.265414707660675,
          "domain": "washingtonpost.com"
         },
         {
          "count": 0,
          "d": 35.69937004566193,
          "domain": "washingtonpost.com"
         },
         {
          "count": 0,
          "d": 36.13332538366318,
          "domain": "washingtonpost.com"
         },
         {
          "count": 0,
          "d": 36.56728072166443,
          "domain": "washingtonpost.com"
         },
         {
          "count": 0,
          "d": 37.00123605966568,
          "domain": "washingtonpost.com"
         },
         {
          "count": 0,
          "d": 37.435191397666934,
          "domain": "washingtonpost.com"
         },
         {
          "count": 0,
          "d": 37.86914673566818,
          "domain": "washingtonpost.com"
         },
         {
          "count": 0,
          "d": 38.303102073669436,
          "domain": "washingtonpost.com"
         },
         {
          "count": 0,
          "d": 38.73705741167068,
          "domain": "washingtonpost.com"
         },
         {
          "count": 0,
          "d": 39.17101274967194,
          "domain": "washingtonpost.com"
         },
         {
          "count": 0,
          "d": 39.60496808767319,
          "domain": "washingtonpost.com"
         },
         {
          "count": 0,
          "d": 40.03892342567444,
          "domain": "washingtonpost.com"
         },
         {
          "count": 0,
          "d": 40.472878763675695,
          "domain": "washingtonpost.com"
         },
         {
          "count": 0,
          "d": 40.90683410167694,
          "domain": "washingtonpost.com"
         },
         {
          "count": 0,
          "d": 41.3407894396782,
          "domain": "washingtonpost.com"
         },
         {
          "count": 0,
          "d": 41.774744777679444,
          "domain": "washingtonpost.com"
         },
         {
          "count": 0,
          "d": 42.2087001156807,
          "domain": "washingtonpost.com"
         },
         {
          "count": 0,
          "d": 42.64265545368195,
          "domain": "washingtonpost.com"
         },
         {
          "count": 0,
          "d": 43.0766107916832,
          "domain": "washingtonpost.com"
         },
         {
          "count": 0,
          "d": 43.51056612968445,
          "domain": "washingtonpost.com"
         },
         {
          "count": 0,
          "d": 43.9445214676857,
          "domain": "washingtonpost.com"
         },
         {
          "count": 0,
          "d": 44.37847680568695,
          "domain": "washingtonpost.com"
         },
         {
          "count": 0,
          "d": 44.812432143688206,
          "domain": "washingtonpost.com"
         },
         {
          "count": 0,
          "d": 1.850853681564331,
          "domain": "buzzfeed.com"
         },
         {
          "count": 0,
          "d": 2.284809019565582,
          "domain": "buzzfeed.com"
         },
         {
          "count": 4,
          "d": 2.7187643575668337,
          "domain": "buzzfeed.com"
         },
         {
          "count": 14,
          "d": 3.1527196955680847,
          "domain": "buzzfeed.com"
         },
         {
          "count": 21,
          "d": 3.5866750335693363,
          "domain": "buzzfeed.com"
         },
         {
          "count": 72,
          "d": 4.020630371570587,
          "domain": "buzzfeed.com"
         },
         {
          "count": 134,
          "d": 4.454585709571838,
          "domain": "buzzfeed.com"
         },
         {
          "count": 210,
          "d": 4.88854104757309,
          "domain": "buzzfeed.com"
         },
         {
          "count": 284,
          "d": 5.3224963855743415,
          "domain": "buzzfeed.com"
         },
         {
          "count": 360,
          "d": 5.7564517235755925,
          "domain": "buzzfeed.com"
         },
         {
          "count": 454,
          "d": 6.190407061576844,
          "domain": "buzzfeed.com"
         },
         {
          "count": 536,
          "d": 6.624362399578095,
          "domain": "buzzfeed.com"
         },
         {
          "count": 668,
          "d": 7.058317737579346,
          "domain": "buzzfeed.com"
         },
         {
          "count": 753,
          "d": 7.492273075580597,
          "domain": "buzzfeed.com"
         },
         {
          "count": 819,
          "d": 7.926228413581849,
          "domain": "buzzfeed.com"
         },
         {
          "count": 866,
          "d": 8.3601837515831,
          "domain": "buzzfeed.com"
         },
         {
          "count": 942,
          "d": 8.794139089584352,
          "domain": "buzzfeed.com"
         },
         {
          "count": 1022,
          "d": 9.228094427585603,
          "domain": "buzzfeed.com"
         },
         {
          "count": 1034,
          "d": 9.662049765586854,
          "domain": "buzzfeed.com"
         },
         {
          "count": 1110,
          "d": 10.096005103588105,
          "domain": "buzzfeed.com"
         },
         {
          "count": 1182,
          "d": 10.529960441589356,
          "domain": "buzzfeed.com"
         },
         {
          "count": 1279,
          "d": 10.963915779590607,
          "domain": "buzzfeed.com"
         },
         {
          "count": 1258,
          "d": 11.397871117591858,
          "domain": "buzzfeed.com"
         },
         {
          "count": 1342,
          "d": 11.83182645559311,
          "domain": "buzzfeed.com"
         },
         {
          "count": 1366,
          "d": 12.26578179359436,
          "domain": "buzzfeed.com"
         },
         {
          "count": 1382,
          "d": 12.699737131595612,
          "domain": "buzzfeed.com"
         },
         {
          "count": 1430,
          "d": 13.133692469596863,
          "domain": "buzzfeed.com"
         },
         {
          "count": 1431,
          "d": 13.567647807598116,
          "domain": "buzzfeed.com"
         },
         {
          "count": 1504,
          "d": 14.001603145599367,
          "domain": "buzzfeed.com"
         },
         {
          "count": 1432,
          "d": 14.435558483600618,
          "domain": "buzzfeed.com"
         },
         {
          "count": 1425,
          "d": 14.869513821601869,
          "domain": "buzzfeed.com"
         },
         {
          "count": 1457,
          "d": 15.30346915960312,
          "domain": "buzzfeed.com"
         },
         {
          "count": 1422,
          "d": 15.737424497604371,
          "domain": "buzzfeed.com"
         },
         {
          "count": 1463,
          "d": 16.17137983560562,
          "domain": "buzzfeed.com"
         },
         {
          "count": 1493,
          "d": 16.605335173606875,
          "domain": "buzzfeed.com"
         },
         {
          "count": 1399,
          "d": 17.039290511608122,
          "domain": "buzzfeed.com"
         },
         {
          "count": 1375,
          "d": 17.473245849609377,
          "domain": "buzzfeed.com"
         },
         {
          "count": 1388,
          "d": 17.907201187610628,
          "domain": "buzzfeed.com"
         },
         {
          "count": 1288,
          "d": 18.34115652561188,
          "domain": "buzzfeed.com"
         },
         {
          "count": 1232,
          "d": 18.77511186361313,
          "domain": "buzzfeed.com"
         },
         {
          "count": 1167,
          "d": 19.20906720161438,
          "domain": "buzzfeed.com"
         },
         {
          "count": 1134,
          "d": 19.643022539615632,
          "domain": "buzzfeed.com"
         },
         {
          "count": 1086,
          "d": 20.076977877616883,
          "domain": "buzzfeed.com"
         },
         {
          "count": 964,
          "d": 20.510933215618135,
          "domain": "buzzfeed.com"
         },
         {
          "count": 864,
          "d": 20.944888553619386,
          "domain": "buzzfeed.com"
         },
         {
          "count": 799,
          "d": 21.378843891620637,
          "domain": "buzzfeed.com"
         },
         {
          "count": 755,
          "d": 21.812799229621888,
          "domain": "buzzfeed.com"
         },
         {
          "count": 691,
          "d": 22.24675456762314,
          "domain": "buzzfeed.com"
         },
         {
          "count": 626,
          "d": 22.68070990562439,
          "domain": "buzzfeed.com"
         },
         {
          "count": 644,
          "d": 23.11466524362564,
          "domain": "buzzfeed.com"
         },
         {
          "count": 507,
          "d": 23.548620581626892,
          "domain": "buzzfeed.com"
         },
         {
          "count": 480,
          "d": 23.982575919628143,
          "domain": "buzzfeed.com"
         },
         {
          "count": 433,
          "d": 24.416531257629394,
          "domain": "buzzfeed.com"
         },
         {
          "count": 395,
          "d": 24.850486595630645,
          "domain": "buzzfeed.com"
         },
         {
          "count": 327,
          "d": 25.2844419336319,
          "domain": "buzzfeed.com"
         },
         {
          "count": 298,
          "d": 25.71839727163315,
          "domain": "buzzfeed.com"
         },
         {
          "count": 251,
          "d": 26.152352609634402,
          "domain": "buzzfeed.com"
         },
         {
          "count": 235,
          "d": 26.586307947635653,
          "domain": "buzzfeed.com"
         },
         {
          "count": 200,
          "d": 27.020263285636904,
          "domain": "buzzfeed.com"
         },
         {
          "count": 155,
          "d": 27.454218623638155,
          "domain": "buzzfeed.com"
         },
         {
          "count": 125,
          "d": 27.888173961639406,
          "domain": "buzzfeed.com"
         },
         {
          "count": 120,
          "d": 28.322129299640658,
          "domain": "buzzfeed.com"
         },
         {
          "count": 95,
          "d": 28.75608463764191,
          "domain": "buzzfeed.com"
         },
         {
          "count": 92,
          "d": 29.19003997564316,
          "domain": "buzzfeed.com"
         },
         {
          "count": 85,
          "d": 29.62399531364441,
          "domain": "buzzfeed.com"
         },
         {
          "count": 68,
          "d": 30.057950651645662,
          "domain": "buzzfeed.com"
         },
         {
          "count": 78,
          "d": 30.491905989646913,
          "domain": "buzzfeed.com"
         },
         {
          "count": 66,
          "d": 30.925861327648164,
          "domain": "buzzfeed.com"
         },
         {
          "count": 55,
          "d": 31.359816665649415,
          "domain": "buzzfeed.com"
         },
         {
          "count": 58,
          "d": 31.793772003650666,
          "domain": "buzzfeed.com"
         },
         {
          "count": 65,
          "d": 32.227727341651914,
          "domain": "buzzfeed.com"
         },
         {
          "count": 44,
          "d": 32.66168267965317,
          "domain": "buzzfeed.com"
         },
         {
          "count": 49,
          "d": 33.09563801765442,
          "domain": "buzzfeed.com"
         },
         {
          "count": 49,
          "d": 33.52959335565567,
          "domain": "buzzfeed.com"
         },
         {
          "count": 33,
          "d": 33.963548693656925,
          "domain": "buzzfeed.com"
         },
         {
          "count": 18,
          "d": 34.39750403165817,
          "domain": "buzzfeed.com"
         },
         {
          "count": 17,
          "d": 34.83145936965943,
          "domain": "buzzfeed.com"
         },
         {
          "count": 19,
          "d": 35.265414707660675,
          "domain": "buzzfeed.com"
         },
         {
          "count": 13,
          "d": 35.69937004566193,
          "domain": "buzzfeed.com"
         },
         {
          "count": 20,
          "d": 36.13332538366318,
          "domain": "buzzfeed.com"
         },
         {
          "count": 5,
          "d": 36.56728072166443,
          "domain": "buzzfeed.com"
         },
         {
          "count": 8,
          "d": 37.00123605966568,
          "domain": "buzzfeed.com"
         },
         {
          "count": 5,
          "d": 37.435191397666934,
          "domain": "buzzfeed.com"
         },
         {
          "count": 5,
          "d": 37.86914673566818,
          "domain": "buzzfeed.com"
         },
         {
          "count": 2,
          "d": 38.303102073669436,
          "domain": "buzzfeed.com"
         },
         {
          "count": 3,
          "d": 38.73705741167068,
          "domain": "buzzfeed.com"
         },
         {
          "count": 1,
          "d": 39.17101274967194,
          "domain": "buzzfeed.com"
         },
         {
          "count": 2,
          "d": 39.60496808767319,
          "domain": "buzzfeed.com"
         },
         {
          "count": 2,
          "d": 40.03892342567444,
          "domain": "buzzfeed.com"
         },
         {
          "count": 3,
          "d": 40.472878763675695,
          "domain": "buzzfeed.com"
         },
         {
          "count": 2,
          "d": 40.90683410167694,
          "domain": "buzzfeed.com"
         },
         {
          "count": 2,
          "d": 41.3407894396782,
          "domain": "buzzfeed.com"
         },
         {
          "count": 1,
          "d": 41.774744777679444,
          "domain": "buzzfeed.com"
         },
         {
          "count": 0,
          "d": 42.2087001156807,
          "domain": "buzzfeed.com"
         },
         {
          "count": 1,
          "d": 42.64265545368195,
          "domain": "buzzfeed.com"
         },
         {
          "count": 0,
          "d": 43.0766107916832,
          "domain": "buzzfeed.com"
         },
         {
          "count": 0,
          "d": 43.51056612968445,
          "domain": "buzzfeed.com"
         },
         {
          "count": 0,
          "d": 43.9445214676857,
          "domain": "buzzfeed.com"
         },
         {
          "count": 0,
          "d": 44.37847680568695,
          "domain": "buzzfeed.com"
         },
         {
          "count": 1,
          "d": 44.812432143688206,
          "domain": "buzzfeed.com"
         }
        ]
       },
       "layer": [
        {
         "data": {
          "name": "data-944cd6e8a4d997cef2f68e1c5138cd37"
         },
         "encoding": {
          "color": {
           "field": "domain",
           "type": "nominal"
          },
          "opacity": {
           "value": 0
          },
          "x": {
           "field": "d",
           "scale": {
            "zero": false
           },
           "type": "quantitative"
          },
          "y": {
           "field": "count",
           "type": "quantitative"
          }
         },
         "height": 500,
         "mark": "circle",
         "selection": {
          "selector002": {
           "empty": "all",
           "fields": [
            "domain"
           ],
           "nearest": true,
           "on": "mouseover",
           "resolve": "global",
           "type": "single"
          }
         },
         "width": 600
        },
        {
         "data": {
          "name": "data-944cd6e8a4d997cef2f68e1c5138cd37"
         },
         "encoding": {
          "color": {
           "field": "domain",
           "type": "nominal"
          },
          "size": {
           "condition": {
            "selection": {
             "not": "selector002"
            },
            "value": 2
           },
           "value": 5
          },
          "tooltip": {
           "field": "domain",
           "type": "nominal"
          },
          "x": {
           "field": "d",
           "scale": {
            "zero": false
           },
           "type": "quantitative"
          },
          "y": {
           "field": "count",
           "type": "quantitative"
          }
         },
         "height": 500,
         "mark": "line",
         "width": 700
        }
       ]
      },
      "image/png": "[encoded data removed]",
      "text/plain": [
       "<VegaLite 2 object>\n",
       "\n",
       "If you see this message, it means the renderer has not been properly enabled\n",
       "for the frontend that you are using. For more information, see\n",
       "https://altair-viz.github.io/user_guide/troubleshooting.html\n"
      ]
     },
     "execution_count": 25,
     "metadata": {},
     "output_type": "execute_result"
    }
   ],
   "source": [
    "plot_step_hist_interactive(x, ys)"
   ]
  },
  {
   "cell_type": "code",
   "execution_count": 27,
   "metadata": {},
   "outputs": [
    {
     "data": {
      "image/png": "[encoded data removed]",
      "text/plain": [
       "<Figure size 360x720 with 1 Axes>"
      ]
     },
     "metadata": {
      "needs_background": "light"
     },
     "output_type": "display_data"
    }
   ],
   "source": [
    "plot_ds_violin(ds)"
   ]
  },
  {
   "cell_type": "code",
   "execution_count": 28,
   "metadata": {},
   "outputs": [
    {
     "name": "stderr",
     "output_type": "stream",
     "text": [
      "100%|██████████| 651589/651589 [00:50<00:00, 13011.92it/s]\n"
     ]
    },
    {
     "data": {
      "text/plain": [
       "True"
      ]
     },
     "execution_count": 28,
     "metadata": {},
     "output_type": "execute_result"
    }
   ],
   "source": [
    "idx = AnnoyIndex(embeds.shape[1])\n",
    "\n",
    "for i in tqdm(range(len(embeds))):\n",
    "    idx.add_item(i, embeds[i])\n",
    "    \n",
    "idx.build(10)"
   ]
  },
  {
   "cell_type": "code",
   "execution_count": 29,
   "metadata": {},
   "outputs": [
    {
     "name": "stdout",
     "output_type": "stream",
     "text": [
      "how bashar al assad gassed his own people\n",
      "former rockies marlins pitcher dies in venezuela amid lack of medication\n",
      "basketball star duncan and troops aid islands devastated by irma\n",
      "grandfather apologizes after dylann roof s guilty pleas add to sentence\n",
      "gunman in cincinnati kills three before police fatally shoot him\n",
      "ann wedgeworth # dies tony winning actress known for three s company\n",
      "mother accused of fatally stabbing family gives thumbs up in court\n",
      "white sox catcher castillo gets # game performance enhancing drug suspension\n",
      "dan rooney emerged from father s shadow to make steelers into winners\n",
      "youth soccer club silences sidelines muting parents for weekend of quiet\n",
      "suspect breaks into off duty officer s home dies from gunshot wound\n",
      "# baltimore high schools no students proficient in math report says\n",
      "stevie wonder and others to perform at aretha franklin s funeral\n",
      "yemeni families mourn at new cemetery built for children killed in air strike\n",
      "bruce arena replacing jurgen klinsmann as us coach keeps things simple\n",
      "soccer qualifying for new club world cup would take place over four seasons\n",
      "rickie fowler jason day pay tribute to late golfer at pga championship\n",
      "philadelphia braces for super bowl by once again greasing light poles\n",
      "injured boy at yankee stadium puts face on bill seeking safety netting\n",
      "officer fatally shot in colorado manhunt underway for two suspects\n"
     ]
    }
   ],
   "source": [
    "for id in idx.get_nns_by_vector(center, 20):\n",
    "    print(df.iloc[id].title)"
   ]
  },
  {
   "cell_type": "code",
   "execution_count": null,
   "metadata": {},
   "outputs": [],
   "source": []
  }
 ],
 "metadata": {
  "kernelspec": {
   "display_name": "Python 3",
   "language": "python",
   "name": "python3"
  },
  "language_info": {
   "codemirror_mode": {
    "name": "ipython",
    "version": 3
   },
   "file_extension": ".py",
   "mimetype": "text/x-python",
   "name": "python",
   "nbconvert_exporter": "python",
   "pygments_lexer": "ipython3",
   "version": "3.7.0"
  }
 },
 "nbformat": 4,
 "nbformat_minor": 2
}
