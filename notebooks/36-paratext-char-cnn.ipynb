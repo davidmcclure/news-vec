{
 "cells": [
  {
   "cell_type": "code",
   "execution_count": 15,
   "metadata": {},
   "outputs": [],
   "source": [
    "import spacy\n",
    "import string\n",
    "\n",
    "from spacy.tokens import Token\n",
    "\n",
    "import torch\n",
    "from torch import nn\n",
    "\n",
    "from news_vec.cuda import itype, ftype"
   ]
  },
  {
   "cell_type": "code",
   "execution_count": 2,
   "metadata": {},
   "outputs": [],
   "source": [
    "CURLY_STRAIGHT = (('“', '\"'), ('”', '\"'), ('‘', \"'\"), ('’', \"'\"))\n",
    "\n",
    "def straighten_quotes(text):\n",
    "    \"\"\"Curly -> straight.\n",
    "    \"\"\"\n",
    "    for c, s in CURLY_STRAIGHT:\n",
    "        text = text.replace(c, s)\n",
    "\n",
    "    return text"
   ]
  },
  {
   "cell_type": "code",
   "execution_count": 3,
   "metadata": {},
   "outputs": [],
   "source": [
    "def clean_clf_token(token):\n",
    "    return straighten_quotes(token.text.lower())"
   ]
  },
  {
   "cell_type": "code",
   "execution_count": 4,
   "metadata": {},
   "outputs": [],
   "source": [
    "Token.set_extension('clf_text', getter=clean_clf_token, force=True)"
   ]
  },
  {
   "cell_type": "code",
   "execution_count": 5,
   "metadata": {},
   "outputs": [],
   "source": [
    "nlp = spacy.load('en', disable=['parser', 'ner'])"
   ]
  },
  {
   "cell_type": "code",
   "execution_count": 6,
   "metadata": {},
   "outputs": [],
   "source": [
    "doc = nlp('AP ALERT: “President” Trump leaves office')"
   ]
  },
  {
   "cell_type": "code",
   "execution_count": 7,
   "metadata": {},
   "outputs": [
    {
     "data": {
      "text/plain": [
       "'ap alert : \" president \" trump leaves office'"
      ]
     },
     "execution_count": 7,
     "metadata": {},
     "output_type": "execute_result"
    }
   ],
   "source": [
    "' '.join([t._.clf_text for t in doc])"
   ]
  },
  {
   "cell_type": "code",
   "execution_count": 20,
   "metadata": {},
   "outputs": [],
   "source": [
    "class CharEmbedding(nn.Embedding):\n",
    "\n",
    "    def __init__(self, embed_dim=15):\n",
    "        \"\"\"Set vocab, map s->i.\n",
    "        \"\"\"\n",
    "        self.vocab = (\n",
    "            string.ascii_letters +\n",
    "            string.digits +\n",
    "            string.punctuation\n",
    "        )\n",
    "\n",
    "        # <PAD> -> 0, <UNK> -> 1\n",
    "        self._ctoi = {s: i+2 for i, s in enumerate(self.vocab)}\n",
    "\n",
    "        super().__init__(len(self.vocab)+2, embed_dim)\n",
    "\n",
    "    def ctoi(self, c):\n",
    "        return self._ctoi.get(c, 1)\n",
    "\n",
    "    def chars_to_idxs(self, chars):\n",
    "        \"\"\"Map characters to embedding indexes.\n",
    "        \"\"\"\n",
    "        idxs = [self.ctoi(c) for c in chars]\n",
    "\n",
    "        return torch.LongTensor(idxs).type(itype)\n",
    "\n",
    "    def forward(self, texts):\n",
    "        \"\"\"Batch-embed token chars.\n",
    "\n",
    "        Args:\n",
    "            texts (list<str>)\n",
    "        \"\"\"\n",
    "        # Map chars -> indexes.\n",
    "        x = torch.stack([self.chars_to_idxs(t) for t in texts])\n",
    "\n",
    "        return super().forward(x)"
   ]
  },
  {
   "cell_type": "code",
   "execution_count": 21,
   "metadata": {},
   "outputs": [],
   "source": [
    "ce = CharEmbedding()"
   ]
  },
  {
   "cell_type": "code",
   "execution_count": 23,
   "metadata": {},
   "outputs": [
    {
     "data": {
      "text/plain": [
       "torch.Size([2, 3, 15])"
      ]
     },
     "execution_count": 23,
     "metadata": {},
     "output_type": "execute_result"
    }
   ],
   "source": [
    "ce(['hl1', 'hl2']).shape"
   ]
  },
  {
   "cell_type": "code",
   "execution_count": null,
   "metadata": {},
   "outputs": [],
   "source": []
  }
 ],
 "metadata": {
  "kernelspec": {
   "display_name": "Python 3",
   "language": "python",
   "name": "python3"
  },
  "language_info": {
   "codemirror_mode": {
    "name": "ipython",
    "version": 3
   },
   "file_extension": ".py",
   "mimetype": "text/x-python",
   "name": "python",
   "nbconvert_exporter": "python",
   "pygments_lexer": "ipython3",
   "version": "3.7.0"
  }
 },
 "nbformat": 4,
 "nbformat_minor": 2
}
