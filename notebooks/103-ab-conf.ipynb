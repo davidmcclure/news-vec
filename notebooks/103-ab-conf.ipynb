{
 "cells": [
  {
   "cell_type": "code",
   "execution_count": 23,
   "metadata": {},
   "outputs": [],
   "source": [
    "import pandas as pd\n",
    "import numpy as np\n",
    "\n",
    "from itertools import combinations\n",
    "from scipy import stats\n",
    "from collections import Counter\n",
    "\n",
    "from sklearn.linear_model import LogisticRegression\n",
    "from sklearn.svm import LinearSVC\n",
    "from sklearn.feature_extraction.text import TfidfVectorizer\n",
    "from sklearn.model_selection import train_test_split\n",
    "from sklearn import metrics\n",
    "\n",
    "from news_vec.corpus import HeadlineDataset, Corpus\n",
    "from news_vec.encoder import read_preds"
   ]
  },
  {
   "cell_type": "code",
   "execution_count": 2,
   "metadata": {},
   "outputs": [],
   "source": [
    "import matplotlib as mpl\n",
    "import matplotlib.pyplot as plt\n",
    "import altair as alt\n",
    "import seaborn as sns\n",
    "\n",
    "mpl.style.use('seaborn-muted')\n",
    "sns.set(style=\"whitegrid\")"
   ]
  },
  {
   "cell_type": "code",
   "execution_count": 18,
   "metadata": {},
   "outputs": [
    {
     "name": "stderr",
     "output_type": "stream",
     "text": [
      "2019-01-06 15:49:40,657 | INFO : Reading headlines.\n",
      "1081790it [00:16, 64064.91it/s]\n"
     ]
    }
   ],
   "source": [
    "corpus = Corpus('../data/clf-articles.json/')"
   ]
  },
  {
   "cell_type": "code",
   "execution_count": 21,
   "metadata": {},
   "outputs": [],
   "source": [
    "df = corpus.sample_ab('huffingtonpost.com', 'wsj.com')"
   ]
  },
  {
   "cell_type": "code",
   "execution_count": 24,
   "metadata": {},
   "outputs": [],
   "source": [
    "train_df, test_df = train_test_split(df)"
   ]
  },
  {
   "cell_type": "code",
   "execution_count": 25,
   "metadata": {},
   "outputs": [],
   "source": [
    "X_train, y_train = train_df.clf_tokens, train_df.domain"
   ]
  },
  {
   "cell_type": "code",
   "execution_count": 26,
   "metadata": {},
   "outputs": [],
   "source": [
    "X_test, y_test = test_df.clf_tokens, test_df.domain"
   ]
  },
  {
   "cell_type": "code",
   "execution_count": 27,
   "metadata": {},
   "outputs": [],
   "source": [
    "tv = TfidfVectorizer(\n",
    "    analyzer='word',\n",
    "    tokenizer=lambda x: x,\n",
    "    preprocessor=lambda x: x,\n",
    "    ngram_range=(1,3),\n",
    "    token_pattern=None,\n",
    ")"
   ]
  },
  {
   "cell_type": "code",
   "execution_count": 28,
   "metadata": {},
   "outputs": [],
   "source": [
    "X_train = tv.fit_transform(X_train)\n",
    "X_test = tv.transform(X_test)"
   ]
  },
  {
   "cell_type": "code",
   "execution_count": 29,
   "metadata": {},
   "outputs": [],
   "source": [
    "clf = LinearSVC()\n",
    "fit = clf.fit(X_train, y_train)"
   ]
  },
  {
   "cell_type": "code",
   "execution_count": 30,
   "metadata": {},
   "outputs": [],
   "source": [
    "y_test_pred = fit.predict(X_test)\n",
    "acc = metrics.accuracy_score(y_test, y_test_pred)"
   ]
  },
  {
   "cell_type": "code",
   "execution_count": 31,
   "metadata": {},
   "outputs": [
    {
     "data": {
      "text/plain": [
       "0.7991280306252658"
      ]
     },
     "execution_count": 31,
     "metadata": {},
     "output_type": "execute_result"
    }
   ],
   "source": [
    "acc"
   ]
  },
  {
   "cell_type": "code",
   "execution_count": 32,
   "metadata": {},
   "outputs": [
    {
     "data": {
      "text/plain": [
       "array(['huffingtonpost.com', 'wsj.com', 'wsj.com', ..., 'wsj.com',\n",
       "       'wsj.com', 'wsj.com'], dtype=object)"
      ]
     },
     "execution_count": 32,
     "metadata": {},
     "output_type": "execute_result"
    }
   ],
   "source": [
    "y_test_pred"
   ]
  },
  {
   "cell_type": "code",
   "execution_count": 33,
   "metadata": {},
   "outputs": [
    {
     "data": {
      "text/plain": [
       "domain                     \n",
       "huffingtonpost.com  493410     huffingtonpost.com\n",
       "wsj.com             345545                wsj.com\n",
       "                    340010                wsj.com\n",
       "huffingtonpost.com  1003667    huffingtonpost.com\n",
       "wsj.com             1042550               wsj.com\n",
       "huffingtonpost.com  772738     huffingtonpost.com\n",
       "wsj.com             556049                wsj.com\n",
       "huffingtonpost.com  422239     huffingtonpost.com\n",
       "wsj.com             729890                wsj.com\n",
       "huffingtonpost.com  466014     huffingtonpost.com\n",
       "                    190099     huffingtonpost.com\n",
       "wsj.com             875756                wsj.com\n",
       "huffingtonpost.com  734935     huffingtonpost.com\n",
       "wsj.com             975491                wsj.com\n",
       "                    616014                wsj.com\n",
       "huffingtonpost.com  316787     huffingtonpost.com\n",
       "wsj.com             586930                wsj.com\n",
       "                    45501                 wsj.com\n",
       "                    703083                wsj.com\n",
       "huffingtonpost.com  93679      huffingtonpost.com\n",
       "wsj.com             581493                wsj.com\n",
       "                    7784                  wsj.com\n",
       "                    740473                wsj.com\n",
       "huffingtonpost.com  876850     huffingtonpost.com\n",
       "wsj.com             83246                 wsj.com\n",
       "                    634697                wsj.com\n",
       "huffingtonpost.com  744447     huffingtonpost.com\n",
       "wsj.com             393781                wsj.com\n",
       "                    456258                wsj.com\n",
       "huffingtonpost.com  793109     huffingtonpost.com\n",
       "                                      ...        \n",
       "                    75129      huffingtonpost.com\n",
       "                    347517     huffingtonpost.com\n",
       "                    923609     huffingtonpost.com\n",
       "wsj.com             774551                wsj.com\n",
       "huffingtonpost.com  989109     huffingtonpost.com\n",
       "wsj.com             357589                wsj.com\n",
       "huffingtonpost.com  946226     huffingtonpost.com\n",
       "                    64862      huffingtonpost.com\n",
       "wsj.com             931648                wsj.com\n",
       "                    692314                wsj.com\n",
       "huffingtonpost.com  352830     huffingtonpost.com\n",
       "                    99503      huffingtonpost.com\n",
       "wsj.com             389832                wsj.com\n",
       "huffingtonpost.com  163279     huffingtonpost.com\n",
       "                    1048958    huffingtonpost.com\n",
       "wsj.com             723732                wsj.com\n",
       "huffingtonpost.com  417670     huffingtonpost.com\n",
       "wsj.com             133475                wsj.com\n",
       "                    805158                wsj.com\n",
       "huffingtonpost.com  229824     huffingtonpost.com\n",
       "                    733378     huffingtonpost.com\n",
       "                    762966     huffingtonpost.com\n",
       "wsj.com             820784                wsj.com\n",
       "huffingtonpost.com  977793     huffingtonpost.com\n",
       "                    213254     huffingtonpost.com\n",
       "                    713644     huffingtonpost.com\n",
       "wsj.com             72960                 wsj.com\n",
       "                    736048                wsj.com\n",
       "                    366584                wsj.com\n",
       "                    667790                wsj.com\n",
       "Name: domain, Length: 9404, dtype: object"
      ]
     },
     "execution_count": 33,
     "metadata": {},
     "output_type": "execute_result"
    }
   ],
   "source": [
    "y_test"
   ]
  },
  {
   "cell_type": "code",
   "execution_count": 35,
   "metadata": {},
   "outputs": [
    {
     "data": {
      "text/plain": [
       "array([[4062,  587],\n",
       "       [1302, 3453]])"
      ]
     },
     "execution_count": 35,
     "metadata": {},
     "output_type": "execute_result"
    }
   ],
   "source": [
    "metrics.confusion_matrix(y_test, y_test_pred)"
   ]
  },
  {
   "cell_type": "code",
   "execution_count": 36,
   "metadata": {},
   "outputs": [
    {
     "data": {
      "text/plain": [
       "\u001b[0;31mSignature:\u001b[0m \u001b[0mmetrics\u001b[0m\u001b[0;34m.\u001b[0m\u001b[0mconfusion_matrix\u001b[0m\u001b[0;34m(\u001b[0m\u001b[0my_true\u001b[0m\u001b[0;34m,\u001b[0m \u001b[0my_pred\u001b[0m\u001b[0;34m,\u001b[0m \u001b[0mlabels\u001b[0m\u001b[0;34m=\u001b[0m\u001b[0;32mNone\u001b[0m\u001b[0;34m,\u001b[0m \u001b[0msample_weight\u001b[0m\u001b[0;34m=\u001b[0m\u001b[0;32mNone\u001b[0m\u001b[0;34m)\u001b[0m\u001b[0;34m\u001b[0m\u001b[0m\n",
       "\u001b[0;31mDocstring:\u001b[0m\n",
       "Compute confusion matrix to evaluate the accuracy of a classification\n",
       "\n",
       "By definition a confusion matrix :math:`C` is such that :math:`C_{i, j}`\n",
       "is equal to the number of observations known to be in group :math:`i` but\n",
       "predicted to be in group :math:`j`.\n",
       "\n",
       "Thus in binary classification, the count of true negatives is\n",
       ":math:`C_{0,0}`, false negatives is :math:`C_{1,0}`, true positives is\n",
       ":math:`C_{1,1}` and false positives is :math:`C_{0,1}`.\n",
       "\n",
       "Read more in the :ref:`User Guide <confusion_matrix>`.\n",
       "\n",
       "Parameters\n",
       "----------\n",
       "y_true : array, shape = [n_samples]\n",
       "    Ground truth (correct) target values.\n",
       "\n",
       "y_pred : array, shape = [n_samples]\n",
       "    Estimated targets as returned by a classifier.\n",
       "\n",
       "labels : array, shape = [n_classes], optional\n",
       "    List of labels to index the matrix. This may be used to reorder\n",
       "    or select a subset of labels.\n",
       "    If none is given, those that appear at least once\n",
       "    in ``y_true`` or ``y_pred`` are used in sorted order.\n",
       "\n",
       "sample_weight : array-like of shape = [n_samples], optional\n",
       "    Sample weights.\n",
       "\n",
       "Returns\n",
       "-------\n",
       "C : array, shape = [n_classes, n_classes]\n",
       "    Confusion matrix\n",
       "\n",
       "References\n",
       "----------\n",
       ".. [1] `Wikipedia entry for the Confusion matrix\n",
       "       <https://en.wikipedia.org/wiki/Confusion_matrix>`_\n",
       "       (Wikipedia and other references may use a different\n",
       "       convention for axes)\n",
       "\n",
       "Examples\n",
       "--------\n",
       ">>> from sklearn.metrics import confusion_matrix\n",
       ">>> y_true = [2, 0, 2, 2, 0, 1]\n",
       ">>> y_pred = [0, 0, 2, 2, 0, 2]\n",
       ">>> confusion_matrix(y_true, y_pred)\n",
       "array([[2, 0, 0],\n",
       "       [0, 0, 1],\n",
       "       [1, 0, 2]])\n",
       "\n",
       ">>> y_true = [\"cat\", \"ant\", \"cat\", \"cat\", \"ant\", \"bird\"]\n",
       ">>> y_pred = [\"ant\", \"ant\", \"cat\", \"cat\", \"ant\", \"cat\"]\n",
       ">>> confusion_matrix(y_true, y_pred, labels=[\"ant\", \"bird\", \"cat\"])\n",
       "array([[2, 0, 0],\n",
       "       [0, 0, 1],\n",
       "       [1, 0, 2]])\n",
       "\n",
       "In the binary case, we can extract true positives, etc as follows:\n",
       "\n",
       ">>> tn, fp, fn, tp = confusion_matrix([0, 1, 0, 1], [1, 1, 1, 0]).ravel()\n",
       ">>> (tn, fp, fn, tp)\n",
       "(0, 2, 1, 1)\n",
       "\u001b[0;31mFile:\u001b[0m      ~/.local/share/virtualenvs/news-vec-AvAtlVxK/lib/python3.7/site-packages/sklearn/metrics/classification.py\n",
       "\u001b[0;31mType:\u001b[0m      function\n"
      ]
     },
     "metadata": {},
     "output_type": "display_data"
    }
   ],
   "source": [
    "metrics.confusion_matrix?"
   ]
  },
  {
   "cell_type": "code",
   "execution_count": null,
   "metadata": {},
   "outputs": [],
   "source": []
  }
 ],
 "metadata": {
  "kernelspec": {
   "display_name": "Python 3",
   "language": "python",
   "name": "python3"
  },
  "language_info": {
   "codemirror_mode": {
    "name": "ipython",
    "version": 3
   },
   "file_extension": ".py",
   "mimetype": "text/x-python",
   "name": "python",
   "nbconvert_exporter": "python",
   "pygments_lexer": "ipython3",
   "version": "3.7.0"
  }
 },
 "nbformat": 4,
 "nbformat_minor": 2
}
