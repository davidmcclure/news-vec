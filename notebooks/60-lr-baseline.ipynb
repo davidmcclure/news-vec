{
 "cells": [
  {
   "cell_type": "code",
   "execution_count": 26,
   "metadata": {},
   "outputs": [],
   "source": [
    "from news_vec.corpus import Corpus\n",
    "\n",
    "from tqdm import tqdm\n",
    "from boltons.iterutils import windowed\n",
    "from collections import Counter"
   ]
  },
  {
   "cell_type": "code",
   "execution_count": 2,
   "metadata": {},
   "outputs": [
    {
     "name": "stderr",
     "output_type": "stream",
     "text": [
      "2018-12-24 21:57:43,795 | INFO : Reading links.\n",
      "1225511it [00:03, 385465.78it/s]\n",
      "2018-12-24 21:57:48,810 | INFO : Reading headlines.\n",
      "1127502it [00:21, 53021.33it/s]\n"
     ]
    }
   ],
   "source": [
    "corpus = Corpus('../data/clf-links.json/', '../data/clf-headlines.json/')"
   ]
  },
  {
   "cell_type": "code",
   "execution_count": 3,
   "metadata": {},
   "outputs": [],
   "source": [
    "ds = corpus.sample_all_vs_all()"
   ]
  },
  {
   "cell_type": "code",
   "execution_count": 5,
   "metadata": {},
   "outputs": [],
   "source": [
    "ds = ds.skim(10000)"
   ]
  },
  {
   "cell_type": "code",
   "execution_count": 6,
   "metadata": {},
   "outputs": [
    {
     "data": {
      "text/plain": [
       "HeadlineDataset<8000/1000/1000>"
      ]
     },
     "execution_count": 6,
     "metadata": {},
     "output_type": "execute_result"
    }
   ],
   "source": [
    "ds"
   ]
  },
  {
   "cell_type": "code",
   "execution_count": 22,
   "metadata": {},
   "outputs": [],
   "source": [
    "def ngrams_iter(hl, n, vocab=None):\n",
    "    for ng in windowed(hl['clf_tokens'], n):\n",
    "        if not vocab or ng in vocab:\n",
    "            yield ng"
   ]
  },
  {
   "cell_type": "code",
   "execution_count": 32,
   "metadata": {},
   "outputs": [],
   "source": [
    "def ngram_counts(ds, n):\n",
    "    counts = Counter()\n",
    "    for hl, _ in tqdm(ds):\n",
    "        counts.update(ngrams_iter(hl, n))\n",
    "    return counts"
   ]
  },
  {
   "cell_type": "code",
   "execution_count": 35,
   "metadata": {},
   "outputs": [],
   "source": [
    "def topk_ngrams(ds, n, k):\n",
    "    counts = ngram_counts(ds, n)\n",
    "    return [ng for ng, _ in counts.most_common(k)]"
   ]
  },
  {
   "cell_type": "code",
   "execution_count": 40,
   "metadata": {},
   "outputs": [],
   "source": [
    "def features_iter(hl, vocab):\n",
    "    yield from Counter(ngrams_iter(hl, 1, vocab)).items()\n",
    "    yield from Counter(ngrams_iter(hl, 2, vocab)).items()\n",
    "    yield from Counter(ngrams_iter(hl, 3, vocab)).items()"
   ]
  },
  {
   "cell_type": "code",
   "execution_count": 48,
   "metadata": {},
   "outputs": [],
   "source": [
    "def make_x(hl, vocab):\n",
    "    return dict(features_iter(hl, vocab))"
   ]
  },
  {
   "cell_type": "code",
   "execution_count": 49,
   "metadata": {},
   "outputs": [
    {
     "name": "stderr",
     "output_type": "stream",
     "text": [
      "10000it [00:00, 63699.08it/s]\n",
      "10000it [00:00, 64856.73it/s]\n",
      "10000it [00:00, 66766.38it/s]\n"
     ]
    }
   ],
   "source": [
    "vocab = set(\n",
    "    topk_ngrams(ds, 1, 5000) +\n",
    "    topk_ngrams(ds, 2, 5000) +\n",
    "    topk_ngrams(ds, 3, 5000)\n",
    ")"
   ]
  },
  {
   "cell_type": "code",
   "execution_count": 52,
   "metadata": {},
   "outputs": [],
   "source": [
    "xs = [make_x(hl, vocab) for hl, _ in ds.train]"
   ]
  },
  {
   "cell_type": "code",
   "execution_count": 53,
   "metadata": {},
   "outputs": [
    {
     "data": {
      "text/plain": [
       "{('detained',): 1,\n",
       " ('migrants',): 1,\n",
       " ('describe',): 1,\n",
       " ('being',): 1,\n",
       " ('of',): 1,\n",
       " ('food',): 1,\n",
       " ('water',): 1,\n",
       " ('and',): 1,\n",
       " ('sleep',): 1,\n",
       " ('in',): 1,\n",
       " ('lawsuit',): 1,\n",
       " ('of', 'food'): 1,\n",
       " ('sleep', 'in'): 1,\n",
       " ('in', 'lawsuit'): 1,\n",
       " ('detained', 'migrants', 'describe'): 1,\n",
       " ('migrants', 'describe', 'being'): 1,\n",
       " ('describe', 'being', 'deprived'): 1,\n",
       " ('being', 'deprived', 'of'): 1,\n",
       " ('deprived', 'of', 'food'): 1,\n",
       " ('of', 'food', 'water'): 1,\n",
       " ('food', 'water', 'and'): 1,\n",
       " ('water', 'and', 'sleep'): 1,\n",
       " ('and', 'sleep', 'in'): 1,\n",
       " ('sleep', 'in', 'lawsuit'): 1}"
      ]
     },
     "execution_count": 53,
     "metadata": {},
     "output_type": "execute_result"
    }
   ],
   "source": [
    "xs[0]"
   ]
  },
  {
   "cell_type": "code",
   "execution_count": null,
   "metadata": {},
   "outputs": [],
   "source": []
  }
 ],
 "metadata": {
  "kernelspec": {
   "display_name": "Python 3",
   "language": "python",
   "name": "python3"
  },
  "language_info": {
   "codemirror_mode": {
    "name": "ipython",
    "version": 3
   },
   "file_extension": ".py",
   "mimetype": "text/x-python",
   "name": "python",
   "nbconvert_exporter": "python",
   "pygments_lexer": "ipython3",
   "version": "3.7.0"
  }
 },
 "nbformat": 4,
 "nbformat_minor": 2
}
