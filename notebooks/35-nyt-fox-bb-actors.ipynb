{
 "cells": [
  {
   "cell_type": "code",
   "execution_count": 181,
   "metadata": {},
   "outputs": [],
   "source": [
    "import warnings\n",
    "import gzip\n",
    "import ujson\n",
    "\n",
    "import numpy as np\n",
    "import networkx as nx\n",
    "import pandas as pd\n",
    "\n",
    "from tqdm import tqdm\n",
    "from glob import glob\n",
    "from collections import Counter"
   ]
  },
  {
   "cell_type": "code",
   "execution_count": 2,
   "metadata": {},
   "outputs": [],
   "source": [
    "import matplotlib as mpl\n",
    "import matplotlib.pyplot as plt\n",
    "import altair as alt\n",
    "import seaborn as sns\n",
    "\n",
    "mpl.style.use('seaborn-muted')\n",
    "sns.set(style=\"whitegrid\")\n",
    "\n",
    "%matplotlib inline"
   ]
  },
  {
   "cell_type": "code",
   "execution_count": 3,
   "metadata": {},
   "outputs": [
    {
     "data": {
      "text/plain": [
       "DataTransformerRegistry.enable('default')"
      ]
     },
     "execution_count": 3,
     "metadata": {},
     "output_type": "execute_result"
    }
   ],
   "source": [
    "warnings.simplefilter('ignore')\n",
    "alt.data_transformers.enable('default', max_rows=None)"
   ]
  },
  {
   "cell_type": "code",
   "execution_count": 4,
   "metadata": {},
   "outputs": [
    {
     "name": "stderr",
     "output_type": "stream",
     "text": [
      "100%|██████████| 10/10 [01:09<00:00,  7.13s/it]\n"
     ]
    }
   ],
   "source": [
    "rows = []\n",
    "\n",
    "for path in tqdm(glob('../data/nyt-fox-bb-actors.json/*.gz')):\n",
    "    with gzip.open(path, 'rb') as fh:\n",
    "        for line in fh:\n",
    "            rows.append(ujson.loads(line))"
   ]
  },
  {
   "cell_type": "code",
   "execution_count": 5,
   "metadata": {},
   "outputs": [],
   "source": [
    "df = pd.DataFrame(rows)"
   ]
  },
  {
   "cell_type": "code",
   "execution_count": 12,
   "metadata": {},
   "outputs": [
    {
     "data": {
      "text/html": [
       "<div>\n",
       "<style scoped>\n",
       "    .dataframe tbody tr th:only-of-type {\n",
       "        vertical-align: middle;\n",
       "    }\n",
       "\n",
       "    .dataframe tbody tr th {\n",
       "        vertical-align: top;\n",
       "    }\n",
       "\n",
       "    .dataframe thead th {\n",
       "        text-align: right;\n",
       "    }\n",
       "</style>\n",
       "<table border=\"1\" class=\"dataframe\">\n",
       "  <thead>\n",
       "    <tr style=\"text-align: right;\">\n",
       "      <th></th>\n",
       "      <th>actor_id</th>\n",
       "      <th>article_id</th>\n",
       "      <th>domain</th>\n",
       "      <th>timestamp</th>\n",
       "    </tr>\n",
       "  </thead>\n",
       "  <tbody>\n",
       "    <tr>\n",
       "      <th>0</th>\n",
       "      <td>id:twitter.com:565537758</td>\n",
       "      <td>-1255309486</td>\n",
       "      <td>foxnews.com</td>\n",
       "      <td>1516144767</td>\n",
       "    </tr>\n",
       "    <tr>\n",
       "      <th>1</th>\n",
       "      <td>id:twitter.com:978853189</td>\n",
       "      <td>-1240596151</td>\n",
       "      <td>nytimes.com</td>\n",
       "      <td>1490839229</td>\n",
       "    </tr>\n",
       "    <tr>\n",
       "      <th>2</th>\n",
       "      <td>id:twitter.com:2433739250</td>\n",
       "      <td>-1106722433</td>\n",
       "      <td>breitbart.com</td>\n",
       "      <td>1479827755</td>\n",
       "    </tr>\n",
       "    <tr>\n",
       "      <th>3</th>\n",
       "      <td>id:twitter.com:89057229</td>\n",
       "      <td>-833529919</td>\n",
       "      <td>nytimes.com</td>\n",
       "      <td>1492036624</td>\n",
       "    </tr>\n",
       "    <tr>\n",
       "      <th>4</th>\n",
       "      <td>id:twitter.com:739994610798202881</td>\n",
       "      <td>-229708315</td>\n",
       "      <td>breitbart.com</td>\n",
       "      <td>1518983497</td>\n",
       "    </tr>\n",
       "    <tr>\n",
       "      <th>5</th>\n",
       "      <td>id:twitter.com:899528332206682112</td>\n",
       "      <td>-1840796806</td>\n",
       "      <td>foxnews.com</td>\n",
       "      <td>1520234250</td>\n",
       "    </tr>\n",
       "    <tr>\n",
       "      <th>6</th>\n",
       "      <td>id:twitter.com:813305048</td>\n",
       "      <td>-2060984647</td>\n",
       "      <td>nytimes.com</td>\n",
       "      <td>1533257353</td>\n",
       "    </tr>\n",
       "    <tr>\n",
       "      <th>7</th>\n",
       "      <td>id:twitter.com:3187948291</td>\n",
       "      <td>-902497592</td>\n",
       "      <td>nytimes.com</td>\n",
       "      <td>1513962111</td>\n",
       "    </tr>\n",
       "    <tr>\n",
       "      <th>8</th>\n",
       "      <td>id:twitter.com:3919901952</td>\n",
       "      <td>-724110773</td>\n",
       "      <td>foxnews.com</td>\n",
       "      <td>1522545472</td>\n",
       "    </tr>\n",
       "    <tr>\n",
       "      <th>9</th>\n",
       "      <td>id:twitter.com:2517316837</td>\n",
       "      <td>-753716282</td>\n",
       "      <td>foxnews.com</td>\n",
       "      <td>1490298324</td>\n",
       "    </tr>\n",
       "  </tbody>\n",
       "</table>\n",
       "</div>"
      ],
      "text/plain": [
       "                            actor_id  article_id         domain   timestamp\n",
       "0           id:twitter.com:565537758 -1255309486    foxnews.com  1516144767\n",
       "1           id:twitter.com:978853189 -1240596151    nytimes.com  1490839229\n",
       "2          id:twitter.com:2433739250 -1106722433  breitbart.com  1479827755\n",
       "3            id:twitter.com:89057229  -833529919    nytimes.com  1492036624\n",
       "4  id:twitter.com:739994610798202881  -229708315  breitbart.com  1518983497\n",
       "5  id:twitter.com:899528332206682112 -1840796806    foxnews.com  1520234250\n",
       "6           id:twitter.com:813305048 -2060984647    nytimes.com  1533257353\n",
       "7          id:twitter.com:3187948291  -902497592    nytimes.com  1513962111\n",
       "8          id:twitter.com:3919901952  -724110773    foxnews.com  1522545472\n",
       "9          id:twitter.com:2517316837  -753716282    foxnews.com  1490298324"
      ]
     },
     "execution_count": 12,
     "metadata": {},
     "output_type": "execute_result"
    }
   ],
   "source": [
    "df.head(10)"
   ]
  },
  {
   "cell_type": "code",
   "execution_count": 13,
   "metadata": {},
   "outputs": [],
   "source": [
    "nyt_actors = set(df[df.domain=='nytimes.com'].actor_id)"
   ]
  },
  {
   "cell_type": "code",
   "execution_count": 14,
   "metadata": {},
   "outputs": [],
   "source": [
    "bb_actors = set(df[df.domain=='breitbart.com'].actor_id)"
   ]
  },
  {
   "cell_type": "code",
   "execution_count": 15,
   "metadata": {},
   "outputs": [],
   "source": [
    "fox_actors = set(df[df.domain=='foxnews.com'].actor_id)"
   ]
  },
  {
   "cell_type": "code",
   "execution_count": 16,
   "metadata": {},
   "outputs": [
    {
     "data": {
      "text/plain": [
       "2981765"
      ]
     },
     "execution_count": 16,
     "metadata": {},
     "output_type": "execute_result"
    }
   ],
   "source": [
    "len(nyt_actors)"
   ]
  },
  {
   "cell_type": "code",
   "execution_count": 17,
   "metadata": {},
   "outputs": [
    {
     "data": {
      "text/plain": [
       "489616"
      ]
     },
     "execution_count": 17,
     "metadata": {},
     "output_type": "execute_result"
    }
   ],
   "source": [
    "len(bb_actors)"
   ]
  },
  {
   "cell_type": "code",
   "execution_count": 18,
   "metadata": {},
   "outputs": [
    {
     "data": {
      "text/plain": [
       "1050856"
      ]
     },
     "execution_count": 18,
     "metadata": {},
     "output_type": "execute_result"
    }
   ],
   "source": [
    "len(fox_actors)"
   ]
  },
  {
   "cell_type": "code",
   "execution_count": 143,
   "metadata": {},
   "outputs": [],
   "source": [
    "def jaccard(s1, s2):\n",
    "    return len(set.intersection(s1, s2)) / len(set.union(s1, s2))"
   ]
  },
  {
   "cell_type": "code",
   "execution_count": 69,
   "metadata": {},
   "outputs": [],
   "source": [
    "domains = list(df.domain.unique())"
   ]
  },
  {
   "cell_type": "markdown",
   "metadata": {},
   "source": [
    "# Actor jaccard similarities"
   ]
  },
  {
   "cell_type": "code",
   "execution_count": 70,
   "metadata": {},
   "outputs": [
    {
     "name": "stderr",
     "output_type": "stream",
     "text": [
      "100%|██████████| 3/3 [00:36<00:00, 11.77s/it]\n"
     ]
    }
   ],
   "source": [
    "actors = {\n",
    "    d: set(df[df.domain==d].actor_id)\n",
    "    for d in tqdm(domains)\n",
    "}"
   ]
  },
  {
   "cell_type": "code",
   "execution_count": 171,
   "metadata": {},
   "outputs": [
    {
     "name": "stderr",
     "output_type": "stream",
     "text": [
      "3it [00:04,  1.40s/it]\n"
     ]
    }
   ],
   "source": [
    "scores = np.zeros((len(domains), len(domains)))\n",
    "\n",
    "for i, d1 in tqdm(enumerate(domains)):\n",
    "    for j, d2 in enumerate(domains):\n",
    "        \n",
    "        scores[i, j] = (\n",
    "            jaccard(actors[d1], actors[d2])\n",
    "            if d1 != d2 else 0)"
   ]
  },
  {
   "cell_type": "code",
   "execution_count": 172,
   "metadata": {},
   "outputs": [
    {
     "data": {
      "text/plain": [
       "array([[0.        , 0.12992691, 0.23720567],\n",
       "       [0.12992691, 0.        , 0.07407986],\n",
       "       [0.23720567, 0.07407986, 0.        ]])"
      ]
     },
     "execution_count": 172,
     "metadata": {},
     "output_type": "execute_result"
    }
   ],
   "source": [
    "scores"
   ]
  },
  {
   "cell_type": "code",
   "execution_count": 173,
   "metadata": {},
   "outputs": [],
   "source": [
    "def plot_scores(scores):\n",
    "\n",
    "    rows = [\n",
    "        (domains[i], domains[j], scores[i, j] if i != j else 0)\n",
    "        for i in range(len(scores))\n",
    "        for j in range(len(scores))\n",
    "    ]\n",
    "\n",
    "    sdf = pd.DataFrame(rows, columns=('d1', 'd2', 'score'))\n",
    "    sdf['score_label'] = sdf['score'].apply(lambda v: '{0:.3g}'.format(v))\n",
    "    \n",
    "    base = alt.Chart(sdf, height=300, width=300)\n",
    "    \n",
    "    chart = (base\n",
    "        .mark_circle()\n",
    "        .encode(\n",
    "            x='d2:O',\n",
    "            y='d1:O',\n",
    "            size=alt.Size('score:Q', scale=alt.Scale(range=[1, 3000])),\n",
    "            tooltip='d2'))\n",
    "    \n",
    "    labels = (base\n",
    "        .mark_text(baseline='middle')\n",
    "        .encode(x='d2:O', y='d1:O', text='score_label', tooltip='d2'))\n",
    "    \n",
    "    return chart + labels"
   ]
  },
  {
   "cell_type": "code",
   "execution_count": 174,
   "metadata": {},
   "outputs": [
    {
     "data": {
      "application/vnd.vegalite.v2+json": {
       "$schema": "https://vega.github.io/schema/vega-lite/v2.6.0.json",
       "config": {
        "view": {
         "height": 300,
         "width": 400
        }
       },
       "datasets": {
        "data-25617ac9de7d4dd324677f17b0ed75d6": [
         {
          "d1": "foxnews.com",
          "d2": "foxnews.com",
          "score": 0,
          "score_label": "0"
         },
         {
          "d1": "foxnews.com",
          "d2": "nytimes.com",
          "score": 0.12992690790104128,
          "score_label": "0.13"
         },
         {
          "d1": "foxnews.com",
          "d2": "breitbart.com",
          "score": 0.23720567141211865,
          "score_label": "0.237"
         },
         {
          "d1": "nytimes.com",
          "d2": "foxnews.com",
          "score": 0.12992690790104128,
          "score_label": "0.13"
         },
         {
          "d1": "nytimes.com",
          "d2": "nytimes.com",
          "score": 0,
          "score_label": "0"
         },
         {
          "d1": "nytimes.com",
          "d2": "breitbart.com",
          "score": 0.07407986118631492,
          "score_label": "0.0741"
         },
         {
          "d1": "breitbart.com",
          "d2": "foxnews.com",
          "score": 0.23720567141211865,
          "score_label": "0.237"
         },
         {
          "d1": "breitbart.com",
          "d2": "nytimes.com",
          "score": 0.07407986118631492,
          "score_label": "0.0741"
         },
         {
          "d1": "breitbart.com",
          "d2": "breitbart.com",
          "score": 0,
          "score_label": "0"
         }
        ]
       },
       "layer": [
        {
         "data": {
          "name": "data-25617ac9de7d4dd324677f17b0ed75d6"
         },
         "encoding": {
          "size": {
           "field": "score",
           "scale": {
            "range": [
             1,
             3000
            ]
           },
           "type": "quantitative"
          },
          "tooltip": {
           "field": "d2",
           "type": "nominal"
          },
          "x": {
           "field": "d2",
           "type": "ordinal"
          },
          "y": {
           "field": "d1",
           "type": "ordinal"
          }
         },
         "height": 300,
         "mark": "circle",
         "width": 300
        },
        {
         "data": {
          "name": "data-25617ac9de7d4dd324677f17b0ed75d6"
         },
         "encoding": {
          "text": {
           "field": "score_label",
           "type": "nominal"
          },
          "tooltip": {
           "field": "d2",
           "type": "nominal"
          },
          "x": {
           "field": "d2",
           "type": "ordinal"
          },
          "y": {
           "field": "d1",
           "type": "ordinal"
          }
         },
         "height": 300,
         "mark": {
          "baseline": "middle",
          "type": "text"
         },
         "width": 300
        }
       ]
      },
      "image/png": "[encoded data removed]",
      "text/plain": [
       "<VegaLite 2 object>\n",
       "\n",
       "If you see this message, it means the renderer has not been properly enabled\n",
       "for the frontend that you are using. For more information, see\n",
       "https://altair-viz.github.io/user_guide/troubleshooting.html\n"
      ]
     },
     "execution_count": 174,
     "metadata": {},
     "output_type": "execute_result"
    }
   ],
   "source": [
    "plot_scores(scores)"
   ]
  },
  {
   "cell_type": "code",
   "execution_count": 175,
   "metadata": {},
   "outputs": [
    {
     "data": {
      "application/vnd.vegalite.v2+json": {
       "$schema": "https://vega.github.io/schema/vega-lite/v2.6.0.json",
       "config": {
        "view": {
         "height": 300,
         "width": 400
        }
       },
       "datasets": {
        "data-f2da017382d25122f0d46d0cb9e809c4": [
         {
          "d1": "foxnews.com",
          "d2": "foxnews.com",
          "score": 0,
          "score_label": "0"
         },
         {
          "d1": "foxnews.com",
          "d2": "nytimes.com",
          "score": 0.3538964265827662,
          "score_label": "0.354"
         },
         {
          "d1": "foxnews.com",
          "d2": "breitbart.com",
          "score": 0.6461035734172339,
          "score_label": "0.646"
         },
         {
          "d1": "nytimes.com",
          "d2": "foxnews.com",
          "score": 0.6368754746829319,
          "score_label": "0.637"
         },
         {
          "d1": "nytimes.com",
          "d2": "nytimes.com",
          "score": 0,
          "score_label": "0"
         },
         {
          "d1": "nytimes.com",
          "d2": "breitbart.com",
          "score": 0.36312452531706796,
          "score_label": "0.363"
         },
         {
          "d1": "breitbart.com",
          "d2": "foxnews.com",
          "score": 0.7620195819319369,
          "score_label": "0.762"
         },
         {
          "d1": "breitbart.com",
          "d2": "nytimes.com",
          "score": 0.23798041806806317,
          "score_label": "0.238"
         },
         {
          "d1": "breitbart.com",
          "d2": "breitbart.com",
          "score": 0,
          "score_label": "0"
         }
        ]
       },
       "layer": [
        {
         "data": {
          "name": "data-f2da017382d25122f0d46d0cb9e809c4"
         },
         "encoding": {
          "size": {
           "field": "score",
           "scale": {
            "range": [
             1,
             3000
            ]
           },
           "type": "quantitative"
          },
          "tooltip": {
           "field": "d2",
           "type": "nominal"
          },
          "x": {
           "field": "d2",
           "type": "ordinal"
          },
          "y": {
           "field": "d1",
           "type": "ordinal"
          }
         },
         "height": 300,
         "mark": "circle",
         "width": 300
        },
        {
         "data": {
          "name": "data-f2da017382d25122f0d46d0cb9e809c4"
         },
         "encoding": {
          "text": {
           "field": "score_label",
           "type": "nominal"
          },
          "tooltip": {
           "field": "d2",
           "type": "nominal"
          },
          "x": {
           "field": "d2",
           "type": "ordinal"
          },
          "y": {
           "field": "d1",
           "type": "ordinal"
          }
         },
         "height": 300,
         "mark": {
          "baseline": "middle",
          "type": "text"
         },
         "width": 300
        }
       ]
      },
      "image/png": "[encoded data removed]",
      "text/plain": [
       "<VegaLite 2 object>\n",
       "\n",
       "If you see this message, it means the renderer has not been properly enabled\n",
       "for the frontend that you are using. For more information, see\n",
       "https://altair-viz.github.io/user_guide/troubleshooting.html\n"
      ]
     },
     "execution_count": 175,
     "metadata": {},
     "output_type": "execute_result"
    }
   ],
   "source": [
    "scores = scores / scores.sum(axis=1)[:,None]\n",
    "plot_scores(scores)"
   ]
  },
  {
   "cell_type": "markdown",
   "metadata": {},
   "source": [
    "# (Thresholded) actor jaccard similarities"
   ]
  },
  {
   "cell_type": "code",
   "execution_count": 182,
   "metadata": {},
   "outputs": [],
   "source": [
    "counts = Counter(df[df.domain=='breitbart.com'].actor_id)"
   ]
  },
  {
   "cell_type": "code",
   "execution_count": 186,
   "metadata": {},
   "outputs": [
    {
     "data": {
      "text/plain": [
       "67327"
      ]
     },
     "execution_count": 186,
     "metadata": {},
     "output_type": "execute_result"
    }
   ],
   "source": [
    "len(set(aid for aid, c in counts.items() if c > 10))"
   ]
  },
  {
   "cell_type": "code",
   "execution_count": 189,
   "metadata": {},
   "outputs": [],
   "source": [
    "counts = df[df.domain=='breitbart.com'][['actor_id', 'article_id']].groupby('actor_id').count()"
   ]
  },
  {
   "cell_type": "code",
   "execution_count": 192,
   "metadata": {},
   "outputs": [],
   "source": [
    "counts['rank'] = counts.article_id.rank(method='min', pct=True)"
   ]
  },
  {
   "cell_type": "code",
   "execution_count": 196,
   "metadata": {},
   "outputs": [
    {
     "data": {
      "text/plain": [
       "<matplotlib.axes._subplots.AxesSubplot at 0x54cd8acc0>"
      ]
     },
     "execution_count": 196,
     "metadata": {},
     "output_type": "execute_result"
    },
    {
     "data": {
      "image/png": "[encoded data removed]",
      "text/plain": [
       "<Figure size 432x288 with 1 Axes>"
      ]
     },
     "metadata": {
      "needs_background": "light"
     },
     "output_type": "display_data"
    }
   ],
   "source": [
    "sns.distplot(counts['rank'])"
   ]
  },
  {
   "cell_type": "code",
   "execution_count": 199,
   "metadata": {},
   "outputs": [],
   "source": [
    "def pct_rank_actors(domain, min_pct):\n",
    "    \n",
    "    counts = (df[df.domain==domain][['actor_id', 'article_id']]\n",
    "        .groupby('actor_id').count())\n",
    "    \n",
    "    counts['rank'] = counts.article_id.rank(method='min', pct=True)\n",
    "    \n",
    "    return set(counts[counts['rank'] > min_pct].index)"
   ]
  },
  {
   "cell_type": "code",
   "execution_count": 203,
   "metadata": {},
   "outputs": [
    {
     "data": {
      "text/plain": [
       "489616"
      ]
     },
     "execution_count": 203,
     "metadata": {},
     "output_type": "execute_result"
    }
   ],
   "source": [
    "len(pct_rank_actors('breitbart.com', 0.9))"
   ]
  },
  {
   "cell_type": "code",
   "execution_count": 204,
   "metadata": {},
   "outputs": [
    {
     "name": "stderr",
     "output_type": "stream",
     "text": [
      "100%|██████████| 3/3 [01:01<00:00, 18.61s/it]\n"
     ]
    }
   ],
   "source": [
    "actors = {\n",
    "    d: pct_rank_actors(d, 0.9)\n",
    "    for d in tqdm(domains)\n",
    "}"
   ]
  },
  {
   "cell_type": "code",
   "execution_count": 216,
   "metadata": {},
   "outputs": [
    {
     "name": "stderr",
     "output_type": "stream",
     "text": [
      "3it [00:00,  9.02it/s]\n"
     ]
    }
   ],
   "source": [
    "scores = np.zeros((len(domains), len(domains)))\n",
    "\n",
    "for i, d1 in tqdm(enumerate(domains)):\n",
    "    for j, d2 in enumerate(domains):\n",
    "        \n",
    "        scores[i, j] = (\n",
    "            jaccard(actors[d1], actors[d2])\n",
    "            if d1 != d2 else 0)"
   ]
  },
  {
   "cell_type": "code",
   "execution_count": 217,
   "metadata": {},
   "outputs": [
    {
     "data": {
      "text/plain": [
       "array([[0.        , 0.09090182, 0.37973895],\n",
       "       [0.09090182, 0.        , 0.06382241],\n",
       "       [0.37973895, 0.06382241, 0.        ]])"
      ]
     },
     "execution_count": 217,
     "metadata": {},
     "output_type": "execute_result"
    }
   ],
   "source": [
    "scores"
   ]
  },
  {
   "cell_type": "code",
   "execution_count": 218,
   "metadata": {},
   "outputs": [
    {
     "data": {
      "application/vnd.vegalite.v2+json": {
       "$schema": "https://vega.github.io/schema/vega-lite/v2.6.0.json",
       "config": {
        "view": {
         "height": 300,
         "width": 400
        }
       },
       "datasets": {
        "data-4fb22708076a9e5216b8dab043ff0cf4": [
         {
          "d1": "foxnews.com",
          "d2": "foxnews.com",
          "score": 0,
          "score_label": "0"
         },
         {
          "d1": "foxnews.com",
          "d2": "nytimes.com",
          "score": 0.09090182129020695,
          "score_label": "0.0909"
         },
         {
          "d1": "foxnews.com",
          "d2": "breitbart.com",
          "score": 0.37973894551587595,
          "score_label": "0.38"
         },
         {
          "d1": "nytimes.com",
          "d2": "foxnews.com",
          "score": 0.09090182129020695,
          "score_label": "0.0909"
         },
         {
          "d1": "nytimes.com",
          "d2": "nytimes.com",
          "score": 0,
          "score_label": "0"
         },
         {
          "d1": "nytimes.com",
          "d2": "breitbart.com",
          "score": 0.06382240613065138,
          "score_label": "0.0638"
         },
         {
          "d1": "breitbart.com",
          "d2": "foxnews.com",
          "score": 0.37973894551587595,
          "score_label": "0.38"
         },
         {
          "d1": "breitbart.com",
          "d2": "nytimes.com",
          "score": 0.06382240613065138,
          "score_label": "0.0638"
         },
         {
          "d1": "breitbart.com",
          "d2": "breitbart.com",
          "score": 0,
          "score_label": "0"
         }
        ]
       },
       "layer": [
        {
         "data": {
          "name": "data-4fb22708076a9e5216b8dab043ff0cf4"
         },
         "encoding": {
          "size": {
           "field": "score",
           "scale": {
            "range": [
             1,
             3000
            ]
           },
           "type": "quantitative"
          },
          "tooltip": {
           "field": "d2",
           "type": "nominal"
          },
          "x": {
           "field": "d2",
           "type": "ordinal"
          },
          "y": {
           "field": "d1",
           "type": "ordinal"
          }
         },
         "height": 300,
         "mark": "circle",
         "width": 300
        },
        {
         "data": {
          "name": "data-4fb22708076a9e5216b8dab043ff0cf4"
         },
         "encoding": {
          "text": {
           "field": "score_label",
           "type": "nominal"
          },
          "tooltip": {
           "field": "d2",
           "type": "nominal"
          },
          "x": {
           "field": "d2",
           "type": "ordinal"
          },
          "y": {
           "field": "d1",
           "type": "ordinal"
          }
         },
         "height": 300,
         "mark": {
          "baseline": "middle",
          "type": "text"
         },
         "width": 300
        }
       ]
      },
      "image/png": "[encoded data removed]",
      "text/plain": [
       "<VegaLite 2 object>\n",
       "\n",
       "If you see this message, it means the renderer has not been properly enabled\n",
       "for the frontend that you are using. For more information, see\n",
       "https://altair-viz.github.io/user_guide/troubleshooting.html\n"
      ]
     },
     "execution_count": 218,
     "metadata": {},
     "output_type": "execute_result"
    }
   ],
   "source": [
    "plot_scores(scores)"
   ]
  },
  {
   "cell_type": "code",
   "execution_count": 219,
   "metadata": {},
   "outputs": [
    {
     "data": {
      "application/vnd.vegalite.v2+json": {
       "$schema": "https://vega.github.io/schema/vega-lite/v2.6.0.json",
       "config": {
        "view": {
         "height": 300,
         "width": 400
        }
       },
       "datasets": {
        "data-46d731af27ee90917cf82b7ae9f65d72": [
         {
          "d1": "foxnews.com",
          "d2": "foxnews.com",
          "score": 0,
          "score_label": "0"
         },
         {
          "d1": "foxnews.com",
          "d2": "nytimes.com",
          "score": 0.19314480959032823,
          "score_label": "0.193"
         },
         {
          "d1": "foxnews.com",
          "d2": "breitbart.com",
          "score": 0.8068551904096718,
          "score_label": "0.807"
         },
         {
          "d1": "nytimes.com",
          "d2": "foxnews.com",
          "score": 0.5875086455784914,
          "score_label": "0.588"
         },
         {
          "d1": "nytimes.com",
          "d2": "nytimes.com",
          "score": 0,
          "score_label": "0"
         },
         {
          "d1": "nytimes.com",
          "d2": "breitbart.com",
          "score": 0.4124913544215086,
          "score_label": "0.412"
         },
         {
          "d1": "breitbart.com",
          "d2": "foxnews.com",
          "score": 0.856113690036928,
          "score_label": "0.856"
         },
         {
          "d1": "breitbart.com",
          "d2": "nytimes.com",
          "score": 0.14388630996307192,
          "score_label": "0.144"
         },
         {
          "d1": "breitbart.com",
          "d2": "breitbart.com",
          "score": 0,
          "score_label": "0"
         }
        ]
       },
       "layer": [
        {
         "data": {
          "name": "data-46d731af27ee90917cf82b7ae9f65d72"
         },
         "encoding": {
          "size": {
           "field": "score",
           "scale": {
            "range": [
             1,
             3000
            ]
           },
           "type": "quantitative"
          },
          "tooltip": {
           "field": "d2",
           "type": "nominal"
          },
          "x": {
           "field": "d2",
           "type": "ordinal"
          },
          "y": {
           "field": "d1",
           "type": "ordinal"
          }
         },
         "height": 300,
         "mark": "circle",
         "width": 300
        },
        {
         "data": {
          "name": "data-46d731af27ee90917cf82b7ae9f65d72"
         },
         "encoding": {
          "text": {
           "field": "score_label",
           "type": "nominal"
          },
          "tooltip": {
           "field": "d2",
           "type": "nominal"
          },
          "x": {
           "field": "d2",
           "type": "ordinal"
          },
          "y": {
           "field": "d1",
           "type": "ordinal"
          }
         },
         "height": 300,
         "mark": {
          "baseline": "middle",
          "type": "text"
         },
         "width": 300
        }
       ]
      },
      "image/png": "[encoded data removed]",
      "text/plain": [
       "<VegaLite 2 object>\n",
       "\n",
       "If you see this message, it means the renderer has not been properly enabled\n",
       "for the frontend that you are using. For more information, see\n",
       "https://altair-viz.github.io/user_guide/troubleshooting.html\n"
      ]
     },
     "execution_count": 219,
     "metadata": {},
     "output_type": "execute_result"
    }
   ],
   "source": [
    "scores = scores / scores.sum(axis=1)[:,None]\n",
    "plot_scores(scores)"
   ]
  },
  {
   "cell_type": "code",
   "execution_count": null,
   "metadata": {},
   "outputs": [],
   "source": []
  },
  {
   "cell_type": "code",
   "execution_count": null,
   "metadata": {},
   "outputs": [],
   "source": []
  }
 ],
 "metadata": {
  "kernelspec": {
   "display_name": "Python 3",
   "language": "python",
   "name": "python3"
  },
  "language_info": {
   "codemirror_mode": {
    "name": "ipython",
    "version": 3
   },
   "file_extension": ".py",
   "mimetype": "text/x-python",
   "name": "python",
   "nbconvert_exporter": "python",
   "pygments_lexer": "ipython3",
   "version": "3.7.0"
  }
 },
 "nbformat": 4,
 "nbformat_minor": 2
}
