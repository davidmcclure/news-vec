{
 "cells": [
  {
   "cell_type": "code",
   "execution_count": 1,
   "metadata": {},
   "outputs": [],
   "source": [
    "import warnings\n",
    "import umap\n",
    "\n",
    "import numpy as np\n",
    "import pandas as pd\n",
    "\n",
    "from sklearn import decomposition\n",
    "\n",
    "from news_vec.encoder import read_preds"
   ]
  },
  {
   "cell_type": "code",
   "execution_count": 2,
   "metadata": {},
   "outputs": [],
   "source": [
    "import matplotlib as mpl\n",
    "import matplotlib.pyplot as plt\n",
    "import altair as alt\n",
    "import seaborn as sns\n",
    "\n",
    "mpl.style.use('seaborn-muted')\n",
    "sns.set(style=\"whitegrid\")\n",
    "\n",
    "%matplotlib inline"
   ]
  },
  {
   "cell_type": "code",
   "execution_count": 3,
   "metadata": {},
   "outputs": [],
   "source": [
    "warnings.simplefilter('ignore')\n",
    "alt.data_transformers.enable('default', max_rows=None)\n",
    "pd.options.display.max_rows = 500"
   ]
  },
  {
   "cell_type": "code",
   "execution_count": 4,
   "metadata": {},
   "outputs": [
    {
     "name": "stderr",
     "output_type": "stream",
     "text": [
      "100%|██████████| 283/283 [00:15<00:00, 18.08it/s]\n"
     ]
    }
   ],
   "source": [
    "df, embeds = read_preds('../data/ava-lstm/')"
   ]
  },
  {
   "cell_type": "code",
   "execution_count": 12,
   "metadata": {},
   "outputs": [
    {
     "data": {
      "text/plain": [
       "5815      ' Speaks Perfect English , ' Trump Says of His...\n",
       "13214     UK Labour Leader Corbyn Urges European Leftist...\n",
       "23566     Yad Vashem Centre Criticises Israeli Polish St...\n",
       "28232     Italy , Bracing for Electoral Season of Fake N...\n",
       "78173     Hindu Group Claims Christians Tried Forced Con...\n",
       "83061     Afghan Deported Amid German Migrants Row Kills...\n",
       "108642    ESPN Wo n't Show National Anthem Before Monday...\n",
       "110726    George Soros Accuses Viktor Orban of Turning H...\n",
       "124015    Church of Sweden asks clergy to refer to God u...\n",
       "155585    Britons Accused of Being Islamic State ' Beatl...\n",
       "155811    Marco Rubio Pushed for Immigration Reform With...\n",
       "156258    Israel Penalizes Palestinians for Payments to ...\n",
       "208627    Israel Endorsed Kurdish Independence . Saladin...\n",
       "221389    Ruth Bader Ginsburg Calls Colin Kaepernick 's ...\n",
       "246162    Nov. 29 , 1947 | U.N. Partitions Palestine , A...\n",
       "247492    Colin Kaepernick 's Anthem Protest Underlines ...\n",
       "274484    Rape and Torture Charges for Jihadist Police C...\n",
       "275043    Theater Producers Accuse Casting Directors of ...\n",
       "277663    East Timor Holds First LGBT Parade ; PM Calls ...\n",
       "Name: title, dtype: object"
      ]
     },
     "execution_count": 12,
     "metadata": {},
     "output_type": "execute_result"
    }
   ],
   "source": [
    "df[(df.domain=='nytimes.com')&(df['p_breitbart.com'] > 0.7)].title"
   ]
  },
  {
   "cell_type": "code",
   "execution_count": null,
   "metadata": {},
   "outputs": [],
   "source": []
  }
 ],
 "metadata": {
  "kernelspec": {
   "display_name": "Python 3",
   "language": "python",
   "name": "python3"
  },
  "language_info": {
   "codemirror_mode": {
    "name": "ipython",
    "version": 3
   },
   "file_extension": ".py",
   "mimetype": "text/x-python",
   "name": "python",
   "nbconvert_exporter": "python",
   "pygments_lexer": "ipython3",
   "version": "3.7.0"
  }
 },
 "nbformat": 4,
 "nbformat_minor": 2
}
