{
 "cells": [
  {
   "cell_type": "code",
   "execution_count": 1,
   "metadata": {},
   "outputs": [],
   "source": [
    "import pandas as pd\n",
    "import numpy as np\n",
    "\n",
    "from scipy import stats\n",
    "from itertools import combinations\n",
    "\n",
    "from news_vec.encoder import read_preds"
   ]
  },
  {
   "cell_type": "code",
   "execution_count": 2,
   "metadata": {},
   "outputs": [
    {
     "name": "stderr",
     "output_type": "stream",
     "text": [
      "100%|██████████| 283/283 [00:13<00:00, 20.32it/s]\n"
     ]
    }
   ],
   "source": [
    "df, _ = read_preds('../../data/ava-cbow/')"
   ]
  },
  {
   "cell_type": "code",
   "execution_count": 3,
   "metadata": {},
   "outputs": [],
   "source": [
    "DOMAINS = sorted(df.domain.unique().tolist())\n",
    "PAIRS = [sorted(p) for p in combinations(DOMAINS, 2)]"
   ]
  },
  {
   "cell_type": "code",
   "execution_count": 4,
   "metadata": {},
   "outputs": [],
   "source": [
    "df['p_true'] = df.apply(lambda r: r[f'p_{r.domain}'], 1)\n",
    "df['domain_pred'] = df.apply(lambda r: DOMAINS[np.argmax([r[f'p_{d}'] for d in DOMAINS])], 1)"
   ]
  },
  {
   "cell_type": "code",
   "execution_count": 5,
   "metadata": {},
   "outputs": [],
   "source": [
    "df_test = df[df.split=='test']"
   ]
  },
  {
   "cell_type": "code",
   "execution_count": 6,
   "metadata": {},
   "outputs": [],
   "source": [
    "rows = []"
   ]
  },
  {
   "cell_type": "code",
   "execution_count": 7,
   "metadata": {},
   "outputs": [],
   "source": [
    "for d1, d2 in PAIRS:\n",
    "    \n",
    "    p1 = df_test[f'p_{d1}']\n",
    "    p2 = df_test[f'p_{d2}']\n",
    "    \n",
    "    sp_corr, sp_p = stats.spearmanr(p1, p2)\n",
    "    kt_corr, kt_p = stats.kendalltau(p1, p2)\n",
    "    pr_corr, pr_p = stats.pearsonr(p1, p2)\n",
    "    \n",
    "    rows.append((d1, d2, sp_corr, sp_p, kt_corr, kt_p, pr_corr, pr_p))"
   ]
  },
  {
   "cell_type": "code",
   "execution_count": 8,
   "metadata": {},
   "outputs": [],
   "source": [
    "corr_df = pd.DataFrame(rows, columns=('d1', 'd2', 'sp', 'sp_p', 'kt', 'kt_p', 'pr', 'pr_p'))"
   ]
  },
  {
   "cell_type": "code",
   "execution_count": 9,
   "metadata": {},
   "outputs": [
    {
     "data": {
      "text/html": [
       "<div>\n",
       "<style scoped>\n",
       "    .dataframe tbody tr th:only-of-type {\n",
       "        vertical-align: middle;\n",
       "    }\n",
       "\n",
       "    .dataframe tbody tr th {\n",
       "        vertical-align: top;\n",
       "    }\n",
       "\n",
       "    .dataframe thead th {\n",
       "        text-align: right;\n",
       "    }\n",
       "</style>\n",
       "<table border=\"1\" class=\"dataframe\">\n",
       "  <thead>\n",
       "    <tr style=\"text-align: right;\">\n",
       "      <th></th>\n",
       "      <th>d1</th>\n",
       "      <th>d2</th>\n",
       "      <th>sp</th>\n",
       "      <th>sp_p</th>\n",
       "      <th>kt</th>\n",
       "      <th>kt_p</th>\n",
       "      <th>pr</th>\n",
       "      <th>pr_p</th>\n",
       "    </tr>\n",
       "  </thead>\n",
       "  <tbody>\n",
       "    <tr>\n",
       "      <th>26</th>\n",
       "      <td>bloomberg.com</td>\n",
       "      <td>wsj.com</td>\n",
       "      <td>0.838633</td>\n",
       "      <td>0.0</td>\n",
       "      <td>0.649152</td>\n",
       "      <td>0.0</td>\n",
       "      <td>0.581247</td>\n",
       "      <td>0.000000e+00</td>\n",
       "    </tr>\n",
       "    <tr>\n",
       "      <th>95</th>\n",
       "      <td>npr.org</td>\n",
       "      <td>nytimes.com</td>\n",
       "      <td>0.710882</td>\n",
       "      <td>0.0</td>\n",
       "      <td>0.524353</td>\n",
       "      <td>0.0</td>\n",
       "      <td>0.423397</td>\n",
       "      <td>0.000000e+00</td>\n",
       "    </tr>\n",
       "    <tr>\n",
       "      <th>43</th>\n",
       "      <td>buzzfeed.com</td>\n",
       "      <td>huffingtonpost.com</td>\n",
       "      <td>0.709984</td>\n",
       "      <td>0.0</td>\n",
       "      <td>0.524248</td>\n",
       "      <td>0.0</td>\n",
       "      <td>0.232072</td>\n",
       "      <td>0.000000e+00</td>\n",
       "    </tr>\n",
       "    <tr>\n",
       "      <th>29</th>\n",
       "      <td>breitbart.com</td>\n",
       "      <td>dailycaller.com</td>\n",
       "      <td>0.696504</td>\n",
       "      <td>0.0</td>\n",
       "      <td>0.510685</td>\n",
       "      <td>0.0</td>\n",
       "      <td>0.392066</td>\n",
       "      <td>0.000000e+00</td>\n",
       "    </tr>\n",
       "    <tr>\n",
       "      <th>92</th>\n",
       "      <td>msnbc.com</td>\n",
       "      <td>thehill.com</td>\n",
       "      <td>0.670869</td>\n",
       "      <td>0.0</td>\n",
       "      <td>0.483489</td>\n",
       "      <td>0.0</td>\n",
       "      <td>0.303908</td>\n",
       "      <td>0.000000e+00</td>\n",
       "    </tr>\n",
       "    <tr>\n",
       "      <th>71</th>\n",
       "      <td>dailykos.com</td>\n",
       "      <td>msnbc.com</td>\n",
       "      <td>0.652106</td>\n",
       "      <td>0.0</td>\n",
       "      <td>0.470737</td>\n",
       "      <td>0.0</td>\n",
       "      <td>0.211059</td>\n",
       "      <td>1.626165e-281</td>\n",
       "    </tr>\n",
       "    <tr>\n",
       "      <th>6</th>\n",
       "      <td>apnews.com</td>\n",
       "      <td>foxnews.com</td>\n",
       "      <td>0.608815</td>\n",
       "      <td>0.0</td>\n",
       "      <td>0.434015</td>\n",
       "      <td>0.0</td>\n",
       "      <td>0.386803</td>\n",
       "      <td>0.000000e+00</td>\n",
       "    </tr>\n",
       "    <tr>\n",
       "      <th>101</th>\n",
       "      <td>nytimes.com</td>\n",
       "      <td>wsj.com</td>\n",
       "      <td>0.575702</td>\n",
       "      <td>0.0</td>\n",
       "      <td>0.415452</td>\n",
       "      <td>0.0</td>\n",
       "      <td>0.197164</td>\n",
       "      <td>3.169892e-245</td>\n",
       "    </tr>\n",
       "    <tr>\n",
       "      <th>66</th>\n",
       "      <td>dailycaller.com</td>\n",
       "      <td>thehill.com</td>\n",
       "      <td>0.583952</td>\n",
       "      <td>0.0</td>\n",
       "      <td>0.414587</td>\n",
       "      <td>0.0</td>\n",
       "      <td>0.258344</td>\n",
       "      <td>0.000000e+00</td>\n",
       "    </tr>\n",
       "    <tr>\n",
       "      <th>97</th>\n",
       "      <td>npr.org</td>\n",
       "      <td>washingtonpost.com</td>\n",
       "      <td>0.506310</td>\n",
       "      <td>0.0</td>\n",
       "      <td>0.354214</td>\n",
       "      <td>0.0</td>\n",
       "      <td>0.216034</td>\n",
       "      <td>3.653815e-295</td>\n",
       "    </tr>\n",
       "  </tbody>\n",
       "</table>\n",
       "</div>"
      ],
      "text/plain": [
       "                  d1                  d2        sp  sp_p        kt  kt_p  \\\n",
       "26     bloomberg.com             wsj.com  0.838633   0.0  0.649152   0.0   \n",
       "95           npr.org         nytimes.com  0.710882   0.0  0.524353   0.0   \n",
       "43      buzzfeed.com  huffingtonpost.com  0.709984   0.0  0.524248   0.0   \n",
       "29     breitbart.com     dailycaller.com  0.696504   0.0  0.510685   0.0   \n",
       "92         msnbc.com         thehill.com  0.670869   0.0  0.483489   0.0   \n",
       "71      dailykos.com           msnbc.com  0.652106   0.0  0.470737   0.0   \n",
       "6         apnews.com         foxnews.com  0.608815   0.0  0.434015   0.0   \n",
       "101      nytimes.com             wsj.com  0.575702   0.0  0.415452   0.0   \n",
       "66   dailycaller.com         thehill.com  0.583952   0.0  0.414587   0.0   \n",
       "97           npr.org  washingtonpost.com  0.506310   0.0  0.354214   0.0   \n",
       "\n",
       "           pr           pr_p  \n",
       "26   0.581247   0.000000e+00  \n",
       "95   0.423397   0.000000e+00  \n",
       "43   0.232072   0.000000e+00  \n",
       "29   0.392066   0.000000e+00  \n",
       "92   0.303908   0.000000e+00  \n",
       "71   0.211059  1.626165e-281  \n",
       "6    0.386803   0.000000e+00  \n",
       "101  0.197164  3.169892e-245  \n",
       "66   0.258344   0.000000e+00  \n",
       "97   0.216034  3.653815e-295  "
      ]
     },
     "execution_count": 9,
     "metadata": {},
     "output_type": "execute_result"
    }
   ],
   "source": [
    "corr_df.sort_values('kt', ascending=False).head(10)"
   ]
  },
  {
   "cell_type": "code",
   "execution_count": 10,
   "metadata": {},
   "outputs": [],
   "source": [
    "corr_df.to_json('data/hl-graph-cbow-pcorr.json', orient='records', lines=True)"
   ]
  },
  {
   "cell_type": "code",
   "execution_count": null,
   "metadata": {},
   "outputs": [],
   "source": []
  }
 ],
 "metadata": {
  "kernelspec": {
   "display_name": "Python 3",
   "language": "python",
   "name": "python3"
  },
  "language_info": {
   "codemirror_mode": {
    "name": "ipython",
    "version": 3
   },
   "file_extension": ".py",
   "mimetype": "text/x-python",
   "name": "python",
   "nbconvert_exporter": "python",
   "pygments_lexer": "ipython3",
   "version": "3.7.0"
  }
 },
 "nbformat": 4,
 "nbformat_minor": 2
}
