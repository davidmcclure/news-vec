{
 "cells": [
  {
   "cell_type": "code",
   "execution_count": 60,
   "metadata": {},
   "outputs": [],
   "source": [
    "import pandas as pd\n",
    "import numpy as np\n",
    "\n",
    "from scipy import stats\n",
    "from itertools import combinations\n",
    "\n",
    "from news_vec.encoder import read_preds"
   ]
  },
  {
   "cell_type": "code",
   "execution_count": 61,
   "metadata": {},
   "outputs": [
    {
     "name": "stderr",
     "output_type": "stream",
     "text": [
      "100%|██████████| 283/283 [00:13<00:00, 21.15it/s]\n"
     ]
    }
   ],
   "source": [
    "df, _ = read_preds('../../data/ava-lstm-attn/')"
   ]
  },
  {
   "cell_type": "code",
   "execution_count": 62,
   "metadata": {},
   "outputs": [],
   "source": [
    "DOMAINS = sorted(df.domain.unique().tolist())\n",
    "PAIRS = [sorted(p) for p in combinations(DOMAINS, 2)]"
   ]
  },
  {
   "cell_type": "code",
   "execution_count": 63,
   "metadata": {},
   "outputs": [],
   "source": [
    "df['p_true'] = df.apply(lambda r: r[f'p_{r.domain}'], 1)\n",
    "df['domain_pred'] = df.apply(lambda r: DOMAINS[np.argmax([r[f'p_{d}'] for d in DOMAINS])], 1)"
   ]
  },
  {
   "cell_type": "code",
   "execution_count": 64,
   "metadata": {},
   "outputs": [],
   "source": [
    "df_test = df[df.split=='test']"
   ]
  },
  {
   "cell_type": "code",
   "execution_count": 65,
   "metadata": {},
   "outputs": [],
   "source": [
    "rows = []"
   ]
  },
  {
   "cell_type": "code",
   "execution_count": 66,
   "metadata": {},
   "outputs": [],
   "source": [
    "for d1, d2 in PAIRS:\n",
    "    \n",
    "    p1 = df_test[f'p_{d1}']\n",
    "    p2 = df_test[f'p_{d2}']\n",
    "    \n",
    "    sp_corr, sp_p = stats.spearmanr(p1, p2)\n",
    "    kt_corr, kt_p = stats.kendalltau(p1, p2)\n",
    "    pr_corr, pr_p = stats.pearsonr(p1, p2)\n",
    "    \n",
    "    rows.append((d1, d2, sp_corr, sp_p, kt_corr, kt_p, pr_corr, pr_p))"
   ]
  },
  {
   "cell_type": "code",
   "execution_count": 67,
   "metadata": {},
   "outputs": [],
   "source": [
    "corr_df = pd.DataFrame(rows, columns=('d1', 'd2', 'sp', 'sp_p', 'kt', 'kt_p', 'pr', 'pr_p'))"
   ]
  },
  {
   "cell_type": "code",
   "execution_count": 70,
   "metadata": {},
   "outputs": [
    {
     "data": {
      "text/html": [
       "<div>\n",
       "<style scoped>\n",
       "    .dataframe tbody tr th:only-of-type {\n",
       "        vertical-align: middle;\n",
       "    }\n",
       "\n",
       "    .dataframe tbody tr th {\n",
       "        vertical-align: top;\n",
       "    }\n",
       "\n",
       "    .dataframe thead th {\n",
       "        text-align: right;\n",
       "    }\n",
       "</style>\n",
       "<table border=\"1\" class=\"dataframe\">\n",
       "  <thead>\n",
       "    <tr style=\"text-align: right;\">\n",
       "      <th></th>\n",
       "      <th>d1</th>\n",
       "      <th>d2</th>\n",
       "      <th>sp</th>\n",
       "      <th>sp_p</th>\n",
       "      <th>kt</th>\n",
       "      <th>kt_p</th>\n",
       "      <th>pr</th>\n",
       "      <th>pr_p</th>\n",
       "    </tr>\n",
       "  </thead>\n",
       "  <tbody>\n",
       "    <tr>\n",
       "      <th>26</th>\n",
       "      <td>bloomberg.com</td>\n",
       "      <td>wsj.com</td>\n",
       "      <td>0.730285</td>\n",
       "      <td>0.0</td>\n",
       "      <td>0.544591</td>\n",
       "      <td>0.0</td>\n",
       "      <td>0.244900</td>\n",
       "      <td>0.000000e+00</td>\n",
       "    </tr>\n",
       "    <tr>\n",
       "      <th>29</th>\n",
       "      <td>breitbart.com</td>\n",
       "      <td>dailycaller.com</td>\n",
       "      <td>0.688357</td>\n",
       "      <td>0.0</td>\n",
       "      <td>0.504639</td>\n",
       "      <td>0.0</td>\n",
       "      <td>0.235545</td>\n",
       "      <td>0.000000e+00</td>\n",
       "    </tr>\n",
       "    <tr>\n",
       "      <th>101</th>\n",
       "      <td>nytimes.com</td>\n",
       "      <td>wsj.com</td>\n",
       "      <td>0.672381</td>\n",
       "      <td>0.0</td>\n",
       "      <td>0.489553</td>\n",
       "      <td>0.0</td>\n",
       "      <td>0.158381</td>\n",
       "      <td>7.152194e-158</td>\n",
       "    </tr>\n",
       "    <tr>\n",
       "      <th>92</th>\n",
       "      <td>msnbc.com</td>\n",
       "      <td>thehill.com</td>\n",
       "      <td>0.660237</td>\n",
       "      <td>0.0</td>\n",
       "      <td>0.478135</td>\n",
       "      <td>0.0</td>\n",
       "      <td>0.121547</td>\n",
       "      <td>2.611820e-93</td>\n",
       "    </tr>\n",
       "    <tr>\n",
       "      <th>95</th>\n",
       "      <td>npr.org</td>\n",
       "      <td>nytimes.com</td>\n",
       "      <td>0.645672</td>\n",
       "      <td>0.0</td>\n",
       "      <td>0.468058</td>\n",
       "      <td>0.0</td>\n",
       "      <td>0.189297</td>\n",
       "      <td>7.303897e-226</td>\n",
       "    </tr>\n",
       "    <tr>\n",
       "      <th>43</th>\n",
       "      <td>buzzfeed.com</td>\n",
       "      <td>huffingtonpost.com</td>\n",
       "      <td>0.593501</td>\n",
       "      <td>0.0</td>\n",
       "      <td>0.440796</td>\n",
       "      <td>0.0</td>\n",
       "      <td>0.055717</td>\n",
       "      <td>7.584669e-21</td>\n",
       "    </tr>\n",
       "    <tr>\n",
       "      <th>66</th>\n",
       "      <td>dailycaller.com</td>\n",
       "      <td>thehill.com</td>\n",
       "      <td>0.597465</td>\n",
       "      <td>0.0</td>\n",
       "      <td>0.426649</td>\n",
       "      <td>0.0</td>\n",
       "      <td>0.138389</td>\n",
       "      <td>1.202541e-120</td>\n",
       "    </tr>\n",
       "    <tr>\n",
       "      <th>54</th>\n",
       "      <td>cnn.com</td>\n",
       "      <td>msnbc.com</td>\n",
       "      <td>0.573168</td>\n",
       "      <td>0.0</td>\n",
       "      <td>0.409234</td>\n",
       "      <td>0.0</td>\n",
       "      <td>0.152077</td>\n",
       "      <td>1.437426e-145</td>\n",
       "    </tr>\n",
       "    <tr>\n",
       "      <th>31</th>\n",
       "      <td>breitbart.com</td>\n",
       "      <td>foxnews.com</td>\n",
       "      <td>0.564974</td>\n",
       "      <td>0.0</td>\n",
       "      <td>0.404034</td>\n",
       "      <td>0.0</td>\n",
       "      <td>0.090747</td>\n",
       "      <td>1.154157e-52</td>\n",
       "    </tr>\n",
       "    <tr>\n",
       "      <th>98</th>\n",
       "      <td>npr.org</td>\n",
       "      <td>wsj.com</td>\n",
       "      <td>0.517790</td>\n",
       "      <td>0.0</td>\n",
       "      <td>0.371312</td>\n",
       "      <td>0.0</td>\n",
       "      <td>0.040728</td>\n",
       "      <td>7.736989e-12</td>\n",
       "    </tr>\n",
       "  </tbody>\n",
       "</table>\n",
       "</div>"
      ],
      "text/plain": [
       "                  d1                  d2        sp  sp_p        kt  kt_p        pr           pr_p\n",
       "26     bloomberg.com             wsj.com  0.730285   0.0  0.544591   0.0  0.244900   0.000000e+00\n",
       "29     breitbart.com     dailycaller.com  0.688357   0.0  0.504639   0.0  0.235545   0.000000e+00\n",
       "101      nytimes.com             wsj.com  0.672381   0.0  0.489553   0.0  0.158381  7.152194e-158\n",
       "92         msnbc.com         thehill.com  0.660237   0.0  0.478135   0.0  0.121547   2.611820e-93\n",
       "95           npr.org         nytimes.com  0.645672   0.0  0.468058   0.0  0.189297  7.303897e-226\n",
       "43      buzzfeed.com  huffingtonpost.com  0.593501   0.0  0.440796   0.0  0.055717   7.584669e-21\n",
       "66   dailycaller.com         thehill.com  0.597465   0.0  0.426649   0.0  0.138389  1.202541e-120\n",
       "54           cnn.com           msnbc.com  0.573168   0.0  0.409234   0.0  0.152077  1.437426e-145\n",
       "31     breitbart.com         foxnews.com  0.564974   0.0  0.404034   0.0  0.090747   1.154157e-52\n",
       "98           npr.org             wsj.com  0.517790   0.0  0.371312   0.0  0.040728   7.736989e-12"
      ]
     },
     "execution_count": 70,
     "metadata": {},
     "output_type": "execute_result"
    }
   ],
   "source": [
    "corr_df.sort_values('kt', ascending=False).head(10)"
   ]
  },
  {
   "cell_type": "code",
   "execution_count": 71,
   "metadata": {},
   "outputs": [],
   "source": [
    "corr_df.to_json('data/hl-graph-lstm-pcorr.json', orient='records', lines=True)"
   ]
  },
  {
   "cell_type": "code",
   "execution_count": null,
   "metadata": {},
   "outputs": [],
   "source": []
  }
 ],
 "metadata": {
  "kernelspec": {
   "display_name": "Python 3",
   "language": "python",
   "name": "python3"
  },
  "language_info": {
   "codemirror_mode": {
    "name": "ipython",
    "version": 3
   },
   "file_extension": ".py",
   "mimetype": "text/x-python",
   "name": "python",
   "nbconvert_exporter": "python",
   "pygments_lexer": "ipython3",
   "version": "3.7.0"
  }
 },
 "nbformat": 4,
 "nbformat_minor": 2
}
