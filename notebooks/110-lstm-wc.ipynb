{
 "cells": [
  {
   "cell_type": "code",
   "execution_count": 37,
   "metadata": {},
   "outputs": [],
   "source": [
    "import warnings\n",
    "import umap\n",
    "import torch\n",
    "\n",
    "import pandas as pd\n",
    "import numpy as np\n",
    "\n",
    "from tqdm import tqdm\n",
    "from sklearn import decomposition, preprocessing\n",
    "from scipy.cluster.hierarchy import dendrogram, linkage, fcluster\n",
    "from collections import Counter\n",
    "from scipy import stats\n",
    "from scipy.spatial import distance\n",
    "from annoy import AnnoyIndex\n",
    "\n",
    "from IPython.display import display, Markdown\n",
    "from torch.nn import functional as F\n",
    "\n",
    "from news_vec.encoder import read_preds"
   ]
  },
  {
   "cell_type": "code",
   "execution_count": 2,
   "metadata": {},
   "outputs": [],
   "source": [
    "import matplotlib as mpl\n",
    "import matplotlib.pyplot as plt\n",
    "import altair as alt\n",
    "import seaborn as sns\n",
    "\n",
    "mpl.style.use('seaborn-muted')\n",
    "sns.set(style=\"whitegrid\")"
   ]
  },
  {
   "cell_type": "code",
   "execution_count": 3,
   "metadata": {},
   "outputs": [],
   "source": [
    "warnings.simplefilter('ignore')\n",
    "alt.data_transformers.enable('default', max_rows=None)\n",
    "pd.options.display.max_rows = 200"
   ]
  },
  {
   "cell_type": "code",
   "execution_count": 77,
   "metadata": {},
   "outputs": [
    {
     "name": "stderr",
     "output_type": "stream",
     "text": [
      "100%|██████████| 283/283 [00:15<00:00, 18.63it/s]\n"
     ]
    }
   ],
   "source": [
    "df, embeds = read_preds('../data/ava-lstm-attn/')"
   ]
  },
  {
   "cell_type": "code",
   "execution_count": 78,
   "metadata": {},
   "outputs": [],
   "source": [
    "df_train = df[df.split=='train']"
   ]
  },
  {
   "cell_type": "code",
   "execution_count": 79,
   "metadata": {},
   "outputs": [],
   "source": [
    "DOMAINS = df.domain.unique()"
   ]
  },
  {
   "cell_type": "code",
   "execution_count": 80,
   "metadata": {},
   "outputs": [
    {
     "data": {
      "text/plain": [
       "array(['breitbart.com', 'cnn.com', 'nytimes.com', 'bloomberg.com',\n",
       "       'dailycaller.com', 'apnews.com', 'buzzfeed.com',\n",
       "       'washingtonpost.com', 'huffingtonpost.com', 'foxnews.com',\n",
       "       'wsj.com', 'npr.org', 'msnbc.com', 'thehill.com', 'dailykos.com'],\n",
       "      dtype=object)"
      ]
     },
     "execution_count": 80,
     "metadata": {},
     "output_type": "execute_result"
    }
   ],
   "source": [
    "DOMAINS"
   ]
  },
  {
   "cell_type": "code",
   "execution_count": 81,
   "metadata": {},
   "outputs": [
    {
     "data": {
      "text/plain": [
       "(282120, 512)"
      ]
     },
     "execution_count": 81,
     "metadata": {},
     "output_type": "execute_result"
    }
   ],
   "source": [
    "embeds.shape"
   ]
  },
  {
   "cell_type": "code",
   "execution_count": 82,
   "metadata": {},
   "outputs": [],
   "source": [
    "df['wc'] = df.clf_tokens.apply(lambda ts: len(ts))"
   ]
  },
  {
   "cell_type": "code",
   "execution_count": 83,
   "metadata": {},
   "outputs": [
    {
     "name": "stderr",
     "output_type": "stream",
     "text": [
      "282120it [00:22, 12641.64it/s]\n"
     ]
    },
    {
     "data": {
      "text/plain": [
       "True"
      ]
     },
     "execution_count": 83,
     "metadata": {},
     "output_type": "execute_result"
    }
   ],
   "source": [
    "idx = AnnoyIndex(embeds.shape[1])\n",
    "\n",
    "for i, v in tqdm(enumerate(embeds)):\n",
    "    idx.add_item(i, v)\n",
    "    \n",
    "idx.build(20)"
   ]
  },
  {
   "cell_type": "code",
   "execution_count": 84,
   "metadata": {},
   "outputs": [],
   "source": [
    "c1 = df_train[(df_train.domain=='foxnews.com')&(df_train.windows.apply(lambda ws: any(np.array(ws) < 10)))]\n",
    "c2 = df_train[(df_train.domain=='foxnews.com')&(df_train.windows.apply(lambda ws: any(np.array(ws) > 80)))]"
   ]
  },
  {
   "cell_type": "code",
   "execution_count": 85,
   "metadata": {},
   "outputs": [],
   "source": [
    "d = embeds[c2.index].mean(0) - embeds[c1.index].mean(0)"
   ]
  },
  {
   "cell_type": "code",
   "execution_count": 86,
   "metadata": {},
   "outputs": [
    {
     "name": "stdout",
     "output_type": "stream",
     "text": [
      "['four', 'missouri', 'children', 'locked', 'in', 'boxes', 'secured', 'with', 'plywood', 'and', 'screws', 'cops', 'say', '#', 'arrested']\n",
      "['nervous', 'dog', 'escapes', 'crate', 'forces', 'emergency', 'landing', 'by', 'tearing', 'inner', 'lining', 'of', 'luggage', 'compartment']\n",
      "['california', 'sikh', 'man', 'heinously', 'attacked', 'while', 'placing', 'road', 'signs', 'for', 'gop', 'congressman', 'police', 'say']\n",
      "['brett', 'kavanaugh', 'vows', 'to', 'keep', 'an', 'open', 'mind', 'in', 'every', 'case', 'after', 'chaotic', 'confirmation', 'hearing', 'day']\n",
      "['teens', 'arrested', 'in', 'massachusetts', 'for', 'allegedly', 'having', 'sex', 'on', 'beach', 'while', 'crowd', 'watched', 'cheered', 'on']\n",
      "['will', 'rosie', 'odonnell', 'be', 'held', 'to', 'same', 'standard', 'as', 'dinesh', 'dsouza', 'after', 'reportedly', 'exceeding', 'donation', 'limit']\n",
      "['tennessee', 'teacher', 's', 'petty', 'note', 'restricting', 'bathroom', 'and', 'nurse', 'breaks', 'goes', 'viral', 'sparks', 'outrage']\n",
      "['high', 'school', 'custodian', 'stole', 'cash', 'from', 'students', 'bags', 'during', 'national', 'school', 'walkout', 'cops', 'say']\n",
      "['steve', 'wynn', 'sues', 'lisa', 'bloom', 'for', 'defamation', 'claiming', 'he', 'could', 'nt', 'have', 'leered', 'at', 'dancers', 'because', 'he', 'was', 'blind']\n",
      "['grand', 'canyon', 'helicopter', 'crash', 'victims', 'identified', 'british', 'tourist', 'dreamed', 'of', 'being', 'veterinary', 'nurse']\n",
      "['massive', 'cyber', 'attack', 'reportedly', 'hits', '#', 'british', 'health', 'facilities', 'causing', 'chaos', 'in', 'emergency', 'rooms']\n",
      "['brave', 'americans', 'coming', 'home', 'as', 'north', 'korea', 'hands', 'over', 'remains', 'roseanne', 'says', 'she', 's', 'not', 'a', 'racist']\n",
      "['hillary', 'clinton', 's', 'fire', 'and', 'fury', 'reading', 'on', 'grammys', 'slammed', 'by', 'nikki', 'haley', 'donald', 'trump', 'jr']\n",
      "['north', 'korea', 'threatens', 'nuclear', 'attack', 'after', 'claiming', 'trump', 'cia', 'director', 'shakes', 'little', 'fists', 'at', 'regime']\n",
      "['hillary', 'clinton', 'calls', 'trump', 'sexual', 'assaulter', 'in', 'bbc', 'interview', 'but', 'says', 'bill', 's', 'behavior', 'in', 'the', 'past']\n",
      "['model', 'scientist', 'susan', 'finkbeiner', 'phd', 'struts', 'london', 'catwalk', 'one', 'day', 'chases', 'butterflies', 'the', 'next']\n",
      "['queen', 'of', 'clean', 'comedian', 'chonda', 'pierce', 'stands', 'up', 'against', 'backlash', 'over', 'her', 'trump', 'inauguration', 'gig']\n",
      "['trump', 'rips', 'comey', 'as', 'untruthful', 'slime', 'ball', 'as', 'former', 'fbi', 'director', 'attacks', 'president', 'in', 'new', 'book']\n",
      "['montana', 'gov', 'steve', 'bullock', 'considering', '#', 'white', 'house', 'bid', 'now', 'says', 'he', 'supports', 'assault', 'weapons', 'ban']\n",
      "['huma', 'abedin', 'cried', 'over', 'fbi', 'investigation', 'into', 'weiner', 'sexting', 'leaked', 'clinton', 'excerpt', 'shows']\n"
     ]
    }
   ],
   "source": [
    "for i in idx.get_nns_by_vector(d, 20):\n",
    "    print(df.iloc[i].clf_tokens)"
   ]
  },
  {
   "cell_type": "code",
   "execution_count": 57,
   "metadata": {},
   "outputs": [
    {
     "data": {
      "text/plain": [
       "<matplotlib.axes._subplots.AxesSubplot at 0x164126588>"
      ]
     },
     "execution_count": 57,
     "metadata": {},
     "output_type": "execute_result"
    },
    {
     "data": {
      "image/png": "[encoded data removed]",
      "text/plain": [
       "<Figure size 720x360 with 1 Axes>"
      ]
     },
     "metadata": {
      "needs_background": "light"
     },
     "output_type": "display_data"
    }
   ],
   "source": [
    "pdf = df[df.domain=='foxnews.com']\n",
    "plt.figure(figsize=(10,5))\n",
    "sns.boxplot(x='window', y='wc', data=pdf)\n",
    "# plt.scatter(pdf.window, pdf.wc, s=1)"
   ]
  },
  {
   "cell_type": "code",
   "execution_count": null,
   "metadata": {},
   "outputs": [],
   "source": []
  }
 ],
 "metadata": {
  "kernelspec": {
   "display_name": "Python 3",
   "language": "python",
   "name": "python3"
  },
  "language_info": {
   "codemirror_mode": {
    "name": "ipython",
    "version": 3
   },
   "file_extension": ".py",
   "mimetype": "text/x-python",
   "name": "python",
   "nbconvert_exporter": "python",
   "pygments_lexer": "ipython3",
   "version": "3.7.0"
  }
 },
 "nbformat": 4,
 "nbformat_minor": 2
}
