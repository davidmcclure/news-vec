{
 "cells": [
  {
   "cell_type": "code",
   "execution_count": 1,
   "metadata": {},
   "outputs": [],
   "source": [
    "import pickle\n",
    "import warnings\n",
    "import random\n",
    "import torch\n",
    "\n",
    "import numpy as np\n",
    "import pandas as pd\n",
    "\n",
    "from tqdm import tqdm\n",
    "from glob import glob\n",
    "from collections import OrderedDict\n",
    "from scipy.spatial import distance\n",
    "from scipy import stats\n",
    "from sklearn import decomposition\n",
    "\n",
    "from torch.nn import functional as F"
   ]
  },
  {
   "cell_type": "code",
   "execution_count": 2,
   "metadata": {},
   "outputs": [],
   "source": [
    "import matplotlib as mpl\n",
    "import matplotlib.pyplot as plt\n",
    "import altair as alt\n",
    "import seaborn as sns\n",
    "\n",
    "mpl.style.use('seaborn-muted')\n",
    "sns.set(style=\"whitegrid\")\n",
    "\n",
    "%matplotlib inline"
   ]
  },
  {
   "cell_type": "code",
   "execution_count": 3,
   "metadata": {},
   "outputs": [],
   "source": [
    "warnings.simplefilter('ignore')\n",
    "alt.data_transformers.enable('default', max_rows=None)\n",
    "pd.options.display.max_rows = 200"
   ]
  },
  {
   "cell_type": "code",
   "execution_count": 4,
   "metadata": {},
   "outputs": [
    {
     "name": "stderr",
     "output_type": "stream",
     "text": [
      "100%|██████████| 99/99 [00:35<00:00,  2.83it/s]\n"
     ]
    }
   ],
   "source": [
    "embeds, rows = [], []\n",
    "\n",
    "for path in tqdm(glob('../data/b13-embeds/*.p')):\n",
    "    with open(path, 'rb') as fh:\n",
    "        \n",
    "        lines = pickle.load(fh)\n",
    "\n",
    "        for line in lines:\n",
    "            title = ' '.join(line.pop('tokens'))\n",
    "            embeds.append(line.pop('embedding'))\n",
    "            rows.append(OrderedDict(title=title, **line))"
   ]
  },
  {
   "cell_type": "code",
   "execution_count": 5,
   "metadata": {},
   "outputs": [],
   "source": [
    "embeds = np.stack(embeds)"
   ]
  },
  {
   "cell_type": "code",
   "execution_count": 6,
   "metadata": {},
   "outputs": [],
   "source": [
    "df = pd.DataFrame(rows)"
   ]
  },
  {
   "cell_type": "code",
   "execution_count": 7,
   "metadata": {},
   "outputs": [
    {
     "data": {
      "text/plain": [
       "array(['dailycaller.com', 'thehill.com', 'bloomberg.com', 'breitbart.com',\n",
       "       'buzzfeed.com', 'cnn.com', 'nytimes.com', 'apnews.com',\n",
       "       'huffingtonpost.com', 'washingtonpost.com', 'wsj.com',\n",
       "       'foxnews.com', 'dailykos.com'], dtype=object)"
      ]
     },
     "execution_count": 7,
     "metadata": {},
     "output_type": "execute_result"
    }
   ],
   "source": [
    "df.label.unique()"
   ]
  },
  {
   "cell_type": "code",
   "execution_count": 8,
   "metadata": {},
   "outputs": [
    {
     "data": {
      "text/plain": [
       "(982833, 512)"
      ]
     },
     "execution_count": 8,
     "metadata": {},
     "output_type": "execute_result"
    }
   ],
   "source": [
    "embeds.shape"
   ]
  },
  {
   "cell_type": "code",
   "execution_count": 35,
   "metadata": {},
   "outputs": [],
   "source": [
    "center = embeds.mean(0)"
   ]
  },
  {
   "cell_type": "code",
   "execution_count": 48,
   "metadata": {},
   "outputs": [],
   "source": [
    "def ds_from_center(domain, metric):\n",
    "    \n",
    "    ds = []\n",
    "    for v in embeds[df[df.label==domain].index]:\n",
    "        ds.append(metric(center, v))\n",
    "        \n",
    "    return ds"
   ]
  },
  {
   "cell_type": "code",
   "execution_count": 49,
   "metadata": {},
   "outputs": [],
   "source": [
    "domains = df.label.unique()"
   ]
  },
  {
   "cell_type": "code",
   "execution_count": 64,
   "metadata": {},
   "outputs": [],
   "source": [
    "def plot_step_hist(ds):\n",
    "    \n",
    "    plt.figure(figsize=(15,10))\n",
    "\n",
    "    ys, x, _ = plt.hist(\n",
    "        ds.values(),\n",
    "        label=ds.keys(),\n",
    "        histtype='step',\n",
    "        bins=100,\n",
    "        linewidth=2,\n",
    "    )\n",
    "\n",
    "    plt.legend(loc='upper right')\n",
    "    \n",
    "    return x, ys"
   ]
  },
  {
   "cell_type": "code",
   "execution_count": 66,
   "metadata": {},
   "outputs": [],
   "source": [
    "def plot_step_hist_interactive(x, ys):\n",
    "\n",
    "    rows = []\n",
    "    for y, domain in zip(ys, ds.keys()):\n",
    "        for d, count in zip(x[:-1], y):\n",
    "            rows.append((domain, d, count))\n",
    "\n",
    "    hist_df = pd.DataFrame(rows, columns=('domain', 'd', 'count'))\n",
    "    \n",
    "    highlight = alt.selection(\n",
    "        type='single',\n",
    "        on='mouseover',\n",
    "        fields=['domain'],\n",
    "        nearest=True,\n",
    "    )\n",
    "\n",
    "    base = (alt\n",
    "        .Chart(hist_df, width=700, height=500)\n",
    "        .encode(x=alt.X('d', scale=alt.Scale(zero=False)), y='count', color='domain'))\n",
    "\n",
    "    points = (base\n",
    "        .mark_circle()\n",
    "        .encode(opacity=alt.value(0))\n",
    "        .add_selection(highlight)\n",
    "        .properties(width=600))\n",
    "\n",
    "    lines = (base\n",
    "        .mark_line()\n",
    "        .encode(size=alt.condition(~highlight, alt.value(2), alt.value(5)), tooltip='domain'))\n",
    "\n",
    "    return points + lines"
   ]
  },
  {
   "cell_type": "code",
   "execution_count": 68,
   "metadata": {},
   "outputs": [],
   "source": [
    "def plot_ds_violin(ds):\n",
    "\n",
    "    rows = []\n",
    "    for domain, dds in ds.items():\n",
    "        for d in dds:\n",
    "            rows.append((domain, d))\n",
    "            \n",
    "    ds_df = pd.DataFrame(rows, columns=('domain', 'd'))\n",
    "    \n",
    "    order = ds_df.groupby('domain').mean().sort_values('d', ascending=False).index\n",
    "    plt.figure(figsize=(5,10))\n",
    "    sns.violinplot(y='domain', x='d', data=ds_df.sample(frac=0.01), order=order)"
   ]
  },
  {
   "cell_type": "code",
   "execution_count": 76,
   "metadata": {},
   "outputs": [
    {
     "name": "stderr",
     "output_type": "stream",
     "text": [
      "100%|██████████| 13/13 [00:54<00:00,  4.20s/it]\n"
     ]
    }
   ],
   "source": [
    "ds = {\n",
    "    d: ds_from_center(d, distance.cosine)\n",
    "    for d in tqdm(domains)\n",
    "}"
   ]
  },
  {
   "cell_type": "code",
   "execution_count": 77,
   "metadata": {},
   "outputs": [
    {
     "data": {
      "image/png": "[encoded data removed]",
      "text/plain": [
       "<Figure size 1080x720 with 1 Axes>"
      ]
     },
     "metadata": {
      "needs_background": "light"
     },
     "output_type": "display_data"
    }
   ],
   "source": [
    "x, ys = plot_step_hist(ds)"
   ]
  },
  {
   "cell_type": "code",
   "execution_count": 67,
   "metadata": {},
   "outputs": [
    {
     "data": {
      "application/vnd.vegalite.v2+json": {
       "$schema": "https://vega.github.io/schema/vega-lite/v2.6.0.json",
       "config": {
        "view": {
         "height": 300,
         "width": 400
        }
       },
       "datasets": {
        "data-e4815c8d3175755727be816f792b2afb": [
         {
          "count": 0,
          "d": 0.058818697929382324,
          "domain": "dailycaller.com"
         },
         {
          "count": 1,
          "d": 0.07386048614978791,
          "domain": "dailycaller.com"
         },
         {
          "count": 0,
          "d": 0.08890227437019348,
          "domain": "dailycaller.com"
         },
         {
          "count": 1,
          "d": 0.10394406259059906,
          "domain": "dailycaller.com"
         },
         {
          "count": 3,
          "d": 0.11898585081100463,
          "domain": "dailycaller.com"
         },
         {
          "count": 5,
          "d": 0.1340276390314102,
          "domain": "dailycaller.com"
         },
         {
          "count": 3,
          "d": 0.1490694272518158,
          "domain": "dailycaller.com"
         },
         {
          "count": 13,
          "d": 0.16411121547222135,
          "domain": "dailycaller.com"
         },
         {
          "count": 30,
          "d": 0.17915300369262693,
          "domain": "dailycaller.com"
         },
         {
          "count": 32,
          "d": 0.19419479191303252,
          "domain": "dailycaller.com"
         },
         {
          "count": 43,
          "d": 0.2092365801334381,
          "domain": "dailycaller.com"
         },
         {
          "count": 58,
          "d": 0.22427836835384368,
          "domain": "dailycaller.com"
         },
         {
          "count": 91,
          "d": 0.23932015657424927,
          "domain": "dailycaller.com"
         },
         {
          "count": 102,
          "d": 0.25436194479465485,
          "domain": "dailycaller.com"
         },
         {
          "count": 133,
          "d": 0.2694037330150604,
          "domain": "dailycaller.com"
         },
         {
          "count": 129,
          "d": 0.28444552123546596,
          "domain": "dailycaller.com"
         },
         {
          "count": 205,
          "d": 0.29948730945587154,
          "domain": "dailycaller.com"
         },
         {
          "count": 228,
          "d": 0.3145290976762771,
          "domain": "dailycaller.com"
         },
         {
          "count": 254,
          "d": 0.3295708858966827,
          "domain": "dailycaller.com"
         },
         {
          "count": 337,
          "d": 0.3446126741170883,
          "domain": "dailycaller.com"
         },
         {
          "count": 348,
          "d": 0.3596544623374939,
          "domain": "dailycaller.com"
         },
         {
          "count": 424,
          "d": 0.37469625055789946,
          "domain": "dailycaller.com"
         },
         {
          "count": 478,
          "d": 0.38973803877830504,
          "domain": "dailycaller.com"
         },
         {
          "count": 594,
          "d": 0.4047798269987106,
          "domain": "dailycaller.com"
         },
         {
          "count": 664,
          "d": 0.4198216152191162,
          "domain": "dailycaller.com"
         },
         {
          "count": 695,
          "d": 0.4348634034395218,
          "domain": "dailycaller.com"
         },
         {
          "count": 791,
          "d": 0.4499051916599274,
          "domain": "dailycaller.com"
         },
         {
          "count": 856,
          "d": 0.4649469798803329,
          "domain": "dailycaller.com"
         },
         {
          "count": 1002,
          "d": 0.4799887681007385,
          "domain": "dailycaller.com"
         },
         {
          "count": 1125,
          "d": 0.49503055632114407,
          "domain": "dailycaller.com"
         },
         {
          "count": 1156,
          "d": 0.5100723445415496,
          "domain": "dailycaller.com"
         },
         {
          "count": 1328,
          "d": 0.5251141327619553,
          "domain": "dailycaller.com"
         },
         {
          "count": 1486,
          "d": 0.5401559209823608,
          "domain": "dailycaller.com"
         },
         {
          "count": 1609,
          "d": 0.5551977092027665,
          "domain": "dailycaller.com"
         },
         {
          "count": 1724,
          "d": 0.5702394974231719,
          "domain": "dailycaller.com"
         },
         {
          "count": 1797,
          "d": 0.5852812856435775,
          "domain": "dailycaller.com"
         },
         {
          "count": 1982,
          "d": 0.6003230738639831,
          "domain": "dailycaller.com"
         },
         {
          "count": 2149,
          "d": 0.6153648620843887,
          "domain": "dailycaller.com"
         },
         {
          "count": 2187,
          "d": 0.6304066503047943,
          "domain": "dailycaller.com"
         },
         {
          "count": 2257,
          "d": 0.6454484385251998,
          "domain": "dailycaller.com"
         },
         {
          "count": 2355,
          "d": 0.6604902267456054,
          "domain": "dailycaller.com"
         },
         {
          "count": 2481,
          "d": 0.675532014966011,
          "domain": "dailycaller.com"
         },
         {
          "count": 2468,
          "d": 0.6905738031864166,
          "domain": "dailycaller.com"
         },
         {
          "count": 2444,
          "d": 0.7056155914068222,
          "domain": "dailycaller.com"
         },
         {
          "count": 2552,
          "d": 0.7206573796272278,
          "domain": "dailycaller.com"
         },
         {
          "count": 2469,
          "d": 0.7356991678476333,
          "domain": "dailycaller.com"
         },
         {
          "count": 2365,
          "d": 0.7507409560680389,
          "domain": "dailycaller.com"
         },
         {
          "count": 2356,
          "d": 0.7657827442884445,
          "domain": "dailycaller.com"
         },
         {
          "count": 2269,
          "d": 0.7808245325088501,
          "domain": "dailycaller.com"
         },
         {
          "count": 2144,
          "d": 0.7958663207292557,
          "domain": "dailycaller.com"
         },
         {
          "count": 1966,
          "d": 0.8109081089496613,
          "domain": "dailycaller.com"
         },
         {
          "count": 2022,
          "d": 0.8259498971700668,
          "domain": "dailycaller.com"
         },
         {
          "count": 1903,
          "d": 0.8409916853904724,
          "domain": "dailycaller.com"
         },
         {
          "count": 1773,
          "d": 0.856033473610878,
          "domain": "dailycaller.com"
         },
         {
          "count": 1704,
          "d": 0.8710752618312835,
          "domain": "dailycaller.com"
         },
         {
          "count": 1638,
          "d": 0.8861170500516891,
          "domain": "dailycaller.com"
         },
         {
          "count": 1559,
          "d": 0.9011588382720946,
          "domain": "dailycaller.com"
         },
         {
          "count": 1375,
          "d": 0.9162006264925002,
          "domain": "dailycaller.com"
         },
         {
          "count": 1327,
          "d": 0.9312424147129058,
          "domain": "dailycaller.com"
         },
         {
          "count": 1257,
          "d": 0.9462842029333114,
          "domain": "dailycaller.com"
         },
         {
          "count": 1075,
          "d": 0.961325991153717,
          "domain": "dailycaller.com"
         },
         {
          "count": 964,
          "d": 0.9763677793741226,
          "domain": "dailycaller.com"
         },
         {
          "count": 908,
          "d": 0.9914095675945281,
          "domain": "dailycaller.com"
         },
         {
          "count": 931,
          "d": 1.0064513558149337,
          "domain": "dailycaller.com"
         },
         {
          "count": 807,
          "d": 1.0214931440353392,
          "domain": "dailycaller.com"
         },
         {
          "count": 640,
          "d": 1.036534932255745,
          "domain": "dailycaller.com"
         },
         {
          "count": 565,
          "d": 1.0515767204761506,
          "domain": "dailycaller.com"
         },
         {
          "count": 511,
          "d": 1.066618508696556,
          "domain": "dailycaller.com"
         },
         {
          "count": 404,
          "d": 1.0816602969169615,
          "domain": "dailycaller.com"
         },
         {
          "count": 353,
          "d": 1.0967020851373672,
          "domain": "dailycaller.com"
         },
         {
          "count": 290,
          "d": 1.1117438733577727,
          "domain": "dailycaller.com"
         },
         {
          "count": 247,
          "d": 1.1267856615781784,
          "domain": "dailycaller.com"
         },
         {
          "count": 216,
          "d": 1.1418274497985839,
          "domain": "dailycaller.com"
         },
         {
          "count": 166,
          "d": 1.1568692380189896,
          "domain": "dailycaller.com"
         },
         {
          "count": 147,
          "d": 1.171911026239395,
          "domain": "dailycaller.com"
         },
         {
          "count": 123,
          "d": 1.1869528144598007,
          "domain": "dailycaller.com"
         },
         {
          "count": 92,
          "d": 1.2019946026802062,
          "domain": "dailycaller.com"
         },
         {
          "count": 85,
          "d": 1.2170363909006119,
          "domain": "dailycaller.com"
         },
         {
          "count": 80,
          "d": 1.2320781791210174,
          "domain": "dailycaller.com"
         },
         {
          "count": 49,
          "d": 1.247119967341423,
          "domain": "dailycaller.com"
         },
         {
          "count": 40,
          "d": 1.2621617555618285,
          "domain": "dailycaller.com"
         },
         {
          "count": 34,
          "d": 1.2772035437822342,
          "domain": "dailycaller.com"
         },
         {
          "count": 25,
          "d": 1.2922453320026397,
          "domain": "dailycaller.com"
         },
         {
          "count": 26,
          "d": 1.3072871202230454,
          "domain": "dailycaller.com"
         },
         {
          "count": 15,
          "d": 1.3223289084434509,
          "domain": "dailycaller.com"
         },
         {
          "count": 14,
          "d": 1.3373706966638566,
          "domain": "dailycaller.com"
         },
         {
          "count": 4,
          "d": 1.352412484884262,
          "domain": "dailycaller.com"
         },
         {
          "count": 8,
          "d": 1.3674542731046675,
          "domain": "dailycaller.com"
         },
         {
          "count": 7,
          "d": 1.3824960613250732,
          "domain": "dailycaller.com"
         },
         {
          "count": 3,
          "d": 1.3975378495454787,
          "domain": "dailycaller.com"
         },
         {
          "count": 2,
          "d": 1.4125796377658844,
          "domain": "dailycaller.com"
         },
         {
          "count": 4,
          "d": 1.4276214259862898,
          "domain": "dailycaller.com"
         },
         {
          "count": 0,
          "d": 1.4426632142066955,
          "domain": "dailycaller.com"
         },
         {
          "count": 0,
          "d": 1.457705002427101,
          "domain": "dailycaller.com"
         },
         {
          "count": 0,
          "d": 1.4727467906475067,
          "domain": "dailycaller.com"
         },
         {
          "count": 0,
          "d": 1.4877885788679122,
          "domain": "dailycaller.com"
         },
         {
          "count": 0,
          "d": 1.5028303670883179,
          "domain": "dailycaller.com"
         },
         {
          "count": 0,
          "d": 1.5178721553087233,
          "domain": "dailycaller.com"
         },
         {
          "count": 2,
          "d": 1.532913943529129,
          "domain": "dailycaller.com"
         },
         {
          "count": 0,
          "d": 1.5479557317495345,
          "domain": "dailycaller.com"
         },
         {
          "count": 0,
          "d": 0.058818697929382324,
          "domain": "thehill.com"
         },
         {
          "count": 0,
          "d": 0.07386048614978791,
          "domain": "thehill.com"
         },
         {
          "count": 0,
          "d": 0.08890227437019348,
          "domain": "thehill.com"
         },
         {
          "count": 0,
          "d": 0.10394406259059906,
          "domain": "thehill.com"
         },
         {
          "count": 1,
          "d": 0.11898585081100463,
          "domain": "thehill.com"
         },
         {
          "count": 1,
          "d": 0.1340276390314102,
          "domain": "thehill.com"
         },
         {
          "count": 4,
          "d": 0.1490694272518158,
          "domain": "thehill.com"
         },
         {
          "count": 4,
          "d": 0.16411121547222135,
          "domain": "thehill.com"
         },
         {
          "count": 5,
          "d": 0.17915300369262693,
          "domain": "thehill.com"
         },
         {
          "count": 12,
          "d": 0.19419479191303252,
          "domain": "thehill.com"
         },
         {
          "count": 16,
          "d": 0.2092365801334381,
          "domain": "thehill.com"
         },
         {
          "count": 25,
          "d": 0.22427836835384368,
          "domain": "thehill.com"
         },
         {
          "count": 37,
          "d": 0.23932015657424927,
          "domain": "thehill.com"
         },
         {
          "count": 50,
          "d": 0.25436194479465485,
          "domain": "thehill.com"
         },
         {
          "count": 61,
          "d": 0.2694037330150604,
          "domain": "thehill.com"
         },
         {
          "count": 85,
          "d": 0.28444552123546596,
          "domain": "thehill.com"
         },
         {
          "count": 107,
          "d": 0.29948730945587154,
          "domain": "thehill.com"
         },
         {
          "count": 108,
          "d": 0.3145290976762771,
          "domain": "thehill.com"
         },
         {
          "count": 139,
          "d": 0.3295708858966827,
          "domain": "thehill.com"
         },
         {
          "count": 188,
          "d": 0.3446126741170883,
          "domain": "thehill.com"
         },
         {
          "count": 201,
          "d": 0.3596544623374939,
          "domain": "thehill.com"
         },
         {
          "count": 248,
          "d": 0.37469625055789946,
          "domain": "thehill.com"
         },
         {
          "count": 271,
          "d": 0.38973803877830504,
          "domain": "thehill.com"
         },
         {
          "count": 327,
          "d": 0.4047798269987106,
          "domain": "thehill.com"
         },
         {
          "count": 390,
          "d": 0.4198216152191162,
          "domain": "thehill.com"
         },
         {
          "count": 418,
          "d": 0.4348634034395218,
          "domain": "thehill.com"
         },
         {
          "count": 546,
          "d": 0.4499051916599274,
          "domain": "thehill.com"
         },
         {
          "count": 597,
          "d": 0.4649469798803329,
          "domain": "thehill.com"
         },
         {
          "count": 651,
          "d": 0.4799887681007385,
          "domain": "thehill.com"
         },
         {
          "count": 757,
          "d": 0.49503055632114407,
          "domain": "thehill.com"
         },
         {
          "count": 830,
          "d": 0.5100723445415496,
          "domain": "thehill.com"
         },
         {
          "count": 923,
          "d": 0.5251141327619553,
          "domain": "thehill.com"
         },
         {
          "count": 945,
          "d": 0.5401559209823608,
          "domain": "thehill.com"
         },
         {
          "count": 1038,
          "d": 0.5551977092027665,
          "domain": "thehill.com"
         },
         {
          "count": 1185,
          "d": 0.5702394974231719,
          "domain": "thehill.com"
         },
         {
          "count": 1301,
          "d": 0.5852812856435775,
          "domain": "thehill.com"
         },
         {
          "count": 1339,
          "d": 0.6003230738639831,
          "domain": "thehill.com"
         },
         {
          "count": 1534,
          "d": 0.6153648620843887,
          "domain": "thehill.com"
         },
         {
          "count": 1560,
          "d": 0.6304066503047943,
          "domain": "thehill.com"
         },
         {
          "count": 1720,
          "d": 0.6454484385251998,
          "domain": "thehill.com"
         },
         {
          "count": 1782,
          "d": 0.6604902267456054,
          "domain": "thehill.com"
         },
         {
          "count": 1791,
          "d": 0.675532014966011,
          "domain": "thehill.com"
         },
         {
          "count": 1899,
          "d": 0.6905738031864166,
          "domain": "thehill.com"
         },
         {
          "count": 2008,
          "d": 0.7056155914068222,
          "domain": "thehill.com"
         },
         {
          "count": 2020,
          "d": 0.7206573796272278,
          "domain": "thehill.com"
         },
         {
          "count": 1990,
          "d": 0.7356991678476333,
          "domain": "thehill.com"
         },
         {
          "count": 2152,
          "d": 0.7507409560680389,
          "domain": "thehill.com"
         },
         {
          "count": 2167,
          "d": 0.7657827442884445,
          "domain": "thehill.com"
         },
         {
          "count": 2246,
          "d": 0.7808245325088501,
          "domain": "thehill.com"
         },
         {
          "count": 2245,
          "d": 0.7958663207292557,
          "domain": "thehill.com"
         },
         {
          "count": 2192,
          "d": 0.8109081089496613,
          "domain": "thehill.com"
         },
         {
          "count": 2269,
          "d": 0.8259498971700668,
          "domain": "thehill.com"
         },
         {
          "count": 2323,
          "d": 0.8409916853904724,
          "domain": "thehill.com"
         },
         {
          "count": 2249,
          "d": 0.856033473610878,
          "domain": "thehill.com"
         },
         {
          "count": 2305,
          "d": 0.8710752618312835,
          "domain": "thehill.com"
         },
         {
          "count": 2294,
          "d": 0.8861170500516891,
          "domain": "thehill.com"
         },
         {
          "count": 2220,
          "d": 0.9011588382720946,
          "domain": "thehill.com"
         },
         {
          "count": 2158,
          "d": 0.9162006264925002,
          "domain": "thehill.com"
         },
         {
          "count": 2126,
          "d": 0.9312424147129058,
          "domain": "thehill.com"
         },
         {
          "count": 1947,
          "d": 0.9462842029333114,
          "domain": "thehill.com"
         },
         {
          "count": 1828,
          "d": 0.961325991153717,
          "domain": "thehill.com"
         },
         {
          "count": 1780,
          "d": 0.9763677793741226,
          "domain": "thehill.com"
         },
         {
          "count": 1637,
          "d": 0.9914095675945281,
          "domain": "thehill.com"
         },
         {
          "count": 1550,
          "d": 1.0064513558149337,
          "domain": "thehill.com"
         },
         {
          "count": 1346,
          "d": 1.0214931440353392,
          "domain": "thehill.com"
         },
         {
          "count": 1220,
          "d": 1.036534932255745,
          "domain": "thehill.com"
         },
         {
          "count": 1025,
          "d": 1.0515767204761506,
          "domain": "thehill.com"
         },
         {
          "count": 1031,
          "d": 1.066618508696556,
          "domain": "thehill.com"
         },
         {
          "count": 760,
          "d": 1.0816602969169615,
          "domain": "thehill.com"
         },
         {
          "count": 628,
          "d": 1.0967020851373672,
          "domain": "thehill.com"
         },
         {
          "count": 569,
          "d": 1.1117438733577727,
          "domain": "thehill.com"
         },
         {
          "count": 460,
          "d": 1.1267856615781784,
          "domain": "thehill.com"
         },
         {
          "count": 382,
          "d": 1.1418274497985839,
          "domain": "thehill.com"
         },
         {
          "count": 298,
          "d": 1.1568692380189896,
          "domain": "thehill.com"
         },
         {
          "count": 232,
          "d": 1.171911026239395,
          "domain": "thehill.com"
         },
         {
          "count": 180,
          "d": 1.1869528144598007,
          "domain": "thehill.com"
         },
         {
          "count": 143,
          "d": 1.2019946026802062,
          "domain": "thehill.com"
         },
         {
          "count": 132,
          "d": 1.2170363909006119,
          "domain": "thehill.com"
         },
         {
          "count": 113,
          "d": 1.2320781791210174,
          "domain": "thehill.com"
         },
         {
          "count": 75,
          "d": 1.247119967341423,
          "domain": "thehill.com"
         },
         {
          "count": 58,
          "d": 1.2621617555618285,
          "domain": "thehill.com"
         },
         {
          "count": 54,
          "d": 1.2772035437822342,
          "domain": "thehill.com"
         },
         {
          "count": 31,
          "d": 1.2922453320026397,
          "domain": "thehill.com"
         },
         {
          "count": 29,
          "d": 1.3072871202230454,
          "domain": "thehill.com"
         },
         {
          "count": 20,
          "d": 1.3223289084434509,
          "domain": "thehill.com"
         },
         {
          "count": 10,
          "d": 1.3373706966638566,
          "domain": "thehill.com"
         },
         {
          "count": 9,
          "d": 1.352412484884262,
          "domain": "thehill.com"
         },
         {
          "count": 9,
          "d": 1.3674542731046675,
          "domain": "thehill.com"
         },
         {
          "count": 6,
          "d": 1.3824960613250732,
          "domain": "thehill.com"
         },
         {
          "count": 5,
          "d": 1.3975378495454787,
          "domain": "thehill.com"
         },
         {
          "count": 1,
          "d": 1.4125796377658844,
          "domain": "thehill.com"
         },
         {
          "count": 3,
          "d": 1.4276214259862898,
          "domain": "thehill.com"
         },
         {
          "count": 1,
          "d": 1.4426632142066955,
          "domain": "thehill.com"
         },
         {
          "count": 1,
          "d": 1.457705002427101,
          "domain": "thehill.com"
         },
         {
          "count": 0,
          "d": 1.4727467906475067,
          "domain": "thehill.com"
         },
         {
          "count": 0,
          "d": 1.4877885788679122,
          "domain": "thehill.com"
         },
         {
          "count": 0,
          "d": 1.5028303670883179,
          "domain": "thehill.com"
         },
         {
          "count": 0,
          "d": 1.5178721553087233,
          "domain": "thehill.com"
         },
         {
          "count": 0,
          "d": 1.532913943529129,
          "domain": "thehill.com"
         },
         {
          "count": 1,
          "d": 1.5479557317495345,
          "domain": "thehill.com"
         },
         {
          "count": 0,
          "d": 0.058818697929382324,
          "domain": "bloomberg.com"
         },
         {
          "count": 0,
          "d": 0.07386048614978791,
          "domain": "bloomberg.com"
         },
         {
          "count": 0,
          "d": 0.08890227437019348,
          "domain": "bloomberg.com"
         },
         {
          "count": 1,
          "d": 0.10394406259059906,
          "domain": "bloomberg.com"
         },
         {
          "count": 1,
          "d": 0.11898585081100463,
          "domain": "bloomberg.com"
         },
         {
          "count": 3,
          "d": 0.1340276390314102,
          "domain": "bloomberg.com"
         },
         {
          "count": 2,
          "d": 0.1490694272518158,
          "domain": "bloomberg.com"
         },
         {
          "count": 5,
          "d": 0.16411121547222135,
          "domain": "bloomberg.com"
         },
         {
          "count": 4,
          "d": 0.17915300369262693,
          "domain": "bloomberg.com"
         },
         {
          "count": 3,
          "d": 0.19419479191303252,
          "domain": "bloomberg.com"
         },
         {
          "count": 10,
          "d": 0.2092365801334381,
          "domain": "bloomberg.com"
         },
         {
          "count": 13,
          "d": 0.22427836835384368,
          "domain": "bloomberg.com"
         },
         {
          "count": 13,
          "d": 0.23932015657424927,
          "domain": "bloomberg.com"
         },
         {
          "count": 27,
          "d": 0.25436194479465485,
          "domain": "bloomberg.com"
         },
         {
          "count": 36,
          "d": 0.2694037330150604,
          "domain": "bloomberg.com"
         },
         {
          "count": 47,
          "d": 0.28444552123546596,
          "domain": "bloomberg.com"
         },
         {
          "count": 68,
          "d": 0.29948730945587154,
          "domain": "bloomberg.com"
         },
         {
          "count": 71,
          "d": 0.3145290976762771,
          "domain": "bloomberg.com"
         },
         {
          "count": 89,
          "d": 0.3295708858966827,
          "domain": "bloomberg.com"
         },
         {
          "count": 125,
          "d": 0.3446126741170883,
          "domain": "bloomberg.com"
         },
         {
          "count": 143,
          "d": 0.3596544623374939,
          "domain": "bloomberg.com"
         },
         {
          "count": 153,
          "d": 0.37469625055789946,
          "domain": "bloomberg.com"
         },
         {
          "count": 168,
          "d": 0.38973803877830504,
          "domain": "bloomberg.com"
         },
         {
          "count": 215,
          "d": 0.4047798269987106,
          "domain": "bloomberg.com"
         },
         {
          "count": 279,
          "d": 0.4198216152191162,
          "domain": "bloomberg.com"
         },
         {
          "count": 311,
          "d": 0.4348634034395218,
          "domain": "bloomberg.com"
         },
         {
          "count": 377,
          "d": 0.4499051916599274,
          "domain": "bloomberg.com"
         },
         {
          "count": 443,
          "d": 0.4649469798803329,
          "domain": "bloomberg.com"
         },
         {
          "count": 505,
          "d": 0.4799887681007385,
          "domain": "bloomberg.com"
         },
         {
          "count": 577,
          "d": 0.49503055632114407,
          "domain": "bloomberg.com"
         },
         {
          "count": 653,
          "d": 0.5100723445415496,
          "domain": "bloomberg.com"
         },
         {
          "count": 734,
          "d": 0.5251141327619553,
          "domain": "bloomberg.com"
         },
         {
          "count": 815,
          "d": 0.5401559209823608,
          "domain": "bloomberg.com"
         },
         {
          "count": 889,
          "d": 0.5551977092027665,
          "domain": "bloomberg.com"
         },
         {
          "count": 1023,
          "d": 0.5702394974231719,
          "domain": "bloomberg.com"
         },
         {
          "count": 1138,
          "d": 0.5852812856435775,
          "domain": "bloomberg.com"
         },
         {
          "count": 1206,
          "d": 0.6003230738639831,
          "domain": "bloomberg.com"
         },
         {
          "count": 1418,
          "d": 0.6153648620843887,
          "domain": "bloomberg.com"
         },
         {
          "count": 1502,
          "d": 0.6304066503047943,
          "domain": "bloomberg.com"
         },
         {
          "count": 1597,
          "d": 0.6454484385251998,
          "domain": "bloomberg.com"
         },
         {
          "count": 1635,
          "d": 0.6604902267456054,
          "domain": "bloomberg.com"
         },
         {
          "count": 1845,
          "d": 0.675532014966011,
          "domain": "bloomberg.com"
         },
         {
          "count": 1919,
          "d": 0.6905738031864166,
          "domain": "bloomberg.com"
         },
         {
          "count": 1997,
          "d": 0.7056155914068222,
          "domain": "bloomberg.com"
         },
         {
          "count": 2125,
          "d": 0.7206573796272278,
          "domain": "bloomberg.com"
         },
         {
          "count": 2198,
          "d": 0.7356991678476333,
          "domain": "bloomberg.com"
         },
         {
          "count": 2535,
          "d": 0.7507409560680389,
          "domain": "bloomberg.com"
         },
         {
          "count": 2433,
          "d": 0.7657827442884445,
          "domain": "bloomberg.com"
         },
         {
          "count": 2607,
          "d": 0.7808245325088501,
          "domain": "bloomberg.com"
         },
         {
          "count": 2705,
          "d": 0.7958663207292557,
          "domain": "bloomberg.com"
         },
         {
          "count": 3162,
          "d": 0.8109081089496613,
          "domain": "bloomberg.com"
         },
         {
          "count": 2808,
          "d": 0.8259498971700668,
          "domain": "bloomberg.com"
         },
         {
          "count": 2864,
          "d": 0.8409916853904724,
          "domain": "bloomberg.com"
         },
         {
          "count": 2820,
          "d": 0.856033473610878,
          "domain": "bloomberg.com"
         },
         {
          "count": 2832,
          "d": 0.8710752618312835,
          "domain": "bloomberg.com"
         },
         {
          "count": 2596,
          "d": 0.8861170500516891,
          "domain": "bloomberg.com"
         },
         {
          "count": 2493,
          "d": 0.9011588382720946,
          "domain": "bloomberg.com"
         },
         {
          "count": 2394,
          "d": 0.9162006264925002,
          "domain": "bloomberg.com"
         },
         {
          "count": 2428,
          "d": 0.9312424147129058,
          "domain": "bloomberg.com"
         },
         {
          "count": 2152,
          "d": 0.9462842029333114,
          "domain": "bloomberg.com"
         },
         {
          "count": 1847,
          "d": 0.961325991153717,
          "domain": "bloomberg.com"
         },
         {
          "count": 1722,
          "d": 0.9763677793741226,
          "domain": "bloomberg.com"
         },
         {
          "count": 1558,
          "d": 0.9914095675945281,
          "domain": "bloomberg.com"
         },
         {
          "count": 1319,
          "d": 1.0064513558149337,
          "domain": "bloomberg.com"
         },
         {
          "count": 1110,
          "d": 1.0214931440353392,
          "domain": "bloomberg.com"
         },
         {
          "count": 909,
          "d": 1.036534932255745,
          "domain": "bloomberg.com"
         },
         {
          "count": 780,
          "d": 1.0515767204761506,
          "domain": "bloomberg.com"
         },
         {
          "count": 670,
          "d": 1.066618508696556,
          "domain": "bloomberg.com"
         },
         {
          "count": 525,
          "d": 1.0816602969169615,
          "domain": "bloomberg.com"
         },
         {
          "count": 418,
          "d": 1.0967020851373672,
          "domain": "bloomberg.com"
         },
         {
          "count": 347,
          "d": 1.1117438733577727,
          "domain": "bloomberg.com"
         },
         {
          "count": 287,
          "d": 1.1267856615781784,
          "domain": "bloomberg.com"
         },
         {
          "count": 214,
          "d": 1.1418274497985839,
          "domain": "bloomberg.com"
         },
         {
          "count": 179,
          "d": 1.1568692380189896,
          "domain": "bloomberg.com"
         },
         {
          "count": 123,
          "d": 1.171911026239395,
          "domain": "bloomberg.com"
         },
         {
          "count": 118,
          "d": 1.1869528144598007,
          "domain": "bloomberg.com"
         },
         {
          "count": 81,
          "d": 1.2019946026802062,
          "domain": "bloomberg.com"
         },
         {
          "count": 72,
          "d": 1.2170363909006119,
          "domain": "bloomberg.com"
         },
         {
          "count": 62,
          "d": 1.2320781791210174,
          "domain": "bloomberg.com"
         },
         {
          "count": 50,
          "d": 1.247119967341423,
          "domain": "bloomberg.com"
         },
         {
          "count": 43,
          "d": 1.2621617555618285,
          "domain": "bloomberg.com"
         },
         {
          "count": 32,
          "d": 1.2772035437822342,
          "domain": "bloomberg.com"
         },
         {
          "count": 25,
          "d": 1.2922453320026397,
          "domain": "bloomberg.com"
         },
         {
          "count": 14,
          "d": 1.3072871202230454,
          "domain": "bloomberg.com"
         },
         {
          "count": 11,
          "d": 1.3223289084434509,
          "domain": "bloomberg.com"
         },
         {
          "count": 11,
          "d": 1.3373706966638566,
          "domain": "bloomberg.com"
         },
         {
          "count": 3,
          "d": 1.352412484884262,
          "domain": "bloomberg.com"
         },
         {
          "count": 4,
          "d": 1.3674542731046675,
          "domain": "bloomberg.com"
         },
         {
          "count": 3,
          "d": 1.3824960613250732,
          "domain": "bloomberg.com"
         },
         {
          "count": 3,
          "d": 1.3975378495454787,
          "domain": "bloomberg.com"
         },
         {
          "count": 3,
          "d": 1.4125796377658844,
          "domain": "bloomberg.com"
         },
         {
          "count": 5,
          "d": 1.4276214259862898,
          "domain": "bloomberg.com"
         },
         {
          "count": 0,
          "d": 1.4426632142066955,
          "domain": "bloomberg.com"
         },
         {
          "count": 0,
          "d": 1.457705002427101,
          "domain": "bloomberg.com"
         },
         {
          "count": 0,
          "d": 1.4727467906475067,
          "domain": "bloomberg.com"
         },
         {
          "count": 0,
          "d": 1.4877885788679122,
          "domain": "bloomberg.com"
         },
         {
          "count": 0,
          "d": 1.5028303670883179,
          "domain": "bloomberg.com"
         },
         {
          "count": 0,
          "d": 1.5178721553087233,
          "domain": "bloomberg.com"
         },
         {
          "count": 0,
          "d": 1.532913943529129,
          "domain": "bloomberg.com"
         },
         {
          "count": 0,
          "d": 1.5479557317495345,
          "domain": "bloomberg.com"
         },
         {
          "count": 0,
          "d": 0.058818697929382324,
          "domain": "breitbart.com"
         },
         {
          "count": 0,
          "d": 0.07386048614978791,
          "domain": "breitbart.com"
         },
         {
          "count": 2,
          "d": 0.08890227437019348,
          "domain": "breitbart.com"
         },
         {
          "count": 0,
          "d": 0.10394406259059906,
          "domain": "breitbart.com"
         },
         {
          "count": 5,
          "d": 0.11898585081100463,
          "domain": "breitbart.com"
         },
         {
          "count": 4,
          "d": 0.1340276390314102,
          "domain": "breitbart.com"
         },
         {
          "count": 13,
          "d": 0.1490694272518158,
          "domain": "breitbart.com"
         },
         {
          "count": 15,
          "d": 0.16411121547222135,
          "domain": "breitbart.com"
         },
         {
          "count": 29,
          "d": 0.17915300369262693,
          "domain": "breitbart.com"
         },
         {
          "count": 50,
          "d": 0.19419479191303252,
          "domain": "breitbart.com"
         },
         {
          "count": 41,
          "d": 0.2092365801334381,
          "domain": "breitbart.com"
         },
         {
          "count": 55,
          "d": 0.22427836835384368,
          "domain": "breitbart.com"
         },
         {
          "count": 62,
          "d": 0.23932015657424927,
          "domain": "breitbart.com"
         },
         {
          "count": 113,
          "d": 0.25436194479465485,
          "domain": "breitbart.com"
         },
         {
          "count": 157,
          "d": 0.2694037330150604,
          "domain": "breitbart.com"
         },
         {
          "count": 184,
          "d": 0.28444552123546596,
          "domain": "breitbart.com"
         },
         {
          "count": 223,
          "d": 0.29948730945587154,
          "domain": "breitbart.com"
         },
         {
          "count": 244,
          "d": 0.3145290976762771,
          "domain": "breitbart.com"
         },
         {
          "count": 317,
          "d": 0.3295708858966827,
          "domain": "breitbart.com"
         },
         {
          "count": 399,
          "d": 0.3446126741170883,
          "domain": "breitbart.com"
         },
         {
          "count": 429,
          "d": 0.3596544623374939,
          "domain": "breitbart.com"
         },
         {
          "count": 465,
          "d": 0.37469625055789946,
          "domain": "breitbart.com"
         },
         {
          "count": 564,
          "d": 0.38973803877830504,
          "domain": "breitbart.com"
         },
         {
          "count": 636,
          "d": 0.4047798269987106,
          "domain": "breitbart.com"
         },
         {
          "count": 727,
          "d": 0.4198216152191162,
          "domain": "breitbart.com"
         },
         {
          "count": 769,
          "d": 0.4348634034395218,
          "domain": "breitbart.com"
         },
         {
          "count": 923,
          "d": 0.4499051916599274,
          "domain": "breitbart.com"
         },
         {
          "count": 984,
          "d": 0.4649469798803329,
          "domain": "breitbart.com"
         },
         {
          "count": 1144,
          "d": 0.4799887681007385,
          "domain": "breitbart.com"
         },
         {
          "count": 1196,
          "d": 0.49503055632114407,
          "domain": "breitbart.com"
         },
         {
          "count": 1348,
          "d": 0.5100723445415496,
          "domain": "breitbart.com"
         },
         {
          "count": 1414,
          "d": 0.5251141327619553,
          "domain": "breitbart.com"
         },
         {
          "count": 1567,
          "d": 0.5401559209823608,
          "domain": "breitbart.com"
         },
         {
          "count": 1658,
          "d": 0.5551977092027665,
          "domain": "breitbart.com"
         },
         {
          "count": 1776,
          "d": 0.5702394974231719,
          "domain": "breitbart.com"
         },
         {
          "count": 1949,
          "d": 0.5852812856435775,
          "domain": "breitbart.com"
         },
         {
          "count": 1925,
          "d": 0.6003230738639831,
          "domain": "breitbart.com"
         },
         {
          "count": 2104,
          "d": 0.6153648620843887,
          "domain": "breitbart.com"
         },
         {
          "count": 2195,
          "d": 0.6304066503047943,
          "domain": "breitbart.com"
         },
         {
          "count": 2213,
          "d": 0.6454484385251998,
          "domain": "breitbart.com"
         },
         {
          "count": 2246,
          "d": 0.6604902267456054,
          "domain": "breitbart.com"
         },
         {
          "count": 2316,
          "d": 0.675532014966011,
          "domain": "breitbart.com"
         },
         {
          "count": 2525,
          "d": 0.6905738031864166,
          "domain": "breitbart.com"
         },
         {
          "count": 2514,
          "d": 0.7056155914068222,
          "domain": "breitbart.com"
         },
         {
          "count": 2483,
          "d": 0.7206573796272278,
          "domain": "breitbart.com"
         },
         {
          "count": 2419,
          "d": 0.7356991678476333,
          "domain": "breitbart.com"
         },
         {
          "count": 2268,
          "d": 0.7507409560680389,
          "domain": "breitbart.com"
         },
         {
          "count": 2449,
          "d": 0.7657827442884445,
          "domain": "breitbart.com"
         },
         {
          "count": 2241,
          "d": 0.7808245325088501,
          "domain": "breitbart.com"
         },
         {
          "count": 2320,
          "d": 0.7958663207292557,
          "domain": "breitbart.com"
         },
         {
          "count": 2212,
          "d": 0.8109081089496613,
          "domain": "breitbart.com"
         },
         {
          "count": 2016,
          "d": 0.8259498971700668,
          "domain": "breitbart.com"
         },
         {
          "count": 1894,
          "d": 0.8409916853904724,
          "domain": "breitbart.com"
         },
         {
          "count": 1915,
          "d": 0.856033473610878,
          "domain": "breitbart.com"
         },
         {
          "count": 1732,
          "d": 0.8710752618312835,
          "domain": "breitbart.com"
         },
         {
          "count": 1641,
          "d": 0.8861170500516891,
          "domain": "breitbart.com"
         },
         {
          "count": 1589,
          "d": 0.9011588382720946,
          "domain": "breitbart.com"
         },
         {
          "count": 1453,
          "d": 0.9162006264925002,
          "domain": "breitbart.com"
         },
         {
          "count": 1296,
          "d": 0.9312424147129058,
          "domain": "breitbart.com"
         },
         {
          "count": 1205,
          "d": 0.9462842029333114,
          "domain": "breitbart.com"
         },
         {
          "count": 1028,
          "d": 0.961325991153717,
          "domain": "breitbart.com"
         },
         {
          "count": 909,
          "d": 0.9763677793741226,
          "domain": "breitbart.com"
         },
         {
          "count": 890,
          "d": 0.9914095675945281,
          "domain": "breitbart.com"
         },
         {
          "count": 773,
          "d": 1.0064513558149337,
          "domain": "breitbart.com"
         },
         {
          "count": 598,
          "d": 1.0214931440353392,
          "domain": "breitbart.com"
         },
         {
          "count": 557,
          "d": 1.036534932255745,
          "domain": "breitbart.com"
         },
         {
          "count": 518,
          "d": 1.0515767204761506,
          "domain": "breitbart.com"
         },
         {
          "count": 414,
          "d": 1.066618508696556,
          "domain": "breitbart.com"
         },
         {
          "count": 330,
          "d": 1.0816602969169615,
          "domain": "breitbart.com"
         },
         {
          "count": 269,
          "d": 1.0967020851373672,
          "domain": "breitbart.com"
         },
         {
          "count": 188,
          "d": 1.1117438733577727,
          "domain": "breitbart.com"
         },
         {
          "count": 168,
          "d": 1.1267856615781784,
          "domain": "breitbart.com"
         },
         {
          "count": 127,
          "d": 1.1418274497985839,
          "domain": "breitbart.com"
         },
         {
          "count": 106,
          "d": 1.1568692380189896,
          "domain": "breitbart.com"
         },
         {
          "count": 92,
          "d": 1.171911026239395,
          "domain": "breitbart.com"
         },
         {
          "count": 84,
          "d": 1.1869528144598007,
          "domain": "breitbart.com"
         },
         {
          "count": 53,
          "d": 1.2019946026802062,
          "domain": "breitbart.com"
         },
         {
          "count": 42,
          "d": 1.2170363909006119,
          "domain": "breitbart.com"
         },
         {
          "count": 43,
          "d": 1.2320781791210174,
          "domain": "breitbart.com"
         },
         {
          "count": 32,
          "d": 1.247119967341423,
          "domain": "breitbart.com"
         },
         {
          "count": 30,
          "d": 1.2621617555618285,
          "domain": "breitbart.com"
         },
         {
          "count": 19,
          "d": 1.2772035437822342,
          "domain": "breitbart.com"
         },
         {
          "count": 11,
          "d": 1.2922453320026397,
          "domain": "breitbart.com"
         },
         {
          "count": 5,
          "d": 1.3072871202230454,
          "domain": "breitbart.com"
         },
         {
          "count": 11,
          "d": 1.3223289084434509,
          "domain": "breitbart.com"
         },
         {
          "count": 1,
          "d": 1.3373706966638566,
          "domain": "breitbart.com"
         },
         {
          "count": 6,
          "d": 1.352412484884262,
          "domain": "breitbart.com"
         },
         {
          "count": 6,
          "d": 1.3674542731046675,
          "domain": "breitbart.com"
         },
         {
          "count": 1,
          "d": 1.3824960613250732,
          "domain": "breitbart.com"
         },
         {
          "count": 2,
          "d": 1.3975378495454787,
          "domain": "breitbart.com"
         },
         {
          "count": 0,
          "d": 1.4125796377658844,
          "domain": "breitbart.com"
         },
         {
          "count": 0,
          "d": 1.4276214259862898,
          "domain": "breitbart.com"
         },
         {
          "count": 0,
          "d": 1.4426632142066955,
          "domain": "breitbart.com"
         },
         {
          "count": 0,
          "d": 1.457705002427101,
          "domain": "breitbart.com"
         },
         {
          "count": 0,
          "d": 1.4727467906475067,
          "domain": "breitbart.com"
         },
         {
          "count": 0,
          "d": 1.4877885788679122,
          "domain": "breitbart.com"
         },
         {
          "count": 0,
          "d": 1.5028303670883179,
          "domain": "breitbart.com"
         },
         {
          "count": 0,
          "d": 1.5178721553087233,
          "domain": "breitbart.com"
         },
         {
          "count": 2,
          "d": 1.532913943529129,
          "domain": "breitbart.com"
         },
         {
          "count": 0,
          "d": 1.5479557317495345,
          "domain": "breitbart.com"
         },
         {
          "count": 0,
          "d": 0.058818697929382324,
          "domain": "buzzfeed.com"
         },
         {
          "count": 0,
          "d": 0.07386048614978791,
          "domain": "buzzfeed.com"
         },
         {
          "count": 0,
          "d": 0.08890227437019348,
          "domain": "buzzfeed.com"
         },
         {
          "count": 0,
          "d": 0.10394406259059906,
          "domain": "buzzfeed.com"
         },
         {
          "count": 1,
          "d": 0.11898585081100463,
          "domain": "buzzfeed.com"
         },
         {
          "count": 1,
          "d": 0.1340276390314102,
          "domain": "buzzfeed.com"
         },
         {
          "count": 3,
          "d": 0.1490694272518158,
          "domain": "buzzfeed.com"
         },
         {
          "count": 7,
          "d": 0.16411121547222135,
          "domain": "buzzfeed.com"
         },
         {
          "count": 0,
          "d": 0.17915300369262693,
          "domain": "buzzfeed.com"
         },
         {
          "count": 9,
          "d": 0.19419479191303252,
          "domain": "buzzfeed.com"
         },
         {
          "count": 11,
          "d": 0.2092365801334381,
          "domain": "buzzfeed.com"
         },
         {
          "count": 17,
          "d": 0.22427836835384368,
          "domain": "buzzfeed.com"
         },
         {
          "count": 27,
          "d": 0.23932015657424927,
          "domain": "buzzfeed.com"
         },
         {
          "count": 38,
          "d": 0.25436194479465485,
          "domain": "buzzfeed.com"
         },
         {
          "count": 44,
          "d": 0.2694037330150604,
          "domain": "buzzfeed.com"
         },
         {
          "count": 58,
          "d": 0.28444552123546596,
          "domain": "buzzfeed.com"
         },
         {
          "count": 68,
          "d": 0.29948730945587154,
          "domain": "buzzfeed.com"
         },
         {
          "count": 87,
          "d": 0.3145290976762771,
          "domain": "buzzfeed.com"
         },
         {
          "count": 112,
          "d": 0.3295708858966827,
          "domain": "buzzfeed.com"
         },
         {
          "count": 141,
          "d": 0.3446126741170883,
          "domain": "buzzfeed.com"
         },
         {
          "count": 158,
          "d": 0.3596544623374939,
          "domain": "buzzfeed.com"
         },
         {
          "count": 195,
          "d": 0.37469625055789946,
          "domain": "buzzfeed.com"
         },
         {
          "count": 215,
          "d": 0.38973803877830504,
          "domain": "buzzfeed.com"
         },
         {
          "count": 279,
          "d": 0.4047798269987106,
          "domain": "buzzfeed.com"
         },
         {
          "count": 330,
          "d": 0.4198216152191162,
          "domain": "buzzfeed.com"
         },
         {
          "count": 370,
          "d": 0.4348634034395218,
          "domain": "buzzfeed.com"
         },
         {
          "count": 421,
          "d": 0.4499051916599274,
          "domain": "buzzfeed.com"
         },
         {
          "count": 519,
          "d": 0.4649469798803329,
          "domain": "buzzfeed.com"
         },
         {
          "count": 548,
          "d": 0.4799887681007385,
          "domain": "buzzfeed.com"
         },
         {
          "count": 659,
          "d": 0.49503055632114407,
          "domain": "buzzfeed.com"
         },
         {
          "count": 625,
          "d": 0.5100723445415496,
          "domain": "buzzfeed.com"
         },
         {
          "count": 775,
          "d": 0.5251141327619553,
          "domain": "buzzfeed.com"
         },
         {
          "count": 900,
          "d": 0.5401559209823608,
          "domain": "buzzfeed.com"
         },
         {
          "count": 1015,
          "d": 0.5551977092027665,
          "domain": "buzzfeed.com"
         },
         {
          "count": 1068,
          "d": 0.5702394974231719,
          "domain": "buzzfeed.com"
         },
         {
          "count": 1171,
          "d": 0.5852812856435775,
          "domain": "buzzfeed.com"
         },
         {
          "count": 1281,
          "d": 0.6003230738639831,
          "domain": "buzzfeed.com"
         },
         {
          "count": 1344,
          "d": 0.6153648620843887,
          "domain": "buzzfeed.com"
         },
         {
          "count": 1495,
          "d": 0.6304066503047943,
          "domain": "buzzfeed.com"
         },
         {
          "count": 1614,
          "d": 0.6454484385251998,
          "domain": "buzzfeed.com"
         },
         {
          "count": 1671,
          "d": 0.6604902267456054,
          "domain": "buzzfeed.com"
         },
         {
          "count": 1897,
          "d": 0.675532014966011,
          "domain": "buzzfeed.com"
         },
         {
          "count": 1843,
          "d": 0.6905738031864166,
          "domain": "buzzfeed.com"
         },
         {
          "count": 2006,
          "d": 0.7056155914068222,
          "domain": "buzzfeed.com"
         },
         {
          "count": 2021,
          "d": 0.7206573796272278,
          "domain": "buzzfeed.com"
         },
         {
          "count": 2173,
          "d": 0.7356991678476333,
          "domain": "buzzfeed.com"
         },
         {
          "count": 2190,
          "d": 0.7507409560680389,
          "domain": "buzzfeed.com"
         },
         {
          "count": 2267,
          "d": 0.7657827442884445,
          "domain": "buzzfeed.com"
         },
         {
          "count": 2338,
          "d": 0.7808245325088501,
          "domain": "buzzfeed.com"
         },
         {
          "count": 2358,
          "d": 0.7958663207292557,
          "domain": "buzzfeed.com"
         },
         {
          "count": 2302,
          "d": 0.8109081089496613,
          "domain": "buzzfeed.com"
         },
         {
          "count": 2514,
          "d": 0.8259498971700668,
          "domain": "buzzfeed.com"
         },
         {
          "count": 2254,
          "d": 0.8409916853904724,
          "domain": "buzzfeed.com"
         },
         {
          "count": 2260,
          "d": 0.856033473610878,
          "domain": "buzzfeed.com"
         },
         {
          "count": 2265,
          "d": 0.8710752618312835,
          "domain": "buzzfeed.com"
         },
         {
          "count": 2230,
          "d": 0.8861170500516891,
          "domain": "buzzfeed.com"
         },
         {
          "count": 2102,
          "d": 0.9011588382720946,
          "domain": "buzzfeed.com"
         },
         {
          "count": 2037,
          "d": 0.9162006264925002,
          "domain": "buzzfeed.com"
         },
         {
          "count": 1974,
          "d": 0.9312424147129058,
          "domain": "buzzfeed.com"
         },
         {
          "count": 1818,
          "d": 0.9462842029333114,
          "domain": "buzzfeed.com"
         },
         {
          "count": 1840,
          "d": 0.961325991153717,
          "domain": "buzzfeed.com"
         },
         {
          "count": 1821,
          "d": 0.9763677793741226,
          "domain": "buzzfeed.com"
         },
         {
          "count": 1586,
          "d": 0.9914095675945281,
          "domain": "buzzfeed.com"
         },
         {
          "count": 1523,
          "d": 1.0064513558149337,
          "domain": "buzzfeed.com"
         },
         {
          "count": 1459,
          "d": 1.0214931440353392,
          "domain": "buzzfeed.com"
         },
         {
          "count": 1266,
          "d": 1.036534932255745,
          "domain": "buzzfeed.com"
         },
         {
          "count": 1163,
          "d": 1.0515767204761506,
          "domain": "buzzfeed.com"
         },
         {
          "count": 974,
          "d": 1.066618508696556,
          "domain": "buzzfeed.com"
         },
         {
          "count": 869,
          "d": 1.0816602969169615,
          "domain": "buzzfeed.com"
         },
         {
          "count": 655,
          "d": 1.0967020851373672,
          "domain": "buzzfeed.com"
         },
         {
          "count": 2261,
          "d": 1.1117438733577727,
          "domain": "buzzfeed.com"
         },
         {
          "count": 466,
          "d": 1.1267856615781784,
          "domain": "buzzfeed.com"
         },
         {
          "count": 397,
          "d": 1.1418274497985839,
          "domain": "buzzfeed.com"
         },
         {
          "count": 379,
          "d": 1.1568692380189896,
          "domain": "buzzfeed.com"
         },
         {
          "count": 255,
          "d": 1.171911026239395,
          "domain": "buzzfeed.com"
         },
         {
          "count": 151,
          "d": 1.1869528144598007,
          "domain": "buzzfeed.com"
         },
         {
          "count": 92,
          "d": 1.2019946026802062,
          "domain": "buzzfeed.com"
         },
         {
          "count": 59,
          "d": 1.2170363909006119,
          "domain": "buzzfeed.com"
         },
         {
          "count": 34,
          "d": 1.2320781791210174,
          "domain": "buzzfeed.com"
         },
         {
          "count": 30,
          "d": 1.247119967341423,
          "domain": "buzzfeed.com"
         },
         {
          "count": 19,
          "d": 1.2621617555618285,
          "domain": "buzzfeed.com"
         },
         {
          "count": 11,
          "d": 1.2772035437822342,
          "domain": "buzzfeed.com"
         },
         {
          "count": 9,
          "d": 1.2922453320026397,
          "domain": "buzzfeed.com"
         },
         {
          "count": 4,
          "d": 1.3072871202230454,
          "domain": "buzzfeed.com"
         },
         {
          "count": 6,
          "d": 1.3223289084434509,
          "domain": "buzzfeed.com"
         },
         {
          "count": 2,
          "d": 1.3373706966638566,
          "domain": "buzzfeed.com"
         },
         {
          "count": 1,
          "d": 1.352412484884262,
          "domain": "buzzfeed.com"
         },
         {
          "count": 0,
          "d": 1.3674542731046675,
          "domain": "buzzfeed.com"
         },
         {
          "count": 3,
          "d": 1.3824960613250732,
          "domain": "buzzfeed.com"
         },
         {
          "count": 0,
          "d": 1.3975378495454787,
          "domain": "buzzfeed.com"
         },
         {
          "count": 2,
          "d": 1.4125796377658844,
          "domain": "buzzfeed.com"
         },
         {
          "count": 0,
          "d": 1.4276214259862898,
          "domain": "buzzfeed.com"
         },
         {
          "count": 0,
          "d": 1.4426632142066955,
          "domain": "buzzfeed.com"
         },
         {
          "count": 0,
          "d": 1.457705002427101,
          "domain": "buzzfeed.com"
         },
         {
          "count": 0,
          "d": 1.4727467906475067,
          "domain": "buzzfeed.com"
         },
         {
          "count": 0,
          "d": 1.4877885788679122,
          "domain": "buzzfeed.com"
         },
         {
          "count": 0,
          "d": 1.5028303670883179,
          "domain": "buzzfeed.com"
         },
         {
          "count": 0,
          "d": 1.5178721553087233,
          "domain": "buzzfeed.com"
         },
         {
          "count": 0,
          "d": 1.532913943529129,
          "domain": "buzzfeed.com"
         },
         {
          "count": 0,
          "d": 1.5479557317495345,
          "domain": "buzzfeed.com"
         },
         {
          "count": 1,
          "d": 0.058818697929382324,
          "domain": "cnn.com"
         },
         {
          "count": 0,
          "d": 0.07386048614978791,
          "domain": "cnn.com"
         },
         {
          "count": 2,
          "d": 0.08890227437019348,
          "domain": "cnn.com"
         },
         {
          "count": 3,
          "d": 0.10394406259059906,
          "domain": "cnn.com"
         },
         {
          "count": 8,
          "d": 0.11898585081100463,
          "domain": "cnn.com"
         },
         {
          "count": 24,
          "d": 0.1340276390314102,
          "domain": "cnn.com"
         },
         {
          "count": 33,
          "d": 0.1490694272518158,
          "domain": "cnn.com"
         },
         {
          "count": 35,
          "d": 0.16411121547222135,
          "domain": "cnn.com"
         },
         {
          "count": 42,
          "d": 0.17915300369262693,
          "domain": "cnn.com"
         },
         {
          "count": 63,
          "d": 0.19419479191303252,
          "domain": "cnn.com"
         },
         {
          "count": 99,
          "d": 0.2092365801334381,
          "domain": "cnn.com"
         },
         {
          "count": 116,
          "d": 0.22427836835384368,
          "domain": "cnn.com"
         },
         {
          "count": 150,
          "d": 0.23932015657424927,
          "domain": "cnn.com"
         },
         {
          "count": 172,
          "d": 0.25436194479465485,
          "domain": "cnn.com"
         },
         {
          "count": 231,
          "d": 0.2694037330150604,
          "domain": "cnn.com"
         },
         {
          "count": 237,
          "d": 0.28444552123546596,
          "domain": "cnn.com"
         },
         {
          "count": 285,
          "d": 0.29948730945587154,
          "domain": "cnn.com"
         },
         {
          "count": 379,
          "d": 0.3145290976762771,
          "domain": "cnn.com"
         },
         {
          "count": 454,
          "d": 0.3295708858966827,
          "domain": "cnn.com"
         },
         {
          "count": 484,
          "d": 0.3446126741170883,
          "domain": "cnn.com"
         },
         {
          "count": 613,
          "d": 0.3596544623374939,
          "domain": "cnn.com"
         },
         {
          "count": 717,
          "d": 0.37469625055789946,
          "domain": "cnn.com"
         },
         {
          "count": 845,
          "d": 0.38973803877830504,
          "domain": "cnn.com"
         },
         {
          "count": 961,
          "d": 0.4047798269987106,
          "domain": "cnn.com"
         },
         {
          "count": 1054,
          "d": 0.4198216152191162,
          "domain": "cnn.com"
         },
         {
          "count": 1178,
          "d": 0.4348634034395218,
          "domain": "cnn.com"
         },
         {
          "count": 1430,
          "d": 0.4499051916599274,
          "domain": "cnn.com"
         },
         {
          "count": 1531,
          "d": 0.4649469798803329,
          "domain": "cnn.com"
         },
         {
          "count": 1814,
          "d": 0.4799887681007385,
          "domain": "cnn.com"
         },
         {
          "count": 1925,
          "d": 0.49503055632114407,
          "domain": "cnn.com"
         },
         {
          "count": 1982,
          "d": 0.5100723445415496,
          "domain": "cnn.com"
         },
         {
          "count": 2165,
          "d": 0.5251141327619553,
          "domain": "cnn.com"
         },
         {
          "count": 2228,
          "d": 0.5401559209823608,
          "domain": "cnn.com"
         },
         {
          "count": 2393,
          "d": 0.5551977092027665,
          "domain": "cnn.com"
         },
         {
          "count": 2434,
          "d": 0.5702394974231719,
          "domain": "cnn.com"
         },
         {
          "count": 2540,
          "d": 0.5852812856435775,
          "domain": "cnn.com"
         },
         {
          "count": 2447,
          "d": 0.6003230738639831,
          "domain": "cnn.com"
         },
         {
          "count": 2537,
          "d": 0.6153648620843887,
          "domain": "cnn.com"
         },
         {
          "count": 2377,
          "d": 0.6304066503047943,
          "domain": "cnn.com"
         },
         {
          "count": 2372,
          "d": 0.6454484385251998,
          "domain": "cnn.com"
         },
         {
          "count": 2433,
          "d": 0.6604902267456054,
          "domain": "cnn.com"
         },
         {
          "count": 2282,
          "d": 0.675532014966011,
          "domain": "cnn.com"
         },
         {
          "count": 2177,
          "d": 0.6905738031864166,
          "domain": "cnn.com"
         },
         {
          "count": 2110,
          "d": 0.7056155914068222,
          "domain": "cnn.com"
         },
         {
          "count": 2116,
          "d": 0.7206573796272278,
          "domain": "cnn.com"
         },
         {
          "count": 2008,
          "d": 0.7356991678476333,
          "domain": "cnn.com"
         },
         {
          "count": 1827,
          "d": 0.7507409560680389,
          "domain": "cnn.com"
         },
         {
          "count": 1933,
          "d": 0.7657827442884445,
          "domain": "cnn.com"
         },
         {
          "count": 1679,
          "d": 0.7808245325088501,
          "domain": "cnn.com"
         },
         {
          "count": 1611,
          "d": 0.7958663207292557,
          "domain": "cnn.com"
         },
         {
          "count": 1547,
          "d": 0.8109081089496613,
          "domain": "cnn.com"
         },
         {
          "count": 1520,
          "d": 0.8259498971700668,
          "domain": "cnn.com"
         },
         {
          "count": 1361,
          "d": 0.8409916853904724,
          "domain": "cnn.com"
         },
         {
          "count": 1312,
          "d": 0.856033473610878,
          "domain": "cnn.com"
         },
         {
          "count": 1257,
          "d": 0.8710752618312835,
          "domain": "cnn.com"
         },
         {
          "count": 1191,
          "d": 0.8861170500516891,
          "domain": "cnn.com"
         },
         {
          "count": 1047,
          "d": 0.9011588382720946,
          "domain": "cnn.com"
         },
         {
          "count": 980,
          "d": 0.9162006264925002,
          "domain": "cnn.com"
         },
         {
          "count": 857,
          "d": 0.9312424147129058,
          "domain": "cnn.com"
         },
         {
          "count": 805,
          "d": 0.9462842029333114,
          "domain": "cnn.com"
         },
         {
          "count": 699,
          "d": 0.961325991153717,
          "domain": "cnn.com"
         },
         {
          "count": 650,
          "d": 0.9763677793741226,
          "domain": "cnn.com"
         },
         {
          "count": 594,
          "d": 0.9914095675945281,
          "domain": "cnn.com"
         },
         {
          "count": 528,
          "d": 1.0064513558149337,
          "domain": "cnn.com"
         },
         {
          "count": 411,
          "d": 1.0214931440353392,
          "domain": "cnn.com"
         },
         {
          "count": 402,
          "d": 1.036534932255745,
          "domain": "cnn.com"
         },
         {
          "count": 293,
          "d": 1.0515767204761506,
          "domain": "cnn.com"
         },
         {
          "count": 257,
          "d": 1.066618508696556,
          "domain": "cnn.com"
         },
         {
          "count": 264,
          "d": 1.0816602969169615,
          "domain": "cnn.com"
         },
         {
          "count": 191,
          "d": 1.0967020851373672,
          "domain": "cnn.com"
         },
         {
          "count": 150,
          "d": 1.1117438733577727,
          "domain": "cnn.com"
         },
         {
          "count": 121,
          "d": 1.1267856615781784,
          "domain": "cnn.com"
         },
         {
          "count": 112,
          "d": 1.1418274497985839,
          "domain": "cnn.com"
         },
         {
          "count": 86,
          "d": 1.1568692380189896,
          "domain": "cnn.com"
         },
         {
          "count": 71,
          "d": 1.171911026239395,
          "domain": "cnn.com"
         },
         {
          "count": 68,
          "d": 1.1869528144598007,
          "domain": "cnn.com"
         },
         {
          "count": 41,
          "d": 1.2019946026802062,
          "domain": "cnn.com"
         },
         {
          "count": 28,
          "d": 1.2170363909006119,
          "domain": "cnn.com"
         },
         {
          "count": 35,
          "d": 1.2320781791210174,
          "domain": "cnn.com"
         },
         {
          "count": 32,
          "d": 1.247119967341423,
          "domain": "cnn.com"
         },
         {
          "count": 17,
          "d": 1.2621617555618285,
          "domain": "cnn.com"
         },
         {
          "count": 15,
          "d": 1.2772035437822342,
          "domain": "cnn.com"
         },
         {
          "count": 15,
          "d": 1.2922453320026397,
          "domain": "cnn.com"
         },
         {
          "count": 11,
          "d": 1.3072871202230454,
          "domain": "cnn.com"
         },
         {
          "count": 0,
          "d": 1.3223289084434509,
          "domain": "cnn.com"
         },
         {
          "count": 6,
          "d": 1.3373706966638566,
          "domain": "cnn.com"
         },
         {
          "count": 5,
          "d": 1.352412484884262,
          "domain": "cnn.com"
         },
         {
          "count": 2,
          "d": 1.3674542731046675,
          "domain": "cnn.com"
         },
         {
          "count": 3,
          "d": 1.3824960613250732,
          "domain": "cnn.com"
         },
         {
          "count": 2,
          "d": 1.3975378495454787,
          "domain": "cnn.com"
         },
         {
          "count": 1,
          "d": 1.4125796377658844,
          "domain": "cnn.com"
         },
         {
          "count": 1,
          "d": 1.4276214259862898,
          "domain": "cnn.com"
         },
         {
          "count": 2,
          "d": 1.4426632142066955,
          "domain": "cnn.com"
         },
         {
          "count": 0,
          "d": 1.457705002427101,
          "domain": "cnn.com"
         },
         {
          "count": 0,
          "d": 1.4727467906475067,
          "domain": "cnn.com"
         },
         {
          "count": 0,
          "d": 1.4877885788679122,
          "domain": "cnn.com"
         },
         {
          "count": 1,
          "d": 1.5028303670883179,
          "domain": "cnn.com"
         },
         {
          "count": 0,
          "d": 1.5178721553087233,
          "domain": "cnn.com"
         },
         {
          "count": 0,
          "d": 1.532913943529129,
          "domain": "cnn.com"
         },
         {
          "count": 0,
          "d": 1.5479557317495345,
          "domain": "cnn.com"
         },
         {
          "count": 0,
          "d": 0.058818697929382324,
          "domain": "nytimes.com"
         },
         {
          "count": 3,
          "d": 0.07386048614978791,
          "domain": "nytimes.com"
         },
         {
          "count": 2,
          "d": 0.08890227437019348,
          "domain": "nytimes.com"
         },
         {
          "count": 3,
          "d": 0.10394406259059906,
          "domain": "nytimes.com"
         },
         {
          "count": 4,
          "d": 0.11898585081100463,
          "domain": "nytimes.com"
         },
         {
          "count": 21,
          "d": 0.1340276390314102,
          "domain": "nytimes.com"
         },
         {
          "count": 37,
          "d": 0.1490694272518158,
          "domain": "nytimes.com"
         },
         {
          "count": 49,
          "d": 0.16411121547222135,
          "domain": "nytimes.com"
         },
         {
          "count": 69,
          "d": 0.17915300369262693,
          "domain": "nytimes.com"
         },
         {
          "count": 110,
          "d": 0.19419479191303252,
          "domain": "nytimes.com"
         },
         {
          "count": 122,
          "d": 0.2092365801334381,
          "domain": "nytimes.com"
         },
         {
          "count": 149,
          "d": 0.22427836835384368,
          "domain": "nytimes.com"
         },
         {
          "count": 197,
          "d": 0.23932015657424927,
          "domain": "nytimes.com"
         },
         {
          "count": 256,
          "d": 0.25436194479465485,
          "domain": "nytimes.com"
         },
         {
          "count": 273,
          "d": 0.2694037330150604,
          "domain": "nytimes.com"
         },
         {
          "count": 335,
          "d": 0.28444552123546596,
          "domain": "nytimes.com"
         },
         {
          "count": 394,
          "d": 0.29948730945587154,
          "domain": "nytimes.com"
         },
         {
          "count": 440,
          "d": 0.3145290976762771,
          "domain": "nytimes.com"
         },
         {
          "count": 512,
          "d": 0.3295708858966827,
          "domain": "nytimes.com"
         },
         {
          "count": 678,
          "d": 0.3446126741170883,
          "domain": "nytimes.com"
         },
         {
          "count": 769,
          "d": 0.3596544623374939,
          "domain": "nytimes.com"
         },
         {
          "count": 814,
          "d": 0.37469625055789946,
          "domain": "nytimes.com"
         },
         {
          "count": 967,
          "d": 0.38973803877830504,
          "domain": "nytimes.com"
         },
         {
          "count": 1111,
          "d": 0.4047798269987106,
          "domain": "nytimes.com"
         },
         {
          "count": 1258,
          "d": 0.4198216152191162,
          "domain": "nytimes.com"
         },
         {
          "count": 1386,
          "d": 0.4348634034395218,
          "domain": "nytimes.com"
         },
         {
          "count": 1551,
          "d": 0.4499051916599274,
          "domain": "nytimes.com"
         },
         {
          "count": 1790,
          "d": 0.4649469798803329,
          "domain": "nytimes.com"
         },
         {
          "count": 1906,
          "d": 0.4799887681007385,
          "domain": "nytimes.com"
         },
         {
          "count": 1978,
          "d": 0.49503055632114407,
          "domain": "nytimes.com"
         },
         {
          "count": 2222,
          "d": 0.5100723445415496,
          "domain": "nytimes.com"
         },
         {
          "count": 2286,
          "d": 0.5251141327619553,
          "domain": "nytimes.com"
         },
         {
          "count": 2523,
          "d": 0.5401559209823608,
          "domain": "nytimes.com"
         },
         {
          "count": 2613,
          "d": 0.5551977092027665,
          "domain": "nytimes.com"
         },
         {
          "count": 2759,
          "d": 0.5702394974231719,
          "domain": "nytimes.com"
         },
         {
          "count": 2990,
          "d": 0.5852812856435775,
          "domain": "nytimes.com"
         },
         {
          "count": 2808,
          "d": 0.6003230738639831,
          "domain": "nytimes.com"
         },
         {
          "count": 2837,
          "d": 0.6153648620843887,
          "domain": "nytimes.com"
         },
         {
          "count": 2852,
          "d": 0.6304066503047943,
          "domain": "nytimes.com"
         },
         {
          "count": 2835,
          "d": 0.6454484385251998,
          "domain": "nytimes.com"
         },
         {
          "count": 2805,
          "d": 0.6604902267456054,
          "domain": "nytimes.com"
         },
         {
          "count": 2680,
          "d": 0.675532014966011,
          "domain": "nytimes.com"
         },
         {
          "count": 2522,
          "d": 0.6905738031864166,
          "domain": "nytimes.com"
         },
         {
          "count": 2276,
          "d": 0.7056155914068222,
          "domain": "nytimes.com"
         },
         {
          "count": 2223,
          "d": 0.7206573796272278,
          "domain": "nytimes.com"
         },
         {
          "count": 1993,
          "d": 0.7356991678476333,
          "domain": "nytimes.com"
         },
         {
          "count": 1825,
          "d": 0.7507409560680389,
          "domain": "nytimes.com"
         },
         {
          "count": 1676,
          "d": 0.7657827442884445,
          "domain": "nytimes.com"
         },
         {
          "count": 1492,
          "d": 0.7808245325088501,
          "domain": "nytimes.com"
         },
         {
          "count": 1290,
          "d": 0.7958663207292557,
          "domain": "nytimes.com"
         },
         {
          "count": 1237,
          "d": 0.8109081089496613,
          "domain": "nytimes.com"
         },
         {
          "count": 1106,
          "d": 0.8259498971700668,
          "domain": "nytimes.com"
         },
         {
          "count": 1078,
          "d": 0.8409916853904724,
          "domain": "nytimes.com"
         },
         {
          "count": 939,
          "d": 0.856033473610878,
          "domain": "nytimes.com"
         },
         {
          "count": 835,
          "d": 0.8710752618312835,
          "domain": "nytimes.com"
         },
         {
          "count": 724,
          "d": 0.8861170500516891,
          "domain": "nytimes.com"
         },
         {
          "count": 628,
          "d": 0.9011588382720946,
          "domain": "nytimes.com"
         },
         {
          "count": 627,
          "d": 0.9162006264925002,
          "domain": "nytimes.com"
         },
         {
          "count": 525,
          "d": 0.9312424147129058,
          "domain": "nytimes.com"
         },
         {
          "count": 442,
          "d": 0.9462842029333114,
          "domain": "nytimes.com"
         },
         {
          "count": 451,
          "d": 0.961325991153717,
          "domain": "nytimes.com"
         },
         {
          "count": 402,
          "d": 0.9763677793741226,
          "domain": "nytimes.com"
         },
         {
          "count": 297,
          "d": 0.9914095675945281,
          "domain": "nytimes.com"
         },
         {
          "count": 295,
          "d": 1.0064513558149337,
          "domain": "nytimes.com"
         },
         {
          "count": 288,
          "d": 1.0214931440353392,
          "domain": "nytimes.com"
         },
         {
          "count": 183,
          "d": 1.036534932255745,
          "domain": "nytimes.com"
         },
         {
          "count": 174,
          "d": 1.0515767204761506,
          "domain": "nytimes.com"
         },
         {
          "count": 128,
          "d": 1.066618508696556,
          "domain": "nytimes.com"
         },
         {
          "count": 147,
          "d": 1.0816602969169615,
          "domain": "nytimes.com"
         },
         {
          "count": 95,
          "d": 1.0967020851373672,
          "domain": "nytimes.com"
         },
         {
          "count": 88,
          "d": 1.1117438733577727,
          "domain": "nytimes.com"
         },
         {
          "count": 84,
          "d": 1.1267856615781784,
          "domain": "nytimes.com"
         },
         {
          "count": 70,
          "d": 1.1418274497985839,
          "domain": "nytimes.com"
         },
         {
          "count": 50,
          "d": 1.1568692380189896,
          "domain": "nytimes.com"
         },
         {
          "count": 47,
          "d": 1.171911026239395,
          "domain": "nytimes.com"
         },
         {
          "count": 33,
          "d": 1.1869528144598007,
          "domain": "nytimes.com"
         },
         {
          "count": 29,
          "d": 1.2019946026802062,
          "domain": "nytimes.com"
         },
         {
          "count": 24,
          "d": 1.2170363909006119,
          "domain": "nytimes.com"
         },
         {
          "count": 17,
          "d": 1.2320781791210174,
          "domain": "nytimes.com"
         },
         {
          "count": 12,
          "d": 1.247119967341423,
          "domain": "nytimes.com"
         },
         {
          "count": 13,
          "d": 1.2621617555618285,
          "domain": "nytimes.com"
         },
         {
          "count": 7,
          "d": 1.2772035437822342,
          "domain": "nytimes.com"
         },
         {
          "count": 11,
          "d": 1.2922453320026397,
          "domain": "nytimes.com"
         },
         {
          "count": 4,
          "d": 1.3072871202230454,
          "domain": "nytimes.com"
         },
         {
          "count": 3,
          "d": 1.3223289084434509,
          "domain": "nytimes.com"
         },
         {
          "count": 2,
          "d": 1.3373706966638566,
          "domain": "nytimes.com"
         },
         {
          "count": 2,
          "d": 1.352412484884262,
          "domain": "nytimes.com"
         },
         {
          "count": 2,
          "d": 1.3674542731046675,
          "domain": "nytimes.com"
         },
         {
          "count": 3,
          "d": 1.3824960613250732,
          "domain": "nytimes.com"
         },
         {
          "count": 0,
          "d": 1.3975378495454787,
          "domain": "nytimes.com"
         },
         {
          "count": 0,
          "d": 1.4125796377658844,
          "domain": "nytimes.com"
         },
         {
          "count": 1,
          "d": 1.4276214259862898,
          "domain": "nytimes.com"
         },
         {
          "count": 2,
          "d": 1.4426632142066955,
          "domain": "nytimes.com"
         },
         {
          "count": 0,
          "d": 1.457705002427101,
          "domain": "nytimes.com"
         },
         {
          "count": 0,
          "d": 1.4727467906475067,
          "domain": "nytimes.com"
         },
         {
          "count": 0,
          "d": 1.4877885788679122,
          "domain": "nytimes.com"
         },
         {
          "count": 0,
          "d": 1.5028303670883179,
          "domain": "nytimes.com"
         },
         {
          "count": 0,
          "d": 1.5178721553087233,
          "domain": "nytimes.com"
         },
         {
          "count": 0,
          "d": 1.532913943529129,
          "domain": "nytimes.com"
         },
         {
          "count": 0,
          "d": 1.5479557317495345,
          "domain": "nytimes.com"
         },
         {
          "count": 0,
          "d": 0.058818697929382324,
          "domain": "apnews.com"
         },
         {
          "count": 0,
          "d": 0.07386048614978791,
          "domain": "apnews.com"
         },
         {
          "count": 0,
          "d": 0.08890227437019348,
          "domain": "apnews.com"
         },
         {
          "count": 0,
          "d": 0.10394406259059906,
          "domain": "apnews.com"
         },
         {
          "count": 0,
          "d": 0.11898585081100463,
          "domain": "apnews.com"
         },
         {
          "count": 0,
          "d": 0.1340276390314102,
          "domain": "apnews.com"
         },
         {
          "count": 1,
          "d": 0.1490694272518158,
          "domain": "apnews.com"
         },
         {
          "count": 0,
          "d": 0.16411121547222135,
          "domain": "apnews.com"
         },
         {
          "count": 0,
          "d": 0.17915300369262693,
          "domain": "apnews.com"
         },
         {
          "count": 2,
          "d": 0.19419479191303252,
          "domain": "apnews.com"
         },
         {
          "count": 1,
          "d": 0.2092365801334381,
          "domain": "apnews.com"
         },
         {
          "count": 2,
          "d": 0.22427836835384368,
          "domain": "apnews.com"
         },
         {
          "count": 1,
          "d": 0.23932015657424927,
          "domain": "apnews.com"
         },
         {
          "count": 4,
          "d": 0.25436194479465485,
          "domain": "apnews.com"
         },
         {
          "count": 3,
          "d": 0.2694037330150604,
          "domain": "apnews.com"
         },
         {
          "count": 16,
          "d": 0.28444552123546596,
          "domain": "apnews.com"
         },
         {
          "count": 16,
          "d": 0.29948730945587154,
          "domain": "apnews.com"
         },
         {
          "count": 18,
          "d": 0.3145290976762771,
          "domain": "apnews.com"
         },
         {
          "count": 17,
          "d": 0.3295708858966827,
          "domain": "apnews.com"
         },
         {
          "count": 31,
          "d": 0.3446126741170883,
          "domain": "apnews.com"
         },
         {
          "count": 48,
          "d": 0.3596544623374939,
          "domain": "apnews.com"
         },
         {
          "count": 58,
          "d": 0.37469625055789946,
          "domain": "apnews.com"
         },
         {
          "count": 118,
          "d": 0.38973803877830504,
          "domain": "apnews.com"
         },
         {
          "count": 160,
          "d": 0.4047798269987106,
          "domain": "apnews.com"
         },
         {
          "count": 244,
          "d": 0.4198216152191162,
          "domain": "apnews.com"
         },
         {
          "count": 323,
          "d": 0.4348634034395218,
          "domain": "apnews.com"
         },
         {
          "count": 458,
          "d": 0.4499051916599274,
          "domain": "apnews.com"
         },
         {
          "count": 610,
          "d": 0.4649469798803329,
          "domain": "apnews.com"
         },
         {
          "count": 770,
          "d": 0.4799887681007385,
          "domain": "apnews.com"
         },
         {
          "count": 946,
          "d": 0.49503055632114407,
          "domain": "apnews.com"
         },
         {
          "count": 1237,
          "d": 0.5100723445415496,
          "domain": "apnews.com"
         },
         {
          "count": 1506,
          "d": 0.5251141327619553,
          "domain": "apnews.com"
         },
         {
          "count": 1742,
          "d": 0.5401559209823608,
          "domain": "apnews.com"
         },
         {
          "count": 1901,
          "d": 0.5551977092027665,
          "domain": "apnews.com"
         },
         {
          "count": 2030,
          "d": 0.5702394974231719,
          "domain": "apnews.com"
         },
         {
          "count": 2321,
          "d": 0.5852812856435775,
          "domain": "apnews.com"
         },
         {
          "count": 2532,
          "d": 0.6003230738639831,
          "domain": "apnews.com"
         },
         {
          "count": 2568,
          "d": 0.6153648620843887,
          "domain": "apnews.com"
         },
         {
          "count": 2721,
          "d": 0.6304066503047943,
          "domain": "apnews.com"
         },
         {
          "count": 2787,
          "d": 0.6454484385251998,
          "domain": "apnews.com"
         },
         {
          "count": 2936,
          "d": 0.6604902267456054,
          "domain": "apnews.com"
         },
         {
          "count": 2798,
          "d": 0.675532014966011,
          "domain": "apnews.com"
         },
         {
          "count": 2831,
          "d": 0.6905738031864166,
          "domain": "apnews.com"
         },
         {
          "count": 2733,
          "d": 0.7056155914068222,
          "domain": "apnews.com"
         },
         {
          "count": 2559,
          "d": 0.7206573796272278,
          "domain": "apnews.com"
         },
         {
          "count": 2441,
          "d": 0.7356991678476333,
          "domain": "apnews.com"
         },
         {
          "count": 2456,
          "d": 0.7507409560680389,
          "domain": "apnews.com"
         },
         {
          "count": 2251,
          "d": 0.7657827442884445,
          "domain": "apnews.com"
         },
         {
          "count": 2118,
          "d": 0.7808245325088501,
          "domain": "apnews.com"
         },
         {
          "count": 2006,
          "d": 0.7958663207292557,
          "domain": "apnews.com"
         },
         {
          "count": 1976,
          "d": 0.8109081089496613,
          "domain": "apnews.com"
         },
         {
          "count": 1841,
          "d": 0.8259498971700668,
          "domain": "apnews.com"
         },
         {
          "count": 1727,
          "d": 0.8409916853904724,
          "domain": "apnews.com"
         },
         {
          "count": 1702,
          "d": 0.856033473610878,
          "domain": "apnews.com"
         },
         {
          "count": 1510,
          "d": 0.8710752618312835,
          "domain": "apnews.com"
         },
         {
          "count": 1470,
          "d": 0.8861170500516891,
          "domain": "apnews.com"
         },
         {
          "count": 1402,
          "d": 0.9011588382720946,
          "domain": "apnews.com"
         },
         {
          "count": 1277,
          "d": 0.9162006264925002,
          "domain": "apnews.com"
         },
         {
          "count": 1411,
          "d": 0.9312424147129058,
          "domain": "apnews.com"
         },
         {
          "count": 1093,
          "d": 0.9462842029333114,
          "domain": "apnews.com"
         },
         {
          "count": 1183,
          "d": 0.961325991153717,
          "domain": "apnews.com"
         },
         {
          "count": 1009,
          "d": 0.9763677793741226,
          "domain": "apnews.com"
         },
         {
          "count": 890,
          "d": 0.9914095675945281,
          "domain": "apnews.com"
         },
         {
          "count": 809,
          "d": 1.0064513558149337,
          "domain": "apnews.com"
         },
         {
          "count": 1081,
          "d": 1.0214931440353392,
          "domain": "apnews.com"
         },
         {
          "count": 683,
          "d": 1.036534932255745,
          "domain": "apnews.com"
         },
         {
          "count": 570,
          "d": 1.0515767204761506,
          "domain": "apnews.com"
         },
         {
          "count": 493,
          "d": 1.066618508696556,
          "domain": "apnews.com"
         },
         {
          "count": 439,
          "d": 1.0816602969169615,
          "domain": "apnews.com"
         },
         {
          "count": 389,
          "d": 1.0967020851373672,
          "domain": "apnews.com"
         },
         {
          "count": 320,
          "d": 1.1117438733577727,
          "domain": "apnews.com"
         },
         {
          "count": 288,
          "d": 1.1267856615781784,
          "domain": "apnews.com"
         },
         {
          "count": 255,
          "d": 1.1418274497985839,
          "domain": "apnews.com"
         },
         {
          "count": 212,
          "d": 1.1568692380189896,
          "domain": "apnews.com"
         },
         {
          "count": 170,
          "d": 1.171911026239395,
          "domain": "apnews.com"
         },
         {
          "count": 629,
          "d": 1.1869528144598007,
          "domain": "apnews.com"
         },
         {
          "count": 119,
          "d": 1.2019946026802062,
          "domain": "apnews.com"
         },
         {
          "count": 76,
          "d": 1.2170363909006119,
          "domain": "apnews.com"
         },
         {
          "count": 75,
          "d": 1.2320781791210174,
          "domain": "apnews.com"
         },
         {
          "count": 63,
          "d": 1.247119967341423,
          "domain": "apnews.com"
         },
         {
          "count": 45,
          "d": 1.2621617555618285,
          "domain": "apnews.com"
         },
         {
          "count": 46,
          "d": 1.2772035437822342,
          "domain": "apnews.com"
         },
         {
          "count": 34,
          "d": 1.2922453320026397,
          "domain": "apnews.com"
         },
         {
          "count": 20,
          "d": 1.3072871202230454,
          "domain": "apnews.com"
         },
         {
          "count": 18,
          "d": 1.3223289084434509,
          "domain": "apnews.com"
         },
         {
          "count": 15,
          "d": 1.3373706966638566,
          "domain": "apnews.com"
         },
         {
          "count": 14,
          "d": 1.352412484884262,
          "domain": "apnews.com"
         },
         {
          "count": 7,
          "d": 1.3674542731046675,
          "domain": "apnews.com"
         },
         {
          "count": 13,
          "d": 1.3824960613250732,
          "domain": "apnews.com"
         },
         {
          "count": 4,
          "d": 1.3975378495454787,
          "domain": "apnews.com"
         },
         {
          "count": 5,
          "d": 1.4125796377658844,
          "domain": "apnews.com"
         },
         {
          "count": 4,
          "d": 1.4276214259862898,
          "domain": "apnews.com"
         },
         {
          "count": 8,
          "d": 1.4426632142066955,
          "domain": "apnews.com"
         },
         {
          "count": 2,
          "d": 1.457705002427101,
          "domain": "apnews.com"
         },
         {
          "count": 0,
          "d": 1.4727467906475067,
          "domain": "apnews.com"
         },
         {
          "count": 0,
          "d": 1.4877885788679122,
          "domain": "apnews.com"
         },
         {
          "count": 2,
          "d": 1.5028303670883179,
          "domain": "apnews.com"
         },
         {
          "count": 0,
          "d": 1.5178721553087233,
          "domain": "apnews.com"
         },
         {
          "count": 0,
          "d": 1.532913943529129,
          "domain": "apnews.com"
         },
         {
          "count": 0,
          "d": 1.5479557317495345,
          "domain": "apnews.com"
         },
         {
          "count": 1,
          "d": 0.058818697929382324,
          "domain": "huffingtonpost.com"
         },
         {
          "count": 1,
          "d": 0.07386048614978791,
          "domain": "huffingtonpost.com"
         },
         {
          "count": 1,
          "d": 0.08890227437019348,
          "domain": "huffingtonpost.com"
         },
         {
          "count": 9,
          "d": 0.10394406259059906,
          "domain": "huffingtonpost.com"
         },
         {
          "count": 10,
          "d": 0.11898585081100463,
          "domain": "huffingtonpost.com"
         },
         {
          "count": 21,
          "d": 0.1340276390314102,
          "domain": "huffingtonpost.com"
         },
         {
          "count": 39,
          "d": 0.1490694272518158,
          "domain": "huffingtonpost.com"
         },
         {
          "count": 65,
          "d": 0.16411121547222135,
          "domain": "huffingtonpost.com"
         },
         {
          "count": 66,
          "d": 0.17915300369262693,
          "domain": "huffingtonpost.com"
         },
         {
          "count": 113,
          "d": 0.19419479191303252,
          "domain": "huffingtonpost.com"
         },
         {
          "count": 141,
          "d": 0.2092365801334381,
          "domain": "huffingtonpost.com"
         },
         {
          "count": 200,
          "d": 0.22427836835384368,
          "domain": "huffingtonpost.com"
         },
         {
          "count": 248,
          "d": 0.23932015657424927,
          "domain": "huffingtonpost.com"
         },
         {
          "count": 333,
          "d": 0.25436194479465485,
          "domain": "huffingtonpost.com"
         },
         {
          "count": 393,
          "d": 0.2694037330150604,
          "domain": "huffingtonpost.com"
         },
         {
          "count": 464,
          "d": 0.28444552123546596,
          "domain": "huffingtonpost.com"
         },
         {
          "count": 581,
          "d": 0.29948730945587154,
          "domain": "huffingtonpost.com"
         },
         {
          "count": 725,
          "d": 0.3145290976762771,
          "domain": "huffingtonpost.com"
         },
         {
          "count": 869,
          "d": 0.3295708858966827,
          "domain": "huffingtonpost.com"
         },
         {
          "count": 1084,
          "d": 0.3446126741170883,
          "domain": "huffingtonpost.com"
         },
         {
          "count": 1202,
          "d": 0.3596544623374939,
          "domain": "huffingtonpost.com"
         },
         {
          "count": 1467,
          "d": 0.37469625055789946,
          "domain": "huffingtonpost.com"
         },
         {
          "count": 1651,
          "d": 0.38973803877830504,
          "domain": "huffingtonpost.com"
         },
         {
          "count": 1874,
          "d": 0.4047798269987106,
          "domain": "huffingtonpost.com"
         },
         {
          "count": 2011,
          "d": 0.4198216152191162,
          "domain": "huffingtonpost.com"
         },
         {
          "count": 2160,
          "d": 0.4348634034395218,
          "domain": "huffingtonpost.com"
         },
         {
          "count": 2371,
          "d": 0.4499051916599274,
          "domain": "huffingtonpost.com"
         },
         {
          "count": 2526,
          "d": 0.4649469798803329,
          "domain": "huffingtonpost.com"
         },
         {
          "count": 2582,
          "d": 0.4799887681007385,
          "domain": "huffingtonpost.com"
         },
         {
          "count": 2718,
          "d": 0.49503055632114407,
          "domain": "huffingtonpost.com"
         },
         {
          "count": 2805,
          "d": 0.5100723445415496,
          "domain": "huffingtonpost.com"
         },
         {
          "count": 2698,
          "d": 0.5251141327619553,
          "domain": "huffingtonpost.com"
         },
         {
          "count": 2775,
          "d": 0.5401559209823608,
          "domain": "huffingtonpost.com"
         },
         {
          "count": 2791,
          "d": 0.5551977092027665,
          "domain": "huffingtonpost.com"
         },
         {
          "count": 2813,
          "d": 0.5702394974231719,
          "domain": "huffingtonpost.com"
         },
         {
          "count": 2760,
          "d": 0.5852812856435775,
          "domain": "huffingtonpost.com"
         },
         {
          "count": 2605,
          "d": 0.6003230738639831,
          "domain": "huffingtonpost.com"
         },
         {
          "count": 2556,
          "d": 0.6153648620843887,
          "domain": "huffingtonpost.com"
         },
         {
          "count": 2433,
          "d": 0.6304066503047943,
          "domain": "huffingtonpost.com"
         },
         {
          "count": 2295,
          "d": 0.6454484385251998,
          "domain": "huffingtonpost.com"
         },
         {
          "count": 2211,
          "d": 0.6604902267456054,
          "domain": "huffingtonpost.com"
         },
         {
          "count": 2067,
          "d": 0.675532014966011,
          "domain": "huffingtonpost.com"
         },
         {
          "count": 1874,
          "d": 0.6905738031864166,
          "domain": "huffingtonpost.com"
         },
         {
          "count": 1827,
          "d": 0.7056155914068222,
          "domain": "huffingtonpost.com"
         },
         {
          "count": 1621,
          "d": 0.7206573796272278,
          "domain": "huffingtonpost.com"
         },
         {
          "count": 1422,
          "d": 0.7356991678476333,
          "domain": "huffingtonpost.com"
         },
         {
          "count": 1396,
          "d": 0.7507409560680389,
          "domain": "huffingtonpost.com"
         },
         {
          "count": 1223,
          "d": 0.7657827442884445,
          "domain": "huffingtonpost.com"
         },
         {
          "count": 1141,
          "d": 0.7808245325088501,
          "domain": "huffingtonpost.com"
         },
         {
          "count": 993,
          "d": 0.7958663207292557,
          "domain": "huffingtonpost.com"
         },
         {
          "count": 892,
          "d": 0.8109081089496613,
          "domain": "huffingtonpost.com"
         },
         {
          "count": 849,
          "d": 0.8259498971700668,
          "domain": "huffingtonpost.com"
         },
         {
          "count": 718,
          "d": 0.8409916853904724,
          "domain": "huffingtonpost.com"
         },
         {
          "count": 655,
          "d": 0.856033473610878,
          "domain": "huffingtonpost.com"
         },
         {
          "count": 527,
          "d": 0.8710752618312835,
          "domain": "huffingtonpost.com"
         },
         {
          "count": 478,
          "d": 0.8861170500516891,
          "domain": "huffingtonpost.com"
         },
         {
          "count": 416,
          "d": 0.9011588382720946,
          "domain": "huffingtonpost.com"
         },
         {
          "count": 442,
          "d": 0.9162006264925002,
          "domain": "huffingtonpost.com"
         },
         {
          "count": 344,
          "d": 0.9312424147129058,
          "domain": "huffingtonpost.com"
         },
         {
          "count": 285,
          "d": 0.9462842029333114,
          "domain": "huffingtonpost.com"
         },
         {
          "count": 255,
          "d": 0.961325991153717,
          "domain": "huffingtonpost.com"
         },
         {
          "count": 240,
          "d": 0.9763677793741226,
          "domain": "huffingtonpost.com"
         },
         {
          "count": 195,
          "d": 0.9914095675945281,
          "domain": "huffingtonpost.com"
         },
         {
          "count": 153,
          "d": 1.0064513558149337,
          "domain": "huffingtonpost.com"
         },
         {
          "count": 148,
          "d": 1.0214931440353392,
          "domain": "huffingtonpost.com"
         },
         {
          "count": 122,
          "d": 1.036534932255745,
          "domain": "huffingtonpost.com"
         },
         {
          "count": 113,
          "d": 1.0515767204761506,
          "domain": "huffingtonpost.com"
         },
         {
          "count": 83,
          "d": 1.066618508696556,
          "domain": "huffingtonpost.com"
         },
         {
          "count": 58,
          "d": 1.0816602969169615,
          "domain": "huffingtonpost.com"
         },
         {
          "count": 65,
          "d": 1.0967020851373672,
          "domain": "huffingtonpost.com"
         },
         {
          "count": 67,
          "d": 1.1117438733577727,
          "domain": "huffingtonpost.com"
         },
         {
          "count": 45,
          "d": 1.1267856615781784,
          "domain": "huffingtonpost.com"
         },
         {
          "count": 43,
          "d": 1.1418274497985839,
          "domain": "huffingtonpost.com"
         },
         {
          "count": 34,
          "d": 1.1568692380189896,
          "domain": "huffingtonpost.com"
         },
         {
          "count": 25,
          "d": 1.171911026239395,
          "domain": "huffingtonpost.com"
         },
         {
          "count": 21,
          "d": 1.1869528144598007,
          "domain": "huffingtonpost.com"
         },
         {
          "count": 27,
          "d": 1.2019946026802062,
          "domain": "huffingtonpost.com"
         },
         {
          "count": 24,
          "d": 1.2170363909006119,
          "domain": "huffingtonpost.com"
         },
         {
          "count": 8,
          "d": 1.2320781791210174,
          "domain": "huffingtonpost.com"
         },
         {
          "count": 2,
          "d": 1.247119967341423,
          "domain": "huffingtonpost.com"
         },
         {
          "count": 8,
          "d": 1.2621617555618285,
          "domain": "huffingtonpost.com"
         },
         {
          "count": 6,
          "d": 1.2772035437822342,
          "domain": "huffingtonpost.com"
         },
         {
          "count": 3,
          "d": 1.2922453320026397,
          "domain": "huffingtonpost.com"
         },
         {
          "count": 5,
          "d": 1.3072871202230454,
          "domain": "huffingtonpost.com"
         },
         {
          "count": 1,
          "d": 1.3223289084434509,
          "domain": "huffingtonpost.com"
         },
         {
          "count": 2,
          "d": 1.3373706966638566,
          "domain": "huffingtonpost.com"
         },
         {
          "count": 6,
          "d": 1.352412484884262,
          "domain": "huffingtonpost.com"
         },
         {
          "count": 0,
          "d": 1.3674542731046675,
          "domain": "huffingtonpost.com"
         },
         {
          "count": 0,
          "d": 1.3824960613250732,
          "domain": "huffingtonpost.com"
         },
         {
          "count": 1,
          "d": 1.3975378495454787,
          "domain": "huffingtonpost.com"
         },
         {
          "count": 0,
          "d": 1.4125796377658844,
          "domain": "huffingtonpost.com"
         },
         {
          "count": 0,
          "d": 1.4276214259862898,
          "domain": "huffingtonpost.com"
         },
         {
          "count": 0,
          "d": 1.4426632142066955,
          "domain": "huffingtonpost.com"
         },
         {
          "count": 0,
          "d": 1.457705002427101,
          "domain": "huffingtonpost.com"
         },
         {
          "count": 0,
          "d": 1.4727467906475067,
          "domain": "huffingtonpost.com"
         },
         {
          "count": 0,
          "d": 1.4877885788679122,
          "domain": "huffingtonpost.com"
         },
         {
          "count": 0,
          "d": 1.5028303670883179,
          "domain": "huffingtonpost.com"
         },
         {
          "count": 0,
          "d": 1.5178721553087233,
          "domain": "huffingtonpost.com"
         },
         {
          "count": 0,
          "d": 1.532913943529129,
          "domain": "huffingtonpost.com"
         },
         {
          "count": 0,
          "d": 1.5479557317495345,
          "domain": "huffingtonpost.com"
         },
         {
          "count": 1,
          "d": 0.058818697929382324,
          "domain": "washingtonpost.com"
         },
         {
          "count": 0,
          "d": 0.07386048614978791,
          "domain": "washingtonpost.com"
         },
         {
          "count": 3,
          "d": 0.08890227437019348,
          "domain": "washingtonpost.com"
         },
         {
          "count": 7,
          "d": 0.10394406259059906,
          "domain": "washingtonpost.com"
         },
         {
          "count": 18,
          "d": 0.11898585081100463,
          "domain": "washingtonpost.com"
         },
         {
          "count": 43,
          "d": 0.1340276390314102,
          "domain": "washingtonpost.com"
         },
         {
          "count": 62,
          "d": 0.1490694272518158,
          "domain": "washingtonpost.com"
         },
         {
          "count": 88,
          "d": 0.16411121547222135,
          "domain": "washingtonpost.com"
         },
         {
          "count": 116,
          "d": 0.17915300369262693,
          "domain": "washingtonpost.com"
         },
         {
          "count": 149,
          "d": 0.19419479191303252,
          "domain": "washingtonpost.com"
         },
         {
          "count": 179,
          "d": 0.2092365801334381,
          "domain": "washingtonpost.com"
         },
         {
          "count": 266,
          "d": 0.22427836835384368,
          "domain": "washingtonpost.com"
         },
         {
          "count": 337,
          "d": 0.23932015657424927,
          "domain": "washingtonpost.com"
         },
         {
          "count": 383,
          "d": 0.25436194479465485,
          "domain": "washingtonpost.com"
         },
         {
          "count": 487,
          "d": 0.2694037330150604,
          "domain": "washingtonpost.com"
         },
         {
          "count": 517,
          "d": 0.28444552123546596,
          "domain": "washingtonpost.com"
         },
         {
          "count": 676,
          "d": 0.29948730945587154,
          "domain": "washingtonpost.com"
         },
         {
          "count": 817,
          "d": 0.3145290976762771,
          "domain": "washingtonpost.com"
         },
         {
          "count": 921,
          "d": 0.3295708858966827,
          "domain": "washingtonpost.com"
         },
         {
          "count": 1038,
          "d": 0.3446126741170883,
          "domain": "washingtonpost.com"
         },
         {
          "count": 1179,
          "d": 0.3596544623374939,
          "domain": "washingtonpost.com"
         },
         {
          "count": 1420,
          "d": 0.37469625055789946,
          "domain": "washingtonpost.com"
         },
         {
          "count": 1548,
          "d": 0.38973803877830504,
          "domain": "washingtonpost.com"
         },
         {
          "count": 1910,
          "d": 0.4047798269987106,
          "domain": "washingtonpost.com"
         },
         {
          "count": 1864,
          "d": 0.4198216152191162,
          "domain": "washingtonpost.com"
         },
         {
          "count": 2178,
          "d": 0.4348634034395218,
          "domain": "washingtonpost.com"
         },
         {
          "count": 2329,
          "d": 0.4499051916599274,
          "domain": "washingtonpost.com"
         },
         {
          "count": 2511,
          "d": 0.4649469798803329,
          "domain": "washingtonpost.com"
         },
         {
          "count": 2778,
          "d": 0.4799887681007385,
          "domain": "washingtonpost.com"
         },
         {
          "count": 2732,
          "d": 0.49503055632114407,
          "domain": "washingtonpost.com"
         },
         {
          "count": 2807,
          "d": 0.5100723445415496,
          "domain": "washingtonpost.com"
         },
         {
          "count": 2677,
          "d": 0.5251141327619553,
          "domain": "washingtonpost.com"
         },
         {
          "count": 2809,
          "d": 0.5401559209823608,
          "domain": "washingtonpost.com"
         },
         {
          "count": 2744,
          "d": 0.5551977092027665,
          "domain": "washingtonpost.com"
         },
         {
          "count": 2699,
          "d": 0.5702394974231719,
          "domain": "washingtonpost.com"
         },
         {
          "count": 2643,
          "d": 0.5852812856435775,
          "domain": "washingtonpost.com"
         },
         {
          "count": 2538,
          "d": 0.6003230738639831,
          "domain": "washingtonpost.com"
         },
         {
          "count": 2489,
          "d": 0.6153648620843887,
          "domain": "washingtonpost.com"
         },
         {
          "count": 2340,
          "d": 0.6304066503047943,
          "domain": "washingtonpost.com"
         },
         {
          "count": 2193,
          "d": 0.6454484385251998,
          "domain": "washingtonpost.com"
         },
         {
          "count": 2035,
          "d": 0.6604902267456054,
          "domain": "washingtonpost.com"
         },
         {
          "count": 2003,
          "d": 0.675532014966011,
          "domain": "washingtonpost.com"
         },
         {
          "count": 1907,
          "d": 0.6905738031864166,
          "domain": "washingtonpost.com"
         },
         {
          "count": 1642,
          "d": 0.7056155914068222,
          "domain": "washingtonpost.com"
         },
         {
          "count": 1551,
          "d": 0.7206573796272278,
          "domain": "washingtonpost.com"
         },
         {
          "count": 1348,
          "d": 0.7356991678476333,
          "domain": "washingtonpost.com"
         },
         {
          "count": 1301,
          "d": 0.7507409560680389,
          "domain": "washingtonpost.com"
         },
         {
          "count": 1146,
          "d": 0.7657827442884445,
          "domain": "washingtonpost.com"
         },
         {
          "count": 1059,
          "d": 0.7808245325088501,
          "domain": "washingtonpost.com"
         },
         {
          "count": 966,
          "d": 0.7958663207292557,
          "domain": "washingtonpost.com"
         },
         {
          "count": 860,
          "d": 0.8109081089496613,
          "domain": "washingtonpost.com"
         },
         {
          "count": 754,
          "d": 0.8259498971700668,
          "domain": "washingtonpost.com"
         },
         {
          "count": 683,
          "d": 0.8409916853904724,
          "domain": "washingtonpost.com"
         },
         {
          "count": 599,
          "d": 0.856033473610878,
          "domain": "washingtonpost.com"
         },
         {
          "count": 540,
          "d": 0.8710752618312835,
          "domain": "washingtonpost.com"
         },
         {
          "count": 470,
          "d": 0.8861170500516891,
          "domain": "washingtonpost.com"
         },
         {
          "count": 463,
          "d": 0.9011588382720946,
          "domain": "washingtonpost.com"
         },
         {
          "count": 419,
          "d": 0.9162006264925002,
          "domain": "washingtonpost.com"
         },
         {
          "count": 379,
          "d": 0.9312424147129058,
          "domain": "washingtonpost.com"
         },
         {
          "count": 344,
          "d": 0.9462842029333114,
          "domain": "washingtonpost.com"
         },
         {
          "count": 297,
          "d": 0.961325991153717,
          "domain": "washingtonpost.com"
         },
         {
          "count": 229,
          "d": 0.9763677793741226,
          "domain": "washingtonpost.com"
         },
         {
          "count": 221,
          "d": 0.9914095675945281,
          "domain": "washingtonpost.com"
         },
         {
          "count": 199,
          "d": 1.0064513558149337,
          "domain": "washingtonpost.com"
         },
         {
          "count": 176,
          "d": 1.0214931440353392,
          "domain": "washingtonpost.com"
         },
         {
          "count": 158,
          "d": 1.036534932255745,
          "domain": "washingtonpost.com"
         },
         {
          "count": 153,
          "d": 1.0515767204761506,
          "domain": "washingtonpost.com"
         },
         {
          "count": 115,
          "d": 1.066618508696556,
          "domain": "washingtonpost.com"
         },
         {
          "count": 80,
          "d": 1.0816602969169615,
          "domain": "washingtonpost.com"
         },
         {
          "count": 81,
          "d": 1.0967020851373672,
          "domain": "washingtonpost.com"
         },
         {
          "count": 63,
          "d": 1.1117438733577727,
          "domain": "washingtonpost.com"
         },
         {
          "count": 55,
          "d": 1.1267856615781784,
          "domain": "washingtonpost.com"
         },
         {
          "count": 57,
          "d": 1.1418274497985839,
          "domain": "washingtonpost.com"
         },
         {
          "count": 49,
          "d": 1.1568692380189896,
          "domain": "washingtonpost.com"
         },
         {
          "count": 28,
          "d": 1.171911026239395,
          "domain": "washingtonpost.com"
         },
         {
          "count": 23,
          "d": 1.1869528144598007,
          "domain": "washingtonpost.com"
         },
         {
          "count": 26,
          "d": 1.2019946026802062,
          "domain": "washingtonpost.com"
         },
         {
          "count": 24,
          "d": 1.2170363909006119,
          "domain": "washingtonpost.com"
         },
         {
          "count": 19,
          "d": 1.2320781791210174,
          "domain": "washingtonpost.com"
         },
         {
          "count": 13,
          "d": 1.247119967341423,
          "domain": "washingtonpost.com"
         },
         {
          "count": 3,
          "d": 1.2621617555618285,
          "domain": "washingtonpost.com"
         },
         {
          "count": 10,
          "d": 1.2772035437822342,
          "domain": "washingtonpost.com"
         },
         {
          "count": 7,
          "d": 1.2922453320026397,
          "domain": "washingtonpost.com"
         },
         {
          "count": 5,
          "d": 1.3072871202230454,
          "domain": "washingtonpost.com"
         },
         {
          "count": 4,
          "d": 1.3223289084434509,
          "domain": "washingtonpost.com"
         },
         {
          "count": 4,
          "d": 1.3373706966638566,
          "domain": "washingtonpost.com"
         },
         {
          "count": 0,
          "d": 1.352412484884262,
          "domain": "washingtonpost.com"
         },
         {
          "count": 1,
          "d": 1.3674542731046675,
          "domain": "washingtonpost.com"
         },
         {
          "count": 0,
          "d": 1.3824960613250732,
          "domain": "washingtonpost.com"
         },
         {
          "count": 1,
          "d": 1.3975378495454787,
          "domain": "washingtonpost.com"
         },
         {
          "count": 1,
          "d": 1.4125796377658844,
          "domain": "washingtonpost.com"
         },
         {
          "count": 1,
          "d": 1.4276214259862898,
          "domain": "washingtonpost.com"
         },
         {
          "count": 1,
          "d": 1.4426632142066955,
          "domain": "washingtonpost.com"
         },
         {
          "count": 1,
          "d": 1.457705002427101,
          "domain": "washingtonpost.com"
         },
         {
          "count": 0,
          "d": 1.4727467906475067,
          "domain": "washingtonpost.com"
         },
         {
          "count": 0,
          "d": 1.4877885788679122,
          "domain": "washingtonpost.com"
         },
         {
          "count": 0,
          "d": 1.5028303670883179,
          "domain": "washingtonpost.com"
         },
         {
          "count": 0,
          "d": 1.5178721553087233,
          "domain": "washingtonpost.com"
         },
         {
          "count": 0,
          "d": 1.532913943529129,
          "domain": "washingtonpost.com"
         },
         {
          "count": 1,
          "d": 1.5479557317495345,
          "domain": "washingtonpost.com"
         },
         {
          "count": 0,
          "d": 0.058818697929382324,
          "domain": "wsj.com"
         },
         {
          "count": 0,
          "d": 0.07386048614978791,
          "domain": "wsj.com"
         },
         {
          "count": 1,
          "d": 0.08890227437019348,
          "domain": "wsj.com"
         },
         {
          "count": 1,
          "d": 0.10394406259059906,
          "domain": "wsj.com"
         },
         {
          "count": 3,
          "d": 0.11898585081100463,
          "domain": "wsj.com"
         },
         {
          "count": 12,
          "d": 0.1340276390314102,
          "domain": "wsj.com"
         },
         {
          "count": 8,
          "d": 0.1490694272518158,
          "domain": "wsj.com"
         },
         {
          "count": 28,
          "d": 0.16411121547222135,
          "domain": "wsj.com"
         },
         {
          "count": 30,
          "d": 0.17915300369262693,
          "domain": "wsj.com"
         },
         {
          "count": 37,
          "d": 0.19419479191303252,
          "domain": "wsj.com"
         },
         {
          "count": 57,
          "d": 0.2092365801334381,
          "domain": "wsj.com"
         },
         {
          "count": 69,
          "d": 0.22427836835384368,
          "domain": "wsj.com"
         },
         {
          "count": 100,
          "d": 0.23932015657424927,
          "domain": "wsj.com"
         },
         {
          "count": 111,
          "d": 0.25436194479465485,
          "domain": "wsj.com"
         },
         {
          "count": 178,
          "d": 0.2694037330150604,
          "domain": "wsj.com"
         },
         {
          "count": 214,
          "d": 0.28444552123546596,
          "domain": "wsj.com"
         },
         {
          "count": 230,
          "d": 0.29948730945587154,
          "domain": "wsj.com"
         },
         {
          "count": 297,
          "d": 0.3145290976762771,
          "domain": "wsj.com"
         },
         {
          "count": 348,
          "d": 0.3295708858966827,
          "domain": "wsj.com"
         },
         {
          "count": 416,
          "d": 0.3446126741170883,
          "domain": "wsj.com"
         },
         {
          "count": 484,
          "d": 0.3596544623374939,
          "domain": "wsj.com"
         },
         {
          "count": 614,
          "d": 0.37469625055789946,
          "domain": "wsj.com"
         },
         {
          "count": 666,
          "d": 0.38973803877830504,
          "domain": "wsj.com"
         },
         {
          "count": 827,
          "d": 0.4047798269987106,
          "domain": "wsj.com"
         },
         {
          "count": 854,
          "d": 0.4198216152191162,
          "domain": "wsj.com"
         },
         {
          "count": 1001,
          "d": 0.4348634034395218,
          "domain": "wsj.com"
         },
         {
          "count": 1101,
          "d": 0.4499051916599274,
          "domain": "wsj.com"
         },
         {
          "count": 1346,
          "d": 0.4649469798803329,
          "domain": "wsj.com"
         },
         {
          "count": 1434,
          "d": 0.4799887681007385,
          "domain": "wsj.com"
         },
         {
          "count": 1594,
          "d": 0.49503055632114407,
          "domain": "wsj.com"
         },
         {
          "count": 1653,
          "d": 0.5100723445415496,
          "domain": "wsj.com"
         },
         {
          "count": 1790,
          "d": 0.5251141327619553,
          "domain": "wsj.com"
         },
         {
          "count": 1932,
          "d": 0.5401559209823608,
          "domain": "wsj.com"
         },
         {
          "count": 1920,
          "d": 0.5551977092027665,
          "domain": "wsj.com"
         },
         {
          "count": 2080,
          "d": 0.5702394974231719,
          "domain": "wsj.com"
         },
         {
          "count": 2009,
          "d": 0.5852812856435775,
          "domain": "wsj.com"
         },
         {
          "count": 2205,
          "d": 0.6003230738639831,
          "domain": "wsj.com"
         },
         {
          "count": 2275,
          "d": 0.6153648620843887,
          "domain": "wsj.com"
         },
         {
          "count": 2213,
          "d": 0.6304066503047943,
          "domain": "wsj.com"
         },
         {
          "count": 2243,
          "d": 0.6454484385251998,
          "domain": "wsj.com"
         },
         {
          "count": 2266,
          "d": 0.6604902267456054,
          "domain": "wsj.com"
         },
         {
          "count": 2269,
          "d": 0.675532014966011,
          "domain": "wsj.com"
         },
         {
          "count": 2291,
          "d": 0.6905738031864166,
          "domain": "wsj.com"
         },
         {
          "count": 2179,
          "d": 0.7056155914068222,
          "domain": "wsj.com"
         },
         {
          "count": 2168,
          "d": 0.7206573796272278,
          "domain": "wsj.com"
         },
         {
          "count": 2349,
          "d": 0.7356991678476333,
          "domain": "wsj.com"
         },
         {
          "count": 2098,
          "d": 0.7507409560680389,
          "domain": "wsj.com"
         },
         {
          "count": 2140,
          "d": 0.7657827442884445,
          "domain": "wsj.com"
         },
         {
          "count": 2056,
          "d": 0.7808245325088501,
          "domain": "wsj.com"
         },
         {
          "count": 1956,
          "d": 0.7958663207292557,
          "domain": "wsj.com"
         },
         {
          "count": 1968,
          "d": 0.8109081089496613,
          "domain": "wsj.com"
         },
         {
          "count": 1943,
          "d": 0.8259498971700668,
          "domain": "wsj.com"
         },
         {
          "count": 1898,
          "d": 0.8409916853904724,
          "domain": "wsj.com"
         },
         {
          "count": 1765,
          "d": 0.856033473610878,
          "domain": "wsj.com"
         },
         {
          "count": 1660,
          "d": 0.8710752618312835,
          "domain": "wsj.com"
         },
         {
          "count": 1497,
          "d": 0.8861170500516891,
          "domain": "wsj.com"
         },
         {
          "count": 1467,
          "d": 0.9011588382720946,
          "domain": "wsj.com"
         },
         {
          "count": 1334,
          "d": 0.9162006264925002,
          "domain": "wsj.com"
         },
         {
          "count": 1211,
          "d": 0.9312424147129058,
          "domain": "wsj.com"
         },
         {
          "count": 1050,
          "d": 0.9462842029333114,
          "domain": "wsj.com"
         },
         {
          "count": 957,
          "d": 0.961325991153717,
          "domain": "wsj.com"
         },
         {
          "count": 1019,
          "d": 0.9763677793741226,
          "domain": "wsj.com"
         },
         {
          "count": 733,
          "d": 0.9914095675945281,
          "domain": "wsj.com"
         },
         {
          "count": 573,
          "d": 1.0064513558149337,
          "domain": "wsj.com"
         },
         {
          "count": 515,
          "d": 1.0214931440353392,
          "domain": "wsj.com"
         },
         {
          "count": 418,
          "d": 1.036534932255745,
          "domain": "wsj.com"
         },
         {
          "count": 356,
          "d": 1.0515767204761506,
          "domain": "wsj.com"
         },
         {
          "count": 286,
          "d": 1.066618508696556,
          "domain": "wsj.com"
         },
         {
          "count": 233,
          "d": 1.0816602969169615,
          "domain": "wsj.com"
         },
         {
          "count": 179,
          "d": 1.0967020851373672,
          "domain": "wsj.com"
         },
         {
          "count": 142,
          "d": 1.1117438733577727,
          "domain": "wsj.com"
         },
         {
          "count": 125,
          "d": 1.1267856615781784,
          "domain": "wsj.com"
         },
         {
          "count": 88,
          "d": 1.1418274497985839,
          "domain": "wsj.com"
         },
         {
          "count": 87,
          "d": 1.1568692380189896,
          "domain": "wsj.com"
         },
         {
          "count": 46,
          "d": 1.171911026239395,
          "domain": "wsj.com"
         },
         {
          "count": 42,
          "d": 1.1869528144598007,
          "domain": "wsj.com"
         },
         {
          "count": 30,
          "d": 1.2019946026802062,
          "domain": "wsj.com"
         },
         {
          "count": 50,
          "d": 1.2170363909006119,
          "domain": "wsj.com"
         },
         {
          "count": 21,
          "d": 1.2320781791210174,
          "domain": "wsj.com"
         },
         {
          "count": 17,
          "d": 1.247119967341423,
          "domain": "wsj.com"
         },
         {
          "count": 12,
          "d": 1.2621617555618285,
          "domain": "wsj.com"
         },
         {
          "count": 12,
          "d": 1.2772035437822342,
          "domain": "wsj.com"
         },
         {
          "count": 7,
          "d": 1.2922453320026397,
          "domain": "wsj.com"
         },
         {
          "count": 8,
          "d": 1.3072871202230454,
          "domain": "wsj.com"
         },
         {
          "count": 3,
          "d": 1.3223289084434509,
          "domain": "wsj.com"
         },
         {
          "count": 4,
          "d": 1.3373706966638566,
          "domain": "wsj.com"
         },
         {
          "count": 3,
          "d": 1.352412484884262,
          "domain": "wsj.com"
         },
         {
          "count": 5,
          "d": 1.3674542731046675,
          "domain": "wsj.com"
         },
         {
          "count": 2,
          "d": 1.3824960613250732,
          "domain": "wsj.com"
         },
         {
          "count": 0,
          "d": 1.3975378495454787,
          "domain": "wsj.com"
         },
         {
          "count": 0,
          "d": 1.4125796377658844,
          "domain": "wsj.com"
         },
         {
          "count": 0,
          "d": 1.4276214259862898,
          "domain": "wsj.com"
         },
         {
          "count": 1,
          "d": 1.4426632142066955,
          "domain": "wsj.com"
         },
         {
          "count": 0,
          "d": 1.457705002427101,
          "domain": "wsj.com"
         },
         {
          "count": 0,
          "d": 1.4727467906475067,
          "domain": "wsj.com"
         },
         {
          "count": 0,
          "d": 1.4877885788679122,
          "domain": "wsj.com"
         },
         {
          "count": 0,
          "d": 1.5028303670883179,
          "domain": "wsj.com"
         },
         {
          "count": 0,
          "d": 1.5178721553087233,
          "domain": "wsj.com"
         },
         {
          "count": 0,
          "d": 1.532913943529129,
          "domain": "wsj.com"
         },
         {
          "count": 0,
          "d": 1.5479557317495345,
          "domain": "wsj.com"
         },
         {
          "count": 1,
          "d": 0.058818697929382324,
          "domain": "foxnews.com"
         },
         {
          "count": 1,
          "d": 0.07386048614978791,
          "domain": "foxnews.com"
         },
         {
          "count": 3,
          "d": 0.08890227437019348,
          "domain": "foxnews.com"
         },
         {
          "count": 8,
          "d": 0.10394406259059906,
          "domain": "foxnews.com"
         },
         {
          "count": 10,
          "d": 0.11898585081100463,
          "domain": "foxnews.com"
         },
         {
          "count": 27,
          "d": 0.1340276390314102,
          "domain": "foxnews.com"
         },
         {
          "count": 46,
          "d": 0.1490694272518158,
          "domain": "foxnews.com"
         },
         {
          "count": 78,
          "d": 0.16411121547222135,
          "domain": "foxnews.com"
         },
         {
          "count": 106,
          "d": 0.17915300369262693,
          "domain": "foxnews.com"
         },
         {
          "count": 117,
          "d": 0.19419479191303252,
          "domain": "foxnews.com"
         },
         {
          "count": 181,
          "d": 0.2092365801334381,
          "domain": "foxnews.com"
         },
         {
          "count": 236,
          "d": 0.22427836835384368,
          "domain": "foxnews.com"
         },
         {
          "count": 336,
          "d": 0.23932015657424927,
          "domain": "foxnews.com"
         },
         {
          "count": 398,
          "d": 0.25436194479465485,
          "domain": "foxnews.com"
         },
         {
          "count": 422,
          "d": 0.2694037330150604,
          "domain": "foxnews.com"
         },
         {
          "count": 499,
          "d": 0.28444552123546596,
          "domain": "foxnews.com"
         },
         {
          "count": 597,
          "d": 0.29948730945587154,
          "domain": "foxnews.com"
         },
         {
          "count": 669,
          "d": 0.3145290976762771,
          "domain": "foxnews.com"
         },
         {
          "count": 685,
          "d": 0.3295708858966827,
          "domain": "foxnews.com"
         },
         {
          "count": 797,
          "d": 0.3446126741170883,
          "domain": "foxnews.com"
         },
         {
          "count": 885,
          "d": 0.3596544623374939,
          "domain": "foxnews.com"
         },
         {
          "count": 968,
          "d": 0.37469625055789946,
          "domain": "foxnews.com"
         },
         {
          "count": 1035,
          "d": 0.38973803877830504,
          "domain": "foxnews.com"
         },
         {
          "count": 1125,
          "d": 0.4047798269987106,
          "domain": "foxnews.com"
         },
         {
          "count": 1344,
          "d": 0.4198216152191162,
          "domain": "foxnews.com"
         },
         {
          "count": 1446,
          "d": 0.4348634034395218,
          "domain": "foxnews.com"
         },
         {
          "count": 1498,
          "d": 0.4499051916599274,
          "domain": "foxnews.com"
         },
         {
          "count": 1672,
          "d": 0.4649469798803329,
          "domain": "foxnews.com"
         },
         {
          "count": 1849,
          "d": 0.4799887681007385,
          "domain": "foxnews.com"
         },
         {
          "count": 2041,
          "d": 0.49503055632114407,
          "domain": "foxnews.com"
         },
         {
          "count": 2197,
          "d": 0.5100723445415496,
          "domain": "foxnews.com"
         },
         {
          "count": 2422,
          "d": 0.5251141327619553,
          "domain": "foxnews.com"
         },
         {
          "count": 2605,
          "d": 0.5401559209823608,
          "domain": "foxnews.com"
         },
         {
          "count": 2556,
          "d": 0.5551977092027665,
          "domain": "foxnews.com"
         },
         {
          "count": 2684,
          "d": 0.5702394974231719,
          "domain": "foxnews.com"
         },
         {
          "count": 2615,
          "d": 0.5852812856435775,
          "domain": "foxnews.com"
         },
         {
          "count": 2669,
          "d": 0.6003230738639831,
          "domain": "foxnews.com"
         },
         {
          "count": 2592,
          "d": 0.6153648620843887,
          "domain": "foxnews.com"
         },
         {
          "count": 2553,
          "d": 0.6304066503047943,
          "domain": "foxnews.com"
         },
         {
          "count": 2370,
          "d": 0.6454484385251998,
          "domain": "foxnews.com"
         },
         {
          "count": 2405,
          "d": 0.6604902267456054,
          "domain": "foxnews.com"
         },
         {
          "count": 2169,
          "d": 0.675532014966011,
          "domain": "foxnews.com"
         },
         {
          "count": 2199,
          "d": 0.6905738031864166,
          "domain": "foxnews.com"
         },
         {
          "count": 2047,
          "d": 0.7056155914068222,
          "domain": "foxnews.com"
         },
         {
          "count": 1844,
          "d": 0.7206573796272278,
          "domain": "foxnews.com"
         },
         {
          "count": 1794,
          "d": 0.7356991678476333,
          "domain": "foxnews.com"
         },
         {
          "count": 1678,
          "d": 0.7507409560680389,
          "domain": "foxnews.com"
         },
         {
          "count": 1585,
          "d": 0.7657827442884445,
          "domain": "foxnews.com"
         },
         {
          "count": 1533,
          "d": 0.7808245325088501,
          "domain": "foxnews.com"
         },
         {
          "count": 1414,
          "d": 0.7958663207292557,
          "domain": "foxnews.com"
         },
         {
          "count": 1281,
          "d": 0.8109081089496613,
          "domain": "foxnews.com"
         },
         {
          "count": 1260,
          "d": 0.8259498971700668,
          "domain": "foxnews.com"
         },
         {
          "count": 1109,
          "d": 0.8409916853904724,
          "domain": "foxnews.com"
         },
         {
          "count": 1005,
          "d": 0.856033473610878,
          "domain": "foxnews.com"
         },
         {
          "count": 950,
          "d": 0.8710752618312835,
          "domain": "foxnews.com"
         },
         {
          "count": 849,
          "d": 0.8861170500516891,
          "domain": "foxnews.com"
         },
         {
          "count": 840,
          "d": 0.9011588382720946,
          "domain": "foxnews.com"
         },
         {
          "count": 690,
          "d": 0.9162006264925002,
          "domain": "foxnews.com"
         },
         {
          "count": 605,
          "d": 0.9312424147129058,
          "domain": "foxnews.com"
         },
         {
          "count": 554,
          "d": 0.9462842029333114,
          "domain": "foxnews.com"
         },
         {
          "count": 511,
          "d": 0.961325991153717,
          "domain": "foxnews.com"
         },
         {
          "count": 448,
          "d": 0.9763677793741226,
          "domain": "foxnews.com"
         },
         {
          "count": 363,
          "d": 0.9914095675945281,
          "domain": "foxnews.com"
         },
         {
          "count": 297,
          "d": 1.0064513558149337,
          "domain": "foxnews.com"
         },
         {
          "count": 265,
          "d": 1.0214931440353392,
          "domain": "foxnews.com"
         },
         {
          "count": 203,
          "d": 1.036534932255745,
          "domain": "foxnews.com"
         },
         {
          "count": 184,
          "d": 1.0515767204761506,
          "domain": "foxnews.com"
         },
         {
          "count": 131,
          "d": 1.066618508696556,
          "domain": "foxnews.com"
         },
         {
          "count": 139,
          "d": 1.0816602969169615,
          "domain": "foxnews.com"
         },
         {
          "count": 115,
          "d": 1.0967020851373672,
          "domain": "foxnews.com"
         },
         {
          "count": 109,
          "d": 1.1117438733577727,
          "domain": "foxnews.com"
         },
         {
          "count": 81,
          "d": 1.1267856615781784,
          "domain": "foxnews.com"
         },
         {
          "count": 66,
          "d": 1.1418274497985839,
          "domain": "foxnews.com"
         },
         {
          "count": 48,
          "d": 1.1568692380189896,
          "domain": "foxnews.com"
         },
         {
          "count": 45,
          "d": 1.171911026239395,
          "domain": "foxnews.com"
         },
         {
          "count": 38,
          "d": 1.1869528144598007,
          "domain": "foxnews.com"
         },
         {
          "count": 24,
          "d": 1.2019946026802062,
          "domain": "foxnews.com"
         },
         {
          "count": 20,
          "d": 1.2170363909006119,
          "domain": "foxnews.com"
         },
         {
          "count": 19,
          "d": 1.2320781791210174,
          "domain": "foxnews.com"
         },
         {
          "count": 12,
          "d": 1.247119967341423,
          "domain": "foxnews.com"
         },
         {
          "count": 3,
          "d": 1.2621617555618285,
          "domain": "foxnews.com"
         },
         {
          "count": 7,
          "d": 1.2772035437822342,
          "domain": "foxnews.com"
         },
         {
          "count": 7,
          "d": 1.2922453320026397,
          "domain": "foxnews.com"
         },
         {
          "count": 6,
          "d": 1.3072871202230454,
          "domain": "foxnews.com"
         },
         {
          "count": 1,
          "d": 1.3223289084434509,
          "domain": "foxnews.com"
         },
         {
          "count": 2,
          "d": 1.3373706966638566,
          "domain": "foxnews.com"
         },
         {
          "count": 3,
          "d": 1.352412484884262,
          "domain": "foxnews.com"
         },
         {
          "count": 5,
          "d": 1.3674542731046675,
          "domain": "foxnews.com"
         },
         {
          "count": 0,
          "d": 1.3824960613250732,
          "domain": "foxnews.com"
         },
         {
          "count": 2,
          "d": 1.3975378495454787,
          "domain": "foxnews.com"
         },
         {
          "count": 0,
          "d": 1.4125796377658844,
          "domain": "foxnews.com"
         },
         {
          "count": 1,
          "d": 1.4276214259862898,
          "domain": "foxnews.com"
         },
         {
          "count": 1,
          "d": 1.4426632142066955,
          "domain": "foxnews.com"
         },
         {
          "count": 0,
          "d": 1.457705002427101,
          "domain": "foxnews.com"
         },
         {
          "count": 0,
          "d": 1.4727467906475067,
          "domain": "foxnews.com"
         },
         {
          "count": 0,
          "d": 1.4877885788679122,
          "domain": "foxnews.com"
         },
         {
          "count": 0,
          "d": 1.5028303670883179,
          "domain": "foxnews.com"
         },
         {
          "count": 0,
          "d": 1.5178721553087233,
          "domain": "foxnews.com"
         },
         {
          "count": 0,
          "d": 1.532913943529129,
          "domain": "foxnews.com"
         },
         {
          "count": 0,
          "d": 1.5479557317495345,
          "domain": "foxnews.com"
         },
         {
          "count": 0,
          "d": 0.058818697929382324,
          "domain": "dailykos.com"
         },
         {
          "count": 0,
          "d": 0.07386048614978791,
          "domain": "dailykos.com"
         },
         {
          "count": 0,
          "d": 0.08890227437019348,
          "domain": "dailykos.com"
         },
         {
          "count": 0,
          "d": 0.10394406259059906,
          "domain": "dailykos.com"
         },
         {
          "count": 0,
          "d": 0.11898585081100463,
          "domain": "dailykos.com"
         },
         {
          "count": 0,
          "d": 0.1340276390314102,
          "domain": "dailykos.com"
         },
         {
          "count": 3,
          "d": 0.1490694272518158,
          "domain": "dailykos.com"
         },
         {
          "count": 3,
          "d": 0.16411121547222135,
          "domain": "dailykos.com"
         },
         {
          "count": 4,
          "d": 0.17915300369262693,
          "domain": "dailykos.com"
         },
         {
          "count": 12,
          "d": 0.19419479191303252,
          "domain": "dailykos.com"
         },
         {
          "count": 9,
          "d": 0.2092365801334381,
          "domain": "dailykos.com"
         },
         {
          "count": 12,
          "d": 0.22427836835384368,
          "domain": "dailykos.com"
         },
         {
          "count": 31,
          "d": 0.23932015657424927,
          "domain": "dailykos.com"
         },
         {
          "count": 29,
          "d": 0.25436194479465485,
          "domain": "dailykos.com"
         },
         {
          "count": 28,
          "d": 0.2694037330150604,
          "domain": "dailykos.com"
         },
         {
          "count": 51,
          "d": 0.28444552123546596,
          "domain": "dailykos.com"
         },
         {
          "count": 53,
          "d": 0.29948730945587154,
          "domain": "dailykos.com"
         },
         {
          "count": 88,
          "d": 0.3145290976762771,
          "domain": "dailykos.com"
         },
         {
          "count": 68,
          "d": 0.3295708858966827,
          "domain": "dailykos.com"
         },
         {
          "count": 104,
          "d": 0.3446126741170883,
          "domain": "dailykos.com"
         },
         {
          "count": 165,
          "d": 0.3596544623374939,
          "domain": "dailykos.com"
         },
         {
          "count": 200,
          "d": 0.37469625055789946,
          "domain": "dailykos.com"
         },
         {
          "count": 216,
          "d": 0.38973803877830504,
          "domain": "dailykos.com"
         },
         {
          "count": 254,
          "d": 0.4047798269987106,
          "domain": "dailykos.com"
         },
         {
          "count": 346,
          "d": 0.4198216152191162,
          "domain": "dailykos.com"
         },
         {
          "count": 373,
          "d": 0.4348634034395218,
          "domain": "dailykos.com"
         },
         {
          "count": 424,
          "d": 0.4499051916599274,
          "domain": "dailykos.com"
         },
         {
          "count": 479,
          "d": 0.4649469798803329,
          "domain": "dailykos.com"
         },
         {
          "count": 545,
          "d": 0.4799887681007385,
          "domain": "dailykos.com"
         },
         {
          "count": 638,
          "d": 0.49503055632114407,
          "domain": "dailykos.com"
         },
         {
          "count": 680,
          "d": 0.5100723445415496,
          "domain": "dailykos.com"
         },
         {
          "count": 856,
          "d": 0.5251141327619553,
          "domain": "dailykos.com"
         },
         {
          "count": 845,
          "d": 0.5401559209823608,
          "domain": "dailykos.com"
         },
         {
          "count": 956,
          "d": 0.5551977092027665,
          "domain": "dailykos.com"
         },
         {
          "count": 1095,
          "d": 0.5702394974231719,
          "domain": "dailykos.com"
         },
         {
          "count": 1191,
          "d": 0.5852812856435775,
          "domain": "dailykos.com"
         },
         {
          "count": 1185,
          "d": 0.6003230738639831,
          "domain": "dailykos.com"
         },
         {
          "count": 1355,
          "d": 0.6153648620843887,
          "domain": "dailykos.com"
         },
         {
          "count": 1456,
          "d": 0.6304066503047943,
          "domain": "dailykos.com"
         },
         {
          "count": 1643,
          "d": 0.6454484385251998,
          "domain": "dailykos.com"
         },
         {
          "count": 1631,
          "d": 0.6604902267456054,
          "domain": "dailykos.com"
         },
         {
          "count": 1770,
          "d": 0.675532014966011,
          "domain": "dailykos.com"
         },
         {
          "count": 1877,
          "d": 0.6905738031864166,
          "domain": "dailykos.com"
         },
         {
          "count": 1957,
          "d": 0.7056155914068222,
          "domain": "dailykos.com"
         },
         {
          "count": 2008,
          "d": 0.7206573796272278,
          "domain": "dailykos.com"
         },
         {
          "count": 2164,
          "d": 0.7356991678476333,
          "domain": "dailykos.com"
         },
         {
          "count": 2189,
          "d": 0.7507409560680389,
          "domain": "dailykos.com"
         },
         {
          "count": 2373,
          "d": 0.7657827442884445,
          "domain": "dailykos.com"
         },
         {
          "count": 2166,
          "d": 0.7808245325088501,
          "domain": "dailykos.com"
         },
         {
          "count": 2398,
          "d": 0.7958663207292557,
          "domain": "dailykos.com"
         },
         {
          "count": 2353,
          "d": 0.8109081089496613,
          "domain": "dailykos.com"
         },
         {
          "count": 2287,
          "d": 0.8259498971700668,
          "domain": "dailykos.com"
         },
         {
          "count": 2219,
          "d": 0.8409916853904724,
          "domain": "dailykos.com"
         },
         {
          "count": 2436,
          "d": 0.856033473610878,
          "domain": "dailykos.com"
         },
         {
          "count": 2245,
          "d": 0.8710752618312835,
          "domain": "dailykos.com"
         },
         {
          "count": 2302,
          "d": 0.8861170500516891,
          "domain": "dailykos.com"
         },
         {
          "count": 2217,
          "d": 0.9011588382720946,
          "domain": "dailykos.com"
         },
         {
          "count": 2127,
          "d": 0.9162006264925002,
          "domain": "dailykos.com"
         },
         {
          "count": 2063,
          "d": 0.9312424147129058,
          "domain": "dailykos.com"
         },
         {
          "count": 1899,
          "d": 0.9462842029333114,
          "domain": "dailykos.com"
         },
         {
          "count": 1809,
          "d": 0.961325991153717,
          "domain": "dailykos.com"
         },
         {
          "count": 1798,
          "d": 0.9763677793741226,
          "domain": "dailykos.com"
         },
         {
          "count": 1691,
          "d": 0.9914095675945281,
          "domain": "dailykos.com"
         },
         {
          "count": 1994,
          "d": 1.0064513558149337,
          "domain": "dailykos.com"
         },
         {
          "count": 1692,
          "d": 1.0214931440353392,
          "domain": "dailykos.com"
         },
         {
          "count": 1342,
          "d": 1.036534932255745,
          "domain": "dailykos.com"
         },
         {
          "count": 1102,
          "d": 1.0515767204761506,
          "domain": "dailykos.com"
         },
         {
          "count": 1053,
          "d": 1.066618508696556,
          "domain": "dailykos.com"
         },
         {
          "count": 1244,
          "d": 1.0816602969169615,
          "domain": "dailykos.com"
         },
         {
          "count": 791,
          "d": 1.0967020851373672,
          "domain": "dailykos.com"
         },
         {
          "count": 574,
          "d": 1.1117438733577727,
          "domain": "dailykos.com"
         },
         {
          "count": 520,
          "d": 1.1267856615781784,
          "domain": "dailykos.com"
         },
         {
          "count": 415,
          "d": 1.1418274497985839,
          "domain": "dailykos.com"
         },
         {
          "count": 320,
          "d": 1.1568692380189896,
          "domain": "dailykos.com"
         },
         {
          "count": 252,
          "d": 1.171911026239395,
          "domain": "dailykos.com"
         },
         {
          "count": 205,
          "d": 1.1869528144598007,
          "domain": "dailykos.com"
         },
         {
          "count": 160,
          "d": 1.2019946026802062,
          "domain": "dailykos.com"
         },
         {
          "count": 117,
          "d": 1.2170363909006119,
          "domain": "dailykos.com"
         },
         {
          "count": 84,
          "d": 1.2320781791210174,
          "domain": "dailykos.com"
         },
         {
          "count": 75,
          "d": 1.247119967341423,
          "domain": "dailykos.com"
         },
         {
          "count": 56,
          "d": 1.2621617555618285,
          "domain": "dailykos.com"
         },
         {
          "count": 26,
          "d": 1.2772035437822342,
          "domain": "dailykos.com"
         },
         {
          "count": 25,
          "d": 1.2922453320026397,
          "domain": "dailykos.com"
         },
         {
          "count": 15,
          "d": 1.3072871202230454,
          "domain": "dailykos.com"
         },
         {
          "count": 9,
          "d": 1.3223289084434509,
          "domain": "dailykos.com"
         },
         {
          "count": 11,
          "d": 1.3373706966638566,
          "domain": "dailykos.com"
         },
         {
          "count": 22,
          "d": 1.352412484884262,
          "domain": "dailykos.com"
         },
         {
          "count": 6,
          "d": 1.3674542731046675,
          "domain": "dailykos.com"
         },
         {
          "count": 1,
          "d": 1.3824960613250732,
          "domain": "dailykos.com"
         },
         {
          "count": 3,
          "d": 1.3975378495454787,
          "domain": "dailykos.com"
         },
         {
          "count": 4,
          "d": 1.4125796377658844,
          "domain": "dailykos.com"
         },
         {
          "count": 2,
          "d": 1.4276214259862898,
          "domain": "dailykos.com"
         },
         {
          "count": 3,
          "d": 1.4426632142066955,
          "domain": "dailykos.com"
         },
         {
          "count": 0,
          "d": 1.457705002427101,
          "domain": "dailykos.com"
         },
         {
          "count": 0,
          "d": 1.4727467906475067,
          "domain": "dailykos.com"
         },
         {
          "count": 1,
          "d": 1.4877885788679122,
          "domain": "dailykos.com"
         },
         {
          "count": 0,
          "d": 1.5028303670883179,
          "domain": "dailykos.com"
         },
         {
          "count": 0,
          "d": 1.5178721553087233,
          "domain": "dailykos.com"
         },
         {
          "count": 0,
          "d": 1.532913943529129,
          "domain": "dailykos.com"
         },
         {
          "count": 1,
          "d": 1.5479557317495345,
          "domain": "dailykos.com"
         }
        ]
       },
       "layer": [
        {
         "data": {
          "name": "data-e4815c8d3175755727be816f792b2afb"
         },
         "encoding": {
          "color": {
           "field": "domain",
           "type": "nominal"
          },
          "opacity": {
           "value": 0
          },
          "x": {
           "field": "d",
           "scale": {
            "zero": false
           },
           "type": "quantitative"
          },
          "y": {
           "field": "count",
           "type": "quantitative"
          }
         },
         "height": 500,
         "mark": "circle",
         "selection": {
          "selector009": {
           "empty": "all",
           "fields": [
            "domain"
           ],
           "nearest": true,
           "on": "mouseover",
           "resolve": "global",
           "type": "single"
          }
         },
         "width": 600
        },
        {
         "data": {
          "name": "data-e4815c8d3175755727be816f792b2afb"
         },
         "encoding": {
          "color": {
           "field": "domain",
           "type": "nominal"
          },
          "size": {
           "condition": {
            "selection": {
             "not": "selector009"
            },
            "value": 2
           },
           "value": 5
          },
          "tooltip": {
           "field": "domain",
           "type": "nominal"
          },
          "x": {
           "field": "d",
           "scale": {
            "zero": false
           },
           "type": "quantitative"
          },
          "y": {
           "field": "count",
           "type": "quantitative"
          }
         },
         "height": 500,
         "mark": "line",
         "width": 700
        }
       ]
      },
      "image/png": "[encoded data removed]",
      "text/plain": [
       "<VegaLite 2 object>\n",
       "\n",
       "If you see this message, it means the renderer has not been properly enabled\n",
       "for the frontend that you are using. For more information, see\n",
       "https://altair-viz.github.io/user_guide/troubleshooting.html\n"
      ]
     },
     "execution_count": 67,
     "metadata": {},
     "output_type": "execute_result"
    }
   ],
   "source": [
    "plot_step_hist_interactive(x, ys)"
   ]
  },
  {
   "cell_type": "code",
   "execution_count": 69,
   "metadata": {},
   "outputs": [
    {
     "data": {
      "image/png": "[encoded data removed]",
      "text/plain": [
       "<Figure size 360x720 with 1 Axes>"
      ]
     },
     "metadata": {
      "needs_background": "light"
     },
     "output_type": "display_data"
    }
   ],
   "source": [
    "plot_ds_violin(ds)"
   ]
  },
  {
   "cell_type": "code",
   "execution_count": 70,
   "metadata": {},
   "outputs": [
    {
     "name": "stderr",
     "output_type": "stream",
     "text": [
      "100%|██████████| 13/13 [00:19<00:00,  1.46s/it]\n"
     ]
    }
   ],
   "source": [
    "ds = {\n",
    "    d: ds_from_center(d, distance.euclidean)\n",
    "    for d in tqdm(domains)\n",
    "}"
   ]
  },
  {
   "cell_type": "code",
   "execution_count": 71,
   "metadata": {},
   "outputs": [
    {
     "data": {
      "image/png": "[encoded data removed]",
      "text/plain": [
       "<Figure size 1080x720 with 1 Axes>"
      ]
     },
     "metadata": {
      "needs_background": "light"
     },
     "output_type": "display_data"
    }
   ],
   "source": [
    "x, ys = plot_step_hist(ds)"
   ]
  },
  {
   "cell_type": "code",
   "execution_count": 72,
   "metadata": {},
   "outputs": [
    {
     "data": {
      "application/vnd.vegalite.v2+json": {
       "$schema": "https://vega.github.io/schema/vega-lite/v2.6.0.json",
       "config": {
        "view": {
         "height": 300,
         "width": 400
        }
       },
       "datasets": {
        "data-aad33ac8ea93d92a2c009eb821e77fab": [
         {
          "count": 0,
          "d": 2.8465142250061035,
          "domain": "dailycaller.com"
         },
         {
          "count": 0,
          "d": 3.3516684675216677,
          "domain": "dailycaller.com"
         },
         {
          "count": 5,
          "d": 3.8568227100372314,
          "domain": "dailycaller.com"
         },
         {
          "count": 13,
          "d": 4.361976952552795,
          "domain": "dailycaller.com"
         },
         {
          "count": 51,
          "d": 4.867131195068359,
          "domain": "dailycaller.com"
         },
         {
          "count": 99,
          "d": 5.3722854375839235,
          "domain": "dailycaller.com"
         },
         {
          "count": 198,
          "d": 5.877439680099487,
          "domain": "dailycaller.com"
         },
         {
          "count": 285,
          "d": 6.382593922615051,
          "domain": "dailycaller.com"
         },
         {
          "count": 459,
          "d": 6.887748165130615,
          "domain": "dailycaller.com"
         },
         {
          "count": 657,
          "d": 7.392902407646179,
          "domain": "dailycaller.com"
         },
         {
          "count": 925,
          "d": 7.8980566501617435,
          "domain": "dailycaller.com"
         },
         {
          "count": 1229,
          "d": 8.403210892677308,
          "domain": "dailycaller.com"
         },
         {
          "count": 1526,
          "d": 8.90836513519287,
          "domain": "dailycaller.com"
         },
         {
          "count": 1807,
          "d": 9.413519377708436,
          "domain": "dailycaller.com"
         },
         {
          "count": 2101,
          "d": 9.918673620223998,
          "domain": "dailycaller.com"
         },
         {
          "count": 2352,
          "d": 10.423827862739563,
          "domain": "dailycaller.com"
         },
         {
          "count": 2647,
          "d": 10.928982105255127,
          "domain": "dailycaller.com"
         },
         {
          "count": 2781,
          "d": 11.434136347770691,
          "domain": "dailycaller.com"
         },
         {
          "count": 2921,
          "d": 11.939290590286255,
          "domain": "dailycaller.com"
         },
         {
          "count": 3145,
          "d": 12.44444483280182,
          "domain": "dailycaller.com"
         },
         {
          "count": 2997,
          "d": 12.949599075317384,
          "domain": "dailycaller.com"
         },
         {
          "count": 3217,
          "d": 13.454753317832946,
          "domain": "dailycaller.com"
         },
         {
          "count": 3094,
          "d": 13.95990756034851,
          "domain": "dailycaller.com"
         },
         {
          "count": 3005,
          "d": 14.465061802864074,
          "domain": "dailycaller.com"
         },
         {
          "count": 2851,
          "d": 14.970216045379638,
          "domain": "dailycaller.com"
         },
         {
          "count": 2868,
          "d": 15.475370287895203,
          "domain": "dailycaller.com"
         },
         {
          "count": 2755,
          "d": 15.980524530410767,
          "domain": "dailycaller.com"
         },
         {
          "count": 2791,
          "d": 16.48567877292633,
          "domain": "dailycaller.com"
         },
         {
          "count": 2510,
          "d": 16.990833015441893,
          "domain": "dailycaller.com"
         },
         {
          "count": 2480,
          "d": 17.49598725795746,
          "domain": "dailycaller.com"
         },
         {
          "count": 2347,
          "d": 18.00114150047302,
          "domain": "dailycaller.com"
         },
         {
          "count": 2172,
          "d": 18.506295742988584,
          "domain": "dailycaller.com"
         },
         {
          "count": 2074,
          "d": 19.01144998550415,
          "domain": "dailycaller.com"
         },
         {
          "count": 2017,
          "d": 19.516604228019713,
          "domain": "dailycaller.com"
         },
         {
          "count": 1800,
          "d": 20.02175847053528,
          "domain": "dailycaller.com"
         },
         {
          "count": 1615,
          "d": 20.52691271305084,
          "domain": "dailycaller.com"
         },
         {
          "count": 1437,
          "d": 21.032066955566407,
          "domain": "dailycaller.com"
         },
         {
          "count": 1378,
          "d": 21.53722119808197,
          "domain": "dailycaller.com"
         },
         {
          "count": 1212,
          "d": 22.042375440597535,
          "domain": "dailycaller.com"
         },
         {
          "count": 992,
          "d": 22.547529683113098,
          "domain": "dailycaller.com"
         },
         {
          "count": 912,
          "d": 23.052683925628664,
          "domain": "dailycaller.com"
         },
         {
          "count": 792,
          "d": 23.557838168144226,
          "domain": "dailycaller.com"
         },
         {
          "count": 674,
          "d": 24.06299241065979,
          "domain": "dailycaller.com"
         },
         {
          "count": 675,
          "d": 24.568146653175354,
          "domain": "dailycaller.com"
         },
         {
          "count": 521,
          "d": 25.073300895690917,
          "domain": "dailycaller.com"
         },
         {
          "count": 498,
          "d": 25.578455138206483,
          "domain": "dailycaller.com"
         },
         {
          "count": 406,
          "d": 26.083609380722045,
          "domain": "dailycaller.com"
         },
         {
          "count": 307,
          "d": 26.58876362323761,
          "domain": "dailycaller.com"
         },
         {
          "count": 259,
          "d": 27.093917865753173,
          "domain": "dailycaller.com"
         },
         {
          "count": 201,
          "d": 27.599072108268736,
          "domain": "dailycaller.com"
         },
         {
          "count": 209,
          "d": 28.1042263507843,
          "domain": "dailycaller.com"
         },
         {
          "count": 152,
          "d": 28.609380593299864,
          "domain": "dailycaller.com"
         },
         {
          "count": 111,
          "d": 29.11453483581543,
          "domain": "dailycaller.com"
         },
         {
          "count": 105,
          "d": 29.619689078330993,
          "domain": "dailycaller.com"
         },
         {
          "count": 81,
          "d": 30.12484332084656,
          "domain": "dailycaller.com"
         },
         {
          "count": 81,
          "d": 30.62999756336212,
          "domain": "dailycaller.com"
         },
         {
          "count": 71,
          "d": 31.135151805877683,
          "domain": "dailycaller.com"
         },
         {
          "count": 58,
          "d": 31.64030604839325,
          "domain": "dailycaller.com"
         },
         {
          "count": 59,
          "d": 32.145460290908815,
          "domain": "dailycaller.com"
         },
         {
          "count": 46,
          "d": 32.650614533424374,
          "domain": "dailycaller.com"
         },
         {
          "count": 36,
          "d": 33.15576877593994,
          "domain": "dailycaller.com"
         },
         {
          "count": 44,
          "d": 33.660923018455506,
          "domain": "dailycaller.com"
         },
         {
          "count": 44,
          "d": 34.166077260971065,
          "domain": "dailycaller.com"
         },
         {
          "count": 42,
          "d": 34.67123150348664,
          "domain": "dailycaller.com"
         },
         {
          "count": 23,
          "d": 35.1763857460022,
          "domain": "dailycaller.com"
         },
         {
          "count": 23,
          "d": 35.68153998851776,
          "domain": "dailycaller.com"
         },
         {
          "count": 31,
          "d": 36.18669423103332,
          "domain": "dailycaller.com"
         },
         {
          "count": 22,
          "d": 36.69184847354889,
          "domain": "dailycaller.com"
         },
         {
          "count": 11,
          "d": 37.19700271606445,
          "domain": "dailycaller.com"
         },
         {
          "count": 11,
          "d": 37.70215695858002,
          "domain": "dailycaller.com"
         },
         {
          "count": 19,
          "d": 38.20731120109558,
          "domain": "dailycaller.com"
         },
         {
          "count": 14,
          "d": 38.712465443611144,
          "domain": "dailycaller.com"
         },
         {
          "count": 154,
          "d": 39.21761968612671,
          "domain": "dailycaller.com"
         },
         {
          "count": 16,
          "d": 39.72277392864227,
          "domain": "dailycaller.com"
         },
         {
          "count": 13,
          "d": 40.227928171157835,
          "domain": "dailycaller.com"
         },
         {
          "count": 11,
          "d": 40.7330824136734,
          "domain": "dailycaller.com"
         },
         {
          "count": 9,
          "d": 41.23823665618897,
          "domain": "dailycaller.com"
         },
         {
          "count": 9,
          "d": 41.743390898704526,
          "domain": "dailycaller.com"
         },
         {
          "count": 2,
          "d": 42.24854514122009,
          "domain": "dailycaller.com"
         },
         {
          "count": 5,
          "d": 42.75369938373566,
          "domain": "dailycaller.com"
         },
         {
          "count": 2,
          "d": 43.25885362625122,
          "domain": "dailycaller.com"
         },
         {
          "count": 5,
          "d": 43.76400786876678,
          "domain": "dailycaller.com"
         },
         {
          "count": 1,
          "d": 44.26916211128235,
          "domain": "dailycaller.com"
         },
         {
          "count": 1,
          "d": 44.774316353797914,
          "domain": "dailycaller.com"
         },
         {
          "count": 0,
          "d": 45.27947059631347,
          "domain": "dailycaller.com"
         },
         {
          "count": 3,
          "d": 45.78462483882904,
          "domain": "dailycaller.com"
         },
         {
          "count": 0,
          "d": 46.289779081344605,
          "domain": "dailycaller.com"
         },
         {
          "count": 0,
          "d": 46.79493332386017,
          "domain": "dailycaller.com"
         },
         {
          "count": 1,
          "d": 47.30008756637573,
          "domain": "dailycaller.com"
         },
         {
          "count": 0,
          "d": 47.805241808891296,
          "domain": "dailycaller.com"
         },
         {
          "count": 1,
          "d": 48.31039605140686,
          "domain": "dailycaller.com"
         },
         {
          "count": 0,
          "d": 48.81555029392242,
          "domain": "dailycaller.com"
         },
         {
          "count": 0,
          "d": 49.32070453643799,
          "domain": "dailycaller.com"
         },
         {
          "count": 0,
          "d": 49.82585877895355,
          "domain": "dailycaller.com"
         },
         {
          "count": 0,
          "d": 50.33101302146912,
          "domain": "dailycaller.com"
         },
         {
          "count": 0,
          "d": 50.83616726398468,
          "domain": "dailycaller.com"
         },
         {
          "count": 0,
          "d": 51.34132150650024,
          "domain": "dailycaller.com"
         },
         {
          "count": 0,
          "d": 51.84647574901581,
          "domain": "dailycaller.com"
         },
         {
          "count": 0,
          "d": 52.35162999153137,
          "domain": "dailycaller.com"
         },
         {
          "count": 0,
          "d": 52.856784234046934,
          "domain": "dailycaller.com"
         },
         {
          "count": 0,
          "d": 2.8465142250061035,
          "domain": "thehill.com"
         },
         {
          "count": 1,
          "d": 3.3516684675216677,
          "domain": "thehill.com"
         },
         {
          "count": 12,
          "d": 3.8568227100372314,
          "domain": "thehill.com"
         },
         {
          "count": 21,
          "d": 4.361976952552795,
          "domain": "thehill.com"
         },
         {
          "count": 51,
          "d": 4.867131195068359,
          "domain": "thehill.com"
         },
         {
          "count": 78,
          "d": 5.3722854375839235,
          "domain": "thehill.com"
         },
         {
          "count": 172,
          "d": 5.877439680099487,
          "domain": "thehill.com"
         },
         {
          "count": 315,
          "d": 6.382593922615051,
          "domain": "thehill.com"
         },
         {
          "count": 451,
          "d": 6.887748165130615,
          "domain": "thehill.com"
         },
         {
          "count": 673,
          "d": 7.392902407646179,
          "domain": "thehill.com"
         },
         {
          "count": 987,
          "d": 7.8980566501617435,
          "domain": "thehill.com"
         },
         {
          "count": 1314,
          "d": 8.403210892677308,
          "domain": "thehill.com"
         },
         {
          "count": 1656,
          "d": 8.90836513519287,
          "domain": "thehill.com"
         },
         {
          "count": 2005,
          "d": 9.413519377708436,
          "domain": "thehill.com"
         },
         {
          "count": 2453,
          "d": 9.918673620223998,
          "domain": "thehill.com"
         },
         {
          "count": 2859,
          "d": 10.423827862739563,
          "domain": "thehill.com"
         },
         {
          "count": 3058,
          "d": 10.928982105255127,
          "domain": "thehill.com"
         },
         {
          "count": 3442,
          "d": 11.434136347770691,
          "domain": "thehill.com"
         },
         {
          "count": 3719,
          "d": 11.939290590286255,
          "domain": "thehill.com"
         },
         {
          "count": 3733,
          "d": 12.44444483280182,
          "domain": "thehill.com"
         },
         {
          "count": 3987,
          "d": 12.949599075317384,
          "domain": "thehill.com"
         },
         {
          "count": 3921,
          "d": 13.454753317832946,
          "domain": "thehill.com"
         },
         {
          "count": 3842,
          "d": 13.95990756034851,
          "domain": "thehill.com"
         },
         {
          "count": 3849,
          "d": 14.465061802864074,
          "domain": "thehill.com"
         },
         {
          "count": 3600,
          "d": 14.970216045379638,
          "domain": "thehill.com"
         },
         {
          "count": 3467,
          "d": 15.475370287895203,
          "domain": "thehill.com"
         },
         {
          "count": 3271,
          "d": 15.980524530410767,
          "domain": "thehill.com"
         },
         {
          "count": 2930,
          "d": 16.48567877292633,
          "domain": "thehill.com"
         },
         {
          "count": 2748,
          "d": 16.990833015441893,
          "domain": "thehill.com"
         },
         {
          "count": 2483,
          "d": 17.49598725795746,
          "domain": "thehill.com"
         },
         {
          "count": 2189,
          "d": 18.00114150047302,
          "domain": "thehill.com"
         },
         {
          "count": 1969,
          "d": 18.506295742988584,
          "domain": "thehill.com"
         },
         {
          "count": 1674,
          "d": 19.01144998550415,
          "domain": "thehill.com"
         },
         {
          "count": 1486,
          "d": 19.516604228019713,
          "domain": "thehill.com"
         },
         {
          "count": 1259,
          "d": 20.02175847053528,
          "domain": "thehill.com"
         },
         {
          "count": 1053,
          "d": 20.52691271305084,
          "domain": "thehill.com"
         },
         {
          "count": 886,
          "d": 21.032066955566407,
          "domain": "thehill.com"
         },
         {
          "count": 766,
          "d": 21.53722119808197,
          "domain": "thehill.com"
         },
         {
          "count": 658,
          "d": 22.042375440597535,
          "domain": "thehill.com"
         },
         {
          "count": 508,
          "d": 22.547529683113098,
          "domain": "thehill.com"
         },
         {
          "count": 395,
          "d": 23.052683925628664,
          "domain": "thehill.com"
         },
         {
          "count": 347,
          "d": 23.557838168144226,
          "domain": "thehill.com"
         },
         {
          "count": 247,
          "d": 24.06299241065979,
          "domain": "thehill.com"
         },
         {
          "count": 191,
          "d": 24.568146653175354,
          "domain": "thehill.com"
         },
         {
          "count": 182,
          "d": 25.073300895690917,
          "domain": "thehill.com"
         },
         {
          "count": 112,
          "d": 25.578455138206483,
          "domain": "thehill.com"
         },
         {
          "count": 119,
          "d": 26.083609380722045,
          "domain": "thehill.com"
         },
         {
          "count": 89,
          "d": 26.58876362323761,
          "domain": "thehill.com"
         },
         {
          "count": 69,
          "d": 27.093917865753173,
          "domain": "thehill.com"
         },
         {
          "count": 61,
          "d": 27.599072108268736,
          "domain": "thehill.com"
         },
         {
          "count": 44,
          "d": 28.1042263507843,
          "domain": "thehill.com"
         },
         {
          "count": 22,
          "d": 28.609380593299864,
          "domain": "thehill.com"
         },
         {
          "count": 19,
          "d": 29.11453483581543,
          "domain": "thehill.com"
         },
         {
          "count": 16,
          "d": 29.619689078330993,
          "domain": "thehill.com"
         },
         {
          "count": 13,
          "d": 30.12484332084656,
          "domain": "thehill.com"
         },
         {
          "count": 10,
          "d": 30.62999756336212,
          "domain": "thehill.com"
         },
         {
          "count": 6,
          "d": 31.135151805877683,
          "domain": "thehill.com"
         },
         {
          "count": 7,
          "d": 31.64030604839325,
          "domain": "thehill.com"
         },
         {
          "count": 4,
          "d": 32.145460290908815,
          "domain": "thehill.com"
         },
         {
          "count": 3,
          "d": 32.650614533424374,
          "domain": "thehill.com"
         },
         {
          "count": 1,
          "d": 33.15576877593994,
          "domain": "thehill.com"
         },
         {
          "count": 3,
          "d": 33.660923018455506,
          "domain": "thehill.com"
         },
         {
          "count": 126,
          "d": 34.166077260971065,
          "domain": "thehill.com"
         },
         {
          "count": 0,
          "d": 34.67123150348664,
          "domain": "thehill.com"
         },
         {
          "count": 1,
          "d": 35.1763857460022,
          "domain": "thehill.com"
         },
         {
          "count": 0,
          "d": 35.68153998851776,
          "domain": "thehill.com"
         },
         {
          "count": 0,
          "d": 36.18669423103332,
          "domain": "thehill.com"
         },
         {
          "count": 1,
          "d": 36.69184847354889,
          "domain": "thehill.com"
         },
         {
          "count": 0,
          "d": 37.19700271606445,
          "domain": "thehill.com"
         },
         {
          "count": 0,
          "d": 37.70215695858002,
          "domain": "thehill.com"
         },
         {
          "count": 0,
          "d": 38.20731120109558,
          "domain": "thehill.com"
         },
         {
          "count": 0,
          "d": 38.712465443611144,
          "domain": "thehill.com"
         },
         {
          "count": 0,
          "d": 39.21761968612671,
          "domain": "thehill.com"
         },
         {
          "count": 0,
          "d": 39.72277392864227,
          "domain": "thehill.com"
         },
         {
          "count": 0,
          "d": 40.227928171157835,
          "domain": "thehill.com"
         },
         {
          "count": 0,
          "d": 40.7330824136734,
          "domain": "thehill.com"
         },
         {
          "count": 0,
          "d": 41.23823665618897,
          "domain": "thehill.com"
         },
         {
          "count": 0,
          "d": 41.743390898704526,
          "domain": "thehill.com"
         },
         {
          "count": 0,
          "d": 42.24854514122009,
          "domain": "thehill.com"
         },
         {
          "count": 0,
          "d": 42.75369938373566,
          "domain": "thehill.com"
         },
         {
          "count": 0,
          "d": 43.25885362625122,
          "domain": "thehill.com"
         },
         {
          "count": 0,
          "d": 43.76400786876678,
          "domain": "thehill.com"
         },
         {
          "count": 0,
          "d": 44.26916211128235,
          "domain": "thehill.com"
         },
         {
          "count": 0,
          "d": 44.774316353797914,
          "domain": "thehill.com"
         },
         {
          "count": 0,
          "d": 45.27947059631347,
          "domain": "thehill.com"
         },
         {
          "count": 0,
          "d": 45.78462483882904,
          "domain": "thehill.com"
         },
         {
          "count": 0,
          "d": 46.289779081344605,
          "domain": "thehill.com"
         },
         {
          "count": 0,
          "d": 46.79493332386017,
          "domain": "thehill.com"
         },
         {
          "count": 0,
          "d": 47.30008756637573,
          "domain": "thehill.com"
         },
         {
          "count": 0,
          "d": 47.805241808891296,
          "domain": "thehill.com"
         },
         {
          "count": 0,
          "d": 48.31039605140686,
          "domain": "thehill.com"
         },
         {
          "count": 0,
          "d": 48.81555029392242,
          "domain": "thehill.com"
         },
         {
          "count": 0,
          "d": 49.32070453643799,
          "domain": "thehill.com"
         },
         {
          "count": 0,
          "d": 49.82585877895355,
          "domain": "thehill.com"
         },
         {
          "count": 0,
          "d": 50.33101302146912,
          "domain": "thehill.com"
         },
         {
          "count": 0,
          "d": 50.83616726398468,
          "domain": "thehill.com"
         },
         {
          "count": 0,
          "d": 51.34132150650024,
          "domain": "thehill.com"
         },
         {
          "count": 0,
          "d": 51.84647574901581,
          "domain": "thehill.com"
         },
         {
          "count": 0,
          "d": 52.35162999153137,
          "domain": "thehill.com"
         },
         {
          "count": 0,
          "d": 52.856784234046934,
          "domain": "thehill.com"
         },
         {
          "count": 0,
          "d": 2.8465142250061035,
          "domain": "bloomberg.com"
         },
         {
          "count": 0,
          "d": 3.3516684675216677,
          "domain": "bloomberg.com"
         },
         {
          "count": 2,
          "d": 3.8568227100372314,
          "domain": "bloomberg.com"
         },
         {
          "count": 12,
          "d": 4.361976952552795,
          "domain": "bloomberg.com"
         },
         {
          "count": 27,
          "d": 4.867131195068359,
          "domain": "bloomberg.com"
         },
         {
          "count": 57,
          "d": 5.3722854375839235,
          "domain": "bloomberg.com"
         },
         {
          "count": 104,
          "d": 5.877439680099487,
          "domain": "bloomberg.com"
         },
         {
          "count": 185,
          "d": 6.382593922615051,
          "domain": "bloomberg.com"
         },
         {
          "count": 280,
          "d": 6.887748165130615,
          "domain": "bloomberg.com"
         },
         {
          "count": 380,
          "d": 7.392902407646179,
          "domain": "bloomberg.com"
         },
         {
          "count": 551,
          "d": 7.8980566501617435,
          "domain": "bloomberg.com"
         },
         {
          "count": 736,
          "d": 8.403210892677308,
          "domain": "bloomberg.com"
         },
         {
          "count": 899,
          "d": 8.90836513519287,
          "domain": "bloomberg.com"
         },
         {
          "count": 1102,
          "d": 9.413519377708436,
          "domain": "bloomberg.com"
         },
         {
          "count": 1357,
          "d": 9.918673620223998,
          "domain": "bloomberg.com"
         },
         {
          "count": 1512,
          "d": 10.423827862739563,
          "domain": "bloomberg.com"
         },
         {
          "count": 1690,
          "d": 10.928982105255127,
          "domain": "bloomberg.com"
         },
         {
          "count": 1849,
          "d": 11.434136347770691,
          "domain": "bloomberg.com"
         },
         {
          "count": 2023,
          "d": 11.939290590286255,
          "domain": "bloomberg.com"
         },
         {
          "count": 2135,
          "d": 12.44444483280182,
          "domain": "bloomberg.com"
         },
         {
          "count": 2258,
          "d": 12.949599075317384,
          "domain": "bloomberg.com"
         },
         {
          "count": 2359,
          "d": 13.454753317832946,
          "domain": "bloomberg.com"
         },
         {
          "count": 2451,
          "d": 13.95990756034851,
          "domain": "bloomberg.com"
         },
         {
          "count": 2545,
          "d": 14.465061802864074,
          "domain": "bloomberg.com"
         },
         {
          "count": 2486,
          "d": 14.970216045379638,
          "domain": "bloomberg.com"
         },
         {
          "count": 2503,
          "d": 15.475370287895203,
          "domain": "bloomberg.com"
         },
         {
          "count": 2541,
          "d": 15.980524530410767,
          "domain": "bloomberg.com"
         },
         {
          "count": 2468,
          "d": 16.48567877292633,
          "domain": "bloomberg.com"
         },
         {
          "count": 2406,
          "d": 16.990833015441893,
          "domain": "bloomberg.com"
         },
         {
          "count": 2462,
          "d": 17.49598725795746,
          "domain": "bloomberg.com"
         },
         {
          "count": 2295,
          "d": 18.00114150047302,
          "domain": "bloomberg.com"
         },
         {
          "count": 2280,
          "d": 18.506295742988584,
          "domain": "bloomberg.com"
         },
         {
          "count": 2242,
          "d": 19.01144998550415,
          "domain": "bloomberg.com"
         },
         {
          "count": 2025,
          "d": 19.516604228019713,
          "domain": "bloomberg.com"
         },
         {
          "count": 2048,
          "d": 20.02175847053528,
          "domain": "bloomberg.com"
         },
         {
          "count": 1994,
          "d": 20.52691271305084,
          "domain": "bloomberg.com"
         },
         {
          "count": 1859,
          "d": 21.032066955566407,
          "domain": "bloomberg.com"
         },
         {
          "count": 1770,
          "d": 21.53722119808197,
          "domain": "bloomberg.com"
         },
         {
          "count": 1701,
          "d": 22.042375440597535,
          "domain": "bloomberg.com"
         },
         {
          "count": 1495,
          "d": 22.547529683113098,
          "domain": "bloomberg.com"
         },
         {
          "count": 1407,
          "d": 23.052683925628664,
          "domain": "bloomberg.com"
         },
         {
          "count": 1390,
          "d": 23.557838168144226,
          "domain": "bloomberg.com"
         },
         {
          "count": 1316,
          "d": 24.06299241065979,
          "domain": "bloomberg.com"
         },
         {
          "count": 1193,
          "d": 24.568146653175354,
          "domain": "bloomberg.com"
         },
         {
          "count": 1057,
          "d": 25.073300895690917,
          "domain": "bloomberg.com"
         },
         {
          "count": 1023,
          "d": 25.578455138206483,
          "domain": "bloomberg.com"
         },
         {
          "count": 905,
          "d": 26.083609380722045,
          "domain": "bloomberg.com"
         },
         {
          "count": 882,
          "d": 26.58876362323761,
          "domain": "bloomberg.com"
         },
         {
          "count": 1223,
          "d": 27.093917865753173,
          "domain": "bloomberg.com"
         },
         {
          "count": 707,
          "d": 27.599072108268736,
          "domain": "bloomberg.com"
         },
         {
          "count": 649,
          "d": 28.1042263507843,
          "domain": "bloomberg.com"
         },
         {
          "count": 564,
          "d": 28.609380593299864,
          "domain": "bloomberg.com"
         },
         {
          "count": 559,
          "d": 29.11453483581543,
          "domain": "bloomberg.com"
         },
         {
          "count": 405,
          "d": 29.619689078330993,
          "domain": "bloomberg.com"
         },
         {
          "count": 427,
          "d": 30.12484332084656,
          "domain": "bloomberg.com"
         },
         {
          "count": 496,
          "d": 30.62999756336212,
          "domain": "bloomberg.com"
         },
         {
          "count": 326,
          "d": 31.135151805877683,
          "domain": "bloomberg.com"
         },
         {
          "count": 268,
          "d": 31.64030604839325,
          "domain": "bloomberg.com"
         },
         {
          "count": 225,
          "d": 32.145460290908815,
          "domain": "bloomberg.com"
         },
         {
          "count": 223,
          "d": 32.650614533424374,
          "domain": "bloomberg.com"
         },
         {
          "count": 170,
          "d": 33.15576877593994,
          "domain": "bloomberg.com"
         },
         {
          "count": 168,
          "d": 33.660923018455506,
          "domain": "bloomberg.com"
         },
         {
          "count": 141,
          "d": 34.166077260971065,
          "domain": "bloomberg.com"
         },
         {
          "count": 121,
          "d": 34.67123150348664,
          "domain": "bloomberg.com"
         },
         {
          "count": 128,
          "d": 35.1763857460022,
          "domain": "bloomberg.com"
         },
         {
          "count": 100,
          "d": 35.68153998851776,
          "domain": "bloomberg.com"
         },
         {
          "count": 88,
          "d": 36.18669423103332,
          "domain": "bloomberg.com"
         },
         {
          "count": 81,
          "d": 36.69184847354889,
          "domain": "bloomberg.com"
         },
         {
          "count": 63,
          "d": 37.19700271606445,
          "domain": "bloomberg.com"
         },
         {
          "count": 46,
          "d": 37.70215695858002,
          "domain": "bloomberg.com"
         },
         {
          "count": 45,
          "d": 38.20731120109558,
          "domain": "bloomberg.com"
         },
         {
          "count": 49,
          "d": 38.712465443611144,
          "domain": "bloomberg.com"
         },
         {
          "count": 42,
          "d": 39.21761968612671,
          "domain": "bloomberg.com"
         },
         {
          "count": 24,
          "d": 39.72277392864227,
          "domain": "bloomberg.com"
         },
         {
          "count": 26,
          "d": 40.227928171157835,
          "domain": "bloomberg.com"
         },
         {
          "count": 23,
          "d": 40.7330824136734,
          "domain": "bloomberg.com"
         },
         {
          "count": 26,
          "d": 41.23823665618897,
          "domain": "bloomberg.com"
         },
         {
          "count": 16,
          "d": 41.743390898704526,
          "domain": "bloomberg.com"
         },
         {
          "count": 18,
          "d": 42.24854514122009,
          "domain": "bloomberg.com"
         },
         {
          "count": 14,
          "d": 42.75369938373566,
          "domain": "bloomberg.com"
         },
         {
          "count": 6,
          "d": 43.25885362625122,
          "domain": "bloomberg.com"
         },
         {
          "count": 8,
          "d": 43.76400786876678,
          "domain": "bloomberg.com"
         },
         {
          "count": 7,
          "d": 44.26916211128235,
          "domain": "bloomberg.com"
         },
         {
          "count": 2,
          "d": 44.774316353797914,
          "domain": "bloomberg.com"
         },
         {
          "count": 1,
          "d": 45.27947059631347,
          "domain": "bloomberg.com"
         },
         {
          "count": 2,
          "d": 45.78462483882904,
          "domain": "bloomberg.com"
         },
         {
          "count": 5,
          "d": 46.289779081344605,
          "domain": "bloomberg.com"
         },
         {
          "count": 2,
          "d": 46.79493332386017,
          "domain": "bloomberg.com"
         },
         {
          "count": 2,
          "d": 47.30008756637573,
          "domain": "bloomberg.com"
         },
         {
          "count": 1,
          "d": 47.805241808891296,
          "domain": "bloomberg.com"
         },
         {
          "count": 0,
          "d": 48.31039605140686,
          "domain": "bloomberg.com"
         },
         {
          "count": 1,
          "d": 48.81555029392242,
          "domain": "bloomberg.com"
         },
         {
          "count": 0,
          "d": 49.32070453643799,
          "domain": "bloomberg.com"
         },
         {
          "count": 0,
          "d": 49.82585877895355,
          "domain": "bloomberg.com"
         },
         {
          "count": 0,
          "d": 50.33101302146912,
          "domain": "bloomberg.com"
         },
         {
          "count": 0,
          "d": 50.83616726398468,
          "domain": "bloomberg.com"
         },
         {
          "count": 0,
          "d": 51.34132150650024,
          "domain": "bloomberg.com"
         },
         {
          "count": 0,
          "d": 51.84647574901581,
          "domain": "bloomberg.com"
         },
         {
          "count": 0,
          "d": 52.35162999153137,
          "domain": "bloomberg.com"
         },
         {
          "count": 0,
          "d": 52.856784234046934,
          "domain": "bloomberg.com"
         },
         {
          "count": 0,
          "d": 2.8465142250061035,
          "domain": "breitbart.com"
         },
         {
          "count": 0,
          "d": 3.3516684675216677,
          "domain": "breitbart.com"
         },
         {
          "count": 11,
          "d": 3.8568227100372314,
          "domain": "breitbart.com"
         },
         {
          "count": 15,
          "d": 4.361976952552795,
          "domain": "breitbart.com"
         },
         {
          "count": 47,
          "d": 4.867131195068359,
          "domain": "breitbart.com"
         },
         {
          "count": 106,
          "d": 5.3722854375839235,
          "domain": "breitbart.com"
         },
         {
          "count": 159,
          "d": 5.877439680099487,
          "domain": "breitbart.com"
         },
         {
          "count": 290,
          "d": 6.382593922615051,
          "domain": "breitbart.com"
         },
         {
          "count": 412,
          "d": 6.887748165130615,
          "domain": "breitbart.com"
         },
         {
          "count": 559,
          "d": 7.392902407646179,
          "domain": "breitbart.com"
         },
         {
          "count": 821,
          "d": 7.8980566501617435,
          "domain": "breitbart.com"
         },
         {
          "count": 1065,
          "d": 8.403210892677308,
          "domain": "breitbart.com"
         },
         {
          "count": 1384,
          "d": 8.90836513519287,
          "domain": "breitbart.com"
         },
         {
          "count": 1687,
          "d": 9.413519377708436,
          "domain": "breitbart.com"
         },
         {
          "count": 1947,
          "d": 9.918673620223998,
          "domain": "breitbart.com"
         },
         {
          "count": 2268,
          "d": 10.423827862739563,
          "domain": "breitbart.com"
         },
         {
          "count": 2593,
          "d": 10.928982105255127,
          "domain": "breitbart.com"
         },
         {
          "count": 2669,
          "d": 11.434136347770691,
          "domain": "breitbart.com"
         },
         {
          "count": 2935,
          "d": 11.939290590286255,
          "domain": "breitbart.com"
         },
         {
          "count": 3180,
          "d": 12.44444483280182,
          "domain": "breitbart.com"
         },
         {
          "count": 3154,
          "d": 12.949599075317384,
          "domain": "breitbart.com"
         },
         {
          "count": 3322,
          "d": 13.454753317832946,
          "domain": "breitbart.com"
         },
         {
          "count": 3350,
          "d": 13.95990756034851,
          "domain": "breitbart.com"
         },
         {
          "count": 3279,
          "d": 14.465061802864074,
          "domain": "breitbart.com"
         },
         {
          "count": 3133,
          "d": 14.970216045379638,
          "domain": "breitbart.com"
         },
         {
          "count": 3069,
          "d": 15.475370287895203,
          "domain": "breitbart.com"
         },
         {
          "count": 2926,
          "d": 15.980524530410767,
          "domain": "breitbart.com"
         },
         {
          "count": 2785,
          "d": 16.48567877292633,
          "domain": "breitbart.com"
         },
         {
          "count": 2667,
          "d": 16.990833015441893,
          "domain": "breitbart.com"
         },
         {
          "count": 2412,
          "d": 17.49598725795746,
          "domain": "breitbart.com"
         },
         {
          "count": 2281,
          "d": 18.00114150047302,
          "domain": "breitbart.com"
         },
         {
          "count": 2274,
          "d": 18.506295742988584,
          "domain": "breitbart.com"
         },
         {
          "count": 2003,
          "d": 19.01144998550415,
          "domain": "breitbart.com"
         },
         {
          "count": 1770,
          "d": 19.516604228019713,
          "domain": "breitbart.com"
         },
         {
          "count": 1643,
          "d": 20.02175847053528,
          "domain": "breitbart.com"
         },
         {
          "count": 1422,
          "d": 20.52691271305084,
          "domain": "breitbart.com"
         },
         {
          "count": 1341,
          "d": 21.032066955566407,
          "domain": "breitbart.com"
         },
         {
          "count": 1177,
          "d": 21.53722119808197,
          "domain": "breitbart.com"
         },
         {
          "count": 1118,
          "d": 22.042375440597535,
          "domain": "breitbart.com"
         },
         {
          "count": 902,
          "d": 22.547529683113098,
          "domain": "breitbart.com"
         },
         {
          "count": 904,
          "d": 23.052683925628664,
          "domain": "breitbart.com"
         },
         {
          "count": 769,
          "d": 23.557838168144226,
          "domain": "breitbart.com"
         },
         {
          "count": 673,
          "d": 24.06299241065979,
          "domain": "breitbart.com"
         },
         {
          "count": 634,
          "d": 24.568146653175354,
          "domain": "breitbart.com"
         },
         {
          "count": 500,
          "d": 25.073300895690917,
          "domain": "breitbart.com"
         },
         {
          "count": 479,
          "d": 25.578455138206483,
          "domain": "breitbart.com"
         },
         {
          "count": 382,
          "d": 26.083609380722045,
          "domain": "breitbart.com"
         },
         {
          "count": 398,
          "d": 26.58876362323761,
          "domain": "breitbart.com"
         },
         {
          "count": 350,
          "d": 27.093917865753173,
          "domain": "breitbart.com"
         },
         {
          "count": 300,
          "d": 27.599072108268736,
          "domain": "breitbart.com"
         },
         {
          "count": 292,
          "d": 28.1042263507843,
          "domain": "breitbart.com"
         },
         {
          "count": 247,
          "d": 28.609380593299864,
          "domain": "breitbart.com"
         },
         {
          "count": 232,
          "d": 29.11453483581543,
          "domain": "breitbart.com"
         },
         {
          "count": 185,
          "d": 29.619689078330993,
          "domain": "breitbart.com"
         },
         {
          "count": 163,
          "d": 30.12484332084656,
          "domain": "breitbart.com"
         },
         {
          "count": 147,
          "d": 30.62999756336212,
          "domain": "breitbart.com"
         },
         {
          "count": 152,
          "d": 31.135151805877683,
          "domain": "breitbart.com"
         },
         {
          "count": 112,
          "d": 31.64030604839325,
          "domain": "breitbart.com"
         },
         {
          "count": 88,
          "d": 32.145460290908815,
          "domain": "breitbart.com"
         },
         {
          "count": 86,
          "d": 32.650614533424374,
          "domain": "breitbart.com"
         },
         {
          "count": 80,
          "d": 33.15576877593994,
          "domain": "breitbart.com"
         },
         {
          "count": 75,
          "d": 33.660923018455506,
          "domain": "breitbart.com"
         },
         {
          "count": 63,
          "d": 34.166077260971065,
          "domain": "breitbart.com"
         },
         {
          "count": 48,
          "d": 34.67123150348664,
          "domain": "breitbart.com"
         },
         {
          "count": 48,
          "d": 35.1763857460022,
          "domain": "breitbart.com"
         },
         {
          "count": 41,
          "d": 35.68153998851776,
          "domain": "breitbart.com"
         },
         {
          "count": 44,
          "d": 36.18669423103332,
          "domain": "breitbart.com"
         },
         {
          "count": 47,
          "d": 36.69184847354889,
          "domain": "breitbart.com"
         },
         {
          "count": 33,
          "d": 37.19700271606445,
          "domain": "breitbart.com"
         },
         {
          "count": 41,
          "d": 37.70215695858002,
          "domain": "breitbart.com"
         },
         {
          "count": 19,
          "d": 38.20731120109558,
          "domain": "breitbart.com"
         },
         {
          "count": 38,
          "d": 38.712465443611144,
          "domain": "breitbart.com"
         },
         {
          "count": 18,
          "d": 39.21761968612671,
          "domain": "breitbart.com"
         },
         {
          "count": 17,
          "d": 39.72277392864227,
          "domain": "breitbart.com"
         },
         {
          "count": 14,
          "d": 40.227928171157835,
          "domain": "breitbart.com"
         },
         {
          "count": 9,
          "d": 40.7330824136734,
          "domain": "breitbart.com"
         },
         {
          "count": 15,
          "d": 41.23823665618897,
          "domain": "breitbart.com"
         },
         {
          "count": 8,
          "d": 41.743390898704526,
          "domain": "breitbart.com"
         },
         {
          "count": 6,
          "d": 42.24854514122009,
          "domain": "breitbart.com"
         },
         {
          "count": 2,
          "d": 42.75369938373566,
          "domain": "breitbart.com"
         },
         {
          "count": 2,
          "d": 43.25885362625122,
          "domain": "breitbart.com"
         },
         {
          "count": 1,
          "d": 43.76400786876678,
          "domain": "breitbart.com"
         },
         {
          "count": 1,
          "d": 44.26916211128235,
          "domain": "breitbart.com"
         },
         {
          "count": 1,
          "d": 44.774316353797914,
          "domain": "breitbart.com"
         },
         {
          "count": 6,
          "d": 45.27947059631347,
          "domain": "breitbart.com"
         },
         {
          "count": 0,
          "d": 45.78462483882904,
          "domain": "breitbart.com"
         },
         {
          "count": 0,
          "d": 46.289779081344605,
          "domain": "breitbart.com"
         },
         {
          "count": 0,
          "d": 46.79493332386017,
          "domain": "breitbart.com"
         },
         {
          "count": 0,
          "d": 47.30008756637573,
          "domain": "breitbart.com"
         },
         {
          "count": 0,
          "d": 47.805241808891296,
          "domain": "breitbart.com"
         },
         {
          "count": 0,
          "d": 48.31039605140686,
          "domain": "breitbart.com"
         },
         {
          "count": 0,
          "d": 48.81555029392242,
          "domain": "breitbart.com"
         },
         {
          "count": 0,
          "d": 49.32070453643799,
          "domain": "breitbart.com"
         },
         {
          "count": 0,
          "d": 49.82585877895355,
          "domain": "breitbart.com"
         },
         {
          "count": 0,
          "d": 50.33101302146912,
          "domain": "breitbart.com"
         },
         {
          "count": 0,
          "d": 50.83616726398468,
          "domain": "breitbart.com"
         },
         {
          "count": 0,
          "d": 51.34132150650024,
          "domain": "breitbart.com"
         },
         {
          "count": 0,
          "d": 51.84647574901581,
          "domain": "breitbart.com"
         },
         {
          "count": 1,
          "d": 52.35162999153137,
          "domain": "breitbart.com"
         },
         {
          "count": 1,
          "d": 52.856784234046934,
          "domain": "breitbart.com"
         },
         {
          "count": 0,
          "d": 2.8465142250061035,
          "domain": "buzzfeed.com"
         },
         {
          "count": 1,
          "d": 3.3516684675216677,
          "domain": "buzzfeed.com"
         },
         {
          "count": 1,
          "d": 3.8568227100372314,
          "domain": "buzzfeed.com"
         },
         {
          "count": 6,
          "d": 4.361976952552795,
          "domain": "buzzfeed.com"
         },
         {
          "count": 18,
          "d": 4.867131195068359,
          "domain": "buzzfeed.com"
         },
         {
          "count": 39,
          "d": 5.3722854375839235,
          "domain": "buzzfeed.com"
         },
         {
          "count": 67,
          "d": 5.877439680099487,
          "domain": "buzzfeed.com"
         },
         {
          "count": 91,
          "d": 6.382593922615051,
          "domain": "buzzfeed.com"
         },
         {
          "count": 157,
          "d": 6.887748165130615,
          "domain": "buzzfeed.com"
         },
         {
          "count": 207,
          "d": 7.392902407646179,
          "domain": "buzzfeed.com"
         },
         {
          "count": 255,
          "d": 7.8980566501617435,
          "domain": "buzzfeed.com"
         },
         {
          "count": 332,
          "d": 8.403210892677308,
          "domain": "buzzfeed.com"
         },
         {
          "count": 384,
          "d": 8.90836513519287,
          "domain": "buzzfeed.com"
         },
         {
          "count": 470,
          "d": 9.413519377708436,
          "domain": "buzzfeed.com"
         },
         {
          "count": 561,
          "d": 9.918673620223998,
          "domain": "buzzfeed.com"
         },
         {
          "count": 603,
          "d": 10.423827862739563,
          "domain": "buzzfeed.com"
         },
         {
          "count": 697,
          "d": 10.928982105255127,
          "domain": "buzzfeed.com"
         },
         {
          "count": 787,
          "d": 11.434136347770691,
          "domain": "buzzfeed.com"
         },
         {
          "count": 784,
          "d": 11.939290590286255,
          "domain": "buzzfeed.com"
         },
         {
          "count": 892,
          "d": 12.44444483280182,
          "domain": "buzzfeed.com"
         },
         {
          "count": 966,
          "d": 12.949599075317384,
          "domain": "buzzfeed.com"
         },
         {
          "count": 1054,
          "d": 13.454753317832946,
          "domain": "buzzfeed.com"
         },
         {
          "count": 1072,
          "d": 13.95990756034851,
          "domain": "buzzfeed.com"
         },
         {
          "count": 1169,
          "d": 14.465061802864074,
          "domain": "buzzfeed.com"
         },
         {
          "count": 1190,
          "d": 14.970216045379638,
          "domain": "buzzfeed.com"
         },
         {
          "count": 1185,
          "d": 15.475370287895203,
          "domain": "buzzfeed.com"
         },
         {
          "count": 1265,
          "d": 15.980524530410767,
          "domain": "buzzfeed.com"
         },
         {
          "count": 1308,
          "d": 16.48567877292633,
          "domain": "buzzfeed.com"
         },
         {
          "count": 1375,
          "d": 16.990833015441893,
          "domain": "buzzfeed.com"
         },
         {
          "count": 1396,
          "d": 17.49598725795746,
          "domain": "buzzfeed.com"
         },
         {
          "count": 1435,
          "d": 18.00114150047302,
          "domain": "buzzfeed.com"
         },
         {
          "count": 1441,
          "d": 18.506295742988584,
          "domain": "buzzfeed.com"
         },
         {
          "count": 1435,
          "d": 19.01144998550415,
          "domain": "buzzfeed.com"
         },
         {
          "count": 1523,
          "d": 19.516604228019713,
          "domain": "buzzfeed.com"
         },
         {
          "count": 1492,
          "d": 20.02175847053528,
          "domain": "buzzfeed.com"
         },
         {
          "count": 1539,
          "d": 20.52691271305084,
          "domain": "buzzfeed.com"
         },
         {
          "count": 1562,
          "d": 21.032066955566407,
          "domain": "buzzfeed.com"
         },
         {
          "count": 1648,
          "d": 21.53722119808197,
          "domain": "buzzfeed.com"
         },
         {
          "count": 1645,
          "d": 22.042375440597535,
          "domain": "buzzfeed.com"
         },
         {
          "count": 1645,
          "d": 22.547529683113098,
          "domain": "buzzfeed.com"
         },
         {
          "count": 1749,
          "d": 23.052683925628664,
          "domain": "buzzfeed.com"
         },
         {
          "count": 1730,
          "d": 23.557838168144226,
          "domain": "buzzfeed.com"
         },
         {
          "count": 1737,
          "d": 24.06299241065979,
          "domain": "buzzfeed.com"
         },
         {
          "count": 1806,
          "d": 24.568146653175354,
          "domain": "buzzfeed.com"
         },
         {
          "count": 1732,
          "d": 25.073300895690917,
          "domain": "buzzfeed.com"
         },
         {
          "count": 1712,
          "d": 25.578455138206483,
          "domain": "buzzfeed.com"
         },
         {
          "count": 1718,
          "d": 26.083609380722045,
          "domain": "buzzfeed.com"
         },
         {
          "count": 1666,
          "d": 26.58876362323761,
          "domain": "buzzfeed.com"
         },
         {
          "count": 1621,
          "d": 27.093917865753173,
          "domain": "buzzfeed.com"
         },
         {
          "count": 1570,
          "d": 27.599072108268736,
          "domain": "buzzfeed.com"
         },
         {
          "count": 1553,
          "d": 28.1042263507843,
          "domain": "buzzfeed.com"
         },
         {
          "count": 1630,
          "d": 28.609380593299864,
          "domain": "buzzfeed.com"
         },
         {
          "count": 1570,
          "d": 29.11453483581543,
          "domain": "buzzfeed.com"
         },
         {
          "count": 1455,
          "d": 29.619689078330993,
          "domain": "buzzfeed.com"
         },
         {
          "count": 1380,
          "d": 30.12484332084656,
          "domain": "buzzfeed.com"
         },
         {
          "count": 3077,
          "d": 30.62999756336212,
          "domain": "buzzfeed.com"
         },
         {
          "count": 1340,
          "d": 31.135151805877683,
          "domain": "buzzfeed.com"
         },
         {
          "count": 1345,
          "d": 31.64030604839325,
          "domain": "buzzfeed.com"
         },
         {
          "count": 1200,
          "d": 32.145460290908815,
          "domain": "buzzfeed.com"
         },
         {
          "count": 1136,
          "d": 32.650614533424374,
          "domain": "buzzfeed.com"
         },
         {
          "count": 1101,
          "d": 33.15576877593994,
          "domain": "buzzfeed.com"
         },
         {
          "count": 1038,
          "d": 33.660923018455506,
          "domain": "buzzfeed.com"
         },
         {
          "count": 998,
          "d": 34.166077260971065,
          "domain": "buzzfeed.com"
         },
         {
          "count": 916,
          "d": 34.67123150348664,
          "domain": "buzzfeed.com"
         },
         {
          "count": 762,
          "d": 35.1763857460022,
          "domain": "buzzfeed.com"
         },
         {
          "count": 680,
          "d": 35.68153998851776,
          "domain": "buzzfeed.com"
         },
         {
          "count": 609,
          "d": 36.18669423103332,
          "domain": "buzzfeed.com"
         },
         {
          "count": 548,
          "d": 36.69184847354889,
          "domain": "buzzfeed.com"
         },
         {
          "count": 446,
          "d": 37.19700271606445,
          "domain": "buzzfeed.com"
         },
         {
          "count": 353,
          "d": 37.70215695858002,
          "domain": "buzzfeed.com"
         },
         {
          "count": 326,
          "d": 38.20731120109558,
          "domain": "buzzfeed.com"
         },
         {
          "count": 271,
          "d": 38.712465443611144,
          "domain": "buzzfeed.com"
         },
         {
          "count": 201,
          "d": 39.21761968612671,
          "domain": "buzzfeed.com"
         },
         {
          "count": 170,
          "d": 39.72277392864227,
          "domain": "buzzfeed.com"
         },
         {
          "count": 131,
          "d": 40.227928171157835,
          "domain": "buzzfeed.com"
         },
         {
          "count": 88,
          "d": 40.7330824136734,
          "domain": "buzzfeed.com"
         },
         {
          "count": 86,
          "d": 41.23823665618897,
          "domain": "buzzfeed.com"
         },
         {
          "count": 70,
          "d": 41.743390898704526,
          "domain": "buzzfeed.com"
         },
         {
          "count": 71,
          "d": 42.24854514122009,
          "domain": "buzzfeed.com"
         },
         {
          "count": 45,
          "d": 42.75369938373566,
          "domain": "buzzfeed.com"
         },
         {
          "count": 37,
          "d": 43.25885362625122,
          "domain": "buzzfeed.com"
         },
         {
          "count": 19,
          "d": 43.76400786876678,
          "domain": "buzzfeed.com"
         },
         {
          "count": 23,
          "d": 44.26916211128235,
          "domain": "buzzfeed.com"
         },
         {
          "count": 16,
          "d": 44.774316353797914,
          "domain": "buzzfeed.com"
         },
         {
          "count": 12,
          "d": 45.27947059631347,
          "domain": "buzzfeed.com"
         },
         {
          "count": 3,
          "d": 45.78462483882904,
          "domain": "buzzfeed.com"
         },
         {
          "count": 5,
          "d": 46.289779081344605,
          "domain": "buzzfeed.com"
         },
         {
          "count": 4,
          "d": 46.79493332386017,
          "domain": "buzzfeed.com"
         },
         {
          "count": 2,
          "d": 47.30008756637573,
          "domain": "buzzfeed.com"
         },
         {
          "count": 2,
          "d": 47.805241808891296,
          "domain": "buzzfeed.com"
         },
         {
          "count": 2,
          "d": 48.31039605140686,
          "domain": "buzzfeed.com"
         },
         {
          "count": 2,
          "d": 48.81555029392242,
          "domain": "buzzfeed.com"
         },
         {
          "count": 2,
          "d": 49.32070453643799,
          "domain": "buzzfeed.com"
         },
         {
          "count": 0,
          "d": 49.82585877895355,
          "domain": "buzzfeed.com"
         },
         {
          "count": 0,
          "d": 50.33101302146912,
          "domain": "buzzfeed.com"
         },
         {
          "count": 0,
          "d": 50.83616726398468,
          "domain": "buzzfeed.com"
         },
         {
          "count": 0,
          "d": 51.34132150650024,
          "domain": "buzzfeed.com"
         },
         {
          "count": 0,
          "d": 51.84647574901581,
          "domain": "buzzfeed.com"
         },
         {
          "count": 0,
          "d": 52.35162999153137,
          "domain": "buzzfeed.com"
         },
         {
          "count": 0,
          "d": 52.856784234046934,
          "domain": "buzzfeed.com"
         },
         {
          "count": 1,
          "d": 2.8465142250061035,
          "domain": "cnn.com"
         },
         {
          "count": 1,
          "d": 3.3516684675216677,
          "domain": "cnn.com"
         },
         {
          "count": 8,
          "d": 3.8568227100372314,
          "domain": "cnn.com"
         },
         {
          "count": 23,
          "d": 4.361976952552795,
          "domain": "cnn.com"
         },
         {
          "count": 63,
          "d": 4.867131195068359,
          "domain": "cnn.com"
         },
         {
          "count": 165,
          "d": 5.3722854375839235,
          "domain": "cnn.com"
         },
         {
          "count": 332,
          "d": 5.877439680099487,
          "domain": "cnn.com"
         },
         {
          "count": 529,
          "d": 6.382593922615051,
          "domain": "cnn.com"
         },
         {
          "count": 734,
          "d": 6.887748165130615,
          "domain": "cnn.com"
         },
         {
          "count": 1064,
          "d": 7.392902407646179,
          "domain": "cnn.com"
         },
         {
          "count": 1567,
          "d": 7.8980566501617435,
          "domain": "cnn.com"
         },
         {
          "count": 1977,
          "d": 8.403210892677308,
          "domain": "cnn.com"
         },
         {
          "count": 2450,
          "d": 8.90836513519287,
          "domain": "cnn.com"
         },
         {
          "count": 2932,
          "d": 9.413519377708436,
          "domain": "cnn.com"
         },
         {
          "count": 3146,
          "d": 9.918673620223998,
          "domain": "cnn.com"
         },
         {
          "count": 3616,
          "d": 10.423827862739563,
          "domain": "cnn.com"
         },
         {
          "count": 3848,
          "d": 10.928982105255127,
          "domain": "cnn.com"
         },
         {
          "count": 4005,
          "d": 11.434136347770691,
          "domain": "cnn.com"
         },
         {
          "count": 3982,
          "d": 11.939290590286255,
          "domain": "cnn.com"
         },
         {
          "count": 3952,
          "d": 12.44444483280182,
          "domain": "cnn.com"
         },
         {
          "count": 4037,
          "d": 12.949599075317384,
          "domain": "cnn.com"
         },
         {
          "count": 3845,
          "d": 13.454753317832946,
          "domain": "cnn.com"
         },
         {
          "count": 3688,
          "d": 13.95990756034851,
          "domain": "cnn.com"
         },
         {
          "count": 3476,
          "d": 14.465061802864074,
          "domain": "cnn.com"
         },
         {
          "count": 3216,
          "d": 14.970216045379638,
          "domain": "cnn.com"
         },
         {
          "count": 2929,
          "d": 15.475370287895203,
          "domain": "cnn.com"
         },
         {
          "count": 2514,
          "d": 15.980524530410767,
          "domain": "cnn.com"
         },
         {
          "count": 2449,
          "d": 16.48567877292633,
          "domain": "cnn.com"
         },
         {
          "count": 2038,
          "d": 16.990833015441893,
          "domain": "cnn.com"
         },
         {
          "count": 1825,
          "d": 17.49598725795746,
          "domain": "cnn.com"
         },
         {
          "count": 1494,
          "d": 18.00114150047302,
          "domain": "cnn.com"
         },
         {
          "count": 1348,
          "d": 18.506295742988584,
          "domain": "cnn.com"
         },
         {
          "count": 1157,
          "d": 19.01144998550415,
          "domain": "cnn.com"
         },
         {
          "count": 955,
          "d": 19.516604228019713,
          "domain": "cnn.com"
         },
         {
          "count": 814,
          "d": 20.02175847053528,
          "domain": "cnn.com"
         },
         {
          "count": 701,
          "d": 20.52691271305084,
          "domain": "cnn.com"
         },
         {
          "count": 580,
          "d": 21.032066955566407,
          "domain": "cnn.com"
         },
         {
          "count": 498,
          "d": 21.53722119808197,
          "domain": "cnn.com"
         },
         {
          "count": 479,
          "d": 22.042375440597535,
          "domain": "cnn.com"
         },
         {
          "count": 383,
          "d": 22.547529683113098,
          "domain": "cnn.com"
         },
         {
          "count": 323,
          "d": 23.052683925628664,
          "domain": "cnn.com"
         },
         {
          "count": 270,
          "d": 23.557838168144226,
          "domain": "cnn.com"
         },
         {
          "count": 312,
          "d": 24.06299241065979,
          "domain": "cnn.com"
         },
         {
          "count": 269,
          "d": 24.568146653175354,
          "domain": "cnn.com"
         },
         {
          "count": 171,
          "d": 25.073300895690917,
          "domain": "cnn.com"
         },
         {
          "count": 155,
          "d": 25.578455138206483,
          "domain": "cnn.com"
         },
         {
          "count": 137,
          "d": 26.083609380722045,
          "domain": "cnn.com"
         },
         {
          "count": 185,
          "d": 26.58876362323761,
          "domain": "cnn.com"
         },
         {
          "count": 89,
          "d": 27.093917865753173,
          "domain": "cnn.com"
         },
         {
          "count": 132,
          "d": 27.599072108268736,
          "domain": "cnn.com"
         },
         {
          "count": 84,
          "d": 28.1042263507843,
          "domain": "cnn.com"
         },
         {
          "count": 65,
          "d": 28.609380593299864,
          "domain": "cnn.com"
         },
         {
          "count": 57,
          "d": 29.11453483581543,
          "domain": "cnn.com"
         },
         {
          "count": 45,
          "d": 29.619689078330993,
          "domain": "cnn.com"
         },
         {
          "count": 28,
          "d": 30.12484332084656,
          "domain": "cnn.com"
         },
         {
          "count": 32,
          "d": 30.62999756336212,
          "domain": "cnn.com"
         },
         {
          "count": 27,
          "d": 31.135151805877683,
          "domain": "cnn.com"
         },
         {
          "count": 71,
          "d": 31.64030604839325,
          "domain": "cnn.com"
         },
         {
          "count": 141,
          "d": 32.145460290908815,
          "domain": "cnn.com"
         },
         {
          "count": 25,
          "d": 32.650614533424374,
          "domain": "cnn.com"
         },
         {
          "count": 8,
          "d": 33.15576877593994,
          "domain": "cnn.com"
         },
         {
          "count": 7,
          "d": 33.660923018455506,
          "domain": "cnn.com"
         },
         {
          "count": 19,
          "d": 34.166077260971065,
          "domain": "cnn.com"
         },
         {
          "count": 12,
          "d": 34.67123150348664,
          "domain": "cnn.com"
         },
         {
          "count": 7,
          "d": 35.1763857460022,
          "domain": "cnn.com"
         },
         {
          "count": 8,
          "d": 35.68153998851776,
          "domain": "cnn.com"
         },
         {
          "count": 3,
          "d": 36.18669423103332,
          "domain": "cnn.com"
         },
         {
          "count": 2,
          "d": 36.69184847354889,
          "domain": "cnn.com"
         },
         {
          "count": 5,
          "d": 37.19700271606445,
          "domain": "cnn.com"
         },
         {
          "count": 4,
          "d": 37.70215695858002,
          "domain": "cnn.com"
         },
         {
          "count": 5,
          "d": 38.20731120109558,
          "domain": "cnn.com"
         },
         {
          "count": 2,
          "d": 38.712465443611144,
          "domain": "cnn.com"
         },
         {
          "count": 2,
          "d": 39.21761968612671,
          "domain": "cnn.com"
         },
         {
          "count": 0,
          "d": 39.72277392864227,
          "domain": "cnn.com"
         },
         {
          "count": 2,
          "d": 40.227928171157835,
          "domain": "cnn.com"
         },
         {
          "count": 2,
          "d": 40.7330824136734,
          "domain": "cnn.com"
         },
         {
          "count": 0,
          "d": 41.23823665618897,
          "domain": "cnn.com"
         },
         {
          "count": 0,
          "d": 41.743390898704526,
          "domain": "cnn.com"
         },
         {
          "count": 0,
          "d": 42.24854514122009,
          "domain": "cnn.com"
         },
         {
          "count": 1,
          "d": 42.75369938373566,
          "domain": "cnn.com"
         },
         {
          "count": 0,
          "d": 43.25885362625122,
          "domain": "cnn.com"
         },
         {
          "count": 0,
          "d": 43.76400786876678,
          "domain": "cnn.com"
         },
         {
          "count": 0,
          "d": 44.26916211128235,
          "domain": "cnn.com"
         },
         {
          "count": 0,
          "d": 44.774316353797914,
          "domain": "cnn.com"
         },
         {
          "count": 0,
          "d": 45.27947059631347,
          "domain": "cnn.com"
         },
         {
          "count": 0,
          "d": 45.78462483882904,
          "domain": "cnn.com"
         },
         {
          "count": 0,
          "d": 46.289779081344605,
          "domain": "cnn.com"
         },
         {
          "count": 0,
          "d": 46.79493332386017,
          "domain": "cnn.com"
         },
         {
          "count": 0,
          "d": 47.30008756637573,
          "domain": "cnn.com"
         },
         {
          "count": 0,
          "d": 47.805241808891296,
          "domain": "cnn.com"
         },
         {
          "count": 0,
          "d": 48.31039605140686,
          "domain": "cnn.com"
         },
         {
          "count": 0,
          "d": 48.81555029392242,
          "domain": "cnn.com"
         },
         {
          "count": 0,
          "d": 49.32070453643799,
          "domain": "cnn.com"
         },
         {
          "count": 0,
          "d": 49.82585877895355,
          "domain": "cnn.com"
         },
         {
          "count": 0,
          "d": 50.33101302146912,
          "domain": "cnn.com"
         },
         {
          "count": 0,
          "d": 50.83616726398468,
          "domain": "cnn.com"
         },
         {
          "count": 0,
          "d": 51.34132150650024,
          "domain": "cnn.com"
         },
         {
          "count": 0,
          "d": 51.84647574901581,
          "domain": "cnn.com"
         },
         {
          "count": 0,
          "d": 52.35162999153137,
          "domain": "cnn.com"
         },
         {
          "count": 0,
          "d": 52.856784234046934,
          "domain": "cnn.com"
         },
         {
          "count": 0,
          "d": 2.8465142250061035,
          "domain": "nytimes.com"
         },
         {
          "count": 0,
          "d": 3.3516684675216677,
          "domain": "nytimes.com"
         },
         {
          "count": 4,
          "d": 3.8568227100372314,
          "domain": "nytimes.com"
         },
         {
          "count": 28,
          "d": 4.361976952552795,
          "domain": "nytimes.com"
         },
         {
          "count": 76,
          "d": 4.867131195068359,
          "domain": "nytimes.com"
         },
         {
          "count": 118,
          "d": 5.3722854375839235,
          "domain": "nytimes.com"
         },
         {
          "count": 220,
          "d": 5.877439680099487,
          "domain": "nytimes.com"
         },
         {
          "count": 415,
          "d": 6.382593922615051,
          "domain": "nytimes.com"
         },
         {
          "count": 594,
          "d": 6.887748165130615,
          "domain": "nytimes.com"
         },
         {
          "count": 836,
          "d": 7.392902407646179,
          "domain": "nytimes.com"
         },
         {
          "count": 1125,
          "d": 7.8980566501617435,
          "domain": "nytimes.com"
         },
         {
          "count": 1459,
          "d": 8.403210892677308,
          "domain": "nytimes.com"
         },
         {
          "count": 1835,
          "d": 8.90836513519287,
          "domain": "nytimes.com"
         },
         {
          "count": 2208,
          "d": 9.413519377708436,
          "domain": "nytimes.com"
         },
         {
          "count": 2514,
          "d": 9.918673620223998,
          "domain": "nytimes.com"
         },
         {
          "count": 2808,
          "d": 10.423827862739563,
          "domain": "nytimes.com"
         },
         {
          "count": 3033,
          "d": 10.928982105255127,
          "domain": "nytimes.com"
         },
         {
          "count": 3192,
          "d": 11.434136347770691,
          "domain": "nytimes.com"
         },
         {
          "count": 3267,
          "d": 11.939290590286255,
          "domain": "nytimes.com"
         },
         {
          "count": 3304,
          "d": 12.44444483280182,
          "domain": "nytimes.com"
         },
         {
          "count": 3344,
          "d": 12.949599075317384,
          "domain": "nytimes.com"
         },
         {
          "count": 3316,
          "d": 13.454753317832946,
          "domain": "nytimes.com"
         },
         {
          "count": 3112,
          "d": 13.95990756034851,
          "domain": "nytimes.com"
         },
         {
          "count": 3033,
          "d": 14.465061802864074,
          "domain": "nytimes.com"
         },
         {
          "count": 3083,
          "d": 14.970216045379638,
          "domain": "nytimes.com"
         },
         {
          "count": 2905,
          "d": 15.475370287895203,
          "domain": "nytimes.com"
         },
         {
          "count": 2713,
          "d": 15.980524530410767,
          "domain": "nytimes.com"
         },
         {
          "count": 2542,
          "d": 16.48567877292633,
          "domain": "nytimes.com"
         },
         {
          "count": 2286,
          "d": 16.990833015441893,
          "domain": "nytimes.com"
         },
         {
          "count": 2140,
          "d": 17.49598725795746,
          "domain": "nytimes.com"
         },
         {
          "count": 2070,
          "d": 18.00114150047302,
          "domain": "nytimes.com"
         },
         {
          "count": 1770,
          "d": 18.506295742988584,
          "domain": "nytimes.com"
         },
         {
          "count": 1630,
          "d": 19.01144998550415,
          "domain": "nytimes.com"
         },
         {
          "count": 1543,
          "d": 19.516604228019713,
          "domain": "nytimes.com"
         },
         {
          "count": 1320,
          "d": 20.02175847053528,
          "domain": "nytimes.com"
         },
         {
          "count": 1329,
          "d": 20.52691271305084,
          "domain": "nytimes.com"
         },
         {
          "count": 1082,
          "d": 21.032066955566407,
          "domain": "nytimes.com"
         },
         {
          "count": 1079,
          "d": 21.53722119808197,
          "domain": "nytimes.com"
         },
         {
          "count": 877,
          "d": 22.042375440597535,
          "domain": "nytimes.com"
         },
         {
          "count": 758,
          "d": 22.547529683113098,
          "domain": "nytimes.com"
         },
         {
          "count": 683,
          "d": 23.052683925628664,
          "domain": "nytimes.com"
         },
         {
          "count": 612,
          "d": 23.557838168144226,
          "domain": "nytimes.com"
         },
         {
          "count": 612,
          "d": 24.06299241065979,
          "domain": "nytimes.com"
         },
         {
          "count": 540,
          "d": 24.568146653175354,
          "domain": "nytimes.com"
         },
         {
          "count": 423,
          "d": 25.073300895690917,
          "domain": "nytimes.com"
         },
         {
          "count": 418,
          "d": 25.578455138206483,
          "domain": "nytimes.com"
         },
         {
          "count": 337,
          "d": 26.083609380722045,
          "domain": "nytimes.com"
         },
         {
          "count": 303,
          "d": 26.58876362323761,
          "domain": "nytimes.com"
         },
         {
          "count": 315,
          "d": 27.093917865753173,
          "domain": "nytimes.com"
         },
         {
          "count": 266,
          "d": 27.599072108268736,
          "domain": "nytimes.com"
         },
         {
          "count": 213,
          "d": 28.1042263507843,
          "domain": "nytimes.com"
         },
         {
          "count": 306,
          "d": 28.609380593299864,
          "domain": "nytimes.com"
         },
         {
          "count": 208,
          "d": 29.11453483581543,
          "domain": "nytimes.com"
         },
         {
          "count": 179,
          "d": 29.619689078330993,
          "domain": "nytimes.com"
         },
         {
          "count": 133,
          "d": 30.12484332084656,
          "domain": "nytimes.com"
         },
         {
          "count": 167,
          "d": 30.62999756336212,
          "domain": "nytimes.com"
         },
         {
          "count": 129,
          "d": 31.135151805877683,
          "domain": "nytimes.com"
         },
         {
          "count": 140,
          "d": 31.64030604839325,
          "domain": "nytimes.com"
         },
         {
          "count": 98,
          "d": 32.145460290908815,
          "domain": "nytimes.com"
         },
         {
          "count": 109,
          "d": 32.650614533424374,
          "domain": "nytimes.com"
         },
         {
          "count": 73,
          "d": 33.15576877593994,
          "domain": "nytimes.com"
         },
         {
          "count": 79,
          "d": 33.660923018455506,
          "domain": "nytimes.com"
         },
         {
          "count": 76,
          "d": 34.166077260971065,
          "domain": "nytimes.com"
         },
         {
          "count": 73,
          "d": 34.67123150348664,
          "domain": "nytimes.com"
         },
         {
          "count": 59,
          "d": 35.1763857460022,
          "domain": "nytimes.com"
         },
         {
          "count": 52,
          "d": 35.68153998851776,
          "domain": "nytimes.com"
         },
         {
          "count": 41,
          "d": 36.18669423103332,
          "domain": "nytimes.com"
         },
         {
          "count": 36,
          "d": 36.69184847354889,
          "domain": "nytimes.com"
         },
         {
          "count": 23,
          "d": 37.19700271606445,
          "domain": "nytimes.com"
         },
         {
          "count": 27,
          "d": 37.70215695858002,
          "domain": "nytimes.com"
         },
         {
          "count": 13,
          "d": 38.20731120109558,
          "domain": "nytimes.com"
         },
         {
          "count": 14,
          "d": 38.712465443611144,
          "domain": "nytimes.com"
         },
         {
          "count": 15,
          "d": 39.21761968612671,
          "domain": "nytimes.com"
         },
         {
          "count": 12,
          "d": 39.72277392864227,
          "domain": "nytimes.com"
         },
         {
          "count": 16,
          "d": 40.227928171157835,
          "domain": "nytimes.com"
         },
         {
          "count": 6,
          "d": 40.7330824136734,
          "domain": "nytimes.com"
         },
         {
          "count": 3,
          "d": 41.23823665618897,
          "domain": "nytimes.com"
         },
         {
          "count": 3,
          "d": 41.743390898704526,
          "domain": "nytimes.com"
         },
         {
          "count": 0,
          "d": 42.24854514122009,
          "domain": "nytimes.com"
         },
         {
          "count": 5,
          "d": 42.75369938373566,
          "domain": "nytimes.com"
         },
         {
          "count": 2,
          "d": 43.25885362625122,
          "domain": "nytimes.com"
         },
         {
          "count": 1,
          "d": 43.76400786876678,
          "domain": "nytimes.com"
         },
         {
          "count": 2,
          "d": 44.26916211128235,
          "domain": "nytimes.com"
         },
         {
          "count": 3,
          "d": 44.774316353797914,
          "domain": "nytimes.com"
         },
         {
          "count": 0,
          "d": 45.27947059631347,
          "domain": "nytimes.com"
         },
         {
          "count": 2,
          "d": 45.78462483882904,
          "domain": "nytimes.com"
         },
         {
          "count": 1,
          "d": 46.289779081344605,
          "domain": "nytimes.com"
         },
         {
          "count": 0,
          "d": 46.79493332386017,
          "domain": "nytimes.com"
         },
         {
          "count": 0,
          "d": 47.30008756637573,
          "domain": "nytimes.com"
         },
         {
          "count": 0,
          "d": 47.805241808891296,
          "domain": "nytimes.com"
         },
         {
          "count": 0,
          "d": 48.31039605140686,
          "domain": "nytimes.com"
         },
         {
          "count": 0,
          "d": 48.81555029392242,
          "domain": "nytimes.com"
         },
         {
          "count": 0,
          "d": 49.32070453643799,
          "domain": "nytimes.com"
         },
         {
          "count": 0,
          "d": 49.82585877895355,
          "domain": "nytimes.com"
         },
         {
          "count": 0,
          "d": 50.33101302146912,
          "domain": "nytimes.com"
         },
         {
          "count": 0,
          "d": 50.83616726398468,
          "domain": "nytimes.com"
         },
         {
          "count": 0,
          "d": 51.34132150650024,
          "domain": "nytimes.com"
         },
         {
          "count": 0,
          "d": 51.84647574901581,
          "domain": "nytimes.com"
         },
         {
          "count": 0,
          "d": 52.35162999153137,
          "domain": "nytimes.com"
         },
         {
          "count": 0,
          "d": 52.856784234046934,
          "domain": "nytimes.com"
         },
         {
          "count": 0,
          "d": 2.8465142250061035,
          "domain": "apnews.com"
         },
         {
          "count": 0,
          "d": 3.3516684675216677,
          "domain": "apnews.com"
         },
         {
          "count": 1,
          "d": 3.8568227100372314,
          "domain": "apnews.com"
         },
         {
          "count": 8,
          "d": 4.361976952552795,
          "domain": "apnews.com"
         },
         {
          "count": 22,
          "d": 4.867131195068359,
          "domain": "apnews.com"
         },
         {
          "count": 27,
          "d": 5.3722854375839235,
          "domain": "apnews.com"
         },
         {
          "count": 75,
          "d": 5.877439680099487,
          "domain": "apnews.com"
         },
         {
          "count": 112,
          "d": 6.382593922615051,
          "domain": "apnews.com"
         },
         {
          "count": 253,
          "d": 6.887748165130615,
          "domain": "apnews.com"
         },
         {
          "count": 373,
          "d": 7.392902407646179,
          "domain": "apnews.com"
         },
         {
          "count": 532,
          "d": 7.8980566501617435,
          "domain": "apnews.com"
         },
         {
          "count": 813,
          "d": 8.403210892677308,
          "domain": "apnews.com"
         },
         {
          "count": 1218,
          "d": 8.90836513519287,
          "domain": "apnews.com"
         },
         {
          "count": 1499,
          "d": 9.413519377708436,
          "domain": "apnews.com"
         },
         {
          "count": 1982,
          "d": 9.918673620223998,
          "domain": "apnews.com"
         },
         {
          "count": 2394,
          "d": 10.423827862739563,
          "domain": "apnews.com"
         },
         {
          "count": 2802,
          "d": 10.928982105255127,
          "domain": "apnews.com"
         },
         {
          "count": 3046,
          "d": 11.434136347770691,
          "domain": "apnews.com"
         },
         {
          "count": 3381,
          "d": 11.939290590286255,
          "domain": "apnews.com"
         },
         {
          "count": 3648,
          "d": 12.44444483280182,
          "domain": "apnews.com"
         },
         {
          "count": 3613,
          "d": 12.949599075317384,
          "domain": "apnews.com"
         },
         {
          "count": 3710,
          "d": 13.454753317832946,
          "domain": "apnews.com"
         },
         {
          "count": 3794,
          "d": 13.95990756034851,
          "domain": "apnews.com"
         },
         {
          "count": 3570,
          "d": 14.465061802864074,
          "domain": "apnews.com"
         },
         {
          "count": 3275,
          "d": 14.970216045379638,
          "domain": "apnews.com"
         },
         {
          "count": 3344,
          "d": 15.475370287895203,
          "domain": "apnews.com"
         },
         {
          "count": 3206,
          "d": 15.980524530410767,
          "domain": "apnews.com"
         },
         {
          "count": 3062,
          "d": 16.48567877292633,
          "domain": "apnews.com"
         },
         {
          "count": 2668,
          "d": 16.990833015441893,
          "domain": "apnews.com"
         },
         {
          "count": 2505,
          "d": 17.49598725795746,
          "domain": "apnews.com"
         },
         {
          "count": 2282,
          "d": 18.00114150047302,
          "domain": "apnews.com"
         },
         {
          "count": 2151,
          "d": 18.506295742988584,
          "domain": "apnews.com"
         },
         {
          "count": 1862,
          "d": 19.01144998550415,
          "domain": "apnews.com"
         },
         {
          "count": 1601,
          "d": 19.516604228019713,
          "domain": "apnews.com"
         },
         {
          "count": 1488,
          "d": 20.02175847053528,
          "domain": "apnews.com"
         },
         {
          "count": 1337,
          "d": 20.52691271305084,
          "domain": "apnews.com"
         },
         {
          "count": 1196,
          "d": 21.032066955566407,
          "domain": "apnews.com"
         },
         {
          "count": 1063,
          "d": 21.53722119808197,
          "domain": "apnews.com"
         },
         {
          "count": 979,
          "d": 22.042375440597535,
          "domain": "apnews.com"
         },
         {
          "count": 796,
          "d": 22.547529683113098,
          "domain": "apnews.com"
         },
         {
          "count": 720,
          "d": 23.052683925628664,
          "domain": "apnews.com"
         },
         {
          "count": 586,
          "d": 23.557838168144226,
          "domain": "apnews.com"
         },
         {
          "count": 862,
          "d": 24.06299241065979,
          "domain": "apnews.com"
         },
         {
          "count": 506,
          "d": 24.568146653175354,
          "domain": "apnews.com"
         },
         {
          "count": 384,
          "d": 25.073300895690917,
          "domain": "apnews.com"
         },
         {
          "count": 319,
          "d": 25.578455138206483,
          "domain": "apnews.com"
         },
         {
          "count": 319,
          "d": 26.083609380722045,
          "domain": "apnews.com"
         },
         {
          "count": 244,
          "d": 26.58876362323761,
          "domain": "apnews.com"
         },
         {
          "count": 223,
          "d": 27.093917865753173,
          "domain": "apnews.com"
         },
         {
          "count": 201,
          "d": 27.599072108268736,
          "domain": "apnews.com"
         },
         {
          "count": 196,
          "d": 28.1042263507843,
          "domain": "apnews.com"
         },
         {
          "count": 674,
          "d": 28.609380593299864,
          "domain": "apnews.com"
         },
         {
          "count": 130,
          "d": 29.11453483581543,
          "domain": "apnews.com"
         },
         {
          "count": 122,
          "d": 29.619689078330993,
          "domain": "apnews.com"
         },
         {
          "count": 85,
          "d": 30.12484332084656,
          "domain": "apnews.com"
         },
         {
          "count": 81,
          "d": 30.62999756336212,
          "domain": "apnews.com"
         },
         {
          "count": 77,
          "d": 31.135151805877683,
          "domain": "apnews.com"
         },
         {
          "count": 51,
          "d": 31.64030604839325,
          "domain": "apnews.com"
         },
         {
          "count": 44,
          "d": 32.145460290908815,
          "domain": "apnews.com"
         },
         {
          "count": 42,
          "d": 32.650614533424374,
          "domain": "apnews.com"
         },
         {
          "count": 28,
          "d": 33.15576877593994,
          "domain": "apnews.com"
         },
         {
          "count": 41,
          "d": 33.660923018455506,
          "domain": "apnews.com"
         },
         {
          "count": 18,
          "d": 34.166077260971065,
          "domain": "apnews.com"
         },
         {
          "count": 22,
          "d": 34.67123150348664,
          "domain": "apnews.com"
         },
         {
          "count": 8,
          "d": 35.1763857460022,
          "domain": "apnews.com"
         },
         {
          "count": 4,
          "d": 35.68153998851776,
          "domain": "apnews.com"
         },
         {
          "count": 12,
          "d": 36.18669423103332,
          "domain": "apnews.com"
         },
         {
          "count": 11,
          "d": 36.69184847354889,
          "domain": "apnews.com"
         },
         {
          "count": 8,
          "d": 37.19700271606445,
          "domain": "apnews.com"
         },
         {
          "count": 5,
          "d": 37.70215695858002,
          "domain": "apnews.com"
         },
         {
          "count": 1,
          "d": 38.20731120109558,
          "domain": "apnews.com"
         },
         {
          "count": 2,
          "d": 38.712465443611144,
          "domain": "apnews.com"
         },
         {
          "count": 4,
          "d": 39.21761968612671,
          "domain": "apnews.com"
         },
         {
          "count": 1,
          "d": 39.72277392864227,
          "domain": "apnews.com"
         },
         {
          "count": 1,
          "d": 40.227928171157835,
          "domain": "apnews.com"
         },
         {
          "count": 0,
          "d": 40.7330824136734,
          "domain": "apnews.com"
         },
         {
          "count": 0,
          "d": 41.23823665618897,
          "domain": "apnews.com"
         },
         {
          "count": 0,
          "d": 41.743390898704526,
          "domain": "apnews.com"
         },
         {
          "count": 0,
          "d": 42.24854514122009,
          "domain": "apnews.com"
         },
         {
          "count": 0,
          "d": 42.75369938373566,
          "domain": "apnews.com"
         },
         {
          "count": 0,
          "d": 43.25885362625122,
          "domain": "apnews.com"
         },
         {
          "count": 0,
          "d": 43.76400786876678,
          "domain": "apnews.com"
         },
         {
          "count": 0,
          "d": 44.26916211128235,
          "domain": "apnews.com"
         },
         {
          "count": 0,
          "d": 44.774316353797914,
          "domain": "apnews.com"
         },
         {
          "count": 0,
          "d": 45.27947059631347,
          "domain": "apnews.com"
         },
         {
          "count": 0,
          "d": 45.78462483882904,
          "domain": "apnews.com"
         },
         {
          "count": 0,
          "d": 46.289779081344605,
          "domain": "apnews.com"
         },
         {
          "count": 0,
          "d": 46.79493332386017,
          "domain": "apnews.com"
         },
         {
          "count": 0,
          "d": 47.30008756637573,
          "domain": "apnews.com"
         },
         {
          "count": 0,
          "d": 47.805241808891296,
          "domain": "apnews.com"
         },
         {
          "count": 0,
          "d": 48.31039605140686,
          "domain": "apnews.com"
         },
         {
          "count": 0,
          "d": 48.81555029392242,
          "domain": "apnews.com"
         },
         {
          "count": 0,
          "d": 49.32070453643799,
          "domain": "apnews.com"
         },
         {
          "count": 0,
          "d": 49.82585877895355,
          "domain": "apnews.com"
         },
         {
          "count": 0,
          "d": 50.33101302146912,
          "domain": "apnews.com"
         },
         {
          "count": 0,
          "d": 50.83616726398468,
          "domain": "apnews.com"
         },
         {
          "count": 0,
          "d": 51.34132150650024,
          "domain": "apnews.com"
         },
         {
          "count": 0,
          "d": 51.84647574901581,
          "domain": "apnews.com"
         },
         {
          "count": 0,
          "d": 52.35162999153137,
          "domain": "apnews.com"
         },
         {
          "count": 0,
          "d": 52.856784234046934,
          "domain": "apnews.com"
         },
         {
          "count": 0,
          "d": 2.8465142250061035,
          "domain": "huffingtonpost.com"
         },
         {
          "count": 1,
          "d": 3.3516684675216677,
          "domain": "huffingtonpost.com"
         },
         {
          "count": 13,
          "d": 3.8568227100372314,
          "domain": "huffingtonpost.com"
         },
         {
          "count": 34,
          "d": 4.361976952552795,
          "domain": "huffingtonpost.com"
         },
         {
          "count": 88,
          "d": 4.867131195068359,
          "domain": "huffingtonpost.com"
         },
         {
          "count": 161,
          "d": 5.3722854375839235,
          "domain": "huffingtonpost.com"
         },
         {
          "count": 332,
          "d": 5.877439680099487,
          "domain": "huffingtonpost.com"
         },
         {
          "count": 501,
          "d": 6.382593922615051,
          "domain": "huffingtonpost.com"
         },
         {
          "count": 691,
          "d": 6.887748165130615,
          "domain": "huffingtonpost.com"
         },
         {
          "count": 996,
          "d": 7.392902407646179,
          "domain": "huffingtonpost.com"
         },
         {
          "count": 1329,
          "d": 7.8980566501617435,
          "domain": "huffingtonpost.com"
         },
         {
          "count": 1587,
          "d": 8.403210892677308,
          "domain": "huffingtonpost.com"
         },
         {
          "count": 1938,
          "d": 8.90836513519287,
          "domain": "huffingtonpost.com"
         },
         {
          "count": 2224,
          "d": 9.413519377708436,
          "domain": "huffingtonpost.com"
         },
         {
          "count": 2413,
          "d": 9.918673620223998,
          "domain": "huffingtonpost.com"
         },
         {
          "count": 2688,
          "d": 10.423827862739563,
          "domain": "huffingtonpost.com"
         },
         {
          "count": 2755,
          "d": 10.928982105255127,
          "domain": "huffingtonpost.com"
         },
         {
          "count": 2904,
          "d": 11.434136347770691,
          "domain": "huffingtonpost.com"
         },
         {
          "count": 3075,
          "d": 11.939290590286255,
          "domain": "huffingtonpost.com"
         },
         {
          "count": 3274,
          "d": 12.44444483280182,
          "domain": "huffingtonpost.com"
         },
         {
          "count": 3296,
          "d": 12.949599075317384,
          "domain": "huffingtonpost.com"
         },
         {
          "count": 3185,
          "d": 13.454753317832946,
          "domain": "huffingtonpost.com"
         },
         {
          "count": 3113,
          "d": 13.95990756034851,
          "domain": "huffingtonpost.com"
         },
         {
          "count": 3049,
          "d": 14.465061802864074,
          "domain": "huffingtonpost.com"
         },
         {
          "count": 2757,
          "d": 14.970216045379638,
          "domain": "huffingtonpost.com"
         },
         {
          "count": 2815,
          "d": 15.475370287895203,
          "domain": "huffingtonpost.com"
         },
         {
          "count": 2570,
          "d": 15.980524530410767,
          "domain": "huffingtonpost.com"
         },
         {
          "count": 2495,
          "d": 16.48567877292633,
          "domain": "huffingtonpost.com"
         },
         {
          "count": 2397,
          "d": 16.990833015441893,
          "domain": "huffingtonpost.com"
         },
         {
          "count": 2105,
          "d": 17.49598725795746,
          "domain": "huffingtonpost.com"
         },
         {
          "count": 1957,
          "d": 18.00114150047302,
          "domain": "huffingtonpost.com"
         },
         {
          "count": 1839,
          "d": 18.506295742988584,
          "domain": "huffingtonpost.com"
         },
         {
          "count": 1764,
          "d": 19.01144998550415,
          "domain": "huffingtonpost.com"
         },
         {
          "count": 1612,
          "d": 19.516604228019713,
          "domain": "huffingtonpost.com"
         },
         {
          "count": 1432,
          "d": 20.02175847053528,
          "domain": "huffingtonpost.com"
         },
         {
          "count": 1329,
          "d": 20.52691271305084,
          "domain": "huffingtonpost.com"
         },
         {
          "count": 1289,
          "d": 21.032066955566407,
          "domain": "huffingtonpost.com"
         },
         {
          "count": 1116,
          "d": 21.53722119808197,
          "domain": "huffingtonpost.com"
         },
         {
          "count": 1065,
          "d": 22.042375440597535,
          "domain": "huffingtonpost.com"
         },
         {
          "count": 1005,
          "d": 22.547529683113098,
          "domain": "huffingtonpost.com"
         },
         {
          "count": 785,
          "d": 23.052683925628664,
          "domain": "huffingtonpost.com"
         },
         {
          "count": 721,
          "d": 23.557838168144226,
          "domain": "huffingtonpost.com"
         },
         {
          "count": 699,
          "d": 24.06299241065979,
          "domain": "huffingtonpost.com"
         },
         {
          "count": 550,
          "d": 24.568146653175354,
          "domain": "huffingtonpost.com"
         },
         {
          "count": 548,
          "d": 25.073300895690917,
          "domain": "huffingtonpost.com"
         },
         {
          "count": 450,
          "d": 25.578455138206483,
          "domain": "huffingtonpost.com"
         },
         {
          "count": 383,
          "d": 26.083609380722045,
          "domain": "huffingtonpost.com"
         },
         {
          "count": 377,
          "d": 26.58876362323761,
          "domain": "huffingtonpost.com"
         },
         {
          "count": 331,
          "d": 27.093917865753173,
          "domain": "huffingtonpost.com"
         },
         {
          "count": 296,
          "d": 27.599072108268736,
          "domain": "huffingtonpost.com"
         },
         {
          "count": 202,
          "d": 28.1042263507843,
          "domain": "huffingtonpost.com"
         },
         {
          "count": 176,
          "d": 28.609380593299864,
          "domain": "huffingtonpost.com"
         },
         {
          "count": 144,
          "d": 29.11453483581543,
          "domain": "huffingtonpost.com"
         },
         {
          "count": 146,
          "d": 29.619689078330993,
          "domain": "huffingtonpost.com"
         },
         {
          "count": 112,
          "d": 30.12484332084656,
          "domain": "huffingtonpost.com"
         },
         {
          "count": 102,
          "d": 30.62999756336212,
          "domain": "huffingtonpost.com"
         },
         {
          "count": 70,
          "d": 31.135151805877683,
          "domain": "huffingtonpost.com"
         },
         {
          "count": 89,
          "d": 31.64030604839325,
          "domain": "huffingtonpost.com"
         },
         {
          "count": 41,
          "d": 32.145460290908815,
          "domain": "huffingtonpost.com"
         },
         {
          "count": 32,
          "d": 32.650614533424374,
          "domain": "huffingtonpost.com"
         },
         {
          "count": 44,
          "d": 33.15576877593994,
          "domain": "huffingtonpost.com"
         },
         {
          "count": 30,
          "d": 33.660923018455506,
          "domain": "huffingtonpost.com"
         },
         {
          "count": 24,
          "d": 34.166077260971065,
          "domain": "huffingtonpost.com"
         },
         {
          "count": 9,
          "d": 34.67123150348664,
          "domain": "huffingtonpost.com"
         },
         {
          "count": 15,
          "d": 35.1763857460022,
          "domain": "huffingtonpost.com"
         },
         {
          "count": 8,
          "d": 35.68153998851776,
          "domain": "huffingtonpost.com"
         },
         {
          "count": 5,
          "d": 36.18669423103332,
          "domain": "huffingtonpost.com"
         },
         {
          "count": 3,
          "d": 36.69184847354889,
          "domain": "huffingtonpost.com"
         },
         {
          "count": 2,
          "d": 37.19700271606445,
          "domain": "huffingtonpost.com"
         },
         {
          "count": 5,
          "d": 37.70215695858002,
          "domain": "huffingtonpost.com"
         },
         {
          "count": 2,
          "d": 38.20731120109558,
          "domain": "huffingtonpost.com"
         },
         {
          "count": 1,
          "d": 38.712465443611144,
          "domain": "huffingtonpost.com"
         },
         {
          "count": 0,
          "d": 39.21761968612671,
          "domain": "huffingtonpost.com"
         },
         {
          "count": 1,
          "d": 39.72277392864227,
          "domain": "huffingtonpost.com"
         },
         {
          "count": 0,
          "d": 40.227928171157835,
          "domain": "huffingtonpost.com"
         },
         {
          "count": 1,
          "d": 40.7330824136734,
          "domain": "huffingtonpost.com"
         },
         {
          "count": 0,
          "d": 41.23823665618897,
          "domain": "huffingtonpost.com"
         },
         {
          "count": 0,
          "d": 41.743390898704526,
          "domain": "huffingtonpost.com"
         },
         {
          "count": 0,
          "d": 42.24854514122009,
          "domain": "huffingtonpost.com"
         },
         {
          "count": 0,
          "d": 42.75369938373566,
          "domain": "huffingtonpost.com"
         },
         {
          "count": 0,
          "d": 43.25885362625122,
          "domain": "huffingtonpost.com"
         },
         {
          "count": 0,
          "d": 43.76400786876678,
          "domain": "huffingtonpost.com"
         },
         {
          "count": 0,
          "d": 44.26916211128235,
          "domain": "huffingtonpost.com"
         },
         {
          "count": 0,
          "d": 44.774316353797914,
          "domain": "huffingtonpost.com"
         },
         {
          "count": 0,
          "d": 45.27947059631347,
          "domain": "huffingtonpost.com"
         },
         {
          "count": 0,
          "d": 45.78462483882904,
          "domain": "huffingtonpost.com"
         },
         {
          "count": 0,
          "d": 46.289779081344605,
          "domain": "huffingtonpost.com"
         },
         {
          "count": 0,
          "d": 46.79493332386017,
          "domain": "huffingtonpost.com"
         },
         {
          "count": 0,
          "d": 47.30008756637573,
          "domain": "huffingtonpost.com"
         },
         {
          "count": 0,
          "d": 47.805241808891296,
          "domain": "huffingtonpost.com"
         },
         {
          "count": 0,
          "d": 48.31039605140686,
          "domain": "huffingtonpost.com"
         },
         {
          "count": 0,
          "d": 48.81555029392242,
          "domain": "huffingtonpost.com"
         },
         {
          "count": 0,
          "d": 49.32070453643799,
          "domain": "huffingtonpost.com"
         },
         {
          "count": 0,
          "d": 49.82585877895355,
          "domain": "huffingtonpost.com"
         },
         {
          "count": 0,
          "d": 50.33101302146912,
          "domain": "huffingtonpost.com"
         },
         {
          "count": 0,
          "d": 50.83616726398468,
          "domain": "huffingtonpost.com"
         },
         {
          "count": 0,
          "d": 51.34132150650024,
          "domain": "huffingtonpost.com"
         },
         {
          "count": 0,
          "d": 51.84647574901581,
          "domain": "huffingtonpost.com"
         },
         {
          "count": 0,
          "d": 52.35162999153137,
          "domain": "huffingtonpost.com"
         },
         {
          "count": 0,
          "d": 52.856784234046934,
          "domain": "huffingtonpost.com"
         },
         {
          "count": 0,
          "d": 2.8465142250061035,
          "domain": "washingtonpost.com"
         },
         {
          "count": 3,
          "d": 3.3516684675216677,
          "domain": "washingtonpost.com"
         },
         {
          "count": 7,
          "d": 3.8568227100372314,
          "domain": "washingtonpost.com"
         },
         {
          "count": 23,
          "d": 4.361976952552795,
          "domain": "washingtonpost.com"
         },
         {
          "count": 75,
          "d": 4.867131195068359,
          "domain": "washingtonpost.com"
         },
         {
          "count": 145,
          "d": 5.3722854375839235,
          "domain": "washingtonpost.com"
         },
         {
          "count": 248,
          "d": 5.877439680099487,
          "domain": "washingtonpost.com"
         },
         {
          "count": 402,
          "d": 6.382593922615051,
          "domain": "washingtonpost.com"
         },
         {
          "count": 574,
          "d": 6.887748165130615,
          "domain": "washingtonpost.com"
         },
         {
          "count": 793,
          "d": 7.392902407646179,
          "domain": "washingtonpost.com"
         },
         {
          "count": 1148,
          "d": 7.8980566501617435,
          "domain": "washingtonpost.com"
         },
         {
          "count": 1321,
          "d": 8.403210892677308,
          "domain": "washingtonpost.com"
         },
         {
          "count": 1639,
          "d": 8.90836513519287,
          "domain": "washingtonpost.com"
         },
         {
          "count": 1881,
          "d": 9.413519377708436,
          "domain": "washingtonpost.com"
         },
         {
          "count": 2143,
          "d": 9.918673620223998,
          "domain": "washingtonpost.com"
         },
         {
          "count": 2462,
          "d": 10.423827862739563,
          "domain": "washingtonpost.com"
         },
         {
          "count": 2501,
          "d": 10.928982105255127,
          "domain": "washingtonpost.com"
         },
         {
          "count": 2739,
          "d": 11.434136347770691,
          "domain": "washingtonpost.com"
         },
         {
          "count": 2854,
          "d": 11.939290590286255,
          "domain": "washingtonpost.com"
         },
         {
          "count": 2871,
          "d": 12.44444483280182,
          "domain": "washingtonpost.com"
         },
         {
          "count": 2844,
          "d": 12.949599075317384,
          "domain": "washingtonpost.com"
         },
         {
          "count": 2966,
          "d": 13.454753317832946,
          "domain": "washingtonpost.com"
         },
         {
          "count": 2863,
          "d": 13.95990756034851,
          "domain": "washingtonpost.com"
         },
         {
          "count": 2885,
          "d": 14.465061802864074,
          "domain": "washingtonpost.com"
         },
         {
          "count": 2669,
          "d": 14.970216045379638,
          "domain": "washingtonpost.com"
         },
         {
          "count": 2736,
          "d": 15.475370287895203,
          "domain": "washingtonpost.com"
         },
         {
          "count": 2528,
          "d": 15.980524530410767,
          "domain": "washingtonpost.com"
         },
         {
          "count": 2526,
          "d": 16.48567877292633,
          "domain": "washingtonpost.com"
         },
         {
          "count": 2334,
          "d": 16.990833015441893,
          "domain": "washingtonpost.com"
         },
         {
          "count": 2223,
          "d": 17.49598725795746,
          "domain": "washingtonpost.com"
         },
         {
          "count": 2146,
          "d": 18.00114150047302,
          "domain": "washingtonpost.com"
         },
         {
          "count": 2050,
          "d": 18.506295742988584,
          "domain": "washingtonpost.com"
         },
         {
          "count": 1945,
          "d": 19.01144998550415,
          "domain": "washingtonpost.com"
         },
         {
          "count": 1902,
          "d": 19.516604228019713,
          "domain": "washingtonpost.com"
         },
         {
          "count": 1633,
          "d": 20.02175847053528,
          "domain": "washingtonpost.com"
         },
         {
          "count": 1507,
          "d": 20.52691271305084,
          "domain": "washingtonpost.com"
         },
         {
          "count": 1372,
          "d": 21.032066955566407,
          "domain": "washingtonpost.com"
         },
         {
          "count": 1502,
          "d": 21.53722119808197,
          "domain": "washingtonpost.com"
         },
         {
          "count": 1138,
          "d": 22.042375440597535,
          "domain": "washingtonpost.com"
         },
         {
          "count": 1100,
          "d": 22.547529683113098,
          "domain": "washingtonpost.com"
         },
         {
          "count": 987,
          "d": 23.052683925628664,
          "domain": "washingtonpost.com"
         },
         {
          "count": 933,
          "d": 23.557838168144226,
          "domain": "washingtonpost.com"
         },
         {
          "count": 792,
          "d": 24.06299241065979,
          "domain": "washingtonpost.com"
         },
         {
          "count": 723,
          "d": 24.568146653175354,
          "domain": "washingtonpost.com"
         },
         {
          "count": 613,
          "d": 25.073300895690917,
          "domain": "washingtonpost.com"
         },
         {
          "count": 527,
          "d": 25.578455138206483,
          "domain": "washingtonpost.com"
         },
         {
          "count": 493,
          "d": 26.083609380722045,
          "domain": "washingtonpost.com"
         },
         {
          "count": 416,
          "d": 26.58876362323761,
          "domain": "washingtonpost.com"
         },
         {
          "count": 392,
          "d": 27.093917865753173,
          "domain": "washingtonpost.com"
         },
         {
          "count": 405,
          "d": 27.599072108268736,
          "domain": "washingtonpost.com"
         },
         {
          "count": 368,
          "d": 28.1042263507843,
          "domain": "washingtonpost.com"
         },
         {
          "count": 265,
          "d": 28.609380593299864,
          "domain": "washingtonpost.com"
         },
         {
          "count": 309,
          "d": 29.11453483581543,
          "domain": "washingtonpost.com"
         },
         {
          "count": 157,
          "d": 29.619689078330993,
          "domain": "washingtonpost.com"
         },
         {
          "count": 157,
          "d": 30.12484332084656,
          "domain": "washingtonpost.com"
         },
         {
          "count": 130,
          "d": 30.62999756336212,
          "domain": "washingtonpost.com"
         },
         {
          "count": 123,
          "d": 31.135151805877683,
          "domain": "washingtonpost.com"
         },
         {
          "count": 88,
          "d": 31.64030604839325,
          "domain": "washingtonpost.com"
         },
         {
          "count": 71,
          "d": 32.145460290908815,
          "domain": "washingtonpost.com"
         },
         {
          "count": 71,
          "d": 32.650614533424374,
          "domain": "washingtonpost.com"
         },
         {
          "count": 56,
          "d": 33.15576877593994,
          "domain": "washingtonpost.com"
         },
         {
          "count": 52,
          "d": 33.660923018455506,
          "domain": "washingtonpost.com"
         },
         {
          "count": 44,
          "d": 34.166077260971065,
          "domain": "washingtonpost.com"
         },
         {
          "count": 44,
          "d": 34.67123150348664,
          "domain": "washingtonpost.com"
         },
         {
          "count": 22,
          "d": 35.1763857460022,
          "domain": "washingtonpost.com"
         },
         {
          "count": 17,
          "d": 35.68153998851776,
          "domain": "washingtonpost.com"
         },
         {
          "count": 12,
          "d": 36.18669423103332,
          "domain": "washingtonpost.com"
         },
         {
          "count": 13,
          "d": 36.69184847354889,
          "domain": "washingtonpost.com"
         },
         {
          "count": 11,
          "d": 37.19700271606445,
          "domain": "washingtonpost.com"
         },
         {
          "count": 16,
          "d": 37.70215695858002,
          "domain": "washingtonpost.com"
         },
         {
          "count": 6,
          "d": 38.20731120109558,
          "domain": "washingtonpost.com"
         },
         {
          "count": 40,
          "d": 38.712465443611144,
          "domain": "washingtonpost.com"
         },
         {
          "count": 2,
          "d": 39.21761968612671,
          "domain": "washingtonpost.com"
         },
         {
          "count": 0,
          "d": 39.72277392864227,
          "domain": "washingtonpost.com"
         },
         {
          "count": 5,
          "d": 40.227928171157835,
          "domain": "washingtonpost.com"
         },
         {
          "count": 2,
          "d": 40.7330824136734,
          "domain": "washingtonpost.com"
         },
         {
          "count": 4,
          "d": 41.23823665618897,
          "domain": "washingtonpost.com"
         },
         {
          "count": 1,
          "d": 41.743390898704526,
          "domain": "washingtonpost.com"
         },
         {
          "count": 2,
          "d": 42.24854514122009,
          "domain": "washingtonpost.com"
         },
         {
          "count": 0,
          "d": 42.75369938373566,
          "domain": "washingtonpost.com"
         },
         {
          "count": 2,
          "d": 43.25885362625122,
          "domain": "washingtonpost.com"
         },
         {
          "count": 0,
          "d": 43.76400786876678,
          "domain": "washingtonpost.com"
         },
         {
          "count": 0,
          "d": 44.26916211128235,
          "domain": "washingtonpost.com"
         },
         {
          "count": 0,
          "d": 44.774316353797914,
          "domain": "washingtonpost.com"
         },
         {
          "count": 1,
          "d": 45.27947059631347,
          "domain": "washingtonpost.com"
         },
         {
          "count": 0,
          "d": 45.78462483882904,
          "domain": "washingtonpost.com"
         },
         {
          "count": 0,
          "d": 46.289779081344605,
          "domain": "washingtonpost.com"
         },
         {
          "count": 0,
          "d": 46.79493332386017,
          "domain": "washingtonpost.com"
         },
         {
          "count": 1,
          "d": 47.30008756637573,
          "domain": "washingtonpost.com"
         },
         {
          "count": 0,
          "d": 47.805241808891296,
          "domain": "washingtonpost.com"
         },
         {
          "count": 0,
          "d": 48.31039605140686,
          "domain": "washingtonpost.com"
         },
         {
          "count": 0,
          "d": 48.81555029392242,
          "domain": "washingtonpost.com"
         },
         {
          "count": 0,
          "d": 49.32070453643799,
          "domain": "washingtonpost.com"
         },
         {
          "count": 0,
          "d": 49.82585877895355,
          "domain": "washingtonpost.com"
         },
         {
          "count": 0,
          "d": 50.33101302146912,
          "domain": "washingtonpost.com"
         },
         {
          "count": 0,
          "d": 50.83616726398468,
          "domain": "washingtonpost.com"
         },
         {
          "count": 0,
          "d": 51.34132150650024,
          "domain": "washingtonpost.com"
         },
         {
          "count": 0,
          "d": 51.84647574901581,
          "domain": "washingtonpost.com"
         },
         {
          "count": 0,
          "d": 52.35162999153137,
          "domain": "washingtonpost.com"
         },
         {
          "count": 0,
          "d": 52.856784234046934,
          "domain": "washingtonpost.com"
         },
         {
          "count": 0,
          "d": 2.8465142250061035,
          "domain": "wsj.com"
         },
         {
          "count": 1,
          "d": 3.3516684675216677,
          "domain": "wsj.com"
         },
         {
          "count": 4,
          "d": 3.8568227100372314,
          "domain": "wsj.com"
         },
         {
          "count": 12,
          "d": 4.361976952552795,
          "domain": "wsj.com"
         },
         {
          "count": 52,
          "d": 4.867131195068359,
          "domain": "wsj.com"
         },
         {
          "count": 91,
          "d": 5.3722854375839235,
          "domain": "wsj.com"
         },
         {
          "count": 180,
          "d": 5.877439680099487,
          "domain": "wsj.com"
         },
         {
          "count": 257,
          "d": 6.382593922615051,
          "domain": "wsj.com"
         },
         {
          "count": 462,
          "d": 6.887748165130615,
          "domain": "wsj.com"
         },
         {
          "count": 703,
          "d": 7.392902407646179,
          "domain": "wsj.com"
         },
         {
          "count": 955,
          "d": 7.8980566501617435,
          "domain": "wsj.com"
         },
         {
          "count": 1158,
          "d": 8.403210892677308,
          "domain": "wsj.com"
         },
         {
          "count": 1455,
          "d": 8.90836513519287,
          "domain": "wsj.com"
         },
         {
          "count": 1763,
          "d": 9.413519377708436,
          "domain": "wsj.com"
         },
         {
          "count": 2152,
          "d": 9.918673620223998,
          "domain": "wsj.com"
         },
         {
          "count": 2431,
          "d": 10.423827862739563,
          "domain": "wsj.com"
         },
         {
          "count": 2677,
          "d": 10.928982105255127,
          "domain": "wsj.com"
         },
         {
          "count": 2999,
          "d": 11.434136347770691,
          "domain": "wsj.com"
         },
         {
          "count": 3040,
          "d": 11.939290590286255,
          "domain": "wsj.com"
         },
         {
          "count": 3114,
          "d": 12.44444483280182,
          "domain": "wsj.com"
         },
         {
          "count": 3182,
          "d": 12.949599075317384,
          "domain": "wsj.com"
         },
         {
          "count": 3076,
          "d": 13.454753317832946,
          "domain": "wsj.com"
         },
         {
          "count": 3201,
          "d": 13.95990756034851,
          "domain": "wsj.com"
         },
         {
          "count": 3211,
          "d": 14.465061802864074,
          "domain": "wsj.com"
         },
         {
          "count": 3059,
          "d": 14.970216045379638,
          "domain": "wsj.com"
         },
         {
          "count": 2871,
          "d": 15.475370287895203,
          "domain": "wsj.com"
         },
         {
          "count": 2994,
          "d": 15.980524530410767,
          "domain": "wsj.com"
         },
         {
          "count": 2770,
          "d": 16.48567877292633,
          "domain": "wsj.com"
         },
         {
          "count": 2698,
          "d": 16.990833015441893,
          "domain": "wsj.com"
         },
         {
          "count": 2471,
          "d": 17.49598725795746,
          "domain": "wsj.com"
         },
         {
          "count": 2423,
          "d": 18.00114150047302,
          "domain": "wsj.com"
         },
         {
          "count": 2205,
          "d": 18.506295742988584,
          "domain": "wsj.com"
         },
         {
          "count": 2053,
          "d": 19.01144998550415,
          "domain": "wsj.com"
         },
         {
          "count": 1795,
          "d": 19.516604228019713,
          "domain": "wsj.com"
         },
         {
          "count": 1741,
          "d": 20.02175847053528,
          "domain": "wsj.com"
         },
         {
          "count": 1636,
          "d": 20.52691271305084,
          "domain": "wsj.com"
         },
         {
          "count": 1433,
          "d": 21.032066955566407,
          "domain": "wsj.com"
         },
         {
          "count": 1213,
          "d": 21.53722119808197,
          "domain": "wsj.com"
         },
         {
          "count": 1079,
          "d": 22.042375440597535,
          "domain": "wsj.com"
         },
         {
          "count": 929,
          "d": 22.547529683113098,
          "domain": "wsj.com"
         },
         {
          "count": 934,
          "d": 23.052683925628664,
          "domain": "wsj.com"
         },
         {
          "count": 945,
          "d": 23.557838168144226,
          "domain": "wsj.com"
         },
         {
          "count": 596,
          "d": 24.06299241065979,
          "domain": "wsj.com"
         },
         {
          "count": 583,
          "d": 24.568146653175354,
          "domain": "wsj.com"
         },
         {
          "count": 488,
          "d": 25.073300895690917,
          "domain": "wsj.com"
         },
         {
          "count": 413,
          "d": 25.578455138206483,
          "domain": "wsj.com"
         },
         {
          "count": 356,
          "d": 26.083609380722045,
          "domain": "wsj.com"
         },
         {
          "count": 317,
          "d": 26.58876362323761,
          "domain": "wsj.com"
         },
         {
          "count": 254,
          "d": 27.093917865753173,
          "domain": "wsj.com"
         },
         {
          "count": 220,
          "d": 27.599072108268736,
          "domain": "wsj.com"
         },
         {
          "count": 171,
          "d": 28.1042263507843,
          "domain": "wsj.com"
         },
         {
          "count": 155,
          "d": 28.609380593299864,
          "domain": "wsj.com"
         },
         {
          "count": 138,
          "d": 29.11453483581543,
          "domain": "wsj.com"
         },
         {
          "count": 107,
          "d": 29.619689078330993,
          "domain": "wsj.com"
         },
         {
          "count": 88,
          "d": 30.12484332084656,
          "domain": "wsj.com"
         },
         {
          "count": 70,
          "d": 30.62999756336212,
          "domain": "wsj.com"
         },
         {
          "count": 61,
          "d": 31.135151805877683,
          "domain": "wsj.com"
         },
         {
          "count": 50,
          "d": 31.64030604839325,
          "domain": "wsj.com"
         },
         {
          "count": 33,
          "d": 32.145460290908815,
          "domain": "wsj.com"
         },
         {
          "count": 38,
          "d": 32.650614533424374,
          "domain": "wsj.com"
         },
         {
          "count": 36,
          "d": 33.15576877593994,
          "domain": "wsj.com"
         },
         {
          "count": 32,
          "d": 33.660923018455506,
          "domain": "wsj.com"
         },
         {
          "count": 18,
          "d": 34.166077260971065,
          "domain": "wsj.com"
         },
         {
          "count": 201,
          "d": 34.67123150348664,
          "domain": "wsj.com"
         },
         {
          "count": 14,
          "d": 35.1763857460022,
          "domain": "wsj.com"
         },
         {
          "count": 16,
          "d": 35.68153998851776,
          "domain": "wsj.com"
         },
         {
          "count": 10,
          "d": 36.18669423103332,
          "domain": "wsj.com"
         },
         {
          "count": 4,
          "d": 36.69184847354889,
          "domain": "wsj.com"
         },
         {
          "count": 5,
          "d": 37.19700271606445,
          "domain": "wsj.com"
         },
         {
          "count": 3,
          "d": 37.70215695858002,
          "domain": "wsj.com"
         },
         {
          "count": 6,
          "d": 38.20731120109558,
          "domain": "wsj.com"
         },
         {
          "count": 5,
          "d": 38.712465443611144,
          "domain": "wsj.com"
         },
         {
          "count": 2,
          "d": 39.21761968612671,
          "domain": "wsj.com"
         },
         {
          "count": 1,
          "d": 39.72277392864227,
          "domain": "wsj.com"
         },
         {
          "count": 1,
          "d": 40.227928171157835,
          "domain": "wsj.com"
         },
         {
          "count": 1,
          "d": 40.7330824136734,
          "domain": "wsj.com"
         },
         {
          "count": 2,
          "d": 41.23823665618897,
          "domain": "wsj.com"
         },
         {
          "count": 0,
          "d": 41.743390898704526,
          "domain": "wsj.com"
         },
         {
          "count": 0,
          "d": 42.24854514122009,
          "domain": "wsj.com"
         },
         {
          "count": 0,
          "d": 42.75369938373566,
          "domain": "wsj.com"
         },
         {
          "count": 0,
          "d": 43.25885362625122,
          "domain": "wsj.com"
         },
         {
          "count": 0,
          "d": 43.76400786876678,
          "domain": "wsj.com"
         },
         {
          "count": 0,
          "d": 44.26916211128235,
          "domain": "wsj.com"
         },
         {
          "count": 0,
          "d": 44.774316353797914,
          "domain": "wsj.com"
         },
         {
          "count": 0,
          "d": 45.27947059631347,
          "domain": "wsj.com"
         },
         {
          "count": 0,
          "d": 45.78462483882904,
          "domain": "wsj.com"
         },
         {
          "count": 0,
          "d": 46.289779081344605,
          "domain": "wsj.com"
         },
         {
          "count": 0,
          "d": 46.79493332386017,
          "domain": "wsj.com"
         },
         {
          "count": 0,
          "d": 47.30008756637573,
          "domain": "wsj.com"
         },
         {
          "count": 0,
          "d": 47.805241808891296,
          "domain": "wsj.com"
         },
         {
          "count": 0,
          "d": 48.31039605140686,
          "domain": "wsj.com"
         },
         {
          "count": 0,
          "d": 48.81555029392242,
          "domain": "wsj.com"
         },
         {
          "count": 0,
          "d": 49.32070453643799,
          "domain": "wsj.com"
         },
         {
          "count": 0,
          "d": 49.82585877895355,
          "domain": "wsj.com"
         },
         {
          "count": 0,
          "d": 50.33101302146912,
          "domain": "wsj.com"
         },
         {
          "count": 0,
          "d": 50.83616726398468,
          "domain": "wsj.com"
         },
         {
          "count": 0,
          "d": 51.34132150650024,
          "domain": "wsj.com"
         },
         {
          "count": 0,
          "d": 51.84647574901581,
          "domain": "wsj.com"
         },
         {
          "count": 0,
          "d": 52.35162999153137,
          "domain": "wsj.com"
         },
         {
          "count": 0,
          "d": 52.856784234046934,
          "domain": "wsj.com"
         },
         {
          "count": 0,
          "d": 2.8465142250061035,
          "domain": "foxnews.com"
         },
         {
          "count": 2,
          "d": 3.3516684675216677,
          "domain": "foxnews.com"
         },
         {
          "count": 7,
          "d": 3.8568227100372314,
          "domain": "foxnews.com"
         },
         {
          "count": 26,
          "d": 4.361976952552795,
          "domain": "foxnews.com"
         },
         {
          "count": 59,
          "d": 4.867131195068359,
          "domain": "foxnews.com"
         },
         {
          "count": 113,
          "d": 5.3722854375839235,
          "domain": "foxnews.com"
         },
         {
          "count": 192,
          "d": 5.877439680099487,
          "domain": "foxnews.com"
         },
         {
          "count": 372,
          "d": 6.382593922615051,
          "domain": "foxnews.com"
         },
         {
          "count": 536,
          "d": 6.887748165130615,
          "domain": "foxnews.com"
         },
         {
          "count": 679,
          "d": 7.392902407646179,
          "domain": "foxnews.com"
         },
         {
          "count": 1005,
          "d": 7.8980566501617435,
          "domain": "foxnews.com"
         },
         {
          "count": 1347,
          "d": 8.403210892677308,
          "domain": "foxnews.com"
         },
         {
          "count": 1645,
          "d": 8.90836513519287,
          "domain": "foxnews.com"
         },
         {
          "count": 1985,
          "d": 9.413519377708436,
          "domain": "foxnews.com"
         },
         {
          "count": 2427,
          "d": 9.918673620223998,
          "domain": "foxnews.com"
         },
         {
          "count": 2711,
          "d": 10.423827862739563,
          "domain": "foxnews.com"
         },
         {
          "count": 2927,
          "d": 10.928982105255127,
          "domain": "foxnews.com"
         },
         {
          "count": 3189,
          "d": 11.434136347770691,
          "domain": "foxnews.com"
         },
         {
          "count": 3352,
          "d": 11.939290590286255,
          "domain": "foxnews.com"
         },
         {
          "count": 3426,
          "d": 12.44444483280182,
          "domain": "foxnews.com"
         },
         {
          "count": 3464,
          "d": 12.949599075317384,
          "domain": "foxnews.com"
         },
         {
          "count": 3445,
          "d": 13.454753317832946,
          "domain": "foxnews.com"
         },
         {
          "count": 3411,
          "d": 13.95990756034851,
          "domain": "foxnews.com"
         },
         {
          "count": 3581,
          "d": 14.465061802864074,
          "domain": "foxnews.com"
         },
         {
          "count": 3117,
          "d": 14.970216045379638,
          "domain": "foxnews.com"
         },
         {
          "count": 3131,
          "d": 15.475370287895203,
          "domain": "foxnews.com"
         },
         {
          "count": 2830,
          "d": 15.980524530410767,
          "domain": "foxnews.com"
         },
         {
          "count": 2580,
          "d": 16.48567877292633,
          "domain": "foxnews.com"
         },
         {
          "count": 2539,
          "d": 16.990833015441893,
          "domain": "foxnews.com"
         },
         {
          "count": 2369,
          "d": 17.49598725795746,
          "domain": "foxnews.com"
         },
         {
          "count": 2129,
          "d": 18.00114150047302,
          "domain": "foxnews.com"
         },
         {
          "count": 1922,
          "d": 18.506295742988584,
          "domain": "foxnews.com"
         },
         {
          "count": 1749,
          "d": 19.01144998550415,
          "domain": "foxnews.com"
         },
         {
          "count": 1490,
          "d": 19.516604228019713,
          "domain": "foxnews.com"
         },
         {
          "count": 1467,
          "d": 20.02175847053528,
          "domain": "foxnews.com"
         },
         {
          "count": 1241,
          "d": 20.52691271305084,
          "domain": "foxnews.com"
         },
         {
          "count": 1090,
          "d": 21.032066955566407,
          "domain": "foxnews.com"
         },
         {
          "count": 1020,
          "d": 21.53722119808197,
          "domain": "foxnews.com"
         },
         {
          "count": 856,
          "d": 22.042375440597535,
          "domain": "foxnews.com"
         },
         {
          "count": 801,
          "d": 22.547529683113098,
          "domain": "foxnews.com"
         },
         {
          "count": 751,
          "d": 23.052683925628664,
          "domain": "foxnews.com"
         },
         {
          "count": 648,
          "d": 23.557838168144226,
          "domain": "foxnews.com"
         },
         {
          "count": 508,
          "d": 24.06299241065979,
          "domain": "foxnews.com"
         },
         {
          "count": 437,
          "d": 24.568146653175354,
          "domain": "foxnews.com"
         },
         {
          "count": 393,
          "d": 25.073300895690917,
          "domain": "foxnews.com"
         },
         {
          "count": 342,
          "d": 25.578455138206483,
          "domain": "foxnews.com"
         },
         {
          "count": 302,
          "d": 26.083609380722045,
          "domain": "foxnews.com"
         },
         {
          "count": 248,
          "d": 26.58876362323761,
          "domain": "foxnews.com"
         },
         {
          "count": 233,
          "d": 27.093917865753173,
          "domain": "foxnews.com"
         },
         {
          "count": 225,
          "d": 27.599072108268736,
          "domain": "foxnews.com"
         },
         {
          "count": 135,
          "d": 28.1042263507843,
          "domain": "foxnews.com"
         },
         {
          "count": 155,
          "d": 28.609380593299864,
          "domain": "foxnews.com"
         },
         {
          "count": 135,
          "d": 29.11453483581543,
          "domain": "foxnews.com"
         },
         {
          "count": 90,
          "d": 29.619689078330993,
          "domain": "foxnews.com"
         },
         {
          "count": 71,
          "d": 30.12484332084656,
          "domain": "foxnews.com"
         },
         {
          "count": 58,
          "d": 30.62999756336212,
          "domain": "foxnews.com"
         },
         {
          "count": 58,
          "d": 31.135151805877683,
          "domain": "foxnews.com"
         },
         {
          "count": 76,
          "d": 31.64030604839325,
          "domain": "foxnews.com"
         },
         {
          "count": 52,
          "d": 32.145460290908815,
          "domain": "foxnews.com"
         },
         {
          "count": 33,
          "d": 32.650614533424374,
          "domain": "foxnews.com"
         },
         {
          "count": 28,
          "d": 33.15576877593994,
          "domain": "foxnews.com"
         },
         {
          "count": 20,
          "d": 33.660923018455506,
          "domain": "foxnews.com"
         },
         {
          "count": 15,
          "d": 34.166077260971065,
          "domain": "foxnews.com"
         },
         {
          "count": 7,
          "d": 34.67123150348664,
          "domain": "foxnews.com"
         },
         {
          "count": 18,
          "d": 35.1763857460022,
          "domain": "foxnews.com"
         },
         {
          "count": 11,
          "d": 35.68153998851776,
          "domain": "foxnews.com"
         },
         {
          "count": 2,
          "d": 36.18669423103332,
          "domain": "foxnews.com"
         },
         {
          "count": 5,
          "d": 36.69184847354889,
          "domain": "foxnews.com"
         },
         {
          "count": 3,
          "d": 37.19700271606445,
          "domain": "foxnews.com"
         },
         {
          "count": 8,
          "d": 37.70215695858002,
          "domain": "foxnews.com"
         },
         {
          "count": 3,
          "d": 38.20731120109558,
          "domain": "foxnews.com"
         },
         {
          "count": 2,
          "d": 38.712465443611144,
          "domain": "foxnews.com"
         },
         {
          "count": 1,
          "d": 39.21761968612671,
          "domain": "foxnews.com"
         },
         {
          "count": 0,
          "d": 39.72277392864227,
          "domain": "foxnews.com"
         },
         {
          "count": 2,
          "d": 40.227928171157835,
          "domain": "foxnews.com"
         },
         {
          "count": 1,
          "d": 40.7330824136734,
          "domain": "foxnews.com"
         },
         {
          "count": 1,
          "d": 41.23823665618897,
          "domain": "foxnews.com"
         },
         {
          "count": 0,
          "d": 41.743390898704526,
          "domain": "foxnews.com"
         },
         {
          "count": 0,
          "d": 42.24854514122009,
          "domain": "foxnews.com"
         },
         {
          "count": 0,
          "d": 42.75369938373566,
          "domain": "foxnews.com"
         },
         {
          "count": 0,
          "d": 43.25885362625122,
          "domain": "foxnews.com"
         },
         {
          "count": 1,
          "d": 43.76400786876678,
          "domain": "foxnews.com"
         },
         {
          "count": 0,
          "d": 44.26916211128235,
          "domain": "foxnews.com"
         },
         {
          "count": 0,
          "d": 44.774316353797914,
          "domain": "foxnews.com"
         },
         {
          "count": 0,
          "d": 45.27947059631347,
          "domain": "foxnews.com"
         },
         {
          "count": 0,
          "d": 45.78462483882904,
          "domain": "foxnews.com"
         },
         {
          "count": 0,
          "d": 46.289779081344605,
          "domain": "foxnews.com"
         },
         {
          "count": 0,
          "d": 46.79493332386017,
          "domain": "foxnews.com"
         },
         {
          "count": 0,
          "d": 47.30008756637573,
          "domain": "foxnews.com"
         },
         {
          "count": 0,
          "d": 47.805241808891296,
          "domain": "foxnews.com"
         },
         {
          "count": 0,
          "d": 48.31039605140686,
          "domain": "foxnews.com"
         },
         {
          "count": 0,
          "d": 48.81555029392242,
          "domain": "foxnews.com"
         },
         {
          "count": 0,
          "d": 49.32070453643799,
          "domain": "foxnews.com"
         },
         {
          "count": 0,
          "d": 49.82585877895355,
          "domain": "foxnews.com"
         },
         {
          "count": 0,
          "d": 50.33101302146912,
          "domain": "foxnews.com"
         },
         {
          "count": 0,
          "d": 50.83616726398468,
          "domain": "foxnews.com"
         },
         {
          "count": 0,
          "d": 51.34132150650024,
          "domain": "foxnews.com"
         },
         {
          "count": 0,
          "d": 51.84647574901581,
          "domain": "foxnews.com"
         },
         {
          "count": 0,
          "d": 52.35162999153137,
          "domain": "foxnews.com"
         },
         {
          "count": 0,
          "d": 52.856784234046934,
          "domain": "foxnews.com"
         },
         {
          "count": 0,
          "d": 2.8465142250061035,
          "domain": "dailykos.com"
         },
         {
          "count": 2,
          "d": 3.3516684675216677,
          "domain": "dailykos.com"
         },
         {
          "count": 8,
          "d": 3.8568227100372314,
          "domain": "dailykos.com"
         },
         {
          "count": 16,
          "d": 4.361976952552795,
          "domain": "dailykos.com"
         },
         {
          "count": 41,
          "d": 4.867131195068359,
          "domain": "dailykos.com"
         },
         {
          "count": 77,
          "d": 5.3722854375839235,
          "domain": "dailykos.com"
         },
         {
          "count": 161,
          "d": 5.877439680099487,
          "domain": "dailykos.com"
         },
         {
          "count": 279,
          "d": 6.382593922615051,
          "domain": "dailykos.com"
         },
         {
          "count": 351,
          "d": 6.887748165130615,
          "domain": "dailykos.com"
         },
         {
          "count": 467,
          "d": 7.392902407646179,
          "domain": "dailykos.com"
         },
         {
          "count": 739,
          "d": 7.8980566501617435,
          "domain": "dailykos.com"
         },
         {
          "count": 871,
          "d": 8.403210892677308,
          "domain": "dailykos.com"
         },
         {
          "count": 1150,
          "d": 8.90836513519287,
          "domain": "dailykos.com"
         },
         {
          "count": 1302,
          "d": 9.413519377708436,
          "domain": "dailykos.com"
         },
         {
          "count": 1454,
          "d": 9.918673620223998,
          "domain": "dailykos.com"
         },
         {
          "count": 1671,
          "d": 10.423827862739563,
          "domain": "dailykos.com"
         },
         {
          "count": 1734,
          "d": 10.928982105255127,
          "domain": "dailykos.com"
         },
         {
          "count": 1977,
          "d": 11.434136347770691,
          "domain": "dailykos.com"
         },
         {
          "count": 2054,
          "d": 11.939290590286255,
          "domain": "dailykos.com"
         },
         {
          "count": 2132,
          "d": 12.44444483280182,
          "domain": "dailykos.com"
         },
         {
          "count": 2139,
          "d": 12.949599075317384,
          "domain": "dailykos.com"
         },
         {
          "count": 2253,
          "d": 13.454753317832946,
          "domain": "dailykos.com"
         },
         {
          "count": 2417,
          "d": 13.95990756034851,
          "domain": "dailykos.com"
         },
         {
          "count": 2444,
          "d": 14.465061802864074,
          "domain": "dailykos.com"
         },
         {
          "count": 2517,
          "d": 14.970216045379638,
          "domain": "dailykos.com"
         },
         {
          "count": 2469,
          "d": 15.475370287895203,
          "domain": "dailykos.com"
         },
         {
          "count": 2546,
          "d": 15.980524530410767,
          "domain": "dailykos.com"
         },
         {
          "count": 2518,
          "d": 16.48567877292633,
          "domain": "dailykos.com"
         },
         {
          "count": 2428,
          "d": 16.990833015441893,
          "domain": "dailykos.com"
         },
         {
          "count": 2589,
          "d": 17.49598725795746,
          "domain": "dailykos.com"
         },
         {
          "count": 2536,
          "d": 18.00114150047302,
          "domain": "dailykos.com"
         },
         {
          "count": 2229,
          "d": 18.506295742988584,
          "domain": "dailykos.com"
         },
         {
          "count": 2164,
          "d": 19.01144998550415,
          "domain": "dailykos.com"
         },
         {
          "count": 2100,
          "d": 19.516604228019713,
          "domain": "dailykos.com"
         },
         {
          "count": 1983,
          "d": 20.02175847053528,
          "domain": "dailykos.com"
         },
         {
          "count": 1933,
          "d": 20.52691271305084,
          "domain": "dailykos.com"
         },
         {
          "count": 1838,
          "d": 21.032066955566407,
          "domain": "dailykos.com"
         },
         {
          "count": 1720,
          "d": 21.53722119808197,
          "domain": "dailykos.com"
         },
         {
          "count": 1718,
          "d": 22.042375440597535,
          "domain": "dailykos.com"
         },
         {
          "count": 1587,
          "d": 22.547529683113098,
          "domain": "dailykos.com"
         },
         {
          "count": 1478,
          "d": 23.052683925628664,
          "domain": "dailykos.com"
         },
         {
          "count": 1352,
          "d": 23.557838168144226,
          "domain": "dailykos.com"
         },
         {
          "count": 1245,
          "d": 24.06299241065979,
          "domain": "dailykos.com"
         },
         {
          "count": 1173,
          "d": 24.568146653175354,
          "domain": "dailykos.com"
         },
         {
          "count": 981,
          "d": 25.073300895690917,
          "domain": "dailykos.com"
         },
         {
          "count": 950,
          "d": 25.578455138206483,
          "domain": "dailykos.com"
         },
         {
          "count": 750,
          "d": 26.083609380722045,
          "domain": "dailykos.com"
         },
         {
          "count": 743,
          "d": 26.58876362323761,
          "domain": "dailykos.com"
         },
         {
          "count": 699,
          "d": 27.093917865753173,
          "domain": "dailykos.com"
         },
         {
          "count": 529,
          "d": 27.599072108268736,
          "domain": "dailykos.com"
         },
         {
          "count": 416,
          "d": 28.1042263507843,
          "domain": "dailykos.com"
         },
         {
          "count": 395,
          "d": 28.609380593299864,
          "domain": "dailykos.com"
         },
         {
          "count": 446,
          "d": 29.11453483581543,
          "domain": "dailykos.com"
         },
         {
          "count": 703,
          "d": 29.619689078330993,
          "domain": "dailykos.com"
         },
         {
          "count": 294,
          "d": 30.12484332084656,
          "domain": "dailykos.com"
         },
         {
          "count": 254,
          "d": 30.62999756336212,
          "domain": "dailykos.com"
         },
         {
          "count": 205,
          "d": 31.135151805877683,
          "domain": "dailykos.com"
         },
         {
          "count": 184,
          "d": 31.64030604839325,
          "domain": "dailykos.com"
         },
         {
          "count": 169,
          "d": 32.145460290908815,
          "domain": "dailykos.com"
         },
         {
          "count": 153,
          "d": 32.650614533424374,
          "domain": "dailykos.com"
         },
         {
          "count": 195,
          "d": 33.15576877593994,
          "domain": "dailykos.com"
         },
         {
          "count": 490,
          "d": 33.660923018455506,
          "domain": "dailykos.com"
         },
         {
          "count": 90,
          "d": 34.166077260971065,
          "domain": "dailykos.com"
         },
         {
          "count": 62,
          "d": 34.67123150348664,
          "domain": "dailykos.com"
         },
         {
          "count": 106,
          "d": 35.1763857460022,
          "domain": "dailykos.com"
         },
         {
          "count": 32,
          "d": 35.68153998851776,
          "domain": "dailykos.com"
         },
         {
          "count": 116,
          "d": 36.18669423103332,
          "domain": "dailykos.com"
         },
         {
          "count": 31,
          "d": 36.69184847354889,
          "domain": "dailykos.com"
         },
         {
          "count": 42,
          "d": 37.19700271606445,
          "domain": "dailykos.com"
         },
         {
          "count": 27,
          "d": 37.70215695858002,
          "domain": "dailykos.com"
         },
         {
          "count": 27,
          "d": 38.20731120109558,
          "domain": "dailykos.com"
         },
         {
          "count": 390,
          "d": 38.712465443611144,
          "domain": "dailykos.com"
         },
         {
          "count": 24,
          "d": 39.21761968612671,
          "domain": "dailykos.com"
         },
         {
          "count": 11,
          "d": 39.72277392864227,
          "domain": "dailykos.com"
         },
         {
          "count": 4,
          "d": 40.227928171157835,
          "domain": "dailykos.com"
         },
         {
          "count": 1,
          "d": 40.7330824136734,
          "domain": "dailykos.com"
         },
         {
          "count": 2,
          "d": 41.23823665618897,
          "domain": "dailykos.com"
         },
         {
          "count": 4,
          "d": 41.743390898704526,
          "domain": "dailykos.com"
         },
         {
          "count": 4,
          "d": 42.24854514122009,
          "domain": "dailykos.com"
         },
         {
          "count": 4,
          "d": 42.75369938373566,
          "domain": "dailykos.com"
         },
         {
          "count": 15,
          "d": 43.25885362625122,
          "domain": "dailykos.com"
         },
         {
          "count": 13,
          "d": 43.76400786876678,
          "domain": "dailykos.com"
         },
         {
          "count": 3,
          "d": 44.26916211128235,
          "domain": "dailykos.com"
         },
         {
          "count": 3,
          "d": 44.774316353797914,
          "domain": "dailykos.com"
         },
         {
          "count": 4,
          "d": 45.27947059631347,
          "domain": "dailykos.com"
         },
         {
          "count": 9,
          "d": 45.78462483882904,
          "domain": "dailykos.com"
         },
         {
          "count": 29,
          "d": 46.289779081344605,
          "domain": "dailykos.com"
         },
         {
          "count": 7,
          "d": 46.79493332386017,
          "domain": "dailykos.com"
         },
         {
          "count": 5,
          "d": 47.30008756637573,
          "domain": "dailykos.com"
         },
         {
          "count": 1,
          "d": 47.805241808891296,
          "domain": "dailykos.com"
         },
         {
          "count": 5,
          "d": 48.31039605140686,
          "domain": "dailykos.com"
         },
         {
          "count": 4,
          "d": 48.81555029392242,
          "domain": "dailykos.com"
         },
         {
          "count": 8,
          "d": 49.32070453643799,
          "domain": "dailykos.com"
         },
         {
          "count": 0,
          "d": 49.82585877895355,
          "domain": "dailykos.com"
         },
         {
          "count": 0,
          "d": 50.33101302146912,
          "domain": "dailykos.com"
         },
         {
          "count": 0,
          "d": 50.83616726398468,
          "domain": "dailykos.com"
         },
         {
          "count": 0,
          "d": 51.34132150650024,
          "domain": "dailykos.com"
         },
         {
          "count": 0,
          "d": 51.84647574901581,
          "domain": "dailykos.com"
         },
         {
          "count": 0,
          "d": 52.35162999153137,
          "domain": "dailykos.com"
         },
         {
          "count": 0,
          "d": 52.856784234046934,
          "domain": "dailykos.com"
         }
        ]
       },
       "layer": [
        {
         "data": {
          "name": "data-aad33ac8ea93d92a2c009eb821e77fab"
         },
         "encoding": {
          "color": {
           "field": "domain",
           "type": "nominal"
          },
          "opacity": {
           "value": 0
          },
          "x": {
           "field": "d",
           "scale": {
            "zero": false
           },
           "type": "quantitative"
          },
          "y": {
           "field": "count",
           "type": "quantitative"
          }
         },
         "height": 500,
         "mark": "circle",
         "selection": {
          "selector010": {
           "empty": "all",
           "fields": [
            "domain"
           ],
           "nearest": true,
           "on": "mouseover",
           "resolve": "global",
           "type": "single"
          }
         },
         "width": 600
        },
        {
         "data": {
          "name": "data-aad33ac8ea93d92a2c009eb821e77fab"
         },
         "encoding": {
          "color": {
           "field": "domain",
           "type": "nominal"
          },
          "size": {
           "condition": {
            "selection": {
             "not": "selector010"
            },
            "value": 2
           },
           "value": 5
          },
          "tooltip": {
           "field": "domain",
           "type": "nominal"
          },
          "x": {
           "field": "d",
           "scale": {
            "zero": false
           },
           "type": "quantitative"
          },
          "y": {
           "field": "count",
           "type": "quantitative"
          }
         },
         "height": 500,
         "mark": "line",
         "width": 700
        }
       ]
      },
      "image/png": "[encoded data removed]",
      "text/plain": [
       "<VegaLite 2 object>\n",
       "\n",
       "If you see this message, it means the renderer has not been properly enabled\n",
       "for the frontend that you are using. For more information, see\n",
       "https://altair-viz.github.io/user_guide/troubleshooting.html\n"
      ]
     },
     "execution_count": 72,
     "metadata": {},
     "output_type": "execute_result"
    }
   ],
   "source": [
    "plot_step_hist_interactive(x, ys)"
   ]
  },
  {
   "cell_type": "code",
   "execution_count": 73,
   "metadata": {},
   "outputs": [
    {
     "data": {
      "image/png": "[encoded data removed]",
      "text/plain": [
       "<Figure size 360x720 with 1 Axes>"
      ]
     },
     "metadata": {
      "needs_background": "light"
     },
     "output_type": "display_data"
    }
   ],
   "source": [
    "plot_ds_violin(ds)"
   ]
  },
  {
   "cell_type": "code",
   "execution_count": null,
   "metadata": {},
   "outputs": [],
   "source": []
  }
 ],
 "metadata": {
  "kernelspec": {
   "display_name": "Python 3",
   "language": "python",
   "name": "python3"
  },
  "language_info": {
   "codemirror_mode": {
    "name": "ipython",
    "version": 3
   },
   "file_extension": ".py",
   "mimetype": "text/x-python",
   "name": "python",
   "nbconvert_exporter": "python",
   "pygments_lexer": "ipython3",
   "version": "3.7.0"
  }
 },
 "nbformat": 4,
 "nbformat_minor": 2
}
