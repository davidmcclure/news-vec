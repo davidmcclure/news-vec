{
 "cells": [
  {
   "cell_type": "code",
   "execution_count": 1,
   "metadata": {},
   "outputs": [],
   "source": [
    "import pandas as pd\n",
    "import numpy as np\n",
    "\n",
    "from itertools import combinations\n",
    "from scipy import stats\n",
    "from collections import Counter\n",
    "\n",
    "from sklearn.linear_model import LogisticRegression\n",
    "from sklearn.svm import LinearSVC\n",
    "from sklearn.feature_extraction.text import TfidfVectorizer\n",
    "from sklearn import metrics\n",
    "from sklearn.feature_selection import chi2\n",
    "\n",
    "from news_vec.corpus import HeadlineDataset\n",
    "from news_vec.encoder import read_preds"
   ]
  },
  {
   "cell_type": "code",
   "execution_count": 2,
   "metadata": {},
   "outputs": [],
   "source": [
    "import matplotlib as mpl\n",
    "import matplotlib.pyplot as plt\n",
    "import altair as alt\n",
    "import seaborn as sns\n",
    "\n",
    "mpl.style.use('seaborn-muted')\n",
    "sns.set(style=\"whitegrid\")"
   ]
  },
  {
   "cell_type": "code",
   "execution_count": 3,
   "metadata": {},
   "outputs": [],
   "source": [
    "ds = HeadlineDataset.load('../../data/ava.p')"
   ]
  },
  {
   "cell_type": "code",
   "execution_count": 4,
   "metadata": {},
   "outputs": [],
   "source": [
    "df = pd.DataFrame([r for r, _ in ds])"
   ]
  },
  {
   "cell_type": "code",
   "execution_count": 5,
   "metadata": {},
   "outputs": [],
   "source": [
    "df['tokens_lower'] = df.tokens.apply(lambda ts: [t.lower() for t in ts])"
   ]
  },
  {
   "cell_type": "code",
   "execution_count": 6,
   "metadata": {},
   "outputs": [],
   "source": [
    "df_train = df[df.split=='train']\n",
    "df_test = df[df.split=='test']"
   ]
  },
  {
   "cell_type": "code",
   "execution_count": 7,
   "metadata": {},
   "outputs": [],
   "source": [
    "tv = TfidfVectorizer(\n",
    "    analyzer='word',\n",
    "    tokenizer=lambda x: x,\n",
    "    preprocessor=lambda x: x,\n",
    "    ngram_range=(1,3),\n",
    "    token_pattern=None,\n",
    ")"
   ]
  },
  {
   "cell_type": "code",
   "execution_count": 8,
   "metadata": {},
   "outputs": [],
   "source": [
    "X_train = tv.fit_transform(df_train.tokens_lower)\n",
    "X_test = tv.transform(df_test.tokens_lower)"
   ]
  },
  {
   "cell_type": "code",
   "execution_count": 9,
   "metadata": {},
   "outputs": [
    {
     "name": "stderr",
     "output_type": "stream",
     "text": [
      "[Parallel(n_jobs=-1)]: Using backend ThreadingBackend with 8 concurrent workers.\n"
     ]
    },
    {
     "name": "stdout",
     "output_type": "stream",
     "text": [
      "convergence after 18 epochs took 27 seconds\n"
     ]
    },
    {
     "name": "stderr",
     "output_type": "stream",
     "text": [
      "[Parallel(n_jobs=-1)]: Done   1 out of   1 | elapsed:   28.3s finished\n"
     ]
    }
   ],
   "source": [
    "clf = LogisticRegression(solver='sag', multi_class='multinomial', verbose=True, n_jobs=-1)\n",
    "fit = clf.fit(X_train, df_train.domain)"
   ]
  },
  {
   "cell_type": "code",
   "execution_count": 10,
   "metadata": {},
   "outputs": [],
   "source": [
    "y_test_pred = fit.predict(X_test)\n",
    "acc = metrics.accuracy_score(df_test.domain, y_test_pred)"
   ]
  },
  {
   "cell_type": "code",
   "execution_count": 11,
   "metadata": {},
   "outputs": [
    {
     "data": {
      "text/plain": [
       "0.5163758152652917"
      ]
     },
     "execution_count": 11,
     "metadata": {},
     "output_type": "execute_result"
    }
   ],
   "source": [
    "acc"
   ]
  },
  {
   "cell_type": "code",
   "execution_count": 12,
   "metadata": {},
   "outputs": [
    {
     "name": "stdout",
     "output_type": "stream",
     "text": [
      "                    precision    recall  f1-score   support\n",
      "\n",
      "        apnews.com       0.47      0.48      0.47      1909\n",
      "     bloomberg.com       0.51      0.58      0.54      1942\n",
      "     breitbart.com       0.77      0.75      0.76      1910\n",
      "      buzzfeed.com       0.57      0.79      0.67      1949\n",
      "           cnn.com       0.69      0.26      0.37      1854\n",
      "   dailycaller.com       1.00      0.86      0.92      1959\n",
      "      dailykos.com       0.47      0.69      0.56      1990\n",
      "       foxnews.com       0.35      0.37      0.36      1822\n",
      "huffingtonpost.com       0.35      0.30      0.32      1802\n",
      "         msnbc.com       0.46      0.57      0.51      1833\n",
      "           npr.org       0.38      0.37      0.37      1874\n",
      "       nytimes.com       0.45      0.34      0.39      1923\n",
      "       thehill.com       0.42      0.56      0.48      1884\n",
      "washingtonpost.com       0.59      0.45      0.51      1835\n",
      "           wsj.com       0.44      0.33      0.37      1879\n",
      "\n",
      "         micro avg       0.52      0.52      0.52     28365\n",
      "         macro avg       0.53      0.51      0.51     28365\n",
      "      weighted avg       0.53      0.52      0.51     28365\n",
      "\n"
     ]
    }
   ],
   "source": [
    "print(metrics.classification_report(df_test.domain, y_test_pred))"
   ]
  },
  {
   "cell_type": "code",
   "execution_count": 13,
   "metadata": {},
   "outputs": [],
   "source": [
    "feature_names = tv.get_feature_names()"
   ]
  },
  {
   "cell_type": "code",
   "execution_count": 14,
   "metadata": {},
   "outputs": [
    {
     "name": "stdout",
     "output_type": "stream",
     "text": [
      "- **cnn.com** - the bell, know before the, : live, before the bell, premarket :, premarket, : live updates, fast facts, trump - cnn, - cnn.com, cnn.com, ? -, ' - cnn, ? - cnn, -, video, cnn, cnn video, - cnn video, - cnn\n",
      "\n",
      "- **dailycaller.com** - ? via dailycaller, - the daily, ' [ video, caller, ' [, the daily caller, daily caller, ' via, ' via dailycaller, video ] via, [ video, video ], [ video ], ] via, ] via dailycaller, ], [, via, dailycaller, via dailycaller\n",
      "\n",
      "- **breitbart.com** - illegal, - ', nolte, illegal aliens, delingpole :, amnesty, delingpole, report :, : ', cartel, |, ', ' |, ' | breitbart, ' -, ' - breitbart, -, | breitbart, - breitbart, breitbart\n",
      "\n",
      "- **dailykos.com** - for night, round up :, night owls, for night owls, open thread for, thread for night, thread for, daily kos elections, kos elections, pundit, thread, cartoon :, abbreviated pundit, open thread, abbreviated, trumpcare, digest :, daily kos, kos, digest\n",
      "\n",
      "- **npr.org** - top stories, top stories :, on mountain, on mountain stage, mountain stage, listen :, first listen :, first listen, npr, on world, cafe, on world cafe, world cafe, listen, now :, listen now, 🔊 listen now, 🔊 listen, 🔊, listen now :\n",
      "\n",
      "- **msnbc.com** - rep., ..., round up ,, 's campaign round, campaign round, campaign round up, report ,, joe :, lawrence, 's mini, 's mini report, mini report ,, mini report, lawrence :, mueller, matthews, matthews :, trump, fmr ., fmr\n",
      "\n",
      "- **bloomberg.com** - start your, bloomberg, know to, to know to, oil, five things you, to start your, know to start, start your day, stocks, billion, markets, wrap, said to,  , : markets, markets wrap, : markets wrap, brexit, u.k.\n",
      "\n",
      "- **nytimes.com** - in nyc this, nyc this, g.o.p., new york today, york today, york today :, california today, california today :, , dies at, , dies, evening briefing, review : ', recipe, opinion | the, briefing, today :, review :, : your, opinion, opinion |\n",
      "\n",
      "- **washingtonpost.com** - review |, opinion | the, | trump 's, | why, opinion | trump, d.c., 202 :, 202, analysis | trump, | trump, analysis | the, | the, ., perspective, opinion, perspective |, opinion |, analysis, |, analysis |\n",
      "\n",
      "- **wsj.com** - download :, the morning download, china, the morning risk, morning risk, morning risk report, risk report :, risk report, fed 's, ecb, opinion journal, opinion journal :, ', eurozone, ' review, ' review :, the morning, investors, fed, u.s.\n",
      "\n",
      "- **buzzfeed.com** - that will, make you, your, we 'll reveal, 'll reveal, 19, you ?, tell you, are you ?, 'll tell you, 'll tell, are you, we 'll tell, which, we 'll, 'll, and we, and we 'll, you, \"\n",
      "\n",
      "- **apnews.com** - 1st, check : trump, us, things to know, for today, apnewsbreak :, apnewsbreak, know for today, ap fact, ap fact check, 10 things, latest : trump, 10 things to, know for, to know for, ap, latest, the latest, the latest :, latest :\n",
      "\n",
      "- **huffingtonpost.com** - via dailycaller, marketing, from women this, tweets from women, 20 funniest tweets, 20 funniest, the 20 funniest, funniest, from parents this, parents this week, parents this, tweets from, tweets from parents, email :, 's morning email, morning email, morning email :, lgbtq, funniest tweets, funniest tweets from\n",
      "\n",
      "- **thehill.com** - dem :, dem senator :, memo :, : trump, ', :, dem lawmaker, gop senator, trump, healthcare, poll, the memo :, senator :, dem senator, gop, poll :, dems, report, dem, : report\n",
      "\n",
      "- **foxnews.com** - eric shawn, , reports say, via, dailycaller, via dailycaller, police, napolitano :, tucker, gingrich, report says, gutfeld :, , report says, gutfeld on, gingrich :, tucker :, , police, police say, , police say, gutfeld, hannity :\n",
      "\n"
     ]
    }
   ],
   "source": [
    "for d in df.domain.unique():\n",
    "    scores, _ = chi2(X_train, df[df.split=='train'].domain == d)\n",
    "    idx = np.argsort(scores)\n",
    "    names = np.array(feature_names)[idx][-20:]\n",
    "    names = ', '.join([n for n in names if '`' not in n])\n",
    "    print(f'- **{d}** - {names}\\n')"
   ]
  },
  {
   "cell_type": "code",
   "execution_count": 34,
   "metadata": {},
   "outputs": [],
   "source": [
    "df['title'] = df.tokens.apply(lambda ts: ' '.join(ts))"
   ]
  },
  {
   "cell_type": "code",
   "execution_count": 75,
   "metadata": {},
   "outputs": [
    {
     "name": "stdout",
     "output_type": "stream",
     "text": [
      "GOP Senator blasts dems for releasing ' sensitive ' EPA documents on Pruitt security\n",
      "Ad in Georgia election ties dems to Scalise shooting\n",
      "THIS is why we sometimes ( grudgingly ) support \" conservadems \"\n"
     ]
    }
   ],
   "source": [
    "for t in df[df.title.str.contains('dems')].head(10).title:\n",
    "    print(t)"
   ]
  },
  {
   "cell_type": "code",
   "execution_count": 41,
   "metadata": {},
   "outputs": [
    {
     "name": "stdout",
     "output_type": "stream",
     "text": [
      "APNewsBreak : Indians removing Chief Wahoo logo from uniforms\n",
      "APNewsBreak : $ 4 M for tiny Wisconsin airport near golf course\n",
      "APNewsBreak : US suspects cellphone spying devices in DC\n",
      "APNewsBreak : White nationalist to drop Ohio State lawsuit\n",
      "APNewsBreak : Border wall models thwart US commandos in tests\n",
      "APNewsBreak : Witness says he lied about casino gang killing\n",
      "APNewsBreak : New governor toured Iowa on casino tycoon 's jet\n",
      "APNewsBreak : Senator who freed Holt urges Venezuela dialogue\n",
      "APNewsBreak : US yanks funds from unbuilt windmill farm\n",
      "APNewsBreak : Kansas mental hospital fails federal review\n"
     ]
    }
   ],
   "source": [
    "for t in df[df.title.str.contains('APNewsBreak')].head(10).title:\n",
    "    print(t)"
   ]
  },
  {
   "cell_type": "code",
   "execution_count": 105,
   "metadata": {},
   "outputs": [
    {
     "name": "stdout",
     "output_type": "stream",
     "text": [
      "washingtonpost.com\n",
      "Perspective | What to do with an ugly symbol of racial violence ? Accession it into the Smithsonian .\n",
      "what to do with an ugly symbol of racial violence accession it into the smithsonian\n",
      "washingtonpost.com\n",
      "Perspective | What Google and Facebook must do about one of their biggest problems\n",
      "what google and facebook must do about one of their biggest problems\n",
      "washingtonpost.com\n",
      "Perspective | Are big poultry companies abusing SBA loans ?\n",
      "are big poultry companies abusing sba loans\n",
      "washingtonpost.com\n",
      "Perspective | Where sweat and blood are not an uncommon occurrence : Calla Kessler on venturing into boxing 's red corner .\n",
      "calla kessler on venturing into boxing s red corner\n",
      "washingtonpost.com\n",
      "Perspective | ' We all have the right to defend freedom ' : Transgender veterans speak out against Trump 's ban\n",
      "we all have the right to defend freedom\n",
      "washingtonpost.com\n",
      "Perspective | Survey says veterans strongly back legalizing medical marijuana\n",
      "survey says veterans strongly back legalizing medical marijuana\n",
      "washingtonpost.com\n",
      "Perspective | Maybe it 's time for the Fed to surprise us\n",
      "maybe it s time for the fed to surprise us\n",
      "washingtonpost.com\n",
      "Perspective | Why is a popular interfaith website giving a disgraced misogynistic pastor a platform ?\n",
      "why is a popular interfaith website giving a disgraced misogynistic pastor a platform\n",
      "washingtonpost.com\n",
      "Perspective | Why I 'd rather my son did n't wave the Israeli flag for Independence Day\n",
      "why i d rather my son did nt wave the israeli flag for independence day\n",
      "washingtonpost.com\n",
      "Perspective | Mistreating refugee children is , sadly , all too American\n",
      "mistreating refugee children is sadly all too american\n"
     ]
    }
   ],
   "source": [
    "for r in df[df.title.str.contains('Perspective')].head(10).itertuples():\n",
    "    print('\\n'.join([r.domain, r.title, ' '.join(r.clf_tokens)]))"
   ]
  },
  {
   "cell_type": "code",
   "execution_count": 102,
   "metadata": {},
   "outputs": [
    {
     "name": "stdout",
     "output_type": "stream",
     "text": [
      "thehill.com Cuomo leads Nixon 2 to 1 in first poll of likely NY Dem primary voters\n",
      "dailykos.com Dem Senators OFFICIALLY introduce bill to fix the single most obvious problem w / the ACA\n",
      "apnews.com Trump opposition inspires Dem focus on statehouse wins\n",
      "dailycaller.com Conyers Accusers Not To Be Believed Because They 're ' All White Women , ' According To Dem Congressman Via dailycaller\n",
      "thehill.com Dem House candidate in West Virginia voted for Trump\n",
      "dailycaller.com White House Reporters Correct Erroneous Report About Trump , John Kelly And Dem FISA Memo Via dailycaller\n",
      "foxnews.com Trump plays hardball in tax reform kickoff , singles out Dem senator\n",
      "thehill.com Top Senate Homeland Security Dem calls for select committee to investigate Russia influence in U.S. politics\n",
      "thehill.com The Memo : Trump tries to deepen Dem divisions\n",
      "foxnews.com Kavanaugh avoids Dem traps as chaotic hearing winds down , confirmation vote looms\n",
      "dailycaller.com Dem PAC Encouraging Leftists To ' Take Out ' Scalise … For Donations Via dailycaller\n",
      "thehill.com Dem lawmaker to lead vigil in New York park following anti immigrant rally\n",
      "thehill.com New Dem message does n't mention Trump\n",
      "dailycaller.com Dem Party Platform Calls For Prosecuting Global Warming Skeptics Via dailycaller\n",
      "thehill.com GOP sees omens of a Dem wave in Wisconsin\n",
      "thehill.com Dem senator ties Kavanaugh confirmation vote to Trump Putin controversy\n",
      "thehill.com House Dem calls for bipartisan talks to fund children 's health care\n",
      "msnbc.com Leading Dem says more info on Russia scandal is on the way\n",
      "foxnews.com Tucker Debates Dem Lawmaker Who Launched Webpage on Trump 's Russia Ties\n",
      "thehill.com Sanders : Dem platform for last 15 years has been a ' failure '\n",
      "msnbc.com Pennsylvania special election race tightens as Dem enthusiasm grows\n",
      "thehill.com Trump attacks ' wacky ' Dem congresswoman after phone call with soldier 's family\n",
      "foxnews.com Maryland state Dem 's ' Jared Kushner Act ' would stop some arrests for failing to pay rent\n",
      "thehill.com Colorado Dem to oppose Gorsuch filibuster\n",
      "foxnews.com Rosenstein knew Comey would be ' removed ' before writing memo , Dem senator says\n",
      "msnbc.com Dem Rep found out intel meetings cancelled through ' media ...\n",
      "dailykos.com DEM Women are dragging Tom Perez and Bernie Sanders on Twitter and I just had to share .\n",
      "thehill.com Dem senator slams Trump 's ' moral authority ' after ' Pocahontas ' remark\n",
      "thehill.com House Dem pitches mandatory sexual harassment training for government contractors\n",
      "msnbc.com I do n't think this changes much , Dem . rep . says about strike\n"
     ]
    }
   ],
   "source": [
    "for r in df[df.clf_tokens.apply(lambda ts: 'dem' in ts)].head(30).itertuples():\n",
    "    print(r.domain, r.title)"
   ]
  },
  {
   "cell_type": "code",
   "execution_count": 74,
   "metadata": {},
   "outputs": [
    {
     "name": "stdout",
     "output_type": "stream",
     "text": [
      "Pope Francis : Keep ' status quo ' in Jerusalem to avoid conflict\n",
      "As North Korea threat looms , US Navy tests ballistic missile shootdown capability\n",
      "' National disgrace ' : Community fights back as California overrun by homelessness , human waste , needles\n",
      "Maxine Waters supporters burn American flag outside California rep 's office\n",
      "The world 's most expensive taco is ridiculously expensive\n",
      "Federal funding for Public Broadcasting faces elimination under Trump 's budget\n",
      "Toddler suffers second degree burns from pacifier clip , mom claims\n",
      "Florida inmate held on child porn charges allegedly tried to hire ' Rabbi ' to kill judge\n",
      "WWII Army veteran honors wife 's memory by giving away flowers at retirement home\n",
      "Letter opened at Virginia 's Joint Base Myer Henderson Hall triggers hazmat situation ; 11 fall ill\n",
      "Ocasio Cortez : The Upper Middle Class ' Does n't Exist Anymore in America '\n",
      "' They Should Be Walking With Blindfolds ' : Schumer Blasts GOP for ' TrumpCare II ' Bill\n",
      "Ford Mustang found in Mexican junkyard is from ' Bullitt , ' expert confirms\n",
      "DC lawmaker accused of anti Semitism reportedly gave constituent funds to Louis Farrakhan event\n",
      "CNN 's Anderson Cooper ignores Eric Schneiderman scandal during Preet Bharara interview\n",
      "Chicago police chief fired by Rahm Emanuel gearing up to challenge him for mayor\n",
      "MH370 captain was attempting suicide , aviation experts say\n",
      "Pakistani sentenced to prison in Germany for spying for Iran\n",
      "Trump 's Mar a - Lago doubles initiation fee to $ 200 K\n",
      "Benghazi victims ' relatives outraged over Khatalla verdict\n",
      "Here are ten ways to pray for our high school graduates\n",
      "The Latest : ACLU : Did Arkansas torture death row inmate ?\n",
      "Jesse Watters : Hillary 's the George Costanza of Politics\n",
      "MS 13 cohorts plead guilty in vicious revenge killing of teenage girl in Virginia\n",
      "School makes at least 75 students take blood and urine tests over 1 empty beer can\n",
      "Bad News for the Trump Russia Tinfoil hat Brigade\n",
      "Police say remains are ' consistent ' with missing Iowa boy\n",
      "Health care drama exposes divisions among GOP\n",
      "Clapper : I am not aware of abuse of the unmasking process\n",
      "Candace Owens on left 's attempts to silence conservatives\n",
      "Rand Paul attack : Neighbors now casting doubt on ' landscaping dispute ' story\n",
      "American company strives to make the best body armor\n",
      "Officers killed in the line of duty in 2018\n",
      "Pakistani airline investigates ' extra passengers ' flown on fully booked plane\n",
      "Obama ambassador 's testimony on intelligence unmasking raises new questions\n",
      "National Breast Cancer Awareness Month : Key terms you should know\n",
      "' Lost ' asteroid the size of the Statue of Liberty to buzz by Earth Tuesday\n",
      "Police officer creates portraits of officers killed in the line of duty\n",
      "Dallas Mavericks owner Mark Cuban fined $ 600 G for tanking comments\n",
      "Live blog : Spicer talks ObamaCare , Flynn in briefing\n",
      "This underwear might protect your junk from cellphones\n",
      "2 Detroit Tigers stars become US citizens during ballpark ceremony\n",
      "NY Professor : Trump Jr. Meeting Involved ' Malpractice ' By Paul Manafort\n",
      "Calls grow for Seattle mayor to resign after sexual abuse report\n",
      "Gun themed campaign ads fill airwaves as 2nd Amendment debate heats up\n",
      "Volunteer Santa Claus busted for crack pipe after traffic stop , cops say\n",
      "Day of rage after Trump 's Jerusalem announcement\n",
      "Plane ends up nose first in Tennessee River after pilot overshoots runway\n",
      "Houthi rebels ' rocket attack on Saudi Arabia kills 1 as Yemen war hits year three\n",
      "Senate confirmation fights ahead on Trump 's State , CIA picks\n",
      "FBI agent Strzok co wrote initial draft of Comey letter reopening Clinton email probe , CNN reports\n",
      "Memphis police officer stabbed while making arrest\n",
      "Orlando police officer offers stray dog a ' forever home ' if no one claims him\n",
      "TONIGHT , 6 pm ET : VP Pence Talks ObamaCare , Russia & More With Bret Baier\n",
      "Feds studying adding warning labels to soda\n",
      "Kremlin says Putin Trump meeting in the works\n",
      "School lessons on the Alamo should cut ' heroic ' description , Texas panel advises\n",
      "Clinton 's Failed Campaign Team Reportedly Blames Obama For Election Loss\n",
      "Christian ministry sues watchdog group over hate label\n",
      "Michigan Home Depot employees build mailbox for autistic boy : ' It was perfect '\n",
      "WH Economic Adviser Cohn : ' No Alternative but to Reinvest in Our Military '\n",
      "DOJ to appeal San Fran DACA ruling , will ask Supreme Court to end program\n",
      "Can music really change a kid 's life ? Three amazing stories that say ' yes ' it can\n",
      "Social media live videos a disturbing new platform for public suicides\n",
      "Meghan Markle and Prince Harry mimic first public appearance at the 2018 Invictus Game trials\n",
      "Army accelerates new future Vertical Lift helicopter for 2030s\n",
      "Hamas backers spend fortunes on rockets and tunnels while Gazans live in misery\n",
      "Iran fires another missile from launch pad , US official says\n",
      "Missing Illinois girl , 1 , found dead in ' squatter ' home\n",
      "China reasserting control of North Korean negotiations ?\n",
      "Afghan official says bomber who hit NATO wore woman 's burqa\n",
      "Outrage over sanctuary cities heats up\n",
      "Live blog : Spicer addresses ObamaCare replacement in press briefing\n",
      "Google plans to track credit card spending\n",
      "CNN 's April Ryan misquotes Sarah Sanders to imply she wanted physical fight : ' It was street '\n",
      "' Walking Dead ' stuntman death : John Bernecker tried to grab onto railing\n",
      "Outrage after California HS magazine cartoons depict Trump as Nazi , police as KKK members : report\n",
      "NBC News slammed in new exposé as ' boys ' club ' that knew about Matt Lauer allegations\n",
      "Watters Heads to Liberal Columbia to Talk Post Election Life On Campus\n",
      "Young Sheldon Episode 6 recap : Sheldon discovers physics\n",
      "West Virginia 's Democratic governor announces switch to Republican party\n",
      "FOX NEWS FIRST : Anti Trump FBI agent 's hearing gets heated and personal ; Dems bluffing on abolishing ICE ?\n",
      "McDonald 's manager reportedly attacked over nuggets order\n",
      "Cutting edge leukemia treatment saves girl 's life\n",
      "US fighter pilot approaching USS Carl Vinson ejects\n",
      "Haiti orphanage braces as Irma lashes Caribbean\n",
      "Roseanne says she thanked Trump during phone call for moving US Embassy in Israel to Jerusalem\n",
      "After Las Vegas shooting , Lance Bass slams Red Cross over gay blood donor ban\n",
      "DELIBERATE BUT ' NOT TERROR ' : 3 dead , at least 20 injured after car plows into crowd in Melbourne\n",
      "Leah Remini 's show advertisers targeted by Scientologists\n",
      "Illegal alien accused of murdering teen girl was in DACA program\n",
      "The unhinged anti Kavanaugh left gears up to attack a Christian family man who feeds the homeless\n",
      "Hyperloop One just completed its testing tube\n",
      "Carolinas on the Final Four 's Mind\n",
      "Cancer survivor , 5 , killed by runaway car on eve of anniversary of finishing chemotherapy\n",
      "Sean Hannity : America faces a turning point as anti Trump forces attempt coup\n",
      "EasyJet reroutes Thessaloniki flights due to runway works\n",
      "Arizona election officials report problems with voting machines\n",
      "Cities sue Defense Dept . over gun check system failures\n",
      "Feinstein snub underscores California Democratic Party 's hard shift to left\n",
      "Watters Calls Out Booker Over ' I Am Spartacus ' Moment : ' I Think I Smell a Phony '\n",
      "Eric Shawn reports : Iraq and Saudi Arabia ... now buddies ?\n",
      "Anti Sharia rallies this weekend worry Muslim leaders\n",
      "McMaster : Trump better without Bannon , others who pushed their ' own narrow agenda '\n",
      "Tampa Bay police arrest possible serial killer in Seminole Heights\n",
      "Senate to vote on Trump 's pick for Air Force secretary\n",
      "7 dead in US military helicopter crash near Iraq border , officials say\n",
      "Can Democrats really use Chris Collins ' indictment to tar Trump and GOP ?\n",
      "Airline installs body cameras on ground crews in UK and France\n",
      "2 officers in black man 's fatal shooting wo n't be charged\n",
      "Deadly shooting at food distribution center in Texas , police say\n",
      "Schlapp on Scaramucci Firing : WH Work ' Not About You , It 's About the American People '\n",
      "Traffic camera in New Orleans giving speeding tickets to parked cars\n",
      "Judge Jeanine previews her sit down with Pres . Trump\n",
      "Hawaii volcano prompts new warning -- heed evacuation order or face arrest\n",
      "Trump border plan could prompt gov't shutdown , Democrat Durbin warns\n",
      "White Michigan officer who said he suffered discrimination after learning he 's part black settles lawsuit\n",
      "Miami day care closes after 2 suspected meningitis deaths\n",
      "Navy suspends search for 3 sailors missing after plane crash\n",
      "Ford is working on a teeny tiny pickup truck , report says\n",
      "Lesson for sanctuary cities ? Miami Dade cooperates with feds , gets OK for grant $ $\n",
      "One off Ferrari Daytona barn find worth nearly $ 2 million\n",
      "Southern Poverty Law Center , under fire from conservatives , is branching out to college campuses\n",
      "McCaskill campaign hit with report on husband 's federal subsidy windfall\n",
      "Plot Thickens in Probe of House IT Contractors\n",
      "' Fixer Upper 's ' Chip Gaines fires back at lawsuit\n",
      "Alan Dershowitz on White House dinner , Cohen raid\n",
      "Tomi Lahren on Hollywood hypocrisy exposed\n",
      "United faces legal action from owners of giant rabbit that died after flight\n",
      "Kim vs. Trump : North Korea 's leaders have never kept their word on nukes . Here 's what the US should do now\n",
      "Raven Symone says she still keeps in touch with her former ' View ' co stars : ' It 's bittersweet '\n",
      "Lawyer for Wasserman Schultz ' ex IT aide : Fraud count might be ' placeholder ' for more charges\n",
      "Texas doctor warns ' super strain ' of pink eye on rise in part of state\n",
      "Iraq declares victory in war against ISIS\n",
      "IRS boss Koskinen backs tax reform , calls system ' a mess '\n",
      "US Navy dismisses 7th Fleet commander after deadly mishaps\n",
      "Body builder with cerebral palsy hailed an inspiration as video of him flexing goes viral\n",
      "Bozell : Media 's War with Trump Is Dangerous\n",
      "Hillary Clinton 's ' Fire and Fury ' reading on Grammys slammed by Nikki Haley , Donald Trump , Jr.\n",
      "Jason Riley : I used to sit for the National Anthem too\n",
      "Trump plays hardball in tax reform kickoff , singles out Dem senator\n",
      "Rep. DeSantis wants report on surveillance abuse made public\n",
      "Tucker : Our ruling class believes in collective punishment\n",
      "Taliban car bomb targets Afghan army base , wounding 15\n",
      "Veterans help sustain life through farming\n",
      "NAFTA : The hard work to modernize the agreement begins now\n",
      "Will Nikki Haley be America 's first female president ?\n",
      "NATO pledges to boost defense spending after stern words from Trump\n",
      "Vince Gill performs emotional rendition of sexual assault song ' Forever Changed '\n",
      "UCLA Basketball Star 's Father Laments NCAA Loss : ' You Ca n't Win No Championship With Three White Guys '\n",
      "Spicer : Senate Dems Boycotting Committee Hearings ' Truly Outrageous '\n",
      "Who is Jack Johnson and why would Trump pardon him ?\n",
      "Dad who ca n't afford Disney World for daughter simulates roller coaster\n",
      "Sofia Vergara defends ' Modern Family ' character : ' What 's wrong with being a stereotype ? '\n",
      "On day to ' march for our lives , ' rival rallies and competing views\n",
      "Maryland Dems follow NY , Illinois in efforts to limit youth tackle football\n",
      "Biggs : Dems fixated on trying to paint Sessions as a liar\n",
      "Midwest rivers receding after heavy rains , but Mississippi River still a threat\n",
      "Trustees warn Medicare finances worsening\n",
      "Maria Butina , accused Russian spy , ordered to stay in jail after feds backtrack on sex for access claim\n",
      "FBI , DOJ to brief lawmakers on handling of Russia probe on Thursday\n",
      "Singer Joy Villa wears Trump dress to the Grammys\n",
      "Romania 's ruling party discusses graft probe of 2 ministers\n",
      "Almost $ 4 million raised for London fire victims\n",
      "John Kerry raised some eyebrows after comparing Trump to an ' insecure teenage girl '\n",
      "Kanye West goes on wild Twitter rant , praises Trump and abruptly fires Scooter Braun\n",
      "Patton Oswalt announces engagement\n",
      "Gen. Flynn : Trump Tells the ' Ugly Truth ' About the Direction of the Country\n",
      "ICE Director Homan : Migrant Caravan Is an ' Attack on the Sovereignty of This Nation '\n",
      "Celebrities slam Kanye West 's Trump tweets , reportedly unfollow rapper\n",
      "Margaritaville opening $ 300 million resort in New York City 's Times Square\n",
      "Spicer : Congress needs to fix broken immigration system\n",
      "How to make American cheese at home\n",
      "Hamas names mastermind of attacks on Israelis as deputy\n",
      "Federal judge again throws out Texas voter ID law\n",
      "Marine vet , girlfriend found dead in Belize were strangled , police say\n",
      "FBI boss says Rob Porter background check ' completed ' last year , despite White House claims\n",
      "Kanye West and Chance The Rapper push ' free thought '\n",
      "Trump : South Korea to make ' major statement ' on North Korea at 7 pm ET\n",
      "US college grad disappears in Peru while on backpacking trip , no contact since Sept. 28\n",
      "Det . Mark Fuhrman : ' Fix Was In ' for Parole of ' Classic Sociopath ' O.J.\n",
      "Kavanaugh avoids Dem traps as chaotic hearing winds down , confirmation vote looms\n",
      "Media Freakout As Trump Yanks Brennan Clearance\n",
      "Man suffers burns after trying to set himself on fire outside Trump Hotel\n",
      "Thousands of flying foxes are ' boiled alive , ' freaking people out as they fall from the sky\n",
      "Protest held outside JFK airport after Iraqi men detained\n",
      "Fox News Poll : More Republicans feeling the jitters\n",
      "Facebook 's Sandberg meets with lawmakers amid Russia probe\n",
      "Clinton pollster blasts Mueller probe , says ' must now be stopped '\n",
      "NBC 's Hollywood screenwriter news president accused of ' ethics violations ' for spiking Harvey Weinstein sex exposé\n",
      "ESPN analyst Ed Cunningham left network over player safety\n",
      "Libertarian : I was banned for life from Twitter\n",
      "Officers killed in the line of duty in 2018\n",
      "Hurricane Irma apps that can track the storm\n",
      "Gutfeld on media 's fawning coverage of Kim Jong Un 's sister\n",
      "Fox News Poll : Voters ' mood sours , 56 percent say Trump tearing country apart\n",
      "Kremlin says Navalny 's call for protest will be investigated\n",
      "Country Music Singer Lee Brice On Helping Battered Women\n",
      "Russian navy operating at pace not seen since Cold War\n",
      "Police track leads in search for Wisconsin gun theft suspect\n"
     ]
    }
   ],
   "source": [
    "for t in df[df.domain=='foxnews.com'].head(200).title:\n",
    "    print(t)"
   ]
  },
  {
   "cell_type": "code",
   "execution_count": null,
   "metadata": {},
   "outputs": [],
   "source": []
  }
 ],
 "metadata": {
  "kernelspec": {
   "display_name": "Python 3",
   "language": "python",
   "name": "python3"
  },
  "language_info": {
   "codemirror_mode": {
    "name": "ipython",
    "version": 3
   },
   "file_extension": ".py",
   "mimetype": "text/x-python",
   "name": "python",
   "nbconvert_exporter": "python",
   "pygments_lexer": "ipython3",
   "version": "3.7.0"
  }
 },
 "nbformat": 4,
 "nbformat_minor": 2
}
