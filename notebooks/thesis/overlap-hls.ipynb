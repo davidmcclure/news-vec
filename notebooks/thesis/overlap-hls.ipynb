{
 "cells": [
  {
   "cell_type": "code",
   "execution_count": 1,
   "metadata": {},
   "outputs": [],
   "source": [
    "import numpy as np\n",
    "import torch\n",
    "\n",
    "from torch.nn import functional as F\n",
    "\n",
    "from news_vec.encoder import read_preds"
   ]
  },
  {
   "cell_type": "code",
   "execution_count": 2,
   "metadata": {},
   "outputs": [],
   "source": [
    "import matplotlib as mpl\n",
    "import matplotlib.pyplot as plt\n",
    "import altair as alt\n",
    "import seaborn as sns\n",
    "\n",
    "mpl.style.use('seaborn-muted')\n",
    "sns.set(style=\"whitegrid\")"
   ]
  },
  {
   "cell_type": "code",
   "execution_count": 7,
   "metadata": {},
   "outputs": [
    {
     "name": "stderr",
     "output_type": "stream",
     "text": [
      "100%|██████████| 284/284 [00:15<00:00, 18.83it/s]\n"
     ]
    }
   ],
   "source": [
    "df, embeds = read_preds('../../data/ava-cnn/')"
   ]
  },
  {
   "cell_type": "code",
   "execution_count": 8,
   "metadata": {},
   "outputs": [],
   "source": [
    "def close_pairs(d1, d2, n_samples=1000000, n_pairs=20, plot=False):\n",
    "    \n",
    "    df1 = df[df.domain==d1]\n",
    "    df2 = df[df.domain==d2]\n",
    "    \n",
    "    d1_embeds = embeds[df1.index]\n",
    "    d2_embeds = embeds[df2.index]\n",
    "    \n",
    "    idx1 = np.random.choice(range(len(d1_embeds)), n_samples)\n",
    "    idx2 = np.random.choice(range(len(d2_embeds)), n_samples)\n",
    "\n",
    "    x1 = torch.from_numpy(d1_embeds[idx1])\n",
    "    x2 = torch.from_numpy(d2_embeds[idx2])\n",
    "\n",
    "    ds = F.cosine_similarity(x1, x2)\n",
    "    ds = -(ds.numpy() - 1)\n",
    "    \n",
    "    if plot:\n",
    "        sns.distplot(ds)\n",
    "        plt.show()\n",
    "    \n",
    "    close_idxs = np.argsort(ds)[:n_pairs]\n",
    "    \n",
    "    for i1, i2 in zip(idx1[close_idxs], idx2[close_idxs]):\n",
    "        line1 = ' '.join(df1.iloc[i1].clf_tokens)\n",
    "        line2 = ' '.join(df2.iloc[i2].clf_tokens)\n",
    "        print(f'{line1}\\n{line2}\\n')"
   ]
  },
  {
   "cell_type": "code",
   "execution_count": 9,
   "metadata": {},
   "outputs": [
    {
     "name": "stdout",
     "output_type": "stream",
     "text": [
      "a look at dem governor candidates claims\n",
      "disturbing to see dems play politics with fbi pick\n",
      "\n",
      "egypt raises death toll in mosque attack to #\n",
      "portugal death toll from tree rises to #\n",
      "\n",
      "wisconsin retiree charged in shooting of amtrak conductor\n",
      "indiana father charged with neglect in sons drownings\n",
      "\n",
      "visit to wh grounds by intel chairman clouds investigation\n",
      "spicer on gop health care holdouts future of wh briefings\n",
      "\n",
      "indonesia court rules against luxury yacht seizure\n",
      "indonesia seizes fishing boat with alleged slave workers\n",
      "\n",
      "pilot co pilot dead in plane crash\n",
      "boeing # party plane ready for weddings\n",
      "\n",
      "oosthuizen leads in mexico as pair of newcomers shine\n",
      "convoy seen in beijing arriving at train station\n",
      "\n",
      "us hits iran with more sanctions in response to space launch\n",
      "us extends iran nuke sanctions relief adds other sanctions\n",
      "\n",
      "speeding jeep kills # schoolchildren in eastern india\n",
      "train hits school bus at india crossing killing # children\n",
      "\n",
      "neymar leaves brazil training session limping\n",
      "catalan crisis looms large at spanish prize giving event\n",
      "\n",
      "man in drunk lives matter shirt charged with drunken driving\n",
      "woman faces sentencing in killing of neighbor theft of baby\n",
      "\n",
      "un security council expected to discuss nkorea\n",
      "suspected airport gunman became increasingly erratic\n",
      "\n",
      "federal financial aid official resigns before house hearing\n",
      "multiple challenges remain to fukushima nuclear cleanup\n",
      "\n",
      "publicist set up trump jr lawyer meeting\n",
      "trump jr defends russia lawyer meeting in sarcastic tweet\n",
      "\n",
      "trump on charm offensive with former rivals\n",
      "mccain successor speculation mounts amid partisan divide\n",
      "\n",
      "former roma coach spalletti to take over at inter\n",
      "panthers look to hand blues first loss of season\n",
      "\n",
      "saudi arabia says it will reopen yemen airports seaports\n",
      "south african court opens way to local trade in rhino horn\n",
      "\n",
      "ancient burial site found submerged off florida\n",
      "child killed in jeep flip at tennessee off road park\n",
      "\n",
      "with no messi # k see argentina colombia draw at metlife\n",
      "croatia rally past england to reach world cup final\n",
      "\n",
      "taiwan leader protect regional stability amid china tension\n",
      "venezuela opposition seeks removal of supreme court judges\n",
      "\n"
     ]
    }
   ],
   "source": [
    "close_pairs('apnews.com', 'foxnews.com')"
   ]
  },
  {
   "cell_type": "code",
   "execution_count": null,
   "metadata": {},
   "outputs": [],
   "source": []
  }
 ],
 "metadata": {
  "kernelspec": {
   "display_name": "Python 3",
   "language": "python",
   "name": "python3"
  },
  "language_info": {
   "codemirror_mode": {
    "name": "ipython",
    "version": 3
   },
   "file_extension": ".py",
   "mimetype": "text/x-python",
   "name": "python",
   "nbconvert_exporter": "python",
   "pygments_lexer": "ipython3",
   "version": "3.7.0"
  }
 },
 "nbformat": 4,
 "nbformat_minor": 2
}
