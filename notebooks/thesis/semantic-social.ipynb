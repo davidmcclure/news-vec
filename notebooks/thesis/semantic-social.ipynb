{
 "cells": [
  {
   "cell_type": "markdown",
   "metadata": {},
   "source": [
    "So the model, in a sense, models a set of graph proximities among outlets - tells us which pairs of outlets produce headlines that look similar, which produce headlines that look different, and it makes it possible to \"score\" these proximities in a very precise and continuous way.\n",
    "\n",
    "The interesting thing about looking at just the headlines in isolation is that they allow us to model the relative similarities among outlets purely at the level of the actual content that's being produced (as instantiated in headlines) - a sort of sealed linguistic graph of media sources. But, alongside this linguistic graph, we can also imagine news outlets to be linked together in a kind of \"social\" or \"audience\" graph, a function of the degree to which two outlets are read / watched / engaged with by the same cohort of people.\n",
    "\n",
    "\"Audience\" could be modeled in a number of ways - the set of people who follow the official Twitter account for an outlet; the set of people who read an article or watcher a broadcast from an outlet in the last week; the set of people who pay for a subscription to an outlet; etc. But, however we define audience, the point is that the audiences for any two outlets will always overlap to a greater or lesser degree - and this level of overlap will vary for different pairs of outlets.\n",
    "\n",
    "For example, using the Twitter social graph as a representation of audience - XX people follow @breitbart, XX follow @dailycaller. Of the Breitbart followers, XX also follow @dailycaller; and, of the Daily Caller followers, XX also follow @breitbart - a very high level of overlap. A simple way to formalize this overlap between the two audiences is just to take the Jaccard similarity between the two cohorts of users, the ratio of the set intersection and union: XX. By comparison, if we compare the followers of the @breitbart account to the followers of, say, @npr, the Jaccard similarity is just XX - very few users follow both Breitbart and NPR. In the same way that we can model linguistic similarity between headlines produced by two outlets, we can also score the degree to which the audiences are similar or different.\n",
    "\n",
    "So, two types of \"proximity\" - proximity of language/content/style, and proximity of audience. These two \n",
    "\n",
    "the audiences of any two outlets will overlap to a greater or lesser degree; and this level of overlap will vary for different pairs of outlets.\n",
    "\n",
    "And in fact, in this case, because of how the corpus of headlines was collected, we can think of this \"social graph\" of outlets as sitting below or behind the corpus of headlines. We're using activity on Twitter as a kind of organic, hands-off mechanism for gathering the linguistic footprint of each media source, the articles that are shared on Twitter over some threshold of impressions. But this sharing activity, of course, represents a "
   ]
  },
  {
   "cell_type": "code",
   "execution_count": null,
   "metadata": {},
   "outputs": [],
   "source": []
  }
 ],
 "metadata": {
  "kernelspec": {
   "display_name": "Python 3",
   "language": "python",
   "name": "python3"
  },
  "language_info": {
   "codemirror_mode": {
    "name": "ipython",
    "version": 3
   },
   "file_extension": ".py",
   "mimetype": "text/x-python",
   "name": "python",
   "nbconvert_exporter": "python",
   "pygments_lexer": "ipython3",
   "version": "3.7.0"
  }
 },
 "nbformat": 4,
 "nbformat_minor": 2
}
