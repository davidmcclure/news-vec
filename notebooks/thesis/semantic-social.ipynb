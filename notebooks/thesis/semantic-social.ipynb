{
 "cells": [
  {
   "cell_type": "markdown",
   "metadata": {},
   "source": [
    "# Language proximity, audience proximity"
   ]
  },
  {
   "cell_type": "markdown",
   "metadata": {},
   "source": [
    "So the model, in a sense, models a set of graph proximities among outlets - tells us which pairs of outlets produce headlines that look similar, which produce headlines that look different, and it makes it possible to \"score\" these proximities in a very precise and continuous way.\n",
    "\n",
    "The interesting thing about looking at just the headlines in isolation is that they allow us to model the relative similarities among outlets purely at the level of the actual content that's being produced (as instantiated in headlines) - a sort of sealed linguistic graph of media sources. But, alongside this linguistic graph, we can also imagine news outlets to be linked together in a kind of \"social\" or \"audience\" graph, a function of the degree to which two outlets are read / watched / engaged with by the same cohort of people.\n",
    "\n",
    "\"Audience\" could be modeled in a number of ways - the set of people who follow the official Twitter account for an outlet; the set of people who read an article or watcher a broadcast from an outlet in the last week; the set of people who pay for a subscription to an outlet; etc. But, however we define audience, the point is that the audiences for any two outlets will always overlap to a greater or lesser degree - and this level of overlap will vary for different pairs of outlets.\n",
    "\n",
    "For example, using the Twitter social graph as a representation of audience - XX people follow @breitbart, XX follow @dailycaller. Of the Breitbart followers, XX also follow @dailycaller; and, of the Daily Caller followers, XX also follow @breitbart - a very high level of overlap. A simple way to formalize this overlap between the two audiences is just to take the Jaccard similarity between the two cohorts of users, the ratio of the set intersection and union: XX. By comparison, if we compare the followers of the @breitbart account to the followers of, say, @npr, the Jaccard similarity is just XX - very few users follow both Breitbart and NPR. In the same way that we can model linguistic similarity between headlines produced by two outlets, we can also score the degree to which the audiences are similar or different.\n",
    "\n",
    "So, two types of \"proximity\" - proximity of language/content/style, and proximity of audience. Of course, we'd expect these two modes of similarity to be closely related in various (and complex) ways. In the simplest sense - almost all of the outlets under consideration (with the exception of RT, Sputniknews, and NPR, which revieve direct government support) are commercial entities that have a profit motive (or at minimum, just a financial imperative) to produce content that will \"succeed\" with the outlet's audience, at least enough to pay the bills. Of course, profit motive isn't the whole story - we can assume that news organizations and individual journalists are driven by some complex function of commercial incentives, journalistic values, civic / political / ideological goals, and simple personal interest, and that these vary considerably from outlet to outlet. But, whatever these goals, the question of what's being covered and how it's being covered - proxied here by the headlines - is always wound up, at least to some extent, with an *audience*. Articles aren't just cooked up in the abstract and fired off into the ether - they're produced in the context of some real (or intended) readership, viewership, listenership. If we follow Dor in thinking of headlines as \"relevance\" optimizers, then this notion of relevance of course entails a set of assumptions (if only implicit) about who is consuming the content, or who might be interested in the content. Different types of content, and different framings of the same content, will be more and less relevant to different audiences; and so any specific piece of content, encoding a set of editorial and stylistic decisions - a headline, a sentence, a whole article - will optimize relevance for some audiences at the expense of others. Content and audience, then, exist in a kind of circular, push-and-pull relationship - different types of content presumably attract different audiences. Articles critical of Robert Mueller, for intance, might attract a conservative audience. But also, in the other direction, the existence of a particular type of audience can surely also exert a reciprocal pressure on the coverage itself - if the NYT learns that thousands of its readers, at any given moment, are interested in buying apartments in New York, then the NYT becomes incentivized to write about the NY real estate market. Content shapes audience, and audience shapes content.\n",
    "\n",
    "We might expect, then, for there to be a correlation between similarity of *content* and a similarity of *audience*. And in some cases, this is clearly the case. For example, this seems to hold for Breitbart, Daily Caller, and NPR - Breitbart and Daily Caller have highly overlapping audiences, and, as we saw before, they produce headlines that are similar, in the sense operationalized by the classifier - the model has a comparatively hard time telling them apart. And, likewise, Breitbart and NPR have very low overlap in audience, and highly differentiable headlines - audience similarity is low, and content similarity is also low. So, at a conceptual level, if we represent the accuracy of the headline classifier as a three-node graph, where a short edge represents a high level of similarity and a long edge is low similarity, we might have something like:\n",
    "\n",
    "XXX\n",
    "\n",
    "And, the corresponding audience graph, based on the Jaccard similarities over the account followers:\n",
    "\n",
    "XXX\n",
    "\n",
    "Which looks very similar - content and audience are closely correlated. But how true is this generally? What we have, by way of the headline classifier and the Twitter social graph, is essentially a way to model both of these graphs - content and audience - in a fairly consistent and highly-sampled way. If we model the complete content and audience graphs for the full set of 15 outlets from before - how strong, and how consistent is this correlation? Does it always hold, or - maybe most interesting - are there places where it breaks down, where there is a mismatch between proximity of content and audience? That is - are there groups of outlets that produce similar headlines, but have very different audiences; or, vice versa, outlets that have very similar audiences, but produce very different headlines?\n",
    "\n",
    "How similar are the content and audience graphs? And if they diverge - why?"
   ]
  },
  {
   "cell_type": "code",
   "execution_count": null,
   "metadata": {},
   "outputs": [],
   "source": []
  }
 ],
 "metadata": {
  "kernelspec": {
   "display_name": "Python 3",
   "language": "python",
   "name": "python3"
  },
  "language_info": {
   "codemirror_mode": {
    "name": "ipython",
    "version": 3
   },
   "file_extension": ".py",
   "mimetype": "text/x-python",
   "name": "python",
   "nbconvert_exporter": "python",
   "pygments_lexer": "ipython3",
   "version": "3.7.0"
  }
 },
 "nbformat": 4,
 "nbformat_minor": 2
}
