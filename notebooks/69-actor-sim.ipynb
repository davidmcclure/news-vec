{
 "cells": [
  {
   "cell_type": "code",
   "execution_count": 38,
   "metadata": {},
   "outputs": [],
   "source": [
    "import numpy as np\n",
    "import torch\n",
    "\n",
    "from itertools import islice, combinations, chain\n",
    "from tqdm import tqdm\n",
    "from collections import defaultdict, Counter\n",
    "from cached_property import cached_property\n",
    "from scipy import random\n",
    "\n",
    "from news_vec.utils import read_json_gz_lines\n",
    "from news_vec import logger"
   ]
  },
  {
   "cell_type": "code",
   "execution_count": 2,
   "metadata": {},
   "outputs": [],
   "source": [
    "import matplotlib as mpl\n",
    "import matplotlib.pyplot as plt\n",
    "import altair as alt\n",
    "import seaborn as sns\n",
    "\n",
    "mpl.style.use('seaborn-muted')\n",
    "sns.set(style=\"whitegrid\")\n",
    "\n",
    "%matplotlib inline"
   ]
  },
  {
   "cell_type": "code",
   "execution_count": 21,
   "metadata": {},
   "outputs": [],
   "source": [
    "class Actors:\n",
    "    \n",
    "    def __init__(self, root, skim=None):\n",
    "        self.root = root\n",
    "        self.skim = skim\n",
    "        \n",
    "    def __iter__(self):\n",
    "        reader = islice(read_json_gz_lines(self.root), self.skim)\n",
    "        yield from tqdm(reader)"
   ]
  },
  {
   "cell_type": "code",
   "execution_count": 22,
   "metadata": {},
   "outputs": [],
   "source": [
    "ac = Actors('../data/clf-actors.json/', 10000000)"
   ]
  },
  {
   "cell_type": "code",
   "execution_count": 23,
   "metadata": {},
   "outputs": [
    {
     "name": "stderr",
     "output_type": "stream",
     "text": [
      "10000000it [00:35, 277958.37it/s]\n"
     ]
    }
   ],
   "source": [
    "ACTOR_DOMAINS = defaultdict(set)\n",
    "\n",
    "for row in ac:\n",
    "    ACTOR_DOMAINS[row['actor_id']].add(row['domain'])"
   ]
  },
  {
   "cell_type": "code",
   "execution_count": 24,
   "metadata": {},
   "outputs": [
    {
     "data": {
      "text/plain": [
       "{'apnews.com',\n",
       " 'buzzfeed.com',\n",
       " 'cnn.com',\n",
       " 'dailykos.com',\n",
       " 'foxnews.com',\n",
       " 'huffingtonpost.com',\n",
       " 'npr.org',\n",
       " 'nytimes.com',\n",
       " 'thehill.com',\n",
       " 'washingtonpost.com',\n",
       " 'wsj.com'}"
      ]
     },
     "execution_count": 24,
     "metadata": {},
     "output_type": "execute_result"
    }
   ],
   "source": [
    "ACTOR_DOMAINS['id:twitter.com:2793391472']"
   ]
  },
  {
   "cell_type": "code",
   "execution_count": 25,
   "metadata": {},
   "outputs": [
    {
     "name": "stderr",
     "output_type": "stream",
     "text": [
      "100%|██████████| 2662161/2662161 [00:01<00:00, 1746306.90it/s]\n"
     ]
    }
   ],
   "source": [
    "DOMAIN_PAIRS = []\n",
    "for _, domains in tqdm(ACTOR_DOMAINS.items()):\n",
    "    if len(domains)==2:\n",
    "        DOMAIN_PAIRS.append(tuple(sorted(domains)))"
   ]
  },
  {
   "cell_type": "code",
   "execution_count": 27,
   "metadata": {},
   "outputs": [
    {
     "data": {
      "text/plain": [
       "377959"
      ]
     },
     "execution_count": 27,
     "metadata": {},
     "output_type": "execute_result"
    }
   ],
   "source": [
    "len(DOMAIN_PAIRS)"
   ]
  },
  {
   "cell_type": "code",
   "execution_count": 28,
   "metadata": {},
   "outputs": [],
   "source": [
    "DOMAIN_PAIR_COUNTS = Counter(DOMAIN_PAIRS)"
   ]
  },
  {
   "cell_type": "code",
   "execution_count": 29,
   "metadata": {},
   "outputs": [],
   "source": [
    "DOMAINS, DOMAIN_COUNTS = zip(*Counter(chain(*map(list, DOMAIN_PAIRS))).most_common())"
   ]
  },
  {
   "cell_type": "code",
   "execution_count": 30,
   "metadata": {},
   "outputs": [
    {
     "data": {
      "text/plain": [
       "('cnn.com',\n",
       " 'nytimes.com',\n",
       " 'huffingtonpost.com',\n",
       " 'foxnews.com',\n",
       " 'buzzfeed.com',\n",
       " 'bloomberg.com',\n",
       " 'washingtonpost.com',\n",
       " 'apnews.com',\n",
       " 'breitbart.com',\n",
       " 'thehill.com',\n",
       " 'npr.org',\n",
       " 'dailycaller.com',\n",
       " 'rt.com',\n",
       " 'wsj.com',\n",
       " 'dailykos.com',\n",
       " 'sputniknews.com')"
      ]
     },
     "execution_count": 30,
     "metadata": {},
     "output_type": "execute_result"
    }
   ],
   "source": [
    "DOMAINS"
   ]
  },
  {
   "cell_type": "code",
   "execution_count": 73,
   "metadata": {},
   "outputs": [
    {
     "data": {
      "text/plain": [
       "(186687,\n",
       " 71015,\n",
       " 69620,\n",
       " 69077,\n",
       " 68779,\n",
       " 52480,\n",
       " 39316,\n",
       " 38942,\n",
       " 37928,\n",
       " 37121,\n",
       " 35194,\n",
       " 21978,\n",
       " 9961,\n",
       " 9447,\n",
       " 6797,\n",
       " 1576)"
      ]
     },
     "execution_count": 73,
     "metadata": {},
     "output_type": "execute_result"
    }
   ],
   "source": [
    "DOMAIN_COUNTS"
   ]
  },
  {
   "cell_type": "code",
   "execution_count": 91,
   "metadata": {},
   "outputs": [],
   "source": [
    "DOMAIN_PRIOR = np.array(DOMAIN_COUNTS)\n",
    "DOMAIN_PRIOR = DOMAIN_PRIOR / DOMAIN_PRIOR.sum()\n",
    "DOMAIN_PRIOR = torch.from_numpy(DOMAIN_PRIOR).view(1, -1)"
   ]
  },
  {
   "cell_type": "code",
   "execution_count": 92,
   "metadata": {},
   "outputs": [
    {
     "data": {
      "text/plain": [
       "tensor([[0.2470, 0.0939, 0.0921, 0.0914, 0.0910, 0.0694, 0.0520, 0.0515, 0.0502,\n",
       "         0.0491, 0.0466, 0.0291, 0.0132, 0.0125, 0.0090, 0.0021]],\n",
       "       dtype=torch.float64)"
      ]
     },
     "execution_count": 92,
     "metadata": {},
     "output_type": "execute_result"
    }
   ],
   "source": [
    "DOMAIN_PRIOR"
   ]
  },
  {
   "cell_type": "code",
   "execution_count": 103,
   "metadata": {},
   "outputs": [
    {
     "name": "stderr",
     "output_type": "stream",
     "text": [
      "100%|██████████| 100/100 [02:18<00:00,  1.45s/it]\n"
     ]
    }
   ],
   "source": [
    "SAMPLED_DOMAIN_PAIR_COUNTS = defaultdict(list)\n",
    "\n",
    "for _ in tqdm(range(100)):\n",
    "    \n",
    "    samples = torch.multinomial(DOMAIN_PRIOR.repeat(len(DOMAIN_PAIRS), 1), 2)\n",
    "    \n",
    "    pairs = []\n",
    "    for i1, i2 in samples.tolist():\n",
    "        pair = tuple(sorted([DOMAINS[i1], DOMAINS[i2]]))\n",
    "        pairs.append(pair)\n",
    "        \n",
    "    counts = Counter(pairs)\n",
    "    for p, count in counts.items():\n",
    "        SAMPLED_DOMAIN_PAIR_COUNTS[p].append(count)"
   ]
  },
  {
   "cell_type": "code",
   "execution_count": 104,
   "metadata": {},
   "outputs": [
    {
     "data": {
      "text/plain": [
       "[3727,\n",
       " 3690,\n",
       " 3669,\n",
       " 3761,\n",
       " 3769,\n",
       " 3697,\n",
       " 3743,\n",
       " 3737,\n",
       " 3841,\n",
       " 3686,\n",
       " 3852,\n",
       " 3707,\n",
       " 3704,\n",
       " 3720,\n",
       " 3757,\n",
       " 3813,\n",
       " 3700,\n",
       " 3656,\n",
       " 3773,\n",
       " 3749,\n",
       " 3633,\n",
       " 3631,\n",
       " 3780,\n",
       " 3644,\n",
       " 3832,\n",
       " 3753,\n",
       " 3858,\n",
       " 3836,\n",
       " 3742,\n",
       " 3711,\n",
       " 3655,\n",
       " 3762,\n",
       " 3693,\n",
       " 3707,\n",
       " 3786,\n",
       " 3907,\n",
       " 3781,\n",
       " 3683,\n",
       " 3640,\n",
       " 3676,\n",
       " 3740,\n",
       " 3800,\n",
       " 3689,\n",
       " 3809,\n",
       " 3804,\n",
       " 3716,\n",
       " 3633,\n",
       " 3679,\n",
       " 3766,\n",
       " 3796,\n",
       " 3682,\n",
       " 3628,\n",
       " 3729,\n",
       " 3681,\n",
       " 3856,\n",
       " 3682,\n",
       " 3701,\n",
       " 3711,\n",
       " 3712,\n",
       " 3659,\n",
       " 3686,\n",
       " 3806,\n",
       " 3635,\n",
       " 3716,\n",
       " 3811,\n",
       " 3703,\n",
       " 3705,\n",
       " 3618,\n",
       " 3756,\n",
       " 3875,\n",
       " 3725,\n",
       " 3765,\n",
       " 3685,\n",
       " 3789,\n",
       " 3786,\n",
       " 3818,\n",
       " 3816,\n",
       " 3747,\n",
       " 3745,\n",
       " 3647,\n",
       " 3727,\n",
       " 3623,\n",
       " 3808,\n",
       " 3700,\n",
       " 3767,\n",
       " 3764,\n",
       " 3640,\n",
       " 3777,\n",
       " 3773,\n",
       " 3808,\n",
       " 3648,\n",
       " 3851,\n",
       " 3806,\n",
       " 3729,\n",
       " 3676,\n",
       " 3772,\n",
       " 3729,\n",
       " 3732,\n",
       " 3702,\n",
       " 3692]"
      ]
     },
     "execution_count": 104,
     "metadata": {},
     "output_type": "execute_result"
    }
   ],
   "source": [
    "SAMPLED_DOMAIN_PAIR_COUNTS['breitbart.com', 'foxnews.com']"
   ]
  },
  {
   "cell_type": "code",
   "execution_count": 105,
   "metadata": {},
   "outputs": [
    {
     "data": {
      "text/plain": [
       "20215"
      ]
     },
     "execution_count": 105,
     "metadata": {},
     "output_type": "execute_result"
    }
   ],
   "source": [
    "DOMAIN_PAIR_COUNTS['breitbart.com', 'foxnews.com']"
   ]
  },
  {
   "cell_type": "code",
   "execution_count": 109,
   "metadata": {},
   "outputs": [
    {
     "name": "stdout",
     "output_type": "stream",
     "text": [
      "('apnews.com', 'nytimes.com') 2.6618847081225394\n",
      "('apnews.com', 'cnn.com') 37.308548315628755\n",
      "('apnews.com', 'thehill.com') -6.344127336372311\n",
      "('apnews.com', 'dailykos.com') -3.2761910719680576\n",
      "('apnews.com', 'buzzfeed.com') -12.73124760672358\n",
      "('apnews.com', 'foxnews.com') -16.632610722226154\n",
      "('apnews.com', 'breitbart.com') -25.94957606268743\n",
      "('apnews.com', 'huffingtonpost.com') -15.668123783459658\n",
      "('apnews.com', 'washingtonpost.com') 0.6527807398223817\n",
      "('apnews.com', 'bloomberg.com') -5.936291744666507\n",
      "('apnews.com', 'npr.org') 5.434196810541422\n",
      "('apnews.com', 'wsj.com') -3.0875708964750515\n",
      "('apnews.com', 'dailycaller.com') -18.245038623009776\n",
      "('apnews.com', 'rt.com') -5.9173764651981795\n",
      "('apnews.com', 'sputniknews.com') -1.533514736012296\n",
      "('bloomberg.com', 'huffingtonpost.com') -8.754877843643472\n",
      "('bloomberg.com', 'npr.org') -7.767916968017553\n",
      "('bloomberg.com', 'cnn.com') 20.506044478539373\n",
      "('bloomberg.com', 'foxnews.com') -28.30670778629702\n",
      "('bloomberg.com', 'buzzfeed.com') -6.439886472870299\n",
      "('bloomberg.com', 'rt.com') 2.4257716288968183\n",
      "('bloomberg.com', 'washingtonpost.com') -2.551768560603194\n",
      "('bloomberg.com', 'dailykos.com') -9.283750998171046\n",
      "('bloomberg.com', 'nytimes.com') 18.950236990035265\n",
      "('bloomberg.com', 'sputniknews.com') 6.01377959103309\n",
      "('bloomberg.com', 'wsj.com') 63.96278857903143\n",
      "('bloomberg.com', 'breitbart.com') -27.905604664406553\n",
      "('bloomberg.com', 'thehill.com') -14.684697164075196\n",
      "('bloomberg.com', 'dailycaller.com') -24.739243530715445\n",
      "('breitbart.com', 'foxnews.com') 253.91396991212198\n",
      "('breitbart.com', 'sputniknews.com') 17.2780044212609\n",
      "('breitbart.com', 'dailycaller.com') 127.24862054211756\n",
      "('breitbart.com', 'nytimes.com') -37.067544350816\n",
      "('breitbart.com', 'cnn.com') -67.64229784965538\n",
      "('breitbart.com', 'huffingtonpost.com') -44.06428697297782\n",
      "('breitbart.com', 'buzzfeed.com') -51.083906109261726\n",
      "('breitbart.com', 'washingtonpost.com') -32.70141716708396\n",
      "('breitbart.com', 'rt.com') 17.29004943697063\n",
      "('breitbart.com', 'thehill.com') -28.130102487221155\n",
      "('breitbart.com', 'npr.org') -37.117510644946776\n",
      "('breitbart.com', 'wsj.com') -9.734568550389719\n",
      "('breitbart.com', 'dailykos.com') -14.633912572036323\n",
      "('buzzfeed.com', 'cnn.com') 78.37097653568767\n",
      "('buzzfeed.com', 'huffingtonpost.com') 24.571794374647485\n",
      "('buzzfeed.com', 'washingtonpost.com') -18.82097372406078\n",
      "('buzzfeed.com', 'npr.org') -5.23614172609787\n",
      "('buzzfeed.com', 'nytimes.com') -19.474487444915354\n",
      "('buzzfeed.com', 'rt.com') 10.68810883333647\n",
      "('buzzfeed.com', 'foxnews.com') -53.685643024094276\n",
      "('buzzfeed.com', 'dailykos.com') -12.274188572308796\n",
      "('buzzfeed.com', 'dailycaller.com') -34.43009586133142\n",
      "('buzzfeed.com', 'thehill.com') -1.327875791675081\n",
      "('buzzfeed.com', 'wsj.com') -18.050448242920865\n",
      "('buzzfeed.com', 'sputniknews.com') -7.721211898342067\n",
      "('cnn.com', 'nytimes.com') 18.000565447171876\n",
      "('cnn.com', 'foxnews.com') -30.044171769638282\n",
      "('cnn.com', 'huffingtonpost.com') 42.022394174087374\n",
      "('cnn.com', 'dailycaller.com') -43.50418064873507\n",
      "('cnn.com', 'dailykos.com') 4.719744272173993\n",
      "('cnn.com', 'npr.org') 10.030196137483319\n",
      "('cnn.com', 'rt.com') 8.020379139670693\n",
      "('cnn.com', 'wsj.com') -11.386377537109706\n",
      "('cnn.com', 'thehill.com') 40.208431281559896\n",
      "('cnn.com', 'washingtonpost.com') 17.77580211022402\n",
      "('cnn.com', 'sputniknews.com') -8.846852005614176\n",
      "('dailycaller.com', 'foxnews.com') 148.82069537062392\n",
      "('dailycaller.com', 'huffingtonpost.com') -35.08024562774821\n",
      "('dailycaller.com', 'wsj.com') -7.010774680654294\n",
      "('dailycaller.com', 'thehill.com') -16.725377591011963\n",
      "('dailycaller.com', 'nytimes.com') -29.618014562527208\n",
      "('dailycaller.com', 'washingtonpost.com') -24.092664114791525\n",
      "('dailycaller.com', 'npr.org') -25.117938413155237\n",
      "('dailycaller.com', 'sputniknews.com') -0.8579385788647254\n",
      "('dailycaller.com', 'rt.com') -6.579801316877522\n",
      "('dailykos.com', 'huffingtonpost.com') 21.656771947360536\n",
      "('dailykos.com', 'washingtonpost.com') 8.395043968202382\n",
      "('dailykos.com', 'npr.org') 1.6729755047715607\n",
      "('dailykos.com', 'nytimes.com') 3.7967227916186035\n",
      "('dailykos.com', 'thehill.com') 4.0637837411269775\n",
      "('dailykos.com', 'foxnews.com') -19.338150980088542\n",
      "('dailykos.com', 'rt.com') -6.197069582189601\n",
      "('dailycaller.com', 'dailykos.com') -12.378279999491626\n",
      "('foxnews.com', 'huffingtonpost.com') -50.19306034192377\n",
      "('foxnews.com', 'washingtonpost.com') -29.758000384061152\n",
      "('foxnews.com', 'nytimes.com') -38.137350002567956\n",
      "('foxnews.com', 'npr.org') -32.2830376290983\n",
      "('foxnews.com', 'rt.com') -9.963434664037697\n",
      "('foxnews.com', 'thehill.com') -21.830927734654693\n",
      "('foxnews.com', 'wsj.com') -5.7385111495800665\n",
      "('foxnews.com', 'sputniknews.com') -2.995768534716364\n",
      "('huffingtonpost.com', 'nytimes.com') 3.5444213711671377\n",
      "('huffingtonpost.com', 'rt.com') -10.615484017441187\n",
      "('huffingtonpost.com', 'npr.org') 10.277030862957078\n",
      "('huffingtonpost.com', 'thehill.com') -5.483971333537718\n",
      "('huffingtonpost.com', 'washingtonpost.com') -2.9829272502570037\n",
      "('huffingtonpost.com', 'wsj.com') -13.681489969026485\n",
      "('npr.org', 'nytimes.com') 35.72450485450498\n",
      "('npr.org', 'washingtonpost.com') 8.685558389832327\n",
      "('npr.org', 'thehill.com') -6.541423998634998\n",
      "('npr.org', 'wsj.com') -2.270387853943347\n",
      "('npr.org', 'rt.com') -13.227928348495627\n",
      "('dailykos.com', 'wsj.com') -5.014213822611507\n",
      "('huffingtonpost.com', 'sputniknews.com') -7.7159325501663805\n",
      "('npr.org', 'sputniknews.com') -6.480018986458611\n",
      "('nytimes.com', 'washingtonpost.com') 30.08187228045915\n",
      "('nytimes.com', 'sputniknews.com') -3.234923493048565\n",
      "('nytimes.com', 'thehill.com') -12.024551683768294\n",
      "('nytimes.com', 'wsj.com') 11.470684132679288\n",
      "('nytimes.com', 'rt.com') -14.52651452353345\n",
      "('rt.com', 'sputniknews.com') 68.87834961051131\n",
      "('rt.com', 'thehill.com') -9.60744690619529\n",
      "('rt.com', 'washingtonpost.com') -10.31790645752584\n",
      "('rt.com', 'wsj.com') -6.094998928805618\n",
      "('sputniknews.com', 'thehill.com') -7.097974532523331\n",
      "('sputniknews.com', 'washingtonpost.com') -4.993280033024401\n",
      "('sputniknews.com', 'wsj.com') -2.04787041006154\n",
      "('thehill.com', 'washingtonpost.com') -4.235685134509472\n",
      "('thehill.com', 'wsj.com') -10.870993506371951\n",
      "('washingtonpost.com', 'wsj.com') -1.8602073052753854\n",
      "('dailykos.com', 'sputniknews.com') -1.870381872159714\n"
     ]
    }
   ],
   "source": [
    "for pair, count in DOMAIN_PAIR_COUNTS.items():\n",
    "    sampled_counts = SAMPLED_DOMAIN_PAIR_COUNTS[pair]\n",
    "    print(pair, (count - np.mean(sampled_counts)) / np.std(sampled_counts))"
   ]
  },
  {
   "cell_type": "code",
   "execution_count": null,
   "metadata": {},
   "outputs": [],
   "source": []
  }
 ],
 "metadata": {
  "kernelspec": {
   "display_name": "Python 3",
   "language": "python",
   "name": "python3"
  },
  "language_info": {
   "codemirror_mode": {
    "name": "ipython",
    "version": 3
   },
   "file_extension": ".py",
   "mimetype": "text/x-python",
   "name": "python",
   "nbconvert_exporter": "python",
   "pygments_lexer": "ipython3",
   "version": "3.7.0"
  }
 },
 "nbformat": 4,
 "nbformat_minor": 2
}
