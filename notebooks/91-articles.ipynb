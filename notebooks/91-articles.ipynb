{
 "cells": [
  {
   "cell_type": "code",
   "execution_count": 1,
   "metadata": {},
   "outputs": [],
   "source": [
    "import pandas as pd\n",
    "\n",
    "from tqdm import tqdm\n",
    "\n",
    "from sklearn import metrics\n",
    "from sklearn.feature_extraction.text import TfidfVectorizer\n",
    "from sklearn.linear_model import LogisticRegression\n",
    "from sklearn.svm import LinearSVC\n",
    "from sklearn.model_selection import cross_val_score, train_test_split\n",
    "\n",
    "from news_vec.utils import read_json_gz_lines"
   ]
  },
  {
   "cell_type": "code",
   "execution_count": 2,
   "metadata": {},
   "outputs": [],
   "source": [
    "import matplotlib as mpl\n",
    "import matplotlib.pyplot as plt\n",
    "import altair as alt\n",
    "import seaborn as sns\n",
    "\n",
    "mpl.style.use('seaborn-muted')\n",
    "sns.set(style=\"whitegrid\")\n",
    "\n",
    "%matplotlib inline"
   ]
  },
  {
   "cell_type": "code",
   "execution_count": 3,
   "metadata": {},
   "outputs": [
    {
     "name": "stderr",
     "output_type": "stream",
     "text": [
      "1130569it [00:17, 64642.42it/s]\n"
     ]
    }
   ],
   "source": [
    "df = pd.DataFrame(list(tqdm(read_json_gz_lines('../data/clf-articles.json/'))))"
   ]
  },
  {
   "cell_type": "code",
   "execution_count": 10,
   "metadata": {},
   "outputs": [],
   "source": [
    "df['tokens_key'] = df.clf_tokens.apply(lambda x: tuple(x))\n",
    "df = df.drop_duplicates(['tokens_key', 'domain'])"
   ]
  },
  {
   "cell_type": "code",
   "execution_count": 14,
   "metadata": {},
   "outputs": [],
   "source": [
    "min_count = df.groupby('domain').size().min()"
   ]
  },
  {
   "cell_type": "code",
   "execution_count": 15,
   "metadata": {},
   "outputs": [],
   "source": [
    "def imp_acc(domain, cv=10):\n",
    "    \n",
    "    pdf = df[df.domain==domain].sample(min_count).copy()\n",
    "    pdf['imp_rank'] = pdf.impressions.rank(pct=True)\n",
    "    pdf['imp_high'] = pdf.imp_rank > 0.5\n",
    "    \n",
    "    X = pdf.clf_tokens\n",
    "    y = pdf.imp_high\n",
    "    \n",
    "    tv = TfidfVectorizer(\n",
    "        analyzer='word',\n",
    "        tokenizer=lambda x: x,\n",
    "        preprocessor=lambda x: x,\n",
    "        ngram_range=(1,3),\n",
    "        token_pattern=None,\n",
    "    )\n",
    "    \n",
    "    X = tv.fit_transform(X)\n",
    "    \n",
    "    clf = LinearSVC()\n",
    "    return cross_val_score(clf, X, y, cv=cv)"
   ]
  },
  {
   "cell_type": "code",
   "execution_count": 17,
   "metadata": {},
   "outputs": [
    {
     "name": "stdout",
     "output_type": "stream",
     "text": [
      "wsj.com [0.54742345 0.53622106 0.52800597 0.5373413  0.54518297 0.53099328\n",
      " 0.54314531 0.53811659 0.51980568 0.53213752]\n",
      "dailycaller.com [0.55041075 0.55489171 0.54854369 0.5489171  0.54779686 0.5489171\n",
      " 0.52297348 0.55754858 0.53736921 0.53961136]\n",
      "huffingtonpost.com [0.58177745 0.58961912 0.58663181 0.58289768 0.60567588 0.58961912\n",
      " 0.58759806 0.58557549 0.58669656 0.58109118]\n",
      "foxnews.com [0.54929052 0.55601195 0.55339806 0.55003734 0.53584765 0.54630321\n",
      " 0.55061636 0.53961136 0.55007474 0.55119581]\n",
      "washingtonpost.com [0.58289768 0.57356236 0.58700523 0.57692308 0.57132188 0.57094847\n",
      " 0.57639148 0.57361734 0.56801196 0.58669656]\n",
      "sputniknews.com [0.51605676 0.49477222 0.50373413 0.52800597 0.50261389 0.50709485\n",
      " 0.51624953 0.51644245 0.50186846 0.49215247]\n",
      "nytimes.com [0.56497386 0.55526512 0.56572069 0.55974608 0.56721434 0.55787901\n",
      " 0.58685095 0.55044843 0.56651719 0.56838565]\n",
      "thehill.com [0.57281553 0.56011949 0.57094847 0.56646751 0.55675878 0.55003734\n",
      " 0.57713859 0.57399103 0.55568012 0.57436472]\n",
      "breitbart.com [0.55227782 0.54518297 0.55862584 0.56049291 0.54070202 0.55339806\n",
      " 0.55472544 0.54596413 0.54185351 0.54596413]\n",
      "bloomberg.com [0.53846154 0.54779686 0.52912621 0.55153099 0.56011949 0.55078417\n",
      " 0.53567426 0.54559043 0.52952167 0.53064275]\n",
      "cnn.com [0.51568335 0.52539208 0.53622106 0.50784167 0.51979089 0.53360717\n",
      " 0.5345536  0.53363229 0.52503737 0.53587444]\n",
      "npr.org [0.52128454 0.5317401  0.55003734 0.55601195 0.56198656 0.53286034\n",
      " 0.54351886 0.55792227 0.5568012  0.53101644]\n",
      "apnews.com [0.54144884 0.53398058 0.52763256 0.53958178 0.54929052 0.56198656\n",
      " 0.52334703 0.55269058 0.55306428 0.55754858]\n",
      "rt.com [0.51493652 0.53099328 0.54480956 0.53622106 0.52763256 0.53584765\n",
      " 0.526709   0.54484305 0.52765321 0.5190583 ]\n",
      "buzzfeed.com [0.55227782 0.55115758 0.55825243 0.54144884 0.53584765 0.55265123\n",
      " 0.52782966 0.56763827 0.54932735 0.55156951]\n",
      "dailykos.com [0.53248693 0.53398058 0.54368932 0.53323376 0.52949963 0.52912621\n",
      " 0.52110572 0.53512706 0.52466368 0.53139013]\n"
     ]
    }
   ],
   "source": [
    "for d in df.domain.unique():\n",
    "    print(d, imp_acc(d))"
   ]
  },
  {
   "cell_type": "code",
   "execution_count": null,
   "metadata": {},
   "outputs": [],
   "source": []
  }
 ],
 "metadata": {
  "kernelspec": {
   "display_name": "Python 3",
   "language": "python",
   "name": "python3"
  },
  "language_info": {
   "codemirror_mode": {
    "name": "ipython",
    "version": 3
   },
   "file_extension": ".py",
   "mimetype": "text/x-python",
   "name": "python",
   "nbconvert_exporter": "python",
   "pygments_lexer": "ipython3",
   "version": "3.7.0"
  }
 },
 "nbformat": 4,
 "nbformat_minor": 2
}
