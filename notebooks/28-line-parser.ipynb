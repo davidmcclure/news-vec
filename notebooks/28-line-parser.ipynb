{
 "cells": [
  {
   "cell_type": "code",
   "execution_count": 2,
   "metadata": {},
   "outputs": [],
   "source": [
    "import spacy"
   ]
  },
  {
   "cell_type": "code",
   "execution_count": 99,
   "metadata": {},
   "outputs": [],
   "source": [
    "nlp = spacy.load('en', disable=['ner'])"
   ]
  },
  {
   "cell_type": "code",
   "execution_count": 100,
   "metadata": {},
   "outputs": [],
   "source": [
    "class Line:\n",
    "    \n",
    "    def __init__(self, text):\n",
    "        self.doc = nlp(text)\n",
    "        \n",
    "    def _token_list(self, key):\n",
    "        return [getattr(t, key) for t in self.doc]\n",
    "    \n",
    "    @property\n",
    "    def text_lower(self):\n",
    "        return self.doc.text.lower()\n",
    "    \n",
    "    @property\n",
    "    def tokens(self):\n",
    "        return self._token_list('text')\n",
    "    \n",
    "    @property\n",
    "    def tokens_lower(self):\n",
    "        return list(map(str.lower, self.tokens))\n",
    "    \n",
    "    @property\n",
    "    def token_char_idxs(self):\n",
    "        return [(t.idx, t.idx + len(t) - 1) for t in self.doc]"
   ]
  },
  {
   "cell_type": "code",
   "execution_count": 111,
   "metadata": {},
   "outputs": [],
   "source": [
    "line = Line('AP ALERT:      \"Trump\" leaves office')"
   ]
  },
  {
   "cell_type": "code",
   "execution_count": 112,
   "metadata": {},
   "outputs": [
    {
     "data": {
      "text/plain": [
       "['nsubj', 'ROOT', 'punct', '', 'punct', 'nsubj', 'punct', 'ROOT', 'dobj']"
      ]
     },
     "execution_count": 112,
     "metadata": {},
     "output_type": "execute_result"
    }
   ],
   "source": [
    "line._token_list('dep_')"
   ]
  },
  {
   "cell_type": "code",
   "execution_count": 113,
   "metadata": {},
   "outputs": [
    {
     "data": {
      "text/plain": [
       "'ap alert:      \"trump\" leaves office'"
      ]
     },
     "execution_count": 113,
     "metadata": {},
     "output_type": "execute_result"
    }
   ],
   "source": [
    "line.text_lower"
   ]
  },
  {
   "cell_type": "code",
   "execution_count": 114,
   "metadata": {},
   "outputs": [
    {
     "data": {
      "text/plain": [
       "['AP', 'ALERT', ':', '     ', '\"', 'Trump', '\"', 'leaves', 'office']"
      ]
     },
     "execution_count": 114,
     "metadata": {},
     "output_type": "execute_result"
    }
   ],
   "source": [
    "line.tokens"
   ]
  },
  {
   "cell_type": "code",
   "execution_count": 115,
   "metadata": {},
   "outputs": [
    {
     "data": {
      "text/plain": [
       "['ap', 'alert', ':', '     ', '\"', 'trump', '\"', 'leaves', 'office']"
      ]
     },
     "execution_count": 115,
     "metadata": {},
     "output_type": "execute_result"
    }
   ],
   "source": [
    "line.tokens_lower"
   ]
  },
  {
   "cell_type": "code",
   "execution_count": 116,
   "metadata": {},
   "outputs": [
    {
     "data": {
      "text/plain": [
       "[(0, 1),\n",
       " (3, 7),\n",
       " (8, 8),\n",
       " (10, 14),\n",
       " (15, 15),\n",
       " (16, 20),\n",
       " (21, 21),\n",
       " (23, 28),\n",
       " (30, 35)]"
      ]
     },
     "execution_count": 116,
     "metadata": {},
     "output_type": "execute_result"
    }
   ],
   "source": [
    "line.token_char_idxs"
   ]
  }
 ],
 "metadata": {
  "kernelspec": {
   "display_name": "Python 3",
   "language": "python",
   "name": "python3"
  },
  "language_info": {
   "codemirror_mode": {
    "name": "ipython",
    "version": 3
   },
   "file_extension": ".py",
   "mimetype": "text/x-python",
   "name": "python",
   "nbconvert_exporter": "python",
   "pygments_lexer": "ipython3",
   "version": "3.7.0"
  }
 },
 "nbformat": 4,
 "nbformat_minor": 2
}
