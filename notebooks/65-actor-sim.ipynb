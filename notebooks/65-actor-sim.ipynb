{
 "cells": [
  {
   "cell_type": "code",
   "execution_count": 32,
   "metadata": {},
   "outputs": [],
   "source": [
    "import numpy as np\n",
    "\n",
    "from collections import Counter\n",
    "from tqdm import tqdm\n",
    "from itertools import islice\n",
    "from scipy import stats\n",
    "\n",
    "from news_vec.utils import read_json_gz_lines"
   ]
  },
  {
   "cell_type": "code",
   "execution_count": 25,
   "metadata": {},
   "outputs": [],
   "source": [
    "rows = read_json_gz_lines('../data/clf-actors.json/')"
   ]
  },
  {
   "cell_type": "code",
   "execution_count": 46,
   "metadata": {},
   "outputs": [
    {
     "data": {
      "text/plain": [
       "{'domain': 'breitbart.com',\n",
       " 'actor_id': 'id:twitter.com:276840745',\n",
       " 'ts_bucket': 2}"
      ]
     },
     "execution_count": 46,
     "metadata": {},
     "output_type": "execute_result"
    }
   ],
   "source": [
    "next(rows)"
   ]
  },
  {
   "cell_type": "code",
   "execution_count": 26,
   "metadata": {},
   "outputs": [
    {
     "name": "stderr",
     "output_type": "stream",
     "text": [
      "1000000it [00:03, 291995.52it/s]\n"
     ]
    }
   ],
   "source": [
    "domain_counts = Counter()\n",
    "actor_counts = Counter()\n",
    "for row in tqdm(islice(rows, 1000000)):\n",
    "    domain_counts[row['domain']] += 1\n",
    "    actor_counts[row['actor_id']] += 1"
   ]
  },
  {
   "cell_type": "code",
   "execution_count": 27,
   "metadata": {},
   "outputs": [
    {
     "data": {
      "text/plain": [
       "Counter({'apnews.com': 54748,\n",
       "         'bloomberg.com': 73328,\n",
       "         'breitbart.com': 107206,\n",
       "         'buzzfeed.com': 54731,\n",
       "         'cnn.com': 208534,\n",
       "         'dailycaller.com': 49823,\n",
       "         'dailykos.com': 19093,\n",
       "         'foxnews.com': 121185,\n",
       "         'huffingtonpost.com': 66948,\n",
       "         'npr.org': 41495,\n",
       "         'nytimes.com': 92408,\n",
       "         'rt.com': 6080,\n",
       "         'sputniknews.com': 1863,\n",
       "         'thehill.com': 42455,\n",
       "         'washingtonpost.com': 46672,\n",
       "         'wsj.com': 13431})"
      ]
     },
     "execution_count": 27,
     "metadata": {},
     "output_type": "execute_result"
    }
   ],
   "source": [
    "domain_counts"
   ]
  },
  {
   "cell_type": "code",
   "execution_count": 28,
   "metadata": {},
   "outputs": [],
   "source": [
    "domains = list(domain_counts.keys())"
   ]
  },
  {
   "cell_type": "code",
   "execution_count": 34,
   "metadata": {},
   "outputs": [],
   "source": [
    "dc = np.array([domain_counts[d] for d in domains])"
   ]
  },
  {
   "cell_type": "code",
   "execution_count": 38,
   "metadata": {},
   "outputs": [],
   "source": [
    "domain_prior = dc / dc.sum()"
   ]
  },
  {
   "cell_type": "code",
   "execution_count": 40,
   "metadata": {},
   "outputs": [],
   "source": [
    "count_counts = Counter()\n",
    "for c in actor_counts.values():\n",
    "    count_counts[c] += 1"
   ]
  },
  {
   "cell_type": "code",
   "execution_count": 45,
   "metadata": {},
   "outputs": [],
   "source": [
    "counts = sorted(count_counts.keys())"
   ]
  },
  {
   "cell_type": "code",
   "execution_count": null,
   "metadata": {},
   "outputs": [],
   "source": []
  },
  {
   "cell_type": "code",
   "execution_count": 29,
   "metadata": {},
   "outputs": [
    {
     "data": {
      "text/plain": [
       "['apnews.com',\n",
       " 'bloomberg.com',\n",
       " 'breitbart.com',\n",
       " 'buzzfeed.com',\n",
       " 'cnn.com',\n",
       " 'dailycaller.com',\n",
       " 'dailykos.com',\n",
       " 'foxnews.com',\n",
       " 'huffingtonpost.com',\n",
       " 'npr.org',\n",
       " 'nytimes.com',\n",
       " 'rt.com',\n",
       " 'sputniknews.com',\n",
       " 'thehill.com',\n",
       " 'washingtonpost.com',\n",
       " 'wsj.com']"
      ]
     },
     "execution_count": 29,
     "metadata": {},
     "output_type": "execute_result"
    }
   ],
   "source": [
    "domains"
   ]
  },
  {
   "cell_type": "code",
   "execution_count": 37,
   "metadata": {},
   "outputs": [
    {
     "data": {
      "text/plain": [
       "array([0, 0, 0, 0, 2, 1, 0, 1, 0, 0, 0, 0, 0, 0, 1, 0])"
      ]
     },
     "execution_count": 37,
     "metadata": {},
     "output_type": "execute_result"
    }
   ],
   "source": [
    "stats.multinomial.rvs(5, dc / dc.sum())"
   ]
  },
  {
   "cell_type": "code",
   "execution_count": null,
   "metadata": {},
   "outputs": [],
   "source": [
    "domain_prior = stats.multinomial.rvs"
   ]
  },
  {
   "cell_type": "code",
   "execution_count": null,
   "metadata": {},
   "outputs": [],
   "source": []
  }
 ],
 "metadata": {
  "kernelspec": {
   "display_name": "Python 3",
   "language": "python",
   "name": "python3"
  },
  "language_info": {
   "codemirror_mode": {
    "name": "ipython",
    "version": 3
   },
   "file_extension": ".py",
   "mimetype": "text/x-python",
   "name": "python",
   "nbconvert_exporter": "python",
   "pygments_lexer": "ipython3",
   "version": "3.7.0"
  }
 },
 "nbformat": 4,
 "nbformat_minor": 2
}
