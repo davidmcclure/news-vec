{
 "cells": [
  {
   "cell_type": "code",
   "execution_count": 57,
   "metadata": {},
   "outputs": [],
   "source": [
    "import pandas as pd\n",
    "import numpy as np\n",
    "\n",
    "from scipy import stats"
   ]
  },
  {
   "cell_type": "code",
   "execution_count": 12,
   "metadata": {},
   "outputs": [],
   "source": [
    "import matplotlib as mpl\n",
    "import matplotlib.pyplot as plt\n",
    "import altair as alt\n",
    "import seaborn as sns\n",
    "\n",
    "mpl.style.use('seaborn-muted')\n",
    "sns.set(style=\"whitegrid\")\n",
    "\n",
    "%matplotlib inline"
   ]
  },
  {
   "cell_type": "code",
   "execution_count": 2,
   "metadata": {},
   "outputs": [],
   "source": [
    "audience_link_actors = pd.read_json('data/audience-graph-link-actors.json', lines=True)"
   ]
  },
  {
   "cell_type": "code",
   "execution_count": 3,
   "metadata": {},
   "outputs": [],
   "source": [
    "headlines_ab = pd.read_json('data/headline-graph-ab-clf.json', lines=True)"
   ]
  },
  {
   "cell_type": "code",
   "execution_count": 5,
   "metadata": {},
   "outputs": [
    {
     "data": {
      "text/html": [
       "<div>\n",
       "<style scoped>\n",
       "    .dataframe tbody tr th:only-of-type {\n",
       "        vertical-align: middle;\n",
       "    }\n",
       "\n",
       "    .dataframe tbody tr th {\n",
       "        vertical-align: top;\n",
       "    }\n",
       "\n",
       "    .dataframe thead th {\n",
       "        text-align: right;\n",
       "    }\n",
       "</style>\n",
       "<table border=\"1\" class=\"dataframe\">\n",
       "  <thead>\n",
       "    <tr style=\"text-align: right;\">\n",
       "      <th></th>\n",
       "      <th>d1</th>\n",
       "      <th>d2</th>\n",
       "      <th>label</th>\n",
       "      <th>score</th>\n",
       "      <th>zscore</th>\n",
       "    </tr>\n",
       "  </thead>\n",
       "  <tbody>\n",
       "    <tr>\n",
       "      <th>0</th>\n",
       "      <td>nytimes.com</td>\n",
       "      <td>washingtonpost.com</td>\n",
       "      <td>nytimes.com - washingtonpost.com</td>\n",
       "      <td>3.123226</td>\n",
       "      <td>254.598270</td>\n",
       "    </tr>\n",
       "    <tr>\n",
       "      <th>1</th>\n",
       "      <td>breitbart.com</td>\n",
       "      <td>dailycaller.com</td>\n",
       "      <td>breitbart.com - dailycaller.com</td>\n",
       "      <td>2.879639</td>\n",
       "      <td>233.759026</td>\n",
       "    </tr>\n",
       "    <tr>\n",
       "      <th>2</th>\n",
       "      <td>breitbart.com</td>\n",
       "      <td>foxnews.com</td>\n",
       "      <td>breitbart.com - foxnews.com</td>\n",
       "      <td>2.768800</td>\n",
       "      <td>224.276625</td>\n",
       "    </tr>\n",
       "    <tr>\n",
       "      <th>3</th>\n",
       "      <td>cnn.com</td>\n",
       "      <td>nytimes.com</td>\n",
       "      <td>cnn.com - nytimes.com</td>\n",
       "      <td>2.653588</td>\n",
       "      <td>214.420045</td>\n",
       "    </tr>\n",
       "    <tr>\n",
       "      <th>4</th>\n",
       "      <td>dailycaller.com</td>\n",
       "      <td>foxnews.com</td>\n",
       "      <td>dailycaller.com - foxnews.com</td>\n",
       "      <td>2.178174</td>\n",
       "      <td>173.747754</td>\n",
       "    </tr>\n",
       "    <tr>\n",
       "      <th>5</th>\n",
       "      <td>thehill.com</td>\n",
       "      <td>washingtonpost.com</td>\n",
       "      <td>thehill.com - washingtonpost.com</td>\n",
       "      <td>2.148124</td>\n",
       "      <td>171.176885</td>\n",
       "    </tr>\n",
       "    <tr>\n",
       "      <th>6</th>\n",
       "      <td>cnn.com</td>\n",
       "      <td>washingtonpost.com</td>\n",
       "      <td>cnn.com - washingtonpost.com</td>\n",
       "      <td>2.127655</td>\n",
       "      <td>169.425750</td>\n",
       "    </tr>\n",
       "    <tr>\n",
       "      <th>7</th>\n",
       "      <td>cnn.com</td>\n",
       "      <td>thehill.com</td>\n",
       "      <td>cnn.com - thehill.com</td>\n",
       "      <td>2.110772</td>\n",
       "      <td>167.981431</td>\n",
       "    </tr>\n",
       "    <tr>\n",
       "      <th>8</th>\n",
       "      <td>nytimes.com</td>\n",
       "      <td>thehill.com</td>\n",
       "      <td>nytimes.com - thehill.com</td>\n",
       "      <td>1.813567</td>\n",
       "      <td>142.555148</td>\n",
       "    </tr>\n",
       "    <tr>\n",
       "      <th>9</th>\n",
       "      <td>rt.com</td>\n",
       "      <td>sputniknews.com</td>\n",
       "      <td>rt.com - sputniknews.com</td>\n",
       "      <td>1.692679</td>\n",
       "      <td>132.212951</td>\n",
       "    </tr>\n",
       "  </tbody>\n",
       "</table>\n",
       "</div>"
      ],
      "text/plain": [
       "                d1                  d2                             label  \\\n",
       "0      nytimes.com  washingtonpost.com  nytimes.com - washingtonpost.com   \n",
       "1    breitbart.com     dailycaller.com   breitbart.com - dailycaller.com   \n",
       "2    breitbart.com         foxnews.com       breitbart.com - foxnews.com   \n",
       "3          cnn.com         nytimes.com             cnn.com - nytimes.com   \n",
       "4  dailycaller.com         foxnews.com     dailycaller.com - foxnews.com   \n",
       "5      thehill.com  washingtonpost.com  thehill.com - washingtonpost.com   \n",
       "6          cnn.com  washingtonpost.com      cnn.com - washingtonpost.com   \n",
       "7          cnn.com         thehill.com             cnn.com - thehill.com   \n",
       "8      nytimes.com         thehill.com         nytimes.com - thehill.com   \n",
       "9           rt.com     sputniknews.com          rt.com - sputniknews.com   \n",
       "\n",
       "      score      zscore  \n",
       "0  3.123226  254.598270  \n",
       "1  2.879639  233.759026  \n",
       "2  2.768800  224.276625  \n",
       "3  2.653588  214.420045  \n",
       "4  2.178174  173.747754  \n",
       "5  2.148124  171.176885  \n",
       "6  2.127655  169.425750  \n",
       "7  2.110772  167.981431  \n",
       "8  1.813567  142.555148  \n",
       "9  1.692679  132.212951  "
      ]
     },
     "execution_count": 5,
     "metadata": {},
     "output_type": "execute_result"
    }
   ],
   "source": [
    "audience_link_actors.head(10)"
   ]
  },
  {
   "cell_type": "code",
   "execution_count": 6,
   "metadata": {},
   "outputs": [
    {
     "data": {
      "text/html": [
       "<div>\n",
       "<style scoped>\n",
       "    .dataframe tbody tr th:only-of-type {\n",
       "        vertical-align: middle;\n",
       "    }\n",
       "\n",
       "    .dataframe tbody tr th {\n",
       "        vertical-align: top;\n",
       "    }\n",
       "\n",
       "    .dataframe thead th {\n",
       "        text-align: right;\n",
       "    }\n",
       "</style>\n",
       "<table border=\"1\" class=\"dataframe\">\n",
       "  <thead>\n",
       "    <tr style=\"text-align: right;\">\n",
       "      <th></th>\n",
       "      <th>acc</th>\n",
       "      <th>d1</th>\n",
       "      <th>d2</th>\n",
       "      <th>label</th>\n",
       "      <th>score</th>\n",
       "    </tr>\n",
       "  </thead>\n",
       "  <tbody>\n",
       "    <tr>\n",
       "      <th>0</th>\n",
       "      <td>0.943206</td>\n",
       "      <td>buzzfeed.com</td>\n",
       "      <td>sputniknews.com</td>\n",
       "      <td>buzzfeed.com - sputniknews.com</td>\n",
       "      <td>2.057104</td>\n",
       "    </tr>\n",
       "    <tr>\n",
       "      <th>1</th>\n",
       "      <td>0.938515</td>\n",
       "      <td>buzzfeed.com</td>\n",
       "      <td>rt.com</td>\n",
       "      <td>buzzfeed.com - rt.com</td>\n",
       "      <td>1.977826</td>\n",
       "    </tr>\n",
       "    <tr>\n",
       "      <th>2</th>\n",
       "      <td>0.935927</td>\n",
       "      <td>apnews.com</td>\n",
       "      <td>buzzfeed.com</td>\n",
       "      <td>apnews.com - buzzfeed.com</td>\n",
       "      <td>1.934097</td>\n",
       "    </tr>\n",
       "    <tr>\n",
       "      <th>3</th>\n",
       "      <td>0.924572</td>\n",
       "      <td>bloomberg.com</td>\n",
       "      <td>buzzfeed.com</td>\n",
       "      <td>bloomberg.com - buzzfeed.com</td>\n",
       "      <td>1.742192</td>\n",
       "    </tr>\n",
       "    <tr>\n",
       "      <th>4</th>\n",
       "      <td>0.923548</td>\n",
       "      <td>buzzfeed.com</td>\n",
       "      <td>thehill.com</td>\n",
       "      <td>buzzfeed.com - thehill.com</td>\n",
       "      <td>1.724889</td>\n",
       "    </tr>\n",
       "    <tr>\n",
       "      <th>5</th>\n",
       "      <td>0.918354</td>\n",
       "      <td>buzzfeed.com</td>\n",
       "      <td>wsj.com</td>\n",
       "      <td>buzzfeed.com - wsj.com</td>\n",
       "      <td>1.637117</td>\n",
       "    </tr>\n",
       "    <tr>\n",
       "      <th>6</th>\n",
       "      <td>0.918224</td>\n",
       "      <td>dailykos.com</td>\n",
       "      <td>sputniknews.com</td>\n",
       "      <td>dailykos.com - sputniknews.com</td>\n",
       "      <td>1.634915</td>\n",
       "    </tr>\n",
       "    <tr>\n",
       "      <th>7</th>\n",
       "      <td>0.915208</td>\n",
       "      <td>breitbart.com</td>\n",
       "      <td>buzzfeed.com</td>\n",
       "      <td>breitbart.com - buzzfeed.com</td>\n",
       "      <td>1.583950</td>\n",
       "    </tr>\n",
       "    <tr>\n",
       "      <th>8</th>\n",
       "      <td>0.909270</td>\n",
       "      <td>dailykos.com</td>\n",
       "      <td>rt.com</td>\n",
       "      <td>dailykos.com - rt.com</td>\n",
       "      <td>1.483593</td>\n",
       "    </tr>\n",
       "    <tr>\n",
       "      <th>9</th>\n",
       "      <td>0.900819</td>\n",
       "      <td>buzzfeed.com</td>\n",
       "      <td>foxnews.com</td>\n",
       "      <td>buzzfeed.com - foxnews.com</td>\n",
       "      <td>1.340766</td>\n",
       "    </tr>\n",
       "  </tbody>\n",
       "</table>\n",
       "</div>"
      ],
      "text/plain": [
       "        acc             d1               d2                           label  \\\n",
       "0  0.943206   buzzfeed.com  sputniknews.com  buzzfeed.com - sputniknews.com   \n",
       "1  0.938515   buzzfeed.com           rt.com           buzzfeed.com - rt.com   \n",
       "2  0.935927     apnews.com     buzzfeed.com       apnews.com - buzzfeed.com   \n",
       "3  0.924572  bloomberg.com     buzzfeed.com    bloomberg.com - buzzfeed.com   \n",
       "4  0.923548   buzzfeed.com      thehill.com      buzzfeed.com - thehill.com   \n",
       "5  0.918354   buzzfeed.com          wsj.com          buzzfeed.com - wsj.com   \n",
       "6  0.918224   dailykos.com  sputniknews.com  dailykos.com - sputniknews.com   \n",
       "7  0.915208  breitbart.com     buzzfeed.com    breitbart.com - buzzfeed.com   \n",
       "8  0.909270   dailykos.com           rt.com           dailykos.com - rt.com   \n",
       "9  0.900819   buzzfeed.com      foxnews.com      buzzfeed.com - foxnews.com   \n",
       "\n",
       "      score  \n",
       "0  2.057104  \n",
       "1  1.977826  \n",
       "2  1.934097  \n",
       "3  1.742192  \n",
       "4  1.724889  \n",
       "5  1.637117  \n",
       "6  1.634915  \n",
       "7  1.583950  \n",
       "8  1.483593  \n",
       "9  1.340766  "
      ]
     },
     "execution_count": 6,
     "metadata": {},
     "output_type": "execute_result"
    }
   ],
   "source": [
    "headlines_ab.head(10)"
   ]
  },
  {
   "cell_type": "code",
   "execution_count": 14,
   "metadata": {},
   "outputs": [],
   "source": [
    "ac = audience_link_actors.merge(headlines_ab, on=['d1', 'd2'], suffixes=('_audience', '_content'))\n",
    "ac['score_content'] = -ac['score_content']"
   ]
  },
  {
   "cell_type": "code",
   "execution_count": 44,
   "metadata": {},
   "outputs": [],
   "source": [
    "points = (alt\n",
    "     .Chart(ac)\n",
    "     .mark_circle(size=50)\n",
    "     .encode(x='score_audience', y='score_content', tooltip='label_content'))"
   ]
  },
  {
   "cell_type": "code",
   "execution_count": 45,
   "metadata": {},
   "outputs": [],
   "source": [
    "xfit = np.linspace(ac.score_audience.min(), ac.score_audience.max())\n",
    "yfit = np.poly1d(np.polyfit(ac.score_audience, ac.score_content, 1))(xfit)\n",
    "fit_df = pd.DataFrame(list(zip(xfit, yfit)), columns=('x', 'y'))"
   ]
  },
  {
   "cell_type": "code",
   "execution_count": 42,
   "metadata": {},
   "outputs": [],
   "source": [
    "fit = alt.Chart(fit_df).mark_line().encode(x='x', y='y')"
   ]
  },
  {
   "cell_type": "code",
   "execution_count": 46,
   "metadata": {},
   "outputs": [
    {
     "data": {
      "application/vnd.vegalite.v2+json": {
       "$schema": "https://vega.github.io/schema/vega-lite/v2.6.0.json",
       "config": {
        "view": {
         "height": 300,
         "width": 400
        }
       },
       "datasets": {
        "data-a591b6f15f4b8ce1673c1fe4cbaac48c": [
         {
          "x": -2.0358835554,
          "y": -0.889137182708751
         },
         {
          "x": -1.930595596887755,
          "y": -0.8431544748295371
         },
         {
          "x": -1.82530763837551,
          "y": -0.7971717669503232
         },
         {
          "x": -1.7200196798632652,
          "y": -0.7511890590711093
         },
         {
          "x": -1.6147317213510202,
          "y": -0.7052063511918953
         },
         {
          "x": -1.5094437628387753,
          "y": -0.6592236433126815
         },
         {
          "x": -1.4041558043265305,
          "y": -0.6132409354334677
         },
         {
          "x": -1.2988678458142857,
          "y": -0.5672582275542538
         },
         {
          "x": -1.1935798873020407,
          "y": -0.5212755196750398
         },
         {
          "x": -1.0882919287897956,
          "y": -0.4752928117958259
         },
         {
          "x": -0.9830039702775508,
          "y": -0.429310103916612
         },
         {
          "x": -0.877716011765306,
          "y": -0.3833273960373981
         },
         {
          "x": -0.7724280532530612,
          "y": -0.3373446881581843
         },
         {
          "x": -0.6671400947408161,
          "y": -0.2913619802789703
         },
         {
          "x": -0.5618521362285713,
          "y": -0.2453792723997565
         },
         {
          "x": -0.4565641777163263,
          "y": -0.19939656452054252
         },
         {
          "x": -0.3512762192040815,
          "y": -0.15341385664132867
         },
         {
          "x": -0.24598826069183666,
          "y": -0.10743114876211479
         },
         {
          "x": -0.14070030217959162,
          "y": -0.061448440882900836
         },
         {
          "x": -0.03541234366734658,
          "y": -0.015465733003686878
         },
         {
          "x": 0.06987561484489824,
          "y": 0.030516974875526987
         },
         {
          "x": 0.17516357335714305,
          "y": 0.07649968275474084
         },
         {
          "x": 0.28045153186938787,
          "y": 0.1224823906339547
         },
         {
          "x": 0.3857394903816327,
          "y": 0.16846509851316857
         },
         {
          "x": 0.4910274488938775,
          "y": 0.21444780639238242
         },
         {
          "x": 0.5963154074061228,
          "y": 0.2604305142715965
         },
         {
          "x": 0.7016033659183676,
          "y": 0.30641322215081035
         },
         {
          "x": 0.8068913244306124,
          "y": 0.35239593003002423
         },
         {
          "x": 0.9121792829428572,
          "y": 0.3983786379092381
         },
         {
          "x": 1.017467241455102,
          "y": 0.444361345788452
         },
         {
          "x": 1.1227551999673473,
          "y": 0.49034405366766604
         },
         {
          "x": 1.2280431584795921,
          "y": 0.5363267615468799
         },
         {
          "x": 1.333331116991837,
          "y": 0.5823094694260937
         },
         {
          "x": 1.4386190755040817,
          "y": 0.6282921773053076
         },
         {
          "x": 1.5439070340163266,
          "y": 0.6742748851845215
         },
         {
          "x": 1.6491949925285718,
          "y": 0.7202575930637355
         },
         {
          "x": 1.7544829510408166,
          "y": 0.7662403009429494
         },
         {
          "x": 1.8597709095530615,
          "y": 0.8122230088221633
         },
         {
          "x": 1.9650588680653067,
          "y": 0.8582057167013774
         },
         {
          "x": 2.070346826577551,
          "y": 0.904188424580591
         },
         {
          "x": 2.1756347850897964,
          "y": 0.950171132459805
         },
         {
          "x": 2.2809227436020407,
          "y": 0.9961538403390187
         },
         {
          "x": 2.386210702114286,
          "y": 1.0421365482182328
         },
         {
          "x": 2.4914986606265312,
          "y": 1.0881192560974469
         },
         {
          "x": 2.5967866191387756,
          "y": 1.1341019639766605
         },
         {
          "x": 2.702074577651021,
          "y": 1.1800846718558746
         },
         {
          "x": 2.8073625361632653,
          "y": 1.2260673797350883
         },
         {
          "x": 2.9126504946755105,
          "y": 1.2720500876143022
         },
         {
          "x": 3.017938453187755,
          "y": 1.3180327954935158
         },
         {
          "x": 3.1232264117,
          "y": 1.36401550337273
         }
        ],
        "data-dd9739dc40a73f34b6230ac9d0391346": [
         {
          "acc": 0.7303611318000001,
          "d1": "nytimes.com",
          "d2": "washingtonpost.com",
          "label_audience": "nytimes.com - washingtonpost.com",
          "label_content": "nytimes.com - washingtonpost.com",
          "score_audience": 3.1232264117,
          "score_content": 1.5400006472999999,
          "zscore": 254.5982703973
         },
         {
          "acc": 0.7150595681,
          "d1": "breitbart.com",
          "d2": "dailycaller.com",
          "label_audience": "breitbart.com - dailycaller.com",
          "label_content": "breitbart.com - dailycaller.com",
          "score_audience": 2.8796389014,
          "score_content": 1.7985995732000002,
          "zscore": 233.759025842
         },
         {
          "acc": 0.7367088608,
          "d1": "breitbart.com",
          "d2": "foxnews.com",
          "label_audience": "breitbart.com - foxnews.com",
          "label_content": "breitbart.com - foxnews.com",
          "score_audience": 2.7688002191,
          "score_content": 1.4327229907,
          "zscore": 224.2766250196
         },
         {
          "acc": 0.7278108712,
          "d1": "cnn.com",
          "d2": "nytimes.com",
          "label_audience": "cnn.com - nytimes.com",
          "label_content": "cnn.com - nytimes.com",
          "score_audience": 2.6535878026,
          "score_content": 1.5831004683,
          "zscore": 214.4200452661
         },
         {
          "acc": 0.7235107967000001,
          "d1": "dailycaller.com",
          "d2": "foxnews.com",
          "label_audience": "dailycaller.com - foxnews.com",
          "label_content": "dailycaller.com - foxnews.com",
          "score_audience": 2.1781741085,
          "score_content": 1.6557724292,
          "zscore": 173.7477537091
         },
         {
          "acc": 0.7943782576,
          "d1": "thehill.com",
          "d2": "washingtonpost.com",
          "label_audience": "thehill.com - washingtonpost.com",
          "label_content": "thehill.com - washingtonpost.com",
          "score_audience": 2.1481235244,
          "score_content": 0.4581007615,
          "zscore": 171.1768851559
         },
         {
          "acc": 0.7224869695,
          "d1": "cnn.com",
          "d2": "washingtonpost.com",
          "label_audience": "cnn.com - washingtonpost.com",
          "label_content": "cnn.com - washingtonpost.com",
          "score_audience": 2.1276547087,
          "score_content": 1.6730752771000001,
          "zscore": 169.4257499798
         },
         {
          "acc": 0.7447691735,
          "d1": "cnn.com",
          "d2": "thehill.com",
          "label_audience": "cnn.com - thehill.com",
          "label_content": "cnn.com - thehill.com",
          "score_audience": 2.1107722273,
          "score_content": 1.2965023886,
          "zscore": 167.9814306114
         },
         {
          "acc": 0.840469099,
          "d1": "nytimes.com",
          "d2": "thehill.com",
          "label_audience": "nytimes.com - thehill.com",
          "label_content": "nytimes.com - thehill.com",
          "score_audience": 1.8135673567000001,
          "score_content": -0.3208419885,
          "zscore": 142.5551475689
         },
         {
          "acc": 0.6915301564,
          "d1": "rt.com",
          "d2": "sputniknews.com",
          "label_audience": "rt.com - sputniknews.com",
          "label_content": "rt.com - sputniknews.com",
          "score_audience": 1.6926786161,
          "score_content": 2.1962504763,
          "zscore": 132.2129505213
         },
         {
          "acc": 0.7334884587,
          "d1": "cnn.com",
          "d2": "huffingtonpost.com",
          "label_audience": "cnn.com - huffingtonpost.com",
          "label_content": "cnn.com - huffingtonpost.com",
          "score_audience": 1.0064401558,
          "score_content": 1.4871483121,
          "zscore": 73.5043119645
         },
         {
          "acc": 0.7852382725,
          "d1": "dailykos.com",
          "d2": "huffingtonpost.com",
          "label_audience": "dailykos.com - huffingtonpost.com",
          "label_content": "dailykos.com - huffingtonpost.com",
          "score_audience": 0.9309526910000001,
          "score_content": 0.6125680031,
          "zscore": 67.0462561376
         },
         {
          "acc": 0.8143335815,
          "d1": "huffingtonpost.com",
          "d2": "thehill.com",
          "label_audience": "huffingtonpost.com - thehill.com",
          "label_content": "huffingtonpost.com - thehill.com",
          "score_audience": 0.9115597667,
          "score_content": 0.1208525272,
          "zscore": 65.3871649452
         },
         {
          "acc": 0.7463886821,
          "d1": "nytimes.com",
          "d2": "wsj.com",
          "label_audience": "nytimes.com - wsj.com",
          "label_content": "nytimes.com - wsj.com",
          "score_audience": 0.8987833742,
          "score_content": 1.2691324293,
          "zscore": 64.294127097
         },
         {
          "acc": 0.7120439315,
          "d1": "npr.org",
          "d2": "nytimes.com",
          "label_audience": "npr.org - nytimes.com",
          "label_content": "npr.org - nytimes.com",
          "score_audience": 0.8961321026,
          "score_content": 1.849564325,
          "zscore": 64.0673071901
         },
         {
          "acc": 0.7688011914,
          "d1": "huffingtonpost.com",
          "d2": "nytimes.com",
          "label_audience": "huffingtonpost.com - nytimes.com",
          "label_content": "huffingtonpost.com - nytimes.com",
          "score_audience": 0.8863752684,
          "score_content": 0.8903573602,
          "zscore": 63.2325966884
         },
         {
          "acc": 0.8158227848,
          "d1": "apnews.com",
          "d2": "washingtonpost.com",
          "label_audience": "apnews.com - washingtonpost.com",
          "label_content": "apnews.com - washingtonpost.com",
          "score_audience": 0.8546471539,
          "score_content": 0.09568474860000001,
          "zscore": 60.5182131051
         },
         {
          "acc": 0.8853127327,
          "d1": "apnews.com",
          "d2": "dailykos.com",
          "label_audience": "apnews.com - dailykos.com",
          "label_content": "apnews.com - dailykos.com",
          "score_audience": 0.8414677646000001,
          "score_content": -1.0787067238999999,
          "zscore": 59.3906983289
         },
         {
          "acc": 0.7975428146,
          "d1": "apnews.com",
          "d2": "nytimes.com",
          "label_audience": "apnews.com - nytimes.com",
          "label_content": "apnews.com - nytimes.com",
          "score_audience": 0.8348408271000001,
          "score_content": 0.40461923180000003,
          "zscore": 58.823754766
         },
         {
          "acc": 0.8400595681,
          "d1": "dailykos.com",
          "d2": "npr.org",
          "label_audience": "dailykos.com - npr.org",
          "label_content": "dailykos.com - npr.org",
          "score_audience": 0.8300418231000001,
          "score_content": -0.31392084940000003,
          "zscore": 58.4131934168
         },
         {
          "acc": 0.7326321668,
          "d1": "huffingtonpost.com",
          "d2": "washingtonpost.com",
          "label_audience": "huffingtonpost.com - washingtonpost.com",
          "label_content": "huffingtonpost.com - washingtonpost.com",
          "score_audience": 0.8082026486,
          "score_content": 1.5016197848,
          "zscore": 56.5448221748
         },
         {
          "acc": 0.7129560685,
          "d1": "bloomberg.com",
          "d2": "wsj.com",
          "label_audience": "bloomberg.com - wsj.com",
          "label_content": "bloomberg.com - wsj.com",
          "score_audience": 0.7453245348,
          "score_content": 1.8341490606000002,
          "zscore": 51.1655135718
         },
         {
          "acc": 0.7279784066,
          "d1": "npr.org",
          "d2": "washingtonpost.com",
          "label_audience": "npr.org - washingtonpost.com",
          "label_content": "npr.org - washingtonpost.com",
          "score_audience": 0.7442414583,
          "score_content": 1.5802690932,
          "zscore": 51.072854891
         },
         {
          "acc": 0.7459977662,
          "d1": "apnews.com",
          "d2": "cnn.com",
          "label_audience": "apnews.com - cnn.com",
          "label_content": "apnews.com - cnn.com",
          "score_audience": 0.7363745496,
          "score_content": 1.2757389712,
          "zscore": 50.3998300989
         },
         {
          "acc": 0.8069806404000001,
          "d1": "dailykos.com",
          "d2": "thehill.com",
          "label_audience": "dailykos.com - thehill.com",
          "label_content": "dailykos.com - thehill.com",
          "score_audience": 0.7269264201000001,
          "score_content": 0.2451184344,
          "zscore": 49.5915297001
         },
         {
          "acc": 0.7935219657,
          "d1": "washingtonpost.com",
          "d2": "wsj.com",
          "label_audience": "washingtonpost.com - wsj.com",
          "label_content": "washingtonpost.com - wsj.com",
          "score_audience": 0.7209379419,
          "score_content": 0.4725722342,
          "zscore": 49.079207205
         },
         {
          "acc": 0.7626768429,
          "d1": "dailykos.com",
          "d2": "washingtonpost.com",
          "label_audience": "dailykos.com - washingtonpost.com",
          "label_content": "dailykos.com - washingtonpost.com",
          "score_audience": 0.6712773594,
          "score_content": 0.99385985,
          "zscore": 44.8306764712
         },
         {
          "acc": 0.8162137007,
          "d1": "apnews.com",
          "d2": "thehill.com",
          "label_audience": "apnews.com - thehill.com",
          "label_content": "apnews.com - thehill.com",
          "score_audience": 0.6561533675,
          "score_content": 0.08907820670000001,
          "zscore": 43.5367982853
         },
         {
          "acc": 0.8119322413000001,
          "d1": "bloomberg.com",
          "d2": "nytimes.com",
          "label_audience": "bloomberg.com - nytimes.com",
          "label_content": "bloomberg.com - nytimes.com",
          "score_audience": 0.6316614523,
          "score_content": 0.1614355703,
          "zscore": 41.4414814489
         },
         {
          "acc": 0.8444527178000001,
          "d1": "dailykos.com",
          "d2": "nytimes.com",
          "label_audience": "dailykos.com - nytimes.com",
          "label_content": "dailykos.com - nytimes.com",
          "score_audience": 0.6224419699,
          "score_content": -0.3881657965,
          "zscore": 40.652742123
         },
         {
          "acc": 0.8083767684000001,
          "d1": "apnews.com",
          "d2": "wsj.com",
          "label_audience": "apnews.com - wsj.com",
          "label_content": "apnews.com - wsj.com",
          "score_audience": 0.5120898925,
          "score_content": 0.2215236419,
          "zscore": 31.2119710186
         },
         {
          "acc": 0.8078741623,
          "d1": "cnn.com",
          "d2": "dailykos.com",
          "label_audience": "cnn.com - dailykos.com",
          "label_content": "cnn.com - dailykos.com",
          "score_audience": 0.47610566270000004,
          "score_content": 0.2300177672,
          "zscore": 28.1334709582
         },
         {
          "acc": 0.8798771407,
          "d1": "dailykos.com",
          "d2": "wsj.com",
          "label_audience": "dailykos.com - wsj.com",
          "label_content": "dailykos.com - wsj.com",
          "score_audience": 0.45567060680000004,
          "score_content": -0.9868443317000001,
          "zscore": 26.3852239899
         },
         {
          "acc": 0.8958302308,
          "d1": "buzzfeed.com",
          "d2": "dailykos.com",
          "label_audience": "buzzfeed.com - dailykos.com",
          "label_content": "buzzfeed.com - dailykos.com",
          "score_audience": 0.3708508018,
          "score_content": -1.2564541608,
          "zscore": 19.1287736987
         },
         {
          "acc": 0.8422002978,
          "d1": "breitbart.com",
          "d2": "sputniknews.com",
          "label_audience": "breitbart.com - sputniknews.com",
          "label_content": "breitbart.com - sputniknews.com",
          "score_audience": 0.3395833802,
          "score_content": -0.35009953120000004,
          "zscore": 16.4538030287
         },
         {
          "acc": 0.8192479523,
          "d1": "breitbart.com",
          "d2": "rt.com",
          "label_audience": "breitbart.com - rt.com",
          "label_content": "breitbart.com - rt.com",
          "score_audience": 0.3395614562,
          "score_content": 0.0377988576,
          "zscore": 16.4519273986
         },
         {
          "acc": 0.8985666418,
          "d1": "bloomberg.com",
          "d2": "dailykos.com",
          "label_audience": "bloomberg.com - dailykos.com",
          "label_content": "bloomberg.com - dailykos.com",
          "score_audience": 0.33898449610000003,
          "score_content": -1.3026999541,
          "zscore": 16.402567679
         },
         {
          "acc": 0.8760796724000001,
          "d1": "buzzfeed.com",
          "d2": "cnn.com",
          "label_audience": "buzzfeed.com - cnn.com",
          "label_content": "buzzfeed.com - cnn.com",
          "score_audience": 0.33293156960000003,
          "score_content": -0.9226664961000001,
          "zscore": 15.8847315415
         },
         {
          "acc": 0.7871742368,
          "d1": "apnews.com",
          "d2": "npr.org",
          "label_audience": "apnews.com - npr.org",
          "label_content": "apnews.com - npr.org",
          "score_audience": 0.3283013548,
          "score_content": 0.5798498908,
          "zscore": 15.4886103288
         },
         {
          "acc": 0.7649478779000001,
          "d1": "cnn.com",
          "d2": "wsj.com",
          "label_audience": "cnn.com - wsj.com",
          "label_content": "cnn.com - wsj.com",
          "score_audience": 0.3116409052,
          "score_content": 0.9554789876,
          "zscore": 14.0632860885
         },
         {
          "acc": 0.846816828,
          "d1": "thehill.com",
          "d2": "wsj.com",
          "label_audience": "thehill.com - wsj.com",
          "label_content": "thehill.com - wsj.com",
          "score_audience": 0.30114247710000003,
          "score_content": -0.4281196451,
          "zscore": 13.1651312132
         },
         {
          "acc": 0.8376954579,
          "d1": "bloomberg.com",
          "d2": "washingtonpost.com",
          "label_audience": "bloomberg.com - washingtonpost.com",
          "label_content": "bloomberg.com - washingtonpost.com",
          "score_audience": 0.2941425394,
          "score_content": -0.2739670007,
          "zscore": 12.5662769681
         },
         {
          "acc": 0.7710722264000001,
          "d1": "huffingtonpost.com",
          "d2": "npr.org",
          "label_audience": "huffingtonpost.com - npr.org",
          "label_content": "huffingtonpost.com - npr.org",
          "score_audience": 0.2609901083,
          "score_content": 0.8519764978000001,
          "zscore": 9.7300411576
         },
         {
          "acc": 0.8407669397,
          "d1": "apnews.com",
          "d2": "huffingtonpost.com",
          "label_audience": "apnews.com - huffingtonpost.com",
          "label_content": "apnews.com - huffingtonpost.com",
          "score_audience": 0.25927585540000003,
          "score_content": -0.3258755443,
          "zscore": 9.5833844766
         },
         {
          "acc": 0.7629746835,
          "d1": "foxnews.com",
          "d2": "thehill.com",
          "label_audience": "foxnews.com - thehill.com",
          "label_content": "foxnews.com - thehill.com",
          "score_audience": 0.2027203715,
          "score_content": 0.9888262943,
          "zscore": 4.7449855028
         },
         {
          "acc": 0.8310871184,
          "d1": "buzzfeed.com",
          "d2": "huffingtonpost.com",
          "label_audience": "buzzfeed.com - huffingtonpost.com",
          "label_content": "buzzfeed.com - huffingtonpost.com",
          "score_audience": 0.17992470030000002,
          "score_content": -0.1622849829,
          "zscore": 2.7947846699000003
         },
         {
          "acc": 0.9235480268,
          "d1": "buzzfeed.com",
          "d2": "thehill.com",
          "label_audience": "buzzfeed.com - thehill.com",
          "label_content": "buzzfeed.com - thehill.com",
          "score_audience": 0.1759131432,
          "score_content": -1.7248894414,
          "zscore": 2.4515904701
         },
         {
          "acc": 0.8244043187000001,
          "d1": "npr.org",
          "d2": "thehill.com",
          "label_audience": "npr.org - thehill.com",
          "label_content": "npr.org - thehill.com",
          "score_audience": 0.1582930937,
          "score_content": -0.0493445761,
          "zscore": 0.9441711438
         },
         {
          "acc": 0.8850893522000001,
          "d1": "buzzfeed.com",
          "d2": "nytimes.com",
          "label_audience": "buzzfeed.com - nytimes.com",
          "label_content": "buzzfeed.com - nytimes.com",
          "score_audience": 0.1507666289,
          "score_content": -1.0749315571,
          "zscore": 0.3002717945
         },
         {
          "acc": 0.841381236,
          "d1": "apnews.com",
          "d2": "bloomberg.com",
          "label_audience": "apnews.com - bloomberg.com",
          "label_content": "apnews.com - bloomberg.com",
          "score_audience": 0.1480931816,
          "score_content": -0.33625725300000003,
          "zscore": 0.0715547205
         },
         {
          "acc": 0.7315524944,
          "d1": "cnn.com",
          "d2": "npr.org",
          "label_audience": "cnn.com - npr.org",
          "label_content": "cnn.com - npr.org",
          "score_audience": 0.1284518635,
          "score_content": 1.5198664244,
          "zscore": -1.6087868976
         },
         {
          "acc": 0.8035368578000001,
          "d1": "bloomberg.com",
          "d2": "cnn.com",
          "label_audience": "bloomberg.com - cnn.com",
          "label_content": "bloomberg.com - cnn.com",
          "score_audience": 0.1232386792,
          "score_content": 0.3033189226,
          "zscore": -2.0547819465
         },
         {
          "acc": 0.8762658228,
          "d1": "dailycaller.com",
          "d2": "sputniknews.com",
          "label_audience": "dailycaller.com - sputniknews.com",
          "label_content": "dailycaller.com - sputniknews.com",
          "score_audience": 0.11994614020000001,
          "score_content": -0.9258124685,
          "zscore": -2.3364631612
         },
         {
          "acc": 0.7815524944000001,
          "d1": "npr.org",
          "d2": "wsj.com",
          "label_audience": "npr.org - wsj.com",
          "label_content": "npr.org - wsj.com",
          "score_audience": 0.1068465806,
          "score_content": 0.6748582553,
          "zscore": -3.4571483934
         },
         {
          "acc": 0.8574832465000001,
          "d1": "dailycaller.com",
          "d2": "rt.com",
          "label_audience": "dailycaller.com - rt.com",
          "label_content": "dailycaller.com - rt.com",
          "score_audience": 0.0645025125,
          "score_content": -0.6083838599,
          "zscore": -7.0797413139
         },
         {
          "acc": 0.935927029,
          "d1": "apnews.com",
          "d2": "buzzfeed.com",
          "label_audience": "apnews.com - buzzfeed.com",
          "label_content": "apnews.com - buzzfeed.com",
          "score_audience": 0.0277033478,
          "score_content": -1.9340966017,
          "zscore": -10.2279601663
         },
         {
          "acc": 0.8373976173000001,
          "d1": "foxnews.com",
          "d2": "sputniknews.com",
          "label_audience": "foxnews.com - sputniknews.com",
          "label_content": "foxnews.com - sputniknews.com",
          "score_audience": -0.015457512100000001,
          "score_content": -0.268933445,
          "zscore": -13.9204307477
         },
         {
          "acc": 0.7494229337,
          "d1": "dailycaller.com",
          "d2": "thehill.com",
          "label_audience": "dailycaller.com - thehill.com",
          "label_content": "dailycaller.com - thehill.com",
          "score_audience": -0.0202802917,
          "score_content": 1.2178530803,
          "zscore": -14.3330261396
         },
         {
          "acc": 0.8302494415,
          "d1": "huffingtonpost.com",
          "d2": "wsj.com",
          "label_audience": "huffingtonpost.com - wsj.com",
          "label_content": "huffingtonpost.com - wsj.com",
          "score_audience": -0.0366591431,
          "score_content": -0.14812810740000001,
          "zscore": -15.7342592687
         },
         {
          "acc": 0.8739017126,
          "d1": "bloomberg.com",
          "d2": "sputniknews.com",
          "label_audience": "bloomberg.com - sputniknews.com",
          "label_content": "bloomberg.com - sputniknews.com",
          "score_audience": -0.0457038176,
          "score_content": -0.8858586198,
          "zscore": -16.5080435424
         },
         {
          "acc": 0.8568131050000001,
          "d1": "buzzfeed.com",
          "d2": "washingtonpost.com",
          "label_audience": "buzzfeed.com - washingtonpost.com",
          "label_content": "buzzfeed.com - washingtonpost.com",
          "score_audience": -0.0641213043,
          "score_content": -0.5970583595,
          "zscore": -18.0836847085
         },
         {
          "acc": 0.8168652271,
          "d1": "foxnews.com",
          "d2": "wsj.com",
          "label_audience": "foxnews.com - wsj.com",
          "label_content": "foxnews.com - wsj.com",
          "score_audience": -0.1189269352,
          "score_content": 0.0780673035,
          "zscore": -22.7723813684
         },
         {
          "acc": 0.8711280715,
          "d1": "bloomberg.com",
          "d2": "thehill.com",
          "label_audience": "bloomberg.com - thehill.com",
          "label_content": "bloomberg.com - thehill.com",
          "score_audience": -0.1408574829,
          "score_content": -0.838983632,
          "zscore": -24.6485697089
         },
         {
          "acc": 0.8624348474,
          "d1": "sputniknews.com",
          "d2": "wsj.com",
          "label_audience": "sputniknews.com - wsj.com",
          "label_content": "sputniknews.com - wsj.com",
          "score_audience": -0.15491111400000002,
          "score_content": -0.692066724,
          "zscore": -25.8508770615
         },
         {
          "acc": 0.8649292628,
          "d1": "bloomberg.com",
          "d2": "huffingtonpost.com",
          "label_audience": "bloomberg.com - huffingtonpost.com",
          "label_content": "bloomberg.com - huffingtonpost.com",
          "score_audience": -0.1979184433,
          "score_content": -0.7342227533,
          "zscore": -29.5302128842
         },
         {
          "acc": 0.8124348474,
          "d1": "foxnews.com",
          "d2": "rt.com",
          "label_audience": "foxnews.com - rt.com",
          "label_content": "foxnews.com - rt.com",
          "score_audience": -0.20202198840000002,
          "score_content": 0.152941445,
          "zscore": -29.8812767778
         },
         {
          "acc": 0.8435964259000001,
          "d1": "bloomberg.com",
          "d2": "npr.org",
          "label_audience": "bloomberg.com - npr.org",
          "label_content": "bloomberg.com - npr.org",
          "score_audience": -0.2044034424,
          "score_content": -0.3736943238,
          "zscore": -30.0850134247
         },
         {
          "acc": 0.9182241251000001,
          "d1": "dailykos.com",
          "d2": "sputniknews.com",
          "label_audience": "dailykos.com - sputniknews.com",
          "label_content": "dailykos.com - sputniknews.com",
          "score_audience": -0.2056029034,
          "score_content": -1.6349146326000001,
          "zscore": -30.1876289537
         },
         {
          "acc": 0.8926470588000001,
          "d1": "buzzfeed.com",
          "d2": "npr.org",
          "label_audience": "buzzfeed.com - npr.org",
          "label_content": "buzzfeed.com - npr.org",
          "score_audience": -0.2234351145,
          "score_content": -1.2026580339,
          "zscore": -31.7131989968
         },
         {
          "acc": 0.8333023083000001,
          "d1": "apnews.com",
          "d2": "sputniknews.com",
          "label_audience": "apnews.com - sputniknews.com",
          "label_content": "apnews.com - sputniknews.com",
          "score_audience": -0.27904273020000003,
          "score_content": -0.1997220537,
          "zscore": -36.4705065486
         },
         {
          "acc": 0.6962025316,
          "d1": "cnn.com",
          "d2": "foxnews.com",
          "label_audience": "cnn.com - foxnews.com",
          "label_content": "cnn.com - foxnews.com",
          "score_audience": -0.28673235340000003,
          "score_content": 2.1172865707,
          "zscore": -37.1283643274
         },
         {
          "acc": 0.9183544304000001,
          "d1": "buzzfeed.com",
          "d2": "wsj.com",
          "label_audience": "buzzfeed.com - wsj.com",
          "label_content": "buzzfeed.com - wsj.com",
          "score_audience": -0.3310302465,
          "score_content": -1.6371168133,
          "zscore": -40.9181096526
         },
         {
          "acc": 0.8638868206,
          "d1": "nytimes.com",
          "d2": "sputniknews.com",
          "label_audience": "nytimes.com - sputniknews.com",
          "label_content": "nytimes.com - sputniknews.com",
          "score_audience": -0.3317078849,
          "score_content": -0.7166053082,
          "zscore": -40.9760825456
         },
         {
          "acc": 0.7725986597000001,
          "d1": "breitbart.com",
          "d2": "thehill.com",
          "label_audience": "breitbart.com - thehill.com",
          "label_content": "breitbart.com - thehill.com",
          "score_audience": -0.3331590099,
          "score_content": 0.8261795246,
          "zscore": -41.1002282698
         },
         {
          "acc": 0.9245718541,
          "d1": "bloomberg.com",
          "d2": "buzzfeed.com",
          "label_audience": "bloomberg.com - buzzfeed.com",
          "label_content": "bloomberg.com - buzzfeed.com",
          "score_audience": -0.3374333625,
          "score_content": -1.7421922893000001,
          "zscore": -41.4659049782
         },
         {
          "acc": 0.8488644825,
          "d1": "dailycaller.com",
          "d2": "wsj.com",
          "label_audience": "dailycaller.com - wsj.com",
          "label_content": "dailycaller.com - wsj.com",
          "score_audience": -0.3423604522,
          "score_content": -0.4627253408,
          "zscore": -41.8874242399
         },
         {
          "acc": 0.8644080417000001,
          "d1": "npr.org",
          "d2": "sputniknews.com",
          "label_audience": "npr.org - sputniknews.com",
          "label_content": "npr.org - sputniknews.com",
          "score_audience": -0.38061982400000005,
          "score_content": -0.7254140307,
          "zscore": -45.1605658126
         },
         {
          "acc": 0.9432055101000001,
          "d1": "buzzfeed.com",
          "d2": "sputniknews.com",
          "label_audience": "buzzfeed.com - sputniknews.com",
          "label_content": "buzzfeed.com - sputniknews.com",
          "score_audience": -0.43007330120000004,
          "score_content": -2.0571041199,
          "zscore": -49.3913784038
         },
         {
          "acc": 0.8718912882000001,
          "d1": "bloomberg.com",
          "d2": "rt.com",
          "label_audience": "bloomberg.com - rt.com",
          "label_content": "bloomberg.com - rt.com",
          "score_audience": -0.44972026600000004,
          "score_content": -0.8518821186000001,
          "zscore": -51.0722031075
         },
         {
          "acc": 0.7682613552,
          "d1": "foxnews.com",
          "d2": "washingtonpost.com",
          "label_audience": "foxnews.com - washingtonpost.com",
          "label_content": "foxnews.com - washingtonpost.com",
          "score_audience": -0.5420513114000001,
          "score_content": 0.89948068,
          "zscore": -58.9712502816
         },
         {
          "acc": 0.871816828,
          "d1": "sputniknews.com",
          "d2": "washingtonpost.com",
          "label_audience": "sputniknews.com - washingtonpost.com",
          "label_content": "sputniknews.com - washingtonpost.com",
          "score_audience": -0.5746150533000001,
          "score_content": -0.8506237297,
          "zscore": -61.757122924
         },
         {
          "acc": 0.835927029,
          "d1": "cnn.com",
          "d2": "sputniknews.com",
          "label_audience": "cnn.com - sputniknews.com",
          "label_content": "cnn.com - sputniknews.com",
          "score_audience": -0.5883422567000001,
          "score_content": -0.2440802636,
          "zscore": -62.9315039467
         },
         {
          "acc": 0.8482874162,
          "d1": "breitbart.com",
          "d2": "wsj.com",
          "label_audience": "breitbart.com - wsj.com",
          "label_content": "breitbart.com - wsj.com",
          "score_audience": -0.5925429419,
          "score_content": -0.4529728266,
          "zscore": -63.2908783093
         },
         {
          "acc": 0.8909344751,
          "d1": "huffingtonpost.com",
          "d2": "sputniknews.com",
          "label_audience": "huffingtonpost.com - sputniknews.com",
          "label_content": "huffingtonpost.com - sputniknews.com",
          "score_audience": -0.6225270115,
          "score_content": -1.1737150884,
          "zscore": -65.8560564571
         },
         {
          "acc": 0.8615227103,
          "d1": "nytimes.com",
          "d2": "rt.com",
          "label_audience": "nytimes.com - rt.com",
          "label_content": "nytimes.com - rt.com",
          "score_audience": -0.6378117347000001,
          "score_content": -0.6766514596000001,
          "zscore": -67.163685423
         },
         {
          "acc": 0.8177029039,
          "d1": "cnn.com",
          "d2": "rt.com",
          "label_audience": "cnn.com - rt.com",
          "label_content": "cnn.com - rt.com",
          "score_audience": -0.6389634270000001,
          "score_content": 0.063910428,
          "zscore": -67.2622142719
         },
         {
          "acc": 0.7895197319,
          "d1": "foxnews.com",
          "d2": "nytimes.com",
          "label_audience": "foxnews.com - nytimes.com",
          "label_content": "foxnews.com - nytimes.com",
          "score_audience": -0.6752192683,
          "score_content": 0.5402106394,
          "zscore": -70.3639510687
         },
         {
          "acc": 0.8366530156,
          "d1": "apnews.com",
          "d2": "dailycaller.com",
          "label_audience": "apnews.com - dailycaller.com",
          "label_content": "apnews.com - dailycaller.com",
          "score_audience": -0.6807656708000001,
          "score_content": -0.2563495557,
          "zscore": -70.8384533878
         },
         {
          "acc": 0.8643149665000001,
          "d1": "rt.com",
          "d2": "wsj.com",
          "label_audience": "rt.com - wsj.com",
          "label_content": "rt.com - wsj.com",
          "score_audience": -0.6933020069,
          "score_content": -0.7238410446,
          "zscore": -71.9109540821
         },
         {
          "acc": 0.9385145197,
          "d1": "buzzfeed.com",
          "d2": "rt.com",
          "label_audience": "buzzfeed.com - rt.com",
          "label_content": "buzzfeed.com - rt.com",
          "score_audience": -0.6951104829,
          "score_content": -1.9778256171000002,
          "zscore": -72.0656716756
         },
         {
          "acc": 0.813179449,
          "d1": "apnews.com",
          "d2": "rt.com",
          "label_audience": "apnews.com - rt.com",
          "label_content": "apnews.com - rt.com",
          "score_audience": -0.7110821656,
          "score_content": 0.1403575557,
          "zscore": -73.4320709708
         },
         {
          "acc": 0.8862620998,
          "d1": "sputniknews.com",
          "d2": "thehill.com",
          "label_audience": "sputniknews.com - thehill.com",
          "label_content": "sputniknews.com - thehill.com",
          "score_audience": -0.730740743,
          "score_content": -1.0947511828,
          "zscore": -75.1138891426
         },
         {
          "acc": 0.7494229337,
          "d1": "cnn.com",
          "d2": "dailycaller.com",
          "label_audience": "cnn.com - dailycaller.com",
          "label_content": "cnn.com - dailycaller.com",
          "score_audience": -0.7442217775000001,
          "score_content": 1.2178530803,
          "zscore": -76.2672100776
         },
         {
          "acc": 0.8736597171,
          "d1": "rt.com",
          "d2": "thehill.com",
          "label_audience": "rt.com - thehill.com",
          "label_content": "rt.com - thehill.com",
          "score_audience": -0.7493004994,
          "score_content": -0.8817688558000001,
          "zscore": -76.7017016836
         },
         {
          "acc": 0.8352010424,
          "d1": "dailykos.com",
          "d2": "foxnews.com",
          "label_audience": "dailykos.com - foxnews.com",
          "label_content": "dailykos.com - foxnews.com",
          "score_audience": -0.749395338,
          "score_content": -0.23181097150000002,
          "zscore": -76.7098152502
         },
         {
          "acc": 0.851824274,
          "d1": "bloomberg.com",
          "d2": "foxnews.com",
          "label_audience": "bloomberg.com - foxnews.com",
          "label_content": "bloomberg.com - foxnews.com",
          "score_audience": -0.7667703518000001,
          "score_content": -0.5127463009000001,
          "zscore": -78.1962714439
         },
         {
          "acc": 0.9092702904000001,
          "d1": "dailykos.com",
          "d2": "rt.com",
          "label_audience": "dailykos.com - rt.com",
          "label_content": "dailykos.com - rt.com",
          "score_audience": -0.7888706927,
          "score_content": -1.4835933634,
          "zscore": -80.0869858261
         },
         {
          "acc": 0.7266195086,
          "d1": "apnews.com",
          "d2": "foxnews.com",
          "label_audience": "apnews.com - foxnews.com",
          "label_content": "apnews.com - foxnews.com",
          "score_audience": -0.7901597885,
          "score_content": 1.6032346912,
          "zscore": -80.1972697336
         },
         {
          "acc": 0.8639240506,
          "d1": "rt.com",
          "d2": "washingtonpost.com",
          "label_audience": "rt.com - washingtonpost.com",
          "label_content": "rt.com - washingtonpost.com",
          "score_audience": -0.8123670692,
          "score_content": -0.7172345027,
          "zscore": -82.0971329603
         },
         {
          "acc": 0.8564594192,
          "d1": "npr.org",
          "d2": "rt.com",
          "label_audience": "npr.org - rt.com",
          "label_content": "npr.org - rt.com",
          "score_audience": -0.9304652489,
          "score_content": -0.5910810121,
          "zscore": -92.2005937042
         },
         {
          "acc": 0.7756701415,
          "d1": "foxnews.com",
          "d2": "huffingtonpost.com",
          "label_audience": "foxnews.com - huffingtonpost.com",
          "label_content": "foxnews.com - huffingtonpost.com",
          "score_audience": -0.9417034775,
          "score_content": 0.7742709811,
          "zscore": -93.1620395269
         },
         {
          "acc": 0.8231198809,
          "d1": "dailycaller.com",
          "d2": "nytimes.com",
          "label_audience": "dailycaller.com - nytimes.com",
          "label_content": "dailycaller.com - nytimes.com",
          "score_audience": -0.9509793877,
          "score_content": -0.027637367000000003,
          "zscore": -93.9556063288
         },
         {
          "acc": 0.7670513775000001,
          "d1": "dailycaller.com",
          "d2": "washingtonpost.com",
          "label_audience": "dailycaller.com - washingtonpost.com",
          "label_content": "dailycaller.com - washingtonpost.com",
          "score_audience": -0.9537263857,
          "score_content": 0.9199295002000001,
          "zscore": -94.1906157625
         },
         {
          "acc": 0.8217237528,
          "d1": "apnews.com",
          "d2": "breitbart.com",
          "label_audience": "apnews.com - breitbart.com",
          "label_content": "apnews.com - breitbart.com",
          "score_audience": -0.9993764515,
          "score_content": -0.0040425744,
          "zscore": -98.0960413109
         },
         {
          "acc": 0.8731012658,
          "d1": "bloomberg.com",
          "d2": "breitbart.com",
          "label_audience": "bloomberg.com - breitbart.com",
          "label_content": "bloomberg.com - breitbart.com",
          "score_audience": -1.1123360518,
          "score_content": -0.8723309388,
          "zscore": -107.7598895659
         },
         {
          "acc": 0.9008190618,
          "d1": "buzzfeed.com",
          "d2": "foxnews.com",
          "label_audience": "buzzfeed.com - foxnews.com",
          "label_content": "buzzfeed.com - foxnews.com",
          "score_audience": -1.1199762976,
          "score_content": -1.3407662194,
          "zscore": -108.4135230373
         },
         {
          "acc": 0.8277922561000001,
          "d1": "breitbart.com",
          "d2": "nytimes.com",
          "label_audience": "breitbart.com - nytimes.com",
          "label_content": "breitbart.com - nytimes.com",
          "score_audience": -1.1397592554,
          "score_content": -0.1066012726,
          "zscore": -110.1059821228
         },
         {
          "acc": 0.7998883098,
          "d1": "breitbart.com",
          "d2": "washingtonpost.com",
          "label_audience": "breitbart.com - washingtonpost.com",
          "label_content": "breitbart.com - washingtonpost.com",
          "score_audience": -1.1525447649,
          "score_content": 0.3649799804,
          "zscore": -111.1997999424
         },
         {
          "acc": 0.8222263589000001,
          "d1": "breitbart.com",
          "d2": "dailykos.com",
          "label_audience": "breitbart.com - dailykos.com",
          "label_content": "breitbart.com - dailykos.com",
          "score_audience": -1.2458924517,
          "score_content": -0.0125366998,
          "zscore": -119.1858221802
         },
         {
          "acc": 0.8700111690000001,
          "d1": "bloomberg.com",
          "d2": "dailycaller.com",
          "label_audience": "bloomberg.com - dailycaller.com",
          "label_content": "bloomberg.com - dailycaller.com",
          "score_audience": -1.2811776042,
          "score_content": -0.820107798,
          "zscore": -122.2045152248
         },
         {
          "acc": 0.8291697692000001,
          "d1": "breitbart.com",
          "d2": "npr.org",
          "label_audience": "breitbart.com - npr.org",
          "label_content": "breitbart.com - npr.org",
          "score_audience": -1.2957649908,
          "score_content": -0.1298814678,
          "zscore": -123.4524860896
         },
         {
          "acc": 0.8763030529,
          "d1": "huffingtonpost.com",
          "d2": "rt.com",
          "label_audience": "huffingtonpost.com - rt.com",
          "label_content": "huffingtonpost.com - rt.com",
          "score_audience": -1.3139509069,
          "score_content": -0.9264416629000001,
          "zscore": -125.0083160833
         },
         {
          "acc": 0.7684847357,
          "d1": "foxnews.com",
          "d2": "npr.org",
          "label_audience": "foxnews.com - npr.org",
          "label_content": "foxnews.com - npr.org",
          "score_audience": -1.346613174,
          "score_content": 0.8957055132,
          "zscore": -127.8026176891
         },
         {
          "acc": 0.7926284438000001,
          "d1": "dailycaller.com",
          "d2": "dailykos.com",
          "label_audience": "dailycaller.com - dailykos.com",
          "label_content": "dailycaller.com - dailykos.com",
          "score_audience": -1.3482242478,
          "score_content": 0.4876729014,
          "zscore": -127.9404472566
         },
         {
          "acc": 0.7706254654,
          "d1": "breitbart.com",
          "d2": "cnn.com",
          "label_audience": "breitbart.com - cnn.com",
          "label_content": "breitbart.com - cnn.com",
          "score_audience": -1.370989431,
          "score_content": 0.8595268314000001,
          "zscore": -129.8880398022
         },
         {
          "acc": 0.8855733433,
          "d1": "buzzfeed.com",
          "d2": "dailycaller.com",
          "label_audience": "buzzfeed.com - dailycaller.com",
          "label_content": "buzzfeed.com - dailycaller.com",
          "score_audience": -1.4073688634,
          "score_content": -1.0831110852,
          "zscore": -133.0003499851
         },
         {
          "acc": 0.8049143708000001,
          "d1": "breitbart.com",
          "d2": "huffingtonpost.com",
          "label_audience": "breitbart.com - huffingtonpost.com",
          "label_content": "breitbart.com - huffingtonpost.com",
          "score_audience": -1.5748089884,
          "score_content": 0.2800387274,
          "zscore": -147.3250816228
         },
         {
          "acc": 0.7723380491,
          "d1": "dailycaller.com",
          "d2": "huffingtonpost.com",
          "label_audience": "dailycaller.com - huffingtonpost.com",
          "label_content": "dailycaller.com - huffingtonpost.com",
          "score_audience": -1.7176651265,
          "score_content": 0.8305838859,
          "zscore": -159.5466195545
         },
         {
          "acc": 0.9152084885,
          "d1": "breitbart.com",
          "d2": "buzzfeed.com",
          "label_audience": "breitbart.com - buzzfeed.com",
          "label_content": "breitbart.com - buzzfeed.com",
          "score_audience": -1.8031326791,
          "score_content": -1.5839498808,
          "zscore": -166.8584855433
         },
         {
          "acc": 0.8120997766,
          "d1": "dailycaller.com",
          "d2": "npr.org",
          "label_audience": "dailycaller.com - npr.org",
          "label_content": "dailycaller.com - npr.org",
          "score_audience": -2.0358835554,
          "score_content": 0.1586041952,
          "zscore": -186.7706412429
         }
        ]
       },
       "layer": [
        {
         "data": {
          "name": "data-dd9739dc40a73f34b6230ac9d0391346"
         },
         "encoding": {
          "tooltip": {
           "field": "label_content",
           "type": "nominal"
          },
          "x": {
           "field": "score_audience",
           "type": "quantitative"
          },
          "y": {
           "field": "score_content",
           "type": "quantitative"
          }
         },
         "mark": {
          "size": 50,
          "type": "circle"
         }
        },
        {
         "data": {
          "name": "data-a591b6f15f4b8ce1673c1fe4cbaac48c"
         },
         "encoding": {
          "x": {
           "field": "x",
           "type": "quantitative"
          },
          "y": {
           "field": "y",
           "type": "quantitative"
          }
         },
         "mark": "line"
        }
       ]
      },
      "image/png": "[encoded data removed]",
      "text/plain": [
       "<VegaLite 2 object>\n",
       "\n",
       "If you see this message, it means the renderer has not been properly enabled\n",
       "for the frontend that you are using. For more information, see\n",
       "https://altair-viz.github.io/user_guide/troubleshooting.html\n"
      ]
     },
     "execution_count": 46,
     "metadata": {},
     "output_type": "execute_result"
    }
   ],
   "source": [
    "points + fit"
   ]
  },
  {
   "cell_type": "code",
   "execution_count": 53,
   "metadata": {},
   "outputs": [],
   "source": [
    "ac['score_delta'] = ac.score_content - ac.score_audience"
   ]
  },
  {
   "cell_type": "code",
   "execution_count": 56,
   "metadata": {},
   "outputs": [
    {
     "data": {
      "text/plain": [
       "<matplotlib.axes._subplots.AxesSubplot at 0x126961160>"
      ]
     },
     "execution_count": 56,
     "metadata": {},
     "output_type": "execute_result"
    },
    {
     "data": {
      "image/png": "[encoded data removed]",
      "text/plain": [
       "<Figure size 360x2160 with 1 Axes>"
      ]
     },
     "metadata": {
      "needs_background": "light"
     },
     "output_type": "display_data"
    }
   ],
   "source": [
    "plt.figure(figsize=(5,30))\n",
    "sns.barplot(x='score_delta', y='label_content', data=ac.sort_values('score_delta', ascending=False))"
   ]
  },
  {
   "cell_type": "code",
   "execution_count": null,
   "metadata": {},
   "outputs": [],
   "source": []
  }
 ],
 "metadata": {
  "kernelspec": {
   "display_name": "Python 3",
   "language": "python",
   "name": "python3"
  },
  "language_info": {
   "codemirror_mode": {
    "name": "ipython",
    "version": 3
   },
   "file_extension": ".py",
   "mimetype": "text/x-python",
   "name": "python",
   "nbconvert_exporter": "python",
   "pygments_lexer": "ipython3",
   "version": "3.7.0"
  }
 },
 "nbformat": 4,
 "nbformat_minor": 2
}
