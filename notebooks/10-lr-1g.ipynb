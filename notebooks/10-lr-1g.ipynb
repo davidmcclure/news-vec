{
 "cells": [
  {
   "cell_type": "code",
   "execution_count": 107,
   "metadata": {},
   "outputs": [],
   "source": [
    "import warnings\n",
    "import gzip\n",
    "import ujson\n",
    "\n",
    "import pandas as pd\n",
    "import numpy as np\n",
    "\n",
    "from glob import glob\n",
    "from itertools import islice\n",
    "from tqdm import tqdm\n",
    "from boltons.iterutils import windowed\n",
    "from collections import Counter\n",
    "\n",
    "from sklearn.feature_extraction import DictVectorizer\n",
    "from sklearn.linear_model import LogisticRegression\n",
    "from sklearn.model_selection import train_test_split\n",
    "from sklearn import metrics\n",
    "\n",
    "from news_vec import logger"
   ]
  },
  {
   "cell_type": "code",
   "execution_count": 2,
   "metadata": {},
   "outputs": [],
   "source": [
    "import matplotlib as mpl\n",
    "import matplotlib.pyplot as plt\n",
    "import seaborn as sns\n",
    "\n",
    "mpl.style.use('seaborn-muted')\n",
    "sns.set(style=\"whitegrid\")\n",
    "\n",
    "%matplotlib inline"
   ]
  },
  {
   "cell_type": "code",
   "execution_count": 3,
   "metadata": {},
   "outputs": [],
   "source": [
    "warnings.simplefilter('ignore')"
   ]
  },
  {
   "cell_type": "code",
   "execution_count": 57,
   "metadata": {},
   "outputs": [],
   "source": [
    "class Line:\n",
    "\n",
    "    def __init__(self, tokens, label, lower=True):\n",
    "        self.tokens = [t.lower() for t in tokens] if lower else tokens\n",
    "        self.label = label\n",
    "\n",
    "    def __repr__(self):\n",
    "\n",
    "        pattern = '{cls_name}<{token_count} tokens -> {label}>'\n",
    "\n",
    "        return pattern.format(\n",
    "            cls_name=self.__class__.__name__,\n",
    "            token_count=len(self.tokens),\n",
    "            label=self.label,\n",
    "        )\n",
    "    \n",
    "    def ngrams_iter(self, n, vocab=None):\n",
    "        for ng in windowed(self.tokens, n):\n",
    "            if not vocab or ng in vocab:\n",
    "                yield ng\n",
    "    \n",
    "    def features_iter(self, vocab):\n",
    "        yield from Counter(self.ngrams_iter(1, vocab)).items()\n",
    "        \n",
    "    def x(self, vocab):\n",
    "        return dict(self.features_iter(vocab))"
   ]
  },
  {
   "cell_type": "code",
   "execution_count": 58,
   "metadata": {},
   "outputs": [],
   "source": [
    "def read_json_lines(root, lower=True):\n",
    "    \"\"\"Generate links from a JSON corpus.\n",
    "\n",
    "    Yields: list<str>\n",
    "    \"\"\"\n",
    "    for path in glob('%s/*.gz' % root):\n",
    "        with gzip.open(path) as fh:\n",
    "            for line in fh:\n",
    "\n",
    "                data = ujson.loads(line)\n",
    "\n",
    "                tokens = data.get('tokens')\n",
    "\n",
    "                if not tokens:\n",
    "                    continue\n",
    "\n",
    "                yield Line(tokens, data['label'], lower=lower)"
   ]
  },
  {
   "cell_type": "code",
   "execution_count": 90,
   "metadata": {},
   "outputs": [],
   "source": [
    "class Corpus:\n",
    "\n",
    "    def __init__(self, root, skim=None, lower=True):\n",
    "        \"\"\"Read lines.\n",
    "        \"\"\"\n",
    "        logger.info('Parsing line corpus.')\n",
    "\n",
    "        lines_iter = islice(read_json_lines(root, lower), skim)\n",
    "\n",
    "        self.lines = list(tqdm(lines_iter))\n",
    "\n",
    "    def __repr__(self):\n",
    "\n",
    "        pattern = '{cls_name}<{line_count} lines>'\n",
    "\n",
    "        return pattern.format(\n",
    "            cls_name=self.__class__.__name__,\n",
    "            line_count=len(self),\n",
    "        )\n",
    "\n",
    "    def __len__(self):\n",
    "        return len(self.lines)\n",
    "\n",
    "    def __iter__(self):\n",
    "        return iter(self.lines)\n",
    "    \n",
    "    def ngram_counts(self, n):\n",
    "        \"\"\"Collect all ngram -> count.\n",
    "        \"\"\"\n",
    "        logger.info('Gathering %d-gram counts.' % n)\n",
    "\n",
    "        counts = Counter()\n",
    "        for line in tqdm(self):\n",
    "            counts.update(line.ngrams_iter(n))\n",
    "\n",
    "        return counts\n",
    "\n",
    "    def topk_ngrams(self, n, k):\n",
    "        counts = self.ngram_counts(n)\n",
    "        return [ng for ng, _ in counts.most_common(k)]\n",
    "    \n",
    "    def x_iter(self, vocab):\n",
    "        for line in tqdm(self):\n",
    "            yield line.x(vocab)"
   ]
  },
  {
   "cell_type": "code",
   "execution_count": 91,
   "metadata": {},
   "outputs": [
    {
     "name": "stderr",
     "output_type": "stream",
     "text": [
      "2018-11-28 13:38:31,839 | INFO : Parsing line corpus.\n",
      "2123078it [00:26, 80958.91it/s] \n"
     ]
    }
   ],
   "source": [
    "c = Corpus('../data/titles-50k.json/')"
   ]
  },
  {
   "cell_type": "code",
   "execution_count": 92,
   "metadata": {},
   "outputs": [
    {
     "name": "stderr",
     "output_type": "stream",
     "text": [
      "2018-11-28 13:40:08,235 | INFO : Gathering 1-gram counts.\n",
      "100%|██████████| 2123078/2123078 [00:19<00:00, 109424.38it/s]\n"
     ]
    }
   ],
   "source": [
    "vocab = set(c.topk_ngrams(1, 1000))"
   ]
  },
  {
   "cell_type": "code",
   "execution_count": 93,
   "metadata": {},
   "outputs": [
    {
     "name": "stderr",
     "output_type": "stream",
     "text": [
      "100%|██████████| 2123078/2123078 [00:29<00:00, 71026.99it/s]\n"
     ]
    }
   ],
   "source": [
    "xs = list(c.x_iter(vocab))"
   ]
  },
  {
   "cell_type": "code",
   "execution_count": 94,
   "metadata": {},
   "outputs": [],
   "source": [
    "dv = DictVectorizer()\n",
    "X = dv.fit_transform(xs)"
   ]
  },
  {
   "cell_type": "code",
   "execution_count": 95,
   "metadata": {},
   "outputs": [
    {
     "data": {
      "text/plain": [
       "<2123078x1000 sparse matrix of type '<class 'numpy.float64'>'\n",
       "\twith 15162987 stored elements in Compressed Sparse Row format>"
      ]
     },
     "execution_count": 95,
     "metadata": {},
     "output_type": "execute_result"
    }
   ],
   "source": [
    "X"
   ]
  },
  {
   "cell_type": "code",
   "execution_count": 96,
   "metadata": {},
   "outputs": [],
   "source": [
    "y = [line.label for line in c]"
   ]
  },
  {
   "cell_type": "code",
   "execution_count": 97,
   "metadata": {},
   "outputs": [],
   "source": [
    "X_train, X_test, y_train, y_test = train_test_split(X, y, test_size=0.2)"
   ]
  },
  {
   "cell_type": "code",
   "execution_count": 98,
   "metadata": {},
   "outputs": [
    {
     "name": "stdout",
     "output_type": "stream",
     "text": [
      "[LibLinear]"
     ]
    }
   ],
   "source": [
    "model = LogisticRegression(verbose=True)\n",
    "fit = model.fit(X_train, y_train)"
   ]
  },
  {
   "cell_type": "code",
   "execution_count": 99,
   "metadata": {},
   "outputs": [],
   "source": [
    "y_pred = fit.predict(X_test)"
   ]
  },
  {
   "cell_type": "code",
   "execution_count": 100,
   "metadata": {},
   "outputs": [
    {
     "name": "stdout",
     "output_type": "stream",
     "text": [
      "                        precision    recall  f1-score   support\n",
      "\n",
      "            apnews.com       0.19      0.23      0.21     10158\n",
      "             bbc.co.uk       0.60      0.65      0.62     10034\n",
      "         bloomberg.com       0.24      0.26      0.25     10176\n",
      "         breitbart.com       0.75      0.59      0.66     10087\n",
      "   businessinsider.com       0.35      0.35      0.35     10151\n",
      "          buzzfeed.com       0.38      0.58      0.46     10015\n",
      "                cbc.ca       0.41      0.44      0.43     10098\n",
      "           cbsnews.com       0.25      0.23      0.24     10194\n",
      "              cnbc.com       0.29      0.24      0.26     10135\n",
      "               cnn.com       0.57      0.26      0.36     10118\n",
      "       dailycaller.com       0.99      0.86      0.92      9995\n",
      "          dailykos.com       0.30      0.36      0.33     10221\n",
      "            forbes.com       0.18      0.23      0.20     10133\n",
      "           foxnews.com       0.14      0.07      0.10      9906\n",
      "                ft.com       0.18      0.39      0.25     10076\n",
      "    huffingtonpost.com       0.15      0.07      0.09     10095\n",
      "               inc.com       0.38      0.63      0.48     10059\n",
      "     independent.co.uk       0.21      0.20      0.21     10188\n",
      "               msn.com       0.11      0.02      0.04     10207\n",
      "           nbcnews.com       0.32      0.11      0.17     10226\n",
      "          newsweek.com       0.27      0.25      0.26     10003\n",
      "               npr.org       0.22      0.19      0.21     10027\n",
      "       nydailynews.com       0.40      0.28      0.33     10183\n",
      "            nypost.com       0.15      0.27      0.20     10161\n",
      "           nytimes.com       0.18      0.09      0.12     10030\n",
      "          rawstory.com       0.41      0.42      0.41     10339\n",
      "           reuters.com       0.26      0.34      0.30     10291\n",
      "                rt.com       0.97      0.92      0.95     10054\n",
      "       sputniknews.com       0.30      0.47      0.37     10002\n",
      "       telegraph.co.uk       0.51      0.33      0.40     10098\n",
      "       theguardian.com       0.35      0.27      0.30     10353\n",
      "           thehill.com       0.25      0.31      0.28     10235\n",
      "        thetimes.co.uk       0.18      0.31      0.23      9982\n",
      "              time.com       0.18      0.13      0.15      9861\n",
      "          usatoday.com       0.20      0.23      0.21     10164\n",
      "           variety.com       0.48      0.69      0.56     10267\n",
      "              vice.com       0.31      0.33      0.32     10089\n",
      "washingtonexaminer.com       0.20      0.24      0.22     10135\n",
      "    washingtonpost.com       0.43      0.26      0.33     10081\n",
      "   washingtontimes.com       0.19      0.24      0.21      9885\n",
      "               wsj.com       0.19      0.14      0.16     10008\n",
      "             yahoo.com       0.09      0.01      0.01     10096\n",
      "\n",
      "             micro avg       0.32      0.32      0.32    424616\n",
      "             macro avg       0.33      0.32      0.31    424616\n",
      "          weighted avg       0.33      0.32      0.31    424616\n",
      "\n"
     ]
    }
   ],
   "source": [
    "print(metrics.classification_report(y_test, y_pred))"
   ]
  },
  {
   "cell_type": "code",
   "execution_count": 118,
   "metadata": {},
   "outputs": [],
   "source": [
    "def mdw(domain, n=50):\n",
    "    i = list(fit.classes_).index(domain)\n",
    "    fis = np.flip(fit.coef_[i].argsort())[:n]\n",
    "    names = [dv.feature_names_[fi] for fi in fis]\n",
    "    return ', '.join(['_'.join(ng) for ng in names])"
   ]
  },
  {
   "cell_type": "code",
   "execution_count": 127,
   "metadata": {},
   "outputs": [
    {
     "name": "stdout",
     "output_type": "stream",
     "text": [
      "apnews.com\n",
      "ap, latest, know, press, vegas, beat, us, cup, caller, analysis, governor, news, many, n, look, coach, year-old, lawmakers, california, ;, 2, leader, seeks, year, died, mexico, un, past, judge, players, town, games, 3, sen, tour, wins, abuse, win, game, lawsuit, lead, trip, summit, hope, official, debate, 4, epa, aid, try \n",
      "\n",
      "bbc.co.uk\n",
      "bbc, radio, series, boss, sign, england, united, league, town, cup, £, six, city, mental, warning, murder, africa, crash, games, 2017, service, news, east, reality, my, :, tour, /, abuse, man, firm, signs, rape, coach, st, five, challenge, rise, ?, -, open, three, road, india, west, gold, australia, bid, action, players \n",
      "\n",
      "bloomberg.com\n",
      "said, k, sees, china's, billion, markets, banks, ), fund, bank, says, africa, re, fed, brexit, ceo, bitcoin, india, stocks, debt, oil, five, investors, economy, sale, seeks, start, isn't, push, may, macron, risk, biggest, bid, cars, u, market, since, cash, stock, growth, saudi, can't, japan, less, million, probe, know, sell, china \n",
      "\n",
      "breitbart.com\n",
      "breitbart, illegal, israel, texas, border, hollywood, muslim, u, fake, terror, exclusive, state, fashion, percent, germany, donald, mass, :, iran, german, european, eu, hillary, sen, europe, climate, weinstein, sex, 13, rep, *, human, chicago, rape, nfl, gun, peace, christmas, french, six, admits, control, arrested, george, media, alleged, abortion, left, foreign, demand \n",
      "\n",
      "businessinsider.com\n",
      "markets, reportedly, 17, announces, explains, here's, its, —, 9, launches, today, 15, /, 14, 11, 13, 12, las, photos, healthcare, 25, 8, every, technology, earnings, digital, 10, according, bitcoin, china's, jr, 7, u, 20, 16, an, biggest, apple, tech, industry, 2, huge, google, massive, most, cars, inside, market, major, ad \n",
      "\n",
      "buzzfeed.com\n",
      "share, which, 17, 18, pictures, 16, reasons, tweets, everyone, reveal, times, actually, 14, you're, 15, you, 25, movie, australia, things, 13, theresa, i'm, people, opinion, only, girls, try, this, vs, what's, were, \", pick, these, k, every, just, name, songs, kim, your, post, ever, here's, twitter, photos, questions, ways, are \n",
      "\n",
      "cbc.ca\n",
      "cbc, canadian, canada, b, morning, don, c, st, weekend, road, program, project, hospital, across, union, near, budget, mayor, park, says, city, north, street, coming, expected, changes, leadership, students, warning, federal, island, assault, today, fire, system, driver, among, board, missing, between, stories, conservative, cost, university, food, minister, building, funding, police, looking \n",
      "\n",
      "cbsnews.com\n",
      "live, \", deadly, sen, “, news, storm, video, roy, ”, special, mom, california, chicago, tillerson, harvey, ?, kids, investigation, heart, shooting, hurricane, isis, florida, paul, dog, dead, say, americans, father, player, robert, alleged, death, inside, tariffs, allegations, cancer, killing, hours, parents, shot, possible, teen, cops, las, teacher, pence, study, wife \n",
      "\n",
      "cnbc.com\n",
      "ceo, earnings, bitcoin, shares, reportedly, market, investors, fed, stocks, here's, amazon, stock, markets, says, gold, dollar, apple, vs, expected, prices, trade, buy, here, higher, economic, ahead, oil, percent, financial, china's, us, street, secretary, could, reform, sen, jobs, sales, money, tariffs, economy, launches, rally, european, sees, college, tech, bank, following, biggest \n",
      "\n",
      "cnn.com\n",
      "cnn, opinion, video, world's, isis, africa, travel, puerto, photos, clinton, pence, china's, sessions, trump's, -, mccain, obama, moore, ), fox, mueller, tillerson, uber, india, care, trump, what's, know, things, epa, comey, stand, bannon, guide, jobs, hearing, million, days, kids, korean, hotel, isn't, girls, 6, sanders, suspect, allegations, tour, killed, lives \n",
      "\n",
      "dailycaller.com\n",
      "@dailycaller, caller, ], [, illegal, daily, ice, via, abortion, democratic, exclusive, dem, candidate, dems, hurricane, sanders, percent, protesters, media, summit, sen, democrats, border, obama, mueller, tariffs, mccain, climate, allegations, immigration, conservative, epa, transgender, global, gives, nearly, google, cnn, isis, california, supreme, america, gun, twitter, abuse, fbi, k, joe, green, energy \n",
      "\n",
      "dailykos.com\n",
      "daily, republican, republicans, ..., open, !, (, trump's, /, night, morning, democratic, ice, sign, radio, sessions, &, d, rights, epa, muslim, puerto, immigrants, racist, another, virginia, democrats, trump, ;, mass, intelligence, science, special, hate, because, today, ryan, bannon, “, workers, climate, —, gop, don, abortion, march, act, black, ., while \n",
      "\n",
      "forbes.com\n",
      "box, [, five, digital, leadership, three, four, career, data, (, social, six, raw, healthcare, technology, 2016, how, ], success, intelligence, ways, 2018, earnings, tech, future, why, leaders, 2017, industry, 30, tips, building, vs, financial, bitcoin, china's, steps, marijuana, capital, price, 1, hotel, ask, tax, small, should, business, real, list, release \n",
      "\n",
      "foxnews.com\n",
      "rep, sen, dems, reportedly, fox, viral, illegal, california, media, slams, chicago, flight, vegas, reform, stars, terror, comey, florida, mom, say, officer, judge, president, isis, un, latest, left, ?, hearing, clinton, star, dem, ny, suspect, obamacare, talks, driver, church, pence, fbi, alabama, trip, debate, political, officials, daughter, prison, probe, mueller, iran \n",
      "\n",
      "ft.com\n",
      "uk, —, london, listen, st, shares, dollar, banks, investors, fund, theresa, europe, debt, markets, brexit, bank, us, warns, financial, growth, /, month, n, macron, chief, private, china, japan, sale, low, healthcare, groups, buy, pressure, price, drop, sales, looks, market, labour, australia, months, raises, since, step, stocks, sell, africa, $, rise \n",
      "\n",
      "huffingtonpost.com\n",
      "post, gay, tips, letter, women, climate, reasons, mom, &, our, violence, part, kids, reportedly, my, interview, black, 8, muslim, love, ways, response, art, america, girls, peace, parents, 5, !, 10, music, tweets, mental, steps, rights, 6, me, ”, 9, *, transgender, month, i'm, social, 11, donald, schools, photos, racist, sexual \n",
      "\n",
      "inc.com\n",
      "leadership, 4, 3, employees, 5, 6, success, 7, leaders, 1, business, science, airlines, intelligence, steve, ), 8, jeff, 9, response, company, mark, every, this, how, why, office, leader, secret, companies, great, uber, these, sales, list, your, ways, thing, work, 2, industry, 10, working, want, tips, percent, rule, small, just, daily \n",
      "\n",
      "independent.co.uk\n",
      "donald, theresa, vs, manchester, labour, england, reveals, £, finds, scientists, league, recruitment, muslim, admits, british, government, review, london, las, despite, according, brexit, uk, christmas, season, huge, five, isis, following, david, victory, warning, children, manager, across, year-old, does, female, saudi, experts, has, johnson, warns, because, claims, mental, just, finally, opinion, everything \n",
      "\n",
      "msn.com\n",
      "prince, fashion, cars, viral, 50, de, 25, 20, stars, canada, baby, reveals, storm, analysis, 2018, 30, pm, sports, 15, wife, canadian, world's, she, second, ”, india, dog, australia, worst, around, her, 12, most, secret, world, 14, cities, daughter, slams, 9, 16, every, threatens, never, huge, biggest, family, body, mccain, weinstein \n",
      "\n",
      "nbcnews.com\n",
      "nbc, opinion, full, gay, puerto, transgender, news, morning, space, families, meet, isis, across, experts, finds, california, americans, sessions, deadly, killed, thousands, storm, pictures, watch, black, clinton, missing, first, kids, search, live, year-old, mother, protesters, plane, pence, suspect, stories, family, college, dies, parents, kim, church, virginia, press, march, immigrants, charged, hope \n",
      "\n",
      "newsweek.com\n",
      "opinion, year-old, isis, scientists, u, robert, marijuana, israel, ivanka, could, sanders, watch, has, putin, hurricane, stephen, were, “, \", ?, trump's, pictures, michael, donald, according, space, exclusive, senator, manchester, africa, wants, will, percent, saudi, d, las, everything, k, five, mass, said, kim, russia, claims, poll, accused, north, following, thousands, cancer \n",
      "\n",
      "npr.org\n",
      "🔊, songs, listen, stories, sen, music, administration, politics, radio, what's, puerto, las, u, year-old, ;, questions, presidential, rep, morning, tariffs, books, federal, supreme, some, try, care, many, food, story, air, scientists, debate, years, least, expected, science, question, love, news, aid, when, c, attorney, department, secretary, director, ?, immigration, voters, kids \n",
      "\n",
      "nydailynews.com\n",
      "ny, daily, nyc, see, cops, island, king, n, news, train, loss, de, stars, photos, teen, driver, york, wife, look, nfl, man, reportedly, joe, boss, woman, mom, play, vegas, pick, mike, son, coach, dead, city, assault, shot, harvey, union, east, fall, $, super, jail, building, girl, daughter, accused, tom, gun, name \n",
      "\n",
      "nypost.com\n",
      "cops, jr, nyc, de, mom, can't, vegas, he's, teen, st, isn't, year-old, sex, won't, wife, gets, accused, finally, other, didn't, doesn't, wants, inside, nearly, deadly, driver, himself, coach, i'm, woman, kids, boy, nfl, alleged, teacher, trying, getting, worst, m, daughter, isis, comes, hot, $, judge, post, another, arrested, injured, korea \n",
      "\n",
      "nytimes.com\n",
      "opinion, ;, york, books, ap, times, latest, today, art, ., review, listen, beat, past, senator, percent, dies, cup, billion, many, trip, ’, aid, japan, ask, turkey, seeks, comments, france, peace, sale, urges, tariffs, ,, leader, week, trial, re, ties, some, debate, book, long, a, where, alabama, win, court, german, what \n",
      "\n",
      "rawstory.com\n",
      "raw, explains, watch, internet, fox, racist, conservative, republican, jr, here, trump, sanders, us, black, story, marijuana, gop, california, texas, cops, reveals, church, white, scientists, paul, schools, host, mueller, attorney, republicans, gay, florida, chris, while, mike, joe, jones, ’, cnn, ivanka, down, legal, michael, virginia, admits, trump's, because, governor, *, — \n",
      "\n",
      "reuters.com\n",
      "..., u, exclusive, pictures, china's, percent, pm, announces, |, share, says, shares, dollar, board, tells, german, capital, banks, sees, loss, britain, oil, n, india, financial, st, south, country, (, -, bank, wall, firm, germany, kills, macron, eu, earnings, sell, minister, australia, british, buy, healthcare, 1, china, four, seeks, three, ceo \n",
      "\n",
      "rt.com\n",
      "rt, –, —, cup, de, un, &, las, isis, video, la, saudi, (, son, bitcoin, germany, macron, dollar, paris, german, washington, rape, pm, russian, ), fans, korea, theresa, gold, russia, peace, turkey, gas, putin, injured, world, international, america, muslim, viral, army, sex, illegal, europe, china, children, israel, apple, mass, center \n",
      "\n",
      "sputniknews.com\n",
      "“, russian, –, reports, syrian, us, reportedly, india, german, korean, army, n, explains, russia, uk, between, -, defense, photo, scientists, eu, presidential, french, forces, st, pm, las, injured, ), !, syria, saudi, foreign, chinese, sea, fake, washington, reveals, amid, twitter, de, slams, economic, turkey, states, germany, missile, ready, military, israel \n",
      "\n",
      "telegraph.co.uk\n",
      "job, donald, engineer, recruitment, £, theresa, |, british, britain, manager, vs, league, england, labour, hotel, pictures, guide, admits, world's, must, best, warns, christmas, boss, review, six, as, prince, following, fears, visit, london, bid, summer, claim, exclusive, launches, children, fashion, warning, st, french, tour, david, university, claims, street, our, could, reveals \n",
      "\n",
      "theguardian.com\n",
      "–, |, manager, executive, australia, labour, recruitment, £, live, officer, teacher, david, politics, manchester, books, video, england, uk, finds, told, football, review, head, tips, director, letter, my, climate, london, guide, tells, donald, staff, ?, george, :, fears, six, steve, john, theresa, mental, british, weekend, university, britain, denies, says, claim, i \n",
      "\n",
      "thehill.com\n",
      "dem, dems, moore, report, poll, pence, mccain, epa, bannon, gop, must, sanders, congress, sessions, healthcare, trump, clinton, ny, obamacare, energy, tariffs, lawmakers, groups, reform, rule, needs, act, tillerson, should, ryan, funding, rep, senate, year-old, defense, puerto, america, obama, tweet, governor, senator, our, fox, korea, comments, book, house, group, listen, mueller \n",
      "\n",
      "thetimes.co.uk\n",
      "£, labour, told, interview, times, britain, england, must, review, tells, fears, pictures, cash, ’, johnson, green, brexit, staff, put, british, let, boss, rise, children, save, left, our, schools, threat, abortion, me, fear, boost, university, books, lose, risk, donald, crime, jail, my, i, old, mental, six, aid, st, may, girls, stay \n",
      "\n",
      "time.com\n",
      "president, politics, photos, stephen, internet, photo, watch, prince, see, time, read, according, las, 100, re, news, songs, roy, here's, asked, year-old, listen, donald, analysis, money, hillary, free, game, girls, tech, world's, k, what's, 50, 5, sexual, history, 7, americans, hurricane, list, rico, 10, john, stories, robert, 6, college, died, kids \n",
      "\n",
      "usatoday.com\n",
      "raw, nfl, analysis, coach, vs, mike, beat, loss, defense, sign, jr, pick, win, james, player, fans, exclusive, tom, super, week, past, players, game, johnson, trade, today, free, 5, play, joe, sports, season, visit, explains, jones, chris, chicago, college, ryan, 3, 4, team, report, among, he's, running, see, via, weekend, tour \n",
      "\n",
      "variety.com\n",
      "film, exclusive, hollywood, ), netflix, tv, movie, box, awards, series, nbc, ”, weinstein, festival, music, million, ‘, songs, director, launch, fox, season, international, launches, release, orders, k, media, ’, listen, donald, digital, pictures, join, talks, star, tour, head, jeff, review, reality, members, talk, billion, signs, industry, games, female, james, tom \n",
      "\n",
      "vice.com\n",
      "vice, read, listen, ”, |, asked, canada, daily, project, music, sex, canadian, watch, guide, fashion, art, mental, cops, supreme, games, songs, ], we, inside, b, everything, photos, k, meet, prison, trying, gay, d, wants, fake, video, an, legal, does, me, de, actually, [, running, my, hours, i, roy, hate, made \n",
      "\n",
      "washingtonexaminer.com\n",
      "healthcare, obamacare, roy, york, department, epa, mike, robert, democrats, democratic, joe, supreme, steve, reform, trump's, energy, obama, john, media, percent, jeff, paul, las, trump, mark, clinton, tillerson, illegal, federal, tom, senate, report, sanders, house, george, union, abortion, conservative, james, university, congress, michael, service, isn't, isis, chris, defense, ice, hillary, tariffs \n",
      "\n",
      "washingtonpost.com\n",
      "analysis, opinion, virginia, washington, |, latest, radio, ’, pm, ap, post, federal, ., un, dies, administration, rico, storm, coach, officials, might, amid, c, review, ask, weekend, republicans, official, d, college, kills, game, presidential, leaders, police, clinton, turkey, national, line, executive, germany, leader, many, year-old, secretary, killing, some, democratic, scientists, town \n",
      "\n",
      "washingtontimes.com\n",
      "times, donald, washington, s, re, latest, “, ‘, t, d, medical, virginia, marijuana, lawmakers, n, center, m, st, k, governor, hospital, around, health, ap, budget, book, inside, officials, c, letter, immigrants, hillary, program, immigration, lawsuit, project, university, democrats, mayor, abortion, (, seeks, sen, ny, north, story, host, alabama, island, jeff \n",
      "\n",
      "wsj.com\n",
      "fed, morning, paid, billion, opinion, investors, million, program, review, bank, york, companies, shot, rico, earnings, k, ’, banks, rule, risk, ceo, chinese, digital, today, administration, prices, financial, least, stocks, fund, u, books, debt, ad, capital, take, board, sell, markets, bitcoin, firm, tech, china, growth, buy, global, stock, rate, long, seeks \n",
      "\n",
      "yahoo.com\n",
      "(, announces, stock, league, sports, join, earnings, reportedly, beat, football, stocks, india, nfl, bitcoin, launches, coach, apple, james, “, response, daughter, photo, de, pm, fashion, games, !, 2017, /, past, game, ivanka, win, ?, her, dog, red, buy, cup, reveals, 14, &, re, player, donald, return, might, returns, ], test \n",
      "\n"
     ]
    }
   ],
   "source": [
    "for d in fit.classes_:\n",
    "    print(d)\n",
    "    print(mdw(d), '\\n')"
   ]
  },
  {
   "cell_type": "code",
   "execution_count": null,
   "metadata": {},
   "outputs": [],
   "source": []
  }
 ],
 "metadata": {
  "kernelspec": {
   "display_name": "Python 3",
   "language": "python",
   "name": "python3"
  },
  "language_info": {
   "codemirror_mode": {
    "name": "ipython",
    "version": 3
   },
   "file_extension": ".py",
   "mimetype": "text/x-python",
   "name": "python",
   "nbconvert_exporter": "python",
   "pygments_lexer": "ipython3",
   "version": "3.7.0"
  }
 },
 "nbformat": 4,
 "nbformat_minor": 2
}
