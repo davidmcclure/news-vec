{
 "cells": [
  {
   "cell_type": "code",
   "execution_count": 1,
   "metadata": {},
   "outputs": [],
   "source": [
    "import warnings\n",
    "import gzip\n",
    "import ujson\n",
    "\n",
    "import pandas as pd\n",
    "import numpy as np\n",
    "\n",
    "from glob import glob\n",
    "from itertools import islice\n",
    "from tqdm import tqdm\n",
    "from boltons.iterutils import windowed\n",
    "from collections import Counter\n",
    "\n",
    "from sklearn.feature_extraction import DictVectorizer\n",
    "from sklearn.linear_model import LogisticRegression\n",
    "from sklearn.model_selection import train_test_split\n",
    "from sklearn import metrics\n",
    "\n",
    "from news_vec import logger"
   ]
  },
  {
   "cell_type": "code",
   "execution_count": 2,
   "metadata": {},
   "outputs": [],
   "source": [
    "import matplotlib as mpl\n",
    "import matplotlib.pyplot as plt\n",
    "import seaborn as sns\n",
    "\n",
    "mpl.style.use('seaborn-muted')\n",
    "sns.set(style=\"whitegrid\")\n",
    "\n",
    "%matplotlib inline"
   ]
  },
  {
   "cell_type": "code",
   "execution_count": 3,
   "metadata": {},
   "outputs": [],
   "source": [
    "warnings.simplefilter('ignore')"
   ]
  },
  {
   "cell_type": "code",
   "execution_count": 23,
   "metadata": {},
   "outputs": [],
   "source": [
    "class Line:\n",
    "\n",
    "    def __init__(self, tokens, label, lower=True):\n",
    "        self.tokens = [t.lower() for t in tokens] if lower else tokens\n",
    "        self.label = label\n",
    "\n",
    "    def __repr__(self):\n",
    "\n",
    "        pattern = '{cls_name}<{token_count} tokens -> {label}>'\n",
    "\n",
    "        return pattern.format(\n",
    "            cls_name=self.__class__.__name__,\n",
    "            token_count=len(self.tokens),\n",
    "            label=self.label,\n",
    "        )\n",
    "    \n",
    "    def ngrams_iter(self, n, vocab=None):\n",
    "        for ng in windowed(self.tokens, n):\n",
    "            if not vocab or ng in vocab:\n",
    "                yield ng\n",
    "    \n",
    "    def features_iter(self, vocab):\n",
    "        yield from Counter(self.ngrams_iter(1, vocab)).items()\n",
    "        yield from Counter(self.ngrams_iter(2, vocab)).items()\n",
    "        yield from Counter(self.ngrams_iter(3, vocab)).items()\n",
    "        \n",
    "    def x(self, vocab):\n",
    "        return dict(self.features_iter(vocab))"
   ]
  },
  {
   "cell_type": "code",
   "execution_count": 24,
   "metadata": {},
   "outputs": [],
   "source": [
    "def read_json_lines(root, lower=True):\n",
    "    \"\"\"Generate links from a JSON corpus.\n",
    "\n",
    "    Yields: list<str>\n",
    "    \"\"\"\n",
    "    for path in glob('%s/*.gz' % root):\n",
    "        with gzip.open(path) as fh:\n",
    "            for line in fh:\n",
    "\n",
    "                data = ujson.loads(line)\n",
    "\n",
    "                tokens = data.get('tokens')\n",
    "\n",
    "                if not tokens:\n",
    "                    continue\n",
    "\n",
    "                yield Line(tokens, data['label'], lower=lower)"
   ]
  },
  {
   "cell_type": "code",
   "execution_count": 25,
   "metadata": {},
   "outputs": [],
   "source": [
    "class Corpus:\n",
    "\n",
    "    def __init__(self, root, skim=None, lower=True):\n",
    "        \"\"\"Read lines.\n",
    "        \"\"\"\n",
    "        logger.info('Parsing line corpus.')\n",
    "\n",
    "        lines_iter = islice(read_json_lines(root, lower), skim)\n",
    "\n",
    "        self.lines = list(tqdm(lines_iter))\n",
    "\n",
    "    def __repr__(self):\n",
    "\n",
    "        pattern = '{cls_name}<{line_count} lines>'\n",
    "\n",
    "        return pattern.format(\n",
    "            cls_name=self.__class__.__name__,\n",
    "            line_count=len(self),\n",
    "        )\n",
    "\n",
    "    def __len__(self):\n",
    "        return len(self.lines)\n",
    "\n",
    "    def __iter__(self):\n",
    "        return iter(self.lines)\n",
    "    \n",
    "    def ngram_counts(self, n):\n",
    "        \"\"\"Collect all ngram -> count.\n",
    "        \"\"\"\n",
    "        logger.info('Gathering %d-gram counts.' % n)\n",
    "\n",
    "        counts = Counter()\n",
    "        for line in tqdm(self):\n",
    "            counts.update(line.ngrams_iter(n))\n",
    "\n",
    "        return counts\n",
    "\n",
    "    def topk_ngrams(self, n, k):\n",
    "        counts = self.ngram_counts(n)\n",
    "        return [ng for ng, _ in counts.most_common(k)]\n",
    "    \n",
    "    def x_iter(self, vocab):\n",
    "        for line in tqdm(self):\n",
    "            yield line.x(vocab)"
   ]
  },
  {
   "cell_type": "code",
   "execution_count": 26,
   "metadata": {},
   "outputs": [
    {
     "name": "stderr",
     "output_type": "stream",
     "text": [
      "2018-11-28 17:56:03,315 | INFO : Parsing line corpus.\n",
      "2123078it [00:28, 74189.08it/s] \n"
     ]
    }
   ],
   "source": [
    "c = Corpus('../data/titles-50k.json/')"
   ]
  },
  {
   "cell_type": "code",
   "execution_count": 27,
   "metadata": {},
   "outputs": [
    {
     "name": "stderr",
     "output_type": "stream",
     "text": [
      "2018-11-28 17:57:24,753 | INFO : Gathering 1-gram counts.\n",
      "100%|██████████| 2123078/2123078 [00:19<00:00, 106323.74it/s]\n",
      "2018-11-28 17:57:44,809 | INFO : Gathering 2-gram counts.\n",
      "100%|██████████| 2123078/2123078 [00:31<00:00, 68069.59it/s]\n",
      "2018-11-28 17:58:17,010 | INFO : Gathering 3-gram counts.\n",
      "100%|██████████| 2123078/2123078 [00:31<00:00, 67139.21it/s]\n"
     ]
    }
   ],
   "source": [
    "vocab = set(\n",
    "    c.topk_ngrams(1, 5000) +\n",
    "    c.topk_ngrams(2, 5000) +\n",
    "    c.topk_ngrams(3, 5000)\n",
    ")"
   ]
  },
  {
   "cell_type": "code",
   "execution_count": 28,
   "metadata": {},
   "outputs": [
    {
     "name": "stderr",
     "output_type": "stream",
     "text": [
      "100%|██████████| 2123078/2123078 [01:17<00:00, 27250.86it/s]\n"
     ]
    }
   ],
   "source": [
    "xs = list(c.x_iter(vocab))"
   ]
  },
  {
   "cell_type": "code",
   "execution_count": 29,
   "metadata": {},
   "outputs": [],
   "source": [
    "dv = DictVectorizer()\n",
    "X = dv.fit_transform(xs)"
   ]
  },
  {
   "cell_type": "code",
   "execution_count": 30,
   "metadata": {},
   "outputs": [
    {
     "data": {
      "text/plain": [
       "<2123078x15000 sparse matrix of type '<class 'numpy.float64'>'\n",
       "\twith 28074592 stored elements in Compressed Sparse Row format>"
      ]
     },
     "execution_count": 30,
     "metadata": {},
     "output_type": "execute_result"
    }
   ],
   "source": [
    "X"
   ]
  },
  {
   "cell_type": "code",
   "execution_count": 31,
   "metadata": {},
   "outputs": [],
   "source": [
    "y = [line.label for line in c]"
   ]
  },
  {
   "cell_type": "code",
   "execution_count": 32,
   "metadata": {},
   "outputs": [],
   "source": [
    "X_train, X_test, y_train, y_test = train_test_split(X, y, test_size=0.2)"
   ]
  },
  {
   "cell_type": "code",
   "execution_count": 33,
   "metadata": {},
   "outputs": [],
   "source": [
    "model = LogisticRegression(verbose=True, multi_class='multinomial', solver='sag', n_jobs=-1)"
   ]
  },
  {
   "cell_type": "code",
   "execution_count": 34,
   "metadata": {},
   "outputs": [
    {
     "name": "stderr",
     "output_type": "stream",
     "text": [
      "[Parallel(n_jobs=-1)]: Using backend ThreadingBackend with 8 concurrent workers.\n"
     ]
    },
    {
     "name": "stdout",
     "output_type": "stream",
     "text": [
      "max_iter reached after 651 seconds\n"
     ]
    },
    {
     "name": "stderr",
     "output_type": "stream",
     "text": [
      "[Parallel(n_jobs=-1)]: Done   1 out of   1 | elapsed: 10.9min finished\n"
     ]
    }
   ],
   "source": [
    "fit = model.fit(X_train, y_train)"
   ]
  },
  {
   "cell_type": "code",
   "execution_count": 35,
   "metadata": {},
   "outputs": [],
   "source": [
    "y_pred = fit.predict(X_test)"
   ]
  },
  {
   "cell_type": "code",
   "execution_count": 36,
   "metadata": {},
   "outputs": [
    {
     "name": "stdout",
     "output_type": "stream",
     "text": [
      "                        precision    recall  f1-score   support\n",
      "\n",
      "            apnews.com       0.24      0.29      0.26     10090\n",
      "             bbc.co.uk       0.67      0.73      0.70     10230\n",
      "         bloomberg.com       0.34      0.37      0.36     10218\n",
      "         breitbart.com       0.72      0.68      0.70     10028\n",
      "   businessinsider.com       0.44      0.43      0.44     10119\n",
      "          buzzfeed.com       0.57      0.66      0.61     10045\n",
      "                cbc.ca       0.59      0.63      0.61      9950\n",
      "           cbsnews.com       0.29      0.29      0.29     10167\n",
      "              cnbc.com       0.39      0.33      0.36     10163\n",
      "               cnn.com       0.50      0.32      0.39     10175\n",
      "       dailycaller.com       0.95      0.87      0.91     10134\n",
      "          dailykos.com       0.46      0.53      0.49      9994\n",
      "            forbes.com       0.30      0.35      0.32     10022\n",
      "           foxnews.com       0.21      0.17      0.19      9965\n",
      "                ft.com       0.33      0.48      0.39     10195\n",
      "    huffingtonpost.com       0.20      0.16      0.18     10054\n",
      "               inc.com       0.55      0.69      0.61     10381\n",
      "     independent.co.uk       0.31      0.30      0.31     10252\n",
      "               msn.com       0.17      0.08      0.11     10205\n",
      "           nbcnews.com       0.29      0.18      0.22     10200\n",
      "          newsweek.com       0.35      0.34      0.34     10006\n",
      "               npr.org       0.30      0.32      0.31      9973\n",
      "       nydailynews.com       0.47      0.39      0.42     10095\n",
      "            nypost.com       0.27      0.37      0.31     10262\n",
      "           nytimes.com       0.27      0.19      0.22      9814\n",
      "          rawstory.com       0.51      0.50      0.50      9951\n",
      "           reuters.com       0.37      0.45      0.40     10135\n",
      "                rt.com       0.97      0.94      0.96     10196\n",
      "       sputniknews.com       0.45      0.56      0.50     10123\n",
      "       telegraph.co.uk       0.53      0.43      0.47     10131\n",
      "       theguardian.com       0.46      0.41      0.43     10073\n",
      "           thehill.com       0.32      0.39      0.36     10123\n",
      "        thetimes.co.uk       0.31      0.49      0.38     10114\n",
      "              time.com       0.28      0.26      0.27     10103\n",
      "          usatoday.com       0.36      0.34      0.35     10307\n",
      "           variety.com       0.65      0.77      0.70     10123\n",
      "              vice.com       0.43      0.48      0.45     10183\n",
      "washingtonexaminer.com       0.29      0.35      0.32     10074\n",
      "    washingtonpost.com       0.49      0.33      0.39     10162\n",
      "   washingtontimes.com       0.31      0.37      0.34     10067\n",
      "               wsj.com       0.28      0.27      0.27     10005\n",
      "             yahoo.com       0.20      0.06      0.10     10009\n",
      "\n",
      "             micro avg       0.42      0.42      0.42    424616\n",
      "             macro avg       0.41      0.42      0.41    424616\n",
      "          weighted avg       0.41      0.42      0.41    424616\n",
      "\n"
     ]
    }
   ],
   "source": [
    "print(metrics.classification_report(y_test, y_pred))"
   ]
  },
  {
   "cell_type": "code",
   "execution_count": 39,
   "metadata": {},
   "outputs": [],
   "source": [
    "def mdw(domain, n=50):\n",
    "    i = list(fit.classes_).index(domain)\n",
    "    fis = np.flip(fit.coef_[i].argsort())[:n]\n",
    "    names = [dv.feature_names_[fi] for fi in fis]\n",
    "    return ', '.join([' '.join(ng) for ng in names])"
   ]
  },
  {
   "cell_type": "code",
   "execution_count": 40,
   "metadata": {},
   "outputs": [
    {
     "name": "stdout",
     "output_type": "stream",
     "text": [
      "apnews.com\n",
      "associated press news, apnewsbreak :, to know today, ap, the latest :, ap news :, column, associated press, mets, 1st, latest :, science says, police :, ap exclusive :, louisiana, ap explains :, maine, analysis :, en, lawyer :, cavs, arkansas, ap news, idaho, iowa, mississippi, gov't, court :, officials :, 2nd, pct, indians, official :, now :, poll :, yankees, 10 things to, nhl, news :, lebron, browns, 3rd, astros, carolina, study :, cardinals, fifa, nebraska, percent in, qb \n",
      "\n",
      "bbc.co.uk\n",
      "- bbc, my report for, , series, bbc -, bbc, / 2017, - bbc radio, v, n korea, £, wales, reality check :, / 2018, nhs, bbc news, mum, boy ,, scottish, cup :, girl ,, scotland, : episode, . the, on this day, radio 1, rangers, bbc music, mp, 2018 :, corbyn, centre, sport, arsene wenger, fa, open :, st, : former, show -, bbc news |, live :, everton, , 2017 :, tottenham, england, boss, ' should, check :, mps, grenfell, guilty of \n",
      "\n",
      "bloomberg.com\n",
      "brexit bulletin :, ( audio ), - bloomberg, bloomberg, on bloomberg's billionaire, quote, | bloomberg professional, chart, the daily, evening, quicktake q &, ecb, said to, traders, bonds, : quicktake q, crypto, health-care, goldman, wsj, of power, charts, ? (, markets wrap, wrap, : markets wrap, may's, , source says, g -, estimates, singapore, : the latest, india's, bulls, ipo, sees, briefing, ap, bond, morgan stanley, u . k, / 2018, billion, inflation, barclays, opec, china's, bets, , sources say, - - \n",
      "\n",
      "breitbart.com\n",
      "- breitbart, | breitbart, cartel, breitbart, ann coulter :, establishment, border patrol agents, alien, aliens, - -, hamas, ukip, migrants, migrant, exclusive, exclusive -, bbc, nhs, texas, , say, populist, farage, govt, islamic, antifa, h - 1b, per cent, migration, cnn's, swedish, tories, sanctuary, scotus, report :, labour, percent, celebrities, christians, £, guardian, soros, mexican, borders, boko haram, nyt, asylum, deep state, : melania trump, luther, sweden \n",
      "\n",
      "businessinsider.com\n",
      "/ 17, - - -, markets insider, to know on, | markets insider, | markets, to know in, fintech, reportedly, earnings, ranked, update 1, update 1 -, traders, live :, acquires, startup, insider, £, crypto, ) |, chart, here's, startups, - sources, briefing :, technologies, may's, trumpcare, blockchain, google's, inc ., ? ', : sources, apple's, amazon's, expands, incredible, press digest -, 19, swedish, €, announces, post-brexit, richard branson, innovation, stocks, there's, 9, 23 \n",
      "\n",
      "buzzfeed.com\n",
      "update :, live updates :, share on whatsapp, share on, and we'll, 19, will reveal, 27, 23, are you more, 21, 29, 17, watch :, 31, 24, 26, 22, that'll, 90s, 18, 28, are your, can you, 33, which, 16, 2 -, tell us, here's, all the best, 37, 34, australia's, 32, mps, turns out, literally, 14, 38, opinion :, live updates, 36, are you ?, pictures, edition, 15, best deals on, queer, ranking \n",
      "\n",
      "cbc.ca\n",
      "cbc, winnipeg, calgary, alberta, edmonton, ottawa, vancouver, , ont ., canadians, | cbc, ontario, montreal, b . c, indigenous, : don, quebec, province, sask, canada's, opinion, centre, toronto, sask ., |, hamilton, liberals, u, canadian, downtown, health-care, scarborough, n . l, victoria, canada, ' :, 1st, fentanyl, defence, premier, e . i, n . b, thunder, blog, n . s, p . e, cbc news, docs, fort, trudeau, 3rd \n",
      "\n",
      "cbsnews.com\n",
      "60 minutes, eye opener :, cbsn, live updates, face the nation, ​, - -, - live stream, cbs news, calif ., how to watch, - cbs, \", – and, case :, ap, | the, headlines, trump continues to, today in, , authorities say, opener, - report, nature, - live, cbs, john's, live :, enemy of the, sessions :, bill de blasio, cops, face the, kids ', pa, , and other, , is dead, - cbs news, preview :, mary tyler moore, fla ., not for, for 1st time, cut ties with, is dead at, gowdy, week of, tips to, sessions ', spacex \n",
      "\n",
      "cnbc.com\n",
      "cramer, & more, news -, health-care, start-up, - u ., watch : white, technician, watch : trump, strategist, analyst, millionaire, earnings, cramer's lightning round, lightning round :, ecb, your first, advisor, trader, live :, traders, reportedly, special counsel robert, ceo, goldman, inc, amazon's, update 2 -, index, markets, op-ed, mark cuban, pro, blockchain, here's, a . i, stocks, crude, cramer remix :, quotes, investor, ( k ), economist, ge, dollar, vs, investing, bitcoin, jobless, richard branson \n",
      "\n",
      "cnn.com\n",
      "cnn.com, ( opinion ), - cnn, - cnn.com, - cnn video, 5 things, cnn, cnn video, wh, : live updates, source :, africa's, know before the, sources :, | the, live updates, donald trump just, up on the, rugby, nyt, en, aleppo, india's, cnn's, to know today, o'reilly, haley, facts, world's, french open, tom price, dhs, fast, dubai, nunes, , authorities say, ( photos ), breaking news, ? -, super bowl li, syria :, devos, brexit :, rosenstein, hong, sit, nigerian, isis, trump's, the week in \n",
      "\n",
      "dailycaller.com\n",
      "via @dailycaller, @dailycaller, flashback :, - the daily, with this, scotus, dem, kavanaugh, melania, exclusive :, brennan, msnbc, tucker, the daily caller, fentanyl, antifa, trudeau, daily caller, cnn, nyt, opinion :, avenatti, report :, [ photos ], …, dems, percent, ice, liberals, florence, sarah sanders, - the, soros, study :, cuomo, heroin, —, rosenstein, allegedly, obama-era, dhs, maxine, warren, [ video ], [ video, musk, democratic, illegal immigrant, video ], dc \n",
      "\n",
      "dailykos.com\n",
      "cartoon :, kos, trumpcare, add your name, breaking :, and jeers :, cheers and jeers, sign the petition, view from the, edition, digest :, abbreviated, open thread, ..., muslim ban, digest, blogs, ( r ), spotlight on, #, thread, this week in, ( d, chaffetz, trump's, progressive, ( d ), medicaid, nunes, ( photo, scotus, !, republicans, republican, *, resistance, - live, book review :, in order to, /, round-up, ' it ’, regime, undocumented, gov't, city council, (, the petition :, alex jones, mitch \n",
      "\n",
      "forbes.com\n",
      "[ infographic ], forbes, wwe, ' pokémon go, destiny 2 ', ufc, entrepreneurs, marketing, entrepreneur, blockchain, crypto, 30 under 30, startup, - pg ., - pg, irs, pg ., transformation, call of duty, ten, strategies, ' fortnite ', box office :, leak, startups, founders, natural gas, leadership, review : ', linkedin, billionaire, dividend, daesh, - -, customer, odds, at no ., galaxy, innovation, 2 ', india's, earnings, richest, your employees, ​, cybersecurity, hr, your company, to no ., ai \n",
      "\n",
      "foxnews.com\n",
      "| fox news, tucker, ingraham, hannity, tell you what, gingrich, tomi lahren, news |, the latest :, illegal immigrant, illegal immigrants, huckabee, , cops say, dems, wh, what to know, - -, dem, the left, swamp, ' friends ', dr ., admin, pct, gov't, rep ., sanctuary, reportedly, health care, marc, - - live, , reports say, gen ., the politics of, mcdonald ’ s, of the day, slammed, up for auction, sen ., w, hillary, cardinals, newt gingrich :, reports :, ( and, – but, tell you, gowdy, the democrats, latest news | \n",
      "\n",
      "ft.com\n",
      "- ft.com, markets live :, daily briefing :, ft, today :, | ft alphaville, stocks to watch, — ‘, , new york, bn, , london —, quote, €, —, authers ’ note, ecb, , by, – live, eurozone, £, bonds, ’ note :, ( again ), uk, week ahead :, listen :, , london, repeal bill, cartoon :, to watch :, & a with, federal reserve, , say, nhs, europe open :, fast europe open, grenfell, per cent, - month, pension, , bbc, charts, open :, theatre, start-up, hammond, barclays, ’ ,, hits out at, defence \n",
      "\n",
      "huffingtonpost.com\n",
      "opinion |, women in business, huffington post, queer, | the huffington, news roundup, : reports, lgbtq, : report, things i wish, seth meyers, - -, colbert, marketing, trans, entrepreneurs, recipes, adorable, divorce, on live tv, the huffington, - a, a conversation with, moms, ( audio ), case for, latino, reportedly, roundup, perspective, noah, hilarious, blockchain, the huffington post, progressive, tweets that, engagement, drag, strategies, us :, gop lawmaker, trumpcare, innovation, ' star, premiere, neil degrasse tyson, dear, communities, , more than, of course \n",
      "\n",
      "inc.com\n",
      "entrepreneurs, startups, founders, startup, quotes, entrepreneur, marketing, brilliant, productivity, leadership, innovation, linkedin, . 5000, inc . 5000, co-founder, businesses, company's, extraordinary, offices, 3, blockchain, 4, 1, this 1, science says, 5, strategies, leaders, delta, inspiring, mcdonald's, steve jobs, ted, employees, 6, powerful, amazon's, 7, success, employee, google's, lesson, emotional, ceos, wilson, us about, customers, business, ipo, from home \n",
      "\n",
      "independent.co.uk\n",
      "obituary, £, | the, , review :, 10 best, nhs, season 3, liverpool, opinion :, aged, tottenham, arsene wenger, tory, leicester, labour, bn, editorial :, , review, engineer job, vs, everton, england, favourite, ltd, live !, jose mourinho, defence, arsenal, centre, tories, season 2, ’ ,, west ham, vegan, donald trump's, video for, recruitment, mps, grenfell, manchester united, independent, –, ukip, , say, , study, 2016 :, per cent, corbyn, mp, boris \n",
      "\n",
      "msn.com\n",
      "- msn, 60 second forecast, analysis |, today in history, cramer, à, calgary, alberta, ottawa, en, £, opinion :, is said to, govt, edmonton, montreal, ontario, duterte, qb, health-care, winnipeg, twitter reacts to, — here's, cryptocurrencies, & more, analysis :, seahawks, foods, b . c, manchester united, social security, in every state, vancouver, s . judge, first look, modi, ' -, to your body, blockchain, ( report ), adorable, mum, trudeau, broncos, lakers, canadians, de, : report, mp, ms \n",
      "\n",
      "nbcnews.com\n",
      "opinion |, - nbc news, meet the press, pres . trump, - nbc, lgbtq, latino, first read's morning, read's morning clips, morning clips :, opinion :, week in pictures, news full broadcast, nightly news full, & more, full broadcast (, editorial :, than we thought, breaking news, watch live :, wh, puerto, queer, that'll, pictures :, crazy rich asians, flashback :, , source says, scotus, same-sex, %, america :, blog, special report :, nbc news, interview :, remembering, inspiring, nbc, the week in, caught on camera, preview :, desk, explores, gay, watch live, f -, of the internet, rubio, recipes \n",
      "\n",
      "newsweek.com\n",
      "| opinion, in opinion :, robert reich :, ‘ fortnite ’, 2 ’, manchester united, call of duty, liverpool, ' season, isis, watch :, \", nigeria, transfer, video :, trump-russia, meghan markle's, update, russia's, wwe, : report, putin's, ancient, £, arsene wenger, alt-right, jared, tottenham, neil, volcano, lakers, europe's, year-old, trump's, mourinho, aged, scientists, season 2, wenger, impeachment, , reports say, antifa, slammed, france's, ’ s tax, california's, in america :, kellyanne, ' american, quotes \n",
      "\n",
      "npr.org\n",
      "not my job, npr, news brief :, morning news brief, on world cafe, : tiny desk, week in politics, episode, first listen :, : how can, top stories :, 🔊 listen now, 🔊, 🔊 listen, jazz, video for, photos :, cafe, york times ', 2017 -, songs, remembering, top stories, opinion :, discusses, pennsylvania, tell us, pa, listen :, mountain, live at, hear, , after, fill, calif ., desk, , 2018, census, perform, rep ., listen now :, house intel, transcript, in california ,, : how do, r & b, listen now, nashville, calls to, this time \n",
      "\n",
      "nydailynews.com\n",
      "- photos -, - ny daily, mets, king :, yankees, knicks, queens, - ny, photos -, see it :, daily news, bronx, brooklyn, cuomo, new yorkers, giants, rangers, jets, nyc, : report, nypd, : poll, : study, through the years, video :, fla ., the latest :, qb, can you name, busted, odell beckham, cops, blasio, first look :, manhattan, see it, calif ., : source, ex, it :, nets, ... and, ’ review :, aaron, cop, de blasio, - - -, the life and, fantasy football, suit \n",
      "\n",
      "nypost.com\n",
      ", 2017, mets, yankees, knicks, st . john's, rangers, cuomo, nets, , 2018, giants, : study, : cops, daily news, jets, : poll, cops, inc ., - -, this week ’, busted, nypd, odell beckham, new yorkers, st ., week ’ s, vs ., espn, suit, report card :, : report, fashion week, wwe, blasio, us open, : police, de blasio, and other, cop, j ., hillary, mom, nyc, insane, queens, qb, bronx, arrested for, aaron, jr ., subway \n",
      "\n",
      "nytimes.com\n",
      "opinion |, - the new, recipe, today :, the times, briefing, mets, latest :, : your, apnewsbreak :, in nyc, ;, review : ‘, yankees, leading off :, : sources, - new, ap, the latest :, exclusive :, s on tv, this weekend, this week, , episode, today in history, the daily, inquiry, quiz, : media, is said to, - ny, ’ season, fashion week, is accused of, . \", knicks, said to, court :, review : in, 1st, police :, what to, election results, for the week, wall st ., weinstein ’ s, questions for, the day :, manhattan, : source \n",
      "\n",
      "rawstory.com\n",
      "raw story, - -, : report, cnn's, revealed :, here are, busted, maddow, trumpcare, tomi lahren, here is, : source, watch :, msnbc, right-wing, : study, : sources, | raw, | raw story, the view, : internet, listen :, morning joe, alt-right, hilarious, robert reich :, us, neo-nazi, pro-trump, trump-russia, cosby, *, katy, destroys, oklahoma, kushner, racist, flashback :, cops, neil degrasse tyson, gop, north korea's kim, tapper, cnn, christian, conservative, arkansas, bible, massachusetts, kkk \n",
      "\n",
      "reuters.com\n",
      "| reuters, mln, ..., special report :, pct, inc, to watch on, ​, . s, update 2 -, reuters, acquires, ecb, brazil's, per share $, co, racing, - bbc, daily briefing :, : media, trump on twitter, press digest -, wall st ., cricket, s . judge, : source, canada's, exclusive -, china's, australia's, japan's, france's, mourinho, britain's, india's, -, uk's, jan, : sources, earnings per share, s . house, philippines ' duterte, s . president, brazil, acquisition, congo, . n, germany's, euro, : cnn \n",
      "\n",
      "rt.com\n",
      "— rt, rt, –, rt —, video :, à, govt, daesh, en, soros, mourinho, &, —, cup, 1st, €, de, ’ :, ( video, premiere, video ), assange, le, ronaldo, mod, – report, russians, ( photos, dollar, skripal, moscow, - rt, del, la, les, videos ), cia, v, . the, terrorist, ' :, photos ), swedish, ( videos, un, am, el, lavrov, trailer, sweden \n",
      "\n",
      "sputniknews.com\n",
      "daesh, - reports, mln, week in pictures, gov't, –, fifa world cup, – video, – reports, rt, à, video ), ukrainian, “, us senate, nord stream 2, russia's, skripal, en, swedish, top 5, indian, analyst, photos ), reportedly, uk, cooperation, us supreme court, -, lavrov, gov ’ t, videos ), photo ), mod, us, damascus, ( photo, - report, ( photos ), moscow, ’ s daily, india, sweden, ( video, soros, crimea, fm, !, / 17, n \n",
      "\n",
      "telegraph.co.uk\n",
      "job |, obituary, £, , review, , in pictures, donald trump's, arsene wenger, pictures of the, nhs, on this day, sir, defence, - - -, –, favourite, in pictures, bn, aged, britain's, ski, brexit bulletin :, liverpool, donald trump, rugby, mps, live score updates, jose mourinho, labour, latest news, england, shooting :, centre, bbc, letters, leicester, , series, : live, , say, tory, 1 :, hotels, everton, tottenham, row, €, your business, 2 :, towards, . we, vs \n",
      "\n",
      "theguardian.com\n",
      "– video, |, review –, obituary, politics live, –, £, | letters, – in pictures, as it happened, recruitment, guardian, nhs, briefing :, - in pictures, …, nigel, , say, , episode, graduate, aged, readers, assistant, , analysis, bn, inquiry, labour, manager, to watch :, - politics live, mps, €, , court, – live, tottenham, . we, corbyn, australia's, leicester, cartoon, defence, everton, head of, favourite, liverpool, recipes, top 10, ? |, wenger, grenfell \n",
      "\n",
      "thehill.com\n",
      "the memo :, : report, dem, report —, dems, scarborough, - -, cnn's, overnight, maher, : reports, colbert, listen :, tapper, maddow, flake, kimmel, gov, week ahead, sanders, ' : report, rubio, ’ : report, schiff, conway, rep, juan, wh, calif ., pruitt, fla ., spicer, dc, poll :, devos, gop, hannity, pa, live : white, watch live :, healthcare, poll : majority, franken, - - -, carson, moore, ingraham, week ahead :, f -, : i \n",
      "\n",
      "thetimes.co.uk\n",
      "interview :, £, \" :, , says, review :, nhs, , say, €, theatre, corbyn, s on tv, insider, tories, , 2018, the times, sir, in pictures, wenger, grenfell, labour, mourinho, mod, , claims, tory, theatre review :, , warns, ministers, girl ,, liverpool, defence, obituary, england, revealed :, week :, mr, the 50 best, mps, bbc, inquiry, & the, a million, dr, row, start-up, aged, life in the, boy ,, . it, centre, rugby \n",
      "\n",
      "time.com\n",
      "time.com, you asked :, | time.com, - time, , no ., top stories :, . ’, top stories, president trump's, president trump, . ', : the first, what to know, . but, stories :, : study, colbert, : police, here's, review :, : it's time, john oliver, box office, seth meyers, memes, president obama, most influential, , police say, ’ is a, read, can i, meme, , prosecutors say, us about, review : ', : why i, rand paul :, : the latest, retire, e . u, how do i, beyoncé, secret to, . \", - u ., nintendo, michael flynn, , 2017, hong, drake \n",
      "\n",
      "usatoday.com\n",
      "top stories, take :, broncos, raiders, author of ‘, 49ers, steelers, raw, ’ by, chargers, cardinals, packers, redskins, excerpt : ‘, rams, seahawks, column, wr, panthers, cowboys, live stream, , author of, browns, titans, dolphins, toys r us, reports :, ’ and ‘, , ’ ‘, today in history, eagles, qb, chiefs, bears, lebron, usa, giants ', celtics, through the years, romance, bills, lions, kyle, president trump's, lakers, rookie, falcons, texans, thunder, ’ ‘ \n",
      "\n",
      "variety.com\n",
      "( report ), variety ’ s, studios, ( column ), ( listen ), column, vr, ( opinion ), concert review :, emmy, producers, entertainment, acquires, sundance, cannes, oscar, review : ‘, production, tv ratings :, lists, box office, pact, broadway review :, vp, ( exclusive ), exclusive ), fcc, films, spotify, oscars, ’, cbs, ratings :, directors, poll :, dates, taps, sony, content, writers, festival, to be honored, movies, boards, film, developing, trailer, theater, acquisition, documentary \n",
      "\n",
      "vice.com\n",
      "noisey, - vice, motherboard, broadly, i-d, , 2018, vice, | vice, - motherboard, thump, - noisey, | broadly, weed, | thump, we talked to, creators, queer, , 2017, , ' today's, ontario, always wanted to, tiny desk concert, ​, today's comic by, 2 ', | i-d, we asked, trans, ' today's comic, the week :, vancouver, 90s, ? -, à, canadians, indigenous, quebec, ”, tell us, trumpcare, |, vice sports, toronto, live :, daily, favourite, vice news, porn, rap, cops \n",
      "\n",
      "washingtonexaminer.com\n",
      "alan dershowitz :, : watch, byron york :, donald trump jr, report card :, : report, : live, jobless, dhs, - in, healthcare, cpac, luther, gorsuch, chuck, fda, dc, obamacare, york :, - -, percent, obama's, men and women, dnc, feinstein, k, jim, rep ., gowdy, watch live :, illegal immigrant, natural gas, hhs, spicer, , $, sarah sanders, va, house votes to, epa, : poll, watch live, mattis, feds, air traffic control, clinton's, nafta, trump's, f -, navy, cartoon : \n",
      "\n",
      "washingtonpost.com\n",
      "analysis |, perspective |, opinion |, review |, redskins, health-care, nationals, metro, capitals, maryland, ' |, ' game, special report :, - the washington, ap, top 10 :, update :, ap exclusive :, apnewsbreak :, the latest :, comic, ‘ dreamers ’, digest :, latest :, ) job, virginia, the health, county, d . c, evening, va, playoff, 2018 world cup, group |, affordable care act, ., spicer, snl, the daily, ’, the washington post, radio, , 2017, officials :, zoo, roundup, —, , and it, ’ :, pakistani \n",
      "\n",
      "washingtontimes.com\n",
      "- washington times, - washington, washington times, inside the beltway, the beltway :, editorial :, from around, the latest :, redskins, the editor :, to the editor, book review :, #, capitals, new mexico, ' -, ‘, editorial, apnewsbreak :, w, ap, t, “, latest :, r, vermont, nebraska, f, re, recent, idaho, leading off :, ’ review, new england, maine, the left, now :, o, says the, police :, nursing, p, indiana, c, nationals, 1st, arkansas, co, analysis :, mississippi \n",
      "\n",
      "wsj.com\n",
      "paid program :, corruption currents :, daily shot :, wsj, the morning, journal, today :, - wall street, health-care, opinion journal :, ecb, ’ review :, jobs report, roundup :, tour de france, ’ review, opinion |, the day :, s take :, the nba, bonds, photos of the, photos :, islamic state, eurozone, affordable care act, : ', photos -, economics, review :, bankruptcy, fed, - live, makers, : live, ’ s take, ... and, stocks to watch, ge, morning download :, the morning download, the best new, - - live, nypd, sec, ? not, investors, n . j, ipo, the business \n",
      "\n",
      "yahoo.com\n",
      "@y7news, yahoo, à, calgary, - yahoo finance, nhl, govt, b . c, winnipeg, sources :, cramer, celtics, to know in, roundup, blockchain, 49ers, alberta, inc, liverpool, en, : cops, steelers, rankings, wenger, - sources, £, ltd, , cops say, the latest :, mourinho, packers, pct, join the, earnings, ontario, recap :, seahawks, le, knicks, fantasy, qb, modi, apnewsbreak :, manchester united, raiders, sask ., stocks, latest :, wr, leicester \n",
      "\n"
     ]
    }
   ],
   "source": [
    "for d in fit.classes_:\n",
    "    print(d)\n",
    "    print(mdw(d), '\\n')"
   ]
  },
  {
   "cell_type": "code",
   "execution_count": null,
   "metadata": {},
   "outputs": [],
   "source": []
  }
 ],
 "metadata": {
  "kernelspec": {
   "display_name": "Python 3",
   "language": "python",
   "name": "python3"
  },
  "language_info": {
   "codemirror_mode": {
    "name": "ipython",
    "version": 3
   },
   "file_extension": ".py",
   "mimetype": "text/x-python",
   "name": "python",
   "nbconvert_exporter": "python",
   "pygments_lexer": "ipython3",
   "version": "3.7.0"
  }
 },
 "nbformat": 4,
 "nbformat_minor": 2
}
