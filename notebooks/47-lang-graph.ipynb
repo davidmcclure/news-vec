{
 "cells": [
  {
   "cell_type": "code",
   "execution_count": 53,
   "metadata": {},
   "outputs": [],
   "source": [
    "import pickle\n",
    "import warnings\n",
    "import random\n",
    "import umap\n",
    "import torch\n",
    "\n",
    "import networkx as nx\n",
    "import numpy as np\n",
    "import pandas as pd\n",
    "\n",
    "from tqdm import tqdm\n",
    "from glob import glob\n",
    "from collections import OrderedDict\n",
    "from scipy.spatial import distance, KDTree\n",
    "from scipy import stats\n",
    "from sklearn import decomposition\n",
    "from IPython.display import display, Markdown\n",
    "from itertools import product, combinations\n",
    "\n",
    "from torch.nn import functional as F"
   ]
  },
  {
   "cell_type": "code",
   "execution_count": 2,
   "metadata": {},
   "outputs": [],
   "source": [
    "import matplotlib as mpl\n",
    "import matplotlib.pyplot as plt\n",
    "import altair as alt\n",
    "import seaborn as sns\n",
    "\n",
    "mpl.style.use('seaborn-muted')\n",
    "sns.set(style=\"whitegrid\")\n",
    "\n",
    "%matplotlib inline"
   ]
  },
  {
   "cell_type": "code",
   "execution_count": 3,
   "metadata": {},
   "outputs": [],
   "source": [
    "warnings.simplefilter('ignore')\n",
    "alt.data_transformers.enable('default', max_rows=None)\n",
    "pd.options.display.max_rows = 500"
   ]
  },
  {
   "cell_type": "code",
   "execution_count": 4,
   "metadata": {},
   "outputs": [
    {
     "name": "stderr",
     "output_type": "stream",
     "text": [
      "100%|██████████| 66/66 [00:26<00:00,  2.53it/s]\n"
     ]
    }
   ],
   "source": [
    "embeds, rows = [], []\n",
    "\n",
    "titles = set()\n",
    "\n",
    "for path in tqdm(glob('../data/clean-embeds/*.p')):\n",
    "    with open(path, 'rb') as fh:\n",
    "        \n",
    "        lines = pickle.load(fh)\n",
    "\n",
    "        for line in lines:\n",
    "            \n",
    "            title = ' '.join(line.pop('tokens'))\n",
    "            \n",
    "            if title not in titles:\n",
    "                embeds.append(line.pop('embedding'))\n",
    "                rows.append(OrderedDict(title=title, **line))\n",
    "                titles.add(title)"
   ]
  },
  {
   "cell_type": "code",
   "execution_count": 5,
   "metadata": {},
   "outputs": [],
   "source": [
    "embeds = np.stack(embeds)"
   ]
  },
  {
   "cell_type": "code",
   "execution_count": 6,
   "metadata": {},
   "outputs": [],
   "source": [
    "df = pd.DataFrame(rows)"
   ]
  },
  {
   "cell_type": "code",
   "execution_count": 12,
   "metadata": {},
   "outputs": [],
   "source": [
    "domains = df.label.unique()"
   ]
  },
  {
   "cell_type": "code",
   "execution_count": 13,
   "metadata": {},
   "outputs": [
    {
     "data": {
      "text/plain": [
       "array(['dailycaller.com', 'bloomberg.com', 'thehill.com',\n",
       "       'huffingtonpost.com', 'dailykos.com', 'nytimes.com', 'cnn.com',\n",
       "       'wsj.com', 'apnews.com', 'breitbart.com', 'foxnews.com',\n",
       "       'washingtonpost.com', 'buzzfeed.com'], dtype=object)"
      ]
     },
     "execution_count": 13,
     "metadata": {},
     "output_type": "execute_result"
    }
   ],
   "source": [
    "domains"
   ]
  },
  {
   "cell_type": "code",
   "execution_count": 8,
   "metadata": {},
   "outputs": [
    {
     "data": {
      "text/plain": [
       "(642151, 512)"
      ]
     },
     "execution_count": 8,
     "metadata": {},
     "output_type": "execute_result"
    }
   ],
   "source": [
    "embeds.shape"
   ]
  },
  {
   "cell_type": "code",
   "execution_count": 33,
   "metadata": {},
   "outputs": [],
   "source": [
    "def mass_dist(domain):\n",
    "    \n",
    "    ddf = df[df.label==domain]\n",
    "    \n",
    "    masses = {\n",
    "        d: ddf[f'p_{d}'].sum()\n",
    "        for d in domains if d != domain\n",
    "    }\n",
    "    \n",
    "    total = sum(masses.values())\n",
    "    masses_norm = {d: m / total for d, m in masses.items()}\n",
    "    \n",
    "    return masses_norm"
   ]
  },
  {
   "cell_type": "code",
   "execution_count": 35,
   "metadata": {},
   "outputs": [
    {
     "name": "stderr",
     "output_type": "stream",
     "text": [
      "100%|██████████| 13/13 [00:01<00:00,  6.84it/s]\n"
     ]
    }
   ],
   "source": [
    "rows = []\n",
    "for d1 in tqdm(domains):\n",
    "    for d2, m in mass_dist(d1).items():\n",
    "        rows.append((d1, d2, m))"
   ]
  },
  {
   "cell_type": "code",
   "execution_count": 38,
   "metadata": {},
   "outputs": [],
   "source": [
    "mdf = pd.DataFrame(rows, columns=('d1', 'd2', 'm'))"
   ]
  },
  {
   "cell_type": "code",
   "execution_count": 75,
   "metadata": {},
   "outputs": [
    {
     "data": {
      "text/plain": [
       "<matplotlib.axes._subplots.AxesSubplot at 0x1334a4a90>"
      ]
     },
     "execution_count": 75,
     "metadata": {},
     "output_type": "execute_result"
    },
    {
     "data": {
      "image/png": "[encoded data removed]",
      "text/plain": [
       "<Figure size 432x288 with 1 Axes>"
      ]
     },
     "metadata": {
      "needs_background": "light"
     },
     "output_type": "display_data"
    }
   ],
   "source": [
    "pdf = mdf[mdf.d1=='foxnews.com'].sort_values('m', ascending=False)\n",
    "sns.barplot(x='m', y='d2', data=pdf, color='RoyalBlue')"
   ]
  },
  {
   "cell_type": "code",
   "execution_count": null,
   "metadata": {},
   "outputs": [],
   "source": []
  }
 ],
 "metadata": {
  "kernelspec": {
   "display_name": "Python 3",
   "language": "python",
   "name": "python3"
  },
  "language_info": {
   "codemirror_mode": {
    "name": "ipython",
    "version": 3
   },
   "file_extension": ".py",
   "mimetype": "text/x-python",
   "name": "python",
   "nbconvert_exporter": "python",
   "pygments_lexer": "ipython3",
   "version": "3.7.0"
  }
 },
 "nbformat": 4,
 "nbformat_minor": 2
}
