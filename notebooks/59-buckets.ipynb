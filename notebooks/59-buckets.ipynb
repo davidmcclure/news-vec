{
 "cells": [
  {
   "cell_type": "code",
   "execution_count": 160,
   "metadata": {},
   "outputs": [],
   "source": [
    "import pandas as pd\n",
    "\n",
    "from cached_property import cached_property\n",
    "from collections import Counter\n",
    "\n",
    "from news_vec.utils import read_json_gz_lines"
   ]
  },
  {
   "cell_type": "code",
   "execution_count": 183,
   "metadata": {},
   "outputs": [],
   "source": [
    "def sample_groups(df, groupby, n):\n",
    "    return df.groupby(groupby).apply(lambda x: x.sample(n))"
   ]
  },
  {
   "cell_type": "code",
   "execution_count": 189,
   "metadata": {},
   "outputs": [],
   "source": [
    "def make_pairs(df):\n",
    "    return df[['article_id', 'domain']].values.tolist()"
   ]
  },
  {
   "cell_type": "code",
   "execution_count": 319,
   "metadata": {},
   "outputs": [],
   "source": [
    "class Corpus:\n",
    "    \n",
    "    def __init__(self, root):\n",
    "        links_iter = read_json_gz_lines(root)\n",
    "        self.links = pd.DataFrame(links_iter)\n",
    "        \n",
    "    @cached_property\n",
    "    def unique_articles(self):\n",
    "        return self.links[['domain', 'article_id']].drop_duplicates()\n",
    "        \n",
    "    @cached_property\n",
    "    def min_domain_count(self):\n",
    "        \"\"\"Smallest number of unique articles per domain.\n",
    "        \"\"\"\n",
    "        return self.unique_articles.groupby('domain').size().min()\n",
    "    \n",
    "    def sample_all_vs_all(self):\n",
    "        \"\"\"Sample evenly from all domains.\n",
    "        \"\"\"\n",
    "        rows = (self.unique_articles\n",
    "            .groupby('domain')\n",
    "            .apply(lambda x: x.sample(self.min_domain_count)))\n",
    "        \n",
    "        return make_pairs(rows)\n",
    "    \n",
    "    def sample_a_vs_b(self):\n",
    "        \"\"\"Sample evenly from two domains.\n",
    "        \"\"\"\n",
    "        rows = (self.unique_articles\n",
    "            [self.unique_articles.domain.isin([a, b])]\n",
    "            .groupby('domain')\n",
    "            .apply(lambda x: x.sample(self.min_domain_count)))\n",
    "        \n",
    "        return make_pairs(rows)"
   ]
  },
  {
   "cell_type": "code",
   "execution_count": 320,
   "metadata": {},
   "outputs": [],
   "source": [
    "corpus = Corpus('../data/clf-links.json/')"
   ]
  },
  {
   "cell_type": "code",
   "execution_count": 321,
   "metadata": {},
   "outputs": [
    {
     "data": {
      "text/plain": [
       "29185"
      ]
     },
     "execution_count": 321,
     "metadata": {},
     "output_type": "execute_result"
    }
   ],
   "source": [
    "links.min_domain_count"
   ]
  },
  {
   "cell_type": "code",
   "execution_count": 323,
   "metadata": {},
   "outputs": [],
   "source": [
    "ava = links.sample_all_vs_all()"
   ]
  },
  {
   "cell_type": "code",
   "execution_count": 324,
   "metadata": {},
   "outputs": [
    {
     "data": {
      "text/plain": [
       "466960"
      ]
     },
     "execution_count": 324,
     "metadata": {},
     "output_type": "execute_result"
    }
   ],
   "source": [
    "len(ava)"
   ]
  },
  {
   "cell_type": "code",
   "execution_count": 325,
   "metadata": {},
   "outputs": [
    {
     "data": {
      "text/plain": [
       "Counter({'apnews.com': 29185,\n",
       "         'bloomberg.com': 29185,\n",
       "         'breitbart.com': 29185,\n",
       "         'buzzfeed.com': 29185,\n",
       "         'cnn.com': 29185,\n",
       "         'dailycaller.com': 29185,\n",
       "         'dailykos.com': 29185,\n",
       "         'foxnews.com': 29185,\n",
       "         'huffingtonpost.com': 29185,\n",
       "         'npr.org': 29185,\n",
       "         'nytimes.com': 29185,\n",
       "         'rt.com': 29185,\n",
       "         'sputniknews.com': 29185,\n",
       "         'thehill.com': 29185,\n",
       "         'washingtonpost.com': 29185,\n",
       "         'wsj.com': 29185})"
      ]
     },
     "execution_count": 325,
     "metadata": {},
     "output_type": "execute_result"
    }
   ],
   "source": [
    "Counter(d for _, d in ava)"
   ]
  },
  {
   "cell_type": "code",
   "execution_count": 326,
   "metadata": {},
   "outputs": [],
   "source": [
    "avb = links.sample_a_vs_b('nytimes.com', 'rt.com')"
   ]
  },
  {
   "cell_type": "code",
   "execution_count": 327,
   "metadata": {},
   "outputs": [
    {
     "data": {
      "text/plain": [
       "58370"
      ]
     },
     "execution_count": 327,
     "metadata": {},
     "output_type": "execute_result"
    }
   ],
   "source": [
    "len(avb)"
   ]
  },
  {
   "cell_type": "code",
   "execution_count": 328,
   "metadata": {},
   "outputs": [
    {
     "data": {
      "text/plain": [
       "Counter({'nytimes.com': 29185, 'rt.com': 29185})"
      ]
     },
     "execution_count": 328,
     "metadata": {},
     "output_type": "execute_result"
    }
   ],
   "source": [
    "Counter(d for _, d in avb)"
   ]
  },
  {
   "cell_type": "code",
   "execution_count": null,
   "metadata": {},
   "outputs": [],
   "source": []
  }
 ],
 "metadata": {
  "kernelspec": {
   "display_name": "Python 3",
   "language": "python",
   "name": "python3"
  },
  "language_info": {
   "codemirror_mode": {
    "name": "ipython",
    "version": 3
   },
   "file_extension": ".py",
   "mimetype": "text/x-python",
   "name": "python",
   "nbconvert_exporter": "python",
   "pygments_lexer": "ipython3",
   "version": "3.7.0"
  }
 },
 "nbformat": 4,
 "nbformat_minor": 2
}
