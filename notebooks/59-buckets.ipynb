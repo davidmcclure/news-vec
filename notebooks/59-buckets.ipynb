{
 "cells": [
  {
   "cell_type": "code",
   "execution_count": 160,
   "metadata": {},
   "outputs": [],
   "source": [
    "import pandas as pd\n",
    "\n",
    "from cached_property import cached_property\n",
    "from collections import Counter\n",
    "\n",
    "from news_vec.utils import read_json_gz_lines"
   ]
  },
  {
   "cell_type": "code",
   "execution_count": 135,
   "metadata": {},
   "outputs": [],
   "source": [
    "def sample_link_groups(df, groupby, n):\n",
    "    rows = df.groupby(groupby).apply(lambda x: x.sample(n))\n",
    "    return rows[['article_id', 'domain']].values.tolist()"
   ]
  },
  {
   "cell_type": "code",
   "execution_count": 183,
   "metadata": {},
   "outputs": [],
   "source": [
    "def sample_groups(df, groupby, n):\n",
    "    return df.groupby(groupby).apply(lambda x: x.sample(n))"
   ]
  },
  {
   "cell_type": "code",
   "execution_count": 189,
   "metadata": {},
   "outputs": [],
   "source": [
    "def make_pairs(df):\n",
    "    return df[['article_id', 'domain']].values.tolist()"
   ]
  },
  {
   "cell_type": "code",
   "execution_count": 205,
   "metadata": {},
   "outputs": [],
   "source": [
    "class Links:\n",
    "    \n",
    "    def __init__(self, root):\n",
    "        lines_iter = read_json_gz_lines('../data/clf-links.json/')\n",
    "        self.df = pd.DataFrame(lines_iter)\n",
    "        \n",
    "    @cached_property\n",
    "    def min_domain_count(self):\n",
    "        return self.df.groupby('domain').count()['article_id'].min()\n",
    "\n",
    "    @cached_property\n",
    "    def min_domain_bucket_count(self):\n",
    "        return self.df.groupby(['domain', 'ts_bucket']).count()['article_id'].min()\n",
    "    \n",
    "    def sample_all_vs_all(self):\n",
    "        rows = sample_groups(self.df, 'domain', self.min_domain_count)\n",
    "        return make_pairs(rows)\n",
    "    \n",
    "    def sample_a_vs_b(self, a, b):\n",
    "        rows = self.df[self.df.domain.isin([a, b])]\n",
    "        rows = sample_groups(rows, 'domain', self.min_domain_count)\n",
    "        return make_pairs(rows)\n",
    "    \n",
    "    def sample_a_vs_b_ts(self, a, b, bucket):\n",
    "        rows = self.df[self.df.domain.isin([a, b]) & self.df.ts_bucket==bucket]\n",
    "        rows = sample_groups(rows, 'domain', self.min_domain_bucket_count)\n",
    "        return make_pairs(rows)\n",
    "    \n",
    "    def sample_one_vs_all(self, a):\n",
    "        rows = sample_groups(self.df, 'domain', self.min_domain_count)\n",
    "        groupby = rows.domain.apply(lambda x: x if x == a else 'other')\n",
    "        rows = sample_groups(rows, groupby, self.min_domain_count)\n",
    "        return make_pairs(rows)\n",
    "    \n",
    "    def sample_one_vs_all_ts(self, a, bucket):\n",
    "        rows = self.df[self.df.ts_bucket==bucket]\n",
    "        rows = sample_groups(rows, 'domain', self.min_domain_bucket_count)\n",
    "        groupby = rows.domain.apply(lambda x: x if x == a else 'other')\n",
    "        rows = sample_groups(rows, groupby, self.min_domain_bucket_count)\n",
    "        return make_pairs(rows)"
   ]
  },
  {
   "cell_type": "code",
   "execution_count": 206,
   "metadata": {},
   "outputs": [],
   "source": [
    "links = Links('../data/clf-links.json/')"
   ]
  },
  {
   "cell_type": "code",
   "execution_count": 192,
   "metadata": {},
   "outputs": [
    {
     "data": {
      "text/plain": [
       "29518"
      ]
     },
     "execution_count": 192,
     "metadata": {},
     "output_type": "execute_result"
    }
   ],
   "source": [
    "links.min_domain_count"
   ]
  },
  {
   "cell_type": "code",
   "execution_count": 193,
   "metadata": {},
   "outputs": [
    {
     "data": {
      "text/plain": [
       "2686"
      ]
     },
     "execution_count": 193,
     "metadata": {},
     "output_type": "execute_result"
    }
   ],
   "source": [
    "links.min_domain_bucket_count"
   ]
  },
  {
   "cell_type": "code",
   "execution_count": 194,
   "metadata": {},
   "outputs": [
    {
     "data": {
      "text/plain": [
       "472288"
      ]
     },
     "execution_count": 194,
     "metadata": {},
     "output_type": "execute_result"
    }
   ],
   "source": [
    "len(links.sample_all_vs_all())"
   ]
  },
  {
   "cell_type": "code",
   "execution_count": 195,
   "metadata": {},
   "outputs": [
    {
     "data": {
      "text/plain": [
       "Counter({'apnews.com': 29518,\n",
       "         'bloomberg.com': 29518,\n",
       "         'breitbart.com': 29518,\n",
       "         'buzzfeed.com': 29518,\n",
       "         'cnn.com': 29518,\n",
       "         'dailycaller.com': 29518,\n",
       "         'dailykos.com': 29518,\n",
       "         'foxnews.com': 29518,\n",
       "         'huffingtonpost.com': 29518,\n",
       "         'npr.org': 29518,\n",
       "         'nytimes.com': 29518,\n",
       "         'rt.com': 29518,\n",
       "         'sputniknews.com': 29518,\n",
       "         'thehill.com': 29518,\n",
       "         'washingtonpost.com': 29518,\n",
       "         'wsj.com': 29518})"
      ]
     },
     "execution_count": 195,
     "metadata": {},
     "output_type": "execute_result"
    }
   ],
   "source": [
    "Counter(d for _, d in links.sample_all_vs_all())"
   ]
  },
  {
   "cell_type": "code",
   "execution_count": 196,
   "metadata": {},
   "outputs": [
    {
     "data": {
      "text/plain": [
       "59036"
      ]
     },
     "execution_count": 196,
     "metadata": {},
     "output_type": "execute_result"
    }
   ],
   "source": [
    "len(links.sample_a_vs_b('nytimes.com', 'apnews.com'))"
   ]
  },
  {
   "cell_type": "code",
   "execution_count": 197,
   "metadata": {},
   "outputs": [
    {
     "data": {
      "text/plain": [
       "Counter({'apnews.com': 29518, 'nytimes.com': 29518})"
      ]
     },
     "execution_count": 197,
     "metadata": {},
     "output_type": "execute_result"
    }
   ],
   "source": [
    "Counter(d for _, d in links.sample_a_vs_b('nytimes.com', 'apnews.com'))"
   ]
  },
  {
   "cell_type": "code",
   "execution_count": 198,
   "metadata": {},
   "outputs": [
    {
     "data": {
      "text/plain": [
       "5372"
      ]
     },
     "execution_count": 198,
     "metadata": {},
     "output_type": "execute_result"
    }
   ],
   "source": [
    "len(links.sample_a_vs_b_ts('nytimes.com', 'apnews.com', 1))"
   ]
  },
  {
   "cell_type": "code",
   "execution_count": 199,
   "metadata": {},
   "outputs": [
    {
     "data": {
      "text/plain": [
       "Counter({'apnews.com': 2686, 'nytimes.com': 2686})"
      ]
     },
     "execution_count": 199,
     "metadata": {},
     "output_type": "execute_result"
    }
   ],
   "source": [
    "Counter(d for _, d in links.sample_a_vs_b_ts('nytimes.com', 'apnews.com', 1))"
   ]
  },
  {
   "cell_type": "code",
   "execution_count": 200,
   "metadata": {},
   "outputs": [
    {
     "data": {
      "text/plain": [
       "59036"
      ]
     },
     "execution_count": 200,
     "metadata": {},
     "output_type": "execute_result"
    }
   ],
   "source": [
    "len(links.sample_one_vs_all('nytimes.com'))"
   ]
  },
  {
   "cell_type": "code",
   "execution_count": 201,
   "metadata": {},
   "outputs": [
    {
     "data": {
      "text/plain": [
       "Counter({'foxnews.com': 29518,\n",
       "         'buzzfeed.com': 1836,\n",
       "         'rt.com': 1936,\n",
       "         'bloomberg.com': 1997,\n",
       "         'thehill.com': 1956,\n",
       "         'apnews.com': 1942,\n",
       "         'dailycaller.com': 2025,\n",
       "         'washingtonpost.com': 1975,\n",
       "         'wsj.com': 2065,\n",
       "         'sputniknews.com': 1940,\n",
       "         'nytimes.com': 1963,\n",
       "         'dailykos.com': 2065,\n",
       "         'huffingtonpost.com': 1960,\n",
       "         'npr.org': 1957,\n",
       "         'cnn.com': 1915,\n",
       "         'breitbart.com': 1986})"
      ]
     },
     "execution_count": 201,
     "metadata": {},
     "output_type": "execute_result"
    }
   ],
   "source": [
    "Counter(d for _, d in links.sample_one_vs_all('foxnews.com'))"
   ]
  },
  {
   "cell_type": "code",
   "execution_count": 207,
   "metadata": {},
   "outputs": [
    {
     "data": {
      "text/plain": [
       "5372"
      ]
     },
     "execution_count": 207,
     "metadata": {},
     "output_type": "execute_result"
    }
   ],
   "source": [
    "len(links.sample_one_vs_all_ts('nytimes.com', 1))"
   ]
  },
  {
   "cell_type": "code",
   "execution_count": 208,
   "metadata": {},
   "outputs": [
    {
     "data": {
      "text/plain": [
       "Counter({'foxnews.com': 2686,\n",
       "         'rt.com': 193,\n",
       "         'apnews.com': 186,\n",
       "         'npr.org': 158,\n",
       "         'sputniknews.com': 166,\n",
       "         'breitbart.com': 172,\n",
       "         'dailykos.com': 168,\n",
       "         'nytimes.com': 193,\n",
       "         'huffingtonpost.com': 176,\n",
       "         'buzzfeed.com': 187,\n",
       "         'bloomberg.com': 184,\n",
       "         'washingtonpost.com': 194,\n",
       "         'wsj.com': 178,\n",
       "         'cnn.com': 175,\n",
       "         'thehill.com': 171,\n",
       "         'dailycaller.com': 185})"
      ]
     },
     "execution_count": 208,
     "metadata": {},
     "output_type": "execute_result"
    }
   ],
   "source": [
    "Counter(d for _, d in links.sample_one_vs_all_ts('foxnews.com', 1))"
   ]
  }
 ],
 "metadata": {
  "kernelspec": {
   "display_name": "Python 3",
   "language": "python",
   "name": "python3"
  },
  "language_info": {
   "codemirror_mode": {
    "name": "ipython",
    "version": 3
   },
   "file_extension": ".py",
   "mimetype": "text/x-python",
   "name": "python",
   "nbconvert_exporter": "python",
   "pygments_lexer": "ipython3",
   "version": "3.7.0"
  }
 },
 "nbformat": 4,
 "nbformat_minor": 2
}
