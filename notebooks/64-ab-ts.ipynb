{
 "cells": [
  {
   "cell_type": "code",
   "execution_count": 139,
   "metadata": {},
   "outputs": [],
   "source": [
    "import pandas as pd\n",
    "import numpy as np\n",
    "\n",
    "from news_vec.corpus import Corpus\n",
    "\n",
    "from tqdm import tqdm\n",
    "from boltons.iterutils import windowed\n",
    "from collections import Counter\n",
    "from itertools import combinations\n",
    "from scipy import stats\n",
    "\n",
    "from sklearn.model_selection import cross_val_score\n",
    "from sklearn.feature_extraction.text import TfidfVectorizer\n",
    "from sklearn.svm import LinearSVC\n",
    "from sklearn.pipeline import Pipeline\n",
    "from sklearn import metrics"
   ]
  },
  {
   "cell_type": "code",
   "execution_count": 2,
   "metadata": {},
   "outputs": [],
   "source": [
    "import matplotlib as mpl\n",
    "import matplotlib.pyplot as plt\n",
    "import altair as alt\n",
    "import seaborn as sns\n",
    "\n",
    "mpl.style.use('seaborn-muted')\n",
    "sns.set(style=\"whitegrid\")\n",
    "\n",
    "%matplotlib inline"
   ]
  },
  {
   "cell_type": "code",
   "execution_count": 3,
   "metadata": {},
   "outputs": [
    {
     "name": "stderr",
     "output_type": "stream",
     "text": [
      "2018-12-26 02:11:37,618 | INFO : Reading links.\n",
      "1225511it [00:03, 351585.48it/s]\n",
      "2018-12-26 02:11:42,995 | INFO : Reading headlines.\n",
      "1127502it [00:21, 53170.27it/s]\n"
     ]
    }
   ],
   "source": [
    "corpus = Corpus('../data/clf-links.json/', '../data/clf-headlines.json/')"
   ]
  },
  {
   "cell_type": "code",
   "execution_count": 12,
   "metadata": {},
   "outputs": [],
   "source": [
    "min_dts_count = corpus.links.groupby(['domain', 'ts_bucket']).size().min()"
   ]
  },
  {
   "cell_type": "code",
   "execution_count": 30,
   "metadata": {},
   "outputs": [],
   "source": [
    "def a_vs_b(d1, d2, ts_bucket, n=10):\n",
    "    \n",
    "    rows = (corpus.links\n",
    "         [(corpus.links.domain.isin([d1, d2])) & (corpus.links.ts_bucket==ts_bucket)]\n",
    "         .groupby(['domain', 'ts_bucket'])\n",
    "         .apply(lambda x: x.sample(min_dts_count)))\n",
    "    \n",
    "    ds = corpus.make_dataset(rows)\n",
    "    df = ds.to_df()\n",
    "    \n",
    "    tv = TfidfVectorizer(\n",
    "        analyzer='word',\n",
    "        tokenizer=lambda x: x,\n",
    "        preprocessor=lambda x: x,\n",
    "        token_pattern=None,\n",
    "        ngram_range=(1,3)\n",
    "    )\n",
    "    \n",
    "    clf = LinearSVC()\n",
    "    \n",
    "    X = tv.fit_transform(df.tokens)\n",
    "    \n",
    "    return cross_val_score(clf, X, df.domain, cv=n, n_jobs=-1)"
   ]
  },
  {
   "cell_type": "code",
   "execution_count": 47,
   "metadata": {},
   "outputs": [],
   "source": [
    "domains = corpus.unique_articles.domain.unique()"
   ]
  },
  {
   "cell_type": "code",
   "execution_count": 48,
   "metadata": {},
   "outputs": [],
   "source": [
    "pairs = list(combinations(domains, 2))"
   ]
  },
  {
   "cell_type": "code",
   "execution_count": null,
   "metadata": {},
   "outputs": [],
   "source": [
    "rows = []\n",
    "for a, b in tqdm(pairs):\n",
    "    for i in tqdm(range(10)):\n",
    "        scores = a_vs_b(a, b, i, 100)\n",
    "        for s in scores:\n",
    "            rows.append((a, b, i, s))"
   ]
  },
  {
   "cell_type": "code",
   "execution_count": 121,
   "metadata": {},
   "outputs": [],
   "source": [
    "sdf = pd.DataFrame(rows, columns=('d1', 'd2', 'b', 'acc'))"
   ]
  },
  {
   "cell_type": "code",
   "execution_count": 122,
   "metadata": {},
   "outputs": [
    {
     "data": {
      "text/html": [
       "<div>\n",
       "<style scoped>\n",
       "    .dataframe tbody tr th:only-of-type {\n",
       "        vertical-align: middle;\n",
       "    }\n",
       "\n",
       "    .dataframe tbody tr th {\n",
       "        vertical-align: top;\n",
       "    }\n",
       "\n",
       "    .dataframe thead th {\n",
       "        text-align: right;\n",
       "    }\n",
       "</style>\n",
       "<table border=\"1\" class=\"dataframe\">\n",
       "  <thead>\n",
       "    <tr style=\"text-align: right;\">\n",
       "      <th></th>\n",
       "      <th>d1</th>\n",
       "      <th>d2</th>\n",
       "      <th>b</th>\n",
       "      <th>acc</th>\n",
       "    </tr>\n",
       "  </thead>\n",
       "  <tbody>\n",
       "    <tr>\n",
       "      <th>0</th>\n",
       "      <td>apnews.com</td>\n",
       "      <td>bloomberg.com</td>\n",
       "      <td>0</td>\n",
       "      <td>0.777778</td>\n",
       "    </tr>\n",
       "    <tr>\n",
       "      <th>1</th>\n",
       "      <td>apnews.com</td>\n",
       "      <td>bloomberg.com</td>\n",
       "      <td>0</td>\n",
       "      <td>0.851852</td>\n",
       "    </tr>\n",
       "    <tr>\n",
       "      <th>2</th>\n",
       "      <td>apnews.com</td>\n",
       "      <td>bloomberg.com</td>\n",
       "      <td>0</td>\n",
       "      <td>0.833333</td>\n",
       "    </tr>\n",
       "    <tr>\n",
       "      <th>3</th>\n",
       "      <td>apnews.com</td>\n",
       "      <td>bloomberg.com</td>\n",
       "      <td>0</td>\n",
       "      <td>0.851852</td>\n",
       "    </tr>\n",
       "    <tr>\n",
       "      <th>4</th>\n",
       "      <td>apnews.com</td>\n",
       "      <td>bloomberg.com</td>\n",
       "      <td>0</td>\n",
       "      <td>0.814815</td>\n",
       "    </tr>\n",
       "    <tr>\n",
       "      <th>5</th>\n",
       "      <td>apnews.com</td>\n",
       "      <td>bloomberg.com</td>\n",
       "      <td>0</td>\n",
       "      <td>0.851852</td>\n",
       "    </tr>\n",
       "    <tr>\n",
       "      <th>6</th>\n",
       "      <td>apnews.com</td>\n",
       "      <td>bloomberg.com</td>\n",
       "      <td>0</td>\n",
       "      <td>0.833333</td>\n",
       "    </tr>\n",
       "    <tr>\n",
       "      <th>7</th>\n",
       "      <td>apnews.com</td>\n",
       "      <td>bloomberg.com</td>\n",
       "      <td>0</td>\n",
       "      <td>0.907407</td>\n",
       "    </tr>\n",
       "    <tr>\n",
       "      <th>8</th>\n",
       "      <td>apnews.com</td>\n",
       "      <td>bloomberg.com</td>\n",
       "      <td>0</td>\n",
       "      <td>0.740741</td>\n",
       "    </tr>\n",
       "    <tr>\n",
       "      <th>9</th>\n",
       "      <td>apnews.com</td>\n",
       "      <td>bloomberg.com</td>\n",
       "      <td>0</td>\n",
       "      <td>0.851852</td>\n",
       "    </tr>\n",
       "    <tr>\n",
       "      <th>10</th>\n",
       "      <td>apnews.com</td>\n",
       "      <td>bloomberg.com</td>\n",
       "      <td>0</td>\n",
       "      <td>0.833333</td>\n",
       "    </tr>\n",
       "    <tr>\n",
       "      <th>11</th>\n",
       "      <td>apnews.com</td>\n",
       "      <td>bloomberg.com</td>\n",
       "      <td>0</td>\n",
       "      <td>0.833333</td>\n",
       "    </tr>\n",
       "    <tr>\n",
       "      <th>12</th>\n",
       "      <td>apnews.com</td>\n",
       "      <td>bloomberg.com</td>\n",
       "      <td>0</td>\n",
       "      <td>0.907407</td>\n",
       "    </tr>\n",
       "    <tr>\n",
       "      <th>13</th>\n",
       "      <td>apnews.com</td>\n",
       "      <td>bloomberg.com</td>\n",
       "      <td>0</td>\n",
       "      <td>0.870370</td>\n",
       "    </tr>\n",
       "    <tr>\n",
       "      <th>14</th>\n",
       "      <td>apnews.com</td>\n",
       "      <td>bloomberg.com</td>\n",
       "      <td>0</td>\n",
       "      <td>0.759259</td>\n",
       "    </tr>\n",
       "    <tr>\n",
       "      <th>15</th>\n",
       "      <td>apnews.com</td>\n",
       "      <td>bloomberg.com</td>\n",
       "      <td>0</td>\n",
       "      <td>0.796296</td>\n",
       "    </tr>\n",
       "    <tr>\n",
       "      <th>16</th>\n",
       "      <td>apnews.com</td>\n",
       "      <td>bloomberg.com</td>\n",
       "      <td>0</td>\n",
       "      <td>0.740741</td>\n",
       "    </tr>\n",
       "    <tr>\n",
       "      <th>17</th>\n",
       "      <td>apnews.com</td>\n",
       "      <td>bloomberg.com</td>\n",
       "      <td>0</td>\n",
       "      <td>0.851852</td>\n",
       "    </tr>\n",
       "    <tr>\n",
       "      <th>18</th>\n",
       "      <td>apnews.com</td>\n",
       "      <td>bloomberg.com</td>\n",
       "      <td>0</td>\n",
       "      <td>0.796296</td>\n",
       "    </tr>\n",
       "    <tr>\n",
       "      <th>19</th>\n",
       "      <td>apnews.com</td>\n",
       "      <td>bloomberg.com</td>\n",
       "      <td>0</td>\n",
       "      <td>0.777778</td>\n",
       "    </tr>\n",
       "    <tr>\n",
       "      <th>20</th>\n",
       "      <td>apnews.com</td>\n",
       "      <td>bloomberg.com</td>\n",
       "      <td>0</td>\n",
       "      <td>0.796296</td>\n",
       "    </tr>\n",
       "    <tr>\n",
       "      <th>21</th>\n",
       "      <td>apnews.com</td>\n",
       "      <td>bloomberg.com</td>\n",
       "      <td>0</td>\n",
       "      <td>0.870370</td>\n",
       "    </tr>\n",
       "    <tr>\n",
       "      <th>22</th>\n",
       "      <td>apnews.com</td>\n",
       "      <td>bloomberg.com</td>\n",
       "      <td>0</td>\n",
       "      <td>0.703704</td>\n",
       "    </tr>\n",
       "    <tr>\n",
       "      <th>23</th>\n",
       "      <td>apnews.com</td>\n",
       "      <td>bloomberg.com</td>\n",
       "      <td>0</td>\n",
       "      <td>0.851852</td>\n",
       "    </tr>\n",
       "    <tr>\n",
       "      <th>24</th>\n",
       "      <td>apnews.com</td>\n",
       "      <td>bloomberg.com</td>\n",
       "      <td>0</td>\n",
       "      <td>0.851852</td>\n",
       "    </tr>\n",
       "    <tr>\n",
       "      <th>25</th>\n",
       "      <td>apnews.com</td>\n",
       "      <td>bloomberg.com</td>\n",
       "      <td>0</td>\n",
       "      <td>0.814815</td>\n",
       "    </tr>\n",
       "    <tr>\n",
       "      <th>26</th>\n",
       "      <td>apnews.com</td>\n",
       "      <td>bloomberg.com</td>\n",
       "      <td>0</td>\n",
       "      <td>0.851852</td>\n",
       "    </tr>\n",
       "    <tr>\n",
       "      <th>27</th>\n",
       "      <td>apnews.com</td>\n",
       "      <td>bloomberg.com</td>\n",
       "      <td>0</td>\n",
       "      <td>0.833333</td>\n",
       "    </tr>\n",
       "    <tr>\n",
       "      <th>28</th>\n",
       "      <td>apnews.com</td>\n",
       "      <td>bloomberg.com</td>\n",
       "      <td>0</td>\n",
       "      <td>0.722222</td>\n",
       "    </tr>\n",
       "    <tr>\n",
       "      <th>29</th>\n",
       "      <td>apnews.com</td>\n",
       "      <td>bloomberg.com</td>\n",
       "      <td>0</td>\n",
       "      <td>0.796296</td>\n",
       "    </tr>\n",
       "    <tr>\n",
       "      <th>...</th>\n",
       "      <td>...</td>\n",
       "      <td>...</td>\n",
       "      <td>...</td>\n",
       "      <td>...</td>\n",
       "    </tr>\n",
       "    <tr>\n",
       "      <th>119970</th>\n",
       "      <td>rt.com</td>\n",
       "      <td>sputniknews.com</td>\n",
       "      <td>9</td>\n",
       "      <td>0.611111</td>\n",
       "    </tr>\n",
       "    <tr>\n",
       "      <th>119971</th>\n",
       "      <td>rt.com</td>\n",
       "      <td>sputniknews.com</td>\n",
       "      <td>9</td>\n",
       "      <td>0.537037</td>\n",
       "    </tr>\n",
       "    <tr>\n",
       "      <th>119972</th>\n",
       "      <td>rt.com</td>\n",
       "      <td>sputniknews.com</td>\n",
       "      <td>9</td>\n",
       "      <td>0.537037</td>\n",
       "    </tr>\n",
       "    <tr>\n",
       "      <th>119973</th>\n",
       "      <td>rt.com</td>\n",
       "      <td>sputniknews.com</td>\n",
       "      <td>9</td>\n",
       "      <td>0.648148</td>\n",
       "    </tr>\n",
       "    <tr>\n",
       "      <th>119974</th>\n",
       "      <td>rt.com</td>\n",
       "      <td>sputniknews.com</td>\n",
       "      <td>9</td>\n",
       "      <td>0.574074</td>\n",
       "    </tr>\n",
       "    <tr>\n",
       "      <th>119975</th>\n",
       "      <td>rt.com</td>\n",
       "      <td>sputniknews.com</td>\n",
       "      <td>9</td>\n",
       "      <td>0.759259</td>\n",
       "    </tr>\n",
       "    <tr>\n",
       "      <th>119976</th>\n",
       "      <td>rt.com</td>\n",
       "      <td>sputniknews.com</td>\n",
       "      <td>9</td>\n",
       "      <td>0.592593</td>\n",
       "    </tr>\n",
       "    <tr>\n",
       "      <th>119977</th>\n",
       "      <td>rt.com</td>\n",
       "      <td>sputniknews.com</td>\n",
       "      <td>9</td>\n",
       "      <td>0.666667</td>\n",
       "    </tr>\n",
       "    <tr>\n",
       "      <th>119978</th>\n",
       "      <td>rt.com</td>\n",
       "      <td>sputniknews.com</td>\n",
       "      <td>9</td>\n",
       "      <td>0.611111</td>\n",
       "    </tr>\n",
       "    <tr>\n",
       "      <th>119979</th>\n",
       "      <td>rt.com</td>\n",
       "      <td>sputniknews.com</td>\n",
       "      <td>9</td>\n",
       "      <td>0.685185</td>\n",
       "    </tr>\n",
       "    <tr>\n",
       "      <th>119980</th>\n",
       "      <td>rt.com</td>\n",
       "      <td>sputniknews.com</td>\n",
       "      <td>9</td>\n",
       "      <td>0.685185</td>\n",
       "    </tr>\n",
       "    <tr>\n",
       "      <th>119981</th>\n",
       "      <td>rt.com</td>\n",
       "      <td>sputniknews.com</td>\n",
       "      <td>9</td>\n",
       "      <td>0.703704</td>\n",
       "    </tr>\n",
       "    <tr>\n",
       "      <th>119982</th>\n",
       "      <td>rt.com</td>\n",
       "      <td>sputniknews.com</td>\n",
       "      <td>9</td>\n",
       "      <td>0.629630</td>\n",
       "    </tr>\n",
       "    <tr>\n",
       "      <th>119983</th>\n",
       "      <td>rt.com</td>\n",
       "      <td>sputniknews.com</td>\n",
       "      <td>9</td>\n",
       "      <td>0.666667</td>\n",
       "    </tr>\n",
       "    <tr>\n",
       "      <th>119984</th>\n",
       "      <td>rt.com</td>\n",
       "      <td>sputniknews.com</td>\n",
       "      <td>9</td>\n",
       "      <td>0.629630</td>\n",
       "    </tr>\n",
       "    <tr>\n",
       "      <th>119985</th>\n",
       "      <td>rt.com</td>\n",
       "      <td>sputniknews.com</td>\n",
       "      <td>9</td>\n",
       "      <td>0.574074</td>\n",
       "    </tr>\n",
       "    <tr>\n",
       "      <th>119986</th>\n",
       "      <td>rt.com</td>\n",
       "      <td>sputniknews.com</td>\n",
       "      <td>9</td>\n",
       "      <td>0.653846</td>\n",
       "    </tr>\n",
       "    <tr>\n",
       "      <th>119987</th>\n",
       "      <td>rt.com</td>\n",
       "      <td>sputniknews.com</td>\n",
       "      <td>9</td>\n",
       "      <td>0.557692</td>\n",
       "    </tr>\n",
       "    <tr>\n",
       "      <th>119988</th>\n",
       "      <td>rt.com</td>\n",
       "      <td>sputniknews.com</td>\n",
       "      <td>9</td>\n",
       "      <td>0.653846</td>\n",
       "    </tr>\n",
       "    <tr>\n",
       "      <th>119989</th>\n",
       "      <td>rt.com</td>\n",
       "      <td>sputniknews.com</td>\n",
       "      <td>9</td>\n",
       "      <td>0.615385</td>\n",
       "    </tr>\n",
       "    <tr>\n",
       "      <th>119990</th>\n",
       "      <td>rt.com</td>\n",
       "      <td>sputniknews.com</td>\n",
       "      <td>9</td>\n",
       "      <td>0.557692</td>\n",
       "    </tr>\n",
       "    <tr>\n",
       "      <th>119991</th>\n",
       "      <td>rt.com</td>\n",
       "      <td>sputniknews.com</td>\n",
       "      <td>9</td>\n",
       "      <td>0.615385</td>\n",
       "    </tr>\n",
       "    <tr>\n",
       "      <th>119992</th>\n",
       "      <td>rt.com</td>\n",
       "      <td>sputniknews.com</td>\n",
       "      <td>9</td>\n",
       "      <td>0.615385</td>\n",
       "    </tr>\n",
       "    <tr>\n",
       "      <th>119993</th>\n",
       "      <td>rt.com</td>\n",
       "      <td>sputniknews.com</td>\n",
       "      <td>9</td>\n",
       "      <td>0.807692</td>\n",
       "    </tr>\n",
       "    <tr>\n",
       "      <th>119994</th>\n",
       "      <td>rt.com</td>\n",
       "      <td>sputniknews.com</td>\n",
       "      <td>9</td>\n",
       "      <td>0.576923</td>\n",
       "    </tr>\n",
       "    <tr>\n",
       "      <th>119995</th>\n",
       "      <td>rt.com</td>\n",
       "      <td>sputniknews.com</td>\n",
       "      <td>9</td>\n",
       "      <td>0.557692</td>\n",
       "    </tr>\n",
       "    <tr>\n",
       "      <th>119996</th>\n",
       "      <td>rt.com</td>\n",
       "      <td>sputniknews.com</td>\n",
       "      <td>9</td>\n",
       "      <td>0.615385</td>\n",
       "    </tr>\n",
       "    <tr>\n",
       "      <th>119997</th>\n",
       "      <td>rt.com</td>\n",
       "      <td>sputniknews.com</td>\n",
       "      <td>9</td>\n",
       "      <td>0.673077</td>\n",
       "    </tr>\n",
       "    <tr>\n",
       "      <th>119998</th>\n",
       "      <td>rt.com</td>\n",
       "      <td>sputniknews.com</td>\n",
       "      <td>9</td>\n",
       "      <td>0.538462</td>\n",
       "    </tr>\n",
       "    <tr>\n",
       "      <th>119999</th>\n",
       "      <td>rt.com</td>\n",
       "      <td>sputniknews.com</td>\n",
       "      <td>9</td>\n",
       "      <td>0.538462</td>\n",
       "    </tr>\n",
       "  </tbody>\n",
       "</table>\n",
       "<p>120000 rows × 4 columns</p>\n",
       "</div>"
      ],
      "text/plain": [
       "                d1               d2  b       acc\n",
       "0       apnews.com    bloomberg.com  0  0.777778\n",
       "1       apnews.com    bloomberg.com  0  0.851852\n",
       "2       apnews.com    bloomberg.com  0  0.833333\n",
       "3       apnews.com    bloomberg.com  0  0.851852\n",
       "4       apnews.com    bloomberg.com  0  0.814815\n",
       "5       apnews.com    bloomberg.com  0  0.851852\n",
       "6       apnews.com    bloomberg.com  0  0.833333\n",
       "7       apnews.com    bloomberg.com  0  0.907407\n",
       "8       apnews.com    bloomberg.com  0  0.740741\n",
       "9       apnews.com    bloomberg.com  0  0.851852\n",
       "10      apnews.com    bloomberg.com  0  0.833333\n",
       "11      apnews.com    bloomberg.com  0  0.833333\n",
       "12      apnews.com    bloomberg.com  0  0.907407\n",
       "13      apnews.com    bloomberg.com  0  0.870370\n",
       "14      apnews.com    bloomberg.com  0  0.759259\n",
       "15      apnews.com    bloomberg.com  0  0.796296\n",
       "16      apnews.com    bloomberg.com  0  0.740741\n",
       "17      apnews.com    bloomberg.com  0  0.851852\n",
       "18      apnews.com    bloomberg.com  0  0.796296\n",
       "19      apnews.com    bloomberg.com  0  0.777778\n",
       "20      apnews.com    bloomberg.com  0  0.796296\n",
       "21      apnews.com    bloomberg.com  0  0.870370\n",
       "22      apnews.com    bloomberg.com  0  0.703704\n",
       "23      apnews.com    bloomberg.com  0  0.851852\n",
       "24      apnews.com    bloomberg.com  0  0.851852\n",
       "25      apnews.com    bloomberg.com  0  0.814815\n",
       "26      apnews.com    bloomberg.com  0  0.851852\n",
       "27      apnews.com    bloomberg.com  0  0.833333\n",
       "28      apnews.com    bloomberg.com  0  0.722222\n",
       "29      apnews.com    bloomberg.com  0  0.796296\n",
       "...            ...              ... ..       ...\n",
       "119970      rt.com  sputniknews.com  9  0.611111\n",
       "119971      rt.com  sputniknews.com  9  0.537037\n",
       "119972      rt.com  sputniknews.com  9  0.537037\n",
       "119973      rt.com  sputniknews.com  9  0.648148\n",
       "119974      rt.com  sputniknews.com  9  0.574074\n",
       "119975      rt.com  sputniknews.com  9  0.759259\n",
       "119976      rt.com  sputniknews.com  9  0.592593\n",
       "119977      rt.com  sputniknews.com  9  0.666667\n",
       "119978      rt.com  sputniknews.com  9  0.611111\n",
       "119979      rt.com  sputniknews.com  9  0.685185\n",
       "119980      rt.com  sputniknews.com  9  0.685185\n",
       "119981      rt.com  sputniknews.com  9  0.703704\n",
       "119982      rt.com  sputniknews.com  9  0.629630\n",
       "119983      rt.com  sputniknews.com  9  0.666667\n",
       "119984      rt.com  sputniknews.com  9  0.629630\n",
       "119985      rt.com  sputniknews.com  9  0.574074\n",
       "119986      rt.com  sputniknews.com  9  0.653846\n",
       "119987      rt.com  sputniknews.com  9  0.557692\n",
       "119988      rt.com  sputniknews.com  9  0.653846\n",
       "119989      rt.com  sputniknews.com  9  0.615385\n",
       "119990      rt.com  sputniknews.com  9  0.557692\n",
       "119991      rt.com  sputniknews.com  9  0.615385\n",
       "119992      rt.com  sputniknews.com  9  0.615385\n",
       "119993      rt.com  sputniknews.com  9  0.807692\n",
       "119994      rt.com  sputniknews.com  9  0.576923\n",
       "119995      rt.com  sputniknews.com  9  0.557692\n",
       "119996      rt.com  sputniknews.com  9  0.615385\n",
       "119997      rt.com  sputniknews.com  9  0.673077\n",
       "119998      rt.com  sputniknews.com  9  0.538462\n",
       "119999      rt.com  sputniknews.com  9  0.538462\n",
       "\n",
       "[120000 rows x 4 columns]"
      ]
     },
     "execution_count": 122,
     "metadata": {},
     "output_type": "execute_result"
    }
   ],
   "source": [
    "sdf"
   ]
  },
  {
   "cell_type": "code",
   "execution_count": 124,
   "metadata": {},
   "outputs": [],
   "source": [
    "sdf.to_json('ab-ts.json', orient='records', lines=True)"
   ]
  },
  {
   "cell_type": "code",
   "execution_count": 141,
   "metadata": {},
   "outputs": [
    {
     "name": "stdout",
     "output_type": "stream",
     "text": [
      "apnews.com bloomberg.com\n",
      "LinregressResult(slope=-0.0005905637572304239, intercept=0.8206639471639472, rvalue=-0.032443196687371154, pvalue=0.30539593544247806, stderr=0.0005759028127749441)\n"
     ]
    },
    {
     "data": {
      "image/png": "[encoded data removed]",
      "text/plain": [
       "<Figure size 432x288 with 1 Axes>"
      ]
     },
     "metadata": {
      "needs_background": "light"
     },
     "output_type": "display_data"
    },
    {
     "name": "stdout",
     "output_type": "stream",
     "text": [
      "apnews.com buzzfeed.com\n",
      "LinregressResult(slope=0.0038618233618233693, intercept=0.9006951566951565, rvalue=0.2811520348484511, pvalue=1.2677266913179701e-19, stderr=0.00041725808730815495)\n"
     ]
    },
    {
     "data": {
      "image/png": "[encoded data removed]",
      "text/plain": [
       "<Figure size 432x288 with 1 Axes>"
      ]
     },
     "metadata": {
      "needs_background": "light"
     },
     "output_type": "display_data"
    },
    {
     "name": "stdout",
     "output_type": "stream",
     "text": [
      "apnews.com dailycaller.com\n",
      "LinregressResult(slope=0.0011779331779331775, intercept=0.8024243719243719, rvalue=0.06275403770590587, pvalue=0.047263583593970496, stderr=0.0005930029861383696)\n"
     ]
    },
    {
     "data": {
      "image/png": "[encoded data removed]",
      "text/plain": [
       "<Figure size 432x288 with 1 Axes>"
      ]
     },
     "metadata": {
      "needs_background": "light"
     },
     "output_type": "display_data"
    },
    {
     "name": "stdout",
     "output_type": "stream",
     "text": [
      "apnews.com dailykos.com\n",
      "LinregressResult(slope=-0.004055900889234224, intercept=0.8978975653975653, rvalue=-0.26143268518985757, pvalue=4.335138024359224e-17, stderr=0.00047401191855240193)\n"
     ]
    },
    {
     "data": {
      "image/png": "[encoded data removed]",
      "text/plain": [
       "<Figure size 432x288 with 1 Axes>"
      ]
     },
     "metadata": {
      "needs_background": "light"
     },
     "output_type": "display_data"
    },
    {
     "name": "stdout",
     "output_type": "stream",
     "text": [
      "apnews.com foxnews.com\n",
      "LinregressResult(slope=0.005789475956142617, intercept=0.66896373996374, rvalue=0.25543211024436757, pvalue=2.32834166344035e-16, stderr=0.0006936609723463151)\n"
     ]
    },
    {
     "data": {
      "image/png": "[encoded data removed]",
      "text/plain": [
       "<Figure size 432x288 with 1 Axes>"
      ]
     },
     "metadata": {
      "needs_background": "light"
     },
     "output_type": "display_data"
    },
    {
     "name": "stdout",
     "output_type": "stream",
     "text": [
      "apnews.com huffingtonpost.com\n",
      "LinregressResult(slope=-0.003567426400759735, intercept=0.8289245014245015, rvalue=-0.1886232327266898, pvalue=1.8396259310102736e-09, stderr=0.0005879331646956037)\n"
     ]
    },
    {
     "data": {
      "image/png": "[encoded data removed]",
      "text/plain": [
       "<Figure size 432x288 with 1 Axes>"
      ]
     },
     "metadata": {
      "needs_background": "light"
     },
     "output_type": "display_data"
    },
    {
     "name": "stdout",
     "output_type": "stream",
     "text": [
      "apnews.com npr.org\n",
      "LinregressResult(slope=-0.00037835621168954344, intercept=0.7614084434084434, rvalue=-0.018966346739453622, pvalue=0.54912467994148, stderr=0.0006313552337995413)\n"
     ]
    },
    {
     "data": {
      "image/png": "[encoded data removed]",
      "text/plain": [
       "<Figure size 432x288 with 1 Axes>"
      ]
     },
     "metadata": {
      "needs_background": "light"
     },
     "output_type": "display_data"
    },
    {
     "name": "stdout",
     "output_type": "stream",
     "text": [
      "apnews.com nytimes.com\n",
      "LinregressResult(slope=0.0030212811879478537, intercept=0.7630317275317277, rvalue=0.1511025544360074, pvalue=1.5875216354265582e-06, stderr=0.0006256604343402888)\n"
     ]
    },
    {
     "data": {
      "image/png": "[encoded data removed]",
      "text/plain": [
       "<Figure size 432x288 with 1 Axes>"
      ]
     },
     "metadata": {
      "needs_background": "light"
     },
     "output_type": "display_data"
    },
    {
     "name": "stdout",
     "output_type": "stream",
     "text": [
      "apnews.com thehill.com\n",
      "LinregressResult(slope=-0.004585038418371757, intercept=0.8167017612017612, rvalue=-0.2391815768160903, pvalue=1.7791892107730186e-14, stderr=0.000589193528369158)\n"
     ]
    },
    {
     "data": {
      "image/png": "[encoded data removed]",
      "text/plain": [
       "<Figure size 432x288 with 1 Axes>"
      ]
     },
     "metadata": {
      "needs_background": "light"
     },
     "output_type": "display_data"
    },
    {
     "name": "stdout",
     "output_type": "stream",
     "text": [
      "apnews.com washingtonpost.com\n",
      "LinregressResult(slope=0.0021440904774238105, intercept=0.7842817922817923, rvalue=0.1127441300716316, pvalue=0.0003539699806448926, stderr=0.0005981443351214911)\n"
     ]
    },
    {
     "data": {
      "image/png": "[encoded data removed]",
      "text/plain": [
       "<Figure size 432x288 with 1 Axes>"
      ]
     },
     "metadata": {
      "needs_background": "light"
     },
     "output_type": "display_data"
    }
   ],
   "source": [
    "for d1, d2 in pairs[:10]:\n",
    "    pdf = sdf[(sdf.d1==d1)&(sdf.d2==d2)]\n",
    "    print(d1, d2)\n",
    "    print(stats.linregress(pdf.b, pdf.acc))\n",
    "    plt.ylim(0, 1)\n",
    "    sns.boxenplot(x='b', y='acc', data=pdf)\n",
    "    plt.show()"
   ]
  },
  {
   "cell_type": "code",
   "execution_count": null,
   "metadata": {},
   "outputs": [],
   "source": []
  }
 ],
 "metadata": {
  "kernelspec": {
   "display_name": "Python 3",
   "language": "python",
   "name": "python3"
  },
  "language_info": {
   "codemirror_mode": {
    "name": "ipython",
    "version": 3
   },
   "file_extension": ".py",
   "mimetype": "text/x-python",
   "name": "python",
   "nbconvert_exporter": "python",
   "pygments_lexer": "ipython3",
   "version": "3.7.0"
  }
 },
 "nbformat": 4,
 "nbformat_minor": 2
}
