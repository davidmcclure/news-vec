{
 "cells": [
  {
   "cell_type": "code",
   "execution_count": 1,
   "metadata": {},
   "outputs": [],
   "source": [
    "import warnings\n",
    "import gzip\n",
    "import ujson\n",
    "\n",
    "import pandas as pd\n",
    "import numpy as np\n",
    "\n",
    "from glob import glob\n",
    "from itertools import islice\n",
    "from tqdm import tqdm\n",
    "from boltons.iterutils import windowed\n",
    "from collections import Counter\n",
    "\n",
    "from sklearn.feature_extraction import DictVectorizer\n",
    "from sklearn.linear_model import LogisticRegression\n",
    "from sklearn.model_selection import train_test_split\n",
    "from sklearn import metrics\n",
    "\n",
    "from news_vec import logger\n",
    "from news_vec.title_clf import clean_headline"
   ]
  },
  {
   "cell_type": "code",
   "execution_count": 85,
   "metadata": {},
   "outputs": [],
   "source": [
    "import matplotlib as mpl\n",
    "import matplotlib.pyplot as plt\n",
    "import altair as alt\n",
    "import seaborn as sns\n",
    "\n",
    "mpl.style.use('seaborn-muted')\n",
    "sns.set(style=\"whitegrid\")\n",
    "\n",
    "%matplotlib inline"
   ]
  },
  {
   "cell_type": "code",
   "execution_count": 3,
   "metadata": {},
   "outputs": [],
   "source": [
    "warnings.simplefilter('ignore')"
   ]
  },
  {
   "cell_type": "code",
   "execution_count": 4,
   "metadata": {},
   "outputs": [],
   "source": [
    "class Line:\n",
    "\n",
    "    def __init__(self, tokens, label, lower=True):\n",
    "        self.tokens = [t.lower() for t in tokens] if lower else tokens\n",
    "        self.label = label\n",
    "\n",
    "    def __repr__(self):\n",
    "\n",
    "        pattern = '{cls_name}<{token_count} tokens -> {label}>'\n",
    "\n",
    "        return pattern.format(\n",
    "            cls_name=self.__class__.__name__,\n",
    "            token_count=len(self.tokens),\n",
    "            label=self.label,\n",
    "        )\n",
    "    \n",
    "    def ngrams_iter(self, n, vocab=None):\n",
    "        for ng in windowed(self.tokens, n):\n",
    "            if not vocab or ng in vocab:\n",
    "                yield ng\n",
    "    \n",
    "    def features_iter(self, vocab):\n",
    "        yield from Counter(self.ngrams_iter(1, vocab)).items()\n",
    "        yield from Counter(self.ngrams_iter(2, vocab)).items()\n",
    "        yield from Counter(self.ngrams_iter(3, vocab)).items()\n",
    "        \n",
    "    def x(self, vocab):\n",
    "        return dict(self.features_iter(vocab))"
   ]
  },
  {
   "cell_type": "code",
   "execution_count": 5,
   "metadata": {},
   "outputs": [],
   "source": [
    "def read_json_lines(root, lower=True):\n",
    "    \"\"\"Generate links from a JSON corpus.\n",
    "\n",
    "    Yields: list<str>\n",
    "    \"\"\"\n",
    "    for path in glob('%s/*.gz' % root):\n",
    "        with gzip.open(path) as fh:\n",
    "            for line in fh:\n",
    "\n",
    "                data = ujson.loads(line)\n",
    "\n",
    "                tokens = data.get('tokens')\n",
    "                tokens = clean_headline(tokens)\n",
    "\n",
    "                if not tokens:\n",
    "                    continue\n",
    "\n",
    "                yield Line(tokens, data['label'], lower=lower)"
   ]
  },
  {
   "cell_type": "code",
   "execution_count": 6,
   "metadata": {},
   "outputs": [],
   "source": [
    "class Corpus:\n",
    "\n",
    "    def __init__(self, root, skim=None, lower=True):\n",
    "        \"\"\"Read lines.\n",
    "        \"\"\"\n",
    "        logger.info('Parsing line corpus.')\n",
    "\n",
    "        lines_iter = islice(read_json_lines(root, lower), skim)\n",
    "\n",
    "        self.lines = list(tqdm(lines_iter))\n",
    "\n",
    "    def __repr__(self):\n",
    "\n",
    "        pattern = '{cls_name}<{line_count} lines>'\n",
    "\n",
    "        return pattern.format(\n",
    "            cls_name=self.__class__.__name__,\n",
    "            line_count=len(self),\n",
    "        )\n",
    "\n",
    "    def __len__(self):\n",
    "        return len(self.lines)\n",
    "\n",
    "    def __iter__(self):\n",
    "        return iter(self.lines)\n",
    "    \n",
    "    def ngram_counts(self, n):\n",
    "        \"\"\"Collect all ngram -> count.\n",
    "        \"\"\"\n",
    "        logger.info('Gathering %d-gram counts.' % n)\n",
    "\n",
    "        counts = Counter()\n",
    "        for line in tqdm(self):\n",
    "            counts.update(line.ngrams_iter(n))\n",
    "\n",
    "        return counts\n",
    "\n",
    "    def topk_ngrams(self, n, k):\n",
    "        counts = self.ngram_counts(n)\n",
    "        return [ng for ng, _ in counts.most_common(k)]\n",
    "    \n",
    "    def x_iter(self, vocab):\n",
    "        for line in tqdm(self):\n",
    "            yield line.x(vocab)"
   ]
  },
  {
   "cell_type": "code",
   "execution_count": 40,
   "metadata": {},
   "outputs": [
    {
     "name": "stderr",
     "output_type": "stream",
     "text": [
      "2018-11-30 14:17:30,892 | INFO : Parsing line corpus.\n",
      "2123078it [00:58, 36570.63it/s]\n"
     ]
    }
   ],
   "source": [
    "c = Corpus('../data/titles-50k.json/')"
   ]
  },
  {
   "cell_type": "code",
   "execution_count": 41,
   "metadata": {},
   "outputs": [
    {
     "name": "stderr",
     "output_type": "stream",
     "text": [
      "2018-11-30 14:18:31,479 | INFO : Gathering 1-gram counts.\n",
      "100%|██████████| 2123078/2123078 [00:18<00:00, 113790.23it/s]\n",
      "2018-11-30 14:18:50,224 | INFO : Gathering 2-gram counts.\n",
      "100%|██████████| 2123078/2123078 [00:27<00:00, 76966.47it/s]\n",
      "2018-11-30 14:19:18,748 | INFO : Gathering 3-gram counts.\n",
      "100%|██████████| 2123078/2123078 [00:25<00:00, 81746.17it/s]\n"
     ]
    }
   ],
   "source": [
    "vocab = set(\n",
    "    c.topk_ngrams(1, 5000) +\n",
    "    c.topk_ngrams(2, 5000) +\n",
    "    c.topk_ngrams(3, 5000)\n",
    ")"
   ]
  },
  {
   "cell_type": "code",
   "execution_count": 42,
   "metadata": {},
   "outputs": [
    {
     "name": "stderr",
     "output_type": "stream",
     "text": [
      "100%|██████████| 2123078/2123078 [01:04<00:00, 32706.83it/s]\n"
     ]
    }
   ],
   "source": [
    "xs = list(c.x_iter(vocab))"
   ]
  },
  {
   "cell_type": "code",
   "execution_count": 43,
   "metadata": {},
   "outputs": [],
   "source": [
    "dv = DictVectorizer()\n",
    "X = dv.fit_transform(xs)"
   ]
  },
  {
   "cell_type": "code",
   "execution_count": 44,
   "metadata": {},
   "outputs": [
    {
     "data": {
      "text/plain": [
       "<2123078x15000 sparse matrix of type '<class 'numpy.float64'>'\n",
       "\twith 23141100 stored elements in Compressed Sparse Row format>"
      ]
     },
     "execution_count": 44,
     "metadata": {},
     "output_type": "execute_result"
    }
   ],
   "source": [
    "X"
   ]
  },
  {
   "cell_type": "code",
   "execution_count": 45,
   "metadata": {},
   "outputs": [],
   "source": [
    "y = [line.label for line in c]"
   ]
  },
  {
   "cell_type": "code",
   "execution_count": 46,
   "metadata": {},
   "outputs": [],
   "source": [
    "X_train, X_test, y_train, y_test = train_test_split(X, y, test_size=0.2)"
   ]
  },
  {
   "cell_type": "code",
   "execution_count": 47,
   "metadata": {},
   "outputs": [],
   "source": [
    "model = LogisticRegression(verbose=True, multi_class='multinomial', solver='sag', n_jobs=-1)"
   ]
  },
  {
   "cell_type": "code",
   "execution_count": 48,
   "metadata": {},
   "outputs": [
    {
     "name": "stderr",
     "output_type": "stream",
     "text": [
      "[Parallel(n_jobs=-1)]: Using backend ThreadingBackend with 8 concurrent workers.\n"
     ]
    },
    {
     "name": "stdout",
     "output_type": "stream",
     "text": [
      "max_iter reached after 626 seconds\n"
     ]
    },
    {
     "name": "stderr",
     "output_type": "stream",
     "text": [
      "[Parallel(n_jobs=-1)]: Done   1 out of   1 | elapsed: 10.5min finished\n"
     ]
    }
   ],
   "source": [
    "fit = model.fit(X_train, y_train)"
   ]
  },
  {
   "cell_type": "code",
   "execution_count": 49,
   "metadata": {},
   "outputs": [],
   "source": [
    "y_pred = fit.predict(X_test)"
   ]
  },
  {
   "cell_type": "code",
   "execution_count": 50,
   "metadata": {},
   "outputs": [
    {
     "name": "stdout",
     "output_type": "stream",
     "text": [
      "                        precision    recall  f1-score   support\n",
      "\n",
      "            apnews.com       0.17      0.20      0.19     10117\n",
      "             bbc.co.uk       0.30      0.51      0.38     10073\n",
      "         bloomberg.com       0.32      0.32      0.32     10035\n",
      "         breitbart.com       0.25      0.24      0.24     10115\n",
      "   businessinsider.com       0.34      0.33      0.34     10247\n",
      "          buzzfeed.com       0.54      0.61      0.57     10112\n",
      "                cbc.ca       0.40      0.47      0.44     10049\n",
      "           cbsnews.com       0.17      0.14      0.15     10276\n",
      "              cnbc.com       0.32      0.27      0.29     10096\n",
      "               cnn.com       0.14      0.12      0.13     10129\n",
      "       dailycaller.com       0.26      0.24      0.25     10211\n",
      "          dailykos.com       0.36      0.42      0.39     10292\n",
      "            forbes.com       0.25      0.29      0.27     10027\n",
      "           foxnews.com       0.16      0.10      0.12      9994\n",
      "                ft.com       0.30      0.41      0.34     10088\n",
      "    huffingtonpost.com       0.16      0.11      0.13     10167\n",
      "               inc.com       0.53      0.67      0.59     10080\n",
      "     independent.co.uk       0.27      0.26      0.26     10158\n",
      "               msn.com       0.14      0.06      0.08     10147\n",
      "           nbcnews.com       0.17      0.10      0.12      9950\n",
      "          newsweek.com       0.27      0.25      0.26      9994\n",
      "               npr.org       0.18      0.18      0.18     10150\n",
      "       nydailynews.com       0.29      0.25      0.27     10167\n",
      "            nypost.com       0.23      0.29      0.26     10059\n",
      "           nytimes.com       0.19      0.12      0.15      9896\n",
      "          rawstory.com       0.33      0.34      0.33     10043\n",
      "           reuters.com       0.30      0.38      0.34     10043\n",
      "                rt.com       0.42      0.40      0.41     10207\n",
      "       sputniknews.com       0.34      0.43      0.38     10132\n",
      "       telegraph.co.uk       0.43      0.35      0.39     10155\n",
      "       theguardian.com       0.20      0.18      0.19      9907\n",
      "           thehill.com       0.23      0.30      0.26     10107\n",
      "        thetimes.co.uk       0.24      0.36      0.29     10166\n",
      "              time.com       0.23      0.19      0.21     10138\n",
      "          usatoday.com       0.33      0.30      0.32     10196\n",
      "           variety.com       0.46      0.62      0.53     10215\n",
      "              vice.com       0.27      0.36      0.30     10084\n",
      "washingtonexaminer.com       0.21      0.25      0.23      9965\n",
      "    washingtonpost.com       0.28      0.17      0.21     10136\n",
      "   washingtontimes.com       0.24      0.26      0.25     10020\n",
      "               wsj.com       0.23      0.20      0.21     10296\n",
      "             yahoo.com       0.18      0.05      0.07     10177\n",
      "\n",
      "             micro avg       0.29      0.29      0.29    424616\n",
      "             macro avg       0.28      0.29      0.28    424616\n",
      "          weighted avg       0.28      0.29      0.28    424616\n",
      "\n"
     ]
    }
   ],
   "source": [
    "print(metrics.classification_report(y_test, y_pred))"
   ]
  },
  {
   "cell_type": "code",
   "execution_count": 75,
   "metadata": {},
   "outputs": [],
   "source": [
    "cm = metrics.confusion_matrix(y_test, y_pred, labels=fit.classes_)\n",
    "cm = cm / cm.sum(1)"
   ]
  },
  {
   "cell_type": "code",
   "execution_count": 77,
   "metadata": {},
   "outputs": [],
   "source": [
    "np.fill_diagonal(cm, 0)"
   ]
  },
  {
   "cell_type": "code",
   "execution_count": 89,
   "metadata": {},
   "outputs": [],
   "source": [
    "rows = [\n",
    "    (fit.classes_[x], fit.classes_[y], cm[x, y])\n",
    "    for x in range(cm.shape[0])\n",
    "    for y in range(cm.shape[1])\n",
    "]"
   ]
  },
  {
   "cell_type": "code",
   "execution_count": 90,
   "metadata": {},
   "outputs": [],
   "source": [
    "cm_df = pd.DataFrame(rows, columns=('x', 'y', 'z'))"
   ]
  },
  {
   "cell_type": "code",
   "execution_count": 92,
   "metadata": {},
   "outputs": [
    {
     "data": {
      "application/vnd.vegalite.v2+json": {
       "$schema": "https://vega.github.io/schema/vega-lite/v2.6.0.json",
       "config": {
        "view": {
         "height": 300,
         "width": 400
        }
       },
       "data": {
        "name": "data-5eae23ebc2c17ec3a3f1dcdbb8d3cbde"
       },
       "datasets": {
        "data-5eae23ebc2c17ec3a3f1dcdbb8d3cbde": [
         {
          "x": "apnews.com",
          "y": "apnews.com",
          "z": 0
         },
         {
          "x": "apnews.com",
          "y": "bbc.co.uk",
          "z": 0.03077534001786955
         },
         {
          "x": "apnews.com",
          "y": "bloomberg.com",
          "z": 0.019033383158943696
         },
         {
          "x": "apnews.com",
          "y": "breitbart.com",
          "z": 0.019476025704399408
         },
         {
          "x": "apnews.com",
          "y": "businessinsider.com",
          "z": 0.0031228652288474677
         },
         {
          "x": "apnews.com",
          "y": "buzzfeed.com",
          "z": 0.002274525316455696
         },
         {
          "x": "apnews.com",
          "y": "cbc.ca",
          "z": 0.027564931834013335
         },
         {
          "x": "apnews.com",
          "y": "cbsnews.com",
          "z": 0.031335149863760216
         },
         {
          "x": "apnews.com",
          "y": "cnbc.com",
          "z": 0.009706814580031696
         },
         {
          "x": "apnews.com",
          "y": "cnn.com",
          "z": 0.024385427979069996
         },
         {
          "x": "apnews.com",
          "y": "dailycaller.com",
          "z": 0.008128488884536284
         },
         {
          "x": "apnews.com",
          "y": "dailykos.com",
          "z": 0.010299261562378547
         },
         {
          "x": "apnews.com",
          "y": "forbes.com",
          "z": 0.006582227984442007
         },
         {
          "x": "apnews.com",
          "y": "foxnews.com",
          "z": 0.029717830698419052
         },
         {
          "x": "apnews.com",
          "y": "ft.com",
          "z": 0.021015067406819986
         },
         {
          "x": "apnews.com",
          "y": "huffingtonpost.com",
          "z": 0.005212943837906954
         },
         {
          "x": "apnews.com",
          "y": "inc.com",
          "z": 0.0020833333333333333
         },
         {
          "x": "apnews.com",
          "y": "independent.co.uk",
          "z": 0.004134672179562906
         },
         {
          "x": "apnews.com",
          "y": "msn.com",
          "z": 0.008278308859761507
         },
         {
          "x": "apnews.com",
          "y": "nbcnews.com",
          "z": 0.017487437185929648
         },
         {
          "x": "apnews.com",
          "y": "newsweek.com",
          "z": 0.0043025815489293575
         },
         {
          "x": "apnews.com",
          "y": "npr.org",
          "z": 0.02689655172413793
         },
         {
          "x": "apnews.com",
          "y": "nydailynews.com",
          "z": 0.024786072587784008
         },
         {
          "x": "apnews.com",
          "y": "nypost.com",
          "z": 0.0350929515856447
         },
         {
          "x": "apnews.com",
          "y": "nytimes.com",
          "z": 0.02263540824575586
         },
         {
          "x": "apnews.com",
          "y": "rawstory.com",
          "z": 0.011948620930000996
         },
         {
          "x": "apnews.com",
          "y": "reuters.com",
          "z": 0.03893258986358658
         },
         {
          "x": "apnews.com",
          "y": "rt.com",
          "z": 0.019104536102674635
         },
         {
          "x": "apnews.com",
          "y": "sputniknews.com",
          "z": 0.04243979470983024
         },
         {
          "x": "apnews.com",
          "y": "telegraph.co.uk",
          "z": 0.006400787789266372
         },
         {
          "x": "apnews.com",
          "y": "theguardian.com",
          "z": 0.01443423841728071
         },
         {
          "x": "apnews.com",
          "y": "thehill.com",
          "z": 0.045216186801226875
         },
         {
          "x": "apnews.com",
          "y": "thetimes.co.uk",
          "z": 0.019968522526067282
         },
         {
          "x": "apnews.com",
          "y": "time.com",
          "z": 0.007891102781613731
         },
         {
          "x": "apnews.com",
          "y": "usatoday.com",
          "z": 0.04413495488426834
         },
         {
          "x": "apnews.com",
          "y": "variety.com",
          "z": 0.018012726382770437
         },
         {
          "x": "apnews.com",
          "y": "vice.com",
          "z": 0.007437524791749306
         },
         {
          "x": "apnews.com",
          "y": "washingtonexaminer.com",
          "z": 0.019568489713998997
         },
         {
          "x": "apnews.com",
          "y": "washingtonpost.com",
          "z": 0.006412786108918706
         },
         {
          "x": "apnews.com",
          "y": "washingtontimes.com",
          "z": 0.08173652694610778
         },
         {
          "x": "apnews.com",
          "y": "wsj.com",
          "z": 0.0135003885003885
         },
         {
          "x": "apnews.com",
          "y": "yahoo.com",
          "z": 0.00687825488847401
         },
         {
          "x": "bbc.co.uk",
          "y": "apnews.com",
          "z": 0.020361767322328753
         },
         {
          "x": "bbc.co.uk",
          "y": "bbc.co.uk",
          "z": 0
         },
         {
          "x": "bbc.co.uk",
          "y": "bloomberg.com",
          "z": 0.0064773293472845045
         },
         {
          "x": "bbc.co.uk",
          "y": "breitbart.com",
          "z": 0.004943153732081068
         },
         {
          "x": "bbc.co.uk",
          "y": "businessinsider.com",
          "z": 0.002146969844832634
         },
         {
          "x": "bbc.co.uk",
          "y": "buzzfeed.com",
          "z": 0.006230221518987342
         },
         {
          "x": "bbc.co.uk",
          "y": "cbc.ca",
          "z": 0.021096626530002986
         },
         {
          "x": "bbc.co.uk",
          "y": "cbsnews.com",
          "z": 0.00506033476060724
         },
         {
          "x": "bbc.co.uk",
          "y": "cnbc.com",
          "z": 0.001584786053882726
         },
         {
          "x": "bbc.co.uk",
          "y": "cnn.com",
          "z": 0.018856747951426597
         },
         {
          "x": "bbc.co.uk",
          "y": "dailycaller.com",
          "z": 0.0013710704142591323
         },
         {
          "x": "bbc.co.uk",
          "y": "dailykos.com",
          "z": 0.003595025262339681
         },
         {
          "x": "bbc.co.uk",
          "y": "forbes.com",
          "z": 0.011469033609255011
         },
         {
          "x": "bbc.co.uk",
          "y": "foxnews.com",
          "z": 0.005003001801080648
         },
         {
          "x": "bbc.co.uk",
          "y": "ft.com",
          "z": 0.0355868358445678
         },
         {
          "x": "bbc.co.uk",
          "y": "huffingtonpost.com",
          "z": 0.008065309334120193
         },
         {
          "x": "bbc.co.uk",
          "y": "inc.com",
          "z": 0.003472222222222222
         },
         {
          "x": "bbc.co.uk",
          "y": "independent.co.uk",
          "z": 0.01604646583973223
         },
         {
          "x": "bbc.co.uk",
          "y": "msn.com",
          "z": 0.00680003942051838
         },
         {
          "x": "bbc.co.uk",
          "y": "nbcnews.com",
          "z": 0.002512562814070352
         },
         {
          "x": "bbc.co.uk",
          "y": "newsweek.com",
          "z": 0.003602161296778067
         },
         {
          "x": "bbc.co.uk",
          "y": "npr.org",
          "z": 0.017142857142857144
         },
         {
          "x": "bbc.co.uk",
          "y": "nydailynews.com",
          "z": 0.007081735025081145
         },
         {
          "x": "bbc.co.uk",
          "y": "nypost.com",
          "z": 0.020777413261755643
         },
         {
          "x": "bbc.co.uk",
          "y": "nytimes.com",
          "z": 0.012126111560226353
         },
         {
          "x": "bbc.co.uk",
          "y": "rawstory.com",
          "z": 0.0013940057751667828
         },
         {
          "x": "bbc.co.uk",
          "y": "reuters.com",
          "z": 0.015134919844667928
         },
         {
          "x": "bbc.co.uk",
          "y": "rt.com",
          "z": 0.005290486920740668
         },
         {
          "x": "bbc.co.uk",
          "y": "sputniknews.com",
          "z": 0.015495459928938018
         },
         {
          "x": "bbc.co.uk",
          "y": "telegraph.co.uk",
          "z": 0.01772525849335303
         },
         {
          "x": "bbc.co.uk",
          "y": "theguardian.com",
          "z": 0.03896234985363884
         },
         {
          "x": "bbc.co.uk",
          "y": "thehill.com",
          "z": 0.004749183734045711
         },
         {
          "x": "bbc.co.uk",
          "y": "thetimes.co.uk",
          "z": 0.06669289789494393
         },
         {
          "x": "bbc.co.uk",
          "y": "time.com",
          "z": 0.004636022884198066
         },
         {
          "x": "bbc.co.uk",
          "y": "usatoday.com",
          "z": 0.01196547665751275
         },
         {
          "x": "bbc.co.uk",
          "y": "variety.com",
          "z": 0.015761135584924132
         },
         {
          "x": "bbc.co.uk",
          "y": "vice.com",
          "z": 0.02042840142800476
         },
         {
          "x": "bbc.co.uk",
          "y": "washingtonexaminer.com",
          "z": 0.002308078273958856
         },
         {
          "x": "bbc.co.uk",
          "y": "washingtonpost.com",
          "z": 0.0024664561957379637
         },
         {
          "x": "bbc.co.uk",
          "y": "washingtontimes.com",
          "z": 0.011477045908183632
         },
         {
          "x": "bbc.co.uk",
          "y": "wsj.com",
          "z": 0.007478632478632479
         },
         {
          "x": "bbc.co.uk",
          "y": "yahoo.com",
          "z": 0.0035373882283580623
         },
         {
          "x": "bloomberg.com",
          "y": "apnews.com",
          "z": 0.018187209647128597
         },
         {
          "x": "bloomberg.com",
          "y": "bbc.co.uk",
          "z": 0.015586220589695225
         },
         {
          "x": "bloomberg.com",
          "y": "bloomberg.com",
          "z": 0
         },
         {
          "x": "bloomberg.com",
          "y": "breitbart.com",
          "z": 0.007909045971329708
         },
         {
          "x": "bloomberg.com",
          "y": "businessinsider.com",
          "z": 0.014931199375426954
         },
         {
          "x": "bloomberg.com",
          "y": "buzzfeed.com",
          "z": 0.0029667721518987344
         },
         {
          "x": "bloomberg.com",
          "y": "cbc.ca",
          "z": 0.0129366106080207
         },
         {
          "x": "bloomberg.com",
          "y": "cbsnews.com",
          "z": 0.008369015181004281
         },
         {
          "x": "bloomberg.com",
          "y": "cnbc.com",
          "z": 0.04427496038034865
         },
         {
          "x": "bloomberg.com",
          "y": "cnn.com",
          "z": 0.015697502221344653
         },
         {
          "x": "bloomberg.com",
          "y": "dailycaller.com",
          "z": 0.008128488884536284
         },
         {
          "x": "bloomberg.com",
          "y": "dailykos.com",
          "z": 0.00767586474931986
         },
         {
          "x": "bloomberg.com",
          "y": "forbes.com",
          "z": 0.02922110302184103
         },
         {
          "x": "bloomberg.com",
          "y": "foxnews.com",
          "z": 0.006203722233340004
         },
         {
          "x": "bloomberg.com",
          "y": "ft.com",
          "z": 0.07494052339413164
         },
         {
          "x": "bloomberg.com",
          "y": "huffingtonpost.com",
          "z": 0.005311301268810859
         },
         {
          "x": "bloomberg.com",
          "y": "inc.com",
          "z": 0.007738095238095238
         },
         {
          "x": "bloomberg.com",
          "y": "independent.co.uk",
          "z": 0.005611340815121087
         },
         {
          "x": "bloomberg.com",
          "y": "msn.com",
          "z": 0.004730462205578003
         },
         {
          "x": "bloomberg.com",
          "y": "nbcnews.com",
          "z": 0.007738693467336684
         },
         {
          "x": "bloomberg.com",
          "y": "newsweek.com",
          "z": 0.008805283169901942
         },
         {
          "x": "bloomberg.com",
          "y": "npr.org",
          "z": 0.013201970443349753
         },
         {
          "x": "bloomberg.com",
          "y": "nydailynews.com",
          "z": 0.005704730992426478
         },
         {
          "x": "bloomberg.com",
          "y": "nypost.com",
          "z": 0.01411671140272393
         },
         {
          "x": "bloomberg.com",
          "y": "nytimes.com",
          "z": 0.01475343573160873
         },
         {
          "x": "bloomberg.com",
          "y": "rawstory.com",
          "z": 0.007766603604500647
         },
         {
          "x": "bloomberg.com",
          "y": "reuters.com",
          "z": 0.08144976600617346
         },
         {
          "x": "bloomberg.com",
          "y": "rt.com",
          "z": 0.008327618301165867
         },
         {
          "x": "bloomberg.com",
          "y": "sputniknews.com",
          "z": 0.017666798262929332
         },
         {
          "x": "bloomberg.com",
          "y": "telegraph.co.uk",
          "z": 0.006105366814377154
         },
         {
          "x": "bloomberg.com",
          "y": "theguardian.com",
          "z": 0.00817603714545271
         },
         {
          "x": "bloomberg.com",
          "y": "thehill.com",
          "z": 0.021569209458790938
         },
         {
          "x": "bloomberg.com",
          "y": "thetimes.co.uk",
          "z": 0.023214637025378713
         },
         {
          "x": "bloomberg.com",
          "y": "time.com",
          "z": 0.008778851844545275
         },
         {
          "x": "bloomberg.com",
          "y": "usatoday.com",
          "z": 0.005688505296194586
         },
         {
          "x": "bloomberg.com",
          "y": "variety.com",
          "z": 0.014390602055800294
         },
         {
          "x": "bloomberg.com",
          "y": "vice.com",
          "z": 0.011404204680682269
         },
         {
          "x": "bloomberg.com",
          "y": "washingtonexaminer.com",
          "z": 0.012744606121424987
         },
         {
          "x": "bloomberg.com",
          "y": "washingtonpost.com",
          "z": 0.009964483030781374
         },
         {
          "x": "bloomberg.com",
          "y": "washingtontimes.com",
          "z": 0.011976047904191617
         },
         {
          "x": "bloomberg.com",
          "y": "wsj.com",
          "z": 0.06721056721056722
         },
         {
          "x": "bloomberg.com",
          "y": "yahoo.com",
          "z": 0.006386950967868723
         },
         {
          "x": "breitbart.com",
          "y": "apnews.com",
          "z": 0.01937333201541959
         },
         {
          "x": "breitbart.com",
          "y": "bbc.co.uk",
          "z": 0.013005063039809391
         },
         {
          "x": "breitbart.com",
          "y": "bloomberg.com",
          "z": 0.01195814648729447
         },
         {
          "x": "breitbart.com",
          "y": "breitbart.com",
          "z": 0
         },
         {
          "x": "breitbart.com",
          "y": "businessinsider.com",
          "z": 0.0072216258417097685
         },
         {
          "x": "breitbart.com",
          "y": "buzzfeed.com",
          "z": 0.005142405063291139
         },
         {
          "x": "breitbart.com",
          "y": "cbc.ca",
          "z": 0.011344412379341228
         },
         {
          "x": "breitbart.com",
          "y": "cbsnews.com",
          "z": 0.017808485792137018
         },
         {
          "x": "breitbart.com",
          "y": "cnbc.com",
          "z": 0.009904912836767036
         },
         {
          "x": "breitbart.com",
          "y": "cnn.com",
          "z": 0.020337644387402508
         },
         {
          "x": "breitbart.com",
          "y": "dailycaller.com",
          "z": 0.05552835177749486
         },
         {
          "x": "breitbart.com",
          "y": "dailykos.com",
          "z": 0.03148076175670424
         },
         {
          "x": "breitbart.com",
          "y": "forbes.com",
          "z": 0.007479804527775007
         },
         {
          "x": "breitbart.com",
          "y": "foxnews.com",
          "z": 0.024014408645187113
         },
         {
          "x": "breitbart.com",
          "y": "ft.com",
          "z": 0.011796193497224425
         },
         {
          "x": "breitbart.com",
          "y": "huffingtonpost.com",
          "z": 0.010819317399429526
         },
         {
          "x": "breitbart.com",
          "y": "inc.com",
          "z": 0.00248015873015873
         },
         {
          "x": "breitbart.com",
          "y": "independent.co.uk",
          "z": 0.021067139200630046
         },
         {
          "x": "breitbart.com",
          "y": "msn.com",
          "z": 0.005321769981275253
         },
         {
          "x": "breitbart.com",
          "y": "nbcnews.com",
          "z": 0.016180904522613067
         },
         {
          "x": "breitbart.com",
          "y": "newsweek.com",
          "z": 0.015209125475285171
         },
         {
          "x": "breitbart.com",
          "y": "npr.org",
          "z": 0.016157635467980297
         },
         {
          "x": "breitbart.com",
          "y": "nydailynews.com",
          "z": 0.02016327333530048
         },
         {
          "x": "breitbart.com",
          "y": "nypost.com",
          "z": 0.0192862113530172
         },
         {
          "x": "breitbart.com",
          "y": "nytimes.com",
          "z": 0.00959983831851253
         },
         {
          "x": "breitbart.com",
          "y": "rawstory.com",
          "z": 0.028377974708752366
         },
         {
          "x": "breitbart.com",
          "y": "reuters.com",
          "z": 0.028178831026585683
         },
         {
          "x": "breitbart.com",
          "y": "rt.com",
          "z": 0.021357891642990106
         },
         {
          "x": "breitbart.com",
          "y": "sputniknews.com",
          "z": 0.0322739834188709
         },
         {
          "x": "breitbart.com",
          "y": "telegraph.co.uk",
          "z": 0.008567208271787297
         },
         {
          "x": "breitbart.com",
          "y": "theguardian.com",
          "z": 0.01322297365499142
         },
         {
          "x": "breitbart.com",
          "y": "thehill.com",
          "z": 0.04511724547343425
         },
         {
          "x": "breitbart.com",
          "y": "thetimes.co.uk",
          "z": 0.023313004131418454
         },
         {
          "x": "breitbart.com",
          "y": "time.com",
          "z": 0.009567962122706648
         },
         {
          "x": "breitbart.com",
          "y": "usatoday.com",
          "z": 0.010003923107100824
         },
         {
          "x": "breitbart.com",
          "y": "variety.com",
          "z": 0.020655898188937837
         },
         {
          "x": "breitbart.com",
          "y": "vice.com",
          "z": 0.014676715589051963
         },
         {
          "x": "breitbart.com",
          "y": "washingtonexaminer.com",
          "z": 0.06583040642247867
         },
         {
          "x": "breitbart.com",
          "y": "washingtonpost.com",
          "z": 0.009471191791633781
         },
         {
          "x": "breitbart.com",
          "y": "washingtontimes.com",
          "z": 0.03483033932135728
         },
         {
          "x": "breitbart.com",
          "y": "wsj.com",
          "z": 0.011557886557886558
         },
         {
          "x": "breitbart.com",
          "y": "yahoo.com",
          "z": 0.0029478235236317187
         },
         {
          "x": "businessinsider.com",
          "y": "apnews.com",
          "z": 0.003854897696945735
         },
         {
          "x": "businessinsider.com",
          "y": "bbc.co.uk",
          "z": 0.006254343293954135
         },
         {
          "x": "businessinsider.com",
          "y": "bloomberg.com",
          "z": 0.020229197807673144
         },
         {
          "x": "businessinsider.com",
          "y": "breitbart.com",
          "z": 0.006821552150271874
         },
         {
          "x": "businessinsider.com",
          "y": "businessinsider.com",
          "z": 0
         },
         {
          "x": "businessinsider.com",
          "y": "buzzfeed.com",
          "z": 0.04677610759493671
         },
         {
          "x": "businessinsider.com",
          "y": "cbc.ca",
          "z": 0.010150263707831625
         },
         {
          "x": "businessinsider.com",
          "y": "cbsnews.com",
          "z": 0.004184507590502141
         },
         {
          "x": "businessinsider.com",
          "y": "cnbc.com",
          "z": 0.057547543581616484
         },
         {
          "x": "businessinsider.com",
          "y": "cnn.com",
          "z": 0.008687925757725343
         },
         {
          "x": "businessinsider.com",
          "y": "dailycaller.com",
          "z": 0.009499559298795417
         },
         {
          "x": "businessinsider.com",
          "y": "dailykos.com",
          "z": 0.018460940536338902
         },
         {
          "x": "businessinsider.com",
          "y": "forbes.com",
          "z": 0.04298394335294704
         },
         {
          "x": "businessinsider.com",
          "y": "foxnews.com",
          "z": 0.004702821693015809
         },
         {
          "x": "businessinsider.com",
          "y": "ft.com",
          "z": 0.01675257731958763
         },
         {
          "x": "businessinsider.com",
          "y": "huffingtonpost.com",
          "z": 0.01111438969214124
         },
         {
          "x": "businessinsider.com",
          "y": "inc.com",
          "z": 0.055952380952380955
         },
         {
          "x": "businessinsider.com",
          "y": "independent.co.uk",
          "z": 0.029434928135459736
         },
         {
          "x": "businessinsider.com",
          "y": "msn.com",
          "z": 0.012318911993692717
         },
         {
          "x": "businessinsider.com",
          "y": "nbcnews.com",
          "z": 0.004221105527638191
         },
         {
          "x": "businessinsider.com",
          "y": "newsweek.com",
          "z": 0.04082449469681809
         },
         {
          "x": "businessinsider.com",
          "y": "npr.org",
          "z": 0.008669950738916255
         },
         {
          "x": "businessinsider.com",
          "y": "nydailynews.com",
          "z": 0.0040326546670600965
         },
         {
          "x": "businessinsider.com",
          "y": "nypost.com",
          "z": 0.016303807535540314
         },
         {
          "x": "businessinsider.com",
          "y": "nytimes.com",
          "z": 0.004345189975747777
         },
         {
          "x": "businessinsider.com",
          "y": "rawstory.com",
          "z": 0.014836204321417903
         },
         {
          "x": "businessinsider.com",
          "y": "reuters.com",
          "z": 0.019316937170168278
         },
         {
          "x": "businessinsider.com",
          "y": "rt.com",
          "z": 0.00724992652101499
         },
         {
          "x": "businessinsider.com",
          "y": "sputniknews.com",
          "z": 0.011152783260955389
         },
         {
          "x": "businessinsider.com",
          "y": "telegraph.co.uk",
          "z": 0.012703101920236336
         },
         {
          "x": "businessinsider.com",
          "y": "theguardian.com",
          "z": 0.006359140002018775
         },
         {
          "x": "businessinsider.com",
          "y": "thehill.com",
          "z": 0.008311071534579995
         },
         {
          "x": "businessinsider.com",
          "y": "thetimes.co.uk",
          "z": 0.011607318512689356
         },
         {
          "x": "businessinsider.com",
          "y": "time.com",
          "z": 0.029887551785362003
         },
         {
          "x": "businessinsider.com",
          "y": "usatoday.com",
          "z": 0.011278932914868575
         },
         {
          "x": "businessinsider.com",
          "y": "variety.com",
          "z": 0.013509544787077827
         },
         {
          "x": "businessinsider.com",
          "y": "vice.com",
          "z": 0.036394287980959936
         },
         {
          "x": "businessinsider.com",
          "y": "washingtonexaminer.com",
          "z": 0.017762167586552934
         },
         {
          "x": "businessinsider.com",
          "y": "washingtonpost.com",
          "z": 0.00680741910023678
         },
         {
          "x": "businessinsider.com",
          "y": "washingtontimes.com",
          "z": 0.0033932135728542913
         },
         {
          "x": "businessinsider.com",
          "y": "wsj.com",
          "z": 0.011072261072261072
         },
         {
          "x": "businessinsider.com",
          "y": "yahoo.com",
          "z": 0.010022599980347843
         },
         {
          "x": "buzzfeed.com",
          "y": "apnews.com",
          "z": 0.001779183552436493
         },
         {
          "x": "buzzfeed.com",
          "y": "bbc.co.uk",
          "z": 0.01250868658790827
         },
         {
          "x": "buzzfeed.com",
          "y": "bloomberg.com",
          "z": 0.00229197807673144
         },
         {
          "x": "buzzfeed.com",
          "y": "breitbart.com",
          "z": 0.0034602076124567475
         },
         {
          "x": "buzzfeed.com",
          "y": "businessinsider.com",
          "z": 0.036498487362154775
         },
         {
          "x": "buzzfeed.com",
          "y": "buzzfeed.com",
          "z": 0
         },
         {
          "x": "buzzfeed.com",
          "y": "cbc.ca",
          "z": 0.00646830530401035
         },
         {
          "x": "buzzfeed.com",
          "y": "cbsnews.com",
          "z": 0.0033086804203970414
         },
         {
          "x": "buzzfeed.com",
          "y": "cnbc.com",
          "z": 0.003862916006339144
         },
         {
          "x": "buzzfeed.com",
          "y": "cnn.com",
          "z": 0.007108302892684371
         },
         {
          "x": "buzzfeed.com",
          "y": "dailycaller.com",
          "z": 0.008128488884536284
         },
         {
          "x": "buzzfeed.com",
          "y": "dailykos.com",
          "z": 0.014477263894286824
         },
         {
          "x": "buzzfeed.com",
          "y": "forbes.com",
          "z": 0.012167148698514011
         },
         {
          "x": "buzzfeed.com",
          "y": "foxnews.com",
          "z": 0.0022013207924754855
         },
         {
          "x": "buzzfeed.com",
          "y": "ft.com",
          "z": 0.001486915146708961
         },
         {
          "x": "buzzfeed.com",
          "y": "huffingtonpost.com",
          "z": 0.02704829349857382
         },
         {
          "x": "buzzfeed.com",
          "y": "inc.com",
          "z": 0.018253968253968255
         },
         {
          "x": "buzzfeed.com",
          "y": "independent.co.uk",
          "z": 0.02323291986611538
         },
         {
          "x": "buzzfeed.com",
          "y": "msn.com",
          "z": 0.009165270523307381
         },
         {
          "x": "buzzfeed.com",
          "y": "nbcnews.com",
          "z": 0.0051256281407035175
         },
         {
          "x": "buzzfeed.com",
          "y": "newsweek.com",
          "z": 0.023213928357014208
         },
         {
          "x": "buzzfeed.com",
          "y": "npr.org",
          "z": 0.007192118226600985
         },
         {
          "x": "buzzfeed.com",
          "y": "nydailynews.com",
          "z": 0.003245795219828858
         },
         {
          "x": "buzzfeed.com",
          "y": "nypost.com",
          "z": 0.010338999900586539
         },
         {
          "x": "buzzfeed.com",
          "y": "nytimes.com",
          "z": 0.0035367825383993533
         },
         {
          "x": "buzzfeed.com",
          "y": "rawstory.com",
          "z": 0.009957184108334164
         },
         {
          "x": "buzzfeed.com",
          "y": "reuters.com",
          "z": 0.0003982873643333665
         },
         {
          "x": "buzzfeed.com",
          "y": "rt.com",
          "z": 0.0022533555403154697
         },
         {
          "x": "buzzfeed.com",
          "y": "sputniknews.com",
          "z": 0.002368732727990525
         },
         {
          "x": "buzzfeed.com",
          "y": "telegraph.co.uk",
          "z": 0.00551452486459872
         },
         {
          "x": "buzzfeed.com",
          "y": "theguardian.com",
          "z": 0.007974159685071161
         },
         {
          "x": "buzzfeed.com",
          "y": "thehill.com",
          "z": 0.0023745918670228555
         },
         {
          "x": "buzzfeed.com",
          "y": "thetimes.co.uk",
          "z": 0.007967735589218965
         },
         {
          "x": "buzzfeed.com",
          "y": "time.com",
          "z": 0.021108699940816728
         },
         {
          "x": "buzzfeed.com",
          "y": "usatoday.com",
          "z": 0.0064731267163593564
         },
         {
          "x": "buzzfeed.com",
          "y": "variety.com",
          "z": 0.0064610866372980915
         },
         {
          "x": "buzzfeed.com",
          "y": "vice.com",
          "z": 0.04789765965886553
         },
         {
          "x": "buzzfeed.com",
          "y": "washingtonexaminer.com",
          "z": 0.007425990968389363
         },
         {
          "x": "buzzfeed.com",
          "y": "washingtonpost.com",
          "z": 0.007103393843725336
         },
         {
          "x": "buzzfeed.com",
          "y": "washingtontimes.com",
          "z": 0.001996007984031936
         },
         {
          "x": "buzzfeed.com",
          "y": "wsj.com",
          "z": 0.003690753690753691
         },
         {
          "x": "buzzfeed.com",
          "y": "yahoo.com",
          "z": 0.0028495627395106614
         },
         {
          "x": "cbc.ca",
          "y": "apnews.com",
          "z": 0.02471088267272907
         },
         {
          "x": "cbc.ca",
          "y": "bbc.co.uk",
          "z": 0.044971706542241634
         },
         {
          "x": "cbc.ca",
          "y": "bloomberg.com",
          "z": 0.008071748878923767
         },
         {
          "x": "cbc.ca",
          "y": "breitbart.com",
          "z": 0.0067226890756302525
         },
         {
          "x": "cbc.ca",
          "y": "businessinsider.com",
          "z": 0.007416804918512735
         },
         {
          "x": "cbc.ca",
          "y": "buzzfeed.com",
          "z": 0.009889240506329115
         },
         {
          "x": "cbc.ca",
          "y": "cbc.ca",
          "z": 0
         },
         {
          "x": "cbc.ca",
          "y": "cbsnews.com",
          "z": 0.015472946671856754
         },
         {
          "x": "cbc.ca",
          "y": "cnbc.com",
          "z": 0.008518225039619652
         },
         {
          "x": "cbc.ca",
          "y": "cnn.com",
          "z": 0.008984105044920525
         },
         {
          "x": "cbc.ca",
          "y": "dailycaller.com",
          "z": 0.00352560963666634
         },
         {
          "x": "cbc.ca",
          "y": "dailykos.com",
          "z": 0.007287213369607462
         },
         {
          "x": "cbc.ca",
          "y": "forbes.com",
          "z": 0.015757454871846016
         },
         {
          "x": "cbc.ca",
          "y": "foxnews.com",
          "z": 0.009705823494096457
         },
         {
          "x": "cbc.ca",
          "y": "ft.com",
          "z": 0.012688342585249802
         },
         {
          "x": "cbc.ca",
          "y": "huffingtonpost.com",
          "z": 0.013868397757450576
         },
         {
          "x": "cbc.ca",
          "y": "inc.com",
          "z": 0.009126984126984128
         },
         {
          "x": "cbc.ca",
          "y": "independent.co.uk",
          "z": 0.012600905690096476
         },
         {
          "x": "cbc.ca",
          "y": "msn.com",
          "z": 0.01074209125850005
         },
         {
          "x": "cbc.ca",
          "y": "nbcnews.com",
          "z": 0.008341708542713568
         },
         {
          "x": "cbc.ca",
          "y": "newsweek.com",
          "z": 0.007904742845707425
         },
         {
          "x": "cbc.ca",
          "y": "npr.org",
          "z": 0.023940886699507388
         },
         {
          "x": "cbc.ca",
          "y": "nydailynews.com",
          "z": 0.011999606570276385
         },
         {
          "x": "cbc.ca",
          "y": "nypost.com",
          "z": 0.023362163236902277
         },
         {
          "x": "cbc.ca",
          "y": "nytimes.com",
          "z": 0.011519805982215036
         },
         {
          "x": "cbc.ca",
          "y": "rawstory.com",
          "z": 0.0034850144379169573
         },
         {
          "x": "cbc.ca",
          "y": "reuters.com",
          "z": 0.017524644030668127
         },
         {
          "x": "cbc.ca",
          "y": "rt.com",
          "z": 0.00724992652101499
         },
         {
          "x": "cbc.ca",
          "y": "sputniknews.com",
          "z": 0.007895775759968417
         },
         {
          "x": "cbc.ca",
          "y": "telegraph.co.uk",
          "z": 0.010733628754308222
         },
         {
          "x": "cbc.ca",
          "y": "theguardian.com",
          "z": 0.01705864540224084
         },
         {
          "x": "cbc.ca",
          "y": "thehill.com",
          "z": 0.007321658256653804
         },
         {
          "x": "cbc.ca",
          "y": "thetimes.co.uk",
          "z": 0.023017902813299233
         },
         {
          "x": "cbc.ca",
          "y": "time.com",
          "z": 0.00897612941408562
         },
         {
          "x": "cbc.ca",
          "y": "usatoday.com",
          "z": 0.01677128285602197
         },
         {
          "x": "cbc.ca",
          "y": "variety.com",
          "z": 0.01478218306412139
         },
         {
          "x": "cbc.ca",
          "y": "vice.com",
          "z": 0.02846092820309401
         },
         {
          "x": "cbc.ca",
          "y": "washingtonexaminer.com",
          "z": 0.004515805318615153
         },
         {
          "x": "cbc.ca",
          "y": "washingtonpost.com",
          "z": 0.0060181531176006315
         },
         {
          "x": "cbc.ca",
          "y": "washingtontimes.com",
          "z": 0.019361277445109782
         },
         {
          "x": "cbc.ca",
          "y": "wsj.com",
          "z": 0.007381507381507382
         },
         {
          "x": "cbc.ca",
          "y": "yahoo.com",
          "z": 0.005993907831384495
         },
         {
          "x": "cbsnews.com",
          "y": "apnews.com",
          "z": 0.04408421468814866
         },
         {
          "x": "cbsnews.com",
          "y": "bbc.co.uk",
          "z": 0.035540553956120324
         },
         {
          "x": "cbsnews.com",
          "y": "bloomberg.com",
          "z": 0.013353263577478824
         },
         {
          "x": "cbsnews.com",
          "y": "breitbart.com",
          "z": 0.021848739495798318
         },
         {
          "x": "cbsnews.com",
          "y": "businessinsider.com",
          "z": 0.007319215380111252
         },
         {
          "x": "cbsnews.com",
          "y": "buzzfeed.com",
          "z": 0.006526898734177215
         },
         {
          "x": "cbsnews.com",
          "y": "cbc.ca",
          "z": 0.0258732212160414
         },
         {
          "x": "cbsnews.com",
          "y": "cbsnews.com",
          "z": 0
         },
         {
          "x": "cbsnews.com",
          "y": "cnbc.com",
          "z": 0.01386687797147385
         },
         {
          "x": "cbsnews.com",
          "y": "cnn.com",
          "z": 0.03603514660874716
         },
         {
          "x": "cbsnews.com",
          "y": "dailycaller.com",
          "z": 0.015473508960924493
         },
         {
          "x": "cbsnews.com",
          "y": "dailykos.com",
          "z": 0.01739214924212981
         },
         {
          "x": "cbsnews.com",
          "y": "forbes.com",
          "z": 0.022239952129251023
         },
         {
          "x": "cbsnews.com",
          "y": "foxnews.com",
          "z": 0.04182509505703422
         },
         {
          "x": "cbsnews.com",
          "y": "ft.com",
          "z": 0.011399682791435368
         },
         {
          "x": "cbsnews.com",
          "y": "huffingtonpost.com",
          "z": 0.013573325464738861
         },
         {
          "x": "cbsnews.com",
          "y": "inc.com",
          "z": 0.006448412698412698
         },
         {
          "x": "cbsnews.com",
          "y": "independent.co.uk",
          "z": 0.011124237054538294
         },
         {
          "x": "cbsnews.com",
          "y": "msn.com",
          "z": 0.014487040504582636
         },
         {
          "x": "cbsnews.com",
          "y": "nbcnews.com",
          "z": 0.03537688442211055
         },
         {
          "x": "cbsnews.com",
          "y": "newsweek.com",
          "z": 0.02021212727636582
         },
         {
          "x": "cbsnews.com",
          "y": "npr.org",
          "z": 0.0432512315270936
         },
         {
          "x": "cbsnews.com",
          "y": "nydailynews.com",
          "z": 0.0369823940198682
         },
         {
          "x": "cbsnews.com",
          "y": "nypost.com",
          "z": 0.033402922755741124
         },
         {
          "x": "cbsnews.com",
          "y": "nytimes.com",
          "z": 0.01232821341956346
         },
         {
          "x": "cbsnews.com",
          "y": "rawstory.com",
          "z": 0.018022503236084834
         },
         {
          "x": "cbsnews.com",
          "y": "reuters.com",
          "z": 0.02071094294533506
         },
         {
          "x": "cbsnews.com",
          "y": "rt.com",
          "z": 0.01273635740178309
         },
         {
          "x": "cbsnews.com",
          "y": "sputniknews.com",
          "z": 0.014705882352941176
         },
         {
          "x": "cbsnews.com",
          "y": "telegraph.co.uk",
          "z": 0.006400787789266372
         },
         {
          "x": "cbsnews.com",
          "y": "theguardian.com",
          "z": 0.010396689209649743
         },
         {
          "x": "cbsnews.com",
          "y": "thehill.com",
          "z": 0.0365093499554764
         },
         {
          "x": "cbsnews.com",
          "y": "thetimes.co.uk",
          "z": 0.01573873696635845
         },
         {
          "x": "cbsnews.com",
          "y": "time.com",
          "z": 0.02860524758334977
         },
         {
          "x": "cbsnews.com",
          "y": "usatoday.com",
          "z": 0.017359748921145546
         },
         {
          "x": "cbsnews.com",
          "y": "variety.com",
          "z": 0.025159079784630445
         },
         {
          "x": "cbsnews.com",
          "y": "vice.com",
          "z": 0.016263387544625148
         },
         {
          "x": "cbsnews.com",
          "y": "washingtonexaminer.com",
          "z": 0.04315102860010035
         },
         {
          "x": "cbsnews.com",
          "y": "washingtonpost.com",
          "z": 0.011444356748224152
         },
         {
          "x": "cbsnews.com",
          "y": "washingtontimes.com",
          "z": 0.03632734530938124
         },
         {
          "x": "cbsnews.com",
          "y": "wsj.com",
          "z": 0.017676767676767676
         },
         {
          "x": "cbsnews.com",
          "y": "yahoo.com",
          "z": 0.005109560774294979
         },
         {
          "x": "cnbc.com",
          "y": "apnews.com",
          "z": 0.012553128397746367
         },
         {
          "x": "cnbc.com",
          "y": "bbc.co.uk",
          "z": 0.012012310136007148
         },
         {
          "x": "cnbc.com",
          "y": "bloomberg.com",
          "z": 0.0560039860488291
         },
         {
          "x": "cnbc.com",
          "y": "breitbart.com",
          "z": 0.008502224419179437
         },
         {
          "x": "cnbc.com",
          "y": "businessinsider.com",
          "z": 0.07172831072509027
         },
         {
          "x": "cnbc.com",
          "y": "buzzfeed.com",
          "z": 0.006230221518987342
         },
         {
          "x": "cnbc.com",
          "y": "cbc.ca",
          "z": 0.008558065479152154
         },
         {
          "x": "cnbc.com",
          "y": "cbsnews.com",
          "z": 0.00973141300116777
         },
         {
          "x": "cnbc.com",
          "y": "cnbc.com",
          "z": 0
         },
         {
          "x": "cnbc.com",
          "y": "cnn.com",
          "z": 0.015401322934149472
         },
         {
          "x": "cnbc.com",
          "y": "dailycaller.com",
          "z": 0.01087062971305455
         },
         {
          "x": "cnbc.com",
          "y": "dailykos.com",
          "z": 0.011173727166731443
         },
         {
          "x": "cnbc.com",
          "y": "forbes.com",
          "z": 0.04547721152887205
         },
         {
          "x": "cnbc.com",
          "y": "foxnews.com",
          "z": 0.009005403241945167
         },
         {
          "x": "cnbc.com",
          "y": "ft.com",
          "z": 0.051744647105471844
         },
         {
          "x": "cnbc.com",
          "y": "huffingtonpost.com",
          "z": 0.008065309334120193
         },
         {
          "x": "cnbc.com",
          "y": "inc.com",
          "z": 0.042162698412698416
         },
         {
          "x": "cnbc.com",
          "y": "independent.co.uk",
          "z": 0.009746012994683993
         },
         {
          "x": "cnbc.com",
          "y": "msn.com",
          "z": 0.006307282940770671
         },
         {
          "x": "cnbc.com",
          "y": "nbcnews.com",
          "z": 0.00864321608040201
         },
         {
          "x": "cnbc.com",
          "y": "newsweek.com",
          "z": 0.013508104862917751
         },
         {
          "x": "cnbc.com",
          "y": "npr.org",
          "z": 0.011428571428571429
         },
         {
          "x": "cnbc.com",
          "y": "nydailynews.com",
          "z": 0.0031474377889249535
         },
         {
          "x": "cnbc.com",
          "y": "nypost.com",
          "z": 0.01272492295456805
         },
         {
          "x": "cnbc.com",
          "y": "nytimes.com",
          "z": 0.0064672594987873885
         },
         {
          "x": "cnbc.com",
          "y": "rawstory.com",
          "z": 0.013840485910584486
         },
         {
          "x": "cnbc.com",
          "y": "reuters.com",
          "z": 0.045603903216170465
         },
         {
          "x": "cnbc.com",
          "y": "rt.com",
          "z": 0.00773978642108357
         },
         {
          "x": "cnbc.com",
          "y": "sputniknews.com",
          "z": 0.020232925384919068
         },
         {
          "x": "cnbc.com",
          "y": "telegraph.co.uk",
          "z": 0.00896110290497292
         },
         {
          "x": "cnbc.com",
          "y": "theguardian.com",
          "z": 0.0069647723831634195
         },
         {
          "x": "cnbc.com",
          "y": "thehill.com",
          "z": 0.02315227070347284
         },
         {
          "x": "cnbc.com",
          "y": "thetimes.co.uk",
          "z": 0.014755065905961047
         },
         {
          "x": "cnbc.com",
          "y": "time.com",
          "z": 0.01884000789110278
         },
         {
          "x": "cnbc.com",
          "y": "usatoday.com",
          "z": 0.005982738328756375
         },
         {
          "x": "cnbc.com",
          "y": "variety.com",
          "z": 0.013215859030837005
         },
         {
          "x": "cnbc.com",
          "y": "vice.com",
          "z": 0.011503371677905593
         },
         {
          "x": "cnbc.com",
          "y": "washingtonexaminer.com",
          "z": 0.02308078273958856
         },
         {
          "x": "cnbc.com",
          "y": "washingtonpost.com",
          "z": 0.010161799526440411
         },
         {
          "x": "cnbc.com",
          "y": "washingtontimes.com",
          "z": 0.008582834331337325
         },
         {
          "x": "cnbc.com",
          "y": "wsj.com",
          "z": 0.03428515928515929
         },
         {
          "x": "cnbc.com",
          "y": "yahoo.com",
          "z": 0.007173037240837182
         },
         {
          "x": "cnn.com",
          "y": "apnews.com",
          "z": 0.03795591578531185
         },
         {
          "x": "cnn.com",
          "y": "bbc.co.uk",
          "z": 0.046063734736424104
         },
         {
          "x": "cnn.com",
          "y": "bloomberg.com",
          "z": 0.020229197807673144
         },
         {
          "x": "cnn.com",
          "y": "breitbart.com",
          "z": 0.020168067226890758
         },
         {
          "x": "cnn.com",
          "y": "businessinsider.com",
          "z": 0.012101102761783937
         },
         {
          "x": "cnn.com",
          "y": "buzzfeed.com",
          "z": 0.009592563291139241
         },
         {
          "x": "cnn.com",
          "y": "cbc.ca",
          "z": 0.015324907951039905
         },
         {
          "x": "cnn.com",
          "y": "cbsnews.com",
          "z": 0.030751265083690152
         },
         {
          "x": "cnn.com",
          "y": "cnbc.com",
          "z": 0.015649762282091917
         },
         {
          "x": "cnn.com",
          "y": "cnn.com",
          "z": 0
         },
         {
          "x": "cnn.com",
          "y": "dailycaller.com",
          "z": 0.015767309763980022
         },
         {
          "x": "cnn.com",
          "y": "dailykos.com",
          "z": 0.02322191993781578
         },
         {
          "x": "cnn.com",
          "y": "forbes.com",
          "z": 0.02064426049665902
         },
         {
          "x": "cnn.com",
          "y": "foxnews.com",
          "z": 0.02251350810486292
         },
         {
          "x": "cnn.com",
          "y": "ft.com",
          "z": 0.02071768437747819
         },
         {
          "x": "cnn.com",
          "y": "huffingtonpost.com",
          "z": 0.019868201042588768
         },
         {
          "x": "cnn.com",
          "y": "inc.com",
          "z": 0.01369047619047619
         },
         {
          "x": "cnn.com",
          "y": "independent.co.uk",
          "z": 0.006989564874975389
         },
         {
          "x": "cnn.com",
          "y": "msn.com",
          "z": 0.011136296442298216
         },
         {
          "x": "cnn.com",
          "y": "nbcnews.com",
          "z": 0.02150753768844221
         },
         {
          "x": "cnn.com",
          "y": "newsweek.com",
          "z": 0.015709425655393235
         },
         {
          "x": "cnn.com",
          "y": "npr.org",
          "z": 0.028472906403940887
         },
         {
          "x": "cnn.com",
          "y": "nydailynews.com",
          "z": 0.01662240582275991
         },
         {
          "x": "cnn.com",
          "y": "nypost.com",
          "z": 0.03897007654836465
         },
         {
          "x": "cnn.com",
          "y": "nytimes.com",
          "z": 0.01434923201293452
         },
         {
          "x": "cnn.com",
          "y": "rawstory.com",
          "z": 0.016927212984168077
         },
         {
          "x": "cnn.com",
          "y": "reuters.com",
          "z": 0.020412227422085035
         },
         {
          "x": "cnn.com",
          "y": "rt.com",
          "z": 0.01498971294209856
         },
         {
          "x": "cnn.com",
          "y": "sputniknews.com",
          "z": 0.02970785629688117
         },
         {
          "x": "cnn.com",
          "y": "telegraph.co.uk",
          "z": 0.007877892663712457
         },
         {
          "x": "cnn.com",
          "y": "theguardian.com",
          "z": 0.015948319370142322
         },
         {
          "x": "cnn.com",
          "y": "thehill.com",
          "z": 0.07034728406055209
         },
         {
          "x": "cnn.com",
          "y": "thetimes.co.uk",
          "z": 0.023903206767656896
         },
         {
          "x": "cnn.com",
          "y": "time.com",
          "z": 0.028013414874728745
         },
         {
          "x": "cnn.com",
          "y": "usatoday.com",
          "z": 0.01569242840329541
         },
         {
          "x": "cnn.com",
          "y": "variety.com",
          "z": 0.02026431718061674
         },
         {
          "x": "cnn.com",
          "y": "vice.com",
          "z": 0.029055930186433956
         },
         {
          "x": "cnn.com",
          "y": "washingtonexaminer.com",
          "z": 0.03933768188660311
         },
         {
          "x": "cnn.com",
          "y": "washingtonpost.com",
          "z": 0.00808997632202052
         },
         {
          "x": "cnn.com",
          "y": "washingtontimes.com",
          "z": 0.01976047904191617
         },
         {
          "x": "cnn.com",
          "y": "wsj.com",
          "z": 0.018162393162393164
         },
         {
          "x": "cnn.com",
          "y": "yahoo.com",
          "z": 0.0056008646949002655
         },
         {
          "x": "dailycaller.com",
          "y": "apnews.com",
          "z": 0.01304734605120095
         },
         {
          "x": "dailycaller.com",
          "y": "bbc.co.uk",
          "z": 0.010622456070684006
         },
         {
          "x": "dailycaller.com",
          "y": "bloomberg.com",
          "z": 0.007772795216741405
         },
         {
          "x": "dailycaller.com",
          "y": "breitbart.com",
          "z": 0.053682649530400396
         },
         {
          "x": "dailycaller.com",
          "y": "businessinsider.com",
          "z": 0.016395042451449203
         },
         {
          "x": "dailycaller.com",
          "y": "buzzfeed.com",
          "z": 0.011372626582278481
         },
         {
          "x": "dailycaller.com",
          "y": "cbc.ca",
          "z": 0.013732709722360435
         },
         {
          "x": "dailycaller.com",
          "y": "cbsnews.com",
          "z": 0.013332035811599844
         },
         {
          "x": "dailycaller.com",
          "y": "cnbc.com",
          "z": 0.012381141045958796
         },
         {
          "x": "dailycaller.com",
          "y": "cnn.com",
          "z": 0.021226182248988056
         },
         {
          "x": "dailycaller.com",
          "y": "dailycaller.com",
          "z": 0
         },
         {
          "x": "dailycaller.com",
          "y": "dailykos.com",
          "z": 0.027302759424795958
         },
         {
          "x": "dailycaller.com",
          "y": "forbes.com",
          "z": 0.007280343073701007
         },
         {
          "x": "dailycaller.com",
          "y": "foxnews.com",
          "z": 0.022813688212927757
         },
         {
          "x": "dailycaller.com",
          "y": "ft.com",
          "z": 0.008822363203806503
         },
         {
          "x": "dailycaller.com",
          "y": "huffingtonpost.com",
          "z": 0.010917674830333431
         },
         {
          "x": "dailycaller.com",
          "y": "inc.com",
          "z": 0.004464285714285714
         },
         {
          "x": "dailycaller.com",
          "y": "independent.co.uk",
          "z": 0.015849576688324474
         },
         {
          "x": "dailycaller.com",
          "y": "msn.com",
          "z": 0.006110180348871588
         },
         {
          "x": "dailycaller.com",
          "y": "nbcnews.com",
          "z": 0.012160804020100502
         },
         {
          "x": "dailycaller.com",
          "y": "newsweek.com",
          "z": 0.02251350810486292
         },
         {
          "x": "dailycaller.com",
          "y": "npr.org",
          "z": 0.010738916256157636
         },
         {
          "x": "dailycaller.com",
          "y": "nydailynews.com",
          "z": 0.017212550408183338
         },
         {
          "x": "dailycaller.com",
          "y": "nypost.com",
          "z": 0.0262451535937966
         },
         {
          "x": "dailycaller.com",
          "y": "nytimes.com",
          "z": 0.00717461600646726
         },
         {
          "x": "dailycaller.com",
          "y": "rawstory.com",
          "z": 0.06153539778950513
         },
         {
          "x": "dailycaller.com",
          "y": "reuters.com",
          "z": 0.00547645125958379
         },
         {
          "x": "dailycaller.com",
          "y": "rt.com",
          "z": 0.018124816302537473
         },
         {
          "x": "dailycaller.com",
          "y": "sputniknews.com",
          "z": 0.018653770232925384
         },
         {
          "x": "dailycaller.com",
          "y": "telegraph.co.uk",
          "z": 0.00482520925652388
         },
         {
          "x": "dailycaller.com",
          "y": "theguardian.com",
          "z": 0.01009387301907742
         },
         {
          "x": "dailycaller.com",
          "y": "thehill.com",
          "z": 0.060453151281290196
         },
         {
          "x": "dailycaller.com",
          "y": "thetimes.co.uk",
          "z": 0.016624040920716114
         },
         {
          "x": "dailycaller.com",
          "y": "time.com",
          "z": 0.014598540145985401
         },
         {
          "x": "dailycaller.com",
          "y": "usatoday.com",
          "z": 0.01196547665751275
         },
         {
          "x": "dailycaller.com",
          "y": "variety.com",
          "z": 0.016054821341164954
         },
         {
          "x": "dailycaller.com",
          "y": "vice.com",
          "z": 0.02479174930583102
         },
         {
          "x": "dailycaller.com",
          "y": "washingtonexaminer.com",
          "z": 0.05519317611640743
         },
         {
          "x": "dailycaller.com",
          "y": "washingtonpost.com",
          "z": 0.026637726913970008
         },
         {
          "x": "dailycaller.com",
          "y": "washingtontimes.com",
          "z": 0.030039920159680638
         },
         {
          "x": "dailycaller.com",
          "y": "wsj.com",
          "z": 0.014568764568764568
         },
         {
          "x": "dailycaller.com",
          "y": "yahoo.com",
          "z": 0.004028692148963349
         },
         {
          "x": "dailykos.com",
          "y": "apnews.com",
          "z": 0.009587822477018879
         },
         {
          "x": "dailykos.com",
          "y": "bbc.co.uk",
          "z": 0.022039114464409808
         },
         {
          "x": "dailykos.com",
          "y": "bloomberg.com",
          "z": 0.005181863477827603
         },
         {
          "x": "dailykos.com",
          "y": "breitbart.com",
          "z": 0.023133959466139397
         },
         {
          "x": "dailykos.com",
          "y": "businessinsider.com",
          "z": 0.014443251683419537
         },
         {
          "x": "dailykos.com",
          "y": "buzzfeed.com",
          "z": 0.011867088607594937
         },
         {
          "x": "dailykos.com",
          "y": "cbc.ca",
          "z": 0.006567817693302816
         },
         {
          "x": "dailykos.com",
          "y": "cbsnews.com",
          "z": 0.00973141300116777
         },
         {
          "x": "dailykos.com",
          "y": "cnbc.com",
          "z": 0.007428684627575277
         },
         {
          "x": "dailykos.com",
          "y": "cnn.com",
          "z": 0.026754862276631455
         },
         {
          "x": "dailykos.com",
          "y": "dailycaller.com",
          "z": 0.025658603466849474
         },
         {
          "x": "dailykos.com",
          "y": "dailykos.com",
          "z": 0
         },
         {
          "x": "dailykos.com",
          "y": "forbes.com",
          "z": 0.00997307270370001
         },
         {
          "x": "dailykos.com",
          "y": "foxnews.com",
          "z": 0.010306183710226135
         },
         {
          "x": "dailykos.com",
          "y": "ft.com",
          "z": 0.006046788263283109
         },
         {
          "x": "dailykos.com",
          "y": "huffingtonpost.com",
          "z": 0.025376217173207437
         },
         {
          "x": "dailykos.com",
          "y": "inc.com",
          "z": 0.0036706349206349206
         },
         {
          "x": "dailykos.com",
          "y": "independent.co.uk",
          "z": 0.00994290214609175
         },
         {
          "x": "dailykos.com",
          "y": "msn.com",
          "z": 0.003252192766334877
         },
         {
          "x": "dailykos.com",
          "y": "nbcnews.com",
          "z": 0.01587939698492462
         },
         {
          "x": "dailykos.com",
          "y": "newsweek.com",
          "z": 0.033420052031218735
         },
         {
          "x": "dailykos.com",
          "y": "npr.org",
          "z": 0.02226600985221675
         },
         {
          "x": "dailykos.com",
          "y": "nydailynews.com",
          "z": 0.005212943837906954
         },
         {
          "x": "dailykos.com",
          "y": "nypost.com",
          "z": 0.010438413361169102
         },
         {
          "x": "dailykos.com",
          "y": "nytimes.com",
          "z": 0.014248181083265966
         },
         {
          "x": "dailykos.com",
          "y": "rawstory.com",
          "z": 0.04988549238275416
         },
         {
          "x": "dailykos.com",
          "y": "reuters.com",
          "z": 0.007268744399083939
         },
         {
          "x": "dailykos.com",
          "y": "rt.com",
          "z": 0.007641814441069854
         },
         {
          "x": "dailykos.com",
          "y": "sputniknews.com",
          "z": 0.006908803789972365
         },
         {
          "x": "dailykos.com",
          "y": "telegraph.co.uk",
          "z": 0.003741999015263417
         },
         {
          "x": "dailykos.com",
          "y": "theguardian.com",
          "z": 0.008781669526597355
         },
         {
          "x": "dailykos.com",
          "y": "thehill.com",
          "z": 0.031364400910260215
         },
         {
          "x": "dailykos.com",
          "y": "thetimes.co.uk",
          "z": 0.010230179028132993
         },
         {
          "x": "dailykos.com",
          "y": "time.com",
          "z": 0.010258433616097849
         },
         {
          "x": "dailykos.com",
          "y": "usatoday.com",
          "z": 0.0057865829737151825
         },
         {
          "x": "dailykos.com",
          "y": "variety.com",
          "z": 0.003915810083210965
         },
         {
          "x": "dailykos.com",
          "y": "vice.com",
          "z": 0.016560888536295122
         },
         {
          "x": "dailykos.com",
          "y": "washingtonexaminer.com",
          "z": 0.053587556447566485
         },
         {
          "x": "dailykos.com",
          "y": "washingtonpost.com",
          "z": 0.024763220205209154
         },
         {
          "x": "dailykos.com",
          "y": "washingtontimes.com",
          "z": 0.013373253493013972
         },
         {
          "x": "dailykos.com",
          "y": "wsj.com",
          "z": 0.006604506604506605
         },
         {
          "x": "dailykos.com",
          "y": "yahoo.com",
          "z": 0.0032426058759948903
         },
         {
          "x": "forbes.com",
          "y": "apnews.com",
          "z": 0.004942176534545814
         },
         {
          "x": "forbes.com",
          "y": "bbc.co.uk",
          "z": 0.026010126079618782
         },
         {
          "x": "forbes.com",
          "y": "bloomberg.com",
          "z": 0.0216243148978575
         },
         {
          "x": "forbes.com",
          "y": "breitbart.com",
          "z": 0.005239742956005932
         },
         {
          "x": "forbes.com",
          "y": "businessinsider.com",
          "z": 0.03532741290133698
         },
         {
          "x": "forbes.com",
          "y": "buzzfeed.com",
          "z": 0.013647151898734177
         },
         {
          "x": "forbes.com",
          "y": "cbc.ca",
          "z": 0.01253856105085083
         },
         {
          "x": "forbes.com",
          "y": "cbsnews.com",
          "z": 0.004768392370572207
         },
         {
          "x": "forbes.com",
          "y": "cnbc.com",
          "z": 0.03456814580031696
         },
         {
          "x": "forbes.com",
          "y": "cnn.com",
          "z": 0.011254812913416921
         },
         {
          "x": "forbes.com",
          "y": "dailycaller.com",
          "z": 0.0050925472529624915
         },
         {
          "x": "forbes.com",
          "y": "dailykos.com",
          "z": 0.012436844150796735
         },
         {
          "x": "forbes.com",
          "y": "forbes.com",
          "z": 0
         },
         {
          "x": "forbes.com",
          "y": "foxnews.com",
          "z": 0.0034020412247348407
         },
         {
          "x": "forbes.com",
          "y": "ft.com",
          "z": 0.02983743061062649
         },
         {
          "x": "forbes.com",
          "y": "huffingtonpost.com",
          "z": 0.029900658994787055
         },
         {
          "x": "forbes.com",
          "y": "inc.com",
          "z": 0.13581349206349205
         },
         {
          "x": "forbes.com",
          "y": "independent.co.uk",
          "z": 0.009450679267572357
         },
         {
          "x": "forbes.com",
          "y": "msn.com",
          "z": 0.007095693308367005
         },
         {
          "x": "forbes.com",
          "y": "nbcnews.com",
          "z": 0.006030150753768844
         },
         {
          "x": "forbes.com",
          "y": "newsweek.com",
          "z": 0.013708224934960976
         },
         {
          "x": "forbes.com",
          "y": "npr.org",
          "z": 0.02226600985221675
         },
         {
          "x": "forbes.com",
          "y": "nydailynews.com",
          "z": 0.004229369528867906
         },
         {
          "x": "forbes.com",
          "y": "nypost.com",
          "z": 0.016104980614375188
         },
         {
          "x": "forbes.com",
          "y": "nytimes.com",
          "z": 0.01162085691188359
         },
         {
          "x": "forbes.com",
          "y": "rawstory.com",
          "z": 0.001891864980583491
         },
         {
          "x": "forbes.com",
          "y": "reuters.com",
          "z": 0.011450761724584287
         },
         {
          "x": "forbes.com",
          "y": "rt.com",
          "z": 0.005192514940726952
         },
         {
          "x": "forbes.com",
          "y": "sputniknews.com",
          "z": 0.006711409395973154
         },
         {
          "x": "forbes.com",
          "y": "telegraph.co.uk",
          "z": 0.018316100443131464
         },
         {
          "x": "forbes.com",
          "y": "theguardian.com",
          "z": 0.016251135560714645
         },
         {
          "x": "forbes.com",
          "y": "thehill.com",
          "z": 0.00969625012367666
         },
         {
          "x": "forbes.com",
          "y": "thetimes.co.uk",
          "z": 0.017706079087153256
         },
         {
          "x": "forbes.com",
          "y": "time.com",
          "z": 0.016472677056618663
         },
         {
          "x": "forbes.com",
          "y": "usatoday.com",
          "z": 0.020694389956845822
         },
         {
          "x": "forbes.com",
          "y": "variety.com",
          "z": 0.025159079784630445
         },
         {
          "x": "forbes.com",
          "y": "vice.com",
          "z": 0.03232844109480365
         },
         {
          "x": "forbes.com",
          "y": "washingtonexaminer.com",
          "z": 0.009332664325137983
         },
         {
          "x": "forbes.com",
          "y": "washingtonpost.com",
          "z": 0.005327545382794002
         },
         {
          "x": "forbes.com",
          "y": "washingtontimes.com",
          "z": 0.007385229540918164
         },
         {
          "x": "forbes.com",
          "y": "wsj.com",
          "z": 0.02097902097902098
         },
         {
          "x": "forbes.com",
          "y": "yahoo.com",
          "z": 0.006092168615505552
         },
         {
          "x": "foxnews.com",
          "y": "apnews.com",
          "z": 0.06454482554116833
         },
         {
          "x": "foxnews.com",
          "y": "bbc.co.uk",
          "z": 0.024719547304675866
         },
         {
          "x": "foxnews.com",
          "y": "bloomberg.com",
          "z": 0.00787244643746886
         },
         {
          "x": "foxnews.com",
          "y": "breitbart.com",
          "z": 0.03826000988630746
         },
         {
          "x": "foxnews.com",
          "y": "businessinsider.com",
          "z": 0.007124036303308285
         },
         {
          "x": "foxnews.com",
          "y": "buzzfeed.com",
          "z": 0.007021360759493671
         },
         {
          "x": "foxnews.com",
          "y": "cbc.ca",
          "z": 0.02348492387302219
         },
         {
          "x": "foxnews.com",
          "y": "cbsnews.com",
          "z": 0.047683923705722074
         },
         {
          "x": "foxnews.com",
          "y": "cnbc.com",
          "z": 0.007329635499207607
         },
         {
          "x": "foxnews.com",
          "y": "cnn.com",
          "z": 0.03178991015894955
         },
         {
          "x": "foxnews.com",
          "y": "dailycaller.com",
          "z": 0.0321222211340711
         },
         {
          "x": "foxnews.com",
          "y": "dailykos.com",
          "z": 0.022250291488534784
         },
         {
          "x": "foxnews.com",
          "y": "forbes.com",
          "z": 0.011568764336292012
         },
         {
          "x": "foxnews.com",
          "y": "foxnews.com",
          "z": 0
         },
         {
          "x": "foxnews.com",
          "y": "ft.com",
          "z": 0.011003172085646313
         },
         {
          "x": "foxnews.com",
          "y": "huffingtonpost.com",
          "z": 0.013474968033834956
         },
         {
          "x": "foxnews.com",
          "y": "inc.com",
          "z": 0.006746031746031746
         },
         {
          "x": "foxnews.com",
          "y": "independent.co.uk",
          "z": 0.011124237054538294
         },
         {
          "x": "foxnews.com",
          "y": "msn.com",
          "z": 0.017542130679018428
         },
         {
          "x": "foxnews.com",
          "y": "nbcnews.com",
          "z": 0.019597989949748745
         },
         {
          "x": "foxnews.com",
          "y": "newsweek.com",
          "z": 0.015409245547328396
         },
         {
          "x": "foxnews.com",
          "y": "npr.org",
          "z": 0.024433497536945813
         },
         {
          "x": "foxnews.com",
          "y": "nydailynews.com",
          "z": 0.029408871840267532
         },
         {
          "x": "foxnews.com",
          "y": "nypost.com",
          "z": 0.04235013420817179
         },
         {
          "x": "foxnews.com",
          "y": "nytimes.com",
          "z": 0.011519805982215036
         },
         {
          "x": "foxnews.com",
          "y": "rawstory.com",
          "z": 0.018719506123668225
         },
         {
          "x": "foxnews.com",
          "y": "reuters.com",
          "z": 0.025390819476252116
         },
         {
          "x": "foxnews.com",
          "y": "rt.com",
          "z": 0.019300480062702068
         },
         {
          "x": "foxnews.com",
          "y": "sputniknews.com",
          "z": 0.0341492301618634
         },
         {
          "x": "foxnews.com",
          "y": "telegraph.co.uk",
          "z": 0.007680945347119645
         },
         {
          "x": "foxnews.com",
          "y": "theguardian.com",
          "z": 0.01080044413041284
         },
         {
          "x": "foxnews.com",
          "y": "thehill.com",
          "z": 0.0505590185020283
         },
         {
          "x": "foxnews.com",
          "y": "thetimes.co.uk",
          "z": 0.016033838284477672
         },
         {
          "x": "foxnews.com",
          "y": "time.com",
          "z": 0.01884000789110278
         },
         {
          "x": "foxnews.com",
          "y": "usatoday.com",
          "z": 0.01696743821106316
         },
         {
          "x": "foxnews.com",
          "y": "variety.com",
          "z": 0.018404307391091532
         },
         {
          "x": "foxnews.com",
          "y": "vice.com",
          "z": 0.01437921459738199
         },
         {
          "x": "foxnews.com",
          "y": "washingtonexaminer.com",
          "z": 0.04455594581033618
         },
         {
          "x": "foxnews.com",
          "y": "washingtonpost.com",
          "z": 0.008879242304656669
         },
         {
          "x": "foxnews.com",
          "y": "washingtontimes.com",
          "z": 0.03592814371257485
         },
         {
          "x": "foxnews.com",
          "y": "wsj.com",
          "z": 0.011072261072261072
         },
         {
          "x": "foxnews.com",
          "y": "yahoo.com",
          "z": 0.0056008646949002655
         },
         {
          "x": "ft.com",
          "y": "apnews.com",
          "z": 0.009884353069091628
         },
         {
          "x": "ft.com",
          "y": "bbc.co.uk",
          "z": 0.04387967834805917
         },
         {
          "x": "ft.com",
          "y": "bloomberg.com",
          "z": 0.055007473841554556
         },
         {
          "x": "ft.com",
          "y": "breitbart.com",
          "z": 0.006524962926347009
         },
         {
          "x": "ft.com",
          "y": "businessinsider.com",
          "z": 0.005172245535278618
         },
         {
          "x": "ft.com",
          "y": "buzzfeed.com",
          "z": 0.0020767405063291137
         },
         {
          "x": "ft.com",
          "y": "cbc.ca",
          "z": 0.008160015921982287
         },
         {
          "x": "ft.com",
          "y": "cbsnews.com",
          "z": 0.0028221097703386533
         },
         {
          "x": "ft.com",
          "y": "cnbc.com",
          "z": 0.02694136291600634
         },
         {
          "x": "ft.com",
          "y": "cnn.com",
          "z": 0.011254812913416921
         },
         {
          "x": "ft.com",
          "y": "dailycaller.com",
          "z": 0.004504945646851435
         },
         {
          "x": "ft.com",
          "y": "dailykos.com",
          "z": 0.0032063738826272835
         },
         {
          "x": "ft.com",
          "y": "forbes.com",
          "z": 0.024134835942954024
         },
         {
          "x": "ft.com",
          "y": "foxnews.com",
          "z": 0.0034020412247348407
         },
         {
          "x": "ft.com",
          "y": "ft.com",
          "z": 0
         },
         {
          "x": "ft.com",
          "y": "huffingtonpost.com",
          "z": 0.005212943837906954
         },
         {
          "x": "ft.com",
          "y": "inc.com",
          "z": 0.005555555555555556
         },
         {
          "x": "ft.com",
          "y": "independent.co.uk",
          "z": 0.009549123843276235
         },
         {
          "x": "ft.com",
          "y": "msn.com",
          "z": 0.00226667980683946
         },
         {
          "x": "ft.com",
          "y": "nbcnews.com",
          "z": 0.0020100502512562816
         },
         {
          "x": "ft.com",
          "y": "newsweek.com",
          "z": 0.003101861116670002
         },
         {
          "x": "ft.com",
          "y": "npr.org",
          "z": 0.011428571428571429
         },
         {
          "x": "ft.com",
          "y": "nydailynews.com",
          "z": 0.0016720763253663814
         },
         {
          "x": "ft.com",
          "y": "nypost.com",
          "z": 0.006461874937866587
         },
         {
          "x": "ft.com",
          "y": "nytimes.com",
          "z": 0.012429264349232014
         },
         {
          "x": "ft.com",
          "y": "rawstory.com",
          "z": 0.004381161007667032
         },
         {
          "x": "ft.com",
          "y": "reuters.com",
          "z": 0.046201334262670514
         },
         {
          "x": "ft.com",
          "y": "rt.com",
          "z": 0.013814049181933966
         },
         {
          "x": "ft.com",
          "y": "sputniknews.com",
          "z": 0.027931306750888275
         },
         {
          "x": "ft.com",
          "y": "telegraph.co.uk",
          "z": 0.01565731166912851
         },
         {
          "x": "ft.com",
          "y": "theguardian.com",
          "z": 0.027354395881699807
         },
         {
          "x": "ft.com",
          "y": "thehill.com",
          "z": 0.012169783318492134
         },
         {
          "x": "ft.com",
          "y": "thetimes.co.uk",
          "z": 0.07033248081841433
         },
         {
          "x": "ft.com",
          "y": "time.com",
          "z": 0.003255079897415664
         },
         {
          "x": "ft.com",
          "y": "usatoday.com",
          "z": 0.0022557865829737154
         },
         {
          "x": "ft.com",
          "y": "variety.com",
          "z": 0.016054821341164954
         },
         {
          "x": "ft.com",
          "y": "vice.com",
          "z": 0.01338754462514875
         },
         {
          "x": "ft.com",
          "y": "washingtonexaminer.com",
          "z": 0.004114400401404917
         },
         {
          "x": "ft.com",
          "y": "washingtonpost.com",
          "z": 0.00404498816101026
         },
         {
          "x": "ft.com",
          "y": "washingtontimes.com",
          "z": 0.009580838323353293
         },
         {
          "x": "ft.com",
          "y": "wsj.com",
          "z": 0.04992229992229992
         },
         {
          "x": "ft.com",
          "y": "yahoo.com",
          "z": 0.0028495627395106614
         },
         {
          "x": "huffingtonpost.com",
          "y": "apnews.com",
          "z": 0.010279727191855293
         },
         {
          "x": "huffingtonpost.com",
          "y": "bbc.co.uk",
          "z": 0.03325722227737516
         },
         {
          "x": "huffingtonpost.com",
          "y": "bloomberg.com",
          "z": 0.0072745391131041354
         },
         {
          "x": "huffingtonpost.com",
          "y": "breitbart.com",
          "z": 0.020761245674740483
         },
         {
          "x": "huffingtonpost.com",
          "y": "businessinsider.com",
          "z": 0.01795647506587294
         },
         {
          "x": "huffingtonpost.com",
          "y": "buzzfeed.com",
          "z": 0.050138449367088604
         },
         {
          "x": "huffingtonpost.com",
          "y": "cbc.ca",
          "z": 0.014628321225992636
         },
         {
          "x": "huffingtonpost.com",
          "y": "cbsnews.com",
          "z": 0.014889061891786688
         },
         {
          "x": "huffingtonpost.com",
          "y": "cnbc.com",
          "z": 0.007626782884310618
         },
         {
          "x": "huffingtonpost.com",
          "y": "cnn.com",
          "z": 0.024187975120939877
         },
         {
          "x": "huffingtonpost.com",
          "y": "dailycaller.com",
          "z": 0.016452844971109586
         },
         {
          "x": "huffingtonpost.com",
          "y": "dailykos.com",
          "z": 0.04450058297706957
         },
         {
          "x": "huffingtonpost.com",
          "y": "forbes.com",
          "z": 0.055350553505535055
         },
         {
          "x": "huffingtonpost.com",
          "y": "foxnews.com",
          "z": 0.011707024214528718
         },
         {
          "x": "huffingtonpost.com",
          "y": "ft.com",
          "z": 0.014274385408406027
         },
         {
          "x": "huffingtonpost.com",
          "y": "huffingtonpost.com",
          "z": 0
         },
         {
          "x": "huffingtonpost.com",
          "y": "inc.com",
          "z": 0.06011904761904762
         },
         {
          "x": "huffingtonpost.com",
          "y": "independent.co.uk",
          "z": 0.015160464658397323
         },
         {
          "x": "huffingtonpost.com",
          "y": "msn.com",
          "z": 0.014487040504582636
         },
         {
          "x": "huffingtonpost.com",
          "y": "nbcnews.com",
          "z": 0.016180904522613067
         },
         {
          "x": "huffingtonpost.com",
          "y": "newsweek.com",
          "z": 0.02221332799679808
         },
         {
          "x": "huffingtonpost.com",
          "y": "npr.org",
          "z": 0.03408866995073891
         },
         {
          "x": "huffingtonpost.com",
          "y": "nydailynews.com",
          "z": 0.01396675518835448
         },
         {
          "x": "huffingtonpost.com",
          "y": "nypost.com",
          "z": 0.028929317029525798
         },
         {
          "x": "huffingtonpost.com",
          "y": "nytimes.com",
          "z": 0.015864995957962813
         },
         {
          "x": "huffingtonpost.com",
          "y": "rawstory.com",
          "z": 0.021607089515085134
         },
         {
          "x": "huffingtonpost.com",
          "y": "reuters.com",
          "z": 0.007766603604500647
         },
         {
          "x": "huffingtonpost.com",
          "y": "rt.com",
          "z": 0.008719506221220731
         },
         {
          "x": "huffingtonpost.com",
          "y": "sputniknews.com",
          "z": 0.008685353335965259
         },
         {
          "x": "huffingtonpost.com",
          "y": "telegraph.co.uk",
          "z": 0.009354997538158542
         },
         {
          "x": "huffingtonpost.com",
          "y": "theguardian.com",
          "z": 0.021701826991016453
         },
         {
          "x": "huffingtonpost.com",
          "y": "thehill.com",
          "z": 0.021569209458790938
         },
         {
          "x": "huffingtonpost.com",
          "y": "thetimes.co.uk",
          "z": 0.02528034625221326
         },
         {
          "x": "huffingtonpost.com",
          "y": "time.com",
          "z": 0.03738409942789505
         },
         {
          "x": "huffingtonpost.com",
          "y": "usatoday.com",
          "z": 0.014123185562965868
         },
         {
          "x": "huffingtonpost.com",
          "y": "variety.com",
          "z": 0.02261380323054332
         },
         {
          "x": "huffingtonpost.com",
          "y": "vice.com",
          "z": 0.0613843712812376
         },
         {
          "x": "huffingtonpost.com",
          "y": "washingtonexaminer.com",
          "z": 0.02498745609633718
         },
         {
          "x": "huffingtonpost.com",
          "y": "washingtonpost.com",
          "z": 0.01430544593528019
         },
         {
          "x": "huffingtonpost.com",
          "y": "washingtontimes.com",
          "z": 0.014970059880239521
         },
         {
          "x": "huffingtonpost.com",
          "y": "wsj.com",
          "z": 0.012334887334887334
         },
         {
          "x": "huffingtonpost.com",
          "y": "yahoo.com",
          "z": 0.006386950967868723
         },
         {
          "x": "inc.com",
          "y": "apnews.com",
          "z": 0.0012849658989819116
         },
         {
          "x": "inc.com",
          "y": "bbc.co.uk",
          "z": 0.005956517422813462
         },
         {
          "x": "inc.com",
          "y": "bloomberg.com",
          "z": 0.004484304932735426
         },
         {
          "x": "inc.com",
          "y": "breitbart.com",
          "z": 0.001384083044982699
         },
         {
          "x": "inc.com",
          "y": "businessinsider.com",
          "z": 0.03464428613252659
         },
         {
          "x": "inc.com",
          "y": "buzzfeed.com",
          "z": 0.020470727848101267
         },
         {
          "x": "inc.com",
          "y": "cbc.ca",
          "z": 0.002288784953726739
         },
         {
          "x": "inc.com",
          "y": "cbsnews.com",
          "z": 0.0016543402101985207
         },
         {
          "x": "inc.com",
          "y": "cnbc.com",
          "z": 0.0197107765451664
         },
         {
          "x": "inc.com",
          "y": "cnn.com",
          "z": 0.003751604304472307
         },
         {
          "x": "inc.com",
          "y": "dailycaller.com",
          "z": 0.001077269611203604
         },
         {
          "x": "inc.com",
          "y": "dailykos.com",
          "z": 0.005246793626117373
         },
         {
          "x": "inc.com",
          "y": "forbes.com",
          "z": 0.0939463448688541
         },
         {
          "x": "inc.com",
          "y": "foxnews.com",
          "z": 0.0011006603962377428
         },
         {
          "x": "inc.com",
          "y": "ft.com",
          "z": 0.0055511498810467885
         },
         {
          "x": "inc.com",
          "y": "huffingtonpost.com",
          "z": 0.02213042195337858
         },
         {
          "x": "inc.com",
          "y": "inc.com",
          "z": 0
         },
         {
          "x": "inc.com",
          "y": "independent.co.uk",
          "z": 0.004036227603859028
         },
         {
          "x": "inc.com",
          "y": "msn.com",
          "z": 0.0036463979501330443
         },
         {
          "x": "inc.com",
          "y": "nbcnews.com",
          "z": 0.0026130653266331657
         },
         {
          "x": "inc.com",
          "y": "newsweek.com",
          "z": 0.004402641584950971
         },
         {
          "x": "inc.com",
          "y": "npr.org",
          "z": 0.0064039408866995075
         },
         {
          "x": "inc.com",
          "y": "nydailynews.com",
          "z": 0.0010819317399429528
         },
         {
          "x": "inc.com",
          "y": "nypost.com",
          "z": 0.007555423004274779
         },
         {
          "x": "inc.com",
          "y": "nytimes.com",
          "z": 0.003839935327405012
         },
         {
          "x": "inc.com",
          "y": "rawstory.com",
          "z": 0.001095290251916758
         },
         {
          "x": "inc.com",
          "y": "reuters.com",
          "z": 0.0014935776162501246
         },
         {
          "x": "inc.com",
          "y": "rt.com",
          "z": 0.001175663760164593
         },
         {
          "x": "inc.com",
          "y": "sputniknews.com",
          "z": 0.0011843663639952626
         },
         {
          "x": "inc.com",
          "y": "telegraph.co.uk",
          "z": 0.005809945839487937
         },
         {
          "x": "inc.com",
          "y": "theguardian.com",
          "z": 0.00504693650953871
         },
         {
          "x": "inc.com",
          "y": "thehill.com",
          "z": 0.0017809439002671415
         },
         {
          "x": "inc.com",
          "y": "thetimes.co.uk",
          "z": 0.006787330316742082
         },
         {
          "x": "inc.com",
          "y": "time.com",
          "z": 0.016176760702308147
         },
         {
          "x": "inc.com",
          "y": "usatoday.com",
          "z": 0.0036288740682620634
         },
         {
          "x": "inc.com",
          "y": "variety.com",
          "z": 0.0034263338228095936
         },
         {
          "x": "inc.com",
          "y": "vice.com",
          "z": 0.015370884569615231
         },
         {
          "x": "inc.com",
          "y": "washingtonexaminer.com",
          "z": 0.0015052684395383843
         },
         {
          "x": "inc.com",
          "y": "washingtonpost.com",
          "z": 0.001973164956590371
         },
         {
          "x": "inc.com",
          "y": "washingtontimes.com",
          "z": 0.0011976047904191617
         },
         {
          "x": "inc.com",
          "y": "wsj.com",
          "z": 0.006021756021756022
         },
         {
          "x": "inc.com",
          "y": "yahoo.com",
          "z": 0.0017686941141790312
         },
         {
          "x": "independent.co.uk",
          "y": "apnews.com",
          "z": 0.007512108332509637
         },
         {
          "x": "independent.co.uk",
          "y": "bbc.co.uk",
          "z": 0.035441278665740095
         },
         {
          "x": "independent.co.uk",
          "y": "bloomberg.com",
          "z": 0.008071748878923767
         },
         {
          "x": "independent.co.uk",
          "y": "breitbart.com",
          "z": 0.01809194265941671
         },
         {
          "x": "independent.co.uk",
          "y": "businessinsider.com",
          "z": 0.036986435054162194
         },
         {
          "x": "independent.co.uk",
          "y": "buzzfeed.com",
          "z": 0.02521756329113924
         },
         {
          "x": "independent.co.uk",
          "y": "cbc.ca",
          "z": 0.017116130958304308
         },
         {
          "x": "independent.co.uk",
          "y": "cbsnews.com",
          "z": 0.0070066173608407945
         },
         {
          "x": "independent.co.uk",
          "y": "cnbc.com",
          "z": 0.009805863708399367
         },
         {
          "x": "independent.co.uk",
          "y": "cnn.com",
          "z": 0.010267548622766314
         },
         {
          "x": "independent.co.uk",
          "y": "dailycaller.com",
          "z": 0.01077269611203604
         },
         {
          "x": "independent.co.uk",
          "y": "dailykos.com",
          "z": 0.013019821220365333
         },
         {
          "x": "independent.co.uk",
          "y": "forbes.com",
          "z": 0.016555300688142018
         },
         {
          "x": "independent.co.uk",
          "y": "foxnews.com",
          "z": 0.006003602161296778
         },
         {
          "x": "independent.co.uk",
          "y": "ft.com",
          "z": 0.021312450436161777
         },
         {
          "x": "independent.co.uk",
          "y": "huffingtonpost.com",
          "z": 0.01377004032654667
         },
         {
          "x": "independent.co.uk",
          "y": "inc.com",
          "z": 0.010912698412698412
         },
         {
          "x": "independent.co.uk",
          "y": "independent.co.uk",
          "z": 0
         },
         {
          "x": "independent.co.uk",
          "y": "msn.com",
          "z": 0.011727604217995466
         },
         {
          "x": "independent.co.uk",
          "y": "nbcnews.com",
          "z": 0.006834170854271356
         },
         {
          "x": "independent.co.uk",
          "y": "newsweek.com",
          "z": 0.03892335401240744
         },
         {
          "x": "independent.co.uk",
          "y": "npr.org",
          "z": 0.009950738916256158
         },
         {
          "x": "independent.co.uk",
          "y": "nydailynews.com",
          "z": 0.009147241074063145
         },
         {
          "x": "independent.co.uk",
          "y": "nypost.com",
          "z": 0.022368028631076647
         },
         {
          "x": "independent.co.uk",
          "y": "nytimes.com",
          "z": 0.0068714632174616
         },
         {
          "x": "independent.co.uk",
          "y": "rawstory.com",
          "z": 0.0208105147864184
         },
         {
          "x": "independent.co.uk",
          "y": "reuters.com",
          "z": 0.012446480135417704
         },
         {
          "x": "independent.co.uk",
          "y": "rt.com",
          "z": 0.024395023023415303
         },
         {
          "x": "independent.co.uk",
          "y": "sputniknews.com",
          "z": 0.019640742202921436
         },
         {
          "x": "independent.co.uk",
          "y": "telegraph.co.uk",
          "z": 0.059084194977843424
         },
         {
          "x": "independent.co.uk",
          "y": "theguardian.com",
          "z": 0.047945896840617744
         },
         {
          "x": "independent.co.uk",
          "y": "thehill.com",
          "z": 0.004551301078460473
         },
         {
          "x": "independent.co.uk",
          "y": "thetimes.co.uk",
          "z": 0.05990556757820185
         },
         {
          "x": "independent.co.uk",
          "y": "time.com",
          "z": 0.02229236535805879
         },
         {
          "x": "independent.co.uk",
          "y": "usatoday.com",
          "z": 0.00823852491173009
         },
         {
          "x": "independent.co.uk",
          "y": "variety.com",
          "z": 0.021341164953499754
         },
         {
          "x": "independent.co.uk",
          "y": "vice.com",
          "z": 0.03659262197540659
         },
         {
          "x": "independent.co.uk",
          "y": "washingtonexaminer.com",
          "z": 0.00772704465629704
         },
         {
          "x": "independent.co.uk",
          "y": "washingtonpost.com",
          "z": 0.007991318074191003
         },
         {
          "x": "independent.co.uk",
          "y": "washingtontimes.com",
          "z": 0.007584830339321357
         },
         {
          "x": "independent.co.uk",
          "y": "wsj.com",
          "z": 0.005244755244755245
         },
         {
          "x": "independent.co.uk",
          "y": "yahoo.com",
          "z": 0.005699125479021323
         },
         {
          "x": "msn.com",
          "y": "apnews.com",
          "z": 0.031728773351784124
         },
         {
          "x": "msn.com",
          "y": "bbc.co.uk",
          "z": 0.044673880671100966
         },
         {
          "x": "msn.com",
          "y": "bloomberg.com",
          "z": 0.016940707523667164
         },
         {
          "x": "msn.com",
          "y": "breitbart.com",
          "z": 0.014236282748393475
         },
         {
          "x": "msn.com",
          "y": "businessinsider.com",
          "z": 0.02908168244364204
         },
         {
          "x": "msn.com",
          "y": "buzzfeed.com",
          "z": 0.030557753164556962
         },
         {
          "x": "msn.com",
          "y": "cbc.ca",
          "z": 0.04040203005274157
         },
         {
          "x": "msn.com",
          "y": "cbsnews.com",
          "z": 0.0253016738030362
         },
         {
          "x": "msn.com",
          "y": "cnbc.com",
          "z": 0.020007923930269414
         },
         {
          "x": "msn.com",
          "y": "cnn.com",
          "z": 0.03021028729390858
         },
         {
          "x": "msn.com",
          "y": "dailycaller.com",
          "z": 0.015081774556850456
         },
         {
          "x": "msn.com",
          "y": "dailykos.com",
          "z": 0.014380101049358725
         },
         {
          "x": "msn.com",
          "y": "forbes.com",
          "z": 0.024832951032213026
         },
         {
          "x": "msn.com",
          "y": "foxnews.com",
          "z": 0.018010806483890335
         },
         {
          "x": "msn.com",
          "y": "ft.com",
          "z": 0.01625693893735131
         },
         {
          "x": "msn.com",
          "y": "huffingtonpost.com",
          "z": 0.01908134159535753
         },
         {
          "x": "msn.com",
          "y": "inc.com",
          "z": 0.02013888888888889
         },
         {
          "x": "msn.com",
          "y": "independent.co.uk",
          "z": 0.03278204370939161
         },
         {
          "x": "msn.com",
          "y": "msn.com",
          "z": 0
         },
         {
          "x": "msn.com",
          "y": "nbcnews.com",
          "z": 0.01587939698492462
         },
         {
          "x": "msn.com",
          "y": "newsweek.com",
          "z": 0.020512307384430658
         },
         {
          "x": "msn.com",
          "y": "npr.org",
          "z": 0.018029556650246307
         },
         {
          "x": "msn.com",
          "y": "nydailynews.com",
          "z": 0.026163076620438673
         },
         {
          "x": "msn.com",
          "y": "nypost.com",
          "z": 0.041355999602346157
         },
         {
          "x": "msn.com",
          "y": "nytimes.com",
          "z": 0.01162085691188359
         },
         {
          "x": "msn.com",
          "y": "rawstory.com",
          "z": 0.01911779348800159
         },
         {
          "x": "msn.com",
          "y": "reuters.com",
          "z": 0.02339938265458528
         },
         {
          "x": "msn.com",
          "y": "rt.com",
          "z": 0.01655726462231802
         },
         {
          "x": "msn.com",
          "y": "sputniknews.com",
          "z": 0.02220686932491117
         },
         {
          "x": "msn.com",
          "y": "telegraph.co.uk",
          "z": 0.0206794682422452
         },
         {
          "x": "msn.com",
          "y": "theguardian.com",
          "z": 0.017462400323003936
         },
         {
          "x": "msn.com",
          "y": "thehill.com",
          "z": 0.028692985059859503
         },
         {
          "x": "msn.com",
          "y": "thetimes.co.uk",
          "z": 0.030395435766279757
         },
         {
          "x": "msn.com",
          "y": "time.com",
          "z": 0.026829749457486684
         },
         {
          "x": "msn.com",
          "y": "usatoday.com",
          "z": 0.03246371125931738
         },
         {
          "x": "msn.com",
          "y": "variety.com",
          "z": 0.025159079784630445
         },
         {
          "x": "msn.com",
          "y": "vice.com",
          "z": 0.027865926219754065
         },
         {
          "x": "msn.com",
          "y": "washingtonexaminer.com",
          "z": 0.015955845459106874
         },
         {
          "x": "msn.com",
          "y": "washingtonpost.com",
          "z": 0.018054459352801894
         },
         {
          "x": "msn.com",
          "y": "washingtontimes.com",
          "z": 0.01806387225548902
         },
         {
          "x": "msn.com",
          "y": "wsj.com",
          "z": 0.013306138306138306
         },
         {
          "x": "msn.com",
          "y": "yahoo.com",
          "z": 0.010317382332711015
         },
         {
          "x": "nbcnews.com",
          "y": "apnews.com",
          "z": 0.03410101808836612
         },
         {
          "x": "nbcnews.com",
          "y": "bbc.co.uk",
          "z": 0.019457956914523976
         },
         {
          "x": "nbcnews.com",
          "y": "bloomberg.com",
          "z": 0.0127553562531141
         },
         {
          "x": "nbcnews.com",
          "y": "breitbart.com",
          "z": 0.02619871478002966
         },
         {
          "x": "nbcnews.com",
          "y": "businessinsider.com",
          "z": 0.010344491070557236
         },
         {
          "x": "nbcnews.com",
          "y": "buzzfeed.com",
          "z": 0.009691455696202531
         },
         {
          "x": "nbcnews.com",
          "y": "cbc.ca",
          "z": 0.022788337147974923
         },
         {
          "x": "nbcnews.com",
          "y": "cbsnews.com",
          "z": 0.047489295445698715
         },
         {
          "x": "nbcnews.com",
          "y": "cnbc.com",
          "z": 0.013965927099841522
         },
         {
          "x": "nbcnews.com",
          "y": "cnn.com",
          "z": 0.030901372297364005
         },
         {
          "x": "nbcnews.com",
          "y": "dailycaller.com",
          "z": 0.020859857016942512
         },
         {
          "x": "nbcnews.com",
          "y": "dailykos.com",
          "z": 0.03322969296541003
         },
         {
          "x": "nbcnews.com",
          "y": "forbes.com",
          "z": 0.02024533758851102
         },
         {
          "x": "nbcnews.com",
          "y": "foxnews.com",
          "z": 0.031819091454872925
         },
         {
          "x": "nbcnews.com",
          "y": "ft.com",
          "z": 0.009119746233148296
         },
         {
          "x": "nbcnews.com",
          "y": "huffingtonpost.com",
          "z": 0.01976984361168486
         },
         {
          "x": "nbcnews.com",
          "y": "inc.com",
          "z": 0.015575396825396826
         },
         {
          "x": "nbcnews.com",
          "y": "independent.co.uk",
          "z": 0.011124237054538294
         },
         {
          "x": "nbcnews.com",
          "y": "msn.com",
          "z": 0.009953680890903715
         },
         {
          "x": "nbcnews.com",
          "y": "nbcnews.com",
          "z": 0
         },
         {
          "x": "nbcnews.com",
          "y": "newsweek.com",
          "z": 0.030218130878527115
         },
         {
          "x": "nbcnews.com",
          "y": "npr.org",
          "z": 0.04206896551724138
         },
         {
          "x": "nbcnews.com",
          "y": "nydailynews.com",
          "z": 0.0266548637749582
         },
         {
          "x": "nbcnews.com",
          "y": "nypost.com",
          "z": 0.028531663187195546
         },
         {
          "x": "nbcnews.com",
          "y": "nytimes.com",
          "z": 0.012732417138237672
         },
         {
          "x": "nbcnews.com",
          "y": "rawstory.com",
          "z": 0.020910086627501743
         },
         {
          "x": "nbcnews.com",
          "y": "reuters.com",
          "z": 0.021607089515085134
         },
         {
          "x": "nbcnews.com",
          "y": "rt.com",
          "z": 0.012932301361810523
         },
         {
          "x": "nbcnews.com",
          "y": "sputniknews.com",
          "z": 0.01667982629293328
         },
         {
          "x": "nbcnews.com",
          "y": "telegraph.co.uk",
          "z": 0.006006893156080748
         },
         {
          "x": "nbcnews.com",
          "y": "theguardian.com",
          "z": 0.013323912385182194
         },
         {
          "x": "nbcnews.com",
          "y": "thehill.com",
          "z": 0.04927278124072425
         },
         {
          "x": "nbcnews.com",
          "y": "thetimes.co.uk",
          "z": 0.017115876450914815
         },
         {
          "x": "nbcnews.com",
          "y": "time.com",
          "z": 0.026731110672716513
         },
         {
          "x": "nbcnews.com",
          "y": "usatoday.com",
          "z": 0.011867398979992155
         },
         {
          "x": "nbcnews.com",
          "y": "variety.com",
          "z": 0.019872736172295645
         },
         {
          "x": "nbcnews.com",
          "y": "vice.com",
          "z": 0.029452598175327253
         },
         {
          "x": "nbcnews.com",
          "y": "washingtonexaminer.com",
          "z": 0.03612644254892122
         },
         {
          "x": "nbcnews.com",
          "y": "washingtonpost.com",
          "z": 0.018153117600631413
         },
         {
          "x": "nbcnews.com",
          "y": "washingtontimes.com",
          "z": 0.02904191616766467
         },
         {
          "x": "nbcnews.com",
          "y": "wsj.com",
          "z": 0.013403263403263404
         },
         {
          "x": "nbcnews.com",
          "y": "yahoo.com",
          "z": 0.005109560774294979
         },
         {
          "x": "newsweek.com",
          "y": "apnews.com",
          "z": 0.004843333003854897
         },
         {
          "x": "newsweek.com",
          "y": "bbc.co.uk",
          "z": 0.011416658393725802
         },
         {
          "x": "newsweek.com",
          "y": "bloomberg.com",
          "z": 0.010264075734927753
         },
         {
          "x": "newsweek.com",
          "y": "breitbart.com",
          "z": 0.02560553633217993
         },
         {
          "x": "newsweek.com",
          "y": "businessinsider.com",
          "z": 0.04079242705182005
         },
         {
          "x": "newsweek.com",
          "y": "buzzfeed.com",
          "z": 0.021162974683544302
         },
         {
          "x": "newsweek.com",
          "y": "cbc.ca",
          "z": 0.012339536272265897
         },
         {
          "x": "newsweek.com",
          "y": "cbsnews.com",
          "z": 0.017516543402101986
         },
         {
          "x": "newsweek.com",
          "y": "cnbc.com",
          "z": 0.011885895404120444
         },
         {
          "x": "newsweek.com",
          "y": "cnn.com",
          "z": 0.015401322934149472
         },
         {
          "x": "newsweek.com",
          "y": "dailycaller.com",
          "z": 0.024287533052590345
         },
         {
          "x": "newsweek.com",
          "y": "dailykos.com",
          "z": 0.03585308977846871
         },
         {
          "x": "newsweek.com",
          "y": "forbes.com",
          "z": 0.01874937668295602
         },
         {
          "x": "newsweek.com",
          "y": "foxnews.com",
          "z": 0.013908345007004202
         },
         {
          "x": "newsweek.com",
          "y": "ft.com",
          "z": 0.004559873116574148
         },
         {
          "x": "newsweek.com",
          "y": "huffingtonpost.com",
          "z": 0.015147044359201337
         },
         {
          "x": "newsweek.com",
          "y": "inc.com",
          "z": 0.006547619047619048
         },
         {
          "x": "newsweek.com",
          "y": "independent.co.uk",
          "z": 0.0448907265209687
         },
         {
          "x": "newsweek.com",
          "y": "msn.com",
          "z": 0.010249334778752341
         },
         {
          "x": "newsweek.com",
          "y": "nbcnews.com",
          "z": 0.016683417085427137
         },
         {
          "x": "newsweek.com",
          "y": "newsweek.com",
          "z": 0
         },
         {
          "x": "newsweek.com",
          "y": "npr.org",
          "z": 0.02226600985221675
         },
         {
          "x": "newsweek.com",
          "y": "nydailynews.com",
          "z": 0.011016032261237336
         },
         {
          "x": "newsweek.com",
          "y": "nypost.com",
          "z": 0.01650263445670544
         },
         {
          "x": "newsweek.com",
          "y": "nytimes.com",
          "z": 0.007275666936135812
         },
         {
          "x": "newsweek.com",
          "y": "rawstory.com",
          "z": 0.046300906103753856
         },
         {
          "x": "newsweek.com",
          "y": "reuters.com",
          "z": 0.010853330678084238
         },
         {
          "x": "newsweek.com",
          "y": "rt.com",
          "z": 0.013716077201920251
         },
         {
          "x": "newsweek.com",
          "y": "sputniknews.com",
          "z": 0.014311093564942756
         },
         {
          "x": "newsweek.com",
          "y": "telegraph.co.uk",
          "z": 0.011915312653865091
         },
         {
          "x": "newsweek.com",
          "y": "theguardian.com",
          "z": 0.01150701524174826
         },
         {
          "x": "newsweek.com",
          "y": "thehill.com",
          "z": 0.012268724646284753
         },
         {
          "x": "newsweek.com",
          "y": "thetimes.co.uk",
          "z": 0.016033838284477672
         },
         {
          "x": "newsweek.com",
          "y": "time.com",
          "z": 0.03481949102387059
         },
         {
          "x": "newsweek.com",
          "y": "usatoday.com",
          "z": 0.014123185562965868
         },
         {
          "x": "newsweek.com",
          "y": "variety.com",
          "z": 0.017131669114047968
         },
         {
          "x": "newsweek.com",
          "y": "vice.com",
          "z": 0.03917096390321301
         },
         {
          "x": "newsweek.com",
          "y": "washingtonexaminer.com",
          "z": 0.030306071249372804
         },
         {
          "x": "newsweek.com",
          "y": "washingtonpost.com",
          "z": 0.021310181531176007
         },
         {
          "x": "newsweek.com",
          "y": "washingtontimes.com",
          "z": 0.010079840319361277
         },
         {
          "x": "newsweek.com",
          "y": "wsj.com",
          "z": 0.009032634032634032
         },
         {
          "x": "newsweek.com",
          "y": "yahoo.com",
          "z": 0.0050112999901739215
         },
         {
          "x": "npr.org",
          "y": "apnews.com",
          "z": 0.03133339922902046
         },
         {
          "x": "npr.org",
          "y": "bbc.co.uk",
          "z": 0.05390648267646183
         },
         {
          "x": "npr.org",
          "y": "bloomberg.com",
          "z": 0.01245640259093174
         },
         {
          "x": "npr.org",
          "y": "breitbart.com",
          "z": 0.017993079584775088
         },
         {
          "x": "npr.org",
          "y": "businessinsider.com",
          "z": 0.008685468917732019
         },
         {
          "x": "npr.org",
          "y": "buzzfeed.com",
          "z": 0.010087025316455696
         },
         {
          "x": "npr.org",
          "y": "cbc.ca",
          "z": 0.030848840680664742
         },
         {
          "x": "npr.org",
          "y": "cbsnews.com",
          "z": 0.03162709225379525
         },
         {
          "x": "npr.org",
          "y": "cnbc.com",
          "z": 0.011885895404120444
         },
         {
          "x": "npr.org",
          "y": "cnn.com",
          "z": 0.02478033369533024
         },
         {
          "x": "npr.org",
          "y": "dailycaller.com",
          "z": 0.01087062971305455
         },
         {
          "x": "npr.org",
          "y": "dailykos.com",
          "z": 0.029731830547998446
         },
         {
          "x": "npr.org",
          "y": "forbes.com",
          "z": 0.025032412486287025
         },
         {
          "x": "npr.org",
          "y": "foxnews.com",
          "z": 0.01821092655593356
         },
         {
          "x": "npr.org",
          "y": "ft.com",
          "z": 0.01774385408406027
         },
         {
          "x": "npr.org",
          "y": "huffingtonpost.com",
          "z": 0.026359791482246483
         },
         {
          "x": "npr.org",
          "y": "inc.com",
          "z": 0.010912698412698412
         },
         {
          "x": "npr.org",
          "y": "independent.co.uk",
          "z": 0.010435125024611145
         },
         {
          "x": "npr.org",
          "y": "msn.com",
          "z": 0.006997142012417463
         },
         {
          "x": "npr.org",
          "y": "nbcnews.com",
          "z": 0.027236180904522612
         },
         {
          "x": "npr.org",
          "y": "newsweek.com",
          "z": 0.020812487492495497
         },
         {
          "x": "npr.org",
          "y": "npr.org",
          "z": 0
         },
         {
          "x": "npr.org",
          "y": "nydailynews.com",
          "z": 0.008950526212255335
         },
         {
          "x": "npr.org",
          "y": "nypost.com",
          "z": 0.017397355601948505
         },
         {
          "x": "npr.org",
          "y": "nytimes.com",
          "z": 0.03324575586095392
         },
         {
          "x": "npr.org",
          "y": "rawstory.com",
          "z": 0.010255899631584188
         },
         {
          "x": "npr.org",
          "y": "reuters.com",
          "z": 0.022403664243751866
         },
         {
          "x": "npr.org",
          "y": "rt.com",
          "z": 0.009405310081316743
         },
         {
          "x": "npr.org",
          "y": "sputniknews.com",
          "z": 0.016778523489932886
         },
         {
          "x": "npr.org",
          "y": "telegraph.co.uk",
          "z": 0.009059576563269325
         },
         {
          "x": "npr.org",
          "y": "theguardian.com",
          "z": 0.022509336832542647
         },
         {
          "x": "npr.org",
          "y": "thehill.com",
          "z": 0.025526862570495697
         },
         {
          "x": "npr.org",
          "y": "thetimes.co.uk",
          "z": 0.024099940979736376
         },
         {
          "x": "npr.org",
          "y": "time.com",
          "z": 0.018938646675872955
         },
         {
          "x": "npr.org",
          "y": "usatoday.com",
          "z": 0.011278932914868575
         },
         {
          "x": "npr.org",
          "y": "variety.com",
          "z": 0.02124326970141948
         },
         {
          "x": "npr.org",
          "y": "vice.com",
          "z": 0.04928599761999207
         },
         {
          "x": "npr.org",
          "y": "washingtonexaminer.com",
          "z": 0.027295534370296037
         },
         {
          "x": "npr.org",
          "y": "washingtonpost.com",
          "z": 0.014009471191791634
         },
         {
          "x": "npr.org",
          "y": "washingtontimes.com",
          "z": 0.02554890219560878
         },
         {
          "x": "npr.org",
          "y": "wsj.com",
          "z": 0.020104895104895104
         },
         {
          "x": "npr.org",
          "y": "yahoo.com",
          "z": 0.0036356490124791196
         },
         {
          "x": "nydailynews.com",
          "y": "apnews.com",
          "z": 0.03578135811011169
         },
         {
          "x": "nydailynews.com",
          "y": "bbc.co.uk",
          "z": 0.02591085078923856
         },
         {
          "x": "nydailynews.com",
          "y": "bloomberg.com",
          "z": 0.00916791230692576
         },
         {
          "x": "nydailynews.com",
          "y": "breitbart.com",
          "z": 0.020860108749382107
         },
         {
          "x": "nydailynews.com",
          "y": "businessinsider.com",
          "z": 0.005757782765687518
         },
         {
          "x": "nydailynews.com",
          "y": "buzzfeed.com",
          "z": 0.005636867088607595
         },
         {
          "x": "nydailynews.com",
          "y": "cbc.ca",
          "z": 0.025176634490994127
         },
         {
          "x": "nydailynews.com",
          "y": "cbsnews.com",
          "z": 0.027734527053328142
         },
         {
          "x": "nydailynews.com",
          "y": "cnbc.com",
          "z": 0.003961965134706815
         },
         {
          "x": "nydailynews.com",
          "y": "cnn.com",
          "z": 0.013130615065653075
         },
         {
          "x": "nydailynews.com",
          "y": "dailycaller.com",
          "z": 0.01919498579962785
         },
         {
          "x": "nydailynews.com",
          "y": "dailykos.com",
          "z": 0.012631169840652934
         },
         {
          "x": "nydailynews.com",
          "y": "forbes.com",
          "z": 0.010471726338885011
         },
         {
          "x": "nydailynews.com",
          "y": "foxnews.com",
          "z": 0.025415249149489692
         },
         {
          "x": "nydailynews.com",
          "y": "ft.com",
          "z": 0.007434575733544805
         },
         {
          "x": "nydailynews.com",
          "y": "huffingtonpost.com",
          "z": 0.012393036293892004
         },
         {
          "x": "nydailynews.com",
          "y": "inc.com",
          "z": 0.002777777777777778
         },
         {
          "x": "nydailynews.com",
          "y": "independent.co.uk",
          "z": 0.012699350265800354
         },
         {
          "x": "nydailynews.com",
          "y": "msn.com",
          "z": 0.014979796984330345
         },
         {
          "x": "nydailynews.com",
          "y": "nbcnews.com",
          "z": 0.016582914572864323
         },
         {
          "x": "nydailynews.com",
          "y": "newsweek.com",
          "z": 0.014308585151090654
         },
         {
          "x": "nydailynews.com",
          "y": "npr.org",
          "z": 0.014088669950738916
         },
         {
          "x": "nydailynews.com",
          "y": "nydailynews.com",
          "z": 0
         },
         {
          "x": "nydailynews.com",
          "y": "nypost.com",
          "z": 0.10169997017596183
         },
         {
          "x": "nydailynews.com",
          "y": "nytimes.com",
          "z": 0.014854486661277283
         },
         {
          "x": "nydailynews.com",
          "y": "rawstory.com",
          "z": 0.025490391317335458
         },
         {
          "x": "nydailynews.com",
          "y": "reuters.com",
          "z": 0.013143483023001095
         },
         {
          "x": "nydailynews.com",
          "y": "rt.com",
          "z": 0.007543842461056138
         },
         {
          "x": "nydailynews.com",
          "y": "sputniknews.com",
          "z": 0.008981444926964075
         },
         {
          "x": "nydailynews.com",
          "y": "telegraph.co.uk",
          "z": 0.007188577055637617
         },
         {
          "x": "nydailynews.com",
          "y": "theguardian.com",
          "z": 0.01080044413041284
         },
         {
          "x": "nydailynews.com",
          "y": "thehill.com",
          "z": 0.02325121203126546
         },
         {
          "x": "nydailynews.com",
          "y": "thetimes.co.uk",
          "z": 0.01918158567774936
         },
         {
          "x": "nydailynews.com",
          "y": "time.com",
          "z": 0.01992503452357467
         },
         {
          "x": "nydailynews.com",
          "y": "usatoday.com",
          "z": 0.04707728520988623
         },
         {
          "x": "nydailynews.com",
          "y": "variety.com",
          "z": 0.033773861967694566
         },
         {
          "x": "nydailynews.com",
          "y": "vice.com",
          "z": 0.015965886552955177
         },
         {
          "x": "nydailynews.com",
          "y": "washingtonexaminer.com",
          "z": 0.019969894631209233
         },
         {
          "x": "nydailynews.com",
          "y": "washingtonpost.com",
          "z": 0.009175217048145225
         },
         {
          "x": "nydailynews.com",
          "y": "washingtontimes.com",
          "z": 0.02844311377245509
         },
         {
          "x": "nydailynews.com",
          "y": "wsj.com",
          "z": 0.01048951048951049
         },
         {
          "x": "nydailynews.com",
          "y": "yahoo.com",
          "z": 0.006386950967868723
         },
         {
          "x": "nypost.com",
          "y": "apnews.com",
          "z": 0.027181970940001975
         },
         {
          "x": "nypost.com",
          "y": "bbc.co.uk",
          "z": 0.02392534498163407
         },
         {
          "x": "nypost.com",
          "y": "bloomberg.com",
          "z": 0.011559541604384653
         },
         {
          "x": "nypost.com",
          "y": "breitbart.com",
          "z": 0.015620365793376174
         },
         {
          "x": "nypost.com",
          "y": "businessinsider.com",
          "z": 0.01102761783936762
         },
         {
          "x": "nypost.com",
          "y": "buzzfeed.com",
          "z": 0.010878164556962026
         },
         {
          "x": "nypost.com",
          "y": "cbc.ca",
          "z": 0.023882973430192057
         },
         {
          "x": "nypost.com",
          "y": "cbsnews.com",
          "z": 0.02316076294277929
         },
         {
          "x": "nypost.com",
          "y": "cnbc.com",
          "z": 0.011885895404120444
         },
         {
          "x": "nypost.com",
          "y": "cnn.com",
          "z": 0.022312172968703723
         },
         {
          "x": "nypost.com",
          "y": "dailycaller.com",
          "z": 0.01753011458231319
         },
         {
          "x": "nypost.com",
          "y": "dailykos.com",
          "z": 0.011173727166731443
         },
         {
          "x": "nypost.com",
          "y": "forbes.com",
          "z": 0.014959609055550015
         },
         {
          "x": "nypost.com",
          "y": "foxnews.com",
          "z": 0.01640984590754453
         },
         {
          "x": "nypost.com",
          "y": "ft.com",
          "z": 0.013183980967486122
         },
         {
          "x": "nypost.com",
          "y": "huffingtonpost.com",
          "z": 0.01131110455394905
         },
         {
          "x": "nypost.com",
          "y": "inc.com",
          "z": 0.009226190476190476
         },
         {
          "x": "nypost.com",
          "y": "independent.co.uk",
          "z": 0.012305571962984839
         },
         {
          "x": "nypost.com",
          "y": "msn.com",
          "z": 0.012910219769389967
         },
         {
          "x": "nypost.com",
          "y": "nbcnews.com",
          "z": 0.01306532663316583
         },
         {
          "x": "nypost.com",
          "y": "newsweek.com",
          "z": 0.007904742845707425
         },
         {
          "x": "nypost.com",
          "y": "npr.org",
          "z": 0.013004926108374384
         },
         {
          "x": "nypost.com",
          "y": "nydailynews.com",
          "z": 0.07494836234877544
         },
         {
          "x": "nypost.com",
          "y": "nypost.com",
          "z": 0
         },
         {
          "x": "nypost.com",
          "y": "nytimes.com",
          "z": 0.008488278092158448
         },
         {
          "x": "nypost.com",
          "y": "rawstory.com",
          "z": 0.014935776162501245
         },
         {
          "x": "nypost.com",
          "y": "reuters.com",
          "z": 0.007567459922333964
         },
         {
          "x": "nypost.com",
          "y": "rt.com",
          "z": 0.009797198001371608
         },
         {
          "x": "nypost.com",
          "y": "sputniknews.com",
          "z": 0.01401500197394394
         },
         {
          "x": "nypost.com",
          "y": "telegraph.co.uk",
          "z": 0.00846873461349089
         },
         {
          "x": "nypost.com",
          "y": "theguardian.com",
          "z": 0.01130513778136671
         },
         {
          "x": "nypost.com",
          "y": "thehill.com",
          "z": 0.02691204115959236
         },
         {
          "x": "nypost.com",
          "y": "thetimes.co.uk",
          "z": 0.028428093645484948
         },
         {
          "x": "nypost.com",
          "y": "time.com",
          "z": 0.017163148550009864
         },
         {
          "x": "nypost.com",
          "y": "usatoday.com",
          "z": 0.03246371125931738
         },
         {
          "x": "nypost.com",
          "y": "variety.com",
          "z": 0.015075868820362213
         },
         {
          "x": "nypost.com",
          "y": "vice.com",
          "z": 0.04254264180880603
         },
         {
          "x": "nypost.com",
          "y": "washingtonexaminer.com",
          "z": 0.01896638233818364
         },
         {
          "x": "nypost.com",
          "y": "washingtonpost.com",
          "z": 0.004340962904498816
         },
         {
          "x": "nypost.com",
          "y": "washingtontimes.com",
          "z": 0.015069860279441117
         },
         {
          "x": "nypost.com",
          "y": "wsj.com",
          "z": 0.012917637917637918
         },
         {
          "x": "nypost.com",
          "y": "yahoo.com",
          "z": 0.00579738626314238
         },
         {
          "x": "nytimes.com",
          "y": "apnews.com",
          "z": 0.060096866660077096
         },
         {
          "x": "nytimes.com",
          "y": "bbc.co.uk",
          "z": 0.05122604983619577
         },
         {
          "x": "nytimes.com",
          "y": "bloomberg.com",
          "z": 0.0268061783756851
         },
         {
          "x": "nytimes.com",
          "y": "breitbart.com",
          "z": 0.012654473554127533
         },
         {
          "x": "nytimes.com",
          "y": "businessinsider.com",
          "z": 0.005562603688884552
         },
         {
          "x": "nytimes.com",
          "y": "buzzfeed.com",
          "z": 0.005933544303797469
         },
         {
          "x": "nytimes.com",
          "y": "cbc.ca",
          "z": 0.020201015026370783
         },
         {
          "x": "nytimes.com",
          "y": "cbsnews.com",
          "z": 0.014402491241728299
         },
         {
          "x": "nytimes.com",
          "y": "cnbc.com",
          "z": 0.011984944532488113
         },
         {
          "x": "nytimes.com",
          "y": "cnn.com",
          "z": 0.020337644387402508
         },
         {
          "x": "nytimes.com",
          "y": "dailycaller.com",
          "z": 0.010283028106943492
         },
         {
          "x": "nytimes.com",
          "y": "dailykos.com",
          "z": 0.016420520792848815
         },
         {
          "x": "nytimes.com",
          "y": "forbes.com",
          "z": 0.015059339782587016
         },
         {
          "x": "nytimes.com",
          "y": "foxnews.com",
          "z": 0.014308585151090654
         },
         {
          "x": "nytimes.com",
          "y": "ft.com",
          "z": 0.03528945281522601
         },
         {
          "x": "nytimes.com",
          "y": "huffingtonpost.com",
          "z": 0.01583554637552867
         },
         {
          "x": "nytimes.com",
          "y": "inc.com",
          "z": 0.00753968253968254
         },
         {
          "x": "nytimes.com",
          "y": "independent.co.uk",
          "z": 0.007777121480606419
         },
         {
          "x": "nytimes.com",
          "y": "msn.com",
          "z": 0.006898590716467922
         },
         {
          "x": "nytimes.com",
          "y": "nbcnews.com",
          "z": 0.014371859296482412
         },
         {
          "x": "nytimes.com",
          "y": "newsweek.com",
          "z": 0.012407444466680007
         },
         {
          "x": "nytimes.com",
          "y": "npr.org",
          "z": 0.04019704433497537
         },
         {
          "x": "nytimes.com",
          "y": "nydailynews.com",
          "z": 0.019671486180780958
         },
         {
          "x": "nytimes.com",
          "y": "nypost.com",
          "z": 0.021373894025251017
         },
         {
          "x": "nytimes.com",
          "y": "nytimes.com",
          "z": 0
         },
         {
          "x": "nytimes.com",
          "y": "rawstory.com",
          "z": 0.009857612267250822
         },
         {
          "x": "nytimes.com",
          "y": "reuters.com",
          "z": 0.06442298118092203
         },
         {
          "x": "nytimes.com",
          "y": "rt.com",
          "z": 0.008719506221220731
         },
         {
          "x": "nytimes.com",
          "y": "sputniknews.com",
          "z": 0.021713383339913146
         },
         {
          "x": "nytimes.com",
          "y": "telegraph.co.uk",
          "z": 0.006597735105859183
         },
         {
          "x": "nytimes.com",
          "y": "theguardian.com",
          "z": 0.022408398102351873
         },
         {
          "x": "nytimes.com",
          "y": "thehill.com",
          "z": 0.016325319085782133
         },
         {
          "x": "nytimes.com",
          "y": "thetimes.co.uk",
          "z": 0.03787133582530002
         },
         {
          "x": "nytimes.com",
          "y": "time.com",
          "z": 0.013217597159202999
         },
         {
          "x": "nytimes.com",
          "y": "usatoday.com",
          "z": 0.022754021184778345
         },
         {
          "x": "nytimes.com",
          "y": "variety.com",
          "z": 0.02809593734703867
         },
         {
          "x": "nytimes.com",
          "y": "vice.com",
          "z": 0.025585085283617613
         },
         {
          "x": "nytimes.com",
          "y": "washingtonexaminer.com",
          "z": 0.012844957350727547
         },
         {
          "x": "nytimes.com",
          "y": "washingtonpost.com",
          "z": 0.02772296764009471
         },
         {
          "x": "nytimes.com",
          "y": "washingtontimes.com",
          "z": 0.03463073852295409
         },
         {
          "x": "nytimes.com",
          "y": "wsj.com",
          "z": 0.03681041181041181
         },
         {
          "x": "nytimes.com",
          "y": "yahoo.com",
          "z": 0.0056008646949002655
         },
         {
          "x": "rawstory.com",
          "y": "apnews.com",
          "z": 0.020559454383710585
         },
         {
          "x": "rawstory.com",
          "y": "bbc.co.uk",
          "z": 0.005559416261292564
         },
         {
          "x": "rawstory.com",
          "y": "bloomberg.com",
          "z": 0.0072745391131041354
         },
         {
          "x": "rawstory.com",
          "y": "breitbart.com",
          "z": 0.027385071675729115
         },
         {
          "x": "rawstory.com",
          "y": "businessinsider.com",
          "z": 0.013760124914609154
         },
         {
          "x": "rawstory.com",
          "y": "buzzfeed.com",
          "z": 0.011570411392405063
         },
         {
          "x": "rawstory.com",
          "y": "cbc.ca",
          "z": 0.006368792914717882
         },
         {
          "x": "rawstory.com",
          "y": "cbsnews.com",
          "z": 0.015764889061891788
         },
         {
          "x": "rawstory.com",
          "y": "cnbc.com",
          "z": 0.010895404120443741
         },
         {
          "x": "rawstory.com",
          "y": "cnn.com",
          "z": 0.018560568664231416
         },
         {
          "x": "rawstory.com",
          "y": "dailycaller.com",
          "z": 0.052884144549995106
         },
         {
          "x": "rawstory.com",
          "y": "dailykos.com",
          "z": 0.049261562378546446
         },
         {
          "x": "rawstory.com",
          "y": "forbes.com",
          "z": 0.003989229081480004
         },
         {
          "x": "rawstory.com",
          "y": "foxnews.com",
          "z": 0.014808885331198719
         },
         {
          "x": "rawstory.com",
          "y": "ft.com",
          "z": 0.006245043616177637
         },
         {
          "x": "rawstory.com",
          "y": "huffingtonpost.com",
          "z": 0.010917674830333431
         },
         {
          "x": "rawstory.com",
          "y": "inc.com",
          "z": 0.0025793650793650793
         },
         {
          "x": "rawstory.com",
          "y": "independent.co.uk",
          "z": 0.015554242961212838
         },
         {
          "x": "rawstory.com",
          "y": "msn.com",
          "z": 0.006504385532669754
         },
         {
          "x": "rawstory.com",
          "y": "nbcnews.com",
          "z": 0.01306532663316583
         },
         {
          "x": "rawstory.com",
          "y": "newsweek.com",
          "z": 0.033720232139283574
         },
         {
          "x": "rawstory.com",
          "y": "npr.org",
          "z": 0.010935960591133005
         },
         {
          "x": "rawstory.com",
          "y": "nydailynews.com",
          "z": 0.018196124717222387
         },
         {
          "x": "rawstory.com",
          "y": "nypost.com",
          "z": 0.01998210557709514
         },
         {
          "x": "rawstory.com",
          "y": "nytimes.com",
          "z": 0.004850444624090542
         },
         {
          "x": "rawstory.com",
          "y": "rawstory.com",
          "z": 0
         },
         {
          "x": "rawstory.com",
          "y": "reuters.com",
          "z": 0.007069600716917256
         },
         {
          "x": "rawstory.com",
          "y": "rt.com",
          "z": 0.014303909082002547
         },
         {
          "x": "rawstory.com",
          "y": "sputniknews.com",
          "z": 0.017666798262929332
         },
         {
          "x": "rawstory.com",
          "y": "telegraph.co.uk",
          "z": 0.0045297882816346625
         },
         {
          "x": "rawstory.com",
          "y": "theguardian.com",
          "z": 0.008075098415261935
         },
         {
          "x": "rawstory.com",
          "y": "thehill.com",
          "z": 0.04610665875136044
         },
         {
          "x": "rawstory.com",
          "y": "thetimes.co.uk",
          "z": 0.013673027739523903
         },
         {
          "x": "rawstory.com",
          "y": "time.com",
          "z": 0.013710791083053857
         },
         {
          "x": "rawstory.com",
          "y": "usatoday.com",
          "z": 0.003923107100823852
         },
         {
          "x": "rawstory.com",
          "y": "variety.com",
          "z": 0.009593734703866862
         },
         {
          "x": "rawstory.com",
          "y": "vice.com",
          "z": 0.01675922253074177
         },
         {
          "x": "rawstory.com",
          "y": "washingtonexaminer.com",
          "z": 0.044656297039638734
         },
         {
          "x": "rawstory.com",
          "y": "washingtonpost.com",
          "z": 0.01687056037884767
         },
         {
          "x": "rawstory.com",
          "y": "washingtontimes.com",
          "z": 0.02285429141716567
         },
         {
          "x": "rawstory.com",
          "y": "wsj.com",
          "z": 0.009906759906759906
         },
         {
          "x": "rawstory.com",
          "y": "yahoo.com",
          "z": 0.003144345091873833
         },
         {
          "x": "reuters.com",
          "y": "apnews.com",
          "z": 0.03518829692596619
         },
         {
          "x": "reuters.com",
          "y": "bbc.co.uk",
          "z": 0.02849200833912439
         },
         {
          "x": "reuters.com",
          "y": "bloomberg.com",
          "z": 0.07115097159940209
         },
         {
          "x": "reuters.com",
          "y": "breitbart.com",
          "z": 0.017696490360850223
         },
         {
          "x": "reuters.com",
          "y": "businessinsider.com",
          "z": 0.005172245535278618
         },
         {
          "x": "reuters.com",
          "y": "buzzfeed.com",
          "z": 0.0009889240506329115
         },
         {
          "x": "reuters.com",
          "y": "cbc.ca",
          "z": 0.018608816797691313
         },
         {
          "x": "reuters.com",
          "y": "cbsnews.com",
          "z": 0.015278318411833398
         },
         {
          "x": "reuters.com",
          "y": "cnbc.com",
          "z": 0.021295562599049127
         },
         {
          "x": "reuters.com",
          "y": "cnn.com",
          "z": 0.012834435778457894
         },
         {
          "x": "reuters.com",
          "y": "dailycaller.com",
          "z": 0.0031338752325923026
         },
         {
          "x": "reuters.com",
          "y": "dailykos.com",
          "z": 0.004372328021764477
         },
         {
          "x": "reuters.com",
          "y": "forbes.com",
          "z": 0.00847711179814501
         },
         {
          "x": "reuters.com",
          "y": "foxnews.com",
          "z": 0.0065039023414048425
         },
         {
          "x": "reuters.com",
          "y": "ft.com",
          "z": 0.0676050753370341
         },
         {
          "x": "reuters.com",
          "y": "huffingtonpost.com",
          "z": 0.0024589357725976198
         },
         {
          "x": "reuters.com",
          "y": "inc.com",
          "z": 0.000992063492063492
         },
         {
          "x": "reuters.com",
          "y": "independent.co.uk",
          "z": 0.007777121480606419
         },
         {
          "x": "reuters.com",
          "y": "msn.com",
          "z": 0.0036463979501330443
         },
         {
          "x": "reuters.com",
          "y": "nbcnews.com",
          "z": 0.009447236180904522
         },
         {
          "x": "reuters.com",
          "y": "newsweek.com",
          "z": 0.0051030618371022615
         },
         {
          "x": "reuters.com",
          "y": "npr.org",
          "z": 0.010738916256157636
         },
         {
          "x": "reuters.com",
          "y": "nydailynews.com",
          "z": 0.006098160716042097
         },
         {
          "x": "reuters.com",
          "y": "nypost.com",
          "z": 0.006064221095536336
         },
         {
          "x": "reuters.com",
          "y": "nytimes.com",
          "z": 0.013843977364591755
         },
         {
          "x": "reuters.com",
          "y": "rawstory.com",
          "z": 0.004480732848750373
         },
         {
          "x": "reuters.com",
          "y": "reuters.com",
          "z": 0
         },
         {
          "x": "reuters.com",
          "y": "rt.com",
          "z": 0.01449985304202998
         },
         {
          "x": "reuters.com",
          "y": "sputniknews.com",
          "z": 0.04638768258981445
         },
         {
          "x": "reuters.com",
          "y": "telegraph.co.uk",
          "z": 0.008862629246676515
         },
         {
          "x": "reuters.com",
          "y": "theguardian.com",
          "z": 0.017159584132431613
         },
         {
          "x": "reuters.com",
          "y": "thehill.com",
          "z": 0.014445433857722371
         },
         {
          "x": "reuters.com",
          "y": "thetimes.co.uk",
          "z": 0.02203423175290183
         },
         {
          "x": "reuters.com",
          "y": "time.com",
          "z": 0.0039455513908068654
         },
         {
          "x": "reuters.com",
          "y": "usatoday.com",
          "z": 0.007551981169085916
         },
         {
          "x": "reuters.com",
          "y": "variety.com",
          "z": 0.015271659324522761
         },
         {
          "x": "reuters.com",
          "y": "vice.com",
          "z": 0.0029750099166997225
         },
         {
          "x": "reuters.com",
          "y": "washingtonexaminer.com",
          "z": 0.011038635223281485
         },
         {
          "x": "reuters.com",
          "y": "washingtonpost.com",
          "z": 0.004242304656669298
         },
         {
          "x": "reuters.com",
          "y": "washingtontimes.com",
          "z": 0.014970059880239521
         },
         {
          "x": "reuters.com",
          "y": "wsj.com",
          "z": 0.03535353535353535
         },
         {
          "x": "reuters.com",
          "y": "yahoo.com",
          "z": 0.007860862729684583
         },
         {
          "x": "rt.com",
          "y": "apnews.com",
          "z": 0.021844420282692498
         },
         {
          "x": "rt.com",
          "y": "bbc.co.uk",
          "z": 0.01667824878387769
         },
         {
          "x": "rt.com",
          "y": "bloomberg.com",
          "z": 0.010762331838565023
         },
         {
          "x": "rt.com",
          "y": "breitbart.com",
          "z": 0.02787938704893722
         },
         {
          "x": "rt.com",
          "y": "businessinsider.com",
          "z": 0.003513223382453401
         },
         {
          "x": "rt.com",
          "y": "buzzfeed.com",
          "z": 0.0023734177215189874
         },
         {
          "x": "rt.com",
          "y": "cbc.ca",
          "z": 0.012339536272265897
         },
         {
          "x": "rt.com",
          "y": "cbsnews.com",
          "z": 0.011385753211366291
         },
         {
          "x": "rt.com",
          "y": "cnbc.com",
          "z": 0.008419175911251981
         },
         {
          "x": "rt.com",
          "y": "cnn.com",
          "z": 0.010366275051831375
         },
         {
          "x": "rt.com",
          "y": "dailycaller.com",
          "z": 0.01801978258740574
         },
         {
          "x": "rt.com",
          "y": "dailykos.com",
          "z": 0.007190050524679362
         },
         {
          "x": "rt.com",
          "y": "forbes.com",
          "z": 0.005884112895183006
         },
         {
          "x": "rt.com",
          "y": "foxnews.com",
          "z": 0.01380828497098259
         },
         {
          "x": "rt.com",
          "y": "ft.com",
          "z": 0.02656621728786677
         },
         {
          "x": "rt.com",
          "y": "huffingtonpost.com",
          "z": 0.004131012097964001
         },
         {
          "x": "rt.com",
          "y": "inc.com",
          "z": 0.000992063492063492
         },
         {
          "x": "rt.com",
          "y": "independent.co.uk",
          "z": 0.022839141563299862
         },
         {
          "x": "rt.com",
          "y": "msn.com",
          "z": 0.008179757563811963
         },
         {
          "x": "rt.com",
          "y": "nbcnews.com",
          "z": 0.007135678391959799
         },
         {
          "x": "rt.com",
          "y": "newsweek.com",
          "z": 0.009305583350010006
         },
         {
          "x": "rt.com",
          "y": "npr.org",
          "z": 0.005714285714285714
         },
         {
          "x": "rt.com",
          "y": "nydailynews.com",
          "z": 0.008655453919543622
         },
         {
          "x": "rt.com",
          "y": "nypost.com",
          "z": 0.01521025946913212
         },
         {
          "x": "rt.com",
          "y": "nytimes.com",
          "z": 0.007376717865804365
         },
         {
          "x": "rt.com",
          "y": "rawstory.com",
          "z": 0.015433635367917952
         },
         {
          "x": "rt.com",
          "y": "reuters.com",
          "z": 0.021009658468585084
         },
         {
          "x": "rt.com",
          "y": "rt.com",
          "z": 0
         },
         {
          "x": "rt.com",
          "y": "sputniknews.com",
          "z": 0.13106987761547573
         },
         {
          "x": "rt.com",
          "y": "telegraph.co.uk",
          "z": 0.00965041851304776
         },
         {
          "x": "rt.com",
          "y": "theguardian.com",
          "z": 0.01372766730594529
         },
         {
          "x": "rt.com",
          "y": "thehill.com",
          "z": 0.017809439002671415
         },
         {
          "x": "rt.com",
          "y": "thetimes.co.uk",
          "z": 0.03482195553806807
         },
         {
          "x": "rt.com",
          "y": "time.com",
          "z": 0.004636022884198066
         },
         {
          "x": "rt.com",
          "y": "usatoday.com",
          "z": 0.005198116908591605
         },
         {
          "x": "rt.com",
          "y": "variety.com",
          "z": 0.006754772393538913
         },
         {
          "x": "rt.com",
          "y": "vice.com",
          "z": 0.010511701705672352
         },
         {
          "x": "rt.com",
          "y": "washingtonexaminer.com",
          "z": 0.009433015554440542
         },
         {
          "x": "rt.com",
          "y": "washingtonpost.com",
          "z": 0.00749802683504341
         },
         {
          "x": "rt.com",
          "y": "washingtontimes.com",
          "z": 0.01656686626746507
         },
         {
          "x": "rt.com",
          "y": "wsj.com",
          "z": 0.008255633255633256
         },
         {
          "x": "rt.com",
          "y": "yahoo.com",
          "z": 0.003930431364842292
         },
         {
          "x": "sputniknews.com",
          "y": "apnews.com",
          "z": 0.025600474448947315
         },
         {
          "x": "sputniknews.com",
          "y": "bbc.co.uk",
          "z": 0.02591085078923856
         },
         {
          "x": "sputniknews.com",
          "y": "bloomberg.com",
          "z": 0.013054309915296462
         },
         {
          "x": "sputniknews.com",
          "y": "breitbart.com",
          "z": 0.022540781018289668
         },
         {
          "x": "sputniknews.com",
          "y": "businessinsider.com",
          "z": 0.0062457304576949355
         },
         {
          "x": "sputniknews.com",
          "y": "buzzfeed.com",
          "z": 0.0029667721518987344
         },
         {
          "x": "sputniknews.com",
          "y": "cbc.ca",
          "z": 0.012737585829435764
         },
         {
          "x": "sputniknews.com",
          "y": "cbsnews.com",
          "z": 0.007979758660957572
         },
         {
          "x": "sputniknews.com",
          "y": "cnbc.com",
          "z": 0.010301109350237718
         },
         {
          "x": "sputniknews.com",
          "y": "cnn.com",
          "z": 0.014315332214433804
         },
         {
          "x": "sputniknews.com",
          "y": "dailycaller.com",
          "z": 0.011458231319165606
         },
         {
          "x": "sputniknews.com",
          "y": "dailykos.com",
          "z": 0.008744656043528955
         },
         {
          "x": "sputniknews.com",
          "y": "forbes.com",
          "z": 0.008078188889997008
         },
         {
          "x": "sputniknews.com",
          "y": "foxnews.com",
          "z": 0.013408044826896138
         },
         {
          "x": "sputniknews.com",
          "y": "ft.com",
          "z": 0.03330689928628073
         },
         {
          "x": "sputniknews.com",
          "y": "huffingtonpost.com",
          "z": 0.002754008065309334
         },
         {
          "x": "sputniknews.com",
          "y": "inc.com",
          "z": 0.0016865079365079366
         },
         {
          "x": "sputniknews.com",
          "y": "independent.co.uk",
          "z": 0.014766686355581808
         },
         {
          "x": "sputniknews.com",
          "y": "msn.com",
          "z": 0.008968167931408299
         },
         {
          "x": "sputniknews.com",
          "y": "nbcnews.com",
          "z": 0.00592964824120603
         },
         {
          "x": "sputniknews.com",
          "y": "newsweek.com",
          "z": 0.010706423854312587
         },
         {
          "x": "sputniknews.com",
          "y": "npr.org",
          "z": 0.010738916256157636
         },
         {
          "x": "sputniknews.com",
          "y": "nydailynews.com",
          "z": 0.005016228976099144
         },
         {
          "x": "sputniknews.com",
          "y": "nypost.com",
          "z": 0.013420817178645988
         },
         {
          "x": "sputniknews.com",
          "y": "nytimes.com",
          "z": 0.008791430881164106
         },
         {
          "x": "sputniknews.com",
          "y": "rawstory.com",
          "z": 0.01403962959275117
         },
         {
          "x": "sputniknews.com",
          "y": "reuters.com",
          "z": 0.03494971622025291
         },
         {
          "x": "sputniknews.com",
          "y": "rt.com",
          "z": 0.09513079259331832
         },
         {
          "x": "sputniknews.com",
          "y": "sputniknews.com",
          "z": 0
         },
         {
          "x": "sputniknews.com",
          "y": "telegraph.co.uk",
          "z": 0.00758247168882324
         },
         {
          "x": "sputniknews.com",
          "y": "theguardian.com",
          "z": 0.013323912385182194
         },
         {
          "x": "sputniknews.com",
          "y": "thehill.com",
          "z": 0.017017908380330463
         },
         {
          "x": "sputniknews.com",
          "y": "thetimes.co.uk",
          "z": 0.019279952783789103
         },
         {
          "x": "sputniknews.com",
          "y": "time.com",
          "z": 0.005030578023278753
         },
         {
          "x": "sputniknews.com",
          "y": "usatoday.com",
          "z": 0.004707728520988623
         },
         {
          "x": "sputniknews.com",
          "y": "variety.com",
          "z": 0.00714635340186001
         },
         {
          "x": "sputniknews.com",
          "y": "vice.com",
          "z": 0.010809202697342325
         },
         {
          "x": "sputniknews.com",
          "y": "washingtonexaminer.com",
          "z": 0.012543903662819869
         },
         {
          "x": "sputniknews.com",
          "y": "washingtonpost.com",
          "z": 0.005623520126282557
         },
         {
          "x": "sputniknews.com",
          "y": "washingtontimes.com",
          "z": 0.010179640718562874
         },
         {
          "x": "sputniknews.com",
          "y": "wsj.com",
          "z": 0.009421134421134422
         },
         {
          "x": "sputniknews.com",
          "y": "yahoo.com",
          "z": 0.004225213717205464
         },
         {
          "x": "telegraph.co.uk",
          "y": "apnews.com",
          "z": 0.006721360086982307
         },
         {
          "x": "telegraph.co.uk",
          "y": "bbc.co.uk",
          "z": 0.049538369899731954
         },
         {
          "x": "telegraph.co.uk",
          "y": "bloomberg.com",
          "z": 0.008769307424015944
         },
         {
          "x": "telegraph.co.uk",
          "y": "breitbart.com",
          "z": 0.009095402867029164
         },
         {
          "x": "telegraph.co.uk",
          "y": "businessinsider.com",
          "z": 0.013467356299404704
         },
         {
          "x": "telegraph.co.uk",
          "y": "buzzfeed.com",
          "z": 0.015229430379746835
         },
         {
          "x": "telegraph.co.uk",
          "y": "cbc.ca",
          "z": 0.016519056622549506
         },
         {
          "x": "telegraph.co.uk",
          "y": "cbsnews.com",
          "z": 0.004768392370572207
         },
         {
          "x": "telegraph.co.uk",
          "y": "cnbc.com",
          "z": 0.009310618066561015
         },
         {
          "x": "telegraph.co.uk",
          "y": "cnn.com",
          "z": 0.008490472899595222
         },
         {
          "x": "telegraph.co.uk",
          "y": "dailycaller.com",
          "z": 0.0024483400254627363
         },
         {
          "x": "telegraph.co.uk",
          "y": "dailykos.com",
          "z": 0.005343956471045472
         },
         {
          "x": "telegraph.co.uk",
          "y": "forbes.com",
          "z": 0.027326219208138026
         },
         {
          "x": "telegraph.co.uk",
          "y": "foxnews.com",
          "z": 0.005003001801080648
         },
         {
          "x": "telegraph.co.uk",
          "y": "ft.com",
          "z": 0.03479381443298969
         },
         {
          "x": "telegraph.co.uk",
          "y": "huffingtonpost.com",
          "z": 0.012589751155699814
         },
         {
          "x": "telegraph.co.uk",
          "y": "inc.com",
          "z": 0.009722222222222222
         },
         {
          "x": "telegraph.co.uk",
          "y": "independent.co.uk",
          "z": 0.09923213230950975
         },
         {
          "x": "telegraph.co.uk",
          "y": "msn.com",
          "z": 0.010643539962550507
         },
         {
          "x": "telegraph.co.uk",
          "y": "nbcnews.com",
          "z": 0.0035175879396984926
         },
         {
          "x": "telegraph.co.uk",
          "y": "newsweek.com",
          "z": 0.014808885331198719
         },
         {
          "x": "telegraph.co.uk",
          "y": "npr.org",
          "z": 0.010147783251231527
         },
         {
          "x": "telegraph.co.uk",
          "y": "nydailynews.com",
          "z": 0.00452444182157962
         },
         {
          "x": "telegraph.co.uk",
          "y": "nypost.com",
          "z": 0.01381847102097624
         },
         {
          "x": "telegraph.co.uk",
          "y": "nytimes.com",
          "z": 0.00889248181083266
         },
         {
          "x": "telegraph.co.uk",
          "y": "rawstory.com",
          "z": 0.005177735736333765
         },
         {
          "x": "telegraph.co.uk",
          "y": "reuters.com",
          "z": 0.011351189883500945
         },
         {
          "x": "telegraph.co.uk",
          "y": "rt.com",
          "z": 0.011266777701577349
         },
         {
          "x": "telegraph.co.uk",
          "y": "sputniknews.com",
          "z": 0.015100671140939598
         },
         {
          "x": "telegraph.co.uk",
          "y": "telegraph.co.uk",
          "z": 0
         },
         {
          "x": "telegraph.co.uk",
          "y": "theguardian.com",
          "z": 0.04491773493489452
         },
         {
          "x": "telegraph.co.uk",
          "y": "thehill.com",
          "z": 0.003561887800534283
         },
         {
          "x": "telegraph.co.uk",
          "y": "thetimes.co.uk",
          "z": 0.07603777296871926
         },
         {
          "x": "telegraph.co.uk",
          "y": "time.com",
          "z": 0.008581574275004932
         },
         {
          "x": "telegraph.co.uk",
          "y": "usatoday.com",
          "z": 0.008140447234209494
         },
         {
          "x": "telegraph.co.uk",
          "y": "variety.com",
          "z": 0.01213901125795399
         },
         {
          "x": "telegraph.co.uk",
          "y": "vice.com",
          "z": 0.026180087266957558
         },
         {
          "x": "telegraph.co.uk",
          "y": "washingtonexaminer.com",
          "z": 0.002609131961866533
         },
         {
          "x": "telegraph.co.uk",
          "y": "washingtonpost.com",
          "z": 0.003551696921862668
         },
         {
          "x": "telegraph.co.uk",
          "y": "washingtontimes.com",
          "z": 0.005089820359281437
         },
         {
          "x": "telegraph.co.uk",
          "y": "wsj.com",
          "z": 0.006118881118881119
         },
         {
          "x": "telegraph.co.uk",
          "y": "yahoo.com",
          "z": 0.0053060823425370935
         },
         {
          "x": "theguardian.com",
          "y": "apnews.com",
          "z": 0.012849658989819115
         },
         {
          "x": "theguardian.com",
          "y": "bbc.co.uk",
          "z": 0.08944703663258215
         },
         {
          "x": "theguardian.com",
          "y": "bloomberg.com",
          "z": 0.009765819631290484
         },
         {
          "x": "theguardian.com",
          "y": "breitbart.com",
          "z": 0.014829461196243203
         },
         {
          "x": "theguardian.com",
          "y": "businessinsider.com",
          "z": 0.006928857226505319
         },
         {
          "x": "theguardian.com",
          "y": "buzzfeed.com",
          "z": 0.009790348101265823
         },
         {
          "x": "theguardian.com",
          "y": "cbc.ca",
          "z": 0.0276644442233058
         },
         {
          "x": "theguardian.com",
          "y": "cbsnews.com",
          "z": 0.0069093032308291166
         },
         {
          "x": "theguardian.com",
          "y": "cnbc.com",
          "z": 0.005744849445324881
         },
         {
          "x": "theguardian.com",
          "y": "cnn.com",
          "z": 0.013426794352848258
         },
         {
          "x": "theguardian.com",
          "y": "dailycaller.com",
          "z": 0.007247086475369699
         },
         {
          "x": "theguardian.com",
          "y": "dailykos.com",
          "z": 0.012631169840652934
         },
         {
          "x": "theguardian.com",
          "y": "forbes.com",
          "z": 0.024334297397028023
         },
         {
          "x": "theguardian.com",
          "y": "foxnews.com",
          "z": 0.00640384230538323
         },
         {
          "x": "theguardian.com",
          "y": "ft.com",
          "z": 0.04530134813639968
         },
         {
          "x": "theguardian.com",
          "y": "huffingtonpost.com",
          "z": 0.017507622700895054
         },
         {
          "x": "theguardian.com",
          "y": "inc.com",
          "z": 0.007638888888888889
         },
         {
          "x": "theguardian.com",
          "y": "independent.co.uk",
          "z": 0.05060051191179366
         },
         {
          "x": "theguardian.com",
          "y": "msn.com",
          "z": 0.008376860155711048
         },
         {
          "x": "theguardian.com",
          "y": "nbcnews.com",
          "z": 0.006331658291457287
         },
         {
          "x": "theguardian.com",
          "y": "newsweek.com",
          "z": 0.010406243746247748
         },
         {
          "x": "theguardian.com",
          "y": "npr.org",
          "z": 0.02246305418719212
         },
         {
          "x": "theguardian.com",
          "y": "nydailynews.com",
          "z": 0.006491590439657716
         },
         {
          "x": "theguardian.com",
          "y": "nypost.com",
          "z": 0.017397355601948505
         },
         {
          "x": "theguardian.com",
          "y": "nytimes.com",
          "z": 0.014551333872271624
         },
         {
          "x": "theguardian.com",
          "y": "rawstory.com",
          "z": 0.008364034651000697
         },
         {
          "x": "theguardian.com",
          "y": "reuters.com",
          "z": 0.021208802150751768
         },
         {
          "x": "theguardian.com",
          "y": "rt.com",
          "z": 0.01498971294209856
         },
         {
          "x": "theguardian.com",
          "y": "sputniknews.com",
          "z": 0.020331622581918674
         },
         {
          "x": "theguardian.com",
          "y": "telegraph.co.uk",
          "z": 0.04460856720827179
         },
         {
          "x": "theguardian.com",
          "y": "theguardian.com",
          "z": 0
         },
         {
          "x": "theguardian.com",
          "y": "thehill.com",
          "z": 0.009795191451469279
         },
         {
          "x": "theguardian.com",
          "y": "thetimes.co.uk",
          "z": 0.11154829824906551
         },
         {
          "x": "theguardian.com",
          "y": "time.com",
          "z": 0.008877490629315447
         },
         {
          "x": "theguardian.com",
          "y": "usatoday.com",
          "z": 0.00823852491173009
         },
         {
          "x": "theguardian.com",
          "y": "variety.com",
          "z": 0.01977484092021537
         },
         {
          "x": "theguardian.com",
          "y": "vice.com",
          "z": 0.04105513685045617
         },
         {
          "x": "theguardian.com",
          "y": "washingtonexaminer.com",
          "z": 0.009031610637230306
         },
         {
          "x": "theguardian.com",
          "y": "washingtonpost.com",
          "z": 0.00808997632202052
         },
         {
          "x": "theguardian.com",
          "y": "washingtontimes.com",
          "z": 0.010379241516966068
         },
         {
          "x": "theguardian.com",
          "y": "wsj.com",
          "z": 0.011752136752136752
         },
         {
          "x": "theguardian.com",
          "y": "yahoo.com",
          "z": 0.0044217352854475775
         },
         {
          "x": "thehill.com",
          "y": "apnews.com",
          "z": 0.030938025106256796
         },
         {
          "x": "thehill.com",
          "y": "bbc.co.uk",
          "z": 0.011118832522585128
         },
         {
          "x": "thehill.com",
          "y": "bloomberg.com",
          "z": 0.013851519681116094
         },
         {
          "x": "thehill.com",
          "y": "breitbart.com",
          "z": 0.03440434997528423
         },
         {
          "x": "thehill.com",
          "y": "businessinsider.com",
          "z": 0.005952961842490485
         },
         {
          "x": "thehill.com",
          "y": "buzzfeed.com",
          "z": 0.004944620253164557
         },
         {
          "x": "thehill.com",
          "y": "cbc.ca",
          "z": 0.00806050353268982
         },
         {
          "x": "thehill.com",
          "y": "cbsnews.com",
          "z": 0.01946282600233554
         },
         {
          "x": "thehill.com",
          "y": "cnbc.com",
          "z": 0.011885895404120444
         },
         {
          "x": "thehill.com",
          "y": "cnn.com",
          "z": 0.04334090235956165
         },
         {
          "x": "thehill.com",
          "y": "dailycaller.com",
          "z": 0.04289491724610714
         },
         {
          "x": "thehill.com",
          "y": "dailykos.com",
          "z": 0.032063738826272836
         },
         {
          "x": "thehill.com",
          "y": "forbes.com",
          "z": 0.012366610152588012
         },
         {
          "x": "thehill.com",
          "y": "foxnews.com",
          "z": 0.02251350810486292
         },
         {
          "x": "thehill.com",
          "y": "ft.com",
          "z": 0.015265662172878667
         },
         {
          "x": "thehill.com",
          "y": "huffingtonpost.com",
          "z": 0.012983180879315432
         },
         {
          "x": "thehill.com",
          "y": "inc.com",
          "z": 0.002281746031746032
         },
         {
          "x": "thehill.com",
          "y": "independent.co.uk",
          "z": 0.0043315613309706635
         },
         {
          "x": "thehill.com",
          "y": "msn.com",
          "z": 0.004237705725830295
         },
         {
          "x": "thehill.com",
          "y": "nbcnews.com",
          "z": 0.01728643216080402
         },
         {
          "x": "thehill.com",
          "y": "newsweek.com",
          "z": 0.008805283169901942
         },
         {
          "x": "thehill.com",
          "y": "npr.org",
          "z": 0.01733990147783251
         },
         {
          "x": "thehill.com",
          "y": "nydailynews.com",
          "z": 0.00963902822858267
         },
         {
          "x": "thehill.com",
          "y": "nypost.com",
          "z": 0.016701461377870562
         },
         {
          "x": "thehill.com",
          "y": "nytimes.com",
          "z": 0.00616410670978173
         },
         {
          "x": "thehill.com",
          "y": "rawstory.com",
          "z": 0.037040724883003084
         },
         {
          "x": "thehill.com",
          "y": "reuters.com",
          "z": 0.009558896744000796
         },
         {
          "x": "thehill.com",
          "y": "rt.com",
          "z": 0.013030273341824238
         },
         {
          "x": "thehill.com",
          "y": "sputniknews.com",
          "z": 0.027141729174891435
         },
         {
          "x": "thehill.com",
          "y": "telegraph.co.uk",
          "z": 0.0036435253569670114
         },
         {
          "x": "thehill.com",
          "y": "theguardian.com",
          "z": 0.008781669526597355
         },
         {
          "x": "thehill.com",
          "y": "thehill.com",
          "z": 0
         },
         {
          "x": "thehill.com",
          "y": "thetimes.co.uk",
          "z": 0.014755065905961047
         },
         {
          "x": "thehill.com",
          "y": "time.com",
          "z": 0.006510159794831328
         },
         {
          "x": "thehill.com",
          "y": "usatoday.com",
          "z": 0.006571204393879953
         },
         {
          "x": "thehill.com",
          "y": "variety.com",
          "z": 0.010376896720509055
         },
         {
          "x": "thehill.com",
          "y": "vice.com",
          "z": 0.01120587068623562
         },
         {
          "x": "thehill.com",
          "y": "washingtonexaminer.com",
          "z": 0.07787255393878575
         },
         {
          "x": "thehill.com",
          "y": "washingtonpost.com",
          "z": 0.014700078926598263
         },
         {
          "x": "thehill.com",
          "y": "washingtontimes.com",
          "z": 0.03163672654690619
         },
         {
          "x": "thehill.com",
          "y": "wsj.com",
          "z": 0.019910644910644912
         },
         {
          "x": "thehill.com",
          "y": "yahoo.com",
          "z": 0.002751301955389604
         },
         {
          "x": "thetimes.co.uk",
          "y": "apnews.com",
          "z": 0.010180883661164377
         },
         {
          "x": "thetimes.co.uk",
          "y": "bbc.co.uk",
          "z": 0.07644197359277276
         },
         {
          "x": "thetimes.co.uk",
          "y": "bloomberg.com",
          "z": 0.014349775784753363
         },
         {
          "x": "thetimes.co.uk",
          "y": "breitbart.com",
          "z": 0.012061295106277806
         },
         {
          "x": "thetimes.co.uk",
          "y": "businessinsider.com",
          "z": 0.004098760612862301
         },
         {
          "x": "thetimes.co.uk",
          "y": "buzzfeed.com",
          "z": 0.005933544303797469
         },
         {
          "x": "thetimes.co.uk",
          "y": "cbc.ca",
          "z": 0.016519056622549506
         },
         {
          "x": "thetimes.co.uk",
          "y": "cbsnews.com",
          "z": 0.0045737641105488515
         },
         {
          "x": "thetimes.co.uk",
          "y": "cnbc.com",
          "z": 0.006636291600633914
         },
         {
          "x": "thetimes.co.uk",
          "y": "cnn.com",
          "z": 0.010070095764636192
         },
         {
          "x": "thetimes.co.uk",
          "y": "dailycaller.com",
          "z": 0.008226422485554793
         },
         {
          "x": "thetimes.co.uk",
          "y": "dailykos.com",
          "z": 0.004955305091333074
         },
         {
          "x": "thetimes.co.uk",
          "y": "forbes.com",
          "z": 0.014460955420365015
         },
         {
          "x": "thetimes.co.uk",
          "y": "foxnews.com",
          "z": 0.003502101260756454
         },
         {
          "x": "thetimes.co.uk",
          "y": "ft.com",
          "z": 0.07464314036478985
         },
         {
          "x": "thetimes.co.uk",
          "y": "huffingtonpost.com",
          "z": 0.010130815383102194
         },
         {
          "x": "thetimes.co.uk",
          "y": "inc.com",
          "z": 0.005456349206349206
         },
         {
          "x": "thetimes.co.uk",
          "y": "independent.co.uk",
          "z": 0.035636936404804094
         },
         {
          "x": "thetimes.co.uk",
          "y": "msn.com",
          "z": 0.005814526461022962
         },
         {
          "x": "thetimes.co.uk",
          "y": "nbcnews.com",
          "z": 0.0036180904522613066
         },
         {
          "x": "thetimes.co.uk",
          "y": "newsweek.com",
          "z": 0.007404442665599359
         },
         {
          "x": "thetimes.co.uk",
          "y": "npr.org",
          "z": 0.011625615763546798
         },
         {
          "x": "thetimes.co.uk",
          "y": "nydailynews.com",
          "z": 0.006393233008753811
         },
         {
          "x": "thetimes.co.uk",
          "y": "nypost.com",
          "z": 0.020180932498260265
         },
         {
          "x": "thetimes.co.uk",
          "y": "nytimes.com",
          "z": 0.01404607922392886
         },
         {
          "x": "thetimes.co.uk",
          "y": "rawstory.com",
          "z": 0.005775166782833814
         },
         {
          "x": "thetimes.co.uk",
          "y": "reuters.com",
          "z": 0.014338345116001195
         },
         {
          "x": "thetimes.co.uk",
          "y": "rt.com",
          "z": 0.016851180562359167
         },
         {
          "x": "thetimes.co.uk",
          "y": "sputniknews.com",
          "z": 0.014508487958941966
         },
         {
          "x": "thetimes.co.uk",
          "y": "telegraph.co.uk",
          "z": 0.03879862136878385
         },
         {
          "x": "thetimes.co.uk",
          "y": "theguardian.com",
          "z": 0.06126980922579994
         },
         {
          "x": "thetimes.co.uk",
          "y": "thehill.com",
          "z": 0.008805778173543088
         },
         {
          "x": "thetimes.co.uk",
          "y": "thetimes.co.uk",
          "z": 0
         },
         {
          "x": "thetimes.co.uk",
          "y": "time.com",
          "z": 0.00483330045373841
         },
         {
          "x": "thetimes.co.uk",
          "y": "usatoday.com",
          "z": 0.006963515103962338
         },
         {
          "x": "thetimes.co.uk",
          "y": "variety.com",
          "z": 0.01644640234948605
         },
         {
          "x": "thetimes.co.uk",
          "y": "vice.com",
          "z": 0.02627925426418088
         },
         {
          "x": "thetimes.co.uk",
          "y": "washingtonexaminer.com",
          "z": 0.0031108881083793277
         },
         {
          "x": "thetimes.co.uk",
          "y": "washingtonpost.com",
          "z": 0.0060181531176006315
         },
         {
          "x": "thetimes.co.uk",
          "y": "washingtontimes.com",
          "z": 0.014171656686626746
         },
         {
          "x": "thetimes.co.uk",
          "y": "wsj.com",
          "z": 0.018648018648018648
         },
         {
          "x": "thetimes.co.uk",
          "y": "yahoo.com",
          "z": 0.002063476466542203
         },
         {
          "x": "time.com",
          "y": "apnews.com",
          "z": 0.016012651971928436
         },
         {
          "x": "time.com",
          "y": "bbc.co.uk",
          "z": 0.016777524074257918
         },
         {
          "x": "time.com",
          "y": "bloomberg.com",
          "z": 0.009068261086198307
         },
         {
          "x": "time.com",
          "y": "breitbart.com",
          "z": 0.01670785961443401
         },
         {
          "x": "time.com",
          "y": "businessinsider.com",
          "z": 0.03396115936371621
         },
         {
          "x": "time.com",
          "y": "buzzfeed.com",
          "z": 0.03846914556962025
         },
         {
          "x": "time.com",
          "y": "cbc.ca",
          "z": 0.0138322221116529
         },
         {
          "x": "time.com",
          "y": "cbsnews.com",
          "z": 0.02958349552355002
         },
         {
          "x": "time.com",
          "y": "cnbc.com",
          "z": 0.01664025356576862
         },
         {
          "x": "time.com",
          "y": "cnn.com",
          "z": 0.022904531543094086
         },
         {
          "x": "time.com",
          "y": "dailycaller.com",
          "z": 0.014494172950739398
         },
         {
          "x": "time.com",
          "y": "dailykos.com",
          "z": 0.01700349786241741
         },
         {
          "x": "time.com",
          "y": "forbes.com",
          "z": 0.02971975665702603
         },
         {
          "x": "time.com",
          "y": "foxnews.com",
          "z": 0.015609365619371623
         },
         {
          "x": "time.com",
          "y": "ft.com",
          "z": 0.0067406819984139575
         },
         {
          "x": "time.com",
          "y": "huffingtonpost.com",
          "z": 0.03373659880003934
         },
         {
          "x": "time.com",
          "y": "inc.com",
          "z": 0.04047619047619048
         },
         {
          "x": "time.com",
          "y": "independent.co.uk",
          "z": 0.01929513683796023
         },
         {
          "x": "time.com",
          "y": "msn.com",
          "z": 0.018527643638513846
         },
         {
          "x": "time.com",
          "y": "nbcnews.com",
          "z": 0.021708542713567838
         },
         {
          "x": "time.com",
          "y": "newsweek.com",
          "z": 0.03362017210326196
         },
         {
          "x": "time.com",
          "y": "npr.org",
          "z": 0.027586206896551724
         },
         {
          "x": "time.com",
          "y": "nydailynews.com",
          "z": 0.017015835546375528
         },
         {
          "x": "time.com",
          "y": "nypost.com",
          "z": 0.03608708619147032
         },
         {
          "x": "time.com",
          "y": "nytimes.com",
          "z": 0.012429264349232014
         },
         {
          "x": "time.com",
          "y": "rawstory.com",
          "z": 0.014437916957084537
         },
         {
          "x": "time.com",
          "y": "reuters.com",
          "z": 0.011550333565667628
         },
         {
          "x": "time.com",
          "y": "rt.com",
          "z": 0.006858038600960126
         },
         {
          "x": "time.com",
          "y": "sputniknews.com",
          "z": 0.009771022502960917
         },
         {
          "x": "time.com",
          "y": "telegraph.co.uk",
          "z": 0.0070901033973412115
         },
         {
          "x": "time.com",
          "y": "theguardian.com",
          "z": 0.012112647622892905
         },
         {
          "x": "time.com",
          "y": "thehill.com",
          "z": 0.01553378846344118
         },
         {
          "x": "time.com",
          "y": "thetimes.co.uk",
          "z": 0.01967342120794806
         },
         {
          "x": "time.com",
          "y": "time.com",
          "z": 0
         },
         {
          "x": "time.com",
          "y": "usatoday.com",
          "z": 0.011377010592389172
         },
         {
          "x": "time.com",
          "y": "variety.com",
          "z": 0.019872736172295645
         },
         {
          "x": "time.com",
          "y": "vice.com",
          "z": 0.049484331614438715
         },
         {
          "x": "time.com",
          "y": "washingtonexaminer.com",
          "z": 0.024184646261916708
         },
         {
          "x": "time.com",
          "y": "washingtonpost.com",
          "z": 0.01430544593528019
         },
         {
          "x": "time.com",
          "y": "washingtontimes.com",
          "z": 0.01786427145708583
         },
         {
          "x": "time.com",
          "y": "wsj.com",
          "z": 0.010878010878010878
         },
         {
          "x": "time.com",
          "y": "yahoo.com",
          "z": 0.0056008646949002655
         },
         {
          "x": "usatoday.com",
          "y": "apnews.com",
          "z": 0.04606108530196699
         },
         {
          "x": "usatoday.com",
          "y": "bbc.co.uk",
          "z": 0.03663258215030279
         },
         {
          "x": "usatoday.com",
          "y": "bloomberg.com",
          "z": 0.00837070254110613
         },
         {
          "x": "usatoday.com",
          "y": "breitbart.com",
          "z": 0.012357884330202669
         },
         {
          "x": "usatoday.com",
          "y": "businessinsider.com",
          "z": 0.014345662145018053
         },
         {
          "x": "usatoday.com",
          "y": "buzzfeed.com",
          "z": 0.0122626582278481
         },
         {
          "x": "usatoday.com",
          "y": "cbc.ca",
          "z": 0.02159418847646532
         },
         {
          "x": "usatoday.com",
          "y": "cbsnews.com",
          "z": 0.01936551187232386
         },
         {
          "x": "usatoday.com",
          "y": "cnbc.com",
          "z": 0.011093502377179081
         },
         {
          "x": "usatoday.com",
          "y": "cnn.com",
          "z": 0.01648731365386514
         },
         {
          "x": "usatoday.com",
          "y": "dailycaller.com",
          "z": 0.007932621682499266
         },
         {
          "x": "usatoday.com",
          "y": "dailykos.com",
          "z": 0.015643218033424017
         },
         {
          "x": "usatoday.com",
          "y": "forbes.com",
          "z": 0.026428642664805026
         },
         {
          "x": "usatoday.com",
          "y": "foxnews.com",
          "z": 0.013708224934960976
         },
         {
          "x": "usatoday.com",
          "y": "ft.com",
          "z": 0.010011895321173673
         },
         {
          "x": "usatoday.com",
          "y": "huffingtonpost.com",
          "z": 0.013278253172027146
         },
         {
          "x": "usatoday.com",
          "y": "inc.com",
          "z": 0.01498015873015873
         },
         {
          "x": "usatoday.com",
          "y": "independent.co.uk",
          "z": 0.008663122661941327
         },
         {
          "x": "usatoday.com",
          "y": "msn.com",
          "z": 0.014979796984330345
         },
         {
          "x": "usatoday.com",
          "y": "nbcnews.com",
          "z": 0.012160804020100502
         },
         {
          "x": "usatoday.com",
          "y": "newsweek.com",
          "z": 0.013207924754852912
         },
         {
          "x": "usatoday.com",
          "y": "npr.org",
          "z": 0.01921182266009852
         },
         {
          "x": "usatoday.com",
          "y": "nydailynews.com",
          "z": 0.02793351037670896
         },
         {
          "x": "usatoday.com",
          "y": "nypost.com",
          "z": 0.047420220697882494
         },
         {
          "x": "usatoday.com",
          "y": "nytimes.com",
          "z": 0.01505658852061439
         },
         {
          "x": "usatoday.com",
          "y": "rawstory.com",
          "z": 0.008762322015334063
         },
         {
          "x": "usatoday.com",
          "y": "reuters.com",
          "z": 0.01533406352683461
         },
         {
          "x": "usatoday.com",
          "y": "rt.com",
          "z": 0.005094542960713236
         },
         {
          "x": "usatoday.com",
          "y": "sputniknews.com",
          "z": 0.006711409395973154
         },
         {
          "x": "usatoday.com",
          "y": "telegraph.co.uk",
          "z": 0.009453471196454948
         },
         {
          "x": "usatoday.com",
          "y": "theguardian.com",
          "z": 0.012112647622892905
         },
         {
          "x": "usatoday.com",
          "y": "thehill.com",
          "z": 0.014049668546551895
         },
         {
          "x": "usatoday.com",
          "y": "thetimes.co.uk",
          "z": 0.02203423175290183
         },
         {
          "x": "usatoday.com",
          "y": "time.com",
          "z": 0.023278753205760505
         },
         {
          "x": "usatoday.com",
          "y": "usatoday.com",
          "z": 0
         },
         {
          "x": "usatoday.com",
          "y": "variety.com",
          "z": 0.02476749877630935
         },
         {
          "x": "usatoday.com",
          "y": "vice.com",
          "z": 0.02241174137247124
         },
         {
          "x": "usatoday.com",
          "y": "washingtonexaminer.com",
          "z": 0.015654791771199196
         },
         {
          "x": "usatoday.com",
          "y": "washingtonpost.com",
          "z": 0.010951065509076558
         },
         {
          "x": "usatoday.com",
          "y": "washingtontimes.com",
          "z": 0.02844311377245509
         },
         {
          "x": "usatoday.com",
          "y": "wsj.com",
          "z": 0.01214063714063714
         },
         {
          "x": "usatoday.com",
          "y": "yahoo.com",
          "z": 0.012872162719858504
         },
         {
          "x": "variety.com",
          "y": "apnews.com",
          "z": 0.007215577740436889
         },
         {
          "x": "variety.com",
          "y": "bbc.co.uk",
          "z": 0.0391144644098084
         },
         {
          "x": "variety.com",
          "y": "bloomberg.com",
          "z": 0.005281514698555058
         },
         {
          "x": "variety.com",
          "y": "breitbart.com",
          "z": 0.009194265941670787
         },
         {
          "x": "variety.com",
          "y": "businessinsider.com",
          "z": 0.006148140919293452
         },
         {
          "x": "variety.com",
          "y": "buzzfeed.com",
          "z": 0.005340189873417721
         },
         {
          "x": "variety.com",
          "y": "cbc.ca",
          "z": 0.007861478754104886
         },
         {
          "x": "variety.com",
          "y": "cbsnews.com",
          "z": 0.009147528221097703
         },
         {
          "x": "variety.com",
          "y": "cnbc.com",
          "z": 0.005843898573692551
         },
         {
          "x": "variety.com",
          "y": "cnn.com",
          "z": 0.008589199328660282
         },
         {
          "x": "variety.com",
          "y": "dailycaller.com",
          "z": 0.009205758495739888
         },
         {
          "x": "variety.com",
          "y": "dailykos.com",
          "z": 0.0025262339681305867
         },
         {
          "x": "variety.com",
          "y": "forbes.com",
          "z": 0.014760147601476014
         },
         {
          "x": "variety.com",
          "y": "foxnews.com",
          "z": 0.0040024014408645186
         },
         {
          "x": "variety.com",
          "y": "ft.com",
          "z": 0.016851704996034892
         },
         {
          "x": "variety.com",
          "y": "huffingtonpost.com",
          "z": 0.007475164748696764
         },
         {
          "x": "variety.com",
          "y": "inc.com",
          "z": 0.002281746031746032
         },
         {
          "x": "variety.com",
          "y": "independent.co.uk",
          "z": 0.007875566056310297
         },
         {
          "x": "variety.com",
          "y": "msn.com",
          "z": 0.005321769981275253
         },
         {
          "x": "variety.com",
          "y": "nbcnews.com",
          "z": 0.004422110552763819
         },
         {
          "x": "variety.com",
          "y": "newsweek.com",
          "z": 0.0051030618371022615
         },
         {
          "x": "variety.com",
          "y": "npr.org",
          "z": 0.013497536945812807
         },
         {
          "x": "variety.com",
          "y": "nydailynews.com",
          "z": 0.0122946788629881
         },
         {
          "x": "variety.com",
          "y": "nypost.com",
          "z": 0.008450144149517844
         },
         {
          "x": "variety.com",
          "y": "nytimes.com",
          "z": 0.012227162489894907
         },
         {
          "x": "variety.com",
          "y": "rawstory.com",
          "z": 0.008463606492084039
         },
         {
          "x": "variety.com",
          "y": "reuters.com",
          "z": 0.007368316240167281
         },
         {
          "x": "variety.com",
          "y": "rt.com",
          "z": 0.005682374840795533
         },
         {
          "x": "variety.com",
          "y": "sputniknews.com",
          "z": 0.00473746545598105
         },
         {
          "x": "variety.com",
          "y": "telegraph.co.uk",
          "z": 0.005711472181191531
         },
         {
          "x": "variety.com",
          "y": "theguardian.com",
          "z": 0.012314525083274453
         },
         {
          "x": "variety.com",
          "y": "thehill.com",
          "z": 0.005540714356386663
         },
         {
          "x": "variety.com",
          "y": "thetimes.co.uk",
          "z": 0.017706079087153256
         },
         {
          "x": "variety.com",
          "y": "time.com",
          "z": 0.010061156046557506
         },
         {
          "x": "variety.com",
          "y": "usatoday.com",
          "z": 0.01225970969007454
         },
         {
          "x": "variety.com",
          "y": "variety.com",
          "z": 0
         },
         {
          "x": "variety.com",
          "y": "vice.com",
          "z": 0.018643395477984926
         },
         {
          "x": "variety.com",
          "y": "washingtonexaminer.com",
          "z": 0.0037129954841946815
         },
         {
          "x": "variety.com",
          "y": "washingtonpost.com",
          "z": 0.005228887134964483
         },
         {
          "x": "variety.com",
          "y": "washingtontimes.com",
          "z": 0.013373253493013972
         },
         {
          "x": "variety.com",
          "y": "wsj.com",
          "z": 0.015151515151515152
         },
         {
          "x": "variety.com",
          "y": "yahoo.com",
          "z": 0.0044217352854475775
         },
         {
          "x": "vice.com",
          "y": "apnews.com",
          "z": 0.004151428289018484
         },
         {
          "x": "vice.com",
          "y": "bbc.co.uk",
          "z": 0.03583837982726099
         },
         {
          "x": "vice.com",
          "y": "bloomberg.com",
          "z": 0.006278026905829596
         },
         {
          "x": "vice.com",
          "y": "breitbart.com",
          "z": 0.007414730598121601
         },
         {
          "x": "vice.com",
          "y": "businessinsider.com",
          "z": 0.028398555674831658
         },
         {
          "x": "vice.com",
          "y": "buzzfeed.com",
          "z": 0.03629351265822785
         },
         {
          "x": "vice.com",
          "y": "cbc.ca",
          "z": 0.022788337147974923
         },
         {
          "x": "vice.com",
          "y": "cbsnews.com",
          "z": 0.005449591280653951
         },
         {
          "x": "vice.com",
          "y": "cnbc.com",
          "z": 0.006735340729001585
         },
         {
          "x": "vice.com",
          "y": "cnn.com",
          "z": 0.013130615065653075
         },
         {
          "x": "vice.com",
          "y": "dailycaller.com",
          "z": 0.01988052100675742
         },
         {
          "x": "vice.com",
          "y": "dailykos.com",
          "z": 0.016323357947920714
         },
         {
          "x": "vice.com",
          "y": "forbes.com",
          "z": 0.024932681759250026
         },
         {
          "x": "vice.com",
          "y": "foxnews.com",
          "z": 0.005203121873123874
         },
         {
          "x": "vice.com",
          "y": "ft.com",
          "z": 0.010408406026962727
         },
         {
          "x": "vice.com",
          "y": "huffingtonpost.com",
          "z": 0.03019573128749877
         },
         {
          "x": "vice.com",
          "y": "inc.com",
          "z": 0.013492063492063493
         },
         {
          "x": "vice.com",
          "y": "independent.co.uk",
          "z": 0.022839141563299862
         },
         {
          "x": "vice.com",
          "y": "msn.com",
          "z": 0.008573962747610131
         },
         {
          "x": "vice.com",
          "y": "nbcnews.com",
          "z": 0.008542713567839196
         },
         {
          "x": "vice.com",
          "y": "newsweek.com",
          "z": 0.024714828897338403
         },
         {
          "x": "vice.com",
          "y": "npr.org",
          "z": 0.029753694581280788
         },
         {
          "x": "vice.com",
          "y": "nydailynews.com",
          "z": 0.006491590439657716
         },
         {
          "x": "vice.com",
          "y": "nypost.com",
          "z": 0.03280644199224575
         },
         {
          "x": "vice.com",
          "y": "nytimes.com",
          "z": 0.014450282942603072
         },
         {
          "x": "vice.com",
          "y": "rawstory.com",
          "z": 0.015533207209001294
         },
         {
          "x": "vice.com",
          "y": "reuters.com",
          "z": 0.0027880115503335656
         },
         {
          "x": "vice.com",
          "y": "rt.com",
          "z": 0.007935730381111002
         },
         {
          "x": "vice.com",
          "y": "sputniknews.com",
          "z": 0.008191867350967233
         },
         {
          "x": "vice.com",
          "y": "telegraph.co.uk",
          "z": 0.012309207287050714
         },
         {
          "x": "vice.com",
          "y": "theguardian.com",
          "z": 0.023417785404259615
         },
         {
          "x": "vice.com",
          "y": "thehill.com",
          "z": 0.007024834273275948
         },
         {
          "x": "vice.com",
          "y": "thetimes.co.uk",
          "z": 0.03177257525083612
         },
         {
          "x": "vice.com",
          "y": "time.com",
          "z": 0.02722430459656737
         },
         {
          "x": "vice.com",
          "y": "usatoday.com",
          "z": 0.012848175755198117
         },
         {
          "x": "vice.com",
          "y": "variety.com",
          "z": 0.019285364659813998
         },
         {
          "x": "vice.com",
          "y": "vice.com",
          "z": 0
         },
         {
          "x": "vice.com",
          "y": "washingtonexaminer.com",
          "z": 0.008128449573507276
         },
         {
          "x": "vice.com",
          "y": "washingtonpost.com",
          "z": 0.010852407261247041
         },
         {
          "x": "vice.com",
          "y": "washingtontimes.com",
          "z": 0.006087824351297406
         },
         {
          "x": "vice.com",
          "y": "wsj.com",
          "z": 0.007964257964257964
         },
         {
          "x": "vice.com",
          "y": "yahoo.com",
          "z": 0.0033408666601159476
         },
         {
          "x": "washingtonexaminer.com",
          "y": "apnews.com",
          "z": 0.02174557675200158
         },
         {
          "x": "washingtonexaminer.com",
          "y": "bbc.co.uk",
          "z": 0.008636950263079519
         },
         {
          "x": "washingtonexaminer.com",
          "y": "bloomberg.com",
          "z": 0.012356751370204285
         },
         {
          "x": "washingtonexaminer.com",
          "y": "breitbart.com",
          "z": 0.048640632723677704
         },
         {
          "x": "washingtonexaminer.com",
          "y": "businessinsider.com",
          "z": 0.01424807260661657
         },
         {
          "x": "washingtonexaminer.com",
          "y": "buzzfeed.com",
          "z": 0.006329113924050633
         },
         {
          "x": "washingtonexaminer.com",
          "y": "cbc.ca",
          "z": 0.007861478754104886
         },
         {
          "x": "washingtonexaminer.com",
          "y": "cbsnews.com",
          "z": 0.021701050992604127
         },
         {
          "x": "washingtonexaminer.com",
          "y": "cnbc.com",
          "z": 0.01594690966719493
         },
         {
          "x": "washingtonexaminer.com",
          "y": "cnn.com",
          "z": 0.029914108006713395
         },
         {
          "x": "washingtonexaminer.com",
          "y": "dailycaller.com",
          "z": 0.038292037998237195
         },
         {
          "x": "washingtonexaminer.com",
          "y": "dailykos.com",
          "z": 0.057034589972794404
         },
         {
          "x": "washingtonexaminer.com",
          "y": "forbes.com",
          "z": 0.01017253415777401
         },
         {
          "x": "washingtonexaminer.com",
          "y": "foxnews.com",
          "z": 0.02231338803281969
         },
         {
          "x": "washingtonexaminer.com",
          "y": "ft.com",
          "z": 0.008425852498017446
         },
         {
          "x": "washingtonexaminer.com",
          "y": "huffingtonpost.com",
          "z": 0.012589751155699814
         },
         {
          "x": "washingtonexaminer.com",
          "y": "inc.com",
          "z": 0.002281746031746032
         },
         {
          "x": "washingtonexaminer.com",
          "y": "independent.co.uk",
          "z": 0.007284898602087025
         },
         {
          "x": "washingtonexaminer.com",
          "y": "msn.com",
          "z": 0.003744949246082586
         },
         {
          "x": "washingtonexaminer.com",
          "y": "nbcnews.com",
          "z": 0.016381909547738695
         },
         {
          "x": "washingtonexaminer.com",
          "y": "newsweek.com",
          "z": 0.02301380828497098
         },
         {
          "x": "washingtonexaminer.com",
          "y": "npr.org",
          "z": 0.02
         },
         {
          "x": "washingtonexaminer.com",
          "y": "nydailynews.com",
          "z": 0.009343955935870955
         },
         {
          "x": "washingtonexaminer.com",
          "y": "nypost.com",
          "z": 0.01550849985087981
         },
         {
          "x": "washingtonexaminer.com",
          "y": "nytimes.com",
          "z": 0.0055578011317704125
         },
         {
          "x": "washingtonexaminer.com",
          "y": "rawstory.com",
          "z": 0.043114607189086926
         },
         {
          "x": "washingtonexaminer.com",
          "y": "reuters.com",
          "z": 0.007965747286667331
         },
         {
          "x": "washingtonexaminer.com",
          "y": "rt.com",
          "z": 0.009405310081316743
         },
         {
          "x": "washingtonexaminer.com",
          "y": "sputniknews.com",
          "z": 0.02181208053691275
         },
         {
          "x": "washingtonexaminer.com",
          "y": "telegraph.co.uk",
          "z": 0.004628261939931069
         },
         {
          "x": "washingtonexaminer.com",
          "y": "theguardian.com",
          "z": 0.008478853336025032
         },
         {
          "x": "washingtonexaminer.com",
          "y": "thehill.com",
          "z": 0.10121697833184921
         },
         {
          "x": "washingtonexaminer.com",
          "y": "thetimes.co.uk",
          "z": 0.010918748770411175
         },
         {
          "x": "washingtonexaminer.com",
          "y": "time.com",
          "z": 0.012231209311501283
         },
         {
          "x": "washingtonexaminer.com",
          "y": "usatoday.com",
          "z": 0.007846214201647704
         },
         {
          "x": "washingtonexaminer.com",
          "y": "variety.com",
          "z": 0.006950562897699461
         },
         {
          "x": "washingtonexaminer.com",
          "y": "vice.com",
          "z": 0.01289170963903213
         },
         {
          "x": "washingtonexaminer.com",
          "y": "washingtonexaminer.com",
          "z": 0
         },
         {
          "x": "washingtonexaminer.com",
          "y": "washingtonpost.com",
          "z": 0.011345698500394633
         },
         {
          "x": "washingtonexaminer.com",
          "y": "washingtontimes.com",
          "z": 0.027345309381237526
         },
         {
          "x": "washingtonexaminer.com",
          "y": "wsj.com",
          "z": 0.012626262626262626
         },
         {
          "x": "washingtonexaminer.com",
          "y": "yahoo.com",
          "z": 0.003144345091873833
         },
         {
          "x": "washingtonpost.com",
          "y": "apnews.com",
          "z": 0.039735099337748346
         },
         {
          "x": "washingtonpost.com",
          "y": "bbc.co.uk",
          "z": 0.02144346272212846
         },
         {
          "x": "washingtonpost.com",
          "y": "bloomberg.com",
          "z": 0.012954658694569009
         },
         {
          "x": "washingtonpost.com",
          "y": "breitbart.com",
          "z": 0.01670785961443401
         },
         {
          "x": "washingtonpost.com",
          "y": "businessinsider.com",
          "z": 0.013564945837806187
         },
         {
          "x": "washingtonpost.com",
          "y": "buzzfeed.com",
          "z": 0.013844936708860759
         },
         {
          "x": "washingtonpost.com",
          "y": "cbc.ca",
          "z": 0.016519056622549506
         },
         {
          "x": "washingtonpost.com",
          "y": "cbsnews.com",
          "z": 0.017127286882055275
         },
         {
          "x": "washingtonpost.com",
          "y": "cnbc.com",
          "z": 0.014164025356576862
         },
         {
          "x": "washingtonpost.com",
          "y": "cnn.com",
          "z": 0.017573304373580807
         },
         {
          "x": "washingtonpost.com",
          "y": "dailycaller.com",
          "z": 0.03192635393203408
         },
         {
          "x": "washingtonpost.com",
          "y": "dailykos.com",
          "z": 0.04032258064516129
         },
         {
          "x": "washingtonpost.com",
          "y": "forbes.com",
          "z": 0.013962301785180015
         },
         {
          "x": "washingtonpost.com",
          "y": "foxnews.com",
          "z": 0.01650990594356614
         },
         {
          "x": "washingtonpost.com",
          "y": "ft.com",
          "z": 0.015761300555114988
         },
         {
          "x": "washingtonpost.com",
          "y": "huffingtonpost.com",
          "z": 0.01622897609914429
         },
         {
          "x": "washingtonpost.com",
          "y": "inc.com",
          "z": 0.008432539682539682
         },
         {
          "x": "washingtonpost.com",
          "y": "independent.co.uk",
          "z": 0.010927347903130538
         },
         {
          "x": "washingtonpost.com",
          "y": "msn.com",
          "z": 0.007785552380013798
         },
         {
          "x": "washingtonpost.com",
          "y": "nbcnews.com",
          "z": 0.015979899497487435
         },
         {
          "x": "washingtonpost.com",
          "y": "newsweek.com",
          "z": 0.03502101260756454
         },
         {
          "x": "washingtonpost.com",
          "y": "npr.org",
          "z": 0.030935960591133006
         },
         {
          "x": "washingtonpost.com",
          "y": "nydailynews.com",
          "z": 0.013474968033834956
         },
         {
          "x": "washingtonpost.com",
          "y": "nypost.com",
          "z": 0.01620439407495775
         },
         {
          "x": "washingtonpost.com",
          "y": "nytimes.com",
          "z": 0.028294260307194827
         },
         {
          "x": "washingtonpost.com",
          "y": "rawstory.com",
          "z": 0.03544757542566962
         },
         {
          "x": "washingtonpost.com",
          "y": "reuters.com",
          "z": 0.022901523449168574
         },
         {
          "x": "washingtonpost.com",
          "y": "rt.com",
          "z": 0.013618105221906535
         },
         {
          "x": "washingtonpost.com",
          "y": "sputniknews.com",
          "z": 0.019640742202921436
         },
         {
          "x": "washingtonpost.com",
          "y": "telegraph.co.uk",
          "z": 0.0069916297390448055
         },
         {
          "x": "washingtonpost.com",
          "y": "theguardian.com",
          "z": 0.015039870798425356
         },
         {
          "x": "washingtonpost.com",
          "y": "thehill.com",
          "z": 0.028890867715444742
         },
         {
          "x": "washingtonpost.com",
          "y": "thetimes.co.uk",
          "z": 0.023903206767656896
         },
         {
          "x": "washingtonpost.com",
          "y": "time.com",
          "z": 0.018445452752022095
         },
         {
          "x": "washingtonpost.com",
          "y": "usatoday.com",
          "z": 0.024813652412710867
         },
         {
          "x": "washingtonpost.com",
          "y": "variety.com",
          "z": 0.01860009789525208
         },
         {
          "x": "washingtonpost.com",
          "y": "vice.com",
          "z": 0.028560095200317333
         },
         {
          "x": "washingtonpost.com",
          "y": "washingtonexaminer.com",
          "z": 0.023381836427496236
         },
         {
          "x": "washingtonpost.com",
          "y": "washingtonpost.com",
          "z": 0
         },
         {
          "x": "washingtonpost.com",
          "y": "washingtontimes.com",
          "z": 0.03333333333333333
         },
         {
          "x": "washingtonpost.com",
          "y": "wsj.com",
          "z": 0.024669774669774668
         },
         {
          "x": "washingtonpost.com",
          "y": "yahoo.com",
          "z": 0.0044217352854475775
         },
         {
          "x": "washingtontimes.com",
          "y": "apnews.com",
          "z": 0.08816842937629732
         },
         {
          "x": "washingtontimes.com",
          "y": "bbc.co.uk",
          "z": 0.02799563188722327
         },
         {
          "x": "washingtontimes.com",
          "y": "bloomberg.com",
          "z": 0.012556053811659192
         },
         {
          "x": "washingtontimes.com",
          "y": "breitbart.com",
          "z": 0.027483934750370736
         },
         {
          "x": "washingtontimes.com",
          "y": "businessinsider.com",
          "z": 0.0013662535376207671
         },
         {
          "x": "washingtontimes.com",
          "y": "buzzfeed.com",
          "z": 0.0018789556962025317
         },
         {
          "x": "washingtontimes.com",
          "y": "cbc.ca",
          "z": 0.03313762563439148
         },
         {
          "x": "washingtontimes.com",
          "y": "cbsnews.com",
          "z": 0.022868820552744258
         },
         {
          "x": "washingtontimes.com",
          "y": "cnbc.com",
          "z": 0.006636291600633914
         },
         {
          "x": "washingtontimes.com",
          "y": "cnn.com",
          "z": 0.014315332214433804
         },
         {
          "x": "washingtontimes.com",
          "y": "dailycaller.com",
          "z": 0.025952404269905003
         },
         {
          "x": "washingtontimes.com",
          "y": "dailykos.com",
          "z": 0.012339681305868636
         },
         {
          "x": "washingtontimes.com",
          "y": "forbes.com",
          "z": 0.007778996708886008
         },
         {
          "x": "washingtontimes.com",
          "y": "foxnews.com",
          "z": 0.02221332799679808
         },
         {
          "x": "washingtontimes.com",
          "y": "ft.com",
          "z": 0.020519429024583664
         },
         {
          "x": "washingtontimes.com",
          "y": "huffingtonpost.com",
          "z": 0.006294875577849907
         },
         {
          "x": "washingtontimes.com",
          "y": "inc.com",
          "z": 0.001884920634920635
         },
         {
          "x": "washingtontimes.com",
          "y": "independent.co.uk",
          "z": 0.005020673360897815
         },
         {
          "x": "washingtontimes.com",
          "y": "msn.com",
          "z": 0.005223218685325712
         },
         {
          "x": "washingtontimes.com",
          "y": "nbcnews.com",
          "z": 0.010954773869346734
         },
         {
          "x": "washingtontimes.com",
          "y": "newsweek.com",
          "z": 0.005903542125275165
         },
         {
          "x": "washingtontimes.com",
          "y": "npr.org",
          "z": 0.022758620689655173
         },
         {
          "x": "washingtontimes.com",
          "y": "nydailynews.com",
          "z": 0.0245893577259762
         },
         {
          "x": "washingtontimes.com",
          "y": "nypost.com",
          "z": 0.020777413261755643
         },
         {
          "x": "washingtontimes.com",
          "y": "nytimes.com",
          "z": 0.021827000808407437
         },
         {
          "x": "washingtontimes.com",
          "y": "rawstory.com",
          "z": 0.012944339340834412
         },
         {
          "x": "washingtontimes.com",
          "y": "reuters.com",
          "z": 0.02210494872050184
         },
         {
          "x": "washingtontimes.com",
          "y": "rt.com",
          "z": 0.016753208582345448
         },
         {
          "x": "washingtontimes.com",
          "y": "sputniknews.com",
          "z": 0.0189498618239242
         },
         {
          "x": "washingtontimes.com",
          "y": "telegraph.co.uk",
          "z": 0.005022156573116691
         },
         {
          "x": "washingtontimes.com",
          "y": "theguardian.com",
          "z": 0.010295750479458968
         },
         {
          "x": "washingtontimes.com",
          "y": "thehill.com",
          "z": 0.036113584644305925
         },
         {
          "x": "washingtontimes.com",
          "y": "thetimes.co.uk",
          "z": 0.023903206767656896
         },
         {
          "x": "washingtontimes.com",
          "y": "time.com",
          "z": 0.0072992700729927005
         },
         {
          "x": "washingtontimes.com",
          "y": "usatoday.com",
          "z": 0.026579050608081602
         },
         {
          "x": "washingtontimes.com",
          "y": "variety.com",
          "z": 0.02525697503671072
         },
         {
          "x": "washingtontimes.com",
          "y": "vice.com",
          "z": 0.007635858786195954
         },
         {
          "x": "washingtontimes.com",
          "y": "washingtonexaminer.com",
          "z": 0.03191169091821375
         },
         {
          "x": "washingtontimes.com",
          "y": "washingtonpost.com",
          "z": 0.016377269139700078
         },
         {
          "x": "washingtontimes.com",
          "y": "washingtontimes.com",
          "z": 0
         },
         {
          "x": "washingtontimes.com",
          "y": "wsj.com",
          "z": 0.021756021756021756
         },
         {
          "x": "washingtontimes.com",
          "y": "yahoo.com",
          "z": 0.004225213717205464
         },
         {
          "x": "wsj.com",
          "y": "apnews.com",
          "z": 0.0170010872788376
         },
         {
          "x": "wsj.com",
          "y": "bbc.co.uk",
          "z": 0.027598530725702373
         },
         {
          "x": "wsj.com",
          "y": "bloomberg.com",
          "z": 0.07344294967613353
         },
         {
          "x": "wsj.com",
          "y": "breitbart.com",
          "z": 0.01245674740484429
         },
         {
          "x": "wsj.com",
          "y": "businessinsider.com",
          "z": 0.008880647994534986
         },
         {
          "x": "wsj.com",
          "y": "buzzfeed.com",
          "z": 0.004647943037974683
         },
         {
          "x": "wsj.com",
          "y": "cbc.ca",
          "z": 0.010548313265001493
         },
         {
          "x": "wsj.com",
          "y": "cbsnews.com",
          "z": 0.014986376021798364
         },
         {
          "x": "wsj.com",
          "y": "cnbc.com",
          "z": 0.0277337559429477
         },
         {
          "x": "wsj.com",
          "y": "cnn.com",
          "z": 0.01786948366077599
         },
         {
          "x": "wsj.com",
          "y": "dailycaller.com",
          "z": 0.012143766526295173
         },
         {
          "x": "wsj.com",
          "y": "dailykos.com",
          "z": 0.008064516129032258
         },
         {
          "x": "wsj.com",
          "y": "forbes.com",
          "z": 0.042884212625910044
         },
         {
          "x": "wsj.com",
          "y": "foxnews.com",
          "z": 0.007304382629577747
         },
         {
          "x": "wsj.com",
          "y": "ft.com",
          "z": 0.0982355273592387
         },
         {
          "x": "wsj.com",
          "y": "huffingtonpost.com",
          "z": 0.010917674830333431
         },
         {
          "x": "wsj.com",
          "y": "inc.com",
          "z": 0.011111111111111112
         },
         {
          "x": "wsj.com",
          "y": "independent.co.uk",
          "z": 0.003445560149635755
         },
         {
          "x": "wsj.com",
          "y": "msn.com",
          "z": 0.005026116093426628
         },
         {
          "x": "wsj.com",
          "y": "nbcnews.com",
          "z": 0.009547738693467337
         },
         {
          "x": "wsj.com",
          "y": "newsweek.com",
          "z": 0.007004202521512908
         },
         {
          "x": "wsj.com",
          "y": "npr.org",
          "z": 0.029261083743842363
         },
         {
          "x": "wsj.com",
          "y": "nydailynews.com",
          "z": 0.008950526212255335
         },
         {
          "x": "wsj.com",
          "y": "nypost.com",
          "z": 0.016303807535540314
         },
         {
          "x": "wsj.com",
          "y": "nytimes.com",
          "z": 0.026475343573160875
         },
         {
          "x": "wsj.com",
          "y": "rawstory.com",
          "z": 0.008065319127750673
         },
         {
          "x": "wsj.com",
          "y": "reuters.com",
          "z": 0.054764512595837894
         },
         {
          "x": "wsj.com",
          "y": "rt.com",
          "z": 0.009797198001371608
         },
         {
          "x": "wsj.com",
          "y": "sputniknews.com",
          "z": 0.012929332806948282
         },
         {
          "x": "wsj.com",
          "y": "telegraph.co.uk",
          "z": 0.006696208764155588
         },
         {
          "x": "wsj.com",
          "y": "theguardian.com",
          "z": 0.019178358736247098
         },
         {
          "x": "wsj.com",
          "y": "thehill.com",
          "z": 0.021668150786583556
         },
         {
          "x": "wsj.com",
          "y": "thetimes.co.uk",
          "z": 0.03580562659846547
         },
         {
          "x": "wsj.com",
          "y": "time.com",
          "z": 0.00897612941408562
         },
         {
          "x": "wsj.com",
          "y": "usatoday.com",
          "z": 0.010494311494703805
         },
         {
          "x": "wsj.com",
          "y": "variety.com",
          "z": 0.03308859520313265
         },
         {
          "x": "wsj.com",
          "y": "vice.com",
          "z": 0.016660055533518445
         },
         {
          "x": "wsj.com",
          "y": "washingtonexaminer.com",
          "z": 0.016859006522829904
         },
         {
          "x": "wsj.com",
          "y": "washingtonpost.com",
          "z": 0.01706787687450671
         },
         {
          "x": "wsj.com",
          "y": "washingtontimes.com",
          "z": 0.028243512974051897
         },
         {
          "x": "wsj.com",
          "y": "wsj.com",
          "z": 0
         },
         {
          "x": "wsj.com",
          "y": "yahoo.com",
          "z": 0.004519996069568635
         },
         {
          "x": "yahoo.com",
          "y": "apnews.com",
          "z": 0.0430957793812395
         },
         {
          "x": "yahoo.com",
          "y": "bbc.co.uk",
          "z": 0.04546808299414276
         },
         {
          "x": "yahoo.com",
          "y": "bloomberg.com",
          "z": 0.021524663677130046
         },
         {
          "x": "yahoo.com",
          "y": "breitbart.com",
          "z": 0.01591695501730104
         },
         {
          "x": "yahoo.com",
          "y": "businessinsider.com",
          "z": 0.035229823362935495
         },
         {
          "x": "yahoo.com",
          "y": "buzzfeed.com",
          "z": 0.017306170886075948
         },
         {
          "x": "yahoo.com",
          "y": "cbc.ca",
          "z": 0.031346402627127075
         },
         {
          "x": "yahoo.com",
          "y": "cbsnews.com",
          "z": 0.020435967302452316
         },
         {
          "x": "yahoo.com",
          "y": "cnbc.com",
          "z": 0.022286053882725834
         },
         {
          "x": "yahoo.com",
          "y": "cnn.com",
          "z": 0.015796228650409715
         },
         {
          "x": "yahoo.com",
          "y": "dailycaller.com",
          "z": 0.01439623934972089
         },
         {
          "x": "yahoo.com",
          "y": "dailykos.com",
          "z": 0.018752429071123202
         },
         {
          "x": "yahoo.com",
          "y": "forbes.com",
          "z": 0.03041787174628503
         },
         {
          "x": "yahoo.com",
          "y": "foxnews.com",
          "z": 0.02091254752851711
         },
         {
          "x": "yahoo.com",
          "y": "ft.com",
          "z": 0.027656621728786676
         },
         {
          "x": "yahoo.com",
          "y": "huffingtonpost.com",
          "z": 0.015737188944624766
         },
         {
          "x": "yahoo.com",
          "y": "inc.com",
          "z": 0.014384920634920634
         },
         {
          "x": "yahoo.com",
          "y": "independent.co.uk",
          "z": 0.025398700531600708
         },
         {
          "x": "yahoo.com",
          "y": "msn.com",
          "z": 0.01695082290332118
         },
         {
          "x": "yahoo.com",
          "y": "nbcnews.com",
          "z": 0.012864321608040201
         },
         {
          "x": "yahoo.com",
          "y": "newsweek.com",
          "z": 0.027116269761857114
         },
         {
          "x": "yahoo.com",
          "y": "npr.org",
          "z": 0.017733990147783252
         },
         {
          "x": "yahoo.com",
          "y": "nydailynews.com",
          "z": 0.01976984361168486
         },
         {
          "x": "yahoo.com",
          "y": "nypost.com",
          "z": 0.03211054776816781
         },
         {
          "x": "yahoo.com",
          "y": "nytimes.com",
          "z": 0.01434923201293452
         },
         {
          "x": "yahoo.com",
          "y": "rawstory.com",
          "z": 0.017225928507418102
         },
         {
          "x": "yahoo.com",
          "y": "reuters.com",
          "z": 0.048989345813004084
         },
         {
          "x": "yahoo.com",
          "y": "rt.com",
          "z": 0.016067404722249438
         },
         {
          "x": "yahoo.com",
          "y": "sputniknews.com",
          "z": 0.026944334780892223
         },
         {
          "x": "yahoo.com",
          "y": "telegraph.co.uk",
          "z": 0.014180206794682423
         },
         {
          "x": "yahoo.com",
          "y": "theguardian.com",
          "z": 0.018572726355102452
         },
         {
          "x": "yahoo.com",
          "y": "thehill.com",
          "z": 0.018996734936182844
         },
         {
          "x": "yahoo.com",
          "y": "thetimes.co.uk",
          "z": 0.0258705488884517
         },
         {
          "x": "yahoo.com",
          "y": "time.com",
          "z": 0.025547445255474453
         },
         {
          "x": "yahoo.com",
          "y": "usatoday.com",
          "z": 0.048842683405256965
         },
         {
          "x": "yahoo.com",
          "y": "variety.com",
          "z": 0.030543318649045522
         },
         {
          "x": "yahoo.com",
          "y": "vice.com",
          "z": 0.022213407378024592
         },
         {
          "x": "yahoo.com",
          "y": "washingtonexaminer.com",
          "z": 0.017762167586552934
         },
         {
          "x": "yahoo.com",
          "y": "washingtonpost.com",
          "z": 0.011838989739542225
         },
         {
          "x": "yahoo.com",
          "y": "washingtontimes.com",
          "z": 0.021956087824351298
         },
         {
          "x": "yahoo.com",
          "y": "wsj.com",
          "z": 0.018842268842268844
         },
         {
          "x": "yahoo.com",
          "y": "yahoo.com",
          "z": 0
         }
        ]
       },
       "encoding": {
        "color": {
         "field": "z",
         "type": "quantitative"
        },
        "tooltip": {
         "field": "x",
         "type": "nominal"
        },
        "x": {
         "field": "x",
         "type": "ordinal"
        },
        "y": {
         "field": "y",
         "type": "ordinal"
        }
       },
       "mark": "rect"
      },
      "image/png": "[encoded data removed]",
      "text/plain": [
       "<VegaLite 2 object>\n",
       "\n",
       "If you see this message, it means the renderer has not been properly enabled\n",
       "for the frontend that you are using. For more information, see\n",
       "https://altair-viz.github.io/user_guide/troubleshooting.html\n"
      ]
     },
     "execution_count": 92,
     "metadata": {},
     "output_type": "execute_result"
    }
   ],
   "source": [
    "alt.Chart(cm_df).mark_rect().encode(x='x:O', y='y:O', color='z:Q', tooltip='x')"
   ]
  }
 ],
 "metadata": {
  "kernelspec": {
   "display_name": "Python 3",
   "language": "python",
   "name": "python3"
  },
  "language_info": {
   "codemirror_mode": {
    "name": "ipython",
    "version": 3
   },
   "file_extension": ".py",
   "mimetype": "text/x-python",
   "name": "python",
   "nbconvert_exporter": "python",
   "pygments_lexer": "ipython3",
   "version": "3.7.0"
  }
 },
 "nbformat": 4,
 "nbformat_minor": 2
}
