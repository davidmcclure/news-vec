{
 "cells": [
  {
   "cell_type": "code",
   "execution_count": 9,
   "metadata": {},
   "outputs": [],
   "source": [
    "import numpy as np\n",
    "import torch\n",
    "\n",
    "from torch.nn import functional as F\n",
    "\n",
    "from news_vec.encoder import read_preds"
   ]
  },
  {
   "cell_type": "code",
   "execution_count": 13,
   "metadata": {},
   "outputs": [],
   "source": [
    "import matplotlib as mpl\n",
    "import matplotlib.pyplot as plt\n",
    "import altair as alt\n",
    "import seaborn as sns\n",
    "\n",
    "mpl.style.use('seaborn-muted')\n",
    "sns.set(style=\"whitegrid\")"
   ]
  },
  {
   "cell_type": "code",
   "execution_count": 112,
   "metadata": {},
   "outputs": [
    {
     "name": "stderr",
     "output_type": "stream",
     "text": [
      "100%|██████████| 283/283 [00:15<00:00, 18.48it/s]\n"
     ]
    }
   ],
   "source": [
    "df, embeds = read_preds('../data/ava-lstm/')"
   ]
  },
  {
   "cell_type": "code",
   "execution_count": 120,
   "metadata": {},
   "outputs": [],
   "source": [
    "df1 = df[df.domain=='thehill.com']\n",
    "df2 = df[df.domain=='dailycaller.com']"
   ]
  },
  {
   "cell_type": "code",
   "execution_count": 121,
   "metadata": {},
   "outputs": [],
   "source": [
    "d1_embeds = embeds[df1.index]\n",
    "d2_embeds = embeds[df2.index]"
   ]
  },
  {
   "cell_type": "code",
   "execution_count": 122,
   "metadata": {},
   "outputs": [],
   "source": [
    "idx1 = np.random.choice(range(len(d1_embeds)), 1000000)\n",
    "idx2 = np.random.choice(range(len(d2_embeds)), 1000000)\n",
    "\n",
    "x1 = torch.from_numpy(d1_embeds[idx1])\n",
    "x2 = torch.from_numpy(d2_embeds[idx2])\n",
    "\n",
    "ds = F.cosine_similarity(x1, x2)\n",
    "ds = -(ds.numpy() - 1)"
   ]
  },
  {
   "cell_type": "code",
   "execution_count": 123,
   "metadata": {},
   "outputs": [
    {
     "data": {
      "text/plain": [
       "array([0.50905025, 0.9741248 , 0.8717294 , ..., 0.45776117, 1.2275153 ,\n",
       "       0.9101112 ], dtype=float32)"
      ]
     },
     "execution_count": 123,
     "metadata": {},
     "output_type": "execute_result"
    }
   ],
   "source": [
    "ds"
   ]
  },
  {
   "cell_type": "code",
   "execution_count": 124,
   "metadata": {},
   "outputs": [
    {
     "data": {
      "text/plain": [
       "<matplotlib.axes._subplots.AxesSubplot at 0x16b266a20>"
      ]
     },
     "execution_count": 124,
     "metadata": {},
     "output_type": "execute_result"
    },
    {
     "data": {
      "image/png": "[encoded data removed]",
      "text/plain": [
       "<Figure size 432x288 with 1 Axes>"
      ]
     },
     "metadata": {
      "needs_background": "light"
     },
     "output_type": "display_data"
    }
   ],
   "source": [
    "sns.distplot(ds)"
   ]
  },
  {
   "cell_type": "code",
   "execution_count": 125,
   "metadata": {},
   "outputs": [],
   "source": [
    "close_idxs = np.argsort(ds)[:100]"
   ]
  },
  {
   "cell_type": "code",
   "execution_count": 126,
   "metadata": {},
   "outputs": [
    {
     "name": "stdout",
     "output_type": "stream",
     "text": [
      "pompeo called to white house after meeting with bolton haley cancelled ---- house intel committee to hold hearing amid tense standoff over trump dossier\n",
      "we will grow our majority in midterms ---- we will overcome together as americans\n",
      "first house dem calls on conyers to resign ---- dem reads trump tweets during sessions hearing\n",
      "dems want rohrabacher pulled from leadership of panel overseeing russia ---- dems fear bitterly disappointing loss in georgia special election\n",
      "i do nt consider myself a democrat ---- i do nt think murder should be legal\n",
      "dem senator calls for action on guns in first floor speech ---- dems slated to introduce bill providing green cards to illegal\n",
      "conservative groups urge house members to back transformative tax reform ---- congress set to defund planned parenthood in aggressive legislative push\n",
      "trump will absolutely ban muslims ---- trump could be attacking me because i m black\n",
      "trump regrets decision to fire flynn ---- trump responds to letter from bush family\n",
      "we did nt have anything to do withe mccabe decision ---- i was going to fire comey regardless\n",
      "dems accuse trump of obamacare enrollment sabotage ---- dems demand early voting in ga special election\n",
      "cnn s borger dismisses dnc lawsuit against russia trump wikileaks as a stunt ---- ben shapiro straight up calls out cnn s gun coverage to brian stelter s face\n",
      "dems showed dignity during trump speech ---- dems already blaming ossoff loss on hacks\n",
      "unemployment claims fall to # year low ---- unemployment rate hits # year low\n",
      "dems ignored middle class in # ---- new report urges dems not to go far left\n",
      "dem senator fears russian election interference could be normalized ---- dems under fire for releasing sensitive epa docs on pruitt s security\n",
      "none of the sotu guests being leaked is great sign of a very tight white house ---- there probably is nt a special counsel coming for hillary comey or uranium one\n",
      "judge blocks gun control groups lawsuit to stop downloadable #d printed guns ---- gop lawmakers introduce censure measure call on maxine waters to resign\n",
      "trump shocks gop by siding with dems ---- trump may live tweet comey hearing\n",
      "mlk daughter rips kelly s irresponsible ---- tx dem admits to assaulting gop colleague\n",
      "dem senator fixes trump tweet on immigration ---- # dems urge trump to cancel putin meeting\n",
      "nsc aide fired after producing memo that alleged political warfare plots against trump ---- fbi turned over docs to congress detailing why they never pressed charges against hillary\n",
      "dems launch pro ossoff ad blitz in georgia ---- dem rep claims women can invite sexual assault\n",
      "dems give up when i come to town for campaign rallies ---- dem lawmakers move to prevent trump from firing mueller\n",
      "manchin first dem to announce support for gorsuch ---- prominent dems willing to shut down government for dreamers\n",
      "dem lawmakers call for trump travel expense reports ---- dems look to block us russia cybersecurity unit\n",
      "trump admin must enforce obama methane leak rule for oil and gas drillers ---- filibustering gorsuch will deliver senate dems a self inflicted wound\n",
      "dems hunt for a win in montana special election ---- dems threaten trump in all caps over national monuments\n",
      "mcconnell to pin down colleagues on healthcare ---- pelosi pledges to work with republicans on healthcare\n",
      "i m all in for trump ---- i ve been worse treated than trump\n",
      "biden to headline house dem retreat ---- dems clear path for pompeo s nomination\n",
      "manchin almost did nt run for re election told schumer this place sucks ---- schumer whines because trump did not consult him on supreme court pick\n",
      "media should calm down about cohen payments ---- media should stop covering trump\n",
      "congress must act to protect data privacy before courts make surveillance even easier ---- scientists sue epa for not letting them take taxpayer money and serve on advisory boards\n",
      "former dem rep rips trump for inability to work with his own staff ---- dems demand shutdown despite years of slamming gop for the same thing\n",
      "celebrate the national voter registration act by building a more inclusive democracy ---- minimum wage welfare programs may be increasing poverty in poor neighborhoods\n",
      "dems ask trump officials for briefing on obamacare ---- dems floats public option as solution to obamacare woes\n",
      "gop hopes to capitalize on crowded dem primaries ---- gop faces last ditch effort to repeal obamacare\n",
      "senators introduce bill to change process to levy national security tariffs ---- gop defends president s decision to add bannon to national security council\n",
      "dem touts bill to decentralize the federal government ---- dem senator s buddy hit with # counts of fraud\n",
      "dem leaders break with pelosi over conyers ---- mccarthy ryan meet with top dems to talk daca\n",
      "dems whipping against emergency storm funding ---- dnc hacker emailed dem voter turnouts to gop consultant\n",
      "half want dems to control congress after # ---- meadows blames harvey for debt deal with dems\n",
      "trump official tells coal group he s an advocate for the coal industry ---- house passes bill to rework the most expensive epa regulation ever\n",
      "i do nt respect this president ---- i am proud to serve my country\n",
      "i m not going to let anything get me down ---- i have no disagreements with trump\n",
      "intel dem blasts decision to cancel public hearing ---- dems hint they will work with gop on tax reform\n",
      "melania trump makes first solo trip abroad as first lady ---- melania trump releases amazing video of macron s visit\n",
      "philippine extremist group releases video of german hostage s beheading ---- senior chinese official publicly challenges china s extensive internet censorship\n",
      "house dem hits smugglers for helping hobby lobby move stolen artifacts into us ---- court docs allegedly reveal ny ag used private emails white pursuing exxon\n",
      "dem seeks to block us troops going to syria after marines deployed ---- dem wants to block trump from nuclear first strike without congressional permission\n",
      "prominent progressive group backs dems for open seats ---- dems hint they will work with gop on tax reform\n",
      "gop chairwoman blasts dem governor s ridiculous comments on america s division ---- dem rep flips after army refuses to rename confederate street names on base\n",
      "dems call for obamacare hearings in the house ---- dem official submits dnc resolution blaming comey for # loss\n",
      "clinton mocks putin for manspreading ---- usaa backs down in hannity boycott\n",
      "kasich starts ncaa bracket challenge to fight against human trafficking ---- nato chief thanks trump for pushing allies to boost defense spending\n",
      "anti abortion group to launch tour pressing red state dems to vote for kavanaugh ---- dem candidate dragged off stage by cops after rambling during gubernatorial debate\n",
      "trump will not be president ---- trump has decided to fire mcmaster\n",
      "dem memo does nt change anything proves intel abuse occurred ---- dem megadonor compares trump s epa to stalin\n",
      "dem wants epa nomination vote delayed ---- murkowski throws support behind gop tax bill\n",
      "black women leaders rip into top dems for not defending maxine waters ---- establishment media parroted dem talking points about the nunes memo\n",
      "dem rep goes after trump for fundraiser at his dc hotel ---- dem rep doubles down on getting trump impeached\n",
      "dems think trump can deliver suburbs to their party ---- new report urges dems not to go far left\n",
      "dems ask trump officials for briefing on obamacare ---- schumer invites trump to testify on capitol hill\n",
      "trump official tells coal group he s an advocate for the coal industry ---- house takes first step in allowing states to defund planned parenthood\n",
      "trump attacking freedom of the press ---- trump working hard to be the least effective president ever\n",
      "trump thinks sexual misconduct accusations taking down prominent men is out of control ---- trump sexual assault accuser sent glowing email to his assistant in april\n",
      "obama breaks from precedent in asking congress for approval to strike syria ---- judge knocks sanctuary city seeking relief from trump s immigration order\n",
      "dem sen demands answers from zuckerberg over facebook cambridge scandal ---- brennan ran intel policy through obama wh frustrating intel community\n",
      "dems slam proposed charges to endangered species act ---- dem candidates racking in record breaking donations\n",
      "dem becomes first latina openly gay candidate to win major party nomination for texas gov ---- dems plan to use millions in taxpayer money to keep illegal immigrants from being deported\n",
      "facebook to release ads purchased by kremlin linked groups during # election ---- national anthem protests put pressure on lawmakers to defund sports arenas\n",
      "pro obamacare groups target republicans who voted for healthcare plan ---- ossoff campaign bans conservative media outlet from campaign event\n",
      "white house acknowledges frustration with mcconnell ---- white house felt reprieve after school shooting\n",
      "political economic responses to high oil price no longer in lockstep ---- gop s move to preserve green energy credits comes at high price for enviros\n",
      "polls show trump doing well despite media s narrative ---- trump calls fake news on cnn gun safety town hall\n",
      "democrats find dead man s signature on petition gathered by gop volunteers ---- judge knocks sanctuary city seeking relief from trump s immigration order\n",
      "protesters confront ivanka about family separation ---- rohrabacher aide fired after russia revelations\n",
      "trump administration eyes help for obamacare insurers ---- trump advisers push to privatize infrastructure\n",
      "i m very likely to run against cruz ---- trump had nothing to do with mccabe retirement\n",
      "trump is a coward for not acting on gun control ---- trump s silence on roy moore makes him complicit\n",
      "kavanaugh will give trump power to overreach ---- trump very eager to meet with mueller\n",
      "dems target trump administration s use of military planes in defense bill debate ---- epa progresses through hundreds of foia requests left unanswered under obama\n",
      "virginia dem slams trump over global warming tweet ---- trump rips dems for obstructing nominations\n",
      "kid rock hints at senate run announcement ---- minnesota dems call for franken s head\n",
      "trump thanks fallen service members in first memorial day remarks as president ---- suspicious packages sent to dc military bases contained explosive materials\n",
      "prominent progressive group backs dems for open seats ---- dems slated to introduce bill providing green cards to illegal\n",
      "tucker carlson knocks espn after host calls trump a white supremacist ---- jim acosta asked if shutdown caused by trump s lack of leadership\n",
      "paul calls for bipartisan daca solution ---- gop prepares revenge on florida dems\n",
      "kimmel thanks collins for putting people ahead of party by opposing graham cassidy ---- rosie odonnell and broadway performers protest outside white house trump in new jersey\n",
      "washington court rules against florist who refused flowers for gay wedding ---- minnesota public schools to segregate students who object to transgender guidelines\n",
      "pruitt met with fossil fuel reps # times more than environmentalists in first seven months ---- trump bashes dems for refusing to applaud for record low black unemployment\n",
      "trump has a complete indifference to truth ---- attacking trump will achieve nothing\n",
      "dems take over senate floor to protest end of daca ---- charlottesville dem mayor blames trump for unrest\n",
      "janet yellen seals fate as reigning champion of wall street regulation ---- uw madison dismisses demands to brand abe lincoln a genocidal oppressor\n",
      "obama could nt have wiretapped trump ---- clinton even more unfavorable than trump\n",
      "kushner has security clearance downgraded ---- trump considering another controversial pardon\n",
      "planned parenthood sues over trump s changes to teen pregnancy prevention program ---- senate gives government two months to figure out how to pay for new fbi headquarters\n",
      "democratic candidate jd scholten talks about his run against steve king in iowa s #th congressional district ---- confusion in super close alaska primary after # voter registrations trace back to a single mobile home\n",
      "wh interviewed candidate for press secretary ---- dem reads trump tweets during sessions hearing\n"
     ]
    }
   ],
   "source": [
    "for i1, i2 in zip(idx1[close_idxs], idx2[close_idxs]):\n",
    "    print(' '.join(df1.iloc[i1].clf_tokens), '----', ' '.join(df2.iloc[i2].clf_tokens))"
   ]
  },
  {
   "cell_type": "code",
   "execution_count": null,
   "metadata": {},
   "outputs": [],
   "source": []
  }
 ],
 "metadata": {
  "kernelspec": {
   "display_name": "Python 3",
   "language": "python",
   "name": "python3"
  },
  "language_info": {
   "codemirror_mode": {
    "name": "ipython",
    "version": 3
   },
   "file_extension": ".py",
   "mimetype": "text/x-python",
   "name": "python",
   "nbconvert_exporter": "python",
   "pygments_lexer": "ipython3",
   "version": "3.7.0"
  }
 },
 "nbformat": 4,
 "nbformat_minor": 2
}
